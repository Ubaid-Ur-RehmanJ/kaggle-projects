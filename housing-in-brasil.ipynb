{
 "cells": [
  {
   "cell_type": "code",
   "execution_count": 1,
   "id": "6248e9e4",
   "metadata": {
    "_cell_guid": "b1076dfc-b9ad-4769-8c92-a6c4dae69d19",
    "_uuid": "8f2839f25d086af736a60e9eeb907d3b93b6e0e5",
    "execution": {
     "iopub.execute_input": "2022-12-03T11:10:41.628101Z",
     "iopub.status.busy": "2022-12-03T11:10:41.627578Z",
     "iopub.status.idle": "2022-12-03T11:10:41.649049Z",
     "shell.execute_reply": "2022-12-03T11:10:41.647592Z"
    },
    "papermill": {
     "duration": 0.032049,
     "end_time": "2022-12-03T11:10:41.652604",
     "exception": false,
     "start_time": "2022-12-03T11:10:41.620555",
     "status": "completed"
    },
    "tags": []
   },
   "outputs": [
    {
     "name": "stdout",
     "output_type": "stream",
     "text": [
      "/kaggle/input/housing-prices-in-so-paulobrasil/dados_final_v2.csv\n"
     ]
    }
   ],
   "source": [
    "# This Python 3 environment comes with many helpful analytics libraries installed\n",
    "# It is defined by the kaggle/python Docker image: https://github.com/kaggle/docker-python\n",
    "# For example, here's several helpful packages to load\n",
    "\n",
    "import numpy as np # linear algebra\n",
    "import pandas as pd # data processing, CSV file I/O (e.g. pd.read_csv)\n",
    "\n",
    "# Input data files are available in the read-only \"../input/\" directory\n",
    "# For example, running this (by clicking run or pressing Shift+Enter) will list all files under the input directory\n",
    "\n",
    "import os\n",
    "for dirname, _, filenames in os.walk('/kaggle/input'):\n",
    "    for filename in filenames:\n",
    "        print(os.path.join(dirname, filename))\n",
    "\n",
    "# You can write up to 20GB to the current directory (/kaggle/working/) that gets preserved as output when you create a version using \"Save & Run All\" \n",
    "# You can also write temporary files to /kaggle/temp/, but they won't be saved outside of the current session"
   ]
  },
  {
   "cell_type": "code",
   "execution_count": 2,
   "id": "082d2d87",
   "metadata": {
    "execution": {
     "iopub.execute_input": "2022-12-03T11:10:41.663576Z",
     "iopub.status.busy": "2022-12-03T11:10:41.662995Z",
     "iopub.status.idle": "2022-12-03T11:10:41.668602Z",
     "shell.execute_reply": "2022-12-03T11:10:41.667417Z"
    },
    "papermill": {
     "duration": 0.013692,
     "end_time": "2022-12-03T11:10:41.670910",
     "exception": false,
     "start_time": "2022-12-03T11:10:41.657218",
     "status": "completed"
    },
    "tags": []
   },
   "outputs": [],
   "source": [
    "import pandas as pd\n",
    "import numpy as np\n",
    "import matplotlib.pyplot as plt"
   ]
  },
  {
   "cell_type": "code",
   "execution_count": 3,
   "id": "63084161",
   "metadata": {
    "execution": {
     "iopub.execute_input": "2022-12-03T11:10:41.680933Z",
     "iopub.status.busy": "2022-12-03T11:10:41.680504Z",
     "iopub.status.idle": "2022-12-03T11:10:41.729481Z",
     "shell.execute_reply": "2022-12-03T11:10:41.728244Z"
    },
    "papermill": {
     "duration": 0.056966,
     "end_time": "2022-12-03T11:10:41.732089",
     "exception": false,
     "start_time": "2022-12-03T11:10:41.675123",
     "status": "completed"
    },
    "tags": []
   },
   "outputs": [
    {
     "data": {
      "text/html": [
       "<div>\n",
       "<style scoped>\n",
       "    .dataframe tbody tr th:only-of-type {\n",
       "        vertical-align: middle;\n",
       "    }\n",
       "\n",
       "    .dataframe tbody tr th {\n",
       "        vertical-align: top;\n",
       "    }\n",
       "\n",
       "    .dataframe thead th {\n",
       "        text-align: right;\n",
       "    }\n",
       "</style>\n",
       "<table border=\"1\" class=\"dataframe\">\n",
       "  <thead>\n",
       "    <tr style=\"text-align: right;\">\n",
       "      <th></th>\n",
       "      <th>Bairro</th>\n",
       "      <th>preco</th>\n",
       "      <th>Data</th>\n",
       "      <th>Dormitorios</th>\n",
       "    </tr>\n",
       "  </thead>\n",
       "  <tbody>\n",
       "    <tr>\n",
       "      <th>0</th>\n",
       "      <td>ACLIMAÇÃO</td>\n",
       "      <td>8664.0</td>\n",
       "      <td>2018-01-01</td>\n",
       "      <td>1</td>\n",
       "    </tr>\n",
       "    <tr>\n",
       "      <th>1</th>\n",
       "      <td>ALTO DA BOA VISTA</td>\n",
       "      <td>10175.0</td>\n",
       "      <td>2018-01-01</td>\n",
       "      <td>1</td>\n",
       "    </tr>\n",
       "    <tr>\n",
       "      <th>2</th>\n",
       "      <td>BARRA FUNDA</td>\n",
       "      <td>9209.0</td>\n",
       "      <td>2018-01-01</td>\n",
       "      <td>1</td>\n",
       "    </tr>\n",
       "    <tr>\n",
       "      <th>3</th>\n",
       "      <td>BELA VISTA</td>\n",
       "      <td>8466.0</td>\n",
       "      <td>2018-01-01</td>\n",
       "      <td>1</td>\n",
       "    </tr>\n",
       "    <tr>\n",
       "      <th>4</th>\n",
       "      <td>BELÉM</td>\n",
       "      <td>5909.0</td>\n",
       "      <td>2018-01-01</td>\n",
       "      <td>1</td>\n",
       "    </tr>\n",
       "  </tbody>\n",
       "</table>\n",
       "</div>"
      ],
      "text/plain": [
       "              Bairro    preco        Data  Dormitorios\n",
       "0          ACLIMAÇÃO   8664.0  2018-01-01            1\n",
       "1  ALTO DA BOA VISTA  10175.0  2018-01-01            1\n",
       "2        BARRA FUNDA   9209.0  2018-01-01            1\n",
       "3         BELA VISTA   8466.0  2018-01-01            1\n",
       "4              BELÉM   5909.0  2018-01-01            1"
      ]
     },
     "execution_count": 3,
     "metadata": {},
     "output_type": "execute_result"
    }
   ],
   "source": [
    "df = pd.read_csv(\"/kaggle/input/housing-prices-in-so-paulobrasil/dados_final_v2.csv\")\n",
    "df.head()"
   ]
  },
  {
   "cell_type": "code",
   "execution_count": 4,
   "id": "51b4a756",
   "metadata": {
    "execution": {
     "iopub.execute_input": "2022-12-03T11:10:41.743132Z",
     "iopub.status.busy": "2022-12-03T11:10:41.742275Z",
     "iopub.status.idle": "2022-12-03T11:10:41.749817Z",
     "shell.execute_reply": "2022-12-03T11:10:41.748697Z"
    },
    "papermill": {
     "duration": 0.015515,
     "end_time": "2022-12-03T11:10:41.752127",
     "exception": false,
     "start_time": "2022-12-03T11:10:41.736612",
     "status": "completed"
    },
    "tags": []
   },
   "outputs": [
    {
     "data": {
      "text/plain": [
       "(6240, 4)"
      ]
     },
     "execution_count": 4,
     "metadata": {},
     "output_type": "execute_result"
    }
   ],
   "source": [
    "df.shape"
   ]
  },
  {
   "cell_type": "code",
   "execution_count": 5,
   "id": "2b65f6b1",
   "metadata": {
    "execution": {
     "iopub.execute_input": "2022-12-03T11:10:41.762865Z",
     "iopub.status.busy": "2022-12-03T11:10:41.762417Z",
     "iopub.status.idle": "2022-12-03T11:10:41.771378Z",
     "shell.execute_reply": "2022-12-03T11:10:41.770001Z"
    },
    "papermill": {
     "duration": 0.017158,
     "end_time": "2022-12-03T11:10:41.773788",
     "exception": false,
     "start_time": "2022-12-03T11:10:41.756630",
     "status": "completed"
    },
    "tags": []
   },
   "outputs": [
    {
     "data": {
      "text/plain": [
       "Bairro          object\n",
       "preco          float64\n",
       "Data            object\n",
       "Dormitorios      int64\n",
       "dtype: object"
      ]
     },
     "execution_count": 5,
     "metadata": {},
     "output_type": "execute_result"
    }
   ],
   "source": [
    "df.dtypes"
   ]
  },
  {
   "cell_type": "code",
   "execution_count": 6,
   "id": "f8ee39d5",
   "metadata": {
    "execution": {
     "iopub.execute_input": "2022-12-03T11:10:41.785011Z",
     "iopub.status.busy": "2022-12-03T11:10:41.784520Z",
     "iopub.status.idle": "2022-12-03T11:10:41.804539Z",
     "shell.execute_reply": "2022-12-03T11:10:41.802584Z"
    },
    "papermill": {
     "duration": 0.030441,
     "end_time": "2022-12-03T11:10:41.808874",
     "exception": false,
     "start_time": "2022-12-03T11:10:41.778433",
     "status": "completed"
    },
    "tags": []
   },
   "outputs": [],
   "source": [
    "df[\"Data\"] = pd.to_datetime(df[\"Data\"])"
   ]
  },
  {
   "cell_type": "code",
   "execution_count": 7,
   "id": "b9e077af",
   "metadata": {
    "execution": {
     "iopub.execute_input": "2022-12-03T11:10:41.821338Z",
     "iopub.status.busy": "2022-12-03T11:10:41.820776Z",
     "iopub.status.idle": "2022-12-03T11:10:41.836205Z",
     "shell.execute_reply": "2022-12-03T11:10:41.834237Z"
    },
    "papermill": {
     "duration": 0.026873,
     "end_time": "2022-12-03T11:10:41.840765",
     "exception": false,
     "start_time": "2022-12-03T11:10:41.813892",
     "status": "completed"
    },
    "tags": []
   },
   "outputs": [
    {
     "data": {
      "text/plain": [
       "Bairro                 object\n",
       "preco                 float64\n",
       "Data           datetime64[ns]\n",
       "Dormitorios             int64\n",
       "dtype: object"
      ]
     },
     "execution_count": 7,
     "metadata": {},
     "output_type": "execute_result"
    }
   ],
   "source": [
    "df.dtypes"
   ]
  },
  {
   "cell_type": "code",
   "execution_count": 8,
   "id": "8374ef9c",
   "metadata": {
    "execution": {
     "iopub.execute_input": "2022-12-03T11:10:41.857863Z",
     "iopub.status.busy": "2022-12-03T11:10:41.857224Z",
     "iopub.status.idle": "2022-12-03T11:10:41.877689Z",
     "shell.execute_reply": "2022-12-03T11:10:41.876065Z"
    },
    "papermill": {
     "duration": 0.031136,
     "end_time": "2022-12-03T11:10:41.880700",
     "exception": false,
     "start_time": "2022-12-03T11:10:41.849564",
     "status": "completed"
    },
    "tags": []
   },
   "outputs": [
    {
     "data": {
      "text/html": [
       "<div>\n",
       "<style scoped>\n",
       "    .dataframe tbody tr th:only-of-type {\n",
       "        vertical-align: middle;\n",
       "    }\n",
       "\n",
       "    .dataframe tbody tr th {\n",
       "        vertical-align: top;\n",
       "    }\n",
       "\n",
       "    .dataframe thead th {\n",
       "        text-align: right;\n",
       "    }\n",
       "</style>\n",
       "<table border=\"1\" class=\"dataframe\">\n",
       "  <thead>\n",
       "    <tr style=\"text-align: right;\">\n",
       "      <th></th>\n",
       "      <th>preco</th>\n",
       "      <th>Dormitorios</th>\n",
       "    </tr>\n",
       "  </thead>\n",
       "  <tbody>\n",
       "    <tr>\n",
       "      <th>preco</th>\n",
       "      <td>1.000000</td>\n",
       "      <td>0.006313</td>\n",
       "    </tr>\n",
       "    <tr>\n",
       "      <th>Dormitorios</th>\n",
       "      <td>0.006313</td>\n",
       "      <td>1.000000</td>\n",
       "    </tr>\n",
       "  </tbody>\n",
       "</table>\n",
       "</div>"
      ],
      "text/plain": [
       "                preco  Dormitorios\n",
       "preco        1.000000     0.006313\n",
       "Dormitorios  0.006313     1.000000"
      ]
     },
     "execution_count": 8,
     "metadata": {},
     "output_type": "execute_result"
    }
   ],
   "source": [
    "df[[\"preco\", \"Dormitorios\"]].corr()"
   ]
  },
  {
   "cell_type": "code",
   "execution_count": 9,
   "id": "a3b46bc9",
   "metadata": {
    "execution": {
     "iopub.execute_input": "2022-12-03T11:10:41.892538Z",
     "iopub.status.busy": "2022-12-03T11:10:41.892070Z",
     "iopub.status.idle": "2022-12-03T11:10:41.899424Z",
     "shell.execute_reply": "2022-12-03T11:10:41.898414Z"
    },
    "papermill": {
     "duration": 0.015862,
     "end_time": "2022-12-03T11:10:41.901595",
     "exception": false,
     "start_time": "2022-12-03T11:10:41.885733",
     "status": "completed"
    },
    "tags": []
   },
   "outputs": [
    {
     "data": {
      "text/plain": [
       "(6240,)"
      ]
     },
     "execution_count": 9,
     "metadata": {},
     "output_type": "execute_result"
    }
   ],
   "source": [
    "df[\"preco\"].shape"
   ]
  },
  {
   "cell_type": "code",
   "execution_count": 10,
   "id": "0a969961",
   "metadata": {
    "execution": {
     "iopub.execute_input": "2022-12-03T11:10:41.913474Z",
     "iopub.status.busy": "2022-12-03T11:10:41.912773Z",
     "iopub.status.idle": "2022-12-03T11:10:41.919300Z",
     "shell.execute_reply": "2022-12-03T11:10:41.918508Z"
    },
    "papermill": {
     "duration": 0.015177,
     "end_time": "2022-12-03T11:10:41.921716",
     "exception": false,
     "start_time": "2022-12-03T11:10:41.906539",
     "status": "completed"
    },
    "tags": []
   },
   "outputs": [
    {
     "data": {
      "text/plain": [
       "(6240,)"
      ]
     },
     "execution_count": 10,
     "metadata": {},
     "output_type": "execute_result"
    }
   ],
   "source": [
    "df[\"Dormitorios\"].shape"
   ]
  },
  {
   "cell_type": "markdown",
   "id": "4a8ca1d2",
   "metadata": {
    "papermill": {
     "duration": 0.004577,
     "end_time": "2022-12-03T11:10:41.931295",
     "exception": false,
     "start_time": "2022-12-03T11:10:41.926718",
     "status": "completed"
    },
    "tags": []
   },
   "source": []
  },
  {
   "cell_type": "code",
   "execution_count": 11,
   "id": "493bdce0",
   "metadata": {
    "execution": {
     "iopub.execute_input": "2022-12-03T11:10:41.943851Z",
     "iopub.status.busy": "2022-12-03T11:10:41.942481Z",
     "iopub.status.idle": "2022-12-03T11:10:42.280948Z",
     "shell.execute_reply": "2022-12-03T11:10:42.279656Z"
    },
    "papermill": {
     "duration": 0.347217,
     "end_time": "2022-12-03T11:10:42.283502",
     "exception": false,
     "start_time": "2022-12-03T11:10:41.936285",
     "status": "completed"
    },
    "tags": []
   },
   "outputs": [
    {
     "data": {
      "text/plain": [
       "<matplotlib.collections.PathCollection at 0x7fb667f60510>"
      ]
     },
     "execution_count": 11,
     "metadata": {},
     "output_type": "execute_result"
    },
    {
     "data": {
      "image/png": "[encoded data removed]",
      "text/plain": [
       "<Figure size 432x288 with 1 Axes>"
      ]
     },
     "metadata": {
      "needs_background": "light"
     },
     "output_type": "display_data"
    }
   ],
   "source": [
    "plt.scatter(data=df, x=\"preco\", y=\"Dormitorios\")"
   ]
  },
  {
   "cell_type": "code",
   "execution_count": 12,
   "id": "a7a6aa66",
   "metadata": {
    "execution": {
     "iopub.execute_input": "2022-12-03T11:10:42.296676Z",
     "iopub.status.busy": "2022-12-03T11:10:42.295551Z",
     "iopub.status.idle": "2022-12-03T11:10:43.352462Z",
     "shell.execute_reply": "2022-12-03T11:10:43.351190Z"
    },
    "papermill": {
     "duration": 1.066467,
     "end_time": "2022-12-03T11:10:43.355426",
     "exception": false,
     "start_time": "2022-12-03T11:10:42.288959",
     "status": "completed"
    },
    "tags": []
   },
   "outputs": [
    {
     "data": {
      "text/plain": [
       "<matplotlib.collections.PathCollection at 0x7fb667f60650>"
      ]
     },
     "execution_count": 12,
     "metadata": {},
     "output_type": "execute_result"
    },
    {
     "data": {
      "image/png": "[encoded data removed]",
      "text/plain": [
       "<Figure size 432x288 with 1 Axes>"
      ]
     },
     "metadata": {
      "needs_background": "light"
     },
     "output_type": "display_data"
    }
   ],
   "source": [
    "plt.scatter(data=df, x=\"preco\", y=\"Bairro\")"
   ]
  }
 ],
 "metadata": {
  "kernelspec": {
   "display_name": "Python 3",
   "language": "python",
   "name": "python3"
  },
  "language_info": {
   "codemirror_mode": {
    "name": "ipython",
    "version": 3
   },
   "file_extension": ".py",
   "mimetype": "text/x-python",
   "name": "python",
   "nbconvert_exporter": "python",
   "pygments_lexer": "ipython3",
   "version": "3.7.12"
  },
  "papermill": {
   "default_parameters": {},
   "duration": 12.06509,
   "end_time": "2022-12-03T11:10:44.084262",
   "environment_variables": {},
   "exception": null,
   "input_path": "__notebook__.ipynb",
   "output_path": "__notebook__.ipynb",
   "parameters": {},
   "start_time": "2022-12-03T11:10:32.019172",
   "version": "2.3.4"
  }
 },
 "nbformat": 4,
 "nbformat_minor": 5
}
