{
 "cells": [
  {
   "cell_type": "code",
   "execution_count": 1,
   "id": "8d8c343f",
   "metadata": {
    "_cell_guid": "b1076dfc-b9ad-4769-8c92-a6c4dae69d19",
    "_uuid": "8f2839f25d086af736a60e9eeb907d3b93b6e0e5",
    "execution": {
     "iopub.execute_input": "2023-01-25T09:37:39.651602Z",
     "iopub.status.busy": "2023-01-25T09:37:39.650625Z",
     "iopub.status.idle": "2023-01-25T09:37:39.682956Z",
     "shell.execute_reply": "2023-01-25T09:37:39.681850Z"
    },
    "papermill": {
     "duration": 0.044734,
     "end_time": "2023-01-25T09:37:39.686265",
     "exception": false,
     "start_time": "2023-01-25T09:37:39.641531",
     "status": "completed"
    },
    "tags": []
   },
   "outputs": [
    {
     "name": "stdout",
     "output_type": "stream",
     "text": [
      "/kaggle/input/job-placement-dataset/Job_Placement_Data.csv\n"
     ]
    }
   ],
   "source": [
    "# This Python 3 environment comes with many helpful analytics libraries installed\n",
    "# It is defined by the kaggle/python Docker image: https://github.com/kaggle/docker-python\n",
    "# For example, here's several helpful packages to load\n",
    "\n",
    "import numpy as np # linear algebra\n",
    "import pandas as pd # data processing, CSV file I/O (e.g. pd.read_csv)\n",
    "\n",
    "# Input data files are available in the read-only \"../input/\" directory\n",
    "# For example, running this (by clicking run or pressing Shift+Enter) will list all files under the input directory\n",
    "\n",
    "import os\n",
    "for dirname, _, filenames in os.walk('/kaggle/input'):\n",
    "    for filename in filenames:\n",
    "        print(os.path.join(dirname, filename))\n",
    "\n",
    "# You can write up to 20GB to the current directory (/kaggle/working/) that gets preserved as output when you create a version using \"Save & Run All\" \n",
    "# You can also write temporary files to /kaggle/temp/, but they won't be saved outside of the current session"
   ]
  },
  {
   "cell_type": "code",
   "execution_count": 2,
   "id": "264f8bdd",
   "metadata": {
    "execution": {
     "iopub.execute_input": "2023-01-25T09:37:39.697957Z",
     "iopub.status.busy": "2023-01-25T09:37:39.697085Z",
     "iopub.status.idle": "2023-01-25T09:37:40.963795Z",
     "shell.execute_reply": "2023-01-25T09:37:40.962604Z"
    },
    "papermill": {
     "duration": 1.275049,
     "end_time": "2023-01-25T09:37:40.966348",
     "exception": false,
     "start_time": "2023-01-25T09:37:39.691299",
     "status": "completed"
    },
    "tags": []
   },
   "outputs": [],
   "source": [
    "import pandas as pd\n",
    "import numpy as np\n",
    "import matplotlib.pyplot as plt\n",
    "import seaborn as sns"
   ]
  },
  {
   "cell_type": "code",
   "execution_count": 3,
   "id": "189fd99b",
   "metadata": {
    "execution": {
     "iopub.execute_input": "2023-01-25T09:37:40.976414Z",
     "iopub.status.busy": "2023-01-25T09:37:40.976001Z",
     "iopub.status.idle": "2023-01-25T09:37:40.981071Z",
     "shell.execute_reply": "2023-01-25T09:37:40.979633Z"
    },
    "papermill": {
     "duration": 0.013232,
     "end_time": "2023-01-25T09:37:40.983910",
     "exception": false,
     "start_time": "2023-01-25T09:37:40.970678",
     "status": "completed"
    },
    "tags": []
   },
   "outputs": [],
   "source": [
    "def wrangle(filepath):\n",
    "    df = pd.read_csv(filepath)\n",
    "    return df"
   ]
  },
  {
   "cell_type": "code",
   "execution_count": 4,
   "id": "32eb6cc6",
   "metadata": {
    "execution": {
     "iopub.execute_input": "2023-01-25T09:37:40.994588Z",
     "iopub.status.busy": "2023-01-25T09:37:40.994185Z",
     "iopub.status.idle": "2023-01-25T09:37:41.042744Z",
     "shell.execute_reply": "2023-01-25T09:37:41.041747Z"
    },
    "papermill": {
     "duration": 0.056836,
     "end_time": "2023-01-25T09:37:41.045072",
     "exception": false,
     "start_time": "2023-01-25T09:37:40.988236",
     "status": "completed"
    },
    "tags": []
   },
   "outputs": [
    {
     "data": {
      "text/html": [
       "<div>\n",
       "<style scoped>\n",
       "    .dataframe tbody tr th:only-of-type {\n",
       "        vertical-align: middle;\n",
       "    }\n",
       "\n",
       "    .dataframe tbody tr th {\n",
       "        vertical-align: top;\n",
       "    }\n",
       "\n",
       "    .dataframe thead th {\n",
       "        text-align: right;\n",
       "    }\n",
       "</style>\n",
       "<table border=\"1\" class=\"dataframe\">\n",
       "  <thead>\n",
       "    <tr style=\"text-align: right;\">\n",
       "      <th></th>\n",
       "      <th>gender</th>\n",
       "      <th>ssc_percentage</th>\n",
       "      <th>ssc_board</th>\n",
       "      <th>hsc_percentage</th>\n",
       "      <th>hsc_board</th>\n",
       "      <th>hsc_subject</th>\n",
       "      <th>degree_percentage</th>\n",
       "      <th>undergrad_degree</th>\n",
       "      <th>work_experience</th>\n",
       "      <th>emp_test_percentage</th>\n",
       "      <th>specialisation</th>\n",
       "      <th>mba_percent</th>\n",
       "      <th>status</th>\n",
       "    </tr>\n",
       "  </thead>\n",
       "  <tbody>\n",
       "    <tr>\n",
       "      <th>0</th>\n",
       "      <td>M</td>\n",
       "      <td>67.00</td>\n",
       "      <td>Others</td>\n",
       "      <td>91.00</td>\n",
       "      <td>Others</td>\n",
       "      <td>Commerce</td>\n",
       "      <td>58.00</td>\n",
       "      <td>Sci&amp;Tech</td>\n",
       "      <td>No</td>\n",
       "      <td>55.0</td>\n",
       "      <td>Mkt&amp;HR</td>\n",
       "      <td>58.80</td>\n",
       "      <td>Placed</td>\n",
       "    </tr>\n",
       "    <tr>\n",
       "      <th>1</th>\n",
       "      <td>M</td>\n",
       "      <td>79.33</td>\n",
       "      <td>Central</td>\n",
       "      <td>78.33</td>\n",
       "      <td>Others</td>\n",
       "      <td>Science</td>\n",
       "      <td>77.48</td>\n",
       "      <td>Sci&amp;Tech</td>\n",
       "      <td>Yes</td>\n",
       "      <td>86.5</td>\n",
       "      <td>Mkt&amp;Fin</td>\n",
       "      <td>66.28</td>\n",
       "      <td>Placed</td>\n",
       "    </tr>\n",
       "    <tr>\n",
       "      <th>2</th>\n",
       "      <td>M</td>\n",
       "      <td>65.00</td>\n",
       "      <td>Central</td>\n",
       "      <td>68.00</td>\n",
       "      <td>Central</td>\n",
       "      <td>Arts</td>\n",
       "      <td>64.00</td>\n",
       "      <td>Comm&amp;Mgmt</td>\n",
       "      <td>No</td>\n",
       "      <td>75.0</td>\n",
       "      <td>Mkt&amp;Fin</td>\n",
       "      <td>57.80</td>\n",
       "      <td>Placed</td>\n",
       "    </tr>\n",
       "    <tr>\n",
       "      <th>3</th>\n",
       "      <td>M</td>\n",
       "      <td>56.00</td>\n",
       "      <td>Central</td>\n",
       "      <td>52.00</td>\n",
       "      <td>Central</td>\n",
       "      <td>Science</td>\n",
       "      <td>52.00</td>\n",
       "      <td>Sci&amp;Tech</td>\n",
       "      <td>No</td>\n",
       "      <td>66.0</td>\n",
       "      <td>Mkt&amp;HR</td>\n",
       "      <td>59.43</td>\n",
       "      <td>Not Placed</td>\n",
       "    </tr>\n",
       "    <tr>\n",
       "      <th>4</th>\n",
       "      <td>M</td>\n",
       "      <td>85.80</td>\n",
       "      <td>Central</td>\n",
       "      <td>73.60</td>\n",
       "      <td>Central</td>\n",
       "      <td>Commerce</td>\n",
       "      <td>73.30</td>\n",
       "      <td>Comm&amp;Mgmt</td>\n",
       "      <td>No</td>\n",
       "      <td>96.8</td>\n",
       "      <td>Mkt&amp;Fin</td>\n",
       "      <td>55.50</td>\n",
       "      <td>Placed</td>\n",
       "    </tr>\n",
       "  </tbody>\n",
       "</table>\n",
       "</div>"
      ],
      "text/plain": [
       "  gender  ssc_percentage ssc_board  hsc_percentage hsc_board hsc_subject  \\\n",
       "0      M           67.00    Others           91.00    Others    Commerce   \n",
       "1      M           79.33   Central           78.33    Others     Science   \n",
       "2      M           65.00   Central           68.00   Central        Arts   \n",
       "3      M           56.00   Central           52.00   Central     Science   \n",
       "4      M           85.80   Central           73.60   Central    Commerce   \n",
       "\n",
       "   degree_percentage undergrad_degree work_experience  emp_test_percentage  \\\n",
       "0              58.00         Sci&Tech              No                 55.0   \n",
       "1              77.48         Sci&Tech             Yes                 86.5   \n",
       "2              64.00        Comm&Mgmt              No                 75.0   \n",
       "3              52.00         Sci&Tech              No                 66.0   \n",
       "4              73.30        Comm&Mgmt              No                 96.8   \n",
       "\n",
       "  specialisation  mba_percent      status  \n",
       "0         Mkt&HR        58.80      Placed  \n",
       "1        Mkt&Fin        66.28      Placed  \n",
       "2        Mkt&Fin        57.80      Placed  \n",
       "3         Mkt&HR        59.43  Not Placed  \n",
       "4        Mkt&Fin        55.50      Placed  "
      ]
     },
     "execution_count": 4,
     "metadata": {},
     "output_type": "execute_result"
    }
   ],
   "source": [
    "df = wrangle(\"/kaggle/input/job-placement-dataset/Job_Placement_Data.csv\")\n",
    "df.head()"
   ]
  },
  {
   "cell_type": "code",
   "execution_count": 5,
   "id": "40e524f6",
   "metadata": {
    "execution": {
     "iopub.execute_input": "2023-01-25T09:37:41.056586Z",
     "iopub.status.busy": "2023-01-25T09:37:41.055355Z",
     "iopub.status.idle": "2023-01-25T09:37:41.074249Z",
     "shell.execute_reply": "2023-01-25T09:37:41.073037Z"
    },
    "papermill": {
     "duration": 0.027296,
     "end_time": "2023-01-25T09:37:41.076791",
     "exception": false,
     "start_time": "2023-01-25T09:37:41.049495",
     "status": "completed"
    },
    "tags": []
   },
   "outputs": [
    {
     "data": {
      "text/html": [
       "<div>\n",
       "<style scoped>\n",
       "    .dataframe tbody tr th:only-of-type {\n",
       "        vertical-align: middle;\n",
       "    }\n",
       "\n",
       "    .dataframe tbody tr th {\n",
       "        vertical-align: top;\n",
       "    }\n",
       "\n",
       "    .dataframe thead th {\n",
       "        text-align: right;\n",
       "    }\n",
       "</style>\n",
       "<table border=\"1\" class=\"dataframe\">\n",
       "  <thead>\n",
       "    <tr style=\"text-align: right;\">\n",
       "      <th></th>\n",
       "      <th>ssc_percentage</th>\n",
       "      <th>hsc_percentage</th>\n",
       "      <th>degree_percentage</th>\n",
       "      <th>emp_test_percentage</th>\n",
       "      <th>mba_percent</th>\n",
       "    </tr>\n",
       "  </thead>\n",
       "  <tbody>\n",
       "    <tr>\n",
       "      <th>ssc_percentage</th>\n",
       "      <td>1.000000</td>\n",
       "      <td>0.511472</td>\n",
       "      <td>0.538404</td>\n",
       "      <td>0.261993</td>\n",
       "      <td>0.388478</td>\n",
       "    </tr>\n",
       "    <tr>\n",
       "      <th>hsc_percentage</th>\n",
       "      <td>0.511472</td>\n",
       "      <td>1.000000</td>\n",
       "      <td>0.434206</td>\n",
       "      <td>0.245113</td>\n",
       "      <td>0.354823</td>\n",
       "    </tr>\n",
       "    <tr>\n",
       "      <th>degree_percentage</th>\n",
       "      <td>0.538404</td>\n",
       "      <td>0.434206</td>\n",
       "      <td>1.000000</td>\n",
       "      <td>0.224470</td>\n",
       "      <td>0.402364</td>\n",
       "    </tr>\n",
       "    <tr>\n",
       "      <th>emp_test_percentage</th>\n",
       "      <td>0.261993</td>\n",
       "      <td>0.245113</td>\n",
       "      <td>0.224470</td>\n",
       "      <td>1.000000</td>\n",
       "      <td>0.218055</td>\n",
       "    </tr>\n",
       "    <tr>\n",
       "      <th>mba_percent</th>\n",
       "      <td>0.388478</td>\n",
       "      <td>0.354823</td>\n",
       "      <td>0.402364</td>\n",
       "      <td>0.218055</td>\n",
       "      <td>1.000000</td>\n",
       "    </tr>\n",
       "  </tbody>\n",
       "</table>\n",
       "</div>"
      ],
      "text/plain": [
       "                     ssc_percentage  hsc_percentage  degree_percentage  \\\n",
       "ssc_percentage             1.000000        0.511472           0.538404   \n",
       "hsc_percentage             0.511472        1.000000           0.434206   \n",
       "degree_percentage          0.538404        0.434206           1.000000   \n",
       "emp_test_percentage        0.261993        0.245113           0.224470   \n",
       "mba_percent                0.388478        0.354823           0.402364   \n",
       "\n",
       "                     emp_test_percentage  mba_percent  \n",
       "ssc_percentage                  0.261993     0.388478  \n",
       "hsc_percentage                  0.245113     0.354823  \n",
       "degree_percentage               0.224470     0.402364  \n",
       "emp_test_percentage             1.000000     0.218055  \n",
       "mba_percent                     0.218055     1.000000  "
      ]
     },
     "execution_count": 5,
     "metadata": {},
     "output_type": "execute_result"
    }
   ],
   "source": [
    "corr = df.corr()\n",
    "corr"
   ]
  },
  {
   "cell_type": "code",
   "execution_count": 6,
   "id": "792200c9",
   "metadata": {
    "execution": {
     "iopub.execute_input": "2023-01-25T09:37:41.088178Z",
     "iopub.status.busy": "2023-01-25T09:37:41.087786Z",
     "iopub.status.idle": "2023-01-25T09:37:41.098103Z",
     "shell.execute_reply": "2023-01-25T09:37:41.097237Z"
    },
    "papermill": {
     "duration": 0.018487,
     "end_time": "2023-01-25T09:37:41.100118",
     "exception": false,
     "start_time": "2023-01-25T09:37:41.081631",
     "status": "completed"
    },
    "tags": []
   },
   "outputs": [
    {
     "data": {
      "text/plain": [
       "gender                 0.0\n",
       "ssc_percentage         0.0\n",
       "ssc_board              0.0\n",
       "hsc_percentage         0.0\n",
       "hsc_board              0.0\n",
       "hsc_subject            0.0\n",
       "degree_percentage      0.0\n",
       "undergrad_degree       0.0\n",
       "work_experience        0.0\n",
       "emp_test_percentage    0.0\n",
       "specialisation         0.0\n",
       "mba_percent            0.0\n",
       "status                 0.0\n",
       "dtype: float64"
      ]
     },
     "execution_count": 6,
     "metadata": {},
     "output_type": "execute_result"
    }
   ],
   "source": [
    "#check for the null values\n",
    "df.isnull().sum() / len(df)"
   ]
  },
  {
   "cell_type": "code",
   "execution_count": 7,
   "id": "12371a58",
   "metadata": {
    "execution": {
     "iopub.execute_input": "2023-01-25T09:37:41.112421Z",
     "iopub.status.busy": "2023-01-25T09:37:41.111690Z",
     "iopub.status.idle": "2023-01-25T09:37:41.125438Z",
     "shell.execute_reply": "2023-01-25T09:37:41.124273Z"
    },
    "papermill": {
     "duration": 0.022957,
     "end_time": "2023-01-25T09:37:41.128312",
     "exception": false,
     "start_time": "2023-01-25T09:37:41.105355",
     "status": "completed"
    },
    "tags": []
   },
   "outputs": [
    {
     "data": {
      "text/plain": [
       "gender                   2\n",
       "ssc_percentage         103\n",
       "ssc_board                2\n",
       "hsc_percentage          97\n",
       "hsc_board                2\n",
       "hsc_subject              3\n",
       "degree_percentage       89\n",
       "undergrad_degree         3\n",
       "work_experience          2\n",
       "emp_test_percentage    100\n",
       "specialisation           2\n",
       "mba_percent            205\n",
       "status                   2\n",
       "dtype: int64"
      ]
     },
     "execution_count": 7,
     "metadata": {},
     "output_type": "execute_result"
    }
   ],
   "source": [
    "#Check for low and high cardanility features\n",
    "df.nunique()"
   ]
  },
  {
   "cell_type": "code",
   "execution_count": 8,
   "id": "b0a6b8f2",
   "metadata": {
    "execution": {
     "iopub.execute_input": "2023-01-25T09:37:41.141251Z",
     "iopub.status.busy": "2023-01-25T09:37:41.140116Z",
     "iopub.status.idle": "2023-01-25T09:37:41.147222Z",
     "shell.execute_reply": "2023-01-25T09:37:41.145632Z"
    },
    "papermill": {
     "duration": 0.016676,
     "end_time": "2023-01-25T09:37:41.150139",
     "exception": false,
     "start_time": "2023-01-25T09:37:41.133463",
     "status": "completed"
    },
    "tags": []
   },
   "outputs": [
    {
     "name": "stdout",
     "output_type": "stream",
     "text": [
      "gender\n",
      "ssc_percentage\n",
      "ssc_board\n",
      "hsc_percentage\n",
      "hsc_board\n",
      "hsc_subject\n",
      "degree_percentage\n",
      "undergrad_degree\n",
      "work_experience\n",
      "emp_test_percentage\n",
      "specialisation\n",
      "mba_percent\n",
      "status\n"
     ]
    }
   ],
   "source": [
    "for col in df.columns:\n",
    "    print(col)"
   ]
  },
  {
   "cell_type": "code",
   "execution_count": 9,
   "id": "40bf8228",
   "metadata": {
    "execution": {
     "iopub.execute_input": "2023-01-25T09:37:41.163437Z",
     "iopub.status.busy": "2023-01-25T09:37:41.162545Z",
     "iopub.status.idle": "2023-01-25T09:37:43.097805Z",
     "shell.execute_reply": "2023-01-25T09:37:43.095506Z"
    },
    "papermill": {
     "duration": 1.947291,
     "end_time": "2023-01-25T09:37:43.103446",
     "exception": false,
     "start_time": "2023-01-25T09:37:41.156155",
     "status": "completed"
    },
    "tags": []
   },
   "outputs": [
    {
     "data": {
      "image/png": "[encoded data removed]",
      "text/plain": [
       "<Figure size 432x288 with 1 Axes>"
      ]
     },
     "metadata": {
      "needs_background": "light"
     },
     "output_type": "display_data"
    },
    {
     "data": {
      "image/png": "[encoded data removed]",
      "text/plain": [
       "<Figure size 432x288 with 1 Axes>"
      ]
     },
     "metadata": {
      "needs_background": "light"
     },
     "output_type": "display_data"
    },
    {
     "data": {
      "image/png": "[encoded data removed]",
      "text/plain": [
       "<Figure size 432x288 with 1 Axes>"
      ]
     },
     "metadata": {
      "needs_background": "light"
     },
     "output_type": "display_data"
    },
    {
     "data": {
      "image/png": "[encoded data removed]",
      "text/plain": [
       "<Figure size 432x288 with 1 Axes>"
      ]
     },
     "metadata": {
      "needs_background": "light"
     },
     "output_type": "display_data"
    },
    {
     "data": {
      "image/png": "[encoded data removed]",
      "text/plain": [
       "<Figure size 432x288 with 1 Axes>"
      ]
     },
     "metadata": {
      "needs_background": "light"
     },
     "output_type": "display_data"
    },
    {
     "data": {
      "image/png": "[encoded data removed]",
      "text/plain": [
       "<Figure size 432x288 with 1 Axes>"
      ]
     },
     "metadata": {
      "needs_background": "light"
     },
     "output_type": "display_data"
    },
    {
     "data": {
      "image/png": "[encoded data removed]",
      "text/plain": [
       "<Figure size 432x288 with 1 Axes>"
      ]
     },
     "metadata": {
      "needs_background": "light"
     },
     "output_type": "display_data"
    },
    {
     "data": {
      "image/png": "[encoded data removed]",
      "text/plain": [
       "<Figure size 432x288 with 1 Axes>"
      ]
     },
     "metadata": {
      "needs_background": "light"
     },
     "output_type": "display_data"
    },
    {
     "data": {
      "image/png": "[encoded data removed]",
      "text/plain": [
       "<Figure size 432x288 with 1 Axes>"
      ]
     },
     "metadata": {
      "needs_background": "light"
     },
     "output_type": "display_data"
    },
    {
     "data": {
      "image/png": "[encoded data removed]",
      "text/plain": [
       "<Figure size 432x288 with 1 Axes>"
      ]
     },
     "metadata": {
      "needs_background": "light"
     },
     "output_type": "display_data"
    },
    {
     "data": {
      "image/png": "[encoded data removed]",
      "text/plain": [
       "<Figure size 432x288 with 1 Axes>"
      ]
     },
     "metadata": {
      "needs_background": "light"
     },
     "output_type": "display_data"
    },
    {
     "data": {
      "image/png": "[encoded data removed]",
      "text/plain": [
       "<Figure size 432x288 with 1 Axes>"
      ]
     },
     "metadata": {
      "needs_background": "light"
     },
     "output_type": "display_data"
    },
    {
     "data": {
      "image/png": "[encoded data removed]",
      "text/plain": [
       "<Figure size 432x288 with 1 Axes>"
      ]
     },
     "metadata": {
      "needs_background": "light"
     },
     "output_type": "display_data"
    }
   ],
   "source": [
    "for col in df.columns:\n",
    "    plt.scatter(x = df[col], y=df[\"status\"])\n",
    "    plt.xlabel(col)\n",
    "    plt.show()"
   ]
  },
  {
   "cell_type": "code",
   "execution_count": 10,
   "id": "dc958016",
   "metadata": {
    "execution": {
     "iopub.execute_input": "2023-01-25T09:37:43.144280Z",
     "iopub.status.busy": "2023-01-25T09:37:43.143406Z",
     "iopub.status.idle": "2023-01-25T09:37:43.362385Z",
     "shell.execute_reply": "2023-01-25T09:37:43.361558Z"
    },
    "papermill": {
     "duration": 0.242658,
     "end_time": "2023-01-25T09:37:43.364669",
     "exception": false,
     "start_time": "2023-01-25T09:37:43.122011",
     "status": "completed"
    },
    "tags": []
   },
   "outputs": [
    {
     "data": {
      "text/plain": [
       "<AxesSubplot:xlabel='Status', ylabel='Relative Frequency'>"
      ]
     },
     "execution_count": 10,
     "metadata": {},
     "output_type": "execute_result"
    },
    {
     "data": {
      "image/png": "[encoded data removed]",
      "text/plain": [
       "<Figure size 432x288 with 1 Axes>"
      ]
     },
     "metadata": {
      "needs_background": "light"
     },
     "output_type": "display_data"
    }
   ],
   "source": [
    "df[\"status\"].value_counts().plot(\n",
    "    kind=\"bar\", xlabel=\"Status\", ylabel=\"Relative Frequency\"\n",
    ")"
   ]
  },
  {
   "cell_type": "code",
   "execution_count": 11,
   "id": "7cae1d2f",
   "metadata": {
    "execution": {
     "iopub.execute_input": "2023-01-25T09:37:43.382628Z",
     "iopub.status.busy": "2023-01-25T09:37:43.381964Z",
     "iopub.status.idle": "2023-01-25T09:37:43.575226Z",
     "shell.execute_reply": "2023-01-25T09:37:43.574124Z"
    },
    "papermill": {
     "duration": 0.205284,
     "end_time": "2023-01-25T09:37:43.577835",
     "exception": false,
     "start_time": "2023-01-25T09:37:43.372551",
     "status": "completed"
    },
    "tags": []
   },
   "outputs": [
    {
     "data": {
      "text/plain": [
       "<AxesSubplot:xlabel='status', ylabel='ssc_percentage'>"
      ]
     },
     "execution_count": 11,
     "metadata": {},
     "output_type": "execute_result"
    },
    {
     "data": {
      "image/png": "[encoded data removed]",
      "text/plain": [
       "<Figure size 432x288 with 1 Axes>"
      ]
     },
     "metadata": {
      "needs_background": "light"
     },
     "output_type": "display_data"
    }
   ],
   "source": [
    "sns.boxplot(x = df[\"status\"], y = df[\"ssc_percentage\"])"
   ]
  },
  {
   "cell_type": "code",
   "execution_count": 12,
   "id": "1ecb0b4d",
   "metadata": {
    "execution": {
     "iopub.execute_input": "2023-01-25T09:37:43.596241Z",
     "iopub.status.busy": "2023-01-25T09:37:43.595438Z",
     "iopub.status.idle": "2023-01-25T09:37:43.784057Z",
     "shell.execute_reply": "2023-01-25T09:37:43.783018Z"
    },
    "papermill": {
     "duration": 0.200514,
     "end_time": "2023-01-25T09:37:43.786584",
     "exception": false,
     "start_time": "2023-01-25T09:37:43.586070",
     "status": "completed"
    },
    "tags": []
   },
   "outputs": [
    {
     "data": {
      "text/plain": [
       "<AxesSubplot:xlabel='ssc_board'>"
      ]
     },
     "execution_count": 12,
     "metadata": {},
     "output_type": "execute_result"
    },
    {
     "data": {
      "image/png": "[encoded data removed]",
      "text/plain": [
       "<Figure size 432x288 with 1 Axes>"
      ]
     },
     "metadata": {
      "needs_background": "light"
     },
     "output_type": "display_data"
    }
   ],
   "source": [
    "sns.barplot(x=df[\"ssc_board\"].value_counts())"
   ]
  },
  {
   "cell_type": "code",
   "execution_count": 13,
   "id": "2f6dcefa",
   "metadata": {
    "execution": {
     "iopub.execute_input": "2023-01-25T09:37:43.805843Z",
     "iopub.status.busy": "2023-01-25T09:37:43.804680Z",
     "iopub.status.idle": "2023-01-25T09:37:43.972226Z",
     "shell.execute_reply": "2023-01-25T09:37:43.971047Z"
    },
    "papermill": {
     "duration": 0.180152,
     "end_time": "2023-01-25T09:37:43.975051",
     "exception": false,
     "start_time": "2023-01-25T09:37:43.794899",
     "status": "completed"
    },
    "tags": []
   },
   "outputs": [
    {
     "data": {
      "text/plain": [
       "<AxesSubplot:xlabel='status', ylabel='ssc_board'>"
      ]
     },
     "execution_count": 13,
     "metadata": {},
     "output_type": "execute_result"
    },
    {
     "data": {
      "image/png": "[encoded data removed]",
      "text/plain": [
       "<Figure size 432x288 with 1 Axes>"
      ]
     },
     "metadata": {
      "needs_background": "light"
     },
     "output_type": "display_data"
    }
   ],
   "source": [
    "sns.boxplot(x = df[\"status\"], y = df[\"ssc_board\"].value_counts())"
   ]
  }
 ],
 "metadata": {
  "kernelspec": {
   "display_name": "Python 3",
   "language": "python",
   "name": "python3"
  },
  "language_info": {
   "codemirror_mode": {
    "name": "ipython",
    "version": 3
   },
   "file_extension": ".py",
   "mimetype": "text/x-python",
   "name": "python",
   "nbconvert_exporter": "python",
   "pygments_lexer": "ipython3",
   "version": "3.7.12"
  },
  "papermill": {
   "default_parameters": {},
   "duration": 14.126459,
   "end_time": "2023-01-25T09:37:44.706539",
   "environment_variables": {},
   "exception": null,
   "input_path": "__notebook__.ipynb",
   "output_path": "__notebook__.ipynb",
   "parameters": {},
   "start_time": "2023-01-25T09:37:30.580080",
   "version": "2.3.4"
  }
 },
 "nbformat": 4,
 "nbformat_minor": 5
}
