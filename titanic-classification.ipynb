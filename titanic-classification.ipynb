{
 "cells": [
  {
   "cell_type": "code",
   "execution_count": 1,
   "id": "c38d9796",
   "metadata": {
    "_cell_guid": "b1076dfc-b9ad-4769-8c92-a6c4dae69d19",
    "_uuid": "8f2839f25d086af736a60e9eeb907d3b93b6e0e5",
    "execution": {
     "iopub.execute_input": "2023-01-21T08:44:24.481472Z",
     "iopub.status.busy": "2023-01-21T08:44:24.480834Z",
     "iopub.status.idle": "2023-01-21T08:44:24.502188Z",
     "shell.execute_reply": "2023-01-21T08:44:24.500770Z"
    },
    "papermill": {
     "duration": 0.033258,
     "end_time": "2023-01-21T08:44:24.505164",
     "exception": false,
     "start_time": "2023-01-21T08:44:24.471906",
     "status": "completed"
    },
    "tags": []
   },
   "outputs": [
    {
     "name": "stdout",
     "output_type": "stream",
     "text": [
      "/kaggle/input/test-file/tested.csv\n"
     ]
    }
   ],
   "source": [
    "# This Python 3 environment comes with many helpful analytics libraries installed\n",
    "# It is defined by the kaggle/python Docker image: https://github.com/kaggle/docker-python\n",
    "# For example, here's several helpful packages to load\n",
    "\n",
    "import numpy as np # linear algebra\n",
    "import pandas as pd # data processing, CSV file I/O (e.g. pd.read_csv)\n",
    "\n",
    "# Input data files are available in the read-only \"../input/\" directory\n",
    "# For example, running this (by clicking run or pressing Shift+Enter) will list all files under the input directory\n",
    "\n",
    "import os\n",
    "for dirname, _, filenames in os.walk('/kaggle/input'):\n",
    "    for filename in filenames:\n",
    "        print(os.path.join(dirname, filename))\n",
    "\n",
    "# You can write up to 20GB to the current directory (/kaggle/working/) that gets preserved as output when you create a version using \"Save & Run All\" \n",
    "# You can also write temporary files to /kaggle/temp/, but they won't be saved outside of the current session"
   ]
  },
  {
   "cell_type": "code",
   "execution_count": 2,
   "id": "20eed30a",
   "metadata": {
    "execution": {
     "iopub.execute_input": "2023-01-21T08:44:24.520111Z",
     "iopub.status.busy": "2023-01-21T08:44:24.519736Z",
     "iopub.status.idle": "2023-01-21T08:44:25.718551Z",
     "shell.execute_reply": "2023-01-21T08:44:25.717303Z"
    },
    "papermill": {
     "duration": 1.208739,
     "end_time": "2023-01-21T08:44:25.721256",
     "exception": false,
     "start_time": "2023-01-21T08:44:24.512517",
     "status": "completed"
    },
    "tags": []
   },
   "outputs": [],
   "source": [
    "import pandas as pd\n",
    "import numpy as np\n",
    "import matplotlib.pyplot as plt\n",
    "import seaborn as sns"
   ]
  },
  {
   "cell_type": "code",
   "execution_count": 3,
   "id": "c133344c",
   "metadata": {
    "execution": {
     "iopub.execute_input": "2023-01-21T08:44:25.734931Z",
     "iopub.status.busy": "2023-01-21T08:44:25.734552Z",
     "iopub.status.idle": "2023-01-21T08:44:25.771527Z",
     "shell.execute_reply": "2023-01-21T08:44:25.770406Z"
    },
    "papermill": {
     "duration": 0.047152,
     "end_time": "2023-01-21T08:44:25.774316",
     "exception": false,
     "start_time": "2023-01-21T08:44:25.727164",
     "status": "completed"
    },
    "tags": []
   },
   "outputs": [
    {
     "data": {
      "text/html": [
       "<div>\n",
       "<style scoped>\n",
       "    .dataframe tbody tr th:only-of-type {\n",
       "        vertical-align: middle;\n",
       "    }\n",
       "\n",
       "    .dataframe tbody tr th {\n",
       "        vertical-align: top;\n",
       "    }\n",
       "\n",
       "    .dataframe thead th {\n",
       "        text-align: right;\n",
       "    }\n",
       "</style>\n",
       "<table border=\"1\" class=\"dataframe\">\n",
       "  <thead>\n",
       "    <tr style=\"text-align: right;\">\n",
       "      <th></th>\n",
       "      <th>PassengerId</th>\n",
       "      <th>Survived</th>\n",
       "      <th>Pclass</th>\n",
       "      <th>Name</th>\n",
       "      <th>Sex</th>\n",
       "      <th>Age</th>\n",
       "      <th>SibSp</th>\n",
       "      <th>Parch</th>\n",
       "      <th>Ticket</th>\n",
       "      <th>Fare</th>\n",
       "      <th>Cabin</th>\n",
       "      <th>Embarked</th>\n",
       "    </tr>\n",
       "  </thead>\n",
       "  <tbody>\n",
       "    <tr>\n",
       "      <th>0</th>\n",
       "      <td>892</td>\n",
       "      <td>0</td>\n",
       "      <td>3</td>\n",
       "      <td>Kelly, Mr. James</td>\n",
       "      <td>male</td>\n",
       "      <td>34.5</td>\n",
       "      <td>0</td>\n",
       "      <td>0</td>\n",
       "      <td>330911</td>\n",
       "      <td>7.8292</td>\n",
       "      <td>NaN</td>\n",
       "      <td>Q</td>\n",
       "    </tr>\n",
       "    <tr>\n",
       "      <th>1</th>\n",
       "      <td>893</td>\n",
       "      <td>1</td>\n",
       "      <td>3</td>\n",
       "      <td>Wilkes, Mrs. James (Ellen Needs)</td>\n",
       "      <td>female</td>\n",
       "      <td>47.0</td>\n",
       "      <td>1</td>\n",
       "      <td>0</td>\n",
       "      <td>363272</td>\n",
       "      <td>7.0000</td>\n",
       "      <td>NaN</td>\n",
       "      <td>S</td>\n",
       "    </tr>\n",
       "    <tr>\n",
       "      <th>2</th>\n",
       "      <td>894</td>\n",
       "      <td>0</td>\n",
       "      <td>2</td>\n",
       "      <td>Myles, Mr. Thomas Francis</td>\n",
       "      <td>male</td>\n",
       "      <td>62.0</td>\n",
       "      <td>0</td>\n",
       "      <td>0</td>\n",
       "      <td>240276</td>\n",
       "      <td>9.6875</td>\n",
       "      <td>NaN</td>\n",
       "      <td>Q</td>\n",
       "    </tr>\n",
       "    <tr>\n",
       "      <th>3</th>\n",
       "      <td>895</td>\n",
       "      <td>0</td>\n",
       "      <td>3</td>\n",
       "      <td>Wirz, Mr. Albert</td>\n",
       "      <td>male</td>\n",
       "      <td>27.0</td>\n",
       "      <td>0</td>\n",
       "      <td>0</td>\n",
       "      <td>315154</td>\n",
       "      <td>8.6625</td>\n",
       "      <td>NaN</td>\n",
       "      <td>S</td>\n",
       "    </tr>\n",
       "    <tr>\n",
       "      <th>4</th>\n",
       "      <td>896</td>\n",
       "      <td>1</td>\n",
       "      <td>3</td>\n",
       "      <td>Hirvonen, Mrs. Alexander (Helga E Lindqvist)</td>\n",
       "      <td>female</td>\n",
       "      <td>22.0</td>\n",
       "      <td>1</td>\n",
       "      <td>1</td>\n",
       "      <td>3101298</td>\n",
       "      <td>12.2875</td>\n",
       "      <td>NaN</td>\n",
       "      <td>S</td>\n",
       "    </tr>\n",
       "  </tbody>\n",
       "</table>\n",
       "</div>"
      ],
      "text/plain": [
       "   PassengerId  Survived  Pclass  \\\n",
       "0          892         0       3   \n",
       "1          893         1       3   \n",
       "2          894         0       2   \n",
       "3          895         0       3   \n",
       "4          896         1       3   \n",
       "\n",
       "                                           Name     Sex   Age  SibSp  Parch  \\\n",
       "0                              Kelly, Mr. James    male  34.5      0      0   \n",
       "1              Wilkes, Mrs. James (Ellen Needs)  female  47.0      1      0   \n",
       "2                     Myles, Mr. Thomas Francis    male  62.0      0      0   \n",
       "3                              Wirz, Mr. Albert    male  27.0      0      0   \n",
       "4  Hirvonen, Mrs. Alexander (Helga E Lindqvist)  female  22.0      1      1   \n",
       "\n",
       "    Ticket     Fare Cabin Embarked  \n",
       "0   330911   7.8292   NaN        Q  \n",
       "1   363272   7.0000   NaN        S  \n",
       "2   240276   9.6875   NaN        Q  \n",
       "3   315154   8.6625   NaN        S  \n",
       "4  3101298  12.2875   NaN        S  "
      ]
     },
     "execution_count": 3,
     "metadata": {},
     "output_type": "execute_result"
    }
   ],
   "source": [
    "df_demo = pd.read_csv(\"/kaggle/input/test-file/tested.csv\")\n",
    "df_demo.head()"
   ]
  },
  {
   "cell_type": "code",
   "execution_count": 4,
   "id": "f9594d57",
   "metadata": {
    "execution": {
     "iopub.execute_input": "2023-01-21T08:44:25.788772Z",
     "iopub.status.busy": "2023-01-21T08:44:25.788379Z",
     "iopub.status.idle": "2023-01-21T08:44:25.799318Z",
     "shell.execute_reply": "2023-01-21T08:44:25.798153Z"
    },
    "papermill": {
     "duration": 0.021146,
     "end_time": "2023-01-21T08:44:25.801616",
     "exception": false,
     "start_time": "2023-01-21T08:44:25.780470",
     "status": "completed"
    },
    "tags": []
   },
   "outputs": [
    {
     "data": {
      "text/plain": [
       "PassengerId    0.000000\n",
       "Survived       0.000000\n",
       "Pclass         0.000000\n",
       "Name           0.000000\n",
       "Sex            0.000000\n",
       "Age            0.205742\n",
       "SibSp          0.000000\n",
       "Parch          0.000000\n",
       "Ticket         0.000000\n",
       "Fare           0.002392\n",
       "Cabin          0.782297\n",
       "Embarked       0.000000\n",
       "dtype: float64"
      ]
     },
     "execution_count": 4,
     "metadata": {},
     "output_type": "execute_result"
    }
   ],
   "source": [
    "df_demo.isnull().sum() / len(df_demo)"
   ]
  },
  {
   "cell_type": "code",
   "execution_count": 5,
   "id": "316e8402",
   "metadata": {
    "execution": {
     "iopub.execute_input": "2023-01-21T08:44:25.816142Z",
     "iopub.status.busy": "2023-01-21T08:44:25.815773Z",
     "iopub.status.idle": "2023-01-21T08:44:25.822704Z",
     "shell.execute_reply": "2023-01-21T08:44:25.821562Z"
    },
    "papermill": {
     "duration": 0.016715,
     "end_time": "2023-01-21T08:44:25.824851",
     "exception": false,
     "start_time": "2023-01-21T08:44:25.808136",
     "status": "completed"
    },
    "tags": []
   },
   "outputs": [
    {
     "data": {
      "text/plain": [
       "(418, 12)"
      ]
     },
     "execution_count": 5,
     "metadata": {},
     "output_type": "execute_result"
    }
   ],
   "source": [
    "df_demo.shape"
   ]
  },
  {
   "cell_type": "code",
   "execution_count": 6,
   "id": "83b848dd",
   "metadata": {
    "execution": {
     "iopub.execute_input": "2023-01-21T08:44:25.839205Z",
     "iopub.status.busy": "2023-01-21T08:44:25.838829Z",
     "iopub.status.idle": "2023-01-21T08:44:25.856486Z",
     "shell.execute_reply": "2023-01-21T08:44:25.855721Z"
    },
    "papermill": {
     "duration": 0.027545,
     "end_time": "2023-01-21T08:44:25.858674",
     "exception": false,
     "start_time": "2023-01-21T08:44:25.831129",
     "status": "completed"
    },
    "tags": []
   },
   "outputs": [
    {
     "data": {
      "text/plain": [
       "PassengerId    418\n",
       "Survived         2\n",
       "Pclass           3\n",
       "Name           418\n",
       "Sex              2\n",
       "Age             79\n",
       "SibSp            7\n",
       "Parch            8\n",
       "Ticket         363\n",
       "Fare           169\n",
       "Cabin           76\n",
       "Embarked         3\n",
       "dtype: int64"
      ]
     },
     "execution_count": 6,
     "metadata": {},
     "output_type": "execute_result"
    }
   ],
   "source": [
    "df_demo.nunique()"
   ]
  },
  {
   "cell_type": "markdown",
   "id": "0304c497",
   "metadata": {
    "papermill": {
     "duration": 0.006073,
     "end_time": "2023-01-21T08:44:25.871258",
     "exception": false,
     "start_time": "2023-01-21T08:44:25.865185",
     "status": "completed"
    },
    "tags": []
   },
   "source": [
    "Wrangle the data"
   ]
  },
  {
   "cell_type": "code",
   "execution_count": 7,
   "id": "d7b6390f",
   "metadata": {
    "execution": {
     "iopub.execute_input": "2023-01-21T08:44:25.887764Z",
     "iopub.status.busy": "2023-01-21T08:44:25.886822Z",
     "iopub.status.idle": "2023-01-21T08:44:25.893973Z",
     "shell.execute_reply": "2023-01-21T08:44:25.892937Z"
    },
    "papermill": {
     "duration": 0.018848,
     "end_time": "2023-01-21T08:44:25.896480",
     "exception": false,
     "start_time": "2023-01-21T08:44:25.877632",
     "status": "completed"
    },
    "tags": []
   },
   "outputs": [],
   "source": [
    "def wrangle(filepath):\n",
    "    df = pd.read_csv(filepath)\n",
    "    #droping the columns with low & high caranility\n",
    "    df.drop(columns = [\"PassengerId\", \"Name\"], inplace = True)\n",
    "    #drop the columns with more than 50% null values\n",
    "    df.drop(columns = \"Cabin\", inplace = True)\n",
    "    return df"
   ]
  },
  {
   "cell_type": "code",
   "execution_count": 8,
   "id": "49d0fe13",
   "metadata": {
    "execution": {
     "iopub.execute_input": "2023-01-21T08:44:25.911615Z",
     "iopub.status.busy": "2023-01-21T08:44:25.911154Z",
     "iopub.status.idle": "2023-01-21T08:44:25.941145Z",
     "shell.execute_reply": "2023-01-21T08:44:25.940018Z"
    },
    "papermill": {
     "duration": 0.040532,
     "end_time": "2023-01-21T08:44:25.943555",
     "exception": false,
     "start_time": "2023-01-21T08:44:25.903023",
     "status": "completed"
    },
    "tags": []
   },
   "outputs": [
    {
     "data": {
      "text/html": [
       "<div>\n",
       "<style scoped>\n",
       "    .dataframe tbody tr th:only-of-type {\n",
       "        vertical-align: middle;\n",
       "    }\n",
       "\n",
       "    .dataframe tbody tr th {\n",
       "        vertical-align: top;\n",
       "    }\n",
       "\n",
       "    .dataframe thead th {\n",
       "        text-align: right;\n",
       "    }\n",
       "</style>\n",
       "<table border=\"1\" class=\"dataframe\">\n",
       "  <thead>\n",
       "    <tr style=\"text-align: right;\">\n",
       "      <th></th>\n",
       "      <th>Survived</th>\n",
       "      <th>Pclass</th>\n",
       "      <th>Sex</th>\n",
       "      <th>Age</th>\n",
       "      <th>SibSp</th>\n",
       "      <th>Parch</th>\n",
       "      <th>Ticket</th>\n",
       "      <th>Fare</th>\n",
       "      <th>Embarked</th>\n",
       "    </tr>\n",
       "  </thead>\n",
       "  <tbody>\n",
       "    <tr>\n",
       "      <th>0</th>\n",
       "      <td>0</td>\n",
       "      <td>3</td>\n",
       "      <td>male</td>\n",
       "      <td>34.5</td>\n",
       "      <td>0</td>\n",
       "      <td>0</td>\n",
       "      <td>330911</td>\n",
       "      <td>7.8292</td>\n",
       "      <td>Q</td>\n",
       "    </tr>\n",
       "    <tr>\n",
       "      <th>1</th>\n",
       "      <td>1</td>\n",
       "      <td>3</td>\n",
       "      <td>female</td>\n",
       "      <td>47.0</td>\n",
       "      <td>1</td>\n",
       "      <td>0</td>\n",
       "      <td>363272</td>\n",
       "      <td>7.0000</td>\n",
       "      <td>S</td>\n",
       "    </tr>\n",
       "    <tr>\n",
       "      <th>2</th>\n",
       "      <td>0</td>\n",
       "      <td>2</td>\n",
       "      <td>male</td>\n",
       "      <td>62.0</td>\n",
       "      <td>0</td>\n",
       "      <td>0</td>\n",
       "      <td>240276</td>\n",
       "      <td>9.6875</td>\n",
       "      <td>Q</td>\n",
       "    </tr>\n",
       "    <tr>\n",
       "      <th>3</th>\n",
       "      <td>0</td>\n",
       "      <td>3</td>\n",
       "      <td>male</td>\n",
       "      <td>27.0</td>\n",
       "      <td>0</td>\n",
       "      <td>0</td>\n",
       "      <td>315154</td>\n",
       "      <td>8.6625</td>\n",
       "      <td>S</td>\n",
       "    </tr>\n",
       "    <tr>\n",
       "      <th>4</th>\n",
       "      <td>1</td>\n",
       "      <td>3</td>\n",
       "      <td>female</td>\n",
       "      <td>22.0</td>\n",
       "      <td>1</td>\n",
       "      <td>1</td>\n",
       "      <td>3101298</td>\n",
       "      <td>12.2875</td>\n",
       "      <td>S</td>\n",
       "    </tr>\n",
       "  </tbody>\n",
       "</table>\n",
       "</div>"
      ],
      "text/plain": [
       "   Survived  Pclass     Sex   Age  SibSp  Parch   Ticket     Fare Embarked\n",
       "0         0       3    male  34.5      0      0   330911   7.8292        Q\n",
       "1         1       3  female  47.0      1      0   363272   7.0000        S\n",
       "2         0       2    male  62.0      0      0   240276   9.6875        Q\n",
       "3         0       3    male  27.0      0      0   315154   8.6625        S\n",
       "4         1       3  female  22.0      1      1  3101298  12.2875        S"
      ]
     },
     "execution_count": 8,
     "metadata": {},
     "output_type": "execute_result"
    }
   ],
   "source": [
    "df = wrangle(\"/kaggle/input/test-file/tested.csv\")\n",
    "df.head()"
   ]
  },
  {
   "cell_type": "code",
   "execution_count": 9,
   "id": "594ea697",
   "metadata": {
    "execution": {
     "iopub.execute_input": "2023-01-21T08:44:25.959131Z",
     "iopub.status.busy": "2023-01-21T08:44:25.958709Z",
     "iopub.status.idle": "2023-01-21T08:44:25.969084Z",
     "shell.execute_reply": "2023-01-21T08:44:25.967993Z"
    },
    "papermill": {
     "duration": 0.020495,
     "end_time": "2023-01-21T08:44:25.971363",
     "exception": false,
     "start_time": "2023-01-21T08:44:25.950868",
     "status": "completed"
    },
    "tags": []
   },
   "outputs": [
    {
     "data": {
      "text/plain": [
       "Survived    0.000000\n",
       "Pclass      0.000000\n",
       "Sex         0.000000\n",
       "Age         0.205742\n",
       "SibSp       0.000000\n",
       "Parch       0.000000\n",
       "Ticket      0.000000\n",
       "Fare        0.002392\n",
       "Embarked    0.000000\n",
       "dtype: float64"
      ]
     },
     "execution_count": 9,
     "metadata": {},
     "output_type": "execute_result"
    }
   ],
   "source": [
    "df.isnull().sum() / len(df)"
   ]
  },
  {
   "cell_type": "code",
   "execution_count": 10,
   "id": "e7a161db",
   "metadata": {
    "execution": {
     "iopub.execute_input": "2023-01-21T08:44:25.986752Z",
     "iopub.status.busy": "2023-01-21T08:44:25.986370Z",
     "iopub.status.idle": "2023-01-21T08:44:25.996651Z",
     "shell.execute_reply": "2023-01-21T08:44:25.995512Z"
    },
    "papermill": {
     "duration": 0.020803,
     "end_time": "2023-01-21T08:44:25.998902",
     "exception": false,
     "start_time": "2023-01-21T08:44:25.978099",
     "status": "completed"
    },
    "tags": []
   },
   "outputs": [
    {
     "data": {
      "text/plain": [
       "Survived      2\n",
       "Pclass        3\n",
       "Sex           2\n",
       "Age          79\n",
       "SibSp         7\n",
       "Parch         8\n",
       "Ticket      363\n",
       "Fare        169\n",
       "Embarked      3\n",
       "dtype: int64"
      ]
     },
     "execution_count": 10,
     "metadata": {},
     "output_type": "execute_result"
    }
   ],
   "source": [
    "df.nunique()"
   ]
  },
  {
   "cell_type": "code",
   "execution_count": 11,
   "id": "9b8b8a98",
   "metadata": {
    "execution": {
     "iopub.execute_input": "2023-01-21T08:44:26.014999Z",
     "iopub.status.busy": "2023-01-21T08:44:26.014244Z",
     "iopub.status.idle": "2023-01-21T08:44:26.019138Z",
     "shell.execute_reply": "2023-01-21T08:44:26.018051Z"
    },
    "papermill": {
     "duration": 0.015827,
     "end_time": "2023-01-21T08:44:26.021660",
     "exception": false,
     "start_time": "2023-01-21T08:44:26.005833",
     "status": "completed"
    },
    "tags": []
   },
   "outputs": [],
   "source": [
    "# for col in df.columns:\n",
    "#     df[col].plot(kind=\"box\")\n",
    "#     plt.show()\n",
    "\n",
    "# No numeric data"
   ]
  },
  {
   "cell_type": "code",
   "execution_count": 12,
   "id": "4e45e7cf",
   "metadata": {
    "execution": {
     "iopub.execute_input": "2023-01-21T08:44:26.037417Z",
     "iopub.status.busy": "2023-01-21T08:44:26.036999Z",
     "iopub.status.idle": "2023-01-21T08:44:26.054667Z",
     "shell.execute_reply": "2023-01-21T08:44:26.053611Z"
    },
    "papermill": {
     "duration": 0.028216,
     "end_time": "2023-01-21T08:44:26.056957",
     "exception": false,
     "start_time": "2023-01-21T08:44:26.028741",
     "status": "completed"
    },
    "tags": []
   },
   "outputs": [
    {
     "data": {
      "text/html": [
       "<div>\n",
       "<style scoped>\n",
       "    .dataframe tbody tr th:only-of-type {\n",
       "        vertical-align: middle;\n",
       "    }\n",
       "\n",
       "    .dataframe tbody tr th {\n",
       "        vertical-align: top;\n",
       "    }\n",
       "\n",
       "    .dataframe thead th {\n",
       "        text-align: right;\n",
       "    }\n",
       "</style>\n",
       "<table border=\"1\" class=\"dataframe\">\n",
       "  <thead>\n",
       "    <tr style=\"text-align: right;\">\n",
       "      <th></th>\n",
       "      <th>Survived</th>\n",
       "      <th>Pclass</th>\n",
       "      <th>Age</th>\n",
       "      <th>SibSp</th>\n",
       "      <th>Parch</th>\n",
       "      <th>Fare</th>\n",
       "    </tr>\n",
       "  </thead>\n",
       "  <tbody>\n",
       "    <tr>\n",
       "      <th>Survived</th>\n",
       "      <td>1.000000</td>\n",
       "      <td>-0.108615</td>\n",
       "      <td>-0.000013</td>\n",
       "      <td>0.099943</td>\n",
       "      <td>0.159120</td>\n",
       "      <td>0.191514</td>\n",
       "    </tr>\n",
       "    <tr>\n",
       "      <th>Pclass</th>\n",
       "      <td>-0.108615</td>\n",
       "      <td>1.000000</td>\n",
       "      <td>-0.492143</td>\n",
       "      <td>0.001087</td>\n",
       "      <td>0.018721</td>\n",
       "      <td>-0.577147</td>\n",
       "    </tr>\n",
       "    <tr>\n",
       "      <th>Age</th>\n",
       "      <td>-0.000013</td>\n",
       "      <td>-0.492143</td>\n",
       "      <td>1.000000</td>\n",
       "      <td>-0.091587</td>\n",
       "      <td>-0.061249</td>\n",
       "      <td>0.337932</td>\n",
       "    </tr>\n",
       "    <tr>\n",
       "      <th>SibSp</th>\n",
       "      <td>0.099943</td>\n",
       "      <td>0.001087</td>\n",
       "      <td>-0.091587</td>\n",
       "      <td>1.000000</td>\n",
       "      <td>0.306895</td>\n",
       "      <td>0.171539</td>\n",
       "    </tr>\n",
       "    <tr>\n",
       "      <th>Parch</th>\n",
       "      <td>0.159120</td>\n",
       "      <td>0.018721</td>\n",
       "      <td>-0.061249</td>\n",
       "      <td>0.306895</td>\n",
       "      <td>1.000000</td>\n",
       "      <td>0.230046</td>\n",
       "    </tr>\n",
       "    <tr>\n",
       "      <th>Fare</th>\n",
       "      <td>0.191514</td>\n",
       "      <td>-0.577147</td>\n",
       "      <td>0.337932</td>\n",
       "      <td>0.171539</td>\n",
       "      <td>0.230046</td>\n",
       "      <td>1.000000</td>\n",
       "    </tr>\n",
       "  </tbody>\n",
       "</table>\n",
       "</div>"
      ],
      "text/plain": [
       "          Survived    Pclass       Age     SibSp     Parch      Fare\n",
       "Survived  1.000000 -0.108615 -0.000013  0.099943  0.159120  0.191514\n",
       "Pclass   -0.108615  1.000000 -0.492143  0.001087  0.018721 -0.577147\n",
       "Age      -0.000013 -0.492143  1.000000 -0.091587 -0.061249  0.337932\n",
       "SibSp     0.099943  0.001087 -0.091587  1.000000  0.306895  0.171539\n",
       "Parch     0.159120  0.018721 -0.061249  0.306895  1.000000  0.230046\n",
       "Fare      0.191514 -0.577147  0.337932  0.171539  0.230046  1.000000"
      ]
     },
     "execution_count": 12,
     "metadata": {},
     "output_type": "execute_result"
    }
   ],
   "source": [
    "corr = df.corr()\n",
    "corr"
   ]
  },
  {
   "cell_type": "code",
   "execution_count": 13,
   "id": "4067a60f",
   "metadata": {
    "execution": {
     "iopub.execute_input": "2023-01-21T08:44:26.072720Z",
     "iopub.status.busy": "2023-01-21T08:44:26.072314Z",
     "iopub.status.idle": "2023-01-21T08:44:26.085967Z",
     "shell.execute_reply": "2023-01-21T08:44:26.084871Z"
    },
    "papermill": {
     "duration": 0.02453,
     "end_time": "2023-01-21T08:44:26.088523",
     "exception": false,
     "start_time": "2023-01-21T08:44:26.063993",
     "status": "completed"
    },
    "tags": []
   },
   "outputs": [
    {
     "data": {
      "text/plain": [
       "0    266\n",
       "1    152\n",
       "Name: Survived, dtype: int64"
      ]
     },
     "execution_count": 13,
     "metadata": {},
     "output_type": "execute_result"
    }
   ],
   "source": [
    "df[\"Survived\"].value_counts()"
   ]
  },
  {
   "cell_type": "code",
   "execution_count": 14,
   "id": "4853f469",
   "metadata": {
    "execution": {
     "iopub.execute_input": "2023-01-21T08:44:26.104695Z",
     "iopub.status.busy": "2023-01-21T08:44:26.104284Z",
     "iopub.status.idle": "2023-01-21T08:44:26.112307Z",
     "shell.execute_reply": "2023-01-21T08:44:26.111198Z"
    },
    "papermill": {
     "duration": 0.019167,
     "end_time": "2023-01-21T08:44:26.114971",
     "exception": false,
     "start_time": "2023-01-21T08:44:26.095804",
     "status": "completed"
    },
    "tags": []
   },
   "outputs": [],
   "source": [
    "# our target is survived so we are going to check the corelations with survuved individually\n",
    "\n",
    "corr_sur_with_pclass = df[\"Survived\"].corr(df[\"Pclass\"])"
   ]
  },
  {
   "cell_type": "code",
   "execution_count": 15,
   "id": "93d215a9",
   "metadata": {
    "execution": {
     "iopub.execute_input": "2023-01-21T08:44:26.131910Z",
     "iopub.status.busy": "2023-01-21T08:44:26.130863Z",
     "iopub.status.idle": "2023-01-21T08:44:26.136858Z",
     "shell.execute_reply": "2023-01-21T08:44:26.136085Z"
    },
    "papermill": {
     "duration": 0.016997,
     "end_time": "2023-01-21T08:44:26.139060",
     "exception": false,
     "start_time": "2023-01-21T08:44:26.122063",
     "status": "completed"
    },
    "tags": []
   },
   "outputs": [],
   "source": [
    "corr_sur_with_age = df[\"Survived\"].corr(df[\"Age\"])"
   ]
  },
  {
   "cell_type": "code",
   "execution_count": 16,
   "id": "e46b1911",
   "metadata": {
    "execution": {
     "iopub.execute_input": "2023-01-21T08:44:26.155423Z",
     "iopub.status.busy": "2023-01-21T08:44:26.154715Z",
     "iopub.status.idle": "2023-01-21T08:44:26.160609Z",
     "shell.execute_reply": "2023-01-21T08:44:26.159571Z"
    },
    "papermill": {
     "duration": 0.016969,
     "end_time": "2023-01-21T08:44:26.163110",
     "exception": false,
     "start_time": "2023-01-21T08:44:26.146141",
     "status": "completed"
    },
    "tags": []
   },
   "outputs": [],
   "source": [
    "corr_sur_with_SibSp = df[\"Survived\"].corr(df[\"SibSp\"])"
   ]
  },
  {
   "cell_type": "code",
   "execution_count": 17,
   "id": "fc0068c2",
   "metadata": {
    "execution": {
     "iopub.execute_input": "2023-01-21T08:44:26.179427Z",
     "iopub.status.busy": "2023-01-21T08:44:26.179002Z",
     "iopub.status.idle": "2023-01-21T08:44:26.184863Z",
     "shell.execute_reply": "2023-01-21T08:44:26.183727Z"
    },
    "papermill": {
     "duration": 0.016709,
     "end_time": "2023-01-21T08:44:26.187030",
     "exception": false,
     "start_time": "2023-01-21T08:44:26.170321",
     "status": "completed"
    },
    "tags": []
   },
   "outputs": [],
   "source": [
    "corr_sur_with_Parch = df[\"Survived\"].corr(df[\"Parch\"])"
   ]
  },
  {
   "cell_type": "code",
   "execution_count": 18,
   "id": "1cb74cd4",
   "metadata": {
    "execution": {
     "iopub.execute_input": "2023-01-21T08:44:26.203585Z",
     "iopub.status.busy": "2023-01-21T08:44:26.202843Z",
     "iopub.status.idle": "2023-01-21T08:44:26.209118Z",
     "shell.execute_reply": "2023-01-21T08:44:26.208022Z"
    },
    "papermill": {
     "duration": 0.017643,
     "end_time": "2023-01-21T08:44:26.211920",
     "exception": false,
     "start_time": "2023-01-21T08:44:26.194277",
     "status": "completed"
    },
    "tags": []
   },
   "outputs": [],
   "source": [
    "corr_sur_with_Fare = df[\"Survived\"].corr(df[\"Fare\"])"
   ]
  },
  {
   "cell_type": "code",
   "execution_count": 19,
   "id": "75c66369",
   "metadata": {
    "execution": {
     "iopub.execute_input": "2023-01-21T08:44:26.228702Z",
     "iopub.status.busy": "2023-01-21T08:44:26.228039Z",
     "iopub.status.idle": "2023-01-21T08:44:26.234884Z",
     "shell.execute_reply": "2023-01-21T08:44:26.233659Z"
    },
    "papermill": {
     "duration": 0.018353,
     "end_time": "2023-01-21T08:44:26.237741",
     "exception": false,
     "start_time": "2023-01-21T08:44:26.219388",
     "status": "completed"
    },
    "tags": []
   },
   "outputs": [
    {
     "name": "stdout",
     "output_type": "stream",
     "text": [
      "The corelation b/w survived and Pclass is  -0.10861452091523409\n",
      "The corelation b/w survived and Age is  -1.2682357097214666e-05\n",
      "The corelation b/w survived and SibSp is  0.0999433702502642\n",
      "The corelation b/w survived and Parch is  0.15912011283514063\n",
      "The corelation b/w survived and Fare is  0.19151374269353372\n"
     ]
    }
   ],
   "source": [
    "print(\"The corelation b/w survived and Pclass is \", corr_sur_with_pclass)\n",
    "print(\"The corelation b/w survived and Age is \", corr_sur_with_age)\n",
    "print(\"The corelation b/w survived and SibSp is \", corr_sur_with_SibSp)\n",
    "print(\"The corelation b/w survived and Parch is \", corr_sur_with_Parch)\n",
    "print(\"The corelation b/w survived and Fare is \", corr_sur_with_Fare)"
   ]
  },
  {
   "cell_type": "code",
   "execution_count": 20,
   "id": "f2ac9fbc",
   "metadata": {
    "execution": {
     "iopub.execute_input": "2023-01-21T08:44:26.254784Z",
     "iopub.status.busy": "2023-01-21T08:44:26.254361Z",
     "iopub.status.idle": "2023-01-21T08:44:26.259374Z",
     "shell.execute_reply": "2023-01-21T08:44:26.258067Z"
    },
    "papermill": {
     "duration": 0.015794,
     "end_time": "2023-01-21T08:44:26.261607",
     "exception": false,
     "start_time": "2023-01-21T08:44:26.245813",
     "status": "completed"
    },
    "tags": []
   },
   "outputs": [],
   "source": [
    "# from decimal import Decimal\n",
    "\n",
    "# s = corr_sur_with_age\n",
    "\n",
    "# b = Decimal(s)\n"
   ]
  },
  {
   "cell_type": "markdown",
   "id": "534baa43",
   "metadata": {
    "papermill": {
     "duration": 0.006908,
     "end_time": "2023-01-21T08:44:26.275879",
     "exception": false,
     "start_time": "2023-01-21T08:44:26.268971",
     "status": "completed"
    },
    "tags": []
   },
   "source": [
    "> The corelation cofficents values shows that there is not much difference b/w the target and features"
   ]
  },
  {
   "cell_type": "code",
   "execution_count": null,
   "id": "d1ebf475",
   "metadata": {
    "papermill": {
     "duration": 0.00686,
     "end_time": "2023-01-21T08:44:26.289828",
     "exception": false,
     "start_time": "2023-01-21T08:44:26.282968",
     "status": "completed"
    },
    "tags": []
   },
   "outputs": [],
   "source": []
  }
 ],
 "metadata": {
  "kernelspec": {
   "display_name": "Python 3",
   "language": "python",
   "name": "python3"
  },
  "language_info": {
   "codemirror_mode": {
    "name": "ipython",
    "version": 3
   },
   "file_extension": ".py",
   "mimetype": "text/x-python",
   "name": "python",
   "nbconvert_exporter": "python",
   "pygments_lexer": "ipython3",
   "version": "3.7.12"
  },
  "papermill": {
   "default_parameters": {},
   "duration": 11.435804,
   "end_time": "2023-01-21T08:44:27.019466",
   "environment_variables": {},
   "exception": null,
   "input_path": "__notebook__.ipynb",
   "output_path": "__notebook__.ipynb",
   "parameters": {},
   "start_time": "2023-01-21T08:44:15.583662",
   "version": "2.3.4"
  }
 },
 "nbformat": 4,
 "nbformat_minor": 5
}
