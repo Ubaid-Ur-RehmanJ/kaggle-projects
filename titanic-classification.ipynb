{
 "cells": [
  {
   "cell_type": "code",
   "execution_count": 1,
   "id": "6f65d9f4",
   "metadata": {
    "_cell_guid": "b1076dfc-b9ad-4769-8c92-a6c4dae69d19",
    "_uuid": "8f2839f25d086af736a60e9eeb907d3b93b6e0e5",
    "execution": {
     "iopub.execute_input": "2023-01-21T14:32:19.917591Z",
     "iopub.status.busy": "2023-01-21T14:32:19.916473Z",
     "iopub.status.idle": "2023-01-21T14:32:19.941429Z",
     "shell.execute_reply": "2023-01-21T14:32:19.939583Z"
    },
    "papermill": {
     "duration": 0.046757,
     "end_time": "2023-01-21T14:32:19.945578",
     "exception": false,
     "start_time": "2023-01-21T14:32:19.898821",
     "status": "completed"
    },
    "tags": []
   },
   "outputs": [
    {
     "name": "stdout",
     "output_type": "stream",
     "text": [
      "/kaggle/input/test-file/tested.csv\n"
     ]
    }
   ],
   "source": [
    "# This Python 3 environment comes with many helpful analytics libraries installed\n",
    "# It is defined by the kaggle/python Docker image: https://github.com/kaggle/docker-python\n",
    "# For example, here's several helpful packages to load\n",
    "\n",
    "import numpy as np # linear algebra\n",
    "import pandas as pd # data processing, CSV file I/O (e.g. pd.read_csv)\n",
    "\n",
    "# Input data files are available in the read-only \"../input/\" directory\n",
    "# For example, running this (by clicking run or pressing Shift+Enter) will list all files under the input directory\n",
    "\n",
    "import os\n",
    "for dirname, _, filenames in os.walk('/kaggle/input'):\n",
    "    for filename in filenames:\n",
    "        print(os.path.join(dirname, filename))\n",
    "\n",
    "# You can write up to 20GB to the current directory (/kaggle/working/) that gets preserved as output when you create a version using \"Save & Run All\" \n",
    "# You can also write temporary files to /kaggle/temp/, but they won't be saved outside of the current session"
   ]
  },
  {
   "cell_type": "code",
   "execution_count": 2,
   "id": "d2cf22fe",
   "metadata": {
    "execution": {
     "iopub.execute_input": "2023-01-21T14:32:19.978020Z",
     "iopub.status.busy": "2023-01-21T14:32:19.976965Z",
     "iopub.status.idle": "2023-01-21T14:32:21.247123Z",
     "shell.execute_reply": "2023-01-21T14:32:21.246171Z"
    },
    "papermill": {
     "duration": 1.289886,
     "end_time": "2023-01-21T14:32:21.249825",
     "exception": false,
     "start_time": "2023-01-21T14:32:19.959939",
     "status": "completed"
    },
    "tags": []
   },
   "outputs": [],
   "source": [
    "import pandas as pd\n",
    "import numpy as np\n",
    "import matplotlib.pyplot as plt\n",
    "import seaborn as sns"
   ]
  },
  {
   "cell_type": "code",
   "execution_count": 3,
   "id": "76210253",
   "metadata": {
    "execution": {
     "iopub.execute_input": "2023-01-21T14:32:21.277726Z",
     "iopub.status.busy": "2023-01-21T14:32:21.277267Z",
     "iopub.status.idle": "2023-01-21T14:32:21.323135Z",
     "shell.execute_reply": "2023-01-21T14:32:21.321513Z"
    },
    "papermill": {
     "duration": 0.063354,
     "end_time": "2023-01-21T14:32:21.326177",
     "exception": false,
     "start_time": "2023-01-21T14:32:21.262823",
     "status": "completed"
    },
    "tags": []
   },
   "outputs": [
    {
     "data": {
      "text/html": [
       "<div>\n",
       "<style scoped>\n",
       "    .dataframe tbody tr th:only-of-type {\n",
       "        vertical-align: middle;\n",
       "    }\n",
       "\n",
       "    .dataframe tbody tr th {\n",
       "        vertical-align: top;\n",
       "    }\n",
       "\n",
       "    .dataframe thead th {\n",
       "        text-align: right;\n",
       "    }\n",
       "</style>\n",
       "<table border=\"1\" class=\"dataframe\">\n",
       "  <thead>\n",
       "    <tr style=\"text-align: right;\">\n",
       "      <th></th>\n",
       "      <th>PassengerId</th>\n",
       "      <th>Survived</th>\n",
       "      <th>Pclass</th>\n",
       "      <th>Name</th>\n",
       "      <th>Sex</th>\n",
       "      <th>Age</th>\n",
       "      <th>SibSp</th>\n",
       "      <th>Parch</th>\n",
       "      <th>Ticket</th>\n",
       "      <th>Fare</th>\n",
       "      <th>Cabin</th>\n",
       "      <th>Embarked</th>\n",
       "    </tr>\n",
       "  </thead>\n",
       "  <tbody>\n",
       "    <tr>\n",
       "      <th>0</th>\n",
       "      <td>892</td>\n",
       "      <td>0</td>\n",
       "      <td>3</td>\n",
       "      <td>Kelly, Mr. James</td>\n",
       "      <td>male</td>\n",
       "      <td>34.5</td>\n",
       "      <td>0</td>\n",
       "      <td>0</td>\n",
       "      <td>330911</td>\n",
       "      <td>7.8292</td>\n",
       "      <td>NaN</td>\n",
       "      <td>Q</td>\n",
       "    </tr>\n",
       "    <tr>\n",
       "      <th>1</th>\n",
       "      <td>893</td>\n",
       "      <td>1</td>\n",
       "      <td>3</td>\n",
       "      <td>Wilkes, Mrs. James (Ellen Needs)</td>\n",
       "      <td>female</td>\n",
       "      <td>47.0</td>\n",
       "      <td>1</td>\n",
       "      <td>0</td>\n",
       "      <td>363272</td>\n",
       "      <td>7.0000</td>\n",
       "      <td>NaN</td>\n",
       "      <td>S</td>\n",
       "    </tr>\n",
       "    <tr>\n",
       "      <th>2</th>\n",
       "      <td>894</td>\n",
       "      <td>0</td>\n",
       "      <td>2</td>\n",
       "      <td>Myles, Mr. Thomas Francis</td>\n",
       "      <td>male</td>\n",
       "      <td>62.0</td>\n",
       "      <td>0</td>\n",
       "      <td>0</td>\n",
       "      <td>240276</td>\n",
       "      <td>9.6875</td>\n",
       "      <td>NaN</td>\n",
       "      <td>Q</td>\n",
       "    </tr>\n",
       "    <tr>\n",
       "      <th>3</th>\n",
       "      <td>895</td>\n",
       "      <td>0</td>\n",
       "      <td>3</td>\n",
       "      <td>Wirz, Mr. Albert</td>\n",
       "      <td>male</td>\n",
       "      <td>27.0</td>\n",
       "      <td>0</td>\n",
       "      <td>0</td>\n",
       "      <td>315154</td>\n",
       "      <td>8.6625</td>\n",
       "      <td>NaN</td>\n",
       "      <td>S</td>\n",
       "    </tr>\n",
       "    <tr>\n",
       "      <th>4</th>\n",
       "      <td>896</td>\n",
       "      <td>1</td>\n",
       "      <td>3</td>\n",
       "      <td>Hirvonen, Mrs. Alexander (Helga E Lindqvist)</td>\n",
       "      <td>female</td>\n",
       "      <td>22.0</td>\n",
       "      <td>1</td>\n",
       "      <td>1</td>\n",
       "      <td>3101298</td>\n",
       "      <td>12.2875</td>\n",
       "      <td>NaN</td>\n",
       "      <td>S</td>\n",
       "    </tr>\n",
       "  </tbody>\n",
       "</table>\n",
       "</div>"
      ],
      "text/plain": [
       "   PassengerId  Survived  Pclass  \\\n",
       "0          892         0       3   \n",
       "1          893         1       3   \n",
       "2          894         0       2   \n",
       "3          895         0       3   \n",
       "4          896         1       3   \n",
       "\n",
       "                                           Name     Sex   Age  SibSp  Parch  \\\n",
       "0                              Kelly, Mr. James    male  34.5      0      0   \n",
       "1              Wilkes, Mrs. James (Ellen Needs)  female  47.0      1      0   \n",
       "2                     Myles, Mr. Thomas Francis    male  62.0      0      0   \n",
       "3                              Wirz, Mr. Albert    male  27.0      0      0   \n",
       "4  Hirvonen, Mrs. Alexander (Helga E Lindqvist)  female  22.0      1      1   \n",
       "\n",
       "    Ticket     Fare Cabin Embarked  \n",
       "0   330911   7.8292   NaN        Q  \n",
       "1   363272   7.0000   NaN        S  \n",
       "2   240276   9.6875   NaN        Q  \n",
       "3   315154   8.6625   NaN        S  \n",
       "4  3101298  12.2875   NaN        S  "
      ]
     },
     "execution_count": 3,
     "metadata": {},
     "output_type": "execute_result"
    }
   ],
   "source": [
    "df_demo = pd.read_csv(\"/kaggle/input/test-file/tested.csv\")\n",
    "df_demo.head()"
   ]
  },
  {
   "cell_type": "code",
   "execution_count": 4,
   "id": "262c12a6",
   "metadata": {
    "execution": {
     "iopub.execute_input": "2023-01-21T14:32:21.356567Z",
     "iopub.status.busy": "2023-01-21T14:32:21.356138Z",
     "iopub.status.idle": "2023-01-21T14:32:21.368045Z",
     "shell.execute_reply": "2023-01-21T14:32:21.366794Z"
    },
    "papermill": {
     "duration": 0.029788,
     "end_time": "2023-01-21T14:32:21.370719",
     "exception": false,
     "start_time": "2023-01-21T14:32:21.340931",
     "status": "completed"
    },
    "tags": []
   },
   "outputs": [
    {
     "data": {
      "text/plain": [
       "PassengerId    0.000000\n",
       "Survived       0.000000\n",
       "Pclass         0.000000\n",
       "Name           0.000000\n",
       "Sex            0.000000\n",
       "Age            0.205742\n",
       "SibSp          0.000000\n",
       "Parch          0.000000\n",
       "Ticket         0.000000\n",
       "Fare           0.002392\n",
       "Cabin          0.782297\n",
       "Embarked       0.000000\n",
       "dtype: float64"
      ]
     },
     "execution_count": 4,
     "metadata": {},
     "output_type": "execute_result"
    }
   ],
   "source": [
    "df_demo.isnull().sum() / len(df_demo)"
   ]
  },
  {
   "cell_type": "code",
   "execution_count": 5,
   "id": "89d38578",
   "metadata": {
    "execution": {
     "iopub.execute_input": "2023-01-21T14:32:21.399320Z",
     "iopub.status.busy": "2023-01-21T14:32:21.398861Z",
     "iopub.status.idle": "2023-01-21T14:32:21.407678Z",
     "shell.execute_reply": "2023-01-21T14:32:21.406516Z"
    },
    "papermill": {
     "duration": 0.025916,
     "end_time": "2023-01-21T14:32:21.410112",
     "exception": false,
     "start_time": "2023-01-21T14:32:21.384196",
     "status": "completed"
    },
    "tags": []
   },
   "outputs": [
    {
     "data": {
      "text/plain": [
       "(418, 12)"
      ]
     },
     "execution_count": 5,
     "metadata": {},
     "output_type": "execute_result"
    }
   ],
   "source": [
    "df_demo.shape"
   ]
  },
  {
   "cell_type": "code",
   "execution_count": 6,
   "id": "08129890",
   "metadata": {
    "execution": {
     "iopub.execute_input": "2023-01-21T14:32:21.439097Z",
     "iopub.status.busy": "2023-01-21T14:32:21.438661Z",
     "iopub.status.idle": "2023-01-21T14:32:21.457269Z",
     "shell.execute_reply": "2023-01-21T14:32:21.456069Z"
    },
    "papermill": {
     "duration": 0.0361,
     "end_time": "2023-01-21T14:32:21.459838",
     "exception": false,
     "start_time": "2023-01-21T14:32:21.423738",
     "status": "completed"
    },
    "tags": []
   },
   "outputs": [
    {
     "data": {
      "text/plain": [
       "PassengerId    418\n",
       "Survived         2\n",
       "Pclass           3\n",
       "Name           418\n",
       "Sex              2\n",
       "Age             79\n",
       "SibSp            7\n",
       "Parch            8\n",
       "Ticket         363\n",
       "Fare           169\n",
       "Cabin           76\n",
       "Embarked         3\n",
       "dtype: int64"
      ]
     },
     "execution_count": 6,
     "metadata": {},
     "output_type": "execute_result"
    }
   ],
   "source": [
    "df_demo.nunique()"
   ]
  },
  {
   "cell_type": "markdown",
   "id": "226b572a",
   "metadata": {
    "papermill": {
     "duration": 0.013203,
     "end_time": "2023-01-21T14:32:21.486724",
     "exception": false,
     "start_time": "2023-01-21T14:32:21.473521",
     "status": "completed"
    },
    "tags": []
   },
   "source": [
    "Wrangle the data"
   ]
  },
  {
   "cell_type": "code",
   "execution_count": 7,
   "id": "5ec18123",
   "metadata": {
    "execution": {
     "iopub.execute_input": "2023-01-21T14:32:21.515649Z",
     "iopub.status.busy": "2023-01-21T14:32:21.515211Z",
     "iopub.status.idle": "2023-01-21T14:32:21.521330Z",
     "shell.execute_reply": "2023-01-21T14:32:21.520124Z"
    },
    "papermill": {
     "duration": 0.023547,
     "end_time": "2023-01-21T14:32:21.523699",
     "exception": false,
     "start_time": "2023-01-21T14:32:21.500152",
     "status": "completed"
    },
    "tags": []
   },
   "outputs": [],
   "source": [
    "def wrangle(filepath):\n",
    "    df = pd.read_csv(filepath)\n",
    "    #droping the columns with low & high caranility\n",
    "    df.drop(columns = [\"PassengerId\", \"Name\"], inplace = True)\n",
    "    #drop the columns with more than 50% null values\n",
    "    df.drop(columns = \"Cabin\", inplace = True)\n",
    "    return df"
   ]
  },
  {
   "cell_type": "code",
   "execution_count": 8,
   "id": "1008cd55",
   "metadata": {
    "execution": {
     "iopub.execute_input": "2023-01-21T14:32:21.554342Z",
     "iopub.status.busy": "2023-01-21T14:32:21.553903Z",
     "iopub.status.idle": "2023-01-21T14:32:21.582040Z",
     "shell.execute_reply": "2023-01-21T14:32:21.580606Z"
    },
    "papermill": {
     "duration": 0.046951,
     "end_time": "2023-01-21T14:32:21.584673",
     "exception": false,
     "start_time": "2023-01-21T14:32:21.537722",
     "status": "completed"
    },
    "tags": []
   },
   "outputs": [
    {
     "data": {
      "text/html": [
       "<div>\n",
       "<style scoped>\n",
       "    .dataframe tbody tr th:only-of-type {\n",
       "        vertical-align: middle;\n",
       "    }\n",
       "\n",
       "    .dataframe tbody tr th {\n",
       "        vertical-align: top;\n",
       "    }\n",
       "\n",
       "    .dataframe thead th {\n",
       "        text-align: right;\n",
       "    }\n",
       "</style>\n",
       "<table border=\"1\" class=\"dataframe\">\n",
       "  <thead>\n",
       "    <tr style=\"text-align: right;\">\n",
       "      <th></th>\n",
       "      <th>Survived</th>\n",
       "      <th>Pclass</th>\n",
       "      <th>Sex</th>\n",
       "      <th>Age</th>\n",
       "      <th>SibSp</th>\n",
       "      <th>Parch</th>\n",
       "      <th>Ticket</th>\n",
       "      <th>Fare</th>\n",
       "      <th>Embarked</th>\n",
       "    </tr>\n",
       "  </thead>\n",
       "  <tbody>\n",
       "    <tr>\n",
       "      <th>0</th>\n",
       "      <td>0</td>\n",
       "      <td>3</td>\n",
       "      <td>male</td>\n",
       "      <td>34.5</td>\n",
       "      <td>0</td>\n",
       "      <td>0</td>\n",
       "      <td>330911</td>\n",
       "      <td>7.8292</td>\n",
       "      <td>Q</td>\n",
       "    </tr>\n",
       "    <tr>\n",
       "      <th>1</th>\n",
       "      <td>1</td>\n",
       "      <td>3</td>\n",
       "      <td>female</td>\n",
       "      <td>47.0</td>\n",
       "      <td>1</td>\n",
       "      <td>0</td>\n",
       "      <td>363272</td>\n",
       "      <td>7.0000</td>\n",
       "      <td>S</td>\n",
       "    </tr>\n",
       "    <tr>\n",
       "      <th>2</th>\n",
       "      <td>0</td>\n",
       "      <td>2</td>\n",
       "      <td>male</td>\n",
       "      <td>62.0</td>\n",
       "      <td>0</td>\n",
       "      <td>0</td>\n",
       "      <td>240276</td>\n",
       "      <td>9.6875</td>\n",
       "      <td>Q</td>\n",
       "    </tr>\n",
       "    <tr>\n",
       "      <th>3</th>\n",
       "      <td>0</td>\n",
       "      <td>3</td>\n",
       "      <td>male</td>\n",
       "      <td>27.0</td>\n",
       "      <td>0</td>\n",
       "      <td>0</td>\n",
       "      <td>315154</td>\n",
       "      <td>8.6625</td>\n",
       "      <td>S</td>\n",
       "    </tr>\n",
       "    <tr>\n",
       "      <th>4</th>\n",
       "      <td>1</td>\n",
       "      <td>3</td>\n",
       "      <td>female</td>\n",
       "      <td>22.0</td>\n",
       "      <td>1</td>\n",
       "      <td>1</td>\n",
       "      <td>3101298</td>\n",
       "      <td>12.2875</td>\n",
       "      <td>S</td>\n",
       "    </tr>\n",
       "  </tbody>\n",
       "</table>\n",
       "</div>"
      ],
      "text/plain": [
       "   Survived  Pclass     Sex   Age  SibSp  Parch   Ticket     Fare Embarked\n",
       "0         0       3    male  34.5      0      0   330911   7.8292        Q\n",
       "1         1       3  female  47.0      1      0   363272   7.0000        S\n",
       "2         0       2    male  62.0      0      0   240276   9.6875        Q\n",
       "3         0       3    male  27.0      0      0   315154   8.6625        S\n",
       "4         1       3  female  22.0      1      1  3101298  12.2875        S"
      ]
     },
     "execution_count": 8,
     "metadata": {},
     "output_type": "execute_result"
    }
   ],
   "source": [
    "df = wrangle(\"/kaggle/input/test-file/tested.csv\")\n",
    "df.head()"
   ]
  },
  {
   "cell_type": "code",
   "execution_count": 9,
   "id": "ead316f5",
   "metadata": {
    "execution": {
     "iopub.execute_input": "2023-01-21T14:32:21.614530Z",
     "iopub.status.busy": "2023-01-21T14:32:21.614082Z",
     "iopub.status.idle": "2023-01-21T14:32:21.624994Z",
     "shell.execute_reply": "2023-01-21T14:32:21.623712Z"
    },
    "papermill": {
     "duration": 0.02881,
     "end_time": "2023-01-21T14:32:21.627710",
     "exception": false,
     "start_time": "2023-01-21T14:32:21.598900",
     "status": "completed"
    },
    "tags": []
   },
   "outputs": [
    {
     "data": {
      "text/plain": [
       "Survived    0.000000\n",
       "Pclass      0.000000\n",
       "Sex         0.000000\n",
       "Age         0.205742\n",
       "SibSp       0.000000\n",
       "Parch       0.000000\n",
       "Ticket      0.000000\n",
       "Fare        0.002392\n",
       "Embarked    0.000000\n",
       "dtype: float64"
      ]
     },
     "execution_count": 9,
     "metadata": {},
     "output_type": "execute_result"
    }
   ],
   "source": [
    "df.isnull().sum() / len(df)"
   ]
  },
  {
   "cell_type": "code",
   "execution_count": 10,
   "id": "a9fe521a",
   "metadata": {
    "execution": {
     "iopub.execute_input": "2023-01-21T14:32:21.669119Z",
     "iopub.status.busy": "2023-01-21T14:32:21.668544Z",
     "iopub.status.idle": "2023-01-21T14:32:21.685117Z",
     "shell.execute_reply": "2023-01-21T14:32:21.684036Z"
    },
    "papermill": {
     "duration": 0.039396,
     "end_time": "2023-01-21T14:32:21.689158",
     "exception": false,
     "start_time": "2023-01-21T14:32:21.649762",
     "status": "completed"
    },
    "tags": []
   },
   "outputs": [
    {
     "data": {
      "text/plain": [
       "Survived      2\n",
       "Pclass        3\n",
       "Sex           2\n",
       "Age          79\n",
       "SibSp         7\n",
       "Parch         8\n",
       "Ticket      363\n",
       "Fare        169\n",
       "Embarked      3\n",
       "dtype: int64"
      ]
     },
     "execution_count": 10,
     "metadata": {},
     "output_type": "execute_result"
    }
   ],
   "source": [
    "df.nunique()"
   ]
  },
  {
   "cell_type": "code",
   "execution_count": 11,
   "id": "27029e00",
   "metadata": {
    "execution": {
     "iopub.execute_input": "2023-01-21T14:32:21.729258Z",
     "iopub.status.busy": "2023-01-21T14:32:21.728854Z",
     "iopub.status.idle": "2023-01-21T14:32:21.735918Z",
     "shell.execute_reply": "2023-01-21T14:32:21.734892Z"
    },
    "papermill": {
     "duration": 0.028959,
     "end_time": "2023-01-21T14:32:21.739573",
     "exception": false,
     "start_time": "2023-01-21T14:32:21.710614",
     "status": "completed"
    },
    "tags": []
   },
   "outputs": [],
   "source": [
    "# for col in df.columns:\n",
    "#     df[col].plot(kind=\"box\")\n",
    "#     plt.show()\n",
    "\n",
    "# No numeric data"
   ]
  },
  {
   "cell_type": "code",
   "execution_count": 12,
   "id": "cb79a88e",
   "metadata": {
    "execution": {
     "iopub.execute_input": "2023-01-21T14:32:21.772620Z",
     "iopub.status.busy": "2023-01-21T14:32:21.772106Z",
     "iopub.status.idle": "2023-01-21T14:32:21.789163Z",
     "shell.execute_reply": "2023-01-21T14:32:21.788205Z"
    },
    "papermill": {
     "duration": 0.035702,
     "end_time": "2023-01-21T14:32:21.791825",
     "exception": false,
     "start_time": "2023-01-21T14:32:21.756123",
     "status": "completed"
    },
    "tags": []
   },
   "outputs": [
    {
     "data": {
      "text/html": [
       "<div>\n",
       "<style scoped>\n",
       "    .dataframe tbody tr th:only-of-type {\n",
       "        vertical-align: middle;\n",
       "    }\n",
       "\n",
       "    .dataframe tbody tr th {\n",
       "        vertical-align: top;\n",
       "    }\n",
       "\n",
       "    .dataframe thead th {\n",
       "        text-align: right;\n",
       "    }\n",
       "</style>\n",
       "<table border=\"1\" class=\"dataframe\">\n",
       "  <thead>\n",
       "    <tr style=\"text-align: right;\">\n",
       "      <th></th>\n",
       "      <th>Survived</th>\n",
       "      <th>Pclass</th>\n",
       "      <th>Age</th>\n",
       "      <th>SibSp</th>\n",
       "      <th>Parch</th>\n",
       "      <th>Fare</th>\n",
       "    </tr>\n",
       "  </thead>\n",
       "  <tbody>\n",
       "    <tr>\n",
       "      <th>Survived</th>\n",
       "      <td>1.000000</td>\n",
       "      <td>-0.108615</td>\n",
       "      <td>-0.000013</td>\n",
       "      <td>0.099943</td>\n",
       "      <td>0.159120</td>\n",
       "      <td>0.191514</td>\n",
       "    </tr>\n",
       "    <tr>\n",
       "      <th>Pclass</th>\n",
       "      <td>-0.108615</td>\n",
       "      <td>1.000000</td>\n",
       "      <td>-0.492143</td>\n",
       "      <td>0.001087</td>\n",
       "      <td>0.018721</td>\n",
       "      <td>-0.577147</td>\n",
       "    </tr>\n",
       "    <tr>\n",
       "      <th>Age</th>\n",
       "      <td>-0.000013</td>\n",
       "      <td>-0.492143</td>\n",
       "      <td>1.000000</td>\n",
       "      <td>-0.091587</td>\n",
       "      <td>-0.061249</td>\n",
       "      <td>0.337932</td>\n",
       "    </tr>\n",
       "    <tr>\n",
       "      <th>SibSp</th>\n",
       "      <td>0.099943</td>\n",
       "      <td>0.001087</td>\n",
       "      <td>-0.091587</td>\n",
       "      <td>1.000000</td>\n",
       "      <td>0.306895</td>\n",
       "      <td>0.171539</td>\n",
       "    </tr>\n",
       "    <tr>\n",
       "      <th>Parch</th>\n",
       "      <td>0.159120</td>\n",
       "      <td>0.018721</td>\n",
       "      <td>-0.061249</td>\n",
       "      <td>0.306895</td>\n",
       "      <td>1.000000</td>\n",
       "      <td>0.230046</td>\n",
       "    </tr>\n",
       "    <tr>\n",
       "      <th>Fare</th>\n",
       "      <td>0.191514</td>\n",
       "      <td>-0.577147</td>\n",
       "      <td>0.337932</td>\n",
       "      <td>0.171539</td>\n",
       "      <td>0.230046</td>\n",
       "      <td>1.000000</td>\n",
       "    </tr>\n",
       "  </tbody>\n",
       "</table>\n",
       "</div>"
      ],
      "text/plain": [
       "          Survived    Pclass       Age     SibSp     Parch      Fare\n",
       "Survived  1.000000 -0.108615 -0.000013  0.099943  0.159120  0.191514\n",
       "Pclass   -0.108615  1.000000 -0.492143  0.001087  0.018721 -0.577147\n",
       "Age      -0.000013 -0.492143  1.000000 -0.091587 -0.061249  0.337932\n",
       "SibSp     0.099943  0.001087 -0.091587  1.000000  0.306895  0.171539\n",
       "Parch     0.159120  0.018721 -0.061249  0.306895  1.000000  0.230046\n",
       "Fare      0.191514 -0.577147  0.337932  0.171539  0.230046  1.000000"
      ]
     },
     "execution_count": 12,
     "metadata": {},
     "output_type": "execute_result"
    }
   ],
   "source": [
    "corr = df.corr()\n",
    "corr"
   ]
  },
  {
   "cell_type": "code",
   "execution_count": 13,
   "id": "8ff9fd65",
   "metadata": {
    "execution": {
     "iopub.execute_input": "2023-01-21T14:32:21.824925Z",
     "iopub.status.busy": "2023-01-21T14:32:21.824519Z",
     "iopub.status.idle": "2023-01-21T14:32:21.839205Z",
     "shell.execute_reply": "2023-01-21T14:32:21.837886Z"
    },
    "papermill": {
     "duration": 0.034604,
     "end_time": "2023-01-21T14:32:21.841903",
     "exception": false,
     "start_time": "2023-01-21T14:32:21.807299",
     "status": "completed"
    },
    "tags": []
   },
   "outputs": [
    {
     "data": {
      "text/plain": [
       "0    266\n",
       "1    152\n",
       "Name: Survived, dtype: int64"
      ]
     },
     "execution_count": 13,
     "metadata": {},
     "output_type": "execute_result"
    }
   ],
   "source": [
    "df[\"Survived\"].value_counts()"
   ]
  },
  {
   "cell_type": "code",
   "execution_count": 14,
   "id": "7ee1b0bc",
   "metadata": {
    "execution": {
     "iopub.execute_input": "2023-01-21T14:32:21.874166Z",
     "iopub.status.busy": "2023-01-21T14:32:21.873683Z",
     "iopub.status.idle": "2023-01-21T14:32:21.882980Z",
     "shell.execute_reply": "2023-01-21T14:32:21.881614Z"
    },
    "papermill": {
     "duration": 0.029109,
     "end_time": "2023-01-21T14:32:21.886065",
     "exception": false,
     "start_time": "2023-01-21T14:32:21.856956",
     "status": "completed"
    },
    "tags": []
   },
   "outputs": [],
   "source": [
    "# our target is survived so we are going to check the corelations with survuved individually\n",
    "\n",
    "corr_sur_with_pclass = df[\"Survived\"].corr(df[\"Pclass\"])"
   ]
  },
  {
   "cell_type": "code",
   "execution_count": 15,
   "id": "47ca7c51",
   "metadata": {
    "execution": {
     "iopub.execute_input": "2023-01-21T14:32:21.917506Z",
     "iopub.status.busy": "2023-01-21T14:32:21.917064Z",
     "iopub.status.idle": "2023-01-21T14:32:21.924395Z",
     "shell.execute_reply": "2023-01-21T14:32:21.922956Z"
    },
    "papermill": {
     "duration": 0.025684,
     "end_time": "2023-01-21T14:32:21.926909",
     "exception": false,
     "start_time": "2023-01-21T14:32:21.901225",
     "status": "completed"
    },
    "tags": []
   },
   "outputs": [],
   "source": [
    "corr_sur_with_age = df[\"Survived\"].corr(df[\"Age\"])"
   ]
  },
  {
   "cell_type": "code",
   "execution_count": 16,
   "id": "32f7fae4",
   "metadata": {
    "execution": {
     "iopub.execute_input": "2023-01-21T14:32:21.959136Z",
     "iopub.status.busy": "2023-01-21T14:32:21.958715Z",
     "iopub.status.idle": "2023-01-21T14:32:21.965311Z",
     "shell.execute_reply": "2023-01-21T14:32:21.964211Z"
    },
    "papermill": {
     "duration": 0.025523,
     "end_time": "2023-01-21T14:32:21.967857",
     "exception": false,
     "start_time": "2023-01-21T14:32:21.942334",
     "status": "completed"
    },
    "tags": []
   },
   "outputs": [],
   "source": [
    "corr_sur_with_SibSp = df[\"Survived\"].corr(df[\"SibSp\"])"
   ]
  },
  {
   "cell_type": "code",
   "execution_count": 17,
   "id": "f9c3c6d3",
   "metadata": {
    "execution": {
     "iopub.execute_input": "2023-01-21T14:32:21.998897Z",
     "iopub.status.busy": "2023-01-21T14:32:21.998500Z",
     "iopub.status.idle": "2023-01-21T14:32:22.004694Z",
     "shell.execute_reply": "2023-01-21T14:32:22.003447Z"
    },
    "papermill": {
     "duration": 0.025044,
     "end_time": "2023-01-21T14:32:22.007127",
     "exception": false,
     "start_time": "2023-01-21T14:32:21.982083",
     "status": "completed"
    },
    "tags": []
   },
   "outputs": [],
   "source": [
    "corr_sur_with_Parch = df[\"Survived\"].corr(df[\"Parch\"])"
   ]
  },
  {
   "cell_type": "code",
   "execution_count": 18,
   "id": "ddb1480d",
   "metadata": {
    "execution": {
     "iopub.execute_input": "2023-01-21T14:32:22.038413Z",
     "iopub.status.busy": "2023-01-21T14:32:22.037949Z",
     "iopub.status.idle": "2023-01-21T14:32:22.044160Z",
     "shell.execute_reply": "2023-01-21T14:32:22.043249Z"
    },
    "papermill": {
     "duration": 0.0249,
     "end_time": "2023-01-21T14:32:22.046618",
     "exception": false,
     "start_time": "2023-01-21T14:32:22.021718",
     "status": "completed"
    },
    "tags": []
   },
   "outputs": [],
   "source": [
    "corr_sur_with_Fare = df[\"Survived\"].corr(df[\"Fare\"])"
   ]
  },
  {
   "cell_type": "code",
   "execution_count": 19,
   "id": "d2cfbea3",
   "metadata": {
    "execution": {
     "iopub.execute_input": "2023-01-21T14:32:22.077878Z",
     "iopub.status.busy": "2023-01-21T14:32:22.077354Z",
     "iopub.status.idle": "2023-01-21T14:32:22.084201Z",
     "shell.execute_reply": "2023-01-21T14:32:22.082863Z"
    },
    "papermill": {
     "duration": 0.025758,
     "end_time": "2023-01-21T14:32:22.087110",
     "exception": false,
     "start_time": "2023-01-21T14:32:22.061352",
     "status": "completed"
    },
    "tags": []
   },
   "outputs": [
    {
     "name": "stdout",
     "output_type": "stream",
     "text": [
      "The corelation b/w survived and Pclass is  -0.10861452091523409\n",
      "The corelation b/w survived and Age is  -1.2682357097214666e-05\n",
      "The corelation b/w survived and SibSp is  0.0999433702502642\n",
      "The corelation b/w survived and Parch is  0.15912011283514063\n",
      "The corelation b/w survived and Fare is  0.19151374269353372\n"
     ]
    }
   ],
   "source": [
    "print(\"The corelation b/w survived and Pclass is \", corr_sur_with_pclass)\n",
    "print(\"The corelation b/w survived and Age is \", corr_sur_with_age)\n",
    "print(\"The corelation b/w survived and SibSp is \", corr_sur_with_SibSp)\n",
    "print(\"The corelation b/w survived and Parch is \", corr_sur_with_Parch)\n",
    "print(\"The corelation b/w survived and Fare is \", corr_sur_with_Fare)"
   ]
  },
  {
   "cell_type": "code",
   "execution_count": 20,
   "id": "e247464c",
   "metadata": {
    "execution": {
     "iopub.execute_input": "2023-01-21T14:32:22.119242Z",
     "iopub.status.busy": "2023-01-21T14:32:22.118767Z",
     "iopub.status.idle": "2023-01-21T14:32:22.124585Z",
     "shell.execute_reply": "2023-01-21T14:32:22.123083Z"
    },
    "papermill": {
     "duration": 0.025051,
     "end_time": "2023-01-21T14:32:22.127245",
     "exception": false,
     "start_time": "2023-01-21T14:32:22.102194",
     "status": "completed"
    },
    "tags": []
   },
   "outputs": [],
   "source": [
    "# from decimal import Decimal\n",
    "\n",
    "# s = corr_sur_with_age\n",
    "\n",
    "# b = Decimal(s)\n"
   ]
  },
  {
   "cell_type": "markdown",
   "id": "1f863f79",
   "metadata": {
    "papermill": {
     "duration": 0.014014,
     "end_time": "2023-01-21T14:32:22.156730",
     "exception": false,
     "start_time": "2023-01-21T14:32:22.142716",
     "status": "completed"
    },
    "tags": []
   },
   "source": [
    "> The corelation cofficents values shows that there is not much difference b/w the target and features"
   ]
  },
  {
   "cell_type": "markdown",
   "id": "fce4513f",
   "metadata": {
    "papermill": {
     "duration": 0.014043,
     "end_time": "2023-01-21T14:32:22.185216",
     "exception": false,
     "start_time": "2023-01-21T14:32:22.171173",
     "status": "completed"
    },
    "tags": []
   },
   "source": [
    "****Pivot Tables****"
   ]
  },
  {
   "cell_type": "code",
   "execution_count": 21,
   "id": "aa8e9357",
   "metadata": {
    "execution": {
     "iopub.execute_input": "2023-01-21T14:32:22.215852Z",
     "iopub.status.busy": "2023-01-21T14:32:22.215139Z",
     "iopub.status.idle": "2023-01-21T14:32:22.240255Z",
     "shell.execute_reply": "2023-01-21T14:32:22.238786Z"
    },
    "papermill": {
     "duration": 0.043425,
     "end_time": "2023-01-21T14:32:22.242745",
     "exception": false,
     "start_time": "2023-01-21T14:32:22.199320",
     "status": "completed"
    },
    "tags": []
   },
   "outputs": [
    {
     "data": {
      "text/html": [
       "<div>\n",
       "<style scoped>\n",
       "    .dataframe tbody tr th:only-of-type {\n",
       "        vertical-align: middle;\n",
       "    }\n",
       "\n",
       "    .dataframe tbody tr th {\n",
       "        vertical-align: top;\n",
       "    }\n",
       "\n",
       "    .dataframe thead th {\n",
       "        text-align: right;\n",
       "    }\n",
       "</style>\n",
       "<table border=\"1\" class=\"dataframe\">\n",
       "  <thead>\n",
       "    <tr style=\"text-align: right;\">\n",
       "      <th></th>\n",
       "      <th>Survived</th>\n",
       "    </tr>\n",
       "    <tr>\n",
       "      <th>Pclass</th>\n",
       "      <th></th>\n",
       "    </tr>\n",
       "  </thead>\n",
       "  <tbody>\n",
       "    <tr>\n",
       "      <th>2</th>\n",
       "      <td>0.322581</td>\n",
       "    </tr>\n",
       "    <tr>\n",
       "      <th>3</th>\n",
       "      <td>0.330275</td>\n",
       "    </tr>\n",
       "    <tr>\n",
       "      <th>1</th>\n",
       "      <td>0.467290</td>\n",
       "    </tr>\n",
       "  </tbody>\n",
       "</table>\n",
       "</div>"
      ],
      "text/plain": [
       "        Survived\n",
       "Pclass          \n",
       "2       0.322581\n",
       "3       0.330275\n",
       "1       0.467290"
      ]
     },
     "execution_count": 21,
     "metadata": {},
     "output_type": "execute_result"
    }
   ],
   "source": [
    "pclass_pivot = pd.pivot_table(\n",
    "    df, index = \"Pclass\", values = \"Survived\", aggfunc = np.mean\n",
    ").sort_values(by=\"Survived\")\n",
    "pclass_pivot"
   ]
  },
  {
   "cell_type": "code",
   "execution_count": 22,
   "id": "7ed7dd96",
   "metadata": {
    "execution": {
     "iopub.execute_input": "2023-01-21T14:32:22.274148Z",
     "iopub.status.busy": "2023-01-21T14:32:22.273701Z",
     "iopub.status.idle": "2023-01-21T14:32:22.281440Z",
     "shell.execute_reply": "2023-01-21T14:32:22.280196Z"
    },
    "papermill": {
     "duration": 0.026127,
     "end_time": "2023-01-21T14:32:22.283733",
     "exception": false,
     "start_time": "2023-01-21T14:32:22.257606",
     "status": "completed"
    },
    "tags": []
   },
   "outputs": [
    {
     "data": {
      "text/plain": [
       "79"
      ]
     },
     "execution_count": 22,
     "metadata": {},
     "output_type": "execute_result"
    }
   ],
   "source": [
    "df[\"Age\"].nunique()"
   ]
  },
  {
   "cell_type": "code",
   "execution_count": 23,
   "id": "293043ab",
   "metadata": {
    "execution": {
     "iopub.execute_input": "2023-01-21T14:32:22.315167Z",
     "iopub.status.busy": "2023-01-21T14:32:22.314723Z",
     "iopub.status.idle": "2023-01-21T14:32:22.322720Z",
     "shell.execute_reply": "2023-01-21T14:32:22.321485Z"
    },
    "papermill": {
     "duration": 0.027643,
     "end_time": "2023-01-21T14:32:22.326110",
     "exception": false,
     "start_time": "2023-01-21T14:32:22.298467",
     "status": "completed"
    },
    "tags": []
   },
   "outputs": [
    {
     "data": {
      "text/plain": [
       "3"
      ]
     },
     "execution_count": 23,
     "metadata": {},
     "output_type": "execute_result"
    }
   ],
   "source": [
    "df[\"Pclass\"].nunique()"
   ]
  },
  {
   "cell_type": "code",
   "execution_count": 24,
   "id": "95285b51",
   "metadata": {
    "execution": {
     "iopub.execute_input": "2023-01-21T14:32:22.358875Z",
     "iopub.status.busy": "2023-01-21T14:32:22.358445Z",
     "iopub.status.idle": "2023-01-21T14:32:23.014724Z",
     "shell.execute_reply": "2023-01-21T14:32:23.013478Z"
    },
    "papermill": {
     "duration": 0.675984,
     "end_time": "2023-01-21T14:32:23.018048",
     "exception": false,
     "start_time": "2023-01-21T14:32:22.342064",
     "status": "completed"
    },
    "tags": []
   },
   "outputs": [],
   "source": [
    "from sklearn.linear_model import LogisticRegression\n",
    "from sklearn.tree import DecisionTreeClassifier, plot_tree\n",
    "from category_encoders import OneHotEncoder, OrdinalEncoder\n",
    "from sklearn.impute import SimpleImputer"
   ]
  },
  {
   "cell_type": "code",
   "execution_count": 25,
   "id": "056756a4",
   "metadata": {
    "execution": {
     "iopub.execute_input": "2023-01-21T14:32:23.049672Z",
     "iopub.status.busy": "2023-01-21T14:32:23.049185Z",
     "iopub.status.idle": "2023-01-21T14:32:23.056671Z",
     "shell.execute_reply": "2023-01-21T14:32:23.055238Z"
    },
    "papermill": {
     "duration": 0.025949,
     "end_time": "2023-01-21T14:32:23.059142",
     "exception": false,
     "start_time": "2023-01-21T14:32:23.033193",
     "status": "completed"
    },
    "tags": []
   },
   "outputs": [],
   "source": [
    "target = \"Survived\"\n",
    "y = df[target]\n",
    "X = df.drop(columns = target)"
   ]
  },
  {
   "cell_type": "code",
   "execution_count": 26,
   "id": "948c66a5",
   "metadata": {
    "execution": {
     "iopub.execute_input": "2023-01-21T14:32:23.092801Z",
     "iopub.status.busy": "2023-01-21T14:32:23.092391Z",
     "iopub.status.idle": "2023-01-21T14:32:23.108746Z",
     "shell.execute_reply": "2023-01-21T14:32:23.107440Z"
    },
    "papermill": {
     "duration": 0.036921,
     "end_time": "2023-01-21T14:32:23.111104",
     "exception": false,
     "start_time": "2023-01-21T14:32:23.074183",
     "status": "completed"
    },
    "tags": []
   },
   "outputs": [
    {
     "data": {
      "text/html": [
       "<div>\n",
       "<style scoped>\n",
       "    .dataframe tbody tr th:only-of-type {\n",
       "        vertical-align: middle;\n",
       "    }\n",
       "\n",
       "    .dataframe tbody tr th {\n",
       "        vertical-align: top;\n",
       "    }\n",
       "\n",
       "    .dataframe thead th {\n",
       "        text-align: right;\n",
       "    }\n",
       "</style>\n",
       "<table border=\"1\" class=\"dataframe\">\n",
       "  <thead>\n",
       "    <tr style=\"text-align: right;\">\n",
       "      <th></th>\n",
       "      <th>Pclass</th>\n",
       "      <th>Sex</th>\n",
       "      <th>Age</th>\n",
       "      <th>SibSp</th>\n",
       "      <th>Parch</th>\n",
       "      <th>Ticket</th>\n",
       "      <th>Fare</th>\n",
       "      <th>Embarked</th>\n",
       "    </tr>\n",
       "  </thead>\n",
       "  <tbody>\n",
       "    <tr>\n",
       "      <th>0</th>\n",
       "      <td>3</td>\n",
       "      <td>male</td>\n",
       "      <td>34.5</td>\n",
       "      <td>0</td>\n",
       "      <td>0</td>\n",
       "      <td>330911</td>\n",
       "      <td>7.8292</td>\n",
       "      <td>Q</td>\n",
       "    </tr>\n",
       "    <tr>\n",
       "      <th>1</th>\n",
       "      <td>3</td>\n",
       "      <td>female</td>\n",
       "      <td>47.0</td>\n",
       "      <td>1</td>\n",
       "      <td>0</td>\n",
       "      <td>363272</td>\n",
       "      <td>7.0000</td>\n",
       "      <td>S</td>\n",
       "    </tr>\n",
       "    <tr>\n",
       "      <th>2</th>\n",
       "      <td>2</td>\n",
       "      <td>male</td>\n",
       "      <td>62.0</td>\n",
       "      <td>0</td>\n",
       "      <td>0</td>\n",
       "      <td>240276</td>\n",
       "      <td>9.6875</td>\n",
       "      <td>Q</td>\n",
       "    </tr>\n",
       "    <tr>\n",
       "      <th>3</th>\n",
       "      <td>3</td>\n",
       "      <td>male</td>\n",
       "      <td>27.0</td>\n",
       "      <td>0</td>\n",
       "      <td>0</td>\n",
       "      <td>315154</td>\n",
       "      <td>8.6625</td>\n",
       "      <td>S</td>\n",
       "    </tr>\n",
       "    <tr>\n",
       "      <th>4</th>\n",
       "      <td>3</td>\n",
       "      <td>female</td>\n",
       "      <td>22.0</td>\n",
       "      <td>1</td>\n",
       "      <td>1</td>\n",
       "      <td>3101298</td>\n",
       "      <td>12.2875</td>\n",
       "      <td>S</td>\n",
       "    </tr>\n",
       "  </tbody>\n",
       "</table>\n",
       "</div>"
      ],
      "text/plain": [
       "   Pclass     Sex   Age  SibSp  Parch   Ticket     Fare Embarked\n",
       "0       3    male  34.5      0      0   330911   7.8292        Q\n",
       "1       3  female  47.0      1      0   363272   7.0000        S\n",
       "2       2    male  62.0      0      0   240276   9.6875        Q\n",
       "3       3    male  27.0      0      0   315154   8.6625        S\n",
       "4       3  female  22.0      1      1  3101298  12.2875        S"
      ]
     },
     "execution_count": 26,
     "metadata": {},
     "output_type": "execute_result"
    }
   ],
   "source": [
    "X.head()"
   ]
  },
  {
   "cell_type": "code",
   "execution_count": null,
   "id": "e4f88023",
   "metadata": {
    "papermill": {
     "duration": 0.014937,
     "end_time": "2023-01-21T14:32:23.140905",
     "exception": false,
     "start_time": "2023-01-21T14:32:23.125968",
     "status": "completed"
    },
    "tags": []
   },
   "outputs": [],
   "source": []
  },
  {
   "cell_type": "code",
   "execution_count": 27,
   "id": "8d89a463",
   "metadata": {
    "execution": {
     "iopub.execute_input": "2023-01-21T14:32:23.174523Z",
     "iopub.status.busy": "2023-01-21T14:32:23.174099Z",
     "iopub.status.idle": "2023-01-21T14:32:23.183842Z",
     "shell.execute_reply": "2023-01-21T14:32:23.182722Z"
    },
    "papermill": {
     "duration": 0.02932,
     "end_time": "2023-01-21T14:32:23.186502",
     "exception": false,
     "start_time": "2023-01-21T14:32:23.157182",
     "status": "completed"
    },
    "tags": []
   },
   "outputs": [],
   "source": [
    "from sklearn.model_selection import train_test_split\n",
    "X_train, X_val, y_train, y_val = train_test_split(\n",
    "    X, y, test_size = 0.2, random_state = 42\n",
    ")"
   ]
  },
  {
   "cell_type": "code",
   "execution_count": 28,
   "id": "9c8ecaa3",
   "metadata": {
    "execution": {
     "iopub.execute_input": "2023-01-21T14:32:23.219044Z",
     "iopub.status.busy": "2023-01-21T14:32:23.218629Z",
     "iopub.status.idle": "2023-01-21T14:32:23.228099Z",
     "shell.execute_reply": "2023-01-21T14:32:23.226799Z"
    },
    "papermill": {
     "duration": 0.029607,
     "end_time": "2023-01-21T14:32:23.231056",
     "exception": false,
     "start_time": "2023-01-21T14:32:23.201449",
     "status": "completed"
    },
    "tags": []
   },
   "outputs": [],
   "source": [
    "from sklearn.pipeline import make_pipeline"
   ]
  },
  {
   "cell_type": "code",
   "execution_count": 29,
   "id": "1f29ae2c",
   "metadata": {
    "execution": {
     "iopub.execute_input": "2023-01-21T14:32:23.262705Z",
     "iopub.status.busy": "2023-01-21T14:32:23.262266Z",
     "iopub.status.idle": "2023-01-21T14:32:23.514012Z",
     "shell.execute_reply": "2023-01-21T14:32:23.512614Z"
    },
    "papermill": {
     "duration": 0.272595,
     "end_time": "2023-01-21T14:32:23.518628",
     "exception": false,
     "start_time": "2023-01-21T14:32:23.246033",
     "status": "completed"
    },
    "tags": []
   },
   "outputs": [
    {
     "data": {
      "text/plain": [
       "Pipeline(steps=[('onehotencoder',\n",
       "                 OneHotEncoder(cols=['Sex', 'Ticket', 'Embarked'],\n",
       "                               use_cat_names=True)),\n",
       "                ('simpleimputer', SimpleImputer()),\n",
       "                ('logisticregression', LogisticRegression(max_iter=1000))])"
      ]
     },
     "execution_count": 29,
     "metadata": {},
     "output_type": "execute_result"
    }
   ],
   "source": [
    "model_lr = make_pipeline(\n",
    "    OneHotEncoder(use_cat_names = True), SimpleImputer(),\n",
    "    LogisticRegression(max_iter = 1000)\n",
    ")\n",
    "model_lr.fit(X_train, y_train)"
   ]
  },
  {
   "cell_type": "code",
   "execution_count": 30,
   "id": "acb9301d",
   "metadata": {
    "execution": {
     "iopub.execute_input": "2023-01-21T14:32:23.601412Z",
     "iopub.status.busy": "2023-01-21T14:32:23.600509Z",
     "iopub.status.idle": "2023-01-21T14:32:23.639794Z",
     "shell.execute_reply": "2023-01-21T14:32:23.638439Z"
    },
    "papermill": {
     "duration": 0.085195,
     "end_time": "2023-01-21T14:32:23.644124",
     "exception": false,
     "start_time": "2023-01-21T14:32:23.558929",
     "status": "completed"
    },
    "tags": []
   },
   "outputs": [
    {
     "name": "stdout",
     "output_type": "stream",
     "text": [
      "1.0\n"
     ]
    }
   ],
   "source": [
    "lr_train_accuracy = model_lr.score(X_train, y_train)\n",
    "print(lr_train_accuracy)"
   ]
  },
  {
   "cell_type": "code",
   "execution_count": 31,
   "id": "b5bfced0",
   "metadata": {
    "execution": {
     "iopub.execute_input": "2023-01-21T14:32:23.727458Z",
     "iopub.status.busy": "2023-01-21T14:32:23.726739Z",
     "iopub.status.idle": "2023-01-21T14:32:23.764730Z",
     "shell.execute_reply": "2023-01-21T14:32:23.763321Z"
    },
    "papermill": {
     "duration": 0.085724,
     "end_time": "2023-01-21T14:32:23.770870",
     "exception": false,
     "start_time": "2023-01-21T14:32:23.685146",
     "status": "completed"
    },
    "tags": []
   },
   "outputs": [
    {
     "name": "stdout",
     "output_type": "stream",
     "text": [
      "1.0\n"
     ]
    }
   ],
   "source": [
    "lr_val_accuracy = model_lr.score(X_val, y_val)\n",
    "print(lr_val_accuracy)"
   ]
  },
  {
   "cell_type": "code",
   "execution_count": 32,
   "id": "9373c5fe",
   "metadata": {
    "execution": {
     "iopub.execute_input": "2023-01-21T14:32:23.856233Z",
     "iopub.status.busy": "2023-01-21T14:32:23.855507Z",
     "iopub.status.idle": "2023-01-21T14:32:23.867175Z",
     "shell.execute_reply": "2023-01-21T14:32:23.865884Z"
    },
    "papermill": {
     "duration": 0.059607,
     "end_time": "2023-01-21T14:32:23.870959",
     "exception": false,
     "start_time": "2023-01-21T14:32:23.811352",
     "status": "completed"
    },
    "tags": []
   },
   "outputs": [
    {
     "data": {
      "text/plain": [
       "['Pclass',\n",
       " 'Sex_male',\n",
       " 'Sex_female',\n",
       " 'Age',\n",
       " 'SibSp',\n",
       " 'Parch',\n",
       " 'Ticket_244360',\n",
       " 'Ticket_C.A. 31029',\n",
       " 'Ticket_240261',\n",
       " 'Ticket_21228']"
      ]
     },
     "execution_count": 32,
     "metadata": {},
     "output_type": "execute_result"
    }
   ],
   "source": [
    "features = model_lr.named_steps[\"onehotencoder\"].get_feature_names()\n",
    "features[:10]"
   ]
  },
  {
   "cell_type": "code",
   "execution_count": 33,
   "id": "3454ce31",
   "metadata": {
    "execution": {
     "iopub.execute_input": "2023-01-21T14:32:23.910844Z",
     "iopub.status.busy": "2023-01-21T14:32:23.910329Z",
     "iopub.status.idle": "2023-01-21T14:32:23.918697Z",
     "shell.execute_reply": "2023-01-21T14:32:23.917474Z"
    },
    "papermill": {
     "duration": 0.028779,
     "end_time": "2023-01-21T14:32:23.921315",
     "exception": false,
     "start_time": "2023-01-21T14:32:23.892536",
     "status": "completed"
    },
    "tags": []
   },
   "outputs": [
    {
     "data": {
      "text/plain": [
       "array([-9.93840981e-02, -3.67683970e+00,  3.67681142e+00, -2.72190466e-03,\n",
       "        6.30680954e-02])"
      ]
     },
     "execution_count": 33,
     "metadata": {},
     "output_type": "execute_result"
    }
   ],
   "source": [
    "importances = model_lr.named_steps[\"logisticregression\"].coef_[0]\n",
    "importances[:5]"
   ]
  },
  {
   "cell_type": "code",
   "execution_count": 34,
   "id": "de6f5963",
   "metadata": {
    "execution": {
     "iopub.execute_input": "2023-01-21T14:32:23.955411Z",
     "iopub.status.busy": "2023-01-21T14:32:23.954208Z",
     "iopub.status.idle": "2023-01-21T14:32:23.965178Z",
     "shell.execute_reply": "2023-01-21T14:32:23.964015Z"
    },
    "papermill": {
     "duration": 0.030424,
     "end_time": "2023-01-21T14:32:23.967655",
     "exception": false,
     "start_time": "2023-01-21T14:32:23.937231",
     "status": "completed"
    },
    "tags": []
   },
   "outputs": [
    {
     "data": {
      "text/plain": [
       "Sex_male         0.025303\n",
       "Embarked_S       0.865837\n",
       "Pclass           0.905395\n",
       "Embarked_C       0.916162\n",
       "Ticket_347077    0.938440\n",
       "dtype: float64"
      ]
     },
     "execution_count": 34,
     "metadata": {},
     "output_type": "execute_result"
    }
   ],
   "source": [
    "features = model_lr.named_steps[\"onehotencoder\"].get_feature_names()\n",
    "importances = model_lr.named_steps[\"logisticregression\"].coef_[0]\n",
    "feat_imp = pd.Series(np.exp(importances), index=features).sort_values()\n",
    "feat_imp.head()"
   ]
  },
  {
   "cell_type": "markdown",
   "id": "24be53a8",
   "metadata": {
    "papermill": {
     "duration": 0.01528,
     "end_time": "2023-01-21T14:32:23.998370",
     "exception": false,
     "start_time": "2023-01-21T14:32:23.983090",
     "status": "completed"
    },
    "tags": []
   },
   "source": [
    "****DecisionTreeClassifier****"
   ]
  },
  {
   "cell_type": "code",
   "execution_count": 35,
   "id": "68baef42",
   "metadata": {
    "execution": {
     "iopub.execute_input": "2023-01-21T14:32:24.031756Z",
     "iopub.status.busy": "2023-01-21T14:32:24.030948Z",
     "iopub.status.idle": "2023-01-21T14:32:24.115137Z",
     "shell.execute_reply": "2023-01-21T14:32:24.114126Z"
    },
    "papermill": {
     "duration": 0.103649,
     "end_time": "2023-01-21T14:32:24.117558",
     "exception": false,
     "start_time": "2023-01-21T14:32:24.013909",
     "status": "completed"
    },
    "tags": []
   },
   "outputs": [
    {
     "data": {
      "text/plain": [
       "Pipeline(steps=[('ordinalencoder',\n",
       "                 OrdinalEncoder(cols=['Sex', 'Ticket', 'Embarked'],\n",
       "                                mapping=[{'col': 'Sex', 'data_type': dtype('O'),\n",
       "                                          'mapping': male      1\n",
       "female    2\n",
       "NaN      -2\n",
       "dtype: int64},\n",
       "                                         {'col': 'Ticket',\n",
       "                                          'data_type': dtype('O'),\n",
       "                                          'mapping': 244360          1\n",
       "C.A. 31029      2\n",
       "240261          3\n",
       "21228           4\n",
       "28004           5\n",
       "             ... \n",
       "349211        288\n",
       "330920        289\n",
       "248726        290\n",
       "365235        291\n",
       "NaN            -2\n",
       "Length: 292, dtype: int64},\n",
       "                                         {'col': 'Embarked',\n",
       "                                          'data_type': dtype('O'),\n",
       "                                          'mapping': S      1\n",
       "Q      2\n",
       "C      3\n",
       "NaN   -2\n",
       "dtype: int64}])),\n",
       "                ('simpleimputer', SimpleImputer()),\n",
       "                ('decisiontreeclassifier',\n",
       "                 DecisionTreeClassifier(max_depth=6, random_state=42))])"
      ]
     },
     "execution_count": 35,
     "metadata": {},
     "output_type": "execute_result"
    }
   ],
   "source": [
    "model_dtc = make_pipeline(\n",
    "    OrdinalEncoder(), SimpleImputer(),\n",
    "    DecisionTreeClassifier(max_depth = 6, random_state=42)\n",
    ")\n",
    "model_dtc.fit(X_train, y_train)"
   ]
  },
  {
   "cell_type": "code",
   "execution_count": 36,
   "id": "dd1435d1",
   "metadata": {
    "execution": {
     "iopub.execute_input": "2023-01-21T14:32:24.151648Z",
     "iopub.status.busy": "2023-01-21T14:32:24.150808Z",
     "iopub.status.idle": "2023-01-21T14:32:24.166189Z",
     "shell.execute_reply": "2023-01-21T14:32:24.164293Z"
    },
    "papermill": {
     "duration": 0.036481,
     "end_time": "2023-01-21T14:32:24.170057",
     "exception": false,
     "start_time": "2023-01-21T14:32:24.133576",
     "status": "completed"
    },
    "tags": []
   },
   "outputs": [
    {
     "name": "stdout",
     "output_type": "stream",
     "text": [
      "1.0\n"
     ]
    }
   ],
   "source": [
    "acc_train = model_dtc.score(X_train, y_train)\n",
    "print(acc_train)"
   ]
  },
  {
   "cell_type": "code",
   "execution_count": 37,
   "id": "9971dc36",
   "metadata": {
    "execution": {
     "iopub.execute_input": "2023-01-21T14:32:24.204400Z",
     "iopub.status.busy": "2023-01-21T14:32:24.203947Z",
     "iopub.status.idle": "2023-01-21T14:32:24.221021Z",
     "shell.execute_reply": "2023-01-21T14:32:24.219290Z"
    },
    "papermill": {
     "duration": 0.038,
     "end_time": "2023-01-21T14:32:24.224605",
     "exception": false,
     "start_time": "2023-01-21T14:32:24.186605",
     "status": "completed"
    },
    "tags": []
   },
   "outputs": [
    {
     "name": "stdout",
     "output_type": "stream",
     "text": [
      "1.0\n"
     ]
    }
   ],
   "source": [
    "acc_val = model_dtc.score(X_val, y_val)\n",
    "print(acc_val)"
   ]
  },
  {
   "cell_type": "code",
   "execution_count": 38,
   "id": "af2855dd",
   "metadata": {
    "execution": {
     "iopub.execute_input": "2023-01-21T14:32:24.258200Z",
     "iopub.status.busy": "2023-01-21T14:32:24.257775Z",
     "iopub.status.idle": "2023-01-21T14:32:24.264310Z",
     "shell.execute_reply": "2023-01-21T14:32:24.263086Z"
    },
    "papermill": {
     "duration": 0.026418,
     "end_time": "2023-01-21T14:32:24.267208",
     "exception": false,
     "start_time": "2023-01-21T14:32:24.240790",
     "status": "completed"
    },
    "tags": []
   },
   "outputs": [
    {
     "name": "stdout",
     "output_type": "stream",
     "text": [
      "1\n"
     ]
    }
   ],
   "source": [
    "tree_depth = model_dtc.named_steps[\"decisiontreeclassifier\"].get_depth()\n",
    "print(tree_depth)"
   ]
  },
  {
   "cell_type": "markdown",
   "id": "e9ace8c1",
   "metadata": {
    "papermill": {
     "duration": 0.015453,
     "end_time": "2023-01-21T14:32:24.299909",
     "exception": false,
     "start_time": "2023-01-21T14:32:24.284456",
     "status": "completed"
    },
    "tags": []
   },
   "source": [
    " ****Reduce some of unnecessary features****\n",
    "> Just keep necessary features that are higher corelated>  "
   ]
  },
  {
   "cell_type": "code",
   "execution_count": 39,
   "id": "b216b1dd",
   "metadata": {
    "execution": {
     "iopub.execute_input": "2023-01-21T14:32:24.334910Z",
     "iopub.status.busy": "2023-01-21T14:32:24.334485Z",
     "iopub.status.idle": "2023-01-21T14:32:24.349447Z",
     "shell.execute_reply": "2023-01-21T14:32:24.348199Z"
    },
    "papermill": {
     "duration": 0.035431,
     "end_time": "2023-01-21T14:32:24.351994",
     "exception": false,
     "start_time": "2023-01-21T14:32:24.316563",
     "status": "completed"
    },
    "tags": []
   },
   "outputs": [
    {
     "data": {
      "text/html": [
       "<div>\n",
       "<style scoped>\n",
       "    .dataframe tbody tr th:only-of-type {\n",
       "        vertical-align: middle;\n",
       "    }\n",
       "\n",
       "    .dataframe tbody tr th {\n",
       "        vertical-align: top;\n",
       "    }\n",
       "\n",
       "    .dataframe thead th {\n",
       "        text-align: right;\n",
       "    }\n",
       "</style>\n",
       "<table border=\"1\" class=\"dataframe\">\n",
       "  <thead>\n",
       "    <tr style=\"text-align: right;\">\n",
       "      <th></th>\n",
       "      <th>Survived</th>\n",
       "      <th>Pclass</th>\n",
       "      <th>Age</th>\n",
       "      <th>SibSp</th>\n",
       "      <th>Parch</th>\n",
       "      <th>Fare</th>\n",
       "    </tr>\n",
       "  </thead>\n",
       "  <tbody>\n",
       "    <tr>\n",
       "      <th>Survived</th>\n",
       "      <td>1.000000</td>\n",
       "      <td>-0.108615</td>\n",
       "      <td>-0.000013</td>\n",
       "      <td>0.099943</td>\n",
       "      <td>0.159120</td>\n",
       "      <td>0.191514</td>\n",
       "    </tr>\n",
       "    <tr>\n",
       "      <th>Pclass</th>\n",
       "      <td>-0.108615</td>\n",
       "      <td>1.000000</td>\n",
       "      <td>-0.492143</td>\n",
       "      <td>0.001087</td>\n",
       "      <td>0.018721</td>\n",
       "      <td>-0.577147</td>\n",
       "    </tr>\n",
       "    <tr>\n",
       "      <th>Age</th>\n",
       "      <td>-0.000013</td>\n",
       "      <td>-0.492143</td>\n",
       "      <td>1.000000</td>\n",
       "      <td>-0.091587</td>\n",
       "      <td>-0.061249</td>\n",
       "      <td>0.337932</td>\n",
       "    </tr>\n",
       "    <tr>\n",
       "      <th>SibSp</th>\n",
       "      <td>0.099943</td>\n",
       "      <td>0.001087</td>\n",
       "      <td>-0.091587</td>\n",
       "      <td>1.000000</td>\n",
       "      <td>0.306895</td>\n",
       "      <td>0.171539</td>\n",
       "    </tr>\n",
       "    <tr>\n",
       "      <th>Parch</th>\n",
       "      <td>0.159120</td>\n",
       "      <td>0.018721</td>\n",
       "      <td>-0.061249</td>\n",
       "      <td>0.306895</td>\n",
       "      <td>1.000000</td>\n",
       "      <td>0.230046</td>\n",
       "    </tr>\n",
       "    <tr>\n",
       "      <th>Fare</th>\n",
       "      <td>0.191514</td>\n",
       "      <td>-0.577147</td>\n",
       "      <td>0.337932</td>\n",
       "      <td>0.171539</td>\n",
       "      <td>0.230046</td>\n",
       "      <td>1.000000</td>\n",
       "    </tr>\n",
       "  </tbody>\n",
       "</table>\n",
       "</div>"
      ],
      "text/plain": [
       "          Survived    Pclass       Age     SibSp     Parch      Fare\n",
       "Survived  1.000000 -0.108615 -0.000013  0.099943  0.159120  0.191514\n",
       "Pclass   -0.108615  1.000000 -0.492143  0.001087  0.018721 -0.577147\n",
       "Age      -0.000013 -0.492143  1.000000 -0.091587 -0.061249  0.337932\n",
       "SibSp     0.099943  0.001087 -0.091587  1.000000  0.306895  0.171539\n",
       "Parch     0.159120  0.018721 -0.061249  0.306895  1.000000  0.230046\n",
       "Fare      0.191514 -0.577147  0.337932  0.171539  0.230046  1.000000"
      ]
     },
     "execution_count": 39,
     "metadata": {},
     "output_type": "execute_result"
    }
   ],
   "source": [
    "corr = df.corr()\n",
    "corr"
   ]
  },
  {
   "cell_type": "code",
   "execution_count": 40,
   "id": "e8d60f75",
   "metadata": {
    "execution": {
     "iopub.execute_input": "2023-01-21T14:32:24.388920Z",
     "iopub.status.busy": "2023-01-21T14:32:24.388509Z",
     "iopub.status.idle": "2023-01-21T14:32:24.395104Z",
     "shell.execute_reply": "2023-01-21T14:32:24.394160Z"
    },
    "papermill": {
     "duration": 0.029606,
     "end_time": "2023-01-21T14:32:24.397579",
     "exception": false,
     "start_time": "2023-01-21T14:32:24.367973",
     "status": "completed"
    },
    "tags": []
   },
   "outputs": [],
   "source": [
    "target1 = \"Survived\"\n",
    "features1 = [\"Pclass\", \"SibSp\", \"Parch\", \"Fare\"]\n",
    "y1 = df[target1]\n",
    "X1 = df[features1]"
   ]
  },
  {
   "cell_type": "code",
   "execution_count": 41,
   "id": "fd00e072",
   "metadata": {
    "execution": {
     "iopub.execute_input": "2023-01-21T14:32:24.432191Z",
     "iopub.status.busy": "2023-01-21T14:32:24.431752Z",
     "iopub.status.idle": "2023-01-21T14:32:24.444917Z",
     "shell.execute_reply": "2023-01-21T14:32:24.443491Z"
    },
    "papermill": {
     "duration": 0.033789,
     "end_time": "2023-01-21T14:32:24.447566",
     "exception": false,
     "start_time": "2023-01-21T14:32:24.413777",
     "status": "completed"
    },
    "tags": []
   },
   "outputs": [
    {
     "data": {
      "text/html": [
       "<div>\n",
       "<style scoped>\n",
       "    .dataframe tbody tr th:only-of-type {\n",
       "        vertical-align: middle;\n",
       "    }\n",
       "\n",
       "    .dataframe tbody tr th {\n",
       "        vertical-align: top;\n",
       "    }\n",
       "\n",
       "    .dataframe thead th {\n",
       "        text-align: right;\n",
       "    }\n",
       "</style>\n",
       "<table border=\"1\" class=\"dataframe\">\n",
       "  <thead>\n",
       "    <tr style=\"text-align: right;\">\n",
       "      <th></th>\n",
       "      <th>Pclass</th>\n",
       "      <th>SibSp</th>\n",
       "      <th>Parch</th>\n",
       "      <th>Fare</th>\n",
       "    </tr>\n",
       "  </thead>\n",
       "  <tbody>\n",
       "    <tr>\n",
       "      <th>0</th>\n",
       "      <td>3</td>\n",
       "      <td>0</td>\n",
       "      <td>0</td>\n",
       "      <td>7.8292</td>\n",
       "    </tr>\n",
       "    <tr>\n",
       "      <th>1</th>\n",
       "      <td>3</td>\n",
       "      <td>1</td>\n",
       "      <td>0</td>\n",
       "      <td>7.0000</td>\n",
       "    </tr>\n",
       "    <tr>\n",
       "      <th>2</th>\n",
       "      <td>2</td>\n",
       "      <td>0</td>\n",
       "      <td>0</td>\n",
       "      <td>9.6875</td>\n",
       "    </tr>\n",
       "    <tr>\n",
       "      <th>3</th>\n",
       "      <td>3</td>\n",
       "      <td>0</td>\n",
       "      <td>0</td>\n",
       "      <td>8.6625</td>\n",
       "    </tr>\n",
       "    <tr>\n",
       "      <th>4</th>\n",
       "      <td>3</td>\n",
       "      <td>1</td>\n",
       "      <td>1</td>\n",
       "      <td>12.2875</td>\n",
       "    </tr>\n",
       "  </tbody>\n",
       "</table>\n",
       "</div>"
      ],
      "text/plain": [
       "   Pclass  SibSp  Parch     Fare\n",
       "0       3      0      0   7.8292\n",
       "1       3      1      0   7.0000\n",
       "2       2      0      0   9.6875\n",
       "3       3      0      0   8.6625\n",
       "4       3      1      1  12.2875"
      ]
     },
     "execution_count": 41,
     "metadata": {},
     "output_type": "execute_result"
    }
   ],
   "source": [
    "X1.head()"
   ]
  },
  {
   "cell_type": "code",
   "execution_count": 42,
   "id": "05430d6b",
   "metadata": {
    "execution": {
     "iopub.execute_input": "2023-01-21T14:32:24.482994Z",
     "iopub.status.busy": "2023-01-21T14:32:24.482533Z",
     "iopub.status.idle": "2023-01-21T14:32:24.489088Z",
     "shell.execute_reply": "2023-01-21T14:32:24.487693Z"
    },
    "papermill": {
     "duration": 0.028176,
     "end_time": "2023-01-21T14:32:24.491999",
     "exception": false,
     "start_time": "2023-01-21T14:32:24.463823",
     "status": "completed"
    },
    "tags": []
   },
   "outputs": [
    {
     "name": "stdout",
     "output_type": "stream",
     "text": [
      "(418, 4)\n",
      "(418,)\n"
     ]
    }
   ],
   "source": [
    "print(X1.shape)\n",
    "print(y1.shape)"
   ]
  },
  {
   "cell_type": "code",
   "execution_count": 43,
   "id": "052b3f08",
   "metadata": {
    "execution": {
     "iopub.execute_input": "2023-01-21T14:32:24.527756Z",
     "iopub.status.busy": "2023-01-21T14:32:24.527333Z",
     "iopub.status.idle": "2023-01-21T14:32:24.534512Z",
     "shell.execute_reply": "2023-01-21T14:32:24.533181Z"
    },
    "papermill": {
     "duration": 0.02837,
     "end_time": "2023-01-21T14:32:24.537041",
     "exception": false,
     "start_time": "2023-01-21T14:32:24.508671",
     "status": "completed"
    },
    "tags": []
   },
   "outputs": [],
   "source": [
    "X_train1, X_val1, y_train1, y_val1 = train_test_split(\n",
    "    X1, y1, test_size = 0.2, random_state = 42\n",
    ")"
   ]
  },
  {
   "cell_type": "code",
   "execution_count": 44,
   "id": "01783b09",
   "metadata": {
    "execution": {
     "iopub.execute_input": "2023-01-21T14:32:24.571905Z",
     "iopub.status.busy": "2023-01-21T14:32:24.571467Z",
     "iopub.status.idle": "2023-01-21T14:32:24.600436Z",
     "shell.execute_reply": "2023-01-21T14:32:24.598667Z"
    },
    "papermill": {
     "duration": 0.049826,
     "end_time": "2023-01-21T14:32:24.603247",
     "exception": false,
     "start_time": "2023-01-21T14:32:24.553421",
     "status": "completed"
    },
    "tags": []
   },
   "outputs": [
    {
     "name": "stdout",
     "output_type": "stream",
     "text": [
      "Warning: No categorical columns found. Calling 'transform' will only return input data.\n"
     ]
    },
    {
     "data": {
      "text/plain": [
       "Pipeline(steps=[('onehotencoder', OneHotEncoder(cols=[], use_cat_names=True)),\n",
       "                ('simpleimputer', SimpleImputer()),\n",
       "                ('logisticregression', LogisticRegression(max_iter=1000))])"
      ]
     },
     "execution_count": 44,
     "metadata": {},
     "output_type": "execute_result"
    }
   ],
   "source": [
    "model_lr1 = make_pipeline(\n",
    "    OneHotEncoder(use_cat_names = True), SimpleImputer(),\n",
    "    #SimpleImputer(),\n",
    "    LogisticRegression(max_iter = 1000)\n",
    ")\n",
    "model_lr1.fit(X_train1, y_train1)"
   ]
  },
  {
   "cell_type": "code",
   "execution_count": 45,
   "id": "d765be76",
   "metadata": {
    "execution": {
     "iopub.execute_input": "2023-01-21T14:32:24.638544Z",
     "iopub.status.busy": "2023-01-21T14:32:24.638092Z",
     "iopub.status.idle": "2023-01-21T14:32:24.649286Z",
     "shell.execute_reply": "2023-01-21T14:32:24.647060Z"
    },
    "papermill": {
     "duration": 0.033213,
     "end_time": "2023-01-21T14:32:24.652958",
     "exception": false,
     "start_time": "2023-01-21T14:32:24.619745",
     "status": "completed"
    },
    "tags": []
   },
   "outputs": [
    {
     "name": "stdout",
     "output_type": "stream",
     "text": [
      "0.6467065868263473\n"
     ]
    }
   ],
   "source": [
    "lr_train_accuracy1 = model_lr1.score(X_train1, y_train1)\n",
    "print(lr_train_accuracy1)"
   ]
  },
  {
   "cell_type": "code",
   "execution_count": 46,
   "id": "f8046c32",
   "metadata": {
    "execution": {
     "iopub.execute_input": "2023-01-21T14:32:24.689616Z",
     "iopub.status.busy": "2023-01-21T14:32:24.689163Z",
     "iopub.status.idle": "2023-01-21T14:32:24.700062Z",
     "shell.execute_reply": "2023-01-21T14:32:24.698618Z"
    },
    "papermill": {
     "duration": 0.032049,
     "end_time": "2023-01-21T14:32:24.702841",
     "exception": false,
     "start_time": "2023-01-21T14:32:24.670792",
     "status": "completed"
    },
    "tags": []
   },
   "outputs": [
    {
     "name": "stdout",
     "output_type": "stream",
     "text": [
      "0.6190476190476191\n"
     ]
    }
   ],
   "source": [
    "lr_val_accuracy1 = model_lr1.score(X_val1, y_val1)\n",
    "print(lr_val_accuracy1)"
   ]
  },
  {
   "cell_type": "code",
   "execution_count": 47,
   "id": "7880901f",
   "metadata": {
    "execution": {
     "iopub.execute_input": "2023-01-21T14:32:24.740033Z",
     "iopub.status.busy": "2023-01-21T14:32:24.739628Z",
     "iopub.status.idle": "2023-01-21T14:32:24.747683Z",
     "shell.execute_reply": "2023-01-21T14:32:24.746311Z"
    },
    "papermill": {
     "duration": 0.029148,
     "end_time": "2023-01-21T14:32:24.750119",
     "exception": false,
     "start_time": "2023-01-21T14:32:24.720971",
     "status": "completed"
    },
    "tags": []
   },
   "outputs": [
    {
     "data": {
      "text/plain": [
       "['Pclass', 'SibSp', 'Parch', 'Fare']"
      ]
     },
     "execution_count": 47,
     "metadata": {},
     "output_type": "execute_result"
    }
   ],
   "source": [
    "features1 = model_lr1.named_steps[\"onehotencoder\"].get_feature_names()\n",
    "#features1 = model_lr1.get_feature_names()\n",
    "features1[:10]"
   ]
  },
  {
   "cell_type": "code",
   "execution_count": 48,
   "id": "59dc0cb3",
   "metadata": {
    "execution": {
     "iopub.execute_input": "2023-01-21T14:32:24.786564Z",
     "iopub.status.busy": "2023-01-21T14:32:24.786129Z",
     "iopub.status.idle": "2023-01-21T14:32:24.794054Z",
     "shell.execute_reply": "2023-01-21T14:32:24.792809Z"
    },
    "papermill": {
     "duration": 0.029031,
     "end_time": "2023-01-21T14:32:24.796716",
     "exception": false,
     "start_time": "2023-01-21T14:32:24.767685",
     "status": "completed"
    },
    "tags": []
   },
   "outputs": [
    {
     "data": {
      "text/plain": [
       "array([-0.15804764,  0.10642314,  0.14229042,  0.00495701])"
      ]
     },
     "execution_count": 48,
     "metadata": {},
     "output_type": "execute_result"
    }
   ],
   "source": [
    "importances1 = model_lr1.named_steps[\"logisticregression\"].coef_[0]\n",
    "importances1[:5]"
   ]
  },
  {
   "cell_type": "code",
   "execution_count": 49,
   "id": "6a486ff6",
   "metadata": {
    "execution": {
     "iopub.execute_input": "2023-01-21T14:32:24.834070Z",
     "iopub.status.busy": "2023-01-21T14:32:24.833652Z",
     "iopub.status.idle": "2023-01-21T14:32:24.845418Z",
     "shell.execute_reply": "2023-01-21T14:32:24.844059Z"
    },
    "papermill": {
     "duration": 0.034381,
     "end_time": "2023-01-21T14:32:24.848150",
     "exception": false,
     "start_time": "2023-01-21T14:32:24.813769",
     "status": "completed"
    },
    "tags": []
   },
   "outputs": [
    {
     "data": {
      "text/plain": [
       "Pclass    0.853809\n",
       "Fare      1.004969\n",
       "SibSp     1.112292\n",
       "Parch     1.152911\n",
       "dtype: float64"
      ]
     },
     "execution_count": 49,
     "metadata": {},
     "output_type": "execute_result"
    }
   ],
   "source": [
    "features1 = model_lr1.named_steps[\"onehotencoder\"].get_feature_names()\n",
    "importances1 = model_lr1.named_steps[\"logisticregression\"].coef_[0]\n",
    "feat_imp1 = pd.Series(np.exp(importances1), index=features1).sort_values()\n",
    "feat_imp1.head()"
   ]
  },
  {
   "cell_type": "code",
   "execution_count": 50,
   "id": "5d6d82aa",
   "metadata": {
    "execution": {
     "iopub.execute_input": "2023-01-21T14:32:24.884319Z",
     "iopub.status.busy": "2023-01-21T14:32:24.883908Z",
     "iopub.status.idle": "2023-01-21T14:32:24.905228Z",
     "shell.execute_reply": "2023-01-21T14:32:24.903583Z"
    },
    "papermill": {
     "duration": 0.043892,
     "end_time": "2023-01-21T14:32:24.909071",
     "exception": false,
     "start_time": "2023-01-21T14:32:24.865179",
     "status": "completed"
    },
    "tags": []
   },
   "outputs": [
    {
     "name": "stdout",
     "output_type": "stream",
     "text": [
      "Warning: No categorical columns found. Calling 'transform' will only return input data.\n"
     ]
    },
    {
     "data": {
      "text/plain": [
       "Pipeline(steps=[('ordinalencoder', OrdinalEncoder(cols=[], mapping=[])),\n",
       "                ('simpleimputer', SimpleImputer()),\n",
       "                ('decisiontreeclassifier',\n",
       "                 DecisionTreeClassifier(max_depth=6, random_state=42))])"
      ]
     },
     "execution_count": 50,
     "metadata": {},
     "output_type": "execute_result"
    }
   ],
   "source": [
    "model_dtc1 = make_pipeline(\n",
    "    OrdinalEncoder(), SimpleImputer(),\n",
    "    DecisionTreeClassifier(max_depth = 6, random_state=42)\n",
    ")\n",
    "model_dtc1.fit(X_train1, y_train1)"
   ]
  },
  {
   "cell_type": "code",
   "execution_count": 51,
   "id": "9aa1dff3",
   "metadata": {
    "execution": {
     "iopub.execute_input": "2023-01-21T14:32:24.947606Z",
     "iopub.status.busy": "2023-01-21T14:32:24.946552Z",
     "iopub.status.idle": "2023-01-21T14:32:24.956448Z",
     "shell.execute_reply": "2023-01-21T14:32:24.954915Z"
    },
    "papermill": {
     "duration": 0.032068,
     "end_time": "2023-01-21T14:32:24.959393",
     "exception": false,
     "start_time": "2023-01-21T14:32:24.927325",
     "status": "completed"
    },
    "tags": []
   },
   "outputs": [
    {
     "name": "stdout",
     "output_type": "stream",
     "text": [
      "0.7634730538922155\n"
     ]
    }
   ],
   "source": [
    "acc_train1 = model_dtc1.score(X_train1, y_train1)\n",
    "print(acc_train1)"
   ]
  },
  {
   "cell_type": "code",
   "execution_count": 52,
   "id": "b7037510",
   "metadata": {
    "execution": {
     "iopub.execute_input": "2023-01-21T14:32:24.996996Z",
     "iopub.status.busy": "2023-01-21T14:32:24.995248Z",
     "iopub.status.idle": "2023-01-21T14:32:25.006162Z",
     "shell.execute_reply": "2023-01-21T14:32:25.004620Z"
    },
    "papermill": {
     "duration": 0.034075,
     "end_time": "2023-01-21T14:32:25.010767",
     "exception": false,
     "start_time": "2023-01-21T14:32:24.976692",
     "status": "completed"
    },
    "tags": []
   },
   "outputs": [
    {
     "name": "stdout",
     "output_type": "stream",
     "text": [
      "0.6309523809523809\n"
     ]
    }
   ],
   "source": [
    "acc_val1 = model_dtc1.score(X_val1, y_val1)\n",
    "print(acc_val1)"
   ]
  },
  {
   "cell_type": "code",
   "execution_count": 53,
   "id": "82b2ad2f",
   "metadata": {
    "execution": {
     "iopub.execute_input": "2023-01-21T14:32:25.048304Z",
     "iopub.status.busy": "2023-01-21T14:32:25.047889Z",
     "iopub.status.idle": "2023-01-21T14:32:25.053606Z",
     "shell.execute_reply": "2023-01-21T14:32:25.052628Z"
    },
    "papermill": {
     "duration": 0.028362,
     "end_time": "2023-01-21T14:32:25.057081",
     "exception": false,
     "start_time": "2023-01-21T14:32:25.028719",
     "status": "completed"
    },
    "tags": []
   },
   "outputs": [
    {
     "name": "stdout",
     "output_type": "stream",
     "text": [
      "6\n"
     ]
    }
   ],
   "source": [
    "tree_depth1 = model_dtc1.named_steps[\"decisiontreeclassifier\"].get_depth()\n",
    "print(tree_depth1)"
   ]
  }
 ],
 "metadata": {
  "kernelspec": {
   "display_name": "Python 3",
   "language": "python",
   "name": "python3"
  },
  "language_info": {
   "codemirror_mode": {
    "name": "ipython",
    "version": 3
   },
   "file_extension": ".py",
   "mimetype": "text/x-python",
   "name": "python",
   "nbconvert_exporter": "python",
   "pygments_lexer": "ipython3",
   "version": "3.7.12"
  },
  "papermill": {
   "default_parameters": {},
   "duration": 16.389554,
   "end_time": "2023-01-21T14:32:26.002227",
   "environment_variables": {},
   "exception": null,
   "input_path": "__notebook__.ipynb",
   "output_path": "__notebook__.ipynb",
   "parameters": {},
   "start_time": "2023-01-21T14:32:09.612673",
   "version": "2.3.4"
  }
 },
 "nbformat": 4,
 "nbformat_minor": 5
}
