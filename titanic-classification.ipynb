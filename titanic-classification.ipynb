{
 "cells": [
  {
   "cell_type": "code",
   "execution_count": 1,
   "id": "8bc52701",
   "metadata": {
    "_cell_guid": "b1076dfc-b9ad-4769-8c92-a6c4dae69d19",
    "_uuid": "8f2839f25d086af736a60e9eeb907d3b93b6e0e5",
    "execution": {
     "iopub.execute_input": "2023-01-21T16:00:51.485535Z",
     "iopub.status.busy": "2023-01-21T16:00:51.484769Z",
     "iopub.status.idle": "2023-01-21T16:00:51.503520Z",
     "shell.execute_reply": "2023-01-21T16:00:51.502664Z"
    },
    "papermill": {
     "duration": 0.042037,
     "end_time": "2023-01-21T16:00:51.506738",
     "exception": false,
     "start_time": "2023-01-21T16:00:51.464701",
     "status": "completed"
    },
    "tags": []
   },
   "outputs": [
    {
     "name": "stdout",
     "output_type": "stream",
     "text": [
      "/kaggle/input/test-file/tested.csv\n"
     ]
    }
   ],
   "source": [
    "# This Python 3 environment comes with many helpful analytics libraries installed\n",
    "# It is defined by the kaggle/python Docker image: https://github.com/kaggle/docker-python\n",
    "# For example, here's several helpful packages to load\n",
    "\n",
    "import numpy as np # linear algebra\n",
    "import pandas as pd # data processing, CSV file I/O (e.g. pd.read_csv)\n",
    "\n",
    "# Input data files are available in the read-only \"../input/\" directory\n",
    "# For example, running this (by clicking run or pressing Shift+Enter) will list all files under the input directory\n",
    "\n",
    "import os\n",
    "for dirname, _, filenames in os.walk('/kaggle/input'):\n",
    "    for filename in filenames:\n",
    "        print(os.path.join(dirname, filename))\n",
    "\n",
    "# You can write up to 20GB to the current directory (/kaggle/working/) that gets preserved as output when you create a version using \"Save & Run All\" \n",
    "# You can also write temporary files to /kaggle/temp/, but they won't be saved outside of the current session"
   ]
  },
  {
   "cell_type": "code",
   "execution_count": 2,
   "id": "0630db63",
   "metadata": {
    "execution": {
     "iopub.execute_input": "2023-01-21T16:00:51.539820Z",
     "iopub.status.busy": "2023-01-21T16:00:51.538999Z",
     "iopub.status.idle": "2023-01-21T16:00:52.682374Z",
     "shell.execute_reply": "2023-01-21T16:00:52.681223Z"
    },
    "papermill": {
     "duration": 1.162479,
     "end_time": "2023-01-21T16:00:52.685061",
     "exception": false,
     "start_time": "2023-01-21T16:00:51.522582",
     "status": "completed"
    },
    "tags": []
   },
   "outputs": [],
   "source": [
    "import pandas as pd\n",
    "import numpy as np\n",
    "import matplotlib.pyplot as plt\n",
    "import seaborn as sns"
   ]
  },
  {
   "cell_type": "code",
   "execution_count": 3,
   "id": "98ef9d59",
   "metadata": {
    "execution": {
     "iopub.execute_input": "2023-01-21T16:00:52.717241Z",
     "iopub.status.busy": "2023-01-21T16:00:52.716806Z",
     "iopub.status.idle": "2023-01-21T16:00:52.757685Z",
     "shell.execute_reply": "2023-01-21T16:00:52.756470Z"
    },
    "papermill": {
     "duration": 0.059471,
     "end_time": "2023-01-21T16:00:52.760112",
     "exception": false,
     "start_time": "2023-01-21T16:00:52.700641",
     "status": "completed"
    },
    "tags": []
   },
   "outputs": [
    {
     "data": {
      "text/html": [
       "<div>\n",
       "<style scoped>\n",
       "    .dataframe tbody tr th:only-of-type {\n",
       "        vertical-align: middle;\n",
       "    }\n",
       "\n",
       "    .dataframe tbody tr th {\n",
       "        vertical-align: top;\n",
       "    }\n",
       "\n",
       "    .dataframe thead th {\n",
       "        text-align: right;\n",
       "    }\n",
       "</style>\n",
       "<table border=\"1\" class=\"dataframe\">\n",
       "  <thead>\n",
       "    <tr style=\"text-align: right;\">\n",
       "      <th></th>\n",
       "      <th>PassengerId</th>\n",
       "      <th>Survived</th>\n",
       "      <th>Pclass</th>\n",
       "      <th>Name</th>\n",
       "      <th>Sex</th>\n",
       "      <th>Age</th>\n",
       "      <th>SibSp</th>\n",
       "      <th>Parch</th>\n",
       "      <th>Ticket</th>\n",
       "      <th>Fare</th>\n",
       "      <th>Cabin</th>\n",
       "      <th>Embarked</th>\n",
       "    </tr>\n",
       "  </thead>\n",
       "  <tbody>\n",
       "    <tr>\n",
       "      <th>0</th>\n",
       "      <td>892</td>\n",
       "      <td>0</td>\n",
       "      <td>3</td>\n",
       "      <td>Kelly, Mr. James</td>\n",
       "      <td>male</td>\n",
       "      <td>34.5</td>\n",
       "      <td>0</td>\n",
       "      <td>0</td>\n",
       "      <td>330911</td>\n",
       "      <td>7.8292</td>\n",
       "      <td>NaN</td>\n",
       "      <td>Q</td>\n",
       "    </tr>\n",
       "    <tr>\n",
       "      <th>1</th>\n",
       "      <td>893</td>\n",
       "      <td>1</td>\n",
       "      <td>3</td>\n",
       "      <td>Wilkes, Mrs. James (Ellen Needs)</td>\n",
       "      <td>female</td>\n",
       "      <td>47.0</td>\n",
       "      <td>1</td>\n",
       "      <td>0</td>\n",
       "      <td>363272</td>\n",
       "      <td>7.0000</td>\n",
       "      <td>NaN</td>\n",
       "      <td>S</td>\n",
       "    </tr>\n",
       "    <tr>\n",
       "      <th>2</th>\n",
       "      <td>894</td>\n",
       "      <td>0</td>\n",
       "      <td>2</td>\n",
       "      <td>Myles, Mr. Thomas Francis</td>\n",
       "      <td>male</td>\n",
       "      <td>62.0</td>\n",
       "      <td>0</td>\n",
       "      <td>0</td>\n",
       "      <td>240276</td>\n",
       "      <td>9.6875</td>\n",
       "      <td>NaN</td>\n",
       "      <td>Q</td>\n",
       "    </tr>\n",
       "    <tr>\n",
       "      <th>3</th>\n",
       "      <td>895</td>\n",
       "      <td>0</td>\n",
       "      <td>3</td>\n",
       "      <td>Wirz, Mr. Albert</td>\n",
       "      <td>male</td>\n",
       "      <td>27.0</td>\n",
       "      <td>0</td>\n",
       "      <td>0</td>\n",
       "      <td>315154</td>\n",
       "      <td>8.6625</td>\n",
       "      <td>NaN</td>\n",
       "      <td>S</td>\n",
       "    </tr>\n",
       "    <tr>\n",
       "      <th>4</th>\n",
       "      <td>896</td>\n",
       "      <td>1</td>\n",
       "      <td>3</td>\n",
       "      <td>Hirvonen, Mrs. Alexander (Helga E Lindqvist)</td>\n",
       "      <td>female</td>\n",
       "      <td>22.0</td>\n",
       "      <td>1</td>\n",
       "      <td>1</td>\n",
       "      <td>3101298</td>\n",
       "      <td>12.2875</td>\n",
       "      <td>NaN</td>\n",
       "      <td>S</td>\n",
       "    </tr>\n",
       "  </tbody>\n",
       "</table>\n",
       "</div>"
      ],
      "text/plain": [
       "   PassengerId  Survived  Pclass  \\\n",
       "0          892         0       3   \n",
       "1          893         1       3   \n",
       "2          894         0       2   \n",
       "3          895         0       3   \n",
       "4          896         1       3   \n",
       "\n",
       "                                           Name     Sex   Age  SibSp  Parch  \\\n",
       "0                              Kelly, Mr. James    male  34.5      0      0   \n",
       "1              Wilkes, Mrs. James (Ellen Needs)  female  47.0      1      0   \n",
       "2                     Myles, Mr. Thomas Francis    male  62.0      0      0   \n",
       "3                              Wirz, Mr. Albert    male  27.0      0      0   \n",
       "4  Hirvonen, Mrs. Alexander (Helga E Lindqvist)  female  22.0      1      1   \n",
       "\n",
       "    Ticket     Fare Cabin Embarked  \n",
       "0   330911   7.8292   NaN        Q  \n",
       "1   363272   7.0000   NaN        S  \n",
       "2   240276   9.6875   NaN        Q  \n",
       "3   315154   8.6625   NaN        S  \n",
       "4  3101298  12.2875   NaN        S  "
      ]
     },
     "execution_count": 3,
     "metadata": {},
     "output_type": "execute_result"
    }
   ],
   "source": [
    "df_demo = pd.read_csv(\"/kaggle/input/test-file/tested.csv\")\n",
    "df_demo.head()"
   ]
  },
  {
   "cell_type": "code",
   "execution_count": 4,
   "id": "e2a9a2d1",
   "metadata": {
    "execution": {
     "iopub.execute_input": "2023-01-21T16:00:52.792581Z",
     "iopub.status.busy": "2023-01-21T16:00:52.792171Z",
     "iopub.status.idle": "2023-01-21T16:00:52.801829Z",
     "shell.execute_reply": "2023-01-21T16:00:52.800953Z"
    },
    "papermill": {
     "duration": 0.028853,
     "end_time": "2023-01-21T16:00:52.804096",
     "exception": false,
     "start_time": "2023-01-21T16:00:52.775243",
     "status": "completed"
    },
    "tags": []
   },
   "outputs": [
    {
     "data": {
      "text/plain": [
       "PassengerId    0.000000\n",
       "Survived       0.000000\n",
       "Pclass         0.000000\n",
       "Name           0.000000\n",
       "Sex            0.000000\n",
       "Age            0.205742\n",
       "SibSp          0.000000\n",
       "Parch          0.000000\n",
       "Ticket         0.000000\n",
       "Fare           0.002392\n",
       "Cabin          0.782297\n",
       "Embarked       0.000000\n",
       "dtype: float64"
      ]
     },
     "execution_count": 4,
     "metadata": {},
     "output_type": "execute_result"
    }
   ],
   "source": [
    "df_demo.isnull().sum() / len(df_demo)"
   ]
  },
  {
   "cell_type": "code",
   "execution_count": 5,
   "id": "dfe849c3",
   "metadata": {
    "execution": {
     "iopub.execute_input": "2023-01-21T16:00:52.836917Z",
     "iopub.status.busy": "2023-01-21T16:00:52.836259Z",
     "iopub.status.idle": "2023-01-21T16:00:52.842661Z",
     "shell.execute_reply": "2023-01-21T16:00:52.841594Z"
    },
    "papermill": {
     "duration": 0.02551,
     "end_time": "2023-01-21T16:00:52.845099",
     "exception": false,
     "start_time": "2023-01-21T16:00:52.819589",
     "status": "completed"
    },
    "tags": []
   },
   "outputs": [
    {
     "data": {
      "text/plain": [
       "(418, 12)"
      ]
     },
     "execution_count": 5,
     "metadata": {},
     "output_type": "execute_result"
    }
   ],
   "source": [
    "df_demo.shape"
   ]
  },
  {
   "cell_type": "code",
   "execution_count": 6,
   "id": "9d4c6b9d",
   "metadata": {
    "execution": {
     "iopub.execute_input": "2023-01-21T16:00:52.878063Z",
     "iopub.status.busy": "2023-01-21T16:00:52.877201Z",
     "iopub.status.idle": "2023-01-21T16:00:52.893178Z",
     "shell.execute_reply": "2023-01-21T16:00:52.891914Z"
    },
    "papermill": {
     "duration": 0.035254,
     "end_time": "2023-01-21T16:00:52.895743",
     "exception": false,
     "start_time": "2023-01-21T16:00:52.860489",
     "status": "completed"
    },
    "tags": []
   },
   "outputs": [
    {
     "data": {
      "text/plain": [
       "PassengerId    418\n",
       "Survived         2\n",
       "Pclass           3\n",
       "Name           418\n",
       "Sex              2\n",
       "Age             79\n",
       "SibSp            7\n",
       "Parch            8\n",
       "Ticket         363\n",
       "Fare           169\n",
       "Cabin           76\n",
       "Embarked         3\n",
       "dtype: int64"
      ]
     },
     "execution_count": 6,
     "metadata": {},
     "output_type": "execute_result"
    }
   ],
   "source": [
    "df_demo.nunique()"
   ]
  },
  {
   "cell_type": "markdown",
   "id": "8ec1b71b",
   "metadata": {
    "papermill": {
     "duration": 0.015332,
     "end_time": "2023-01-21T16:00:52.927820",
     "exception": false,
     "start_time": "2023-01-21T16:00:52.912488",
     "status": "completed"
    },
    "tags": []
   },
   "source": [
    "Wrangle the data"
   ]
  },
  {
   "cell_type": "code",
   "execution_count": 7,
   "id": "9cc15b0e",
   "metadata": {
    "execution": {
     "iopub.execute_input": "2023-01-21T16:00:52.961301Z",
     "iopub.status.busy": "2023-01-21T16:00:52.960870Z",
     "iopub.status.idle": "2023-01-21T16:00:52.966751Z",
     "shell.execute_reply": "2023-01-21T16:00:52.965946Z"
    },
    "papermill": {
     "duration": 0.025276,
     "end_time": "2023-01-21T16:00:52.969288",
     "exception": false,
     "start_time": "2023-01-21T16:00:52.944012",
     "status": "completed"
    },
    "tags": []
   },
   "outputs": [],
   "source": [
    "def wrangle(filepath):\n",
    "    df = pd.read_csv(filepath)\n",
    "    #droping the columns with low & high caranility\n",
    "    df.drop(columns = [\"PassengerId\", \"Name\"], inplace = True)\n",
    "    #drop the columns with more than 50% null values\n",
    "    df.drop(columns = \"Cabin\", inplace = True)\n",
    "    return df"
   ]
  },
  {
   "cell_type": "code",
   "execution_count": 8,
   "id": "15855fea",
   "metadata": {
    "execution": {
     "iopub.execute_input": "2023-01-21T16:00:53.003091Z",
     "iopub.status.busy": "2023-01-21T16:00:53.002635Z",
     "iopub.status.idle": "2023-01-21T16:00:53.027290Z",
     "shell.execute_reply": "2023-01-21T16:00:53.025975Z"
    },
    "papermill": {
     "duration": 0.044437,
     "end_time": "2023-01-21T16:00:53.029846",
     "exception": false,
     "start_time": "2023-01-21T16:00:52.985409",
     "status": "completed"
    },
    "tags": []
   },
   "outputs": [
    {
     "data": {
      "text/html": [
       "<div>\n",
       "<style scoped>\n",
       "    .dataframe tbody tr th:only-of-type {\n",
       "        vertical-align: middle;\n",
       "    }\n",
       "\n",
       "    .dataframe tbody tr th {\n",
       "        vertical-align: top;\n",
       "    }\n",
       "\n",
       "    .dataframe thead th {\n",
       "        text-align: right;\n",
       "    }\n",
       "</style>\n",
       "<table border=\"1\" class=\"dataframe\">\n",
       "  <thead>\n",
       "    <tr style=\"text-align: right;\">\n",
       "      <th></th>\n",
       "      <th>Survived</th>\n",
       "      <th>Pclass</th>\n",
       "      <th>Sex</th>\n",
       "      <th>Age</th>\n",
       "      <th>SibSp</th>\n",
       "      <th>Parch</th>\n",
       "      <th>Ticket</th>\n",
       "      <th>Fare</th>\n",
       "      <th>Embarked</th>\n",
       "    </tr>\n",
       "  </thead>\n",
       "  <tbody>\n",
       "    <tr>\n",
       "      <th>0</th>\n",
       "      <td>0</td>\n",
       "      <td>3</td>\n",
       "      <td>male</td>\n",
       "      <td>34.5</td>\n",
       "      <td>0</td>\n",
       "      <td>0</td>\n",
       "      <td>330911</td>\n",
       "      <td>7.8292</td>\n",
       "      <td>Q</td>\n",
       "    </tr>\n",
       "    <tr>\n",
       "      <th>1</th>\n",
       "      <td>1</td>\n",
       "      <td>3</td>\n",
       "      <td>female</td>\n",
       "      <td>47.0</td>\n",
       "      <td>1</td>\n",
       "      <td>0</td>\n",
       "      <td>363272</td>\n",
       "      <td>7.0000</td>\n",
       "      <td>S</td>\n",
       "    </tr>\n",
       "    <tr>\n",
       "      <th>2</th>\n",
       "      <td>0</td>\n",
       "      <td>2</td>\n",
       "      <td>male</td>\n",
       "      <td>62.0</td>\n",
       "      <td>0</td>\n",
       "      <td>0</td>\n",
       "      <td>240276</td>\n",
       "      <td>9.6875</td>\n",
       "      <td>Q</td>\n",
       "    </tr>\n",
       "    <tr>\n",
       "      <th>3</th>\n",
       "      <td>0</td>\n",
       "      <td>3</td>\n",
       "      <td>male</td>\n",
       "      <td>27.0</td>\n",
       "      <td>0</td>\n",
       "      <td>0</td>\n",
       "      <td>315154</td>\n",
       "      <td>8.6625</td>\n",
       "      <td>S</td>\n",
       "    </tr>\n",
       "    <tr>\n",
       "      <th>4</th>\n",
       "      <td>1</td>\n",
       "      <td>3</td>\n",
       "      <td>female</td>\n",
       "      <td>22.0</td>\n",
       "      <td>1</td>\n",
       "      <td>1</td>\n",
       "      <td>3101298</td>\n",
       "      <td>12.2875</td>\n",
       "      <td>S</td>\n",
       "    </tr>\n",
       "  </tbody>\n",
       "</table>\n",
       "</div>"
      ],
      "text/plain": [
       "   Survived  Pclass     Sex   Age  SibSp  Parch   Ticket     Fare Embarked\n",
       "0         0       3    male  34.5      0      0   330911   7.8292        Q\n",
       "1         1       3  female  47.0      1      0   363272   7.0000        S\n",
       "2         0       2    male  62.0      0      0   240276   9.6875        Q\n",
       "3         0       3    male  27.0      0      0   315154   8.6625        S\n",
       "4         1       3  female  22.0      1      1  3101298  12.2875        S"
      ]
     },
     "execution_count": 8,
     "metadata": {},
     "output_type": "execute_result"
    }
   ],
   "source": [
    "df = wrangle(\"/kaggle/input/test-file/tested.csv\")\n",
    "df.head()"
   ]
  },
  {
   "cell_type": "code",
   "execution_count": 9,
   "id": "9a038dcd",
   "metadata": {
    "execution": {
     "iopub.execute_input": "2023-01-21T16:00:53.064194Z",
     "iopub.status.busy": "2023-01-21T16:00:53.063752Z",
     "iopub.status.idle": "2023-01-21T16:00:53.073783Z",
     "shell.execute_reply": "2023-01-21T16:00:53.072703Z"
    },
    "papermill": {
     "duration": 0.030395,
     "end_time": "2023-01-21T16:00:53.076232",
     "exception": false,
     "start_time": "2023-01-21T16:00:53.045837",
     "status": "completed"
    },
    "tags": []
   },
   "outputs": [
    {
     "data": {
      "text/plain": [
       "Survived    0.000000\n",
       "Pclass      0.000000\n",
       "Sex         0.000000\n",
       "Age         0.205742\n",
       "SibSp       0.000000\n",
       "Parch       0.000000\n",
       "Ticket      0.000000\n",
       "Fare        0.002392\n",
       "Embarked    0.000000\n",
       "dtype: float64"
      ]
     },
     "execution_count": 9,
     "metadata": {},
     "output_type": "execute_result"
    }
   ],
   "source": [
    "df.isnull().sum() / len(df)"
   ]
  },
  {
   "cell_type": "code",
   "execution_count": 10,
   "id": "b5fb6d5b",
   "metadata": {
    "execution": {
     "iopub.execute_input": "2023-01-21T16:00:53.109782Z",
     "iopub.status.busy": "2023-01-21T16:00:53.109397Z",
     "iopub.status.idle": "2023-01-21T16:00:53.120835Z",
     "shell.execute_reply": "2023-01-21T16:00:53.119918Z"
    },
    "papermill": {
     "duration": 0.031136,
     "end_time": "2023-01-21T16:00:53.123173",
     "exception": false,
     "start_time": "2023-01-21T16:00:53.092037",
     "status": "completed"
    },
    "tags": []
   },
   "outputs": [
    {
     "data": {
      "text/plain": [
       "Survived      2\n",
       "Pclass        3\n",
       "Sex           2\n",
       "Age          79\n",
       "SibSp         7\n",
       "Parch         8\n",
       "Ticket      363\n",
       "Fare        169\n",
       "Embarked      3\n",
       "dtype: int64"
      ]
     },
     "execution_count": 10,
     "metadata": {},
     "output_type": "execute_result"
    }
   ],
   "source": [
    "df.nunique()"
   ]
  },
  {
   "cell_type": "code",
   "execution_count": 11,
   "id": "9b6f255a",
   "metadata": {
    "execution": {
     "iopub.execute_input": "2023-01-21T16:00:53.157743Z",
     "iopub.status.busy": "2023-01-21T16:00:53.156820Z",
     "iopub.status.idle": "2023-01-21T16:00:53.161554Z",
     "shell.execute_reply": "2023-01-21T16:00:53.160409Z"
    },
    "papermill": {
     "duration": 0.024513,
     "end_time": "2023-01-21T16:00:53.163784",
     "exception": false,
     "start_time": "2023-01-21T16:00:53.139271",
     "status": "completed"
    },
    "tags": []
   },
   "outputs": [],
   "source": [
    "# for col in df.columns:\n",
    "#     df[col].plot(kind=\"box\")\n",
    "#     plt.show()\n",
    "\n",
    "# No numeric data"
   ]
  },
  {
   "cell_type": "code",
   "execution_count": 12,
   "id": "35f5732d",
   "metadata": {
    "execution": {
     "iopub.execute_input": "2023-01-21T16:00:53.197307Z",
     "iopub.status.busy": "2023-01-21T16:00:53.196932Z",
     "iopub.status.idle": "2023-01-21T16:00:53.213338Z",
     "shell.execute_reply": "2023-01-21T16:00:53.212233Z"
    },
    "papermill": {
     "duration": 0.036057,
     "end_time": "2023-01-21T16:00:53.215755",
     "exception": false,
     "start_time": "2023-01-21T16:00:53.179698",
     "status": "completed"
    },
    "tags": []
   },
   "outputs": [
    {
     "data": {
      "text/html": [
       "<div>\n",
       "<style scoped>\n",
       "    .dataframe tbody tr th:only-of-type {\n",
       "        vertical-align: middle;\n",
       "    }\n",
       "\n",
       "    .dataframe tbody tr th {\n",
       "        vertical-align: top;\n",
       "    }\n",
       "\n",
       "    .dataframe thead th {\n",
       "        text-align: right;\n",
       "    }\n",
       "</style>\n",
       "<table border=\"1\" class=\"dataframe\">\n",
       "  <thead>\n",
       "    <tr style=\"text-align: right;\">\n",
       "      <th></th>\n",
       "      <th>Survived</th>\n",
       "      <th>Pclass</th>\n",
       "      <th>Age</th>\n",
       "      <th>SibSp</th>\n",
       "      <th>Parch</th>\n",
       "      <th>Fare</th>\n",
       "    </tr>\n",
       "  </thead>\n",
       "  <tbody>\n",
       "    <tr>\n",
       "      <th>Survived</th>\n",
       "      <td>1.000000</td>\n",
       "      <td>-0.108615</td>\n",
       "      <td>-0.000013</td>\n",
       "      <td>0.099943</td>\n",
       "      <td>0.159120</td>\n",
       "      <td>0.191514</td>\n",
       "    </tr>\n",
       "    <tr>\n",
       "      <th>Pclass</th>\n",
       "      <td>-0.108615</td>\n",
       "      <td>1.000000</td>\n",
       "      <td>-0.492143</td>\n",
       "      <td>0.001087</td>\n",
       "      <td>0.018721</td>\n",
       "      <td>-0.577147</td>\n",
       "    </tr>\n",
       "    <tr>\n",
       "      <th>Age</th>\n",
       "      <td>-0.000013</td>\n",
       "      <td>-0.492143</td>\n",
       "      <td>1.000000</td>\n",
       "      <td>-0.091587</td>\n",
       "      <td>-0.061249</td>\n",
       "      <td>0.337932</td>\n",
       "    </tr>\n",
       "    <tr>\n",
       "      <th>SibSp</th>\n",
       "      <td>0.099943</td>\n",
       "      <td>0.001087</td>\n",
       "      <td>-0.091587</td>\n",
       "      <td>1.000000</td>\n",
       "      <td>0.306895</td>\n",
       "      <td>0.171539</td>\n",
       "    </tr>\n",
       "    <tr>\n",
       "      <th>Parch</th>\n",
       "      <td>0.159120</td>\n",
       "      <td>0.018721</td>\n",
       "      <td>-0.061249</td>\n",
       "      <td>0.306895</td>\n",
       "      <td>1.000000</td>\n",
       "      <td>0.230046</td>\n",
       "    </tr>\n",
       "    <tr>\n",
       "      <th>Fare</th>\n",
       "      <td>0.191514</td>\n",
       "      <td>-0.577147</td>\n",
       "      <td>0.337932</td>\n",
       "      <td>0.171539</td>\n",
       "      <td>0.230046</td>\n",
       "      <td>1.000000</td>\n",
       "    </tr>\n",
       "  </tbody>\n",
       "</table>\n",
       "</div>"
      ],
      "text/plain": [
       "          Survived    Pclass       Age     SibSp     Parch      Fare\n",
       "Survived  1.000000 -0.108615 -0.000013  0.099943  0.159120  0.191514\n",
       "Pclass   -0.108615  1.000000 -0.492143  0.001087  0.018721 -0.577147\n",
       "Age      -0.000013 -0.492143  1.000000 -0.091587 -0.061249  0.337932\n",
       "SibSp     0.099943  0.001087 -0.091587  1.000000  0.306895  0.171539\n",
       "Parch     0.159120  0.018721 -0.061249  0.306895  1.000000  0.230046\n",
       "Fare      0.191514 -0.577147  0.337932  0.171539  0.230046  1.000000"
      ]
     },
     "execution_count": 12,
     "metadata": {},
     "output_type": "execute_result"
    }
   ],
   "source": [
    "corr = df.corr()\n",
    "corr"
   ]
  },
  {
   "cell_type": "code",
   "execution_count": 13,
   "id": "64abcff9",
   "metadata": {
    "execution": {
     "iopub.execute_input": "2023-01-21T16:00:53.249700Z",
     "iopub.status.busy": "2023-01-21T16:00:53.249273Z",
     "iopub.status.idle": "2023-01-21T16:00:53.261916Z",
     "shell.execute_reply": "2023-01-21T16:00:53.260752Z"
    },
    "papermill": {
     "duration": 0.032251,
     "end_time": "2023-01-21T16:00:53.264271",
     "exception": false,
     "start_time": "2023-01-21T16:00:53.232020",
     "status": "completed"
    },
    "tags": []
   },
   "outputs": [
    {
     "data": {
      "text/plain": [
       "0    266\n",
       "1    152\n",
       "Name: Survived, dtype: int64"
      ]
     },
     "execution_count": 13,
     "metadata": {},
     "output_type": "execute_result"
    }
   ],
   "source": [
    "df[\"Survived\"].value_counts()"
   ]
  },
  {
   "cell_type": "code",
   "execution_count": 14,
   "id": "b3bef28e",
   "metadata": {
    "execution": {
     "iopub.execute_input": "2023-01-21T16:00:53.298018Z",
     "iopub.status.busy": "2023-01-21T16:00:53.297590Z",
     "iopub.status.idle": "2023-01-21T16:00:53.306489Z",
     "shell.execute_reply": "2023-01-21T16:00:53.305496Z"
    },
    "papermill": {
     "duration": 0.028512,
     "end_time": "2023-01-21T16:00:53.308919",
     "exception": false,
     "start_time": "2023-01-21T16:00:53.280407",
     "status": "completed"
    },
    "tags": []
   },
   "outputs": [],
   "source": [
    "# our target is survived so we are going to check the corelations with survuved individually\n",
    "\n",
    "corr_sur_with_pclass = df[\"Survived\"].corr(df[\"Pclass\"])"
   ]
  },
  {
   "cell_type": "code",
   "execution_count": 15,
   "id": "d91a61ca",
   "metadata": {
    "execution": {
     "iopub.execute_input": "2023-01-21T16:00:53.343964Z",
     "iopub.status.busy": "2023-01-21T16:00:53.343566Z",
     "iopub.status.idle": "2023-01-21T16:00:53.349881Z",
     "shell.execute_reply": "2023-01-21T16:00:53.348743Z"
    },
    "papermill": {
     "duration": 0.026605,
     "end_time": "2023-01-21T16:00:53.352170",
     "exception": false,
     "start_time": "2023-01-21T16:00:53.325565",
     "status": "completed"
    },
    "tags": []
   },
   "outputs": [],
   "source": [
    "corr_sur_with_age = df[\"Survived\"].corr(df[\"Age\"])"
   ]
  },
  {
   "cell_type": "code",
   "execution_count": 16,
   "id": "9d8b9e6b",
   "metadata": {
    "execution": {
     "iopub.execute_input": "2023-01-21T16:00:53.386149Z",
     "iopub.status.busy": "2023-01-21T16:00:53.385746Z",
     "iopub.status.idle": "2023-01-21T16:00:53.392224Z",
     "shell.execute_reply": "2023-01-21T16:00:53.391142Z"
    },
    "papermill": {
     "duration": 0.025854,
     "end_time": "2023-01-21T16:00:53.394367",
     "exception": false,
     "start_time": "2023-01-21T16:00:53.368513",
     "status": "completed"
    },
    "tags": []
   },
   "outputs": [],
   "source": [
    "corr_sur_with_SibSp = df[\"Survived\"].corr(df[\"SibSp\"])"
   ]
  },
  {
   "cell_type": "code",
   "execution_count": 17,
   "id": "68ec3a19",
   "metadata": {
    "execution": {
     "iopub.execute_input": "2023-01-21T16:00:53.428402Z",
     "iopub.status.busy": "2023-01-21T16:00:53.428012Z",
     "iopub.status.idle": "2023-01-21T16:00:53.433931Z",
     "shell.execute_reply": "2023-01-21T16:00:53.432924Z"
    },
    "papermill": {
     "duration": 0.025858,
     "end_time": "2023-01-21T16:00:53.436245",
     "exception": false,
     "start_time": "2023-01-21T16:00:53.410387",
     "status": "completed"
    },
    "tags": []
   },
   "outputs": [],
   "source": [
    "corr_sur_with_Parch = df[\"Survived\"].corr(df[\"Parch\"])"
   ]
  },
  {
   "cell_type": "code",
   "execution_count": 18,
   "id": "54e2e8a1",
   "metadata": {
    "execution": {
     "iopub.execute_input": "2023-01-21T16:00:53.470242Z",
     "iopub.status.busy": "2023-01-21T16:00:53.469820Z",
     "iopub.status.idle": "2023-01-21T16:00:53.475363Z",
     "shell.execute_reply": "2023-01-21T16:00:53.474295Z"
    },
    "papermill": {
     "duration": 0.025346,
     "end_time": "2023-01-21T16:00:53.477708",
     "exception": false,
     "start_time": "2023-01-21T16:00:53.452362",
     "status": "completed"
    },
    "tags": []
   },
   "outputs": [],
   "source": [
    "corr_sur_with_Fare = df[\"Survived\"].corr(df[\"Fare\"])"
   ]
  },
  {
   "cell_type": "code",
   "execution_count": 19,
   "id": "71eb68db",
   "metadata": {
    "execution": {
     "iopub.execute_input": "2023-01-21T16:00:53.511714Z",
     "iopub.status.busy": "2023-01-21T16:00:53.511314Z",
     "iopub.status.idle": "2023-01-21T16:00:53.517800Z",
     "shell.execute_reply": "2023-01-21T16:00:53.516552Z"
    },
    "papermill": {
     "duration": 0.027073,
     "end_time": "2023-01-21T16:00:53.520810",
     "exception": false,
     "start_time": "2023-01-21T16:00:53.493737",
     "status": "completed"
    },
    "tags": []
   },
   "outputs": [
    {
     "name": "stdout",
     "output_type": "stream",
     "text": [
      "The corelation b/w survived and Pclass is  -0.10861452091523409\n",
      "The corelation b/w survived and Age is  -1.2682357097214666e-05\n",
      "The corelation b/w survived and SibSp is  0.0999433702502642\n",
      "The corelation b/w survived and Parch is  0.15912011283514063\n",
      "The corelation b/w survived and Fare is  0.19151374269353372\n"
     ]
    }
   ],
   "source": [
    "print(\"The corelation b/w survived and Pclass is \", corr_sur_with_pclass)\n",
    "print(\"The corelation b/w survived and Age is \", corr_sur_with_age)\n",
    "print(\"The corelation b/w survived and SibSp is \", corr_sur_with_SibSp)\n",
    "print(\"The corelation b/w survived and Parch is \", corr_sur_with_Parch)\n",
    "print(\"The corelation b/w survived and Fare is \", corr_sur_with_Fare)"
   ]
  },
  {
   "cell_type": "code",
   "execution_count": 20,
   "id": "a17df850",
   "metadata": {
    "execution": {
     "iopub.execute_input": "2023-01-21T16:00:53.556512Z",
     "iopub.status.busy": "2023-01-21T16:00:53.556026Z",
     "iopub.status.idle": "2023-01-21T16:00:53.560530Z",
     "shell.execute_reply": "2023-01-21T16:00:53.559342Z"
    },
    "papermill": {
     "duration": 0.024867,
     "end_time": "2023-01-21T16:00:53.563132",
     "exception": false,
     "start_time": "2023-01-21T16:00:53.538265",
     "status": "completed"
    },
    "tags": []
   },
   "outputs": [],
   "source": [
    "# from decimal import Decimal\n",
    "\n",
    "# s = corr_sur_with_age\n",
    "\n",
    "# b = Decimal(s)\n"
   ]
  },
  {
   "cell_type": "markdown",
   "id": "b03fa863",
   "metadata": {
    "papermill": {
     "duration": 0.015744,
     "end_time": "2023-01-21T16:00:53.595075",
     "exception": false,
     "start_time": "2023-01-21T16:00:53.579331",
     "status": "completed"
    },
    "tags": []
   },
   "source": [
    "> The corelation cofficents values shows that there is not much difference b/w the target and features"
   ]
  },
  {
   "cell_type": "markdown",
   "id": "c599d4ca",
   "metadata": {
    "papermill": {
     "duration": 0.01576,
     "end_time": "2023-01-21T16:00:53.626897",
     "exception": false,
     "start_time": "2023-01-21T16:00:53.611137",
     "status": "completed"
    },
    "tags": []
   },
   "source": [
    "****Pivot Tables****"
   ]
  },
  {
   "cell_type": "code",
   "execution_count": 21,
   "id": "6d229fa8",
   "metadata": {
    "execution": {
     "iopub.execute_input": "2023-01-21T16:00:53.662116Z",
     "iopub.status.busy": "2023-01-21T16:00:53.661233Z",
     "iopub.status.idle": "2023-01-21T16:00:53.684769Z",
     "shell.execute_reply": "2023-01-21T16:00:53.683709Z"
    },
    "papermill": {
     "duration": 0.043655,
     "end_time": "2023-01-21T16:00:53.687193",
     "exception": false,
     "start_time": "2023-01-21T16:00:53.643538",
     "status": "completed"
    },
    "tags": []
   },
   "outputs": [
    {
     "data": {
      "text/html": [
       "<div>\n",
       "<style scoped>\n",
       "    .dataframe tbody tr th:only-of-type {\n",
       "        vertical-align: middle;\n",
       "    }\n",
       "\n",
       "    .dataframe tbody tr th {\n",
       "        vertical-align: top;\n",
       "    }\n",
       "\n",
       "    .dataframe thead th {\n",
       "        text-align: right;\n",
       "    }\n",
       "</style>\n",
       "<table border=\"1\" class=\"dataframe\">\n",
       "  <thead>\n",
       "    <tr style=\"text-align: right;\">\n",
       "      <th></th>\n",
       "      <th>Survived</th>\n",
       "    </tr>\n",
       "    <tr>\n",
       "      <th>Pclass</th>\n",
       "      <th></th>\n",
       "    </tr>\n",
       "  </thead>\n",
       "  <tbody>\n",
       "    <tr>\n",
       "      <th>2</th>\n",
       "      <td>0.322581</td>\n",
       "    </tr>\n",
       "    <tr>\n",
       "      <th>3</th>\n",
       "      <td>0.330275</td>\n",
       "    </tr>\n",
       "    <tr>\n",
       "      <th>1</th>\n",
       "      <td>0.467290</td>\n",
       "    </tr>\n",
       "  </tbody>\n",
       "</table>\n",
       "</div>"
      ],
      "text/plain": [
       "        Survived\n",
       "Pclass          \n",
       "2       0.322581\n",
       "3       0.330275\n",
       "1       0.467290"
      ]
     },
     "execution_count": 21,
     "metadata": {},
     "output_type": "execute_result"
    }
   ],
   "source": [
    "pclass_pivot = pd.pivot_table(\n",
    "    df, index = \"Pclass\", values = \"Survived\", aggfunc = np.mean\n",
    ").sort_values(by=\"Survived\")\n",
    "pclass_pivot"
   ]
  },
  {
   "cell_type": "code",
   "execution_count": 22,
   "id": "cdd64718",
   "metadata": {
    "execution": {
     "iopub.execute_input": "2023-01-21T16:00:53.721419Z",
     "iopub.status.busy": "2023-01-21T16:00:53.721028Z",
     "iopub.status.idle": "2023-01-21T16:00:53.728013Z",
     "shell.execute_reply": "2023-01-21T16:00:53.726979Z"
    },
    "papermill": {
     "duration": 0.027076,
     "end_time": "2023-01-21T16:00:53.730589",
     "exception": false,
     "start_time": "2023-01-21T16:00:53.703513",
     "status": "completed"
    },
    "tags": []
   },
   "outputs": [
    {
     "data": {
      "text/plain": [
       "79"
      ]
     },
     "execution_count": 22,
     "metadata": {},
     "output_type": "execute_result"
    }
   ],
   "source": [
    "df[\"Age\"].nunique()"
   ]
  },
  {
   "cell_type": "code",
   "execution_count": 23,
   "id": "bc0e3a9e",
   "metadata": {
    "execution": {
     "iopub.execute_input": "2023-01-21T16:00:53.781420Z",
     "iopub.status.busy": "2023-01-21T16:00:53.780803Z",
     "iopub.status.idle": "2023-01-21T16:00:53.788918Z",
     "shell.execute_reply": "2023-01-21T16:00:53.787563Z"
    },
    "papermill": {
     "duration": 0.035593,
     "end_time": "2023-01-21T16:00:53.792165",
     "exception": false,
     "start_time": "2023-01-21T16:00:53.756572",
     "status": "completed"
    },
    "tags": []
   },
   "outputs": [
    {
     "data": {
      "text/plain": [
       "3"
      ]
     },
     "execution_count": 23,
     "metadata": {},
     "output_type": "execute_result"
    }
   ],
   "source": [
    "df[\"Pclass\"].nunique()"
   ]
  },
  {
   "cell_type": "code",
   "execution_count": 24,
   "id": "8801bd9d",
   "metadata": {
    "execution": {
     "iopub.execute_input": "2023-01-21T16:00:53.837912Z",
     "iopub.status.busy": "2023-01-21T16:00:53.837472Z",
     "iopub.status.idle": "2023-01-21T16:00:54.409187Z",
     "shell.execute_reply": "2023-01-21T16:00:54.408165Z"
    },
    "papermill": {
     "duration": 0.599294,
     "end_time": "2023-01-21T16:00:54.411984",
     "exception": false,
     "start_time": "2023-01-21T16:00:53.812690",
     "status": "completed"
    },
    "tags": []
   },
   "outputs": [],
   "source": [
    "from sklearn.linear_model import LogisticRegression\n",
    "from sklearn.tree import DecisionTreeClassifier, plot_tree\n",
    "from category_encoders import OneHotEncoder, OrdinalEncoder\n",
    "from sklearn.impute import SimpleImputer"
   ]
  },
  {
   "cell_type": "code",
   "execution_count": 25,
   "id": "83a2f4a0",
   "metadata": {
    "execution": {
     "iopub.execute_input": "2023-01-21T16:00:54.446825Z",
     "iopub.status.busy": "2023-01-21T16:00:54.446412Z",
     "iopub.status.idle": "2023-01-21T16:00:54.453220Z",
     "shell.execute_reply": "2023-01-21T16:00:54.452084Z"
    },
    "papermill": {
     "duration": 0.026941,
     "end_time": "2023-01-21T16:00:54.455533",
     "exception": false,
     "start_time": "2023-01-21T16:00:54.428592",
     "status": "completed"
    },
    "tags": []
   },
   "outputs": [],
   "source": [
    "target = \"Survived\"\n",
    "y = df[target]\n",
    "X = df.drop(columns = target)"
   ]
  },
  {
   "cell_type": "code",
   "execution_count": 26,
   "id": "c2f7bd14",
   "metadata": {
    "execution": {
     "iopub.execute_input": "2023-01-21T16:00:54.490323Z",
     "iopub.status.busy": "2023-01-21T16:00:54.489954Z",
     "iopub.status.idle": "2023-01-21T16:00:54.502652Z",
     "shell.execute_reply": "2023-01-21T16:00:54.501910Z"
    },
    "papermill": {
     "duration": 0.033145,
     "end_time": "2023-01-21T16:00:54.505228",
     "exception": false,
     "start_time": "2023-01-21T16:00:54.472083",
     "status": "completed"
    },
    "tags": []
   },
   "outputs": [
    {
     "data": {
      "text/html": [
       "<div>\n",
       "<style scoped>\n",
       "    .dataframe tbody tr th:only-of-type {\n",
       "        vertical-align: middle;\n",
       "    }\n",
       "\n",
       "    .dataframe tbody tr th {\n",
       "        vertical-align: top;\n",
       "    }\n",
       "\n",
       "    .dataframe thead th {\n",
       "        text-align: right;\n",
       "    }\n",
       "</style>\n",
       "<table border=\"1\" class=\"dataframe\">\n",
       "  <thead>\n",
       "    <tr style=\"text-align: right;\">\n",
       "      <th></th>\n",
       "      <th>Pclass</th>\n",
       "      <th>Sex</th>\n",
       "      <th>Age</th>\n",
       "      <th>SibSp</th>\n",
       "      <th>Parch</th>\n",
       "      <th>Ticket</th>\n",
       "      <th>Fare</th>\n",
       "      <th>Embarked</th>\n",
       "    </tr>\n",
       "  </thead>\n",
       "  <tbody>\n",
       "    <tr>\n",
       "      <th>0</th>\n",
       "      <td>3</td>\n",
       "      <td>male</td>\n",
       "      <td>34.5</td>\n",
       "      <td>0</td>\n",
       "      <td>0</td>\n",
       "      <td>330911</td>\n",
       "      <td>7.8292</td>\n",
       "      <td>Q</td>\n",
       "    </tr>\n",
       "    <tr>\n",
       "      <th>1</th>\n",
       "      <td>3</td>\n",
       "      <td>female</td>\n",
       "      <td>47.0</td>\n",
       "      <td>1</td>\n",
       "      <td>0</td>\n",
       "      <td>363272</td>\n",
       "      <td>7.0000</td>\n",
       "      <td>S</td>\n",
       "    </tr>\n",
       "    <tr>\n",
       "      <th>2</th>\n",
       "      <td>2</td>\n",
       "      <td>male</td>\n",
       "      <td>62.0</td>\n",
       "      <td>0</td>\n",
       "      <td>0</td>\n",
       "      <td>240276</td>\n",
       "      <td>9.6875</td>\n",
       "      <td>Q</td>\n",
       "    </tr>\n",
       "    <tr>\n",
       "      <th>3</th>\n",
       "      <td>3</td>\n",
       "      <td>male</td>\n",
       "      <td>27.0</td>\n",
       "      <td>0</td>\n",
       "      <td>0</td>\n",
       "      <td>315154</td>\n",
       "      <td>8.6625</td>\n",
       "      <td>S</td>\n",
       "    </tr>\n",
       "    <tr>\n",
       "      <th>4</th>\n",
       "      <td>3</td>\n",
       "      <td>female</td>\n",
       "      <td>22.0</td>\n",
       "      <td>1</td>\n",
       "      <td>1</td>\n",
       "      <td>3101298</td>\n",
       "      <td>12.2875</td>\n",
       "      <td>S</td>\n",
       "    </tr>\n",
       "  </tbody>\n",
       "</table>\n",
       "</div>"
      ],
      "text/plain": [
       "   Pclass     Sex   Age  SibSp  Parch   Ticket     Fare Embarked\n",
       "0       3    male  34.5      0      0   330911   7.8292        Q\n",
       "1       3  female  47.0      1      0   363272   7.0000        S\n",
       "2       2    male  62.0      0      0   240276   9.6875        Q\n",
       "3       3    male  27.0      0      0   315154   8.6625        S\n",
       "4       3  female  22.0      1      1  3101298  12.2875        S"
      ]
     },
     "execution_count": 26,
     "metadata": {},
     "output_type": "execute_result"
    }
   ],
   "source": [
    "X.head()"
   ]
  },
  {
   "cell_type": "code",
   "execution_count": null,
   "id": "09b59159",
   "metadata": {
    "papermill": {
     "duration": 0.016526,
     "end_time": "2023-01-21T16:00:54.538438",
     "exception": false,
     "start_time": "2023-01-21T16:00:54.521912",
     "status": "completed"
    },
    "tags": []
   },
   "outputs": [],
   "source": []
  },
  {
   "cell_type": "code",
   "execution_count": 27,
   "id": "cca4d9ee",
   "metadata": {
    "execution": {
     "iopub.execute_input": "2023-01-21T16:00:54.574001Z",
     "iopub.status.busy": "2023-01-21T16:00:54.573563Z",
     "iopub.status.idle": "2023-01-21T16:00:54.581769Z",
     "shell.execute_reply": "2023-01-21T16:00:54.580600Z"
    },
    "papermill": {
     "duration": 0.029112,
     "end_time": "2023-01-21T16:00:54.584423",
     "exception": false,
     "start_time": "2023-01-21T16:00:54.555311",
     "status": "completed"
    },
    "tags": []
   },
   "outputs": [],
   "source": [
    "from sklearn.model_selection import train_test_split\n",
    "X_train, X_val, y_train, y_val = train_test_split(\n",
    "    X, y, test_size = 0.2, random_state = 42\n",
    ")"
   ]
  },
  {
   "cell_type": "code",
   "execution_count": 28,
   "id": "8f4b00f8",
   "metadata": {
    "execution": {
     "iopub.execute_input": "2023-01-21T16:00:54.621141Z",
     "iopub.status.busy": "2023-01-21T16:00:54.620343Z",
     "iopub.status.idle": "2023-01-21T16:00:54.628980Z",
     "shell.execute_reply": "2023-01-21T16:00:54.628045Z"
    },
    "papermill": {
     "duration": 0.029571,
     "end_time": "2023-01-21T16:00:54.631572",
     "exception": false,
     "start_time": "2023-01-21T16:00:54.602001",
     "status": "completed"
    },
    "tags": []
   },
   "outputs": [],
   "source": [
    "from sklearn.pipeline import make_pipeline"
   ]
  },
  {
   "cell_type": "code",
   "execution_count": 29,
   "id": "949a7b60",
   "metadata": {
    "execution": {
     "iopub.execute_input": "2023-01-21T16:00:54.666943Z",
     "iopub.status.busy": "2023-01-21T16:00:54.666532Z",
     "iopub.status.idle": "2023-01-21T16:00:54.896289Z",
     "shell.execute_reply": "2023-01-21T16:00:54.894634Z"
    },
    "papermill": {
     "duration": 0.25209,
     "end_time": "2023-01-21T16:00:54.900552",
     "exception": false,
     "start_time": "2023-01-21T16:00:54.648462",
     "status": "completed"
    },
    "tags": []
   },
   "outputs": [
    {
     "data": {
      "text/plain": [
       "Pipeline(steps=[('onehotencoder',\n",
       "                 OneHotEncoder(cols=['Sex', 'Ticket', 'Embarked'],\n",
       "                               use_cat_names=True)),\n",
       "                ('simpleimputer', SimpleImputer()),\n",
       "                ('logisticregression', LogisticRegression(max_iter=1000))])"
      ]
     },
     "execution_count": 29,
     "metadata": {},
     "output_type": "execute_result"
    }
   ],
   "source": [
    "model_lr = make_pipeline(\n",
    "    OneHotEncoder(use_cat_names = True), SimpleImputer(),\n",
    "    LogisticRegression(max_iter = 1000)\n",
    ")\n",
    "model_lr.fit(X_train, y_train)"
   ]
  },
  {
   "cell_type": "code",
   "execution_count": 30,
   "id": "e6e4cc5c",
   "metadata": {
    "execution": {
     "iopub.execute_input": "2023-01-21T16:00:54.992697Z",
     "iopub.status.busy": "2023-01-21T16:00:54.991969Z",
     "iopub.status.idle": "2023-01-21T16:00:55.022312Z",
     "shell.execute_reply": "2023-01-21T16:00:55.020653Z"
    },
    "papermill": {
     "duration": 0.080935,
     "end_time": "2023-01-21T16:00:55.026561",
     "exception": false,
     "start_time": "2023-01-21T16:00:54.945626",
     "status": "completed"
    },
    "tags": []
   },
   "outputs": [
    {
     "name": "stdout",
     "output_type": "stream",
     "text": [
      "1.0\n"
     ]
    }
   ],
   "source": [
    "lr_train_accuracy = model_lr.score(X_train, y_train)\n",
    "print(lr_train_accuracy)"
   ]
  },
  {
   "cell_type": "code",
   "execution_count": 31,
   "id": "49f16b90",
   "metadata": {
    "execution": {
     "iopub.execute_input": "2023-01-21T16:00:55.120463Z",
     "iopub.status.busy": "2023-01-21T16:00:55.119720Z",
     "iopub.status.idle": "2023-01-21T16:00:55.152207Z",
     "shell.execute_reply": "2023-01-21T16:00:55.150576Z"
    },
    "papermill": {
     "duration": 0.08461,
     "end_time": "2023-01-21T16:00:55.156661",
     "exception": false,
     "start_time": "2023-01-21T16:00:55.072051",
     "status": "completed"
    },
    "tags": []
   },
   "outputs": [
    {
     "name": "stdout",
     "output_type": "stream",
     "text": [
      "1.0\n"
     ]
    }
   ],
   "source": [
    "lr_val_accuracy = model_lr.score(X_val, y_val)\n",
    "print(lr_val_accuracy)"
   ]
  },
  {
   "cell_type": "code",
   "execution_count": 32,
   "id": "7a74d979",
   "metadata": {
    "execution": {
     "iopub.execute_input": "2023-01-21T16:00:55.248059Z",
     "iopub.status.busy": "2023-01-21T16:00:55.247349Z",
     "iopub.status.idle": "2023-01-21T16:00:55.259569Z",
     "shell.execute_reply": "2023-01-21T16:00:55.258007Z"
    },
    "papermill": {
     "duration": 0.062692,
     "end_time": "2023-01-21T16:00:55.263612",
     "exception": false,
     "start_time": "2023-01-21T16:00:55.200920",
     "status": "completed"
    },
    "tags": []
   },
   "outputs": [
    {
     "data": {
      "text/plain": [
       "['Pclass',\n",
       " 'Sex_male',\n",
       " 'Sex_female',\n",
       " 'Age',\n",
       " 'SibSp',\n",
       " 'Parch',\n",
       " 'Ticket_244360',\n",
       " 'Ticket_C.A. 31029',\n",
       " 'Ticket_240261',\n",
       " 'Ticket_21228']"
      ]
     },
     "execution_count": 32,
     "metadata": {},
     "output_type": "execute_result"
    }
   ],
   "source": [
    "features = model_lr.named_steps[\"onehotencoder\"].get_feature_names()\n",
    "features[:10]"
   ]
  },
  {
   "cell_type": "code",
   "execution_count": 33,
   "id": "2da33d27",
   "metadata": {
    "execution": {
     "iopub.execute_input": "2023-01-21T16:00:55.302589Z",
     "iopub.status.busy": "2023-01-21T16:00:55.301809Z",
     "iopub.status.idle": "2023-01-21T16:00:55.308655Z",
     "shell.execute_reply": "2023-01-21T16:00:55.307505Z"
    },
    "papermill": {
     "duration": 0.027411,
     "end_time": "2023-01-21T16:00:55.310825",
     "exception": false,
     "start_time": "2023-01-21T16:00:55.283414",
     "status": "completed"
    },
    "tags": []
   },
   "outputs": [
    {
     "data": {
      "text/plain": [
       "array([-9.93840981e-02, -3.67683970e+00,  3.67681142e+00, -2.72190466e-03,\n",
       "        6.30680954e-02])"
      ]
     },
     "execution_count": 33,
     "metadata": {},
     "output_type": "execute_result"
    }
   ],
   "source": [
    "importances = model_lr.named_steps[\"logisticregression\"].coef_[0]\n",
    "importances[:5]"
   ]
  },
  {
   "cell_type": "code",
   "execution_count": 34,
   "id": "84c9a74d",
   "metadata": {
    "execution": {
     "iopub.execute_input": "2023-01-21T16:00:55.347550Z",
     "iopub.status.busy": "2023-01-21T16:00:55.346725Z",
     "iopub.status.idle": "2023-01-21T16:00:55.356769Z",
     "shell.execute_reply": "2023-01-21T16:00:55.355710Z"
    },
    "papermill": {
     "duration": 0.030661,
     "end_time": "2023-01-21T16:00:55.358927",
     "exception": false,
     "start_time": "2023-01-21T16:00:55.328266",
     "status": "completed"
    },
    "tags": []
   },
   "outputs": [
    {
     "data": {
      "text/plain": [
       "Sex_male         0.025303\n",
       "Embarked_S       0.865837\n",
       "Pclass           0.905395\n",
       "Embarked_C       0.916162\n",
       "Ticket_347077    0.938440\n",
       "dtype: float64"
      ]
     },
     "execution_count": 34,
     "metadata": {},
     "output_type": "execute_result"
    }
   ],
   "source": [
    "features = model_lr.named_steps[\"onehotencoder\"].get_feature_names()\n",
    "importances = model_lr.named_steps[\"logisticregression\"].coef_[0]\n",
    "feat_imp = pd.Series(np.exp(importances), index=features).sort_values()\n",
    "feat_imp.head()"
   ]
  },
  {
   "cell_type": "markdown",
   "id": "1862732f",
   "metadata": {
    "papermill": {
     "duration": 0.016837,
     "end_time": "2023-01-21T16:00:55.392960",
     "exception": false,
     "start_time": "2023-01-21T16:00:55.376123",
     "status": "completed"
    },
    "tags": []
   },
   "source": [
    "****DecisionTreeClassifier****"
   ]
  },
  {
   "cell_type": "code",
   "execution_count": 35,
   "id": "b3171e41",
   "metadata": {
    "execution": {
     "iopub.execute_input": "2023-01-21T16:00:55.429332Z",
     "iopub.status.busy": "2023-01-21T16:00:55.428909Z",
     "iopub.status.idle": "2023-01-21T16:00:55.510725Z",
     "shell.execute_reply": "2023-01-21T16:00:55.509662Z"
    },
    "papermill": {
     "duration": 0.103006,
     "end_time": "2023-01-21T16:00:55.513088",
     "exception": false,
     "start_time": "2023-01-21T16:00:55.410082",
     "status": "completed"
    },
    "tags": []
   },
   "outputs": [
    {
     "data": {
      "text/plain": [
       "Pipeline(steps=[('ordinalencoder',\n",
       "                 OrdinalEncoder(cols=['Sex', 'Ticket', 'Embarked'],\n",
       "                                mapping=[{'col': 'Sex', 'data_type': dtype('O'),\n",
       "                                          'mapping': male      1\n",
       "female    2\n",
       "NaN      -2\n",
       "dtype: int64},\n",
       "                                         {'col': 'Ticket',\n",
       "                                          'data_type': dtype('O'),\n",
       "                                          'mapping': 244360          1\n",
       "C.A. 31029      2\n",
       "240261          3\n",
       "21228           4\n",
       "28004           5\n",
       "             ... \n",
       "349211        288\n",
       "330920        289\n",
       "248726        290\n",
       "365235        291\n",
       "NaN            -2\n",
       "Length: 292, dtype: int64},\n",
       "                                         {'col': 'Embarked',\n",
       "                                          'data_type': dtype('O'),\n",
       "                                          'mapping': S      1\n",
       "Q      2\n",
       "C      3\n",
       "NaN   -2\n",
       "dtype: int64}])),\n",
       "                ('simpleimputer', SimpleImputer()),\n",
       "                ('decisiontreeclassifier',\n",
       "                 DecisionTreeClassifier(max_depth=6, random_state=42))])"
      ]
     },
     "execution_count": 35,
     "metadata": {},
     "output_type": "execute_result"
    }
   ],
   "source": [
    "model_dtc = make_pipeline(\n",
    "    OrdinalEncoder(), SimpleImputer(),\n",
    "    DecisionTreeClassifier(max_depth = 6, random_state=42)\n",
    ")\n",
    "model_dtc.fit(X_train, y_train)"
   ]
  },
  {
   "cell_type": "code",
   "execution_count": 36,
   "id": "7278b7fc",
   "metadata": {
    "execution": {
     "iopub.execute_input": "2023-01-21T16:00:55.549965Z",
     "iopub.status.busy": "2023-01-21T16:00:55.549528Z",
     "iopub.status.idle": "2023-01-21T16:00:55.564639Z",
     "shell.execute_reply": "2023-01-21T16:00:55.563287Z"
    },
    "papermill": {
     "duration": 0.036826,
     "end_time": "2023-01-21T16:00:55.567456",
     "exception": false,
     "start_time": "2023-01-21T16:00:55.530630",
     "status": "completed"
    },
    "tags": []
   },
   "outputs": [
    {
     "name": "stdout",
     "output_type": "stream",
     "text": [
      "1.0\n"
     ]
    }
   ],
   "source": [
    "acc_train = model_dtc.score(X_train, y_train)\n",
    "print(acc_train)"
   ]
  },
  {
   "cell_type": "code",
   "execution_count": 37,
   "id": "5f9f5135",
   "metadata": {
    "execution": {
     "iopub.execute_input": "2023-01-21T16:00:55.605202Z",
     "iopub.status.busy": "2023-01-21T16:00:55.604761Z",
     "iopub.status.idle": "2023-01-21T16:00:55.619305Z",
     "shell.execute_reply": "2023-01-21T16:00:55.617671Z"
    },
    "papermill": {
     "duration": 0.037205,
     "end_time": "2023-01-21T16:00:55.622960",
     "exception": false,
     "start_time": "2023-01-21T16:00:55.585755",
     "status": "completed"
    },
    "tags": []
   },
   "outputs": [
    {
     "name": "stdout",
     "output_type": "stream",
     "text": [
      "1.0\n"
     ]
    }
   ],
   "source": [
    "acc_val = model_dtc.score(X_val, y_val)\n",
    "print(acc_val)"
   ]
  },
  {
   "cell_type": "code",
   "execution_count": 38,
   "id": "acd4933e",
   "metadata": {
    "execution": {
     "iopub.execute_input": "2023-01-21T16:00:55.661834Z",
     "iopub.status.busy": "2023-01-21T16:00:55.661448Z",
     "iopub.status.idle": "2023-01-21T16:00:55.667276Z",
     "shell.execute_reply": "2023-01-21T16:00:55.666105Z"
    },
    "papermill": {
     "duration": 0.027874,
     "end_time": "2023-01-21T16:00:55.670196",
     "exception": false,
     "start_time": "2023-01-21T16:00:55.642322",
     "status": "completed"
    },
    "tags": []
   },
   "outputs": [
    {
     "name": "stdout",
     "output_type": "stream",
     "text": [
      "1\n"
     ]
    }
   ],
   "source": [
    "tree_depth = model_dtc.named_steps[\"decisiontreeclassifier\"].get_depth()\n",
    "print(tree_depth)"
   ]
  },
  {
   "cell_type": "markdown",
   "id": "ce40ed6b",
   "metadata": {
    "papermill": {
     "duration": 0.017239,
     "end_time": "2023-01-21T16:00:55.706123",
     "exception": false,
     "start_time": "2023-01-21T16:00:55.688884",
     "status": "completed"
    },
    "tags": []
   },
   "source": [
    " ****Reduce some of unnecessary features****\n",
    "> Just keep necessary features that are higher corelated>  "
   ]
  },
  {
   "cell_type": "code",
   "execution_count": 39,
   "id": "1376cf07",
   "metadata": {
    "execution": {
     "iopub.execute_input": "2023-01-21T16:00:55.742705Z",
     "iopub.status.busy": "2023-01-21T16:00:55.742311Z",
     "iopub.status.idle": "2023-01-21T16:00:55.757249Z",
     "shell.execute_reply": "2023-01-21T16:00:55.756108Z"
    },
    "papermill": {
     "duration": 0.035781,
     "end_time": "2023-01-21T16:00:55.759473",
     "exception": false,
     "start_time": "2023-01-21T16:00:55.723692",
     "status": "completed"
    },
    "tags": []
   },
   "outputs": [
    {
     "data": {
      "text/html": [
       "<div>\n",
       "<style scoped>\n",
       "    .dataframe tbody tr th:only-of-type {\n",
       "        vertical-align: middle;\n",
       "    }\n",
       "\n",
       "    .dataframe tbody tr th {\n",
       "        vertical-align: top;\n",
       "    }\n",
       "\n",
       "    .dataframe thead th {\n",
       "        text-align: right;\n",
       "    }\n",
       "</style>\n",
       "<table border=\"1\" class=\"dataframe\">\n",
       "  <thead>\n",
       "    <tr style=\"text-align: right;\">\n",
       "      <th></th>\n",
       "      <th>Survived</th>\n",
       "      <th>Pclass</th>\n",
       "      <th>Age</th>\n",
       "      <th>SibSp</th>\n",
       "      <th>Parch</th>\n",
       "      <th>Fare</th>\n",
       "    </tr>\n",
       "  </thead>\n",
       "  <tbody>\n",
       "    <tr>\n",
       "      <th>Survived</th>\n",
       "      <td>1.000000</td>\n",
       "      <td>-0.108615</td>\n",
       "      <td>-0.000013</td>\n",
       "      <td>0.099943</td>\n",
       "      <td>0.159120</td>\n",
       "      <td>0.191514</td>\n",
       "    </tr>\n",
       "    <tr>\n",
       "      <th>Pclass</th>\n",
       "      <td>-0.108615</td>\n",
       "      <td>1.000000</td>\n",
       "      <td>-0.492143</td>\n",
       "      <td>0.001087</td>\n",
       "      <td>0.018721</td>\n",
       "      <td>-0.577147</td>\n",
       "    </tr>\n",
       "    <tr>\n",
       "      <th>Age</th>\n",
       "      <td>-0.000013</td>\n",
       "      <td>-0.492143</td>\n",
       "      <td>1.000000</td>\n",
       "      <td>-0.091587</td>\n",
       "      <td>-0.061249</td>\n",
       "      <td>0.337932</td>\n",
       "    </tr>\n",
       "    <tr>\n",
       "      <th>SibSp</th>\n",
       "      <td>0.099943</td>\n",
       "      <td>0.001087</td>\n",
       "      <td>-0.091587</td>\n",
       "      <td>1.000000</td>\n",
       "      <td>0.306895</td>\n",
       "      <td>0.171539</td>\n",
       "    </tr>\n",
       "    <tr>\n",
       "      <th>Parch</th>\n",
       "      <td>0.159120</td>\n",
       "      <td>0.018721</td>\n",
       "      <td>-0.061249</td>\n",
       "      <td>0.306895</td>\n",
       "      <td>1.000000</td>\n",
       "      <td>0.230046</td>\n",
       "    </tr>\n",
       "    <tr>\n",
       "      <th>Fare</th>\n",
       "      <td>0.191514</td>\n",
       "      <td>-0.577147</td>\n",
       "      <td>0.337932</td>\n",
       "      <td>0.171539</td>\n",
       "      <td>0.230046</td>\n",
       "      <td>1.000000</td>\n",
       "    </tr>\n",
       "  </tbody>\n",
       "</table>\n",
       "</div>"
      ],
      "text/plain": [
       "          Survived    Pclass       Age     SibSp     Parch      Fare\n",
       "Survived  1.000000 -0.108615 -0.000013  0.099943  0.159120  0.191514\n",
       "Pclass   -0.108615  1.000000 -0.492143  0.001087  0.018721 -0.577147\n",
       "Age      -0.000013 -0.492143  1.000000 -0.091587 -0.061249  0.337932\n",
       "SibSp     0.099943  0.001087 -0.091587  1.000000  0.306895  0.171539\n",
       "Parch     0.159120  0.018721 -0.061249  0.306895  1.000000  0.230046\n",
       "Fare      0.191514 -0.577147  0.337932  0.171539  0.230046  1.000000"
      ]
     },
     "execution_count": 39,
     "metadata": {},
     "output_type": "execute_result"
    }
   ],
   "source": [
    "corr = df.corr()\n",
    "corr"
   ]
  },
  {
   "cell_type": "code",
   "execution_count": 40,
   "id": "1052512e",
   "metadata": {
    "execution": {
     "iopub.execute_input": "2023-01-21T16:00:55.797255Z",
     "iopub.status.busy": "2023-01-21T16:00:55.796844Z",
     "iopub.status.idle": "2023-01-21T16:00:55.803014Z",
     "shell.execute_reply": "2023-01-21T16:00:55.801776Z"
    },
    "papermill": {
     "duration": 0.02777,
     "end_time": "2023-01-21T16:00:55.805277",
     "exception": false,
     "start_time": "2023-01-21T16:00:55.777507",
     "status": "completed"
    },
    "tags": []
   },
   "outputs": [],
   "source": [
    "target1 = \"Survived\"\n",
    "features1 = [\"Pclass\", \"SibSp\", \"Parch\", \"Fare\"]\n",
    "y1 = df[target1]\n",
    "X1 = df[features1]"
   ]
  },
  {
   "cell_type": "code",
   "execution_count": 41,
   "id": "ca18f6e0",
   "metadata": {
    "execution": {
     "iopub.execute_input": "2023-01-21T16:00:55.843943Z",
     "iopub.status.busy": "2023-01-21T16:00:55.843489Z",
     "iopub.status.idle": "2023-01-21T16:00:55.855224Z",
     "shell.execute_reply": "2023-01-21T16:00:55.853890Z"
    },
    "papermill": {
     "duration": 0.034222,
     "end_time": "2023-01-21T16:00:55.857661",
     "exception": false,
     "start_time": "2023-01-21T16:00:55.823439",
     "status": "completed"
    },
    "tags": []
   },
   "outputs": [
    {
     "data": {
      "text/html": [
       "<div>\n",
       "<style scoped>\n",
       "    .dataframe tbody tr th:only-of-type {\n",
       "        vertical-align: middle;\n",
       "    }\n",
       "\n",
       "    .dataframe tbody tr th {\n",
       "        vertical-align: top;\n",
       "    }\n",
       "\n",
       "    .dataframe thead th {\n",
       "        text-align: right;\n",
       "    }\n",
       "</style>\n",
       "<table border=\"1\" class=\"dataframe\">\n",
       "  <thead>\n",
       "    <tr style=\"text-align: right;\">\n",
       "      <th></th>\n",
       "      <th>Pclass</th>\n",
       "      <th>SibSp</th>\n",
       "      <th>Parch</th>\n",
       "      <th>Fare</th>\n",
       "    </tr>\n",
       "  </thead>\n",
       "  <tbody>\n",
       "    <tr>\n",
       "      <th>0</th>\n",
       "      <td>3</td>\n",
       "      <td>0</td>\n",
       "      <td>0</td>\n",
       "      <td>7.8292</td>\n",
       "    </tr>\n",
       "    <tr>\n",
       "      <th>1</th>\n",
       "      <td>3</td>\n",
       "      <td>1</td>\n",
       "      <td>0</td>\n",
       "      <td>7.0000</td>\n",
       "    </tr>\n",
       "    <tr>\n",
       "      <th>2</th>\n",
       "      <td>2</td>\n",
       "      <td>0</td>\n",
       "      <td>0</td>\n",
       "      <td>9.6875</td>\n",
       "    </tr>\n",
       "    <tr>\n",
       "      <th>3</th>\n",
       "      <td>3</td>\n",
       "      <td>0</td>\n",
       "      <td>0</td>\n",
       "      <td>8.6625</td>\n",
       "    </tr>\n",
       "    <tr>\n",
       "      <th>4</th>\n",
       "      <td>3</td>\n",
       "      <td>1</td>\n",
       "      <td>1</td>\n",
       "      <td>12.2875</td>\n",
       "    </tr>\n",
       "  </tbody>\n",
       "</table>\n",
       "</div>"
      ],
      "text/plain": [
       "   Pclass  SibSp  Parch     Fare\n",
       "0       3      0      0   7.8292\n",
       "1       3      1      0   7.0000\n",
       "2       2      0      0   9.6875\n",
       "3       3      0      0   8.6625\n",
       "4       3      1      1  12.2875"
      ]
     },
     "execution_count": 41,
     "metadata": {},
     "output_type": "execute_result"
    }
   ],
   "source": [
    "X1.head()"
   ]
  },
  {
   "cell_type": "code",
   "execution_count": 42,
   "id": "905b6c78",
   "metadata": {
    "execution": {
     "iopub.execute_input": "2023-01-21T16:00:55.895684Z",
     "iopub.status.busy": "2023-01-21T16:00:55.895302Z",
     "iopub.status.idle": "2023-01-21T16:00:55.900513Z",
     "shell.execute_reply": "2023-01-21T16:00:55.899462Z"
    },
    "papermill": {
     "duration": 0.027189,
     "end_time": "2023-01-21T16:00:55.903297",
     "exception": false,
     "start_time": "2023-01-21T16:00:55.876108",
     "status": "completed"
    },
    "tags": []
   },
   "outputs": [
    {
     "name": "stdout",
     "output_type": "stream",
     "text": [
      "(418, 4)\n",
      "(418,)\n"
     ]
    }
   ],
   "source": [
    "print(X1.shape)\n",
    "print(y1.shape)"
   ]
  },
  {
   "cell_type": "code",
   "execution_count": 43,
   "id": "9dcc9817",
   "metadata": {
    "execution": {
     "iopub.execute_input": "2023-01-21T16:00:55.941486Z",
     "iopub.status.busy": "2023-01-21T16:00:55.940729Z",
     "iopub.status.idle": "2023-01-21T16:00:55.947865Z",
     "shell.execute_reply": "2023-01-21T16:00:55.946792Z"
    },
    "papermill": {
     "duration": 0.028814,
     "end_time": "2023-01-21T16:00:55.950172",
     "exception": false,
     "start_time": "2023-01-21T16:00:55.921358",
     "status": "completed"
    },
    "tags": []
   },
   "outputs": [],
   "source": [
    "X_train1, X_val1, y_train1, y_val1 = train_test_split(\n",
    "    X1, y1, test_size = 0.2, random_state = 42\n",
    ")"
   ]
  },
  {
   "cell_type": "code",
   "execution_count": 44,
   "id": "f24f697c",
   "metadata": {
    "execution": {
     "iopub.execute_input": "2023-01-21T16:00:55.988437Z",
     "iopub.status.busy": "2023-01-21T16:00:55.987598Z",
     "iopub.status.idle": "2023-01-21T16:00:56.014616Z",
     "shell.execute_reply": "2023-01-21T16:00:56.013478Z"
    },
    "papermill": {
     "duration": 0.048888,
     "end_time": "2023-01-21T16:00:56.017425",
     "exception": false,
     "start_time": "2023-01-21T16:00:55.968537",
     "status": "completed"
    },
    "tags": []
   },
   "outputs": [
    {
     "name": "stdout",
     "output_type": "stream",
     "text": [
      "Warning: No categorical columns found. Calling 'transform' will only return input data.\n"
     ]
    },
    {
     "data": {
      "text/plain": [
       "Pipeline(steps=[('onehotencoder', OneHotEncoder(cols=[], use_cat_names=True)),\n",
       "                ('simpleimputer', SimpleImputer()),\n",
       "                ('logisticregression', LogisticRegression(max_iter=1000))])"
      ]
     },
     "execution_count": 44,
     "metadata": {},
     "output_type": "execute_result"
    }
   ],
   "source": [
    "model_lr1 = make_pipeline(\n",
    "    OneHotEncoder(use_cat_names = True), SimpleImputer(),\n",
    "    #SimpleImputer(),\n",
    "    LogisticRegression(max_iter = 1000)\n",
    ")\n",
    "model_lr1.fit(X_train1, y_train1)"
   ]
  },
  {
   "cell_type": "code",
   "execution_count": 45,
   "id": "80c36eeb",
   "metadata": {
    "execution": {
     "iopub.execute_input": "2023-01-21T16:00:56.056626Z",
     "iopub.status.busy": "2023-01-21T16:00:56.055806Z",
     "iopub.status.idle": "2023-01-21T16:00:56.066226Z",
     "shell.execute_reply": "2023-01-21T16:00:56.065031Z"
    },
    "papermill": {
     "duration": 0.03258,
     "end_time": "2023-01-21T16:00:56.068708",
     "exception": false,
     "start_time": "2023-01-21T16:00:56.036128",
     "status": "completed"
    },
    "tags": []
   },
   "outputs": [
    {
     "name": "stdout",
     "output_type": "stream",
     "text": [
      "0.6467065868263473\n"
     ]
    }
   ],
   "source": [
    "lr_train_accuracy1 = model_lr1.score(X_train1, y_train1)\n",
    "print(lr_train_accuracy1)"
   ]
  },
  {
   "cell_type": "code",
   "execution_count": 46,
   "id": "4c5e320f",
   "metadata": {
    "execution": {
     "iopub.execute_input": "2023-01-21T16:00:56.106598Z",
     "iopub.status.busy": "2023-01-21T16:00:56.106202Z",
     "iopub.status.idle": "2023-01-21T16:00:56.115257Z",
     "shell.execute_reply": "2023-01-21T16:00:56.114020Z"
    },
    "papermill": {
     "duration": 0.03116,
     "end_time": "2023-01-21T16:00:56.118156",
     "exception": false,
     "start_time": "2023-01-21T16:00:56.086996",
     "status": "completed"
    },
    "tags": []
   },
   "outputs": [
    {
     "name": "stdout",
     "output_type": "stream",
     "text": [
      "0.6190476190476191\n"
     ]
    }
   ],
   "source": [
    "lr_val_accuracy1 = model_lr1.score(X_val1, y_val1)\n",
    "print(lr_val_accuracy1)"
   ]
  },
  {
   "cell_type": "code",
   "execution_count": 47,
   "id": "34e1e8ab",
   "metadata": {
    "execution": {
     "iopub.execute_input": "2023-01-21T16:00:56.157251Z",
     "iopub.status.busy": "2023-01-21T16:00:56.156809Z",
     "iopub.status.idle": "2023-01-21T16:00:56.163574Z",
     "shell.execute_reply": "2023-01-21T16:00:56.162808Z"
    },
    "papermill": {
     "duration": 0.028439,
     "end_time": "2023-01-21T16:00:56.165608",
     "exception": false,
     "start_time": "2023-01-21T16:00:56.137169",
     "status": "completed"
    },
    "tags": []
   },
   "outputs": [
    {
     "data": {
      "text/plain": [
       "['Pclass', 'SibSp', 'Parch', 'Fare']"
      ]
     },
     "execution_count": 47,
     "metadata": {},
     "output_type": "execute_result"
    }
   ],
   "source": [
    "features1 = model_lr1.named_steps[\"onehotencoder\"].get_feature_names()\n",
    "#features1 = model_lr1.get_feature_names()\n",
    "features1[:10]"
   ]
  },
  {
   "cell_type": "code",
   "execution_count": 48,
   "id": "6a0d8838",
   "metadata": {
    "execution": {
     "iopub.execute_input": "2023-01-21T16:00:56.204268Z",
     "iopub.status.busy": "2023-01-21T16:00:56.203892Z",
     "iopub.status.idle": "2023-01-21T16:00:56.210974Z",
     "shell.execute_reply": "2023-01-21T16:00:56.209844Z"
    },
    "papermill": {
     "duration": 0.02916,
     "end_time": "2023-01-21T16:00:56.213180",
     "exception": false,
     "start_time": "2023-01-21T16:00:56.184020",
     "status": "completed"
    },
    "tags": []
   },
   "outputs": [
    {
     "data": {
      "text/plain": [
       "array([-0.15804764,  0.10642314,  0.14229042,  0.00495701])"
      ]
     },
     "execution_count": 48,
     "metadata": {},
     "output_type": "execute_result"
    }
   ],
   "source": [
    "importances1 = model_lr1.named_steps[\"logisticregression\"].coef_[0]\n",
    "importances1[:5]"
   ]
  },
  {
   "cell_type": "code",
   "execution_count": 49,
   "id": "baf1f3fc",
   "metadata": {
    "execution": {
     "iopub.execute_input": "2023-01-21T16:00:56.252260Z",
     "iopub.status.busy": "2023-01-21T16:00:56.251834Z",
     "iopub.status.idle": "2023-01-21T16:00:56.261423Z",
     "shell.execute_reply": "2023-01-21T16:00:56.260644Z"
    },
    "papermill": {
     "duration": 0.031631,
     "end_time": "2023-01-21T16:00:56.263455",
     "exception": false,
     "start_time": "2023-01-21T16:00:56.231824",
     "status": "completed"
    },
    "tags": []
   },
   "outputs": [
    {
     "data": {
      "text/plain": [
       "Pclass    0.853809\n",
       "Fare      1.004969\n",
       "SibSp     1.112292\n",
       "Parch     1.152911\n",
       "dtype: float64"
      ]
     },
     "execution_count": 49,
     "metadata": {},
     "output_type": "execute_result"
    }
   ],
   "source": [
    "features1 = model_lr1.named_steps[\"onehotencoder\"].get_feature_names()\n",
    "importances1 = model_lr1.named_steps[\"logisticregression\"].coef_[0]\n",
    "feat_imp1 = pd.Series(np.exp(importances1), index=features1).sort_values()\n",
    "feat_imp1.head()"
   ]
  },
  {
   "cell_type": "code",
   "execution_count": 50,
   "id": "83cb1e94",
   "metadata": {
    "execution": {
     "iopub.execute_input": "2023-01-21T16:00:56.302320Z",
     "iopub.status.busy": "2023-01-21T16:00:56.301906Z",
     "iopub.status.idle": "2023-01-21T16:00:56.320793Z",
     "shell.execute_reply": "2023-01-21T16:00:56.319680Z"
    },
    "papermill": {
     "duration": 0.041249,
     "end_time": "2023-01-21T16:00:56.323323",
     "exception": false,
     "start_time": "2023-01-21T16:00:56.282074",
     "status": "completed"
    },
    "tags": []
   },
   "outputs": [
    {
     "name": "stdout",
     "output_type": "stream",
     "text": [
      "Warning: No categorical columns found. Calling 'transform' will only return input data.\n"
     ]
    },
    {
     "data": {
      "text/plain": [
       "Pipeline(steps=[('ordinalencoder', OrdinalEncoder(cols=[], mapping=[])),\n",
       "                ('simpleimputer', SimpleImputer()),\n",
       "                ('decisiontreeclassifier',\n",
       "                 DecisionTreeClassifier(max_depth=6, random_state=42))])"
      ]
     },
     "execution_count": 50,
     "metadata": {},
     "output_type": "execute_result"
    }
   ],
   "source": [
    "model_dtc1 = make_pipeline(\n",
    "    OrdinalEncoder(), SimpleImputer(),\n",
    "    DecisionTreeClassifier(max_depth = 6, random_state=42)\n",
    ")\n",
    "model_dtc1.fit(X_train1, y_train1)"
   ]
  },
  {
   "cell_type": "code",
   "execution_count": 51,
   "id": "c0faf763",
   "metadata": {
    "execution": {
     "iopub.execute_input": "2023-01-21T16:00:56.362894Z",
     "iopub.status.busy": "2023-01-21T16:00:56.362463Z",
     "iopub.status.idle": "2023-01-21T16:00:56.371999Z",
     "shell.execute_reply": "2023-01-21T16:00:56.370626Z"
    },
    "papermill": {
     "duration": 0.032546,
     "end_time": "2023-01-21T16:00:56.374751",
     "exception": false,
     "start_time": "2023-01-21T16:00:56.342205",
     "status": "completed"
    },
    "tags": []
   },
   "outputs": [
    {
     "name": "stdout",
     "output_type": "stream",
     "text": [
      "0.7634730538922155\n"
     ]
    }
   ],
   "source": [
    "acc_train1 = model_dtc1.score(X_train1, y_train1)\n",
    "print(acc_train1)"
   ]
  },
  {
   "cell_type": "code",
   "execution_count": 52,
   "id": "befe9303",
   "metadata": {
    "execution": {
     "iopub.execute_input": "2023-01-21T16:00:56.415276Z",
     "iopub.status.busy": "2023-01-21T16:00:56.414879Z",
     "iopub.status.idle": "2023-01-21T16:00:56.424507Z",
     "shell.execute_reply": "2023-01-21T16:00:56.422784Z"
    },
    "papermill": {
     "duration": 0.032726,
     "end_time": "2023-01-21T16:00:56.427205",
     "exception": false,
     "start_time": "2023-01-21T16:00:56.394479",
     "status": "completed"
    },
    "tags": []
   },
   "outputs": [
    {
     "name": "stdout",
     "output_type": "stream",
     "text": [
      "0.6309523809523809\n"
     ]
    }
   ],
   "source": [
    "acc_val1 = model_dtc1.score(X_val1, y_val1)\n",
    "print(acc_val1)"
   ]
  },
  {
   "cell_type": "code",
   "execution_count": 53,
   "id": "68ef0c97",
   "metadata": {
    "execution": {
     "iopub.execute_input": "2023-01-21T16:00:56.467043Z",
     "iopub.status.busy": "2023-01-21T16:00:56.466623Z",
     "iopub.status.idle": "2023-01-21T16:00:56.472920Z",
     "shell.execute_reply": "2023-01-21T16:00:56.471737Z"
    },
    "papermill": {
     "duration": 0.0292,
     "end_time": "2023-01-21T16:00:56.475438",
     "exception": false,
     "start_time": "2023-01-21T16:00:56.446238",
     "status": "completed"
    },
    "tags": []
   },
   "outputs": [
    {
     "name": "stdout",
     "output_type": "stream",
     "text": [
      "6\n"
     ]
    }
   ],
   "source": [
    "tree_depth1 = model_dtc1.named_steps[\"decisiontreeclassifier\"].get_depth()\n",
    "print(tree_depth1)"
   ]
  },
  {
   "cell_type": "code",
   "execution_count": 54,
   "id": "195f1b07",
   "metadata": {
    "execution": {
     "iopub.execute_input": "2023-01-21T16:00:56.516769Z",
     "iopub.status.busy": "2023-01-21T16:00:56.515737Z",
     "iopub.status.idle": "2023-01-21T16:00:56.525044Z",
     "shell.execute_reply": "2023-01-21T16:00:56.523990Z"
    },
    "papermill": {
     "duration": 0.032448,
     "end_time": "2023-01-21T16:00:56.527377",
     "exception": false,
     "start_time": "2023-01-21T16:00:56.494929",
     "status": "completed"
    },
    "tags": []
   },
   "outputs": [
    {
     "data": {
      "text/plain": [
       "Pclass    0.000000\n",
       "SibSp     0.000000\n",
       "Parch     0.000000\n",
       "Fare      0.002392\n",
       "dtype: float64"
      ]
     },
     "execution_count": 54,
     "metadata": {},
     "output_type": "execute_result"
    }
   ],
   "source": [
    "X1.isnull().sum() / len(X1)"
   ]
  },
  {
   "cell_type": "code",
   "execution_count": 55,
   "id": "05d657b1",
   "metadata": {
    "execution": {
     "iopub.execute_input": "2023-01-21T16:00:56.568131Z",
     "iopub.status.busy": "2023-01-21T16:00:56.567728Z",
     "iopub.status.idle": "2023-01-21T16:00:56.572273Z",
     "shell.execute_reply": "2023-01-21T16:00:56.571435Z"
    },
    "papermill": {
     "duration": 0.027261,
     "end_time": "2023-01-21T16:00:56.574385",
     "exception": false,
     "start_time": "2023-01-21T16:00:56.547124",
     "status": "completed"
    },
    "tags": []
   },
   "outputs": [],
   "source": [
    "depth_hyperparameters = range(1,7)"
   ]
  },
  {
   "cell_type": "code",
   "execution_count": 56,
   "id": "d4134a55",
   "metadata": {
    "execution": {
     "iopub.execute_input": "2023-01-21T16:00:56.615583Z",
     "iopub.status.busy": "2023-01-21T16:00:56.615183Z",
     "iopub.status.idle": "2023-01-21T16:00:56.684777Z",
     "shell.execute_reply": "2023-01-21T16:00:56.683613Z"
    },
    "papermill": {
     "duration": 0.093771,
     "end_time": "2023-01-21T16:00:56.687605",
     "exception": false,
     "start_time": "2023-01-21T16:00:56.593834",
     "status": "completed"
    },
    "tags": []
   },
   "outputs": [
    {
     "name": "stdout",
     "output_type": "stream",
     "text": [
      "Warning: No categorical columns found. Calling 'transform' will only return input data.\n",
      "Warning: No categorical columns found. Calling 'transform' will only return input data.\n",
      "Warning: No categorical columns found. Calling 'transform' will only return input data.\n",
      "Warning: No categorical columns found. Calling 'transform' will only return input data.\n",
      "Warning: No categorical columns found. Calling 'transform' will only return input data.\n",
      "Warning: No categorical columns found. Calling 'transform' will only return input data.\n",
      "Training Accuracy Score :  [0.6467065868263473, 0.6616766467065869, 0.6796407185628742, 0.6976047904191617, 0.7335329341317365]\n",
      "Validation Accuracy Score :  [0.5952380952380952, 0.5952380952380952, 0.6666666666666666, 0.6547619047619048, 0.6428571428571429]\n"
     ]
    }
   ],
   "source": [
    "training_acc = []\n",
    "validation_acc = []\n",
    "\n",
    "for i in depth_hyperparameters:\n",
    "    #Create model with max_depth of i\n",
    "    test_model = make_pipeline(\n",
    "        OrdinalEncoder(), SimpleImputer(),\n",
    "        DecisionTreeClassifier(max_depth = i, random_state=42)\n",
    "    )\n",
    "    test_model.fit(X_train1, y_train1)\n",
    "    training_acc.append(test_model.score(X_train1, y_train1))\n",
    "    validation_acc.append(test_model.score(X_val1, y_val1))\n",
    "    \n",
    "print(\"Training Accuracy Score : \", training_acc[:5])\n",
    "print(\"Validation Accuracy Score : \", validation_acc[:5])"
   ]
  },
  {
   "cell_type": "code",
   "execution_count": 57,
   "id": "0f7ee662",
   "metadata": {
    "execution": {
     "iopub.execute_input": "2023-01-21T16:00:56.729331Z",
     "iopub.status.busy": "2023-01-21T16:00:56.728953Z",
     "iopub.status.idle": "2023-01-21T16:00:56.935522Z",
     "shell.execute_reply": "2023-01-21T16:00:56.934175Z"
    },
    "papermill": {
     "duration": 0.230619,
     "end_time": "2023-01-21T16:00:56.938177",
     "exception": false,
     "start_time": "2023-01-21T16:00:56.707558",
     "status": "completed"
    },
    "tags": []
   },
   "outputs": [
    {
     "data": {
      "text/plain": [
       "Text(0, 0.5, 'Accuracy score')"
      ]
     },
     "execution_count": 57,
     "metadata": {},
     "output_type": "execute_result"
    },
    {
     "data": {
      "image/png": "[encoded data removed]",
      "text/plain": [
       "<Figure size 432x288 with 1 Axes>"
      ]
     },
     "metadata": {
      "needs_background": "light"
     },
     "output_type": "display_data"
    }
   ],
   "source": [
    " #plot depth hyperparameters and training accuracy\n",
    "plt.plot(depth_hyperparameters, training_acc, label = \"training\")\n",
    "plt.plot(depth_hyperparameters, validation_acc, label = \"validation\")\n",
    "\n",
    "plt.xlabel(\"max depth\")\n",
    "plt.ylabel(\"Accuracy score\")\n"
   ]
  },
  {
   "cell_type": "code",
   "execution_count": 58,
   "id": "a2bb4c84",
   "metadata": {
    "execution": {
     "iopub.execute_input": "2023-01-21T16:00:56.980172Z",
     "iopub.status.busy": "2023-01-21T16:00:56.979513Z",
     "iopub.status.idle": "2023-01-21T16:00:56.984302Z",
     "shell.execute_reply": "2023-01-21T16:00:56.983199Z"
    },
    "papermill": {
     "duration": 0.028133,
     "end_time": "2023-01-21T16:00:56.986492",
     "exception": false,
     "start_time": "2023-01-21T16:00:56.958359",
     "status": "completed"
    },
    "tags": []
   },
   "outputs": [],
   "source": [
    "#test_acc = model_dtc1.score(X_test1, y_test1)"
   ]
  },
  {
   "cell_type": "code",
   "execution_count": 59,
   "id": "cdfc0965",
   "metadata": {
    "execution": {
     "iopub.execute_input": "2023-01-21T16:00:57.028627Z",
     "iopub.status.busy": "2023-01-21T16:00:57.027536Z",
     "iopub.status.idle": "2023-01-21T16:01:01.367041Z",
     "shell.execute_reply": "2023-01-21T16:01:01.365916Z"
    },
    "papermill": {
     "duration": 4.367688,
     "end_time": "2023-01-21T16:01:01.373958",
     "exception": false,
     "start_time": "2023-01-21T16:00:57.006270",
     "status": "completed"
    },
    "tags": []
   },
   "outputs": [
    {
     "data": {
      "image/png": "[encoded data removed]",
      "text/plain": [
       "<Figure size 1800x864 with 1 Axes>"
      ]
     },
     "metadata": {
      "needs_background": "light"
     },
     "output_type": "display_data"
    }
   ],
   "source": [
    "fig, ax = plt.subplots(figsize=(25,12))\n",
    "\n",
    "plot_tree(\n",
    "    decision_tree = model_dtc1.named_steps[\"decisiontreeclassifier\"],\n",
    "    feature_names = X_train1.columns,\n",
    "    filled = True,\n",
    "    rounded = True,\n",
    "    proportion = True,\n",
    "    max_depth = 6,\n",
    "    fontsize=12,\n",
    "    ax=ax\n",
    "    \n",
    ");\n"
   ]
  },
  {
   "cell_type": "code",
   "execution_count": 60,
   "id": "e3edff48",
   "metadata": {
    "execution": {
     "iopub.execute_input": "2023-01-21T16:01:01.425918Z",
     "iopub.status.busy": "2023-01-21T16:01:01.424652Z",
     "iopub.status.idle": "2023-01-21T16:01:01.433112Z",
     "shell.execute_reply": "2023-01-21T16:01:01.431668Z"
    },
    "papermill": {
     "duration": 0.037151,
     "end_time": "2023-01-21T16:01:01.435717",
     "exception": false,
     "start_time": "2023-01-21T16:01:01.398566",
     "status": "completed"
    },
    "tags": []
   },
   "outputs": [
    {
     "name": "stdout",
     "output_type": "stream",
     "text": [
      "features ['Pclass', 'Sex_male', 'Sex_female']\n",
      "importances [0.11225614 0.07409803 0.03803115]\n"
     ]
    }
   ],
   "source": [
    "feautures = X_train1.columns\n",
    "importances = model_dtc1.named_steps[\"decisiontreeclassifier\"].feature_importances_\n",
    "print(\"features\", features[:3])\n",
    "print(\"importances\", importances[:3])"
   ]
  },
  {
   "cell_type": "code",
   "execution_count": 61,
   "id": "e0ca29ac",
   "metadata": {
    "execution": {
     "iopub.execute_input": "2023-01-21T16:01:01.486752Z",
     "iopub.status.busy": "2023-01-21T16:01:01.486340Z",
     "iopub.status.idle": "2023-01-21T16:01:01.491090Z",
     "shell.execute_reply": "2023-01-21T16:01:01.489900Z"
    },
    "papermill": {
     "duration": 0.033223,
     "end_time": "2023-01-21T16:01:01.493727",
     "exception": false,
     "start_time": "2023-01-21T16:01:01.460504",
     "status": "completed"
    },
    "tags": []
   },
   "outputs": [],
   "source": [
    "#feat_imp = pd.Series(importances, index=features).sort_values()"
   ]
  },
  {
   "cell_type": "code",
   "execution_count": 62,
   "id": "6bac603b",
   "metadata": {
    "execution": {
     "iopub.execute_input": "2023-01-21T16:01:01.546829Z",
     "iopub.status.busy": "2023-01-21T16:01:01.546419Z",
     "iopub.status.idle": "2023-01-21T16:01:01.554965Z",
     "shell.execute_reply": "2023-01-21T16:01:01.553817Z"
    },
    "papermill": {
     "duration": 0.038531,
     "end_time": "2023-01-21T16:01:01.557291",
     "exception": false,
     "start_time": "2023-01-21T16:01:01.518760",
     "status": "completed"
    },
    "tags": []
   },
   "outputs": [
    {
     "data": {
      "text/plain": [
       "Sex_male         0.025303\n",
       "Embarked_S       0.865837\n",
       "Pclass           0.905395\n",
       "Embarked_C       0.916162\n",
       "Ticket_347077    0.938440\n",
       "dtype: float64"
      ]
     },
     "execution_count": 62,
     "metadata": {},
     "output_type": "execute_result"
    }
   ],
   "source": [
    "feat_imp.head()"
   ]
  },
  {
   "cell_type": "code",
   "execution_count": 63,
   "id": "940324cd",
   "metadata": {
    "execution": {
     "iopub.execute_input": "2023-01-21T16:01:01.609772Z",
     "iopub.status.busy": "2023-01-21T16:01:01.608661Z",
     "iopub.status.idle": "2023-01-21T16:01:06.649570Z",
     "shell.execute_reply": "2023-01-21T16:01:06.648323Z"
    },
    "papermill": {
     "duration": 5.06963,
     "end_time": "2023-01-21T16:01:06.651936",
     "exception": false,
     "start_time": "2023-01-21T16:01:01.582306",
     "status": "completed"
    },
    "tags": []
   },
   "outputs": [
    {
     "data": {
      "text/plain": [
       "<AxesSubplot:>"
      ]
     },
     "execution_count": 63,
     "metadata": {},
     "output_type": "execute_result"
    },
    {
     "data": {
      "image/png": "[encoded data removed]",
      "text/plain": [
       "<Figure size 432x288 with 1 Axes>"
      ]
     },
     "metadata": {
      "needs_background": "light"
     },
     "output_type": "display_data"
    }
   ],
   "source": [
    "feat_imp.plot(kind=\"bar\")"
   ]
  }
 ],
 "metadata": {
  "kernelspec": {
   "display_name": "Python 3",
   "language": "python",
   "name": "python3"
  },
  "language_info": {
   "codemirror_mode": {
    "name": "ipython",
    "version": 3
   },
   "file_extension": ".py",
   "mimetype": "text/x-python",
   "name": "python",
   "nbconvert_exporter": "python",
   "pygments_lexer": "ipython3",
   "version": "3.7.12"
  },
  "papermill": {
   "default_parameters": {},
   "duration": 24.858694,
   "end_time": "2023-01-21T16:01:07.501169",
   "environment_variables": {},
   "exception": null,
   "input_path": "__notebook__.ipynb",
   "output_path": "__notebook__.ipynb",
   "parameters": {},
   "start_time": "2023-01-21T16:00:42.642475",
   "version": "2.3.4"
  }
 },
 "nbformat": 4,
 "nbformat_minor": 5
}
