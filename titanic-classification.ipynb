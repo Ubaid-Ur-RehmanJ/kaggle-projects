{
 "cells": [
  {
   "cell_type": "code",
   "execution_count": 1,
   "id": "f45981b0",
   "metadata": {
    "_cell_guid": "b1076dfc-b9ad-4769-8c92-a6c4dae69d19",
    "_uuid": "8f2839f25d086af736a60e9eeb907d3b93b6e0e5",
    "execution": {
     "iopub.execute_input": "2023-01-21T09:26:05.245146Z",
     "iopub.status.busy": "2023-01-21T09:26:05.244268Z",
     "iopub.status.idle": "2023-01-21T09:26:05.263001Z",
     "shell.execute_reply": "2023-01-21T09:26:05.261489Z"
    },
    "papermill": {
     "duration": 0.032046,
     "end_time": "2023-01-21T09:26:05.265872",
     "exception": false,
     "start_time": "2023-01-21T09:26:05.233826",
     "status": "completed"
    },
    "tags": []
   },
   "outputs": [
    {
     "name": "stdout",
     "output_type": "stream",
     "text": [
      "/kaggle/input/test-file/tested.csv\n"
     ]
    }
   ],
   "source": [
    "# This Python 3 environment comes with many helpful analytics libraries installed\n",
    "# It is defined by the kaggle/python Docker image: https://github.com/kaggle/docker-python\n",
    "# For example, here's several helpful packages to load\n",
    "\n",
    "import numpy as np # linear algebra\n",
    "import pandas as pd # data processing, CSV file I/O (e.g. pd.read_csv)\n",
    "\n",
    "# Input data files are available in the read-only \"../input/\" directory\n",
    "# For example, running this (by clicking run or pressing Shift+Enter) will list all files under the input directory\n",
    "\n",
    "import os\n",
    "for dirname, _, filenames in os.walk('/kaggle/input'):\n",
    "    for filename in filenames:\n",
    "        print(os.path.join(dirname, filename))\n",
    "\n",
    "# You can write up to 20GB to the current directory (/kaggle/working/) that gets preserved as output when you create a version using \"Save & Run All\" \n",
    "# You can also write temporary files to /kaggle/temp/, but they won't be saved outside of the current session"
   ]
  },
  {
   "cell_type": "code",
   "execution_count": 2,
   "id": "46b6d177",
   "metadata": {
    "execution": {
     "iopub.execute_input": "2023-01-21T09:26:05.284764Z",
     "iopub.status.busy": "2023-01-21T09:26:05.283682Z",
     "iopub.status.idle": "2023-01-21T09:26:06.254262Z",
     "shell.execute_reply": "2023-01-21T09:26:06.253250Z"
    },
    "papermill": {
     "duration": 0.98255,
     "end_time": "2023-01-21T09:26:06.257132",
     "exception": false,
     "start_time": "2023-01-21T09:26:05.274582",
     "status": "completed"
    },
    "tags": []
   },
   "outputs": [],
   "source": [
    "import pandas as pd\n",
    "import numpy as np\n",
    "import matplotlib.pyplot as plt\n",
    "import seaborn as sns"
   ]
  },
  {
   "cell_type": "code",
   "execution_count": 3,
   "id": "ce810457",
   "metadata": {
    "execution": {
     "iopub.execute_input": "2023-01-21T09:26:06.273915Z",
     "iopub.status.busy": "2023-01-21T09:26:06.273525Z",
     "iopub.status.idle": "2023-01-21T09:26:06.308879Z",
     "shell.execute_reply": "2023-01-21T09:26:06.307955Z"
    },
    "papermill": {
     "duration": 0.045846,
     "end_time": "2023-01-21T09:26:06.310749",
     "exception": false,
     "start_time": "2023-01-21T09:26:06.264903",
     "status": "completed"
    },
    "tags": []
   },
   "outputs": [
    {
     "data": {
      "text/html": [
       "<div>\n",
       "<style scoped>\n",
       "    .dataframe tbody tr th:only-of-type {\n",
       "        vertical-align: middle;\n",
       "    }\n",
       "\n",
       "    .dataframe tbody tr th {\n",
       "        vertical-align: top;\n",
       "    }\n",
       "\n",
       "    .dataframe thead th {\n",
       "        text-align: right;\n",
       "    }\n",
       "</style>\n",
       "<table border=\"1\" class=\"dataframe\">\n",
       "  <thead>\n",
       "    <tr style=\"text-align: right;\">\n",
       "      <th></th>\n",
       "      <th>PassengerId</th>\n",
       "      <th>Survived</th>\n",
       "      <th>Pclass</th>\n",
       "      <th>Name</th>\n",
       "      <th>Sex</th>\n",
       "      <th>Age</th>\n",
       "      <th>SibSp</th>\n",
       "      <th>Parch</th>\n",
       "      <th>Ticket</th>\n",
       "      <th>Fare</th>\n",
       "      <th>Cabin</th>\n",
       "      <th>Embarked</th>\n",
       "    </tr>\n",
       "  </thead>\n",
       "  <tbody>\n",
       "    <tr>\n",
       "      <th>0</th>\n",
       "      <td>892</td>\n",
       "      <td>0</td>\n",
       "      <td>3</td>\n",
       "      <td>Kelly, Mr. James</td>\n",
       "      <td>male</td>\n",
       "      <td>34.5</td>\n",
       "      <td>0</td>\n",
       "      <td>0</td>\n",
       "      <td>330911</td>\n",
       "      <td>7.8292</td>\n",
       "      <td>NaN</td>\n",
       "      <td>Q</td>\n",
       "    </tr>\n",
       "    <tr>\n",
       "      <th>1</th>\n",
       "      <td>893</td>\n",
       "      <td>1</td>\n",
       "      <td>3</td>\n",
       "      <td>Wilkes, Mrs. James (Ellen Needs)</td>\n",
       "      <td>female</td>\n",
       "      <td>47.0</td>\n",
       "      <td>1</td>\n",
       "      <td>0</td>\n",
       "      <td>363272</td>\n",
       "      <td>7.0000</td>\n",
       "      <td>NaN</td>\n",
       "      <td>S</td>\n",
       "    </tr>\n",
       "    <tr>\n",
       "      <th>2</th>\n",
       "      <td>894</td>\n",
       "      <td>0</td>\n",
       "      <td>2</td>\n",
       "      <td>Myles, Mr. Thomas Francis</td>\n",
       "      <td>male</td>\n",
       "      <td>62.0</td>\n",
       "      <td>0</td>\n",
       "      <td>0</td>\n",
       "      <td>240276</td>\n",
       "      <td>9.6875</td>\n",
       "      <td>NaN</td>\n",
       "      <td>Q</td>\n",
       "    </tr>\n",
       "    <tr>\n",
       "      <th>3</th>\n",
       "      <td>895</td>\n",
       "      <td>0</td>\n",
       "      <td>3</td>\n",
       "      <td>Wirz, Mr. Albert</td>\n",
       "      <td>male</td>\n",
       "      <td>27.0</td>\n",
       "      <td>0</td>\n",
       "      <td>0</td>\n",
       "      <td>315154</td>\n",
       "      <td>8.6625</td>\n",
       "      <td>NaN</td>\n",
       "      <td>S</td>\n",
       "    </tr>\n",
       "    <tr>\n",
       "      <th>4</th>\n",
       "      <td>896</td>\n",
       "      <td>1</td>\n",
       "      <td>3</td>\n",
       "      <td>Hirvonen, Mrs. Alexander (Helga E Lindqvist)</td>\n",
       "      <td>female</td>\n",
       "      <td>22.0</td>\n",
       "      <td>1</td>\n",
       "      <td>1</td>\n",
       "      <td>3101298</td>\n",
       "      <td>12.2875</td>\n",
       "      <td>NaN</td>\n",
       "      <td>S</td>\n",
       "    </tr>\n",
       "  </tbody>\n",
       "</table>\n",
       "</div>"
      ],
      "text/plain": [
       "   PassengerId  Survived  Pclass  \\\n",
       "0          892         0       3   \n",
       "1          893         1       3   \n",
       "2          894         0       2   \n",
       "3          895         0       3   \n",
       "4          896         1       3   \n",
       "\n",
       "                                           Name     Sex   Age  SibSp  Parch  \\\n",
       "0                              Kelly, Mr. James    male  34.5      0      0   \n",
       "1              Wilkes, Mrs. James (Ellen Needs)  female  47.0      1      0   \n",
       "2                     Myles, Mr. Thomas Francis    male  62.0      0      0   \n",
       "3                              Wirz, Mr. Albert    male  27.0      0      0   \n",
       "4  Hirvonen, Mrs. Alexander (Helga E Lindqvist)  female  22.0      1      1   \n",
       "\n",
       "    Ticket     Fare Cabin Embarked  \n",
       "0   330911   7.8292   NaN        Q  \n",
       "1   363272   7.0000   NaN        S  \n",
       "2   240276   9.6875   NaN        Q  \n",
       "3   315154   8.6625   NaN        S  \n",
       "4  3101298  12.2875   NaN        S  "
      ]
     },
     "execution_count": 3,
     "metadata": {},
     "output_type": "execute_result"
    }
   ],
   "source": [
    "df_demo = pd.read_csv(\"/kaggle/input/test-file/tested.csv\")\n",
    "df_demo.head()"
   ]
  },
  {
   "cell_type": "code",
   "execution_count": 4,
   "id": "cfba0fe6",
   "metadata": {
    "execution": {
     "iopub.execute_input": "2023-01-21T09:26:06.329094Z",
     "iopub.status.busy": "2023-01-21T09:26:06.328665Z",
     "iopub.status.idle": "2023-01-21T09:26:06.338325Z",
     "shell.execute_reply": "2023-01-21T09:26:06.337417Z"
    },
    "papermill": {
     "duration": 0.021249,
     "end_time": "2023-01-21T09:26:06.340342",
     "exception": false,
     "start_time": "2023-01-21T09:26:06.319093",
     "status": "completed"
    },
    "tags": []
   },
   "outputs": [
    {
     "data": {
      "text/plain": [
       "PassengerId    0.000000\n",
       "Survived       0.000000\n",
       "Pclass         0.000000\n",
       "Name           0.000000\n",
       "Sex            0.000000\n",
       "Age            0.205742\n",
       "SibSp          0.000000\n",
       "Parch          0.000000\n",
       "Ticket         0.000000\n",
       "Fare           0.002392\n",
       "Cabin          0.782297\n",
       "Embarked       0.000000\n",
       "dtype: float64"
      ]
     },
     "execution_count": 4,
     "metadata": {},
     "output_type": "execute_result"
    }
   ],
   "source": [
    "df_demo.isnull().sum() / len(df_demo)"
   ]
  },
  {
   "cell_type": "code",
   "execution_count": 5,
   "id": "7050c1e9",
   "metadata": {
    "execution": {
     "iopub.execute_input": "2023-01-21T09:26:06.360251Z",
     "iopub.status.busy": "2023-01-21T09:26:06.359861Z",
     "iopub.status.idle": "2023-01-21T09:26:06.367066Z",
     "shell.execute_reply": "2023-01-21T09:26:06.365744Z"
    },
    "papermill": {
     "duration": 0.019353,
     "end_time": "2023-01-21T09:26:06.369564",
     "exception": false,
     "start_time": "2023-01-21T09:26:06.350211",
     "status": "completed"
    },
    "tags": []
   },
   "outputs": [
    {
     "data": {
      "text/plain": [
       "(418, 12)"
      ]
     },
     "execution_count": 5,
     "metadata": {},
     "output_type": "execute_result"
    }
   ],
   "source": [
    "df_demo.shape"
   ]
  },
  {
   "cell_type": "code",
   "execution_count": 6,
   "id": "8c3836d5",
   "metadata": {
    "execution": {
     "iopub.execute_input": "2023-01-21T09:26:06.388771Z",
     "iopub.status.busy": "2023-01-21T09:26:06.388428Z",
     "iopub.status.idle": "2023-01-21T09:26:06.402084Z",
     "shell.execute_reply": "2023-01-21T09:26:06.401417Z"
    },
    "papermill": {
     "duration": 0.02493,
     "end_time": "2023-01-21T09:26:06.403747",
     "exception": false,
     "start_time": "2023-01-21T09:26:06.378817",
     "status": "completed"
    },
    "tags": []
   },
   "outputs": [
    {
     "data": {
      "text/plain": [
       "PassengerId    418\n",
       "Survived         2\n",
       "Pclass           3\n",
       "Name           418\n",
       "Sex              2\n",
       "Age             79\n",
       "SibSp            7\n",
       "Parch            8\n",
       "Ticket         363\n",
       "Fare           169\n",
       "Cabin           76\n",
       "Embarked         3\n",
       "dtype: int64"
      ]
     },
     "execution_count": 6,
     "metadata": {},
     "output_type": "execute_result"
    }
   ],
   "source": [
    "df_demo.nunique()"
   ]
  },
  {
   "cell_type": "markdown",
   "id": "30611291",
   "metadata": {
    "papermill": {
     "duration": 0.008137,
     "end_time": "2023-01-21T09:26:06.420700",
     "exception": false,
     "start_time": "2023-01-21T09:26:06.412563",
     "status": "completed"
    },
    "tags": []
   },
   "source": [
    "Wrangle the data"
   ]
  },
  {
   "cell_type": "code",
   "execution_count": 7,
   "id": "adb30083",
   "metadata": {
    "execution": {
     "iopub.execute_input": "2023-01-21T09:26:06.439694Z",
     "iopub.status.busy": "2023-01-21T09:26:06.439063Z",
     "iopub.status.idle": "2023-01-21T09:26:06.444194Z",
     "shell.execute_reply": "2023-01-21T09:26:06.443418Z"
    },
    "papermill": {
     "duration": 0.016761,
     "end_time": "2023-01-21T09:26:06.445975",
     "exception": false,
     "start_time": "2023-01-21T09:26:06.429214",
     "status": "completed"
    },
    "tags": []
   },
   "outputs": [],
   "source": [
    "def wrangle(filepath):\n",
    "    df = pd.read_csv(filepath)\n",
    "    #droping the columns with low & high caranility\n",
    "    df.drop(columns = [\"PassengerId\", \"Name\"], inplace = True)\n",
    "    #drop the columns with more than 50% null values\n",
    "    df.drop(columns = \"Cabin\", inplace = True)\n",
    "    return df"
   ]
  },
  {
   "cell_type": "code",
   "execution_count": 8,
   "id": "5259e977",
   "metadata": {
    "execution": {
     "iopub.execute_input": "2023-01-21T09:26:06.465178Z",
     "iopub.status.busy": "2023-01-21T09:26:06.464466Z",
     "iopub.status.idle": "2023-01-21T09:26:06.485861Z",
     "shell.execute_reply": "2023-01-21T09:26:06.484879Z"
    },
    "papermill": {
     "duration": 0.033342,
     "end_time": "2023-01-21T09:26:06.488065",
     "exception": false,
     "start_time": "2023-01-21T09:26:06.454723",
     "status": "completed"
    },
    "tags": []
   },
   "outputs": [
    {
     "data": {
      "text/html": [
       "<div>\n",
       "<style scoped>\n",
       "    .dataframe tbody tr th:only-of-type {\n",
       "        vertical-align: middle;\n",
       "    }\n",
       "\n",
       "    .dataframe tbody tr th {\n",
       "        vertical-align: top;\n",
       "    }\n",
       "\n",
       "    .dataframe thead th {\n",
       "        text-align: right;\n",
       "    }\n",
       "</style>\n",
       "<table border=\"1\" class=\"dataframe\">\n",
       "  <thead>\n",
       "    <tr style=\"text-align: right;\">\n",
       "      <th></th>\n",
       "      <th>Survived</th>\n",
       "      <th>Pclass</th>\n",
       "      <th>Sex</th>\n",
       "      <th>Age</th>\n",
       "      <th>SibSp</th>\n",
       "      <th>Parch</th>\n",
       "      <th>Ticket</th>\n",
       "      <th>Fare</th>\n",
       "      <th>Embarked</th>\n",
       "    </tr>\n",
       "  </thead>\n",
       "  <tbody>\n",
       "    <tr>\n",
       "      <th>0</th>\n",
       "      <td>0</td>\n",
       "      <td>3</td>\n",
       "      <td>male</td>\n",
       "      <td>34.5</td>\n",
       "      <td>0</td>\n",
       "      <td>0</td>\n",
       "      <td>330911</td>\n",
       "      <td>7.8292</td>\n",
       "      <td>Q</td>\n",
       "    </tr>\n",
       "    <tr>\n",
       "      <th>1</th>\n",
       "      <td>1</td>\n",
       "      <td>3</td>\n",
       "      <td>female</td>\n",
       "      <td>47.0</td>\n",
       "      <td>1</td>\n",
       "      <td>0</td>\n",
       "      <td>363272</td>\n",
       "      <td>7.0000</td>\n",
       "      <td>S</td>\n",
       "    </tr>\n",
       "    <tr>\n",
       "      <th>2</th>\n",
       "      <td>0</td>\n",
       "      <td>2</td>\n",
       "      <td>male</td>\n",
       "      <td>62.0</td>\n",
       "      <td>0</td>\n",
       "      <td>0</td>\n",
       "      <td>240276</td>\n",
       "      <td>9.6875</td>\n",
       "      <td>Q</td>\n",
       "    </tr>\n",
       "    <tr>\n",
       "      <th>3</th>\n",
       "      <td>0</td>\n",
       "      <td>3</td>\n",
       "      <td>male</td>\n",
       "      <td>27.0</td>\n",
       "      <td>0</td>\n",
       "      <td>0</td>\n",
       "      <td>315154</td>\n",
       "      <td>8.6625</td>\n",
       "      <td>S</td>\n",
       "    </tr>\n",
       "    <tr>\n",
       "      <th>4</th>\n",
       "      <td>1</td>\n",
       "      <td>3</td>\n",
       "      <td>female</td>\n",
       "      <td>22.0</td>\n",
       "      <td>1</td>\n",
       "      <td>1</td>\n",
       "      <td>3101298</td>\n",
       "      <td>12.2875</td>\n",
       "      <td>S</td>\n",
       "    </tr>\n",
       "  </tbody>\n",
       "</table>\n",
       "</div>"
      ],
      "text/plain": [
       "   Survived  Pclass     Sex   Age  SibSp  Parch   Ticket     Fare Embarked\n",
       "0         0       3    male  34.5      0      0   330911   7.8292        Q\n",
       "1         1       3  female  47.0      1      0   363272   7.0000        S\n",
       "2         0       2    male  62.0      0      0   240276   9.6875        Q\n",
       "3         0       3    male  27.0      0      0   315154   8.6625        S\n",
       "4         1       3  female  22.0      1      1  3101298  12.2875        S"
      ]
     },
     "execution_count": 8,
     "metadata": {},
     "output_type": "execute_result"
    }
   ],
   "source": [
    "df = wrangle(\"/kaggle/input/test-file/tested.csv\")\n",
    "df.head()"
   ]
  },
  {
   "cell_type": "code",
   "execution_count": 9,
   "id": "f62752ab",
   "metadata": {
    "execution": {
     "iopub.execute_input": "2023-01-21T09:26:06.507105Z",
     "iopub.status.busy": "2023-01-21T09:26:06.506492Z",
     "iopub.status.idle": "2023-01-21T09:26:06.516715Z",
     "shell.execute_reply": "2023-01-21T09:26:06.515292Z"
    },
    "papermill": {
     "duration": 0.022358,
     "end_time": "2023-01-21T09:26:06.519141",
     "exception": false,
     "start_time": "2023-01-21T09:26:06.496783",
     "status": "completed"
    },
    "tags": []
   },
   "outputs": [
    {
     "data": {
      "text/plain": [
       "Survived    0.000000\n",
       "Pclass      0.000000\n",
       "Sex         0.000000\n",
       "Age         0.205742\n",
       "SibSp       0.000000\n",
       "Parch       0.000000\n",
       "Ticket      0.000000\n",
       "Fare        0.002392\n",
       "Embarked    0.000000\n",
       "dtype: float64"
      ]
     },
     "execution_count": 9,
     "metadata": {},
     "output_type": "execute_result"
    }
   ],
   "source": [
    "df.isnull().sum() / len(df)"
   ]
  },
  {
   "cell_type": "code",
   "execution_count": 10,
   "id": "2b01ac1d",
   "metadata": {
    "execution": {
     "iopub.execute_input": "2023-01-21T09:26:06.538884Z",
     "iopub.status.busy": "2023-01-21T09:26:06.537946Z",
     "iopub.status.idle": "2023-01-21T09:26:06.546994Z",
     "shell.execute_reply": "2023-01-21T09:26:06.545412Z"
    },
    "papermill": {
     "duration": 0.020904,
     "end_time": "2023-01-21T09:26:06.548976",
     "exception": false,
     "start_time": "2023-01-21T09:26:06.528072",
     "status": "completed"
    },
    "tags": []
   },
   "outputs": [
    {
     "data": {
      "text/plain": [
       "Survived      2\n",
       "Pclass        3\n",
       "Sex           2\n",
       "Age          79\n",
       "SibSp         7\n",
       "Parch         8\n",
       "Ticket      363\n",
       "Fare        169\n",
       "Embarked      3\n",
       "dtype: int64"
      ]
     },
     "execution_count": 10,
     "metadata": {},
     "output_type": "execute_result"
    }
   ],
   "source": [
    "df.nunique()"
   ]
  },
  {
   "cell_type": "code",
   "execution_count": 11,
   "id": "356fc73b",
   "metadata": {
    "execution": {
     "iopub.execute_input": "2023-01-21T09:26:06.568664Z",
     "iopub.status.busy": "2023-01-21T09:26:06.567612Z",
     "iopub.status.idle": "2023-01-21T09:26:06.571842Z",
     "shell.execute_reply": "2023-01-21T09:26:06.571114Z"
    },
    "papermill": {
     "duration": 0.016196,
     "end_time": "2023-01-21T09:26:06.573902",
     "exception": false,
     "start_time": "2023-01-21T09:26:06.557706",
     "status": "completed"
    },
    "tags": []
   },
   "outputs": [],
   "source": [
    "# for col in df.columns:\n",
    "#     df[col].plot(kind=\"box\")\n",
    "#     plt.show()\n",
    "\n",
    "# No numeric data"
   ]
  },
  {
   "cell_type": "code",
   "execution_count": 12,
   "id": "e5f491d9",
   "metadata": {
    "execution": {
     "iopub.execute_input": "2023-01-21T09:26:06.593882Z",
     "iopub.status.busy": "2023-01-21T09:26:06.593546Z",
     "iopub.status.idle": "2023-01-21T09:26:06.609164Z",
     "shell.execute_reply": "2023-01-21T09:26:06.607821Z"
    },
    "papermill": {
     "duration": 0.028146,
     "end_time": "2023-01-21T09:26:06.611467",
     "exception": false,
     "start_time": "2023-01-21T09:26:06.583321",
     "status": "completed"
    },
    "tags": []
   },
   "outputs": [
    {
     "data": {
      "text/html": [
       "<div>\n",
       "<style scoped>\n",
       "    .dataframe tbody tr th:only-of-type {\n",
       "        vertical-align: middle;\n",
       "    }\n",
       "\n",
       "    .dataframe tbody tr th {\n",
       "        vertical-align: top;\n",
       "    }\n",
       "\n",
       "    .dataframe thead th {\n",
       "        text-align: right;\n",
       "    }\n",
       "</style>\n",
       "<table border=\"1\" class=\"dataframe\">\n",
       "  <thead>\n",
       "    <tr style=\"text-align: right;\">\n",
       "      <th></th>\n",
       "      <th>Survived</th>\n",
       "      <th>Pclass</th>\n",
       "      <th>Age</th>\n",
       "      <th>SibSp</th>\n",
       "      <th>Parch</th>\n",
       "      <th>Fare</th>\n",
       "    </tr>\n",
       "  </thead>\n",
       "  <tbody>\n",
       "    <tr>\n",
       "      <th>Survived</th>\n",
       "      <td>1.000000</td>\n",
       "      <td>-0.108615</td>\n",
       "      <td>-0.000013</td>\n",
       "      <td>0.099943</td>\n",
       "      <td>0.159120</td>\n",
       "      <td>0.191514</td>\n",
       "    </tr>\n",
       "    <tr>\n",
       "      <th>Pclass</th>\n",
       "      <td>-0.108615</td>\n",
       "      <td>1.000000</td>\n",
       "      <td>-0.492143</td>\n",
       "      <td>0.001087</td>\n",
       "      <td>0.018721</td>\n",
       "      <td>-0.577147</td>\n",
       "    </tr>\n",
       "    <tr>\n",
       "      <th>Age</th>\n",
       "      <td>-0.000013</td>\n",
       "      <td>-0.492143</td>\n",
       "      <td>1.000000</td>\n",
       "      <td>-0.091587</td>\n",
       "      <td>-0.061249</td>\n",
       "      <td>0.337932</td>\n",
       "    </tr>\n",
       "    <tr>\n",
       "      <th>SibSp</th>\n",
       "      <td>0.099943</td>\n",
       "      <td>0.001087</td>\n",
       "      <td>-0.091587</td>\n",
       "      <td>1.000000</td>\n",
       "      <td>0.306895</td>\n",
       "      <td>0.171539</td>\n",
       "    </tr>\n",
       "    <tr>\n",
       "      <th>Parch</th>\n",
       "      <td>0.159120</td>\n",
       "      <td>0.018721</td>\n",
       "      <td>-0.061249</td>\n",
       "      <td>0.306895</td>\n",
       "      <td>1.000000</td>\n",
       "      <td>0.230046</td>\n",
       "    </tr>\n",
       "    <tr>\n",
       "      <th>Fare</th>\n",
       "      <td>0.191514</td>\n",
       "      <td>-0.577147</td>\n",
       "      <td>0.337932</td>\n",
       "      <td>0.171539</td>\n",
       "      <td>0.230046</td>\n",
       "      <td>1.000000</td>\n",
       "    </tr>\n",
       "  </tbody>\n",
       "</table>\n",
       "</div>"
      ],
      "text/plain": [
       "          Survived    Pclass       Age     SibSp     Parch      Fare\n",
       "Survived  1.000000 -0.108615 -0.000013  0.099943  0.159120  0.191514\n",
       "Pclass   -0.108615  1.000000 -0.492143  0.001087  0.018721 -0.577147\n",
       "Age      -0.000013 -0.492143  1.000000 -0.091587 -0.061249  0.337932\n",
       "SibSp     0.099943  0.001087 -0.091587  1.000000  0.306895  0.171539\n",
       "Parch     0.159120  0.018721 -0.061249  0.306895  1.000000  0.230046\n",
       "Fare      0.191514 -0.577147  0.337932  0.171539  0.230046  1.000000"
      ]
     },
     "execution_count": 12,
     "metadata": {},
     "output_type": "execute_result"
    }
   ],
   "source": [
    "corr = df.corr()\n",
    "corr"
   ]
  },
  {
   "cell_type": "code",
   "execution_count": 13,
   "id": "0ce8d304",
   "metadata": {
    "execution": {
     "iopub.execute_input": "2023-01-21T09:26:06.630886Z",
     "iopub.status.busy": "2023-01-21T09:26:06.630255Z",
     "iopub.status.idle": "2023-01-21T09:26:06.639631Z",
     "shell.execute_reply": "2023-01-21T09:26:06.638765Z"
    },
    "papermill": {
     "duration": 0.020922,
     "end_time": "2023-01-21T09:26:06.641316",
     "exception": false,
     "start_time": "2023-01-21T09:26:06.620394",
     "status": "completed"
    },
    "tags": []
   },
   "outputs": [
    {
     "data": {
      "text/plain": [
       "0    266\n",
       "1    152\n",
       "Name: Survived, dtype: int64"
      ]
     },
     "execution_count": 13,
     "metadata": {},
     "output_type": "execute_result"
    }
   ],
   "source": [
    "df[\"Survived\"].value_counts()"
   ]
  },
  {
   "cell_type": "code",
   "execution_count": 14,
   "id": "4121c42e",
   "metadata": {
    "execution": {
     "iopub.execute_input": "2023-01-21T09:26:06.661361Z",
     "iopub.status.busy": "2023-01-21T09:26:06.660745Z",
     "iopub.status.idle": "2023-01-21T09:26:06.668428Z",
     "shell.execute_reply": "2023-01-21T09:26:06.667368Z"
    },
    "papermill": {
     "duration": 0.020767,
     "end_time": "2023-01-21T09:26:06.671072",
     "exception": false,
     "start_time": "2023-01-21T09:26:06.650305",
     "status": "completed"
    },
    "tags": []
   },
   "outputs": [],
   "source": [
    "# our target is survived so we are going to check the corelations with survuved individually\n",
    "\n",
    "corr_sur_with_pclass = df[\"Survived\"].corr(df[\"Pclass\"])"
   ]
  },
  {
   "cell_type": "code",
   "execution_count": 15,
   "id": "7e8f250e",
   "metadata": {
    "execution": {
     "iopub.execute_input": "2023-01-21T09:26:06.691383Z",
     "iopub.status.busy": "2023-01-21T09:26:06.690991Z",
     "iopub.status.idle": "2023-01-21T09:26:06.697863Z",
     "shell.execute_reply": "2023-01-21T09:26:06.696697Z"
    },
    "papermill": {
     "duration": 0.019428,
     "end_time": "2023-01-21T09:26:06.699858",
     "exception": false,
     "start_time": "2023-01-21T09:26:06.680430",
     "status": "completed"
    },
    "tags": []
   },
   "outputs": [],
   "source": [
    "corr_sur_with_age = df[\"Survived\"].corr(df[\"Age\"])"
   ]
  },
  {
   "cell_type": "code",
   "execution_count": 16,
   "id": "666c8ab0",
   "metadata": {
    "execution": {
     "iopub.execute_input": "2023-01-21T09:26:06.719718Z",
     "iopub.status.busy": "2023-01-21T09:26:06.719306Z",
     "iopub.status.idle": "2023-01-21T09:26:06.725345Z",
     "shell.execute_reply": "2023-01-21T09:26:06.723979Z"
    },
    "papermill": {
     "duration": 0.018865,
     "end_time": "2023-01-21T09:26:06.727884",
     "exception": false,
     "start_time": "2023-01-21T09:26:06.709019",
     "status": "completed"
    },
    "tags": []
   },
   "outputs": [],
   "source": [
    "corr_sur_with_SibSp = df[\"Survived\"].corr(df[\"SibSp\"])"
   ]
  },
  {
   "cell_type": "code",
   "execution_count": 17,
   "id": "92feab28",
   "metadata": {
    "execution": {
     "iopub.execute_input": "2023-01-21T09:26:06.747514Z",
     "iopub.status.busy": "2023-01-21T09:26:06.747182Z",
     "iopub.status.idle": "2023-01-21T09:26:06.752797Z",
     "shell.execute_reply": "2023-01-21T09:26:06.751417Z"
    },
    "papermill": {
     "duration": 0.017771,
     "end_time": "2023-01-21T09:26:06.754811",
     "exception": false,
     "start_time": "2023-01-21T09:26:06.737040",
     "status": "completed"
    },
    "tags": []
   },
   "outputs": [],
   "source": [
    "corr_sur_with_Parch = df[\"Survived\"].corr(df[\"Parch\"])"
   ]
  },
  {
   "cell_type": "code",
   "execution_count": 18,
   "id": "d565b9f4",
   "metadata": {
    "execution": {
     "iopub.execute_input": "2023-01-21T09:26:06.774409Z",
     "iopub.status.busy": "2023-01-21T09:26:06.774088Z",
     "iopub.status.idle": "2023-01-21T09:26:06.779816Z",
     "shell.execute_reply": "2023-01-21T09:26:06.778537Z"
    },
    "papermill": {
     "duration": 0.018659,
     "end_time": "2023-01-21T09:26:06.782506",
     "exception": false,
     "start_time": "2023-01-21T09:26:06.763847",
     "status": "completed"
    },
    "tags": []
   },
   "outputs": [],
   "source": [
    "corr_sur_with_Fare = df[\"Survived\"].corr(df[\"Fare\"])"
   ]
  },
  {
   "cell_type": "code",
   "execution_count": 19,
   "id": "f4197364",
   "metadata": {
    "execution": {
     "iopub.execute_input": "2023-01-21T09:26:06.802333Z",
     "iopub.status.busy": "2023-01-21T09:26:06.801969Z",
     "iopub.status.idle": "2023-01-21T09:26:06.808831Z",
     "shell.execute_reply": "2023-01-21T09:26:06.807550Z"
    },
    "papermill": {
     "duration": 0.019612,
     "end_time": "2023-01-21T09:26:06.811288",
     "exception": false,
     "start_time": "2023-01-21T09:26:06.791676",
     "status": "completed"
    },
    "tags": []
   },
   "outputs": [
    {
     "name": "stdout",
     "output_type": "stream",
     "text": [
      "The corelation b/w survived and Pclass is  -0.10861452091523409\n",
      "The corelation b/w survived and Age is  -1.2682357097214666e-05\n",
      "The corelation b/w survived and SibSp is  0.0999433702502642\n",
      "The corelation b/w survived and Parch is  0.15912011283514063\n",
      "The corelation b/w survived and Fare is  0.19151374269353372\n"
     ]
    }
   ],
   "source": [
    "print(\"The corelation b/w survived and Pclass is \", corr_sur_with_pclass)\n",
    "print(\"The corelation b/w survived and Age is \", corr_sur_with_age)\n",
    "print(\"The corelation b/w survived and SibSp is \", corr_sur_with_SibSp)\n",
    "print(\"The corelation b/w survived and Parch is \", corr_sur_with_Parch)\n",
    "print(\"The corelation b/w survived and Fare is \", corr_sur_with_Fare)"
   ]
  },
  {
   "cell_type": "code",
   "execution_count": 20,
   "id": "c97fe1a9",
   "metadata": {
    "execution": {
     "iopub.execute_input": "2023-01-21T09:26:06.831121Z",
     "iopub.status.busy": "2023-01-21T09:26:06.830739Z",
     "iopub.status.idle": "2023-01-21T09:26:06.835244Z",
     "shell.execute_reply": "2023-01-21T09:26:06.833890Z"
    },
    "papermill": {
     "duration": 0.016624,
     "end_time": "2023-01-21T09:26:06.837111",
     "exception": false,
     "start_time": "2023-01-21T09:26:06.820487",
     "status": "completed"
    },
    "tags": []
   },
   "outputs": [],
   "source": [
    "# from decimal import Decimal\n",
    "\n",
    "# s = corr_sur_with_age\n",
    "\n",
    "# b = Decimal(s)\n"
   ]
  },
  {
   "cell_type": "markdown",
   "id": "dbbcbbc3",
   "metadata": {
    "papermill": {
     "duration": 0.008434,
     "end_time": "2023-01-21T09:26:06.854553",
     "exception": false,
     "start_time": "2023-01-21T09:26:06.846119",
     "status": "completed"
    },
    "tags": []
   },
   "source": [
    "> The corelation cofficents values shows that there is not much difference b/w the target and features"
   ]
  },
  {
   "cell_type": "markdown",
   "id": "245e09fd",
   "metadata": {
    "papermill": {
     "duration": 0.008398,
     "end_time": "2023-01-21T09:26:06.871722",
     "exception": false,
     "start_time": "2023-01-21T09:26:06.863324",
     "status": "completed"
    },
    "tags": []
   },
   "source": [
    "****Pivot Tables****"
   ]
  },
  {
   "cell_type": "code",
   "execution_count": 21,
   "id": "a2dbc1f5",
   "metadata": {
    "execution": {
     "iopub.execute_input": "2023-01-21T09:26:06.891234Z",
     "iopub.status.busy": "2023-01-21T09:26:06.890811Z",
     "iopub.status.idle": "2023-01-21T09:26:06.913183Z",
     "shell.execute_reply": "2023-01-21T09:26:06.911882Z"
    },
    "papermill": {
     "duration": 0.034488,
     "end_time": "2023-01-21T09:26:06.915045",
     "exception": false,
     "start_time": "2023-01-21T09:26:06.880557",
     "status": "completed"
    },
    "tags": []
   },
   "outputs": [
    {
     "data": {
      "text/html": [
       "<div>\n",
       "<style scoped>\n",
       "    .dataframe tbody tr th:only-of-type {\n",
       "        vertical-align: middle;\n",
       "    }\n",
       "\n",
       "    .dataframe tbody tr th {\n",
       "        vertical-align: top;\n",
       "    }\n",
       "\n",
       "    .dataframe thead th {\n",
       "        text-align: right;\n",
       "    }\n",
       "</style>\n",
       "<table border=\"1\" class=\"dataframe\">\n",
       "  <thead>\n",
       "    <tr style=\"text-align: right;\">\n",
       "      <th></th>\n",
       "      <th>Survived</th>\n",
       "    </tr>\n",
       "    <tr>\n",
       "      <th>Pclass</th>\n",
       "      <th></th>\n",
       "    </tr>\n",
       "  </thead>\n",
       "  <tbody>\n",
       "    <tr>\n",
       "      <th>2</th>\n",
       "      <td>0.322581</td>\n",
       "    </tr>\n",
       "    <tr>\n",
       "      <th>3</th>\n",
       "      <td>0.330275</td>\n",
       "    </tr>\n",
       "    <tr>\n",
       "      <th>1</th>\n",
       "      <td>0.467290</td>\n",
       "    </tr>\n",
       "  </tbody>\n",
       "</table>\n",
       "</div>"
      ],
      "text/plain": [
       "        Survived\n",
       "Pclass          \n",
       "2       0.322581\n",
       "3       0.330275\n",
       "1       0.467290"
      ]
     },
     "execution_count": 21,
     "metadata": {},
     "output_type": "execute_result"
    }
   ],
   "source": [
    "pclass_pivot = pd.pivot_table(\n",
    "    df, index = \"Pclass\", values = \"Survived\", aggfunc = np.mean\n",
    ").sort_values(by=\"Survived\")\n",
    "pclass_pivot"
   ]
  },
  {
   "cell_type": "code",
   "execution_count": 22,
   "id": "378ff11f",
   "metadata": {
    "execution": {
     "iopub.execute_input": "2023-01-21T09:26:06.934856Z",
     "iopub.status.busy": "2023-01-21T09:26:06.934492Z",
     "iopub.status.idle": "2023-01-21T09:26:06.941785Z",
     "shell.execute_reply": "2023-01-21T09:26:06.940749Z"
    },
    "papermill": {
     "duration": 0.019671,
     "end_time": "2023-01-21T09:26:06.943934",
     "exception": false,
     "start_time": "2023-01-21T09:26:06.924263",
     "status": "completed"
    },
    "tags": []
   },
   "outputs": [
    {
     "data": {
      "text/plain": [
       "79"
      ]
     },
     "execution_count": 22,
     "metadata": {},
     "output_type": "execute_result"
    }
   ],
   "source": [
    "df[\"Age\"].nunique()"
   ]
  },
  {
   "cell_type": "code",
   "execution_count": 23,
   "id": "2f0f9bad",
   "metadata": {
    "execution": {
     "iopub.execute_input": "2023-01-21T09:26:06.970338Z",
     "iopub.status.busy": "2023-01-21T09:26:06.969979Z",
     "iopub.status.idle": "2023-01-21T09:26:06.977256Z",
     "shell.execute_reply": "2023-01-21T09:26:06.975756Z"
    },
    "papermill": {
     "duration": 0.02331,
     "end_time": "2023-01-21T09:26:06.980195",
     "exception": false,
     "start_time": "2023-01-21T09:26:06.956885",
     "status": "completed"
    },
    "tags": []
   },
   "outputs": [
    {
     "data": {
      "text/plain": [
       "3"
      ]
     },
     "execution_count": 23,
     "metadata": {},
     "output_type": "execute_result"
    }
   ],
   "source": [
    "df[\"Pclass\"].nunique()"
   ]
  },
  {
   "cell_type": "code",
   "execution_count": 24,
   "id": "b82783dc",
   "metadata": {
    "execution": {
     "iopub.execute_input": "2023-01-21T09:26:07.004773Z",
     "iopub.status.busy": "2023-01-21T09:26:07.004310Z",
     "iopub.status.idle": "2023-01-21T09:26:07.503691Z",
     "shell.execute_reply": "2023-01-21T09:26:07.502675Z"
    },
    "papermill": {
     "duration": 0.512994,
     "end_time": "2023-01-21T09:26:07.506256",
     "exception": false,
     "start_time": "2023-01-21T09:26:06.993262",
     "status": "completed"
    },
    "tags": []
   },
   "outputs": [],
   "source": [
    "from sklearn.linear_model import LogisticRegression\n",
    "from sklearn.tree import DecisionTreeClassifier, plot_tree\n",
    "from category_encoders import OneHotEncoder, OrdinalEncoder\n",
    "from sklearn.impute import SimpleImputer"
   ]
  },
  {
   "cell_type": "code",
   "execution_count": 25,
   "id": "c1b08509",
   "metadata": {
    "execution": {
     "iopub.execute_input": "2023-01-21T09:26:07.526670Z",
     "iopub.status.busy": "2023-01-21T09:26:07.526307Z",
     "iopub.status.idle": "2023-01-21T09:26:07.533060Z",
     "shell.execute_reply": "2023-01-21T09:26:07.531941Z"
    },
    "papermill": {
     "duration": 0.019502,
     "end_time": "2023-01-21T09:26:07.535352",
     "exception": false,
     "start_time": "2023-01-21T09:26:07.515850",
     "status": "completed"
    },
    "tags": []
   },
   "outputs": [],
   "source": [
    "target = \"Survived\"\n",
    "y = df[target]\n",
    "X = df.drop(columns = target)"
   ]
  },
  {
   "cell_type": "code",
   "execution_count": 26,
   "id": "32706dd3",
   "metadata": {
    "execution": {
     "iopub.execute_input": "2023-01-21T09:26:07.555529Z",
     "iopub.status.busy": "2023-01-21T09:26:07.555187Z",
     "iopub.status.idle": "2023-01-21T09:26:07.568970Z",
     "shell.execute_reply": "2023-01-21T09:26:07.567652Z"
    },
    "papermill": {
     "duration": 0.02611,
     "end_time": "2023-01-21T09:26:07.570993",
     "exception": false,
     "start_time": "2023-01-21T09:26:07.544883",
     "status": "completed"
    },
    "tags": []
   },
   "outputs": [
    {
     "data": {
      "text/html": [
       "<div>\n",
       "<style scoped>\n",
       "    .dataframe tbody tr th:only-of-type {\n",
       "        vertical-align: middle;\n",
       "    }\n",
       "\n",
       "    .dataframe tbody tr th {\n",
       "        vertical-align: top;\n",
       "    }\n",
       "\n",
       "    .dataframe thead th {\n",
       "        text-align: right;\n",
       "    }\n",
       "</style>\n",
       "<table border=\"1\" class=\"dataframe\">\n",
       "  <thead>\n",
       "    <tr style=\"text-align: right;\">\n",
       "      <th></th>\n",
       "      <th>Pclass</th>\n",
       "      <th>Sex</th>\n",
       "      <th>Age</th>\n",
       "      <th>SibSp</th>\n",
       "      <th>Parch</th>\n",
       "      <th>Ticket</th>\n",
       "      <th>Fare</th>\n",
       "      <th>Embarked</th>\n",
       "    </tr>\n",
       "  </thead>\n",
       "  <tbody>\n",
       "    <tr>\n",
       "      <th>0</th>\n",
       "      <td>3</td>\n",
       "      <td>male</td>\n",
       "      <td>34.5</td>\n",
       "      <td>0</td>\n",
       "      <td>0</td>\n",
       "      <td>330911</td>\n",
       "      <td>7.8292</td>\n",
       "      <td>Q</td>\n",
       "    </tr>\n",
       "    <tr>\n",
       "      <th>1</th>\n",
       "      <td>3</td>\n",
       "      <td>female</td>\n",
       "      <td>47.0</td>\n",
       "      <td>1</td>\n",
       "      <td>0</td>\n",
       "      <td>363272</td>\n",
       "      <td>7.0000</td>\n",
       "      <td>S</td>\n",
       "    </tr>\n",
       "    <tr>\n",
       "      <th>2</th>\n",
       "      <td>2</td>\n",
       "      <td>male</td>\n",
       "      <td>62.0</td>\n",
       "      <td>0</td>\n",
       "      <td>0</td>\n",
       "      <td>240276</td>\n",
       "      <td>9.6875</td>\n",
       "      <td>Q</td>\n",
       "    </tr>\n",
       "    <tr>\n",
       "      <th>3</th>\n",
       "      <td>3</td>\n",
       "      <td>male</td>\n",
       "      <td>27.0</td>\n",
       "      <td>0</td>\n",
       "      <td>0</td>\n",
       "      <td>315154</td>\n",
       "      <td>8.6625</td>\n",
       "      <td>S</td>\n",
       "    </tr>\n",
       "    <tr>\n",
       "      <th>4</th>\n",
       "      <td>3</td>\n",
       "      <td>female</td>\n",
       "      <td>22.0</td>\n",
       "      <td>1</td>\n",
       "      <td>1</td>\n",
       "      <td>3101298</td>\n",
       "      <td>12.2875</td>\n",
       "      <td>S</td>\n",
       "    </tr>\n",
       "  </tbody>\n",
       "</table>\n",
       "</div>"
      ],
      "text/plain": [
       "   Pclass     Sex   Age  SibSp  Parch   Ticket     Fare Embarked\n",
       "0       3    male  34.5      0      0   330911   7.8292        Q\n",
       "1       3  female  47.0      1      0   363272   7.0000        S\n",
       "2       2    male  62.0      0      0   240276   9.6875        Q\n",
       "3       3    male  27.0      0      0   315154   8.6625        S\n",
       "4       3  female  22.0      1      1  3101298  12.2875        S"
      ]
     },
     "execution_count": 26,
     "metadata": {},
     "output_type": "execute_result"
    }
   ],
   "source": [
    "X.head()"
   ]
  },
  {
   "cell_type": "code",
   "execution_count": null,
   "id": "562881a6",
   "metadata": {
    "papermill": {
     "duration": 0.009028,
     "end_time": "2023-01-21T09:26:07.590039",
     "exception": false,
     "start_time": "2023-01-21T09:26:07.581011",
     "status": "completed"
    },
    "tags": []
   },
   "outputs": [],
   "source": []
  },
  {
   "cell_type": "code",
   "execution_count": 27,
   "id": "489cfec5",
   "metadata": {
    "execution": {
     "iopub.execute_input": "2023-01-21T09:26:07.611008Z",
     "iopub.status.busy": "2023-01-21T09:26:07.609770Z",
     "iopub.status.idle": "2023-01-21T09:26:07.618163Z",
     "shell.execute_reply": "2023-01-21T09:26:07.617107Z"
    },
    "papermill": {
     "duration": 0.021348,
     "end_time": "2023-01-21T09:26:07.620589",
     "exception": false,
     "start_time": "2023-01-21T09:26:07.599241",
     "status": "completed"
    },
    "tags": []
   },
   "outputs": [],
   "source": [
    "from sklearn.model_selection import train_test_split\n",
    "X_train, X_val, y_train, y_val = train_test_split(\n",
    "    X, y, test_size = 0.2, random_state = 42\n",
    ")"
   ]
  },
  {
   "cell_type": "code",
   "execution_count": 28,
   "id": "dea96c7c",
   "metadata": {
    "execution": {
     "iopub.execute_input": "2023-01-21T09:26:07.641676Z",
     "iopub.status.busy": "2023-01-21T09:26:07.641286Z",
     "iopub.status.idle": "2023-01-21T09:26:07.650846Z",
     "shell.execute_reply": "2023-01-21T09:26:07.649250Z"
    },
    "papermill": {
     "duration": 0.022799,
     "end_time": "2023-01-21T09:26:07.653307",
     "exception": false,
     "start_time": "2023-01-21T09:26:07.630508",
     "status": "completed"
    },
    "tags": []
   },
   "outputs": [],
   "source": [
    "from sklearn.pipeline import make_pipeline"
   ]
  },
  {
   "cell_type": "code",
   "execution_count": 29,
   "id": "ac3f4945",
   "metadata": {
    "execution": {
     "iopub.execute_input": "2023-01-21T09:26:07.674194Z",
     "iopub.status.busy": "2023-01-21T09:26:07.673768Z",
     "iopub.status.idle": "2023-01-21T09:26:07.801373Z",
     "shell.execute_reply": "2023-01-21T09:26:07.800629Z"
    },
    "papermill": {
     "duration": 0.140315,
     "end_time": "2023-01-21T09:26:07.803370",
     "exception": false,
     "start_time": "2023-01-21T09:26:07.663055",
     "status": "completed"
    },
    "tags": []
   },
   "outputs": [
    {
     "data": {
      "text/plain": [
       "Pipeline(steps=[('onehotencoder',\n",
       "                 OneHotEncoder(cols=['Sex', 'Ticket', 'Embarked'],\n",
       "                               use_cat_names=True)),\n",
       "                ('simpleimputer', SimpleImputer()),\n",
       "                ('logisticregression', LogisticRegression(max_iter=1000))])"
      ]
     },
     "execution_count": 29,
     "metadata": {},
     "output_type": "execute_result"
    }
   ],
   "source": [
    "model_lr = make_pipeline(\n",
    "    OneHotEncoder(use_cat_names = True), SimpleImputer(),\n",
    "    LogisticRegression(max_iter = 1000)\n",
    ")\n",
    "model_lr.fit(X_train, y_train)"
   ]
  },
  {
   "cell_type": "code",
   "execution_count": 30,
   "id": "be4868a8",
   "metadata": {
    "execution": {
     "iopub.execute_input": "2023-01-21T09:26:07.830379Z",
     "iopub.status.busy": "2023-01-21T09:26:07.829130Z",
     "iopub.status.idle": "2023-01-21T09:26:07.852360Z",
     "shell.execute_reply": "2023-01-21T09:26:07.851378Z"
    },
    "papermill": {
     "duration": 0.0391,
     "end_time": "2023-01-21T09:26:07.855217",
     "exception": false,
     "start_time": "2023-01-21T09:26:07.816117",
     "status": "completed"
    },
    "tags": []
   },
   "outputs": [
    {
     "name": "stdout",
     "output_type": "stream",
     "text": [
      "1.0\n"
     ]
    }
   ],
   "source": [
    "lr_train_accuracy = model_lr.score(X_train, y_train)\n",
    "print(lr_train_accuracy)"
   ]
  },
  {
   "cell_type": "code",
   "execution_count": 31,
   "id": "a188f99c",
   "metadata": {
    "execution": {
     "iopub.execute_input": "2023-01-21T09:26:07.882898Z",
     "iopub.status.busy": "2023-01-21T09:26:07.881990Z",
     "iopub.status.idle": "2023-01-21T09:26:07.906229Z",
     "shell.execute_reply": "2023-01-21T09:26:07.905475Z"
    },
    "papermill": {
     "duration": 0.040119,
     "end_time": "2023-01-21T09:26:07.908355",
     "exception": false,
     "start_time": "2023-01-21T09:26:07.868236",
     "status": "completed"
    },
    "tags": []
   },
   "outputs": [
    {
     "name": "stdout",
     "output_type": "stream",
     "text": [
      "1.0\n"
     ]
    }
   ],
   "source": [
    "lr_val_accuracy = model_lr.score(X_val, y_val)\n",
    "print(lr_val_accuracy)"
   ]
  },
  {
   "cell_type": "code",
   "execution_count": 32,
   "id": "211978e4",
   "metadata": {
    "execution": {
     "iopub.execute_input": "2023-01-21T09:26:07.934312Z",
     "iopub.status.busy": "2023-01-21T09:26:07.933977Z",
     "iopub.status.idle": "2023-01-21T09:26:07.939634Z",
     "shell.execute_reply": "2023-01-21T09:26:07.938958Z"
    },
    "papermill": {
     "duration": 0.023087,
     "end_time": "2023-01-21T09:26:07.944084",
     "exception": false,
     "start_time": "2023-01-21T09:26:07.920997",
     "status": "completed"
    },
    "tags": []
   },
   "outputs": [
    {
     "data": {
      "text/plain": [
       "['Pclass',\n",
       " 'Sex_male',\n",
       " 'Sex_female',\n",
       " 'Age',\n",
       " 'SibSp',\n",
       " 'Parch',\n",
       " 'Ticket_244360',\n",
       " 'Ticket_C.A. 31029',\n",
       " 'Ticket_240261',\n",
       " 'Ticket_21228']"
      ]
     },
     "execution_count": 32,
     "metadata": {},
     "output_type": "execute_result"
    }
   ],
   "source": [
    "features = model_lr.named_steps[\"onehotencoder\"].get_feature_names()\n",
    "features[:10]"
   ]
  },
  {
   "cell_type": "code",
   "execution_count": 33,
   "id": "9e8dd5af",
   "metadata": {
    "execution": {
     "iopub.execute_input": "2023-01-21T09:26:07.969865Z",
     "iopub.status.busy": "2023-01-21T09:26:07.969519Z",
     "iopub.status.idle": "2023-01-21T09:26:07.975366Z",
     "shell.execute_reply": "2023-01-21T09:26:07.974668Z"
    },
    "papermill": {
     "duration": 0.023369,
     "end_time": "2023-01-21T09:26:07.979698",
     "exception": false,
     "start_time": "2023-01-21T09:26:07.956329",
     "status": "completed"
    },
    "tags": []
   },
   "outputs": [
    {
     "data": {
      "text/plain": [
       "array([-9.93840981e-02, -3.67683970e+00,  3.67681142e+00, -2.72190466e-03,\n",
       "        6.30680954e-02])"
      ]
     },
     "execution_count": 33,
     "metadata": {},
     "output_type": "execute_result"
    }
   ],
   "source": [
    "importances = model_lr.named_steps[\"logisticregression\"].coef_[0]\n",
    "importances[:5]"
   ]
  },
  {
   "cell_type": "code",
   "execution_count": 34,
   "id": "98e147d9",
   "metadata": {
    "execution": {
     "iopub.execute_input": "2023-01-21T09:26:08.006543Z",
     "iopub.status.busy": "2023-01-21T09:26:08.006193Z",
     "iopub.status.idle": "2023-01-21T09:26:08.015336Z",
     "shell.execute_reply": "2023-01-21T09:26:08.014433Z"
    },
    "papermill": {
     "duration": 0.02487,
     "end_time": "2023-01-21T09:26:08.017521",
     "exception": false,
     "start_time": "2023-01-21T09:26:07.992651",
     "status": "completed"
    },
    "tags": []
   },
   "outputs": [
    {
     "data": {
      "text/plain": [
       "Sex_male         0.025303\n",
       "Embarked_S       0.865837\n",
       "Pclass           0.905395\n",
       "Embarked_C       0.916162\n",
       "Ticket_347077    0.938440\n",
       "dtype: float64"
      ]
     },
     "execution_count": 34,
     "metadata": {},
     "output_type": "execute_result"
    }
   ],
   "source": [
    "features = model_lr.named_steps[\"onehotencoder\"].get_feature_names()\n",
    "importances = model_lr.named_steps[\"logisticregression\"].coef_[0]\n",
    "feat_imp = pd.Series(np.exp(importances), index=features).sort_values()\n",
    "feat_imp.head()"
   ]
  }
 ],
 "metadata": {
  "kernelspec": {
   "display_name": "Python 3",
   "language": "python",
   "name": "python3"
  },
  "language_info": {
   "codemirror_mode": {
    "name": "ipython",
    "version": 3
   },
   "file_extension": ".py",
   "mimetype": "text/x-python",
   "name": "python",
   "nbconvert_exporter": "python",
   "pygments_lexer": "ipython3",
   "version": "3.7.12"
  },
  "papermill": {
   "default_parameters": {},
   "duration": 12.407776,
   "end_time": "2023-01-21T09:26:08.748246",
   "environment_variables": {},
   "exception": null,
   "input_path": "__notebook__.ipynb",
   "output_path": "__notebook__.ipynb",
   "parameters": {},
   "start_time": "2023-01-21T09:25:56.340470",
   "version": "2.3.4"
  }
 },
 "nbformat": 4,
 "nbformat_minor": 5
}
