{
 "cells": [
  {
   "cell_type": "code",
   "execution_count": 1,
   "id": "5ef90c28",
   "metadata": {
    "_cell_guid": "b1076dfc-b9ad-4769-8c92-a6c4dae69d19",
    "_uuid": "8f2839f25d086af736a60e9eeb907d3b93b6e0e5",
    "execution": {
     "iopub.execute_input": "2023-01-11T19:07:39.922977Z",
     "iopub.status.busy": "2023-01-11T19:07:39.922332Z",
     "iopub.status.idle": "2023-01-11T19:07:39.942447Z",
     "shell.execute_reply": "2023-01-11T19:07:39.942988Z",
     "shell.execute_reply.started": "2023-01-11T19:04:41.519530Z"
    },
    "papermill": {
     "duration": 0.061724,
     "end_time": "2023-01-11T19:07:39.943324",
     "exception": false,
     "start_time": "2023-01-11T19:07:39.881600",
     "status": "completed"
    },
    "tags": []
   },
   "outputs": [
    {
     "name": "stdout",
     "output_type": "stream",
     "text": [
      "/kaggle/input/weather-dataset/weatherHistory.csv\n"
     ]
    }
   ],
   "source": [
    "# This Python 3 environment comes with many helpful analytics libraries installed\n",
    "# It is defined by the kaggle/python Docker image: https://github.com/kaggle/docker-python\n",
    "# For example, here's several helpful packages to load\n",
    "\n",
    "import numpy as np # linear algebra\n",
    "import pandas as pd # data processing, CSV file I/O (e.g. pd.read_csv)\n",
    "\n",
    "# Input data files are available in the read-only \"../input/\" directory\n",
    "# For example, running this (by clicking run or pressing Shift+Enter) will list all files under the input directory\n",
    "\n",
    "import os\n",
    "for dirname, _, filenames in os.walk('/kaggle/input'):\n",
    "    for filename in filenames:\n",
    "        print(os.path.join(dirname, filename))\n",
    "\n",
    "# You can write up to 20GB to the current directory (/kaggle/working/) that gets preserved as output when you create a version using \"Save & Run All\" \n",
    "# You can also write temporary files to /kaggle/temp/, but they won't be saved outside of the current session"
   ]
  },
  {
   "cell_type": "markdown",
   "id": "7d039aa2",
   "metadata": {
    "papermill": {
     "duration": 0.029083,
     "end_time": "2023-01-11T19:07:39.999876",
     "exception": false,
     "start_time": "2023-01-11T19:07:39.970793",
     "status": "completed"
    },
    "tags": []
   },
   "source": [
    "# Load Dataset"
   ]
  },
  {
   "cell_type": "code",
   "execution_count": 2,
   "id": "d2ec0859",
   "metadata": {
    "execution": {
     "iopub.execute_input": "2023-01-11T19:07:40.064311Z",
     "iopub.status.busy": "2023-01-11T19:07:40.063614Z",
     "iopub.status.idle": "2023-01-11T19:07:40.598719Z",
     "shell.execute_reply": "2023-01-11T19:07:40.599253Z",
     "shell.execute_reply.started": "2023-01-11T19:04:41.557561Z"
    },
    "papermill": {
     "duration": 0.571354,
     "end_time": "2023-01-11T19:07:40.599432",
     "exception": false,
     "start_time": "2023-01-11T19:07:40.028078",
     "status": "completed"
    },
    "tags": []
   },
   "outputs": [
    {
     "data": {
      "text/html": [
       "<div>\n",
       "<style scoped>\n",
       "    .dataframe tbody tr th:only-of-type {\n",
       "        vertical-align: middle;\n",
       "    }\n",
       "\n",
       "    .dataframe tbody tr th {\n",
       "        vertical-align: top;\n",
       "    }\n",
       "\n",
       "    .dataframe thead th {\n",
       "        text-align: right;\n",
       "    }\n",
       "</style>\n",
       "<table border=\"1\" class=\"dataframe\">\n",
       "  <thead>\n",
       "    <tr style=\"text-align: right;\">\n",
       "      <th></th>\n",
       "      <th>Formatted Date</th>\n",
       "      <th>Summary</th>\n",
       "      <th>Precip Type</th>\n",
       "      <th>Temperature (C)</th>\n",
       "      <th>Apparent Temperature (C)</th>\n",
       "      <th>Humidity</th>\n",
       "      <th>Wind Speed (km/h)</th>\n",
       "      <th>Wind Bearing (degrees)</th>\n",
       "      <th>Visibility (km)</th>\n",
       "      <th>Loud Cover</th>\n",
       "      <th>Pressure (millibars)</th>\n",
       "      <th>Daily Summary</th>\n",
       "    </tr>\n",
       "  </thead>\n",
       "  <tbody>\n",
       "    <tr>\n",
       "      <th>0</th>\n",
       "      <td>2006-04-01 00:00:00.000 +0200</td>\n",
       "      <td>Partly Cloudy</td>\n",
       "      <td>rain</td>\n",
       "      <td>9.472222</td>\n",
       "      <td>7.388889</td>\n",
       "      <td>0.89</td>\n",
       "      <td>14.1197</td>\n",
       "      <td>251.0</td>\n",
       "      <td>15.8263</td>\n",
       "      <td>0.0</td>\n",
       "      <td>1015.13</td>\n",
       "      <td>Partly cloudy throughout the day.</td>\n",
       "    </tr>\n",
       "    <tr>\n",
       "      <th>1</th>\n",
       "      <td>2006-04-01 01:00:00.000 +0200</td>\n",
       "      <td>Partly Cloudy</td>\n",
       "      <td>rain</td>\n",
       "      <td>9.355556</td>\n",
       "      <td>7.227778</td>\n",
       "      <td>0.86</td>\n",
       "      <td>14.2646</td>\n",
       "      <td>259.0</td>\n",
       "      <td>15.8263</td>\n",
       "      <td>0.0</td>\n",
       "      <td>1015.63</td>\n",
       "      <td>Partly cloudy throughout the day.</td>\n",
       "    </tr>\n",
       "    <tr>\n",
       "      <th>2</th>\n",
       "      <td>2006-04-01 02:00:00.000 +0200</td>\n",
       "      <td>Mostly Cloudy</td>\n",
       "      <td>rain</td>\n",
       "      <td>9.377778</td>\n",
       "      <td>9.377778</td>\n",
       "      <td>0.89</td>\n",
       "      <td>3.9284</td>\n",
       "      <td>204.0</td>\n",
       "      <td>14.9569</td>\n",
       "      <td>0.0</td>\n",
       "      <td>1015.94</td>\n",
       "      <td>Partly cloudy throughout the day.</td>\n",
       "    </tr>\n",
       "    <tr>\n",
       "      <th>3</th>\n",
       "      <td>2006-04-01 03:00:00.000 +0200</td>\n",
       "      <td>Partly Cloudy</td>\n",
       "      <td>rain</td>\n",
       "      <td>8.288889</td>\n",
       "      <td>5.944444</td>\n",
       "      <td>0.83</td>\n",
       "      <td>14.1036</td>\n",
       "      <td>269.0</td>\n",
       "      <td>15.8263</td>\n",
       "      <td>0.0</td>\n",
       "      <td>1016.41</td>\n",
       "      <td>Partly cloudy throughout the day.</td>\n",
       "    </tr>\n",
       "    <tr>\n",
       "      <th>4</th>\n",
       "      <td>2006-04-01 04:00:00.000 +0200</td>\n",
       "      <td>Mostly Cloudy</td>\n",
       "      <td>rain</td>\n",
       "      <td>8.755556</td>\n",
       "      <td>6.977778</td>\n",
       "      <td>0.83</td>\n",
       "      <td>11.0446</td>\n",
       "      <td>259.0</td>\n",
       "      <td>15.8263</td>\n",
       "      <td>0.0</td>\n",
       "      <td>1016.51</td>\n",
       "      <td>Partly cloudy throughout the day.</td>\n",
       "    </tr>\n",
       "  </tbody>\n",
       "</table>\n",
       "</div>"
      ],
      "text/plain": [
       "                  Formatted Date        Summary Precip Type  Temperature (C)  \\\n",
       "0  2006-04-01 00:00:00.000 +0200  Partly Cloudy        rain         9.472222   \n",
       "1  2006-04-01 01:00:00.000 +0200  Partly Cloudy        rain         9.355556   \n",
       "2  2006-04-01 02:00:00.000 +0200  Mostly Cloudy        rain         9.377778   \n",
       "3  2006-04-01 03:00:00.000 +0200  Partly Cloudy        rain         8.288889   \n",
       "4  2006-04-01 04:00:00.000 +0200  Mostly Cloudy        rain         8.755556   \n",
       "\n",
       "   Apparent Temperature (C)  Humidity  Wind Speed (km/h)  \\\n",
       "0                  7.388889      0.89            14.1197   \n",
       "1                  7.227778      0.86            14.2646   \n",
       "2                  9.377778      0.89             3.9284   \n",
       "3                  5.944444      0.83            14.1036   \n",
       "4                  6.977778      0.83            11.0446   \n",
       "\n",
       "   Wind Bearing (degrees)  Visibility (km)  Loud Cover  Pressure (millibars)  \\\n",
       "0                   251.0          15.8263         0.0               1015.13   \n",
       "1                   259.0          15.8263         0.0               1015.63   \n",
       "2                   204.0          14.9569         0.0               1015.94   \n",
       "3                   269.0          15.8263         0.0               1016.41   \n",
       "4                   259.0          15.8263         0.0               1016.51   \n",
       "\n",
       "                       Daily Summary  \n",
       "0  Partly cloudy throughout the day.  \n",
       "1  Partly cloudy throughout the day.  \n",
       "2  Partly cloudy throughout the day.  \n",
       "3  Partly cloudy throughout the day.  \n",
       "4  Partly cloudy throughout the day.  "
      ]
     },
     "execution_count": 2,
     "metadata": {},
     "output_type": "execute_result"
    }
   ],
   "source": [
    "import numpy as np\n",
    "import pandas as pd\n",
    "\n",
    "df = pd.read_csv('../input/weather-dataset/weatherHistory.csv')\n",
    "df.head()"
   ]
  },
  {
   "cell_type": "code",
   "execution_count": 3,
   "id": "15885f9f",
   "metadata": {
    "execution": {
     "iopub.execute_input": "2023-01-11T19:07:40.657355Z",
     "iopub.status.busy": "2023-01-11T19:07:40.656553Z",
     "iopub.status.idle": "2023-01-11T19:07:40.661507Z",
     "shell.execute_reply": "2023-01-11T19:07:40.662111Z",
     "shell.execute_reply.started": "2023-01-11T19:04:42.075711Z"
    },
    "papermill": {
     "duration": 0.035747,
     "end_time": "2023-01-11T19:07:40.662317",
     "exception": false,
     "start_time": "2023-01-11T19:07:40.626570",
     "status": "completed"
    },
    "tags": []
   },
   "outputs": [
    {
     "data": {
      "text/plain": [
       "(96453, 12)"
      ]
     },
     "execution_count": 3,
     "metadata": {},
     "output_type": "execute_result"
    }
   ],
   "source": [
    "df.shape"
   ]
  },
  {
   "cell_type": "markdown",
   "id": "1a68c940",
   "metadata": {
    "papermill": {
     "duration": 0.027068,
     "end_time": "2023-01-11T19:07:40.717158",
     "exception": false,
     "start_time": "2023-01-11T19:07:40.690090",
     "status": "completed"
    },
    "tags": []
   },
   "source": []
  },
  {
   "cell_type": "markdown",
   "id": "b252a9d3",
   "metadata": {
    "papermill": {
     "duration": 0.027092,
     "end_time": "2023-01-11T19:07:40.771542",
     "exception": false,
     "start_time": "2023-01-11T19:07:40.744450",
     "status": "completed"
    },
    "tags": []
   },
   "source": [
    "# Exploratory Data Analysis\n",
    "\n",
    "Remove variables which do not have much impact on the prediction. \n",
    "Calculate the value of loud cover: it is same for all rows, so I can remove it.\n"
   ]
  },
  {
   "cell_type": "code",
   "execution_count": 4,
   "id": "d21db7cd",
   "metadata": {
    "execution": {
     "iopub.execute_input": "2023-01-11T19:07:40.831385Z",
     "iopub.status.busy": "2023-01-11T19:07:40.830639Z",
     "iopub.status.idle": "2023-01-11T19:07:40.849350Z",
     "shell.execute_reply": "2023-01-11T19:07:40.848634Z",
     "shell.execute_reply.started": "2023-01-11T19:04:42.084612Z"
    },
    "papermill": {
     "duration": 0.049103,
     "end_time": "2023-01-11T19:07:40.849501",
     "exception": false,
     "start_time": "2023-01-11T19:07:40.800398",
     "status": "completed"
    },
    "tags": []
   },
   "outputs": [
    {
     "data": {
      "text/plain": [
       "0.0    96453\n",
       "Name: Loud Cover, dtype: int64"
      ]
     },
     "execution_count": 4,
     "metadata": {},
     "output_type": "execute_result"
    }
   ],
   "source": [
    "df['Loud Cover'].value_counts()"
   ]
  },
  {
   "cell_type": "markdown",
   "id": "f0553675",
   "metadata": {
    "papermill": {
     "duration": 0.027443,
     "end_time": "2023-01-11T19:07:40.904900",
     "exception": false,
     "start_time": "2023-01-11T19:07:40.877457",
     "status": "completed"
    },
    "tags": []
   },
   "source": [
    "I also remove Daily Summary, since it is text"
   ]
  },
  {
   "cell_type": "code",
   "execution_count": 5,
   "id": "678d3bf3",
   "metadata": {
    "execution": {
     "iopub.execute_input": "2023-01-11T19:07:40.973925Z",
     "iopub.status.busy": "2023-01-11T19:07:40.972869Z",
     "iopub.status.idle": "2023-01-11T19:07:40.976335Z",
     "shell.execute_reply": "2023-01-11T19:07:40.976852Z",
     "shell.execute_reply.started": "2023-01-11T19:04:42.106472Z"
    },
    "papermill": {
     "duration": 0.044554,
     "end_time": "2023-01-11T19:07:40.977030",
     "exception": false,
     "start_time": "2023-01-11T19:07:40.932476",
     "status": "completed"
    },
    "tags": []
   },
   "outputs": [
    {
     "data": {
      "text/plain": [
       "Mostly cloudy throughout the day.                                                                       20085\n",
       "Partly cloudy throughout the day.                                                                        9981\n",
       "Partly cloudy until night.                                                                               6169\n",
       "Partly cloudy starting in the morning.                                                                   5184\n",
       "Foggy in the morning.                                                                                    4201\n",
       "                                                                                                        ...  \n",
       "Breezy starting overnight continuing until morning and foggy overnight.                                    24\n",
       "Mostly cloudy throughout the day and breezy starting overnight continuing until afternoon.                 24\n",
       "Partly cloudy starting in the morning and breezy starting in the afternoon continuing until evening.       24\n",
       "Rain until afternoon.                                                                                      24\n",
       "Foggy starting overnight continuing until morning and breezy in the afternoon.                             23\n",
       "Name: Daily Summary, Length: 214, dtype: int64"
      ]
     },
     "execution_count": 5,
     "metadata": {},
     "output_type": "execute_result"
    }
   ],
   "source": [
    "df['Daily Summary'].value_counts()"
   ]
  },
  {
   "cell_type": "code",
   "execution_count": 6,
   "id": "3e223d12",
   "metadata": {
    "execution": {
     "iopub.execute_input": "2023-01-11T19:07:41.040758Z",
     "iopub.status.busy": "2023-01-11T19:07:41.040051Z",
     "iopub.status.idle": "2023-01-11T19:07:41.052121Z",
     "shell.execute_reply": "2023-01-11T19:07:41.051570Z",
     "shell.execute_reply.started": "2023-01-11T19:04:42.125166Z"
    },
    "papermill": {
     "duration": 0.046769,
     "end_time": "2023-01-11T19:07:41.052313",
     "exception": false,
     "start_time": "2023-01-11T19:07:41.005544",
     "status": "completed"
    },
    "tags": []
   },
   "outputs": [],
   "source": [
    "df.drop(['Daily Summary','Loud Cover'],axis=1,inplace=True)"
   ]
  },
  {
   "cell_type": "code",
   "execution_count": 7,
   "id": "07234061",
   "metadata": {
    "execution": {
     "iopub.execute_input": "2023-01-11T19:07:41.127166Z",
     "iopub.status.busy": "2023-01-11T19:07:41.126257Z",
     "iopub.status.idle": "2023-01-11T19:07:41.129834Z",
     "shell.execute_reply": "2023-01-11T19:07:41.130394Z",
     "shell.execute_reply.started": "2023-01-11T19:04:42.149498Z"
    },
    "papermill": {
     "duration": 0.048613,
     "end_time": "2023-01-11T19:07:41.130583",
     "exception": false,
     "start_time": "2023-01-11T19:07:41.081970",
     "status": "completed"
    },
    "tags": []
   },
   "outputs": [
    {
     "data": {
      "text/html": [
       "<div>\n",
       "<style scoped>\n",
       "    .dataframe tbody tr th:only-of-type {\n",
       "        vertical-align: middle;\n",
       "    }\n",
       "\n",
       "    .dataframe tbody tr th {\n",
       "        vertical-align: top;\n",
       "    }\n",
       "\n",
       "    .dataframe thead th {\n",
       "        text-align: right;\n",
       "    }\n",
       "</style>\n",
       "<table border=\"1\" class=\"dataframe\">\n",
       "  <thead>\n",
       "    <tr style=\"text-align: right;\">\n",
       "      <th></th>\n",
       "      <th>Formatted Date</th>\n",
       "      <th>Summary</th>\n",
       "      <th>Precip Type</th>\n",
       "      <th>Temperature (C)</th>\n",
       "      <th>Apparent Temperature (C)</th>\n",
       "      <th>Humidity</th>\n",
       "      <th>Wind Speed (km/h)</th>\n",
       "      <th>Wind Bearing (degrees)</th>\n",
       "      <th>Visibility (km)</th>\n",
       "      <th>Pressure (millibars)</th>\n",
       "    </tr>\n",
       "  </thead>\n",
       "  <tbody>\n",
       "    <tr>\n",
       "      <th>0</th>\n",
       "      <td>2006-04-01 00:00:00.000 +0200</td>\n",
       "      <td>Partly Cloudy</td>\n",
       "      <td>rain</td>\n",
       "      <td>9.472222</td>\n",
       "      <td>7.388889</td>\n",
       "      <td>0.89</td>\n",
       "      <td>14.1197</td>\n",
       "      <td>251.0</td>\n",
       "      <td>15.8263</td>\n",
       "      <td>1015.13</td>\n",
       "    </tr>\n",
       "    <tr>\n",
       "      <th>1</th>\n",
       "      <td>2006-04-01 01:00:00.000 +0200</td>\n",
       "      <td>Partly Cloudy</td>\n",
       "      <td>rain</td>\n",
       "      <td>9.355556</td>\n",
       "      <td>7.227778</td>\n",
       "      <td>0.86</td>\n",
       "      <td>14.2646</td>\n",
       "      <td>259.0</td>\n",
       "      <td>15.8263</td>\n",
       "      <td>1015.63</td>\n",
       "    </tr>\n",
       "    <tr>\n",
       "      <th>2</th>\n",
       "      <td>2006-04-01 02:00:00.000 +0200</td>\n",
       "      <td>Mostly Cloudy</td>\n",
       "      <td>rain</td>\n",
       "      <td>9.377778</td>\n",
       "      <td>9.377778</td>\n",
       "      <td>0.89</td>\n",
       "      <td>3.9284</td>\n",
       "      <td>204.0</td>\n",
       "      <td>14.9569</td>\n",
       "      <td>1015.94</td>\n",
       "    </tr>\n",
       "    <tr>\n",
       "      <th>3</th>\n",
       "      <td>2006-04-01 03:00:00.000 +0200</td>\n",
       "      <td>Partly Cloudy</td>\n",
       "      <td>rain</td>\n",
       "      <td>8.288889</td>\n",
       "      <td>5.944444</td>\n",
       "      <td>0.83</td>\n",
       "      <td>14.1036</td>\n",
       "      <td>269.0</td>\n",
       "      <td>15.8263</td>\n",
       "      <td>1016.41</td>\n",
       "    </tr>\n",
       "    <tr>\n",
       "      <th>4</th>\n",
       "      <td>2006-04-01 04:00:00.000 +0200</td>\n",
       "      <td>Mostly Cloudy</td>\n",
       "      <td>rain</td>\n",
       "      <td>8.755556</td>\n",
       "      <td>6.977778</td>\n",
       "      <td>0.83</td>\n",
       "      <td>11.0446</td>\n",
       "      <td>259.0</td>\n",
       "      <td>15.8263</td>\n",
       "      <td>1016.51</td>\n",
       "    </tr>\n",
       "  </tbody>\n",
       "</table>\n",
       "</div>"
      ],
      "text/plain": [
       "                  Formatted Date        Summary Precip Type  Temperature (C)  \\\n",
       "0  2006-04-01 00:00:00.000 +0200  Partly Cloudy        rain         9.472222   \n",
       "1  2006-04-01 01:00:00.000 +0200  Partly Cloudy        rain         9.355556   \n",
       "2  2006-04-01 02:00:00.000 +0200  Mostly Cloudy        rain         9.377778   \n",
       "3  2006-04-01 03:00:00.000 +0200  Partly Cloudy        rain         8.288889   \n",
       "4  2006-04-01 04:00:00.000 +0200  Mostly Cloudy        rain         8.755556   \n",
       "\n",
       "   Apparent Temperature (C)  Humidity  Wind Speed (km/h)  \\\n",
       "0                  7.388889      0.89            14.1197   \n",
       "1                  7.227778      0.86            14.2646   \n",
       "2                  9.377778      0.89             3.9284   \n",
       "3                  5.944444      0.83            14.1036   \n",
       "4                  6.977778      0.83            11.0446   \n",
       "\n",
       "   Wind Bearing (degrees)  Visibility (km)  Pressure (millibars)  \n",
       "0                   251.0          15.8263               1015.13  \n",
       "1                   259.0          15.8263               1015.63  \n",
       "2                   204.0          14.9569               1015.94  \n",
       "3                   269.0          15.8263               1016.41  \n",
       "4                   259.0          15.8263               1016.51  "
      ]
     },
     "execution_count": 7,
     "metadata": {},
     "output_type": "execute_result"
    }
   ],
   "source": [
    "df.head()"
   ]
  },
  {
   "cell_type": "markdown",
   "id": "941ea11b",
   "metadata": {
    "papermill": {
     "duration": 0.0282,
     "end_time": "2023-01-11T19:07:41.187273",
     "exception": false,
     "start_time": "2023-01-11T19:07:41.159073",
     "status": "completed"
    },
    "tags": []
   },
   "source": [
    "Check Null values"
   ]
  },
  {
   "cell_type": "code",
   "execution_count": 8,
   "id": "62eede9b",
   "metadata": {
    "execution": {
     "iopub.execute_input": "2023-01-11T19:07:41.266427Z",
     "iopub.status.busy": "2023-01-11T19:07:41.265104Z",
     "iopub.status.idle": "2023-01-11T19:07:41.274130Z",
     "shell.execute_reply": "2023-01-11T19:07:41.273594Z",
     "shell.execute_reply.started": "2023-01-11T19:04:42.168796Z"
    },
    "papermill": {
     "duration": 0.057328,
     "end_time": "2023-01-11T19:07:41.274300",
     "exception": false,
     "start_time": "2023-01-11T19:07:41.216972",
     "status": "completed"
    },
    "tags": []
   },
   "outputs": [
    {
     "data": {
      "text/plain": [
       "Formatted Date                0\n",
       "Summary                       0\n",
       "Precip Type                 517\n",
       "Temperature (C)               0\n",
       "Apparent Temperature (C)      0\n",
       "Humidity                      0\n",
       "Wind Speed (km/h)             0\n",
       "Wind Bearing (degrees)        0\n",
       "Visibility (km)               0\n",
       "Pressure (millibars)          0\n",
       "dtype: int64"
      ]
     },
     "execution_count": 8,
     "metadata": {},
     "output_type": "execute_result"
    }
   ],
   "source": [
    "df.isnull().sum()"
   ]
  },
  {
   "cell_type": "markdown",
   "id": "62e162a7",
   "metadata": {
    "papermill": {
     "duration": 0.029114,
     "end_time": "2023-01-11T19:07:41.332658",
     "exception": false,
     "start_time": "2023-01-11T19:07:41.303544",
     "status": "completed"
    },
    "tags": []
   },
   "source": [
    "I will use the precip type column as output of the dataset. "
   ]
  },
  {
   "cell_type": "code",
   "execution_count": 9,
   "id": "ca148529",
   "metadata": {
    "execution": {
     "iopub.execute_input": "2023-01-11T19:07:41.403085Z",
     "iopub.status.busy": "2023-01-11T19:07:41.402160Z",
     "iopub.status.idle": "2023-01-11T19:07:41.406178Z",
     "shell.execute_reply": "2023-01-11T19:07:41.405548Z",
     "shell.execute_reply.started": "2023-01-11T19:04:42.198403Z"
    },
    "papermill": {
     "duration": 0.044737,
     "end_time": "2023-01-11T19:07:41.406342",
     "exception": false,
     "start_time": "2023-01-11T19:07:41.361605",
     "status": "completed"
    },
    "tags": []
   },
   "outputs": [
    {
     "data": {
      "text/plain": [
       "rain    85224\n",
       "snow    10712\n",
       "Name: Precip Type, dtype: int64"
      ]
     },
     "execution_count": 9,
     "metadata": {},
     "output_type": "execute_result"
    }
   ],
   "source": [
    "df['Precip Type'].value_counts()"
   ]
  },
  {
   "cell_type": "markdown",
   "id": "f385785e",
   "metadata": {
    "papermill": {
     "duration": 0.029964,
     "end_time": "2023-01-11T19:07:41.465576",
     "exception": false,
     "start_time": "2023-01-11T19:07:41.435612",
     "status": "completed"
    },
    "tags": []
   },
   "source": [
    "Drop Null values"
   ]
  },
  {
   "cell_type": "code",
   "execution_count": 10,
   "id": "b4d15250",
   "metadata": {
    "execution": {
     "iopub.execute_input": "2023-01-11T19:07:41.543658Z",
     "iopub.status.busy": "2023-01-11T19:07:41.542929Z",
     "iopub.status.idle": "2023-01-11T19:07:41.564048Z",
     "shell.execute_reply": "2023-01-11T19:07:41.563474Z",
     "shell.execute_reply.started": "2023-01-11T19:04:42.211971Z"
    },
    "papermill": {
     "duration": 0.069434,
     "end_time": "2023-01-11T19:07:41.564196",
     "exception": false,
     "start_time": "2023-01-11T19:07:41.494762",
     "status": "completed"
    },
    "tags": []
   },
   "outputs": [
    {
     "data": {
      "text/plain": [
       "(95936, 10)"
      ]
     },
     "execution_count": 10,
     "metadata": {},
     "output_type": "execute_result"
    }
   ],
   "source": [
    "df.dropna(inplace=True)\n",
    "df.shape"
   ]
  },
  {
   "cell_type": "markdown",
   "id": "5c2d16fd",
   "metadata": {
    "papermill": {
     "duration": 0.029227,
     "end_time": "2023-01-11T19:07:41.622871",
     "exception": false,
     "start_time": "2023-01-11T19:07:41.593644",
     "status": "completed"
    },
    "tags": []
   },
   "source": [
    "# Data Cleaning\n",
    "\n",
    "Convert categorical data into numerical data"
   ]
  },
  {
   "cell_type": "code",
   "execution_count": 11,
   "id": "1bea29a4",
   "metadata": {
    "execution": {
     "iopub.execute_input": "2023-01-11T19:07:41.686940Z",
     "iopub.status.busy": "2023-01-11T19:07:41.684628Z",
     "iopub.status.idle": "2023-01-11T19:07:42.697929Z",
     "shell.execute_reply": "2023-01-11T19:07:42.698507Z",
     "shell.execute_reply.started": "2023-01-11T19:04:42.255785Z"
    },
    "papermill": {
     "duration": 1.046351,
     "end_time": "2023-01-11T19:07:42.698741",
     "exception": false,
     "start_time": "2023-01-11T19:07:41.652390",
     "status": "completed"
    },
    "tags": []
   },
   "outputs": [
    {
     "data": {
      "text/html": [
       "<div>\n",
       "<style scoped>\n",
       "    .dataframe tbody tr th:only-of-type {\n",
       "        vertical-align: middle;\n",
       "    }\n",
       "\n",
       "    .dataframe tbody tr th {\n",
       "        vertical-align: top;\n",
       "    }\n",
       "\n",
       "    .dataframe thead th {\n",
       "        text-align: right;\n",
       "    }\n",
       "</style>\n",
       "<table border=\"1\" class=\"dataframe\">\n",
       "  <thead>\n",
       "    <tr style=\"text-align: right;\">\n",
       "      <th></th>\n",
       "      <th>Formatted Date</th>\n",
       "      <th>Summary</th>\n",
       "      <th>Precip Type</th>\n",
       "      <th>Temperature (C)</th>\n",
       "      <th>Apparent Temperature (C)</th>\n",
       "      <th>Humidity</th>\n",
       "      <th>Wind Speed (km/h)</th>\n",
       "      <th>Wind Bearing (degrees)</th>\n",
       "      <th>Visibility (km)</th>\n",
       "      <th>Pressure (millibars)</th>\n",
       "    </tr>\n",
       "  </thead>\n",
       "  <tbody>\n",
       "    <tr>\n",
       "      <th>0</th>\n",
       "      <td>2006-04-01 00:00:00.000 +0200</td>\n",
       "      <td>19</td>\n",
       "      <td>0</td>\n",
       "      <td>9.472222</td>\n",
       "      <td>7.388889</td>\n",
       "      <td>0.89</td>\n",
       "      <td>14.1197</td>\n",
       "      <td>251.0</td>\n",
       "      <td>15.8263</td>\n",
       "      <td>1015.13</td>\n",
       "    </tr>\n",
       "    <tr>\n",
       "      <th>1</th>\n",
       "      <td>2006-04-01 01:00:00.000 +0200</td>\n",
       "      <td>19</td>\n",
       "      <td>0</td>\n",
       "      <td>9.355556</td>\n",
       "      <td>7.227778</td>\n",
       "      <td>0.86</td>\n",
       "      <td>14.2646</td>\n",
       "      <td>259.0</td>\n",
       "      <td>15.8263</td>\n",
       "      <td>1015.63</td>\n",
       "    </tr>\n",
       "    <tr>\n",
       "      <th>2</th>\n",
       "      <td>2006-04-01 02:00:00.000 +0200</td>\n",
       "      <td>17</td>\n",
       "      <td>0</td>\n",
       "      <td>9.377778</td>\n",
       "      <td>9.377778</td>\n",
       "      <td>0.89</td>\n",
       "      <td>3.9284</td>\n",
       "      <td>204.0</td>\n",
       "      <td>14.9569</td>\n",
       "      <td>1015.94</td>\n",
       "    </tr>\n",
       "    <tr>\n",
       "      <th>3</th>\n",
       "      <td>2006-04-01 03:00:00.000 +0200</td>\n",
       "      <td>19</td>\n",
       "      <td>0</td>\n",
       "      <td>8.288889</td>\n",
       "      <td>5.944444</td>\n",
       "      <td>0.83</td>\n",
       "      <td>14.1036</td>\n",
       "      <td>269.0</td>\n",
       "      <td>15.8263</td>\n",
       "      <td>1016.41</td>\n",
       "    </tr>\n",
       "    <tr>\n",
       "      <th>4</th>\n",
       "      <td>2006-04-01 04:00:00.000 +0200</td>\n",
       "      <td>17</td>\n",
       "      <td>0</td>\n",
       "      <td>8.755556</td>\n",
       "      <td>6.977778</td>\n",
       "      <td>0.83</td>\n",
       "      <td>11.0446</td>\n",
       "      <td>259.0</td>\n",
       "      <td>15.8263</td>\n",
       "      <td>1016.51</td>\n",
       "    </tr>\n",
       "  </tbody>\n",
       "</table>\n",
       "</div>"
      ],
      "text/plain": [
       "                  Formatted Date  Summary  Precip Type  Temperature (C)  \\\n",
       "0  2006-04-01 00:00:00.000 +0200       19            0         9.472222   \n",
       "1  2006-04-01 01:00:00.000 +0200       19            0         9.355556   \n",
       "2  2006-04-01 02:00:00.000 +0200       17            0         9.377778   \n",
       "3  2006-04-01 03:00:00.000 +0200       19            0         8.288889   \n",
       "4  2006-04-01 04:00:00.000 +0200       17            0         8.755556   \n",
       "\n",
       "   Apparent Temperature (C)  Humidity  Wind Speed (km/h)  \\\n",
       "0                  7.388889      0.89            14.1197   \n",
       "1                  7.227778      0.86            14.2646   \n",
       "2                  9.377778      0.89             3.9284   \n",
       "3                  5.944444      0.83            14.1036   \n",
       "4                  6.977778      0.83            11.0446   \n",
       "\n",
       "   Wind Bearing (degrees)  Visibility (km)  Pressure (millibars)  \n",
       "0                   251.0          15.8263               1015.13  \n",
       "1                   259.0          15.8263               1015.63  \n",
       "2                   204.0          14.9569               1015.94  \n",
       "3                   269.0          15.8263               1016.41  \n",
       "4                   259.0          15.8263               1016.51  "
      ]
     },
     "execution_count": 11,
     "metadata": {},
     "output_type": "execute_result"
    }
   ],
   "source": [
    "from sklearn.preprocessing import LabelEncoder\n",
    "le = LabelEncoder()\n",
    "df['Precip Type']=le.fit_transform(df['Precip Type'])\n",
    "df['Summary']=le.fit_transform(df['Summary'])\n",
    "df.head()\n"
   ]
  },
  {
   "cell_type": "markdown",
   "id": "c1e51aae",
   "metadata": {
    "papermill": {
     "duration": 0.032704,
     "end_time": "2023-01-11T19:07:42.763536",
     "exception": false,
     "start_time": "2023-01-11T19:07:42.730832",
     "status": "completed"
    },
    "tags": []
   },
   "source": [
    "Standardize input features"
   ]
  },
  {
   "cell_type": "code",
   "execution_count": 12,
   "id": "92876448",
   "metadata": {
    "execution": {
     "iopub.execute_input": "2023-01-11T19:07:42.829556Z",
     "iopub.status.busy": "2023-01-11T19:07:42.828785Z",
     "iopub.status.idle": "2023-01-11T19:07:42.881026Z",
     "shell.execute_reply": "2023-01-11T19:07:42.881521Z",
     "shell.execute_reply.started": "2023-01-11T19:04:43.184164Z"
    },
    "papermill": {
     "duration": 0.088523,
     "end_time": "2023-01-11T19:07:42.881716",
     "exception": false,
     "start_time": "2023-01-11T19:07:42.793193",
     "status": "completed"
    },
    "tags": []
   },
   "outputs": [
    {
     "data": {
      "text/html": [
       "<div>\n",
       "<style scoped>\n",
       "    .dataframe tbody tr th:only-of-type {\n",
       "        vertical-align: middle;\n",
       "    }\n",
       "\n",
       "    .dataframe tbody tr th {\n",
       "        vertical-align: top;\n",
       "    }\n",
       "\n",
       "    .dataframe thead th {\n",
       "        text-align: right;\n",
       "    }\n",
       "</style>\n",
       "<table border=\"1\" class=\"dataframe\">\n",
       "  <thead>\n",
       "    <tr style=\"text-align: right;\">\n",
       "      <th></th>\n",
       "      <th>Formatted Date</th>\n",
       "      <th>Summary</th>\n",
       "      <th>Precip Type</th>\n",
       "      <th>Temperature (C)</th>\n",
       "      <th>Apparent Temperature (C)</th>\n",
       "      <th>Humidity</th>\n",
       "      <th>Wind Speed (km/h)</th>\n",
       "      <th>Wind Bearing (degrees)</th>\n",
       "      <th>Visibility (km)</th>\n",
       "      <th>Pressure (millibars)</th>\n",
       "    </tr>\n",
       "  </thead>\n",
       "  <tbody>\n",
       "    <tr>\n",
       "      <th>0</th>\n",
       "      <td>2006-04-01 00:00:00.000 +0200</td>\n",
       "      <td>19</td>\n",
       "      <td>-0.354531</td>\n",
       "      <td>-0.257951</td>\n",
       "      <td>-0.324102</td>\n",
       "      <td>0.792748</td>\n",
       "      <td>0.478964</td>\n",
       "      <td>0.591157</td>\n",
       "      <td>1.309107</td>\n",
       "      <td>0.102152</td>\n",
       "    </tr>\n",
       "    <tr>\n",
       "      <th>1</th>\n",
       "      <td>2006-04-01 01:00:00.000 +0200</td>\n",
       "      <td>19</td>\n",
       "      <td>-0.354531</td>\n",
       "      <td>-0.270141</td>\n",
       "      <td>-0.339134</td>\n",
       "      <td>0.639470</td>\n",
       "      <td>0.499902</td>\n",
       "      <td>0.665655</td>\n",
       "      <td>1.309107</td>\n",
       "      <td>0.106415</td>\n",
       "    </tr>\n",
       "    <tr>\n",
       "      <th>2</th>\n",
       "      <td>2006-04-01 02:00:00.000 +0200</td>\n",
       "      <td>17</td>\n",
       "      <td>-0.354531</td>\n",
       "      <td>-0.267819</td>\n",
       "      <td>-0.138532</td>\n",
       "      <td>0.792748</td>\n",
       "      <td>-0.993620</td>\n",
       "      <td>0.153478</td>\n",
       "      <td>1.100806</td>\n",
       "      <td>0.109058</td>\n",
       "    </tr>\n",
       "    <tr>\n",
       "      <th>3</th>\n",
       "      <td>2006-04-01 03:00:00.000 +0200</td>\n",
       "      <td>19</td>\n",
       "      <td>-0.354531</td>\n",
       "      <td>-0.381594</td>\n",
       "      <td>-0.458873</td>\n",
       "      <td>0.486192</td>\n",
       "      <td>0.476638</td>\n",
       "      <td>0.758778</td>\n",
       "      <td>1.309107</td>\n",
       "      <td>0.113066</td>\n",
       "    </tr>\n",
       "    <tr>\n",
       "      <th>4</th>\n",
       "      <td>2006-04-01 04:00:00.000 +0200</td>\n",
       "      <td>17</td>\n",
       "      <td>-0.354531</td>\n",
       "      <td>-0.332833</td>\n",
       "      <td>-0.362460</td>\n",
       "      <td>0.486192</td>\n",
       "      <td>0.034630</td>\n",
       "      <td>0.665655</td>\n",
       "      <td>1.309107</td>\n",
       "      <td>0.113919</td>\n",
       "    </tr>\n",
       "  </tbody>\n",
       "</table>\n",
       "</div>"
      ],
      "text/plain": [
       "                  Formatted Date  Summary  Precip Type  Temperature (C)  \\\n",
       "0  2006-04-01 00:00:00.000 +0200       19    -0.354531        -0.257951   \n",
       "1  2006-04-01 01:00:00.000 +0200       19    -0.354531        -0.270141   \n",
       "2  2006-04-01 02:00:00.000 +0200       17    -0.354531        -0.267819   \n",
       "3  2006-04-01 03:00:00.000 +0200       19    -0.354531        -0.381594   \n",
       "4  2006-04-01 04:00:00.000 +0200       17    -0.354531        -0.332833   \n",
       "\n",
       "   Apparent Temperature (C)  Humidity  Wind Speed (km/h)  \\\n",
       "0                 -0.324102  0.792748           0.478964   \n",
       "1                 -0.339134  0.639470           0.499902   \n",
       "2                 -0.138532  0.792748          -0.993620   \n",
       "3                 -0.458873  0.486192           0.476638   \n",
       "4                 -0.362460  0.486192           0.034630   \n",
       "\n",
       "   Wind Bearing (degrees)  Visibility (km)  Pressure (millibars)  \n",
       "0                0.591157         1.309107              0.102152  \n",
       "1                0.665655         1.309107              0.106415  \n",
       "2                0.153478         1.100806              0.109058  \n",
       "3                0.758778         1.309107              0.113066  \n",
       "4                0.665655         1.309107              0.113919  "
      ]
     },
     "execution_count": 12,
     "metadata": {},
     "output_type": "execute_result"
    }
   ],
   "source": [
    "from sklearn.preprocessing import StandardScaler\n",
    "\n",
    "scaler = StandardScaler()\n",
    "df[df.columns[2:]] = scaler.fit_transform(df[df.columns[2:]])\n",
    "df.head()"
   ]
  },
  {
   "cell_type": "markdown",
   "id": "05785c48",
   "metadata": {
    "papermill": {
     "duration": 0.030486,
     "end_time": "2023-01-11T19:07:42.942796",
     "exception": false,
     "start_time": "2023-01-11T19:07:42.912310",
     "status": "completed"
    },
    "tags": []
   },
   "source": [
    "# Feature Engineering\n",
    "\n",
    "Standardize Data. Extract day of year and hour of day"
   ]
  },
  {
   "cell_type": "code",
   "execution_count": 13,
   "id": "404122e1",
   "metadata": {
    "execution": {
     "iopub.execute_input": "2023-01-11T19:07:43.011857Z",
     "iopub.status.busy": "2023-01-11T19:07:43.010808Z",
     "iopub.status.idle": "2023-01-11T19:07:43.013768Z",
     "shell.execute_reply": "2023-01-11T19:07:43.013197Z",
     "shell.execute_reply.started": "2023-01-11T19:04:43.244827Z"
    },
    "papermill": {
     "duration": 0.040672,
     "end_time": "2023-01-11T19:07:43.013918",
     "exception": false,
     "start_time": "2023-01-11T19:07:42.973246",
     "status": "completed"
    },
    "tags": []
   },
   "outputs": [],
   "source": [
    "import numpy as np\n",
    "from datetime import datetime\n",
    "\n",
    "def discretize_date(current_date, t):\n",
    "    current_date = current_date[:-10]\n",
    "    cdate = datetime.strptime(current_date, '%Y-%m-%d %H:%M:%S')\n",
    "\n",
    "    if t == 'hour_sin':\n",
    "        return np.sin(2 * np.pi * cdate.hour/24.0)\n",
    "    if t == 'hour_cos':\n",
    "        return np.cos(2 * np.pi * cdate.hour/24.0)\n",
    "    if t == 'day_sin':\n",
    "        return np.sin(2 * np.pi * cdate.timetuple().tm_yday/365.0)\n",
    "    if t == 'day_cos':\n",
    "        return np.cos(2 * np.pi * cdate.timetuple().tm_yday/365.0)"
   ]
  },
  {
   "cell_type": "code",
   "execution_count": 14,
   "id": "73db752d",
   "metadata": {
    "execution": {
     "iopub.execute_input": "2023-01-11T19:07:43.081884Z",
     "iopub.status.busy": "2023-01-11T19:07:43.081065Z",
     "iopub.status.idle": "2023-01-11T19:07:48.648950Z",
     "shell.execute_reply": "2023-01-11T19:07:48.648317Z",
     "shell.execute_reply.started": "2023-01-11T19:04:43.254737Z"
    },
    "papermill": {
     "duration": 5.604115,
     "end_time": "2023-01-11T19:07:48.649118",
     "exception": false,
     "start_time": "2023-01-11T19:07:43.045003",
     "status": "completed"
    },
    "tags": []
   },
   "outputs": [],
   "source": [
    "date_types = ['hour_sin', 'hour_cos', 'day_sin', 'day_cos']\n",
    "for dt in date_types:\n",
    "    df[dt] = df['Formatted Date'].apply(lambda x : discretize_date(x, dt))\n",
    "df.drop(['Formatted Date'],axis=1,inplace=True)"
   ]
  },
  {
   "cell_type": "code",
   "execution_count": 15,
   "id": "424d8926",
   "metadata": {
    "execution": {
     "iopub.execute_input": "2023-01-11T19:07:48.717121Z",
     "iopub.status.busy": "2023-01-11T19:07:48.716408Z",
     "iopub.status.idle": "2023-01-11T19:07:48.792823Z",
     "shell.execute_reply": "2023-01-11T19:07:48.792141Z",
     "shell.execute_reply.started": "2023-01-11T19:04:48.849215Z"
    },
    "papermill": {
     "duration": 0.112332,
     "end_time": "2023-01-11T19:07:48.792976",
     "exception": false,
     "start_time": "2023-01-11T19:07:48.680644",
     "status": "completed"
    },
    "tags": []
   },
   "outputs": [
    {
     "data": {
      "text/html": [
       "<div>\n",
       "<style scoped>\n",
       "    .dataframe tbody tr th:only-of-type {\n",
       "        vertical-align: middle;\n",
       "    }\n",
       "\n",
       "    .dataframe tbody tr th {\n",
       "        vertical-align: top;\n",
       "    }\n",
       "\n",
       "    .dataframe thead th {\n",
       "        text-align: right;\n",
       "    }\n",
       "</style>\n",
       "<table border=\"1\" class=\"dataframe\">\n",
       "  <thead>\n",
       "    <tr style=\"text-align: right;\">\n",
       "      <th></th>\n",
       "      <th>Summary</th>\n",
       "      <th>Precip Type</th>\n",
       "      <th>Temperature (C)</th>\n",
       "      <th>Apparent Temperature (C)</th>\n",
       "      <th>Humidity</th>\n",
       "      <th>Wind Speed (km/h)</th>\n",
       "      <th>Wind Bearing (degrees)</th>\n",
       "      <th>Visibility (km)</th>\n",
       "      <th>Pressure (millibars)</th>\n",
       "      <th>hour_sin</th>\n",
       "      <th>hour_cos</th>\n",
       "      <th>day_sin</th>\n",
       "      <th>day_cos</th>\n",
       "    </tr>\n",
       "  </thead>\n",
       "  <tbody>\n",
       "    <tr>\n",
       "      <th>Summary</th>\n",
       "      <td>1.000000</td>\n",
       "      <td>-0.116821</td>\n",
       "      <td>0.145821</td>\n",
       "      <td>0.141956</td>\n",
       "      <td>-0.112823</td>\n",
       "      <td>0.003068</td>\n",
       "      <td>0.023057</td>\n",
       "      <td>0.135659</td>\n",
       "      <td>0.144449</td>\n",
       "      <td>-0.115476</td>\n",
       "      <td>-0.126093</td>\n",
       "      <td>0.042354</td>\n",
       "      <td>-0.097738</td>\n",
       "    </tr>\n",
       "    <tr>\n",
       "      <th>Precip Type</th>\n",
       "      <td>-0.116821</td>\n",
       "      <td>1.000000</td>\n",
       "      <td>-0.563503</td>\n",
       "      <td>-0.566058</td>\n",
       "      <td>0.232622</td>\n",
       "      <td>-0.067771</td>\n",
       "      <td>-0.042142</td>\n",
       "      <td>-0.316483</td>\n",
       "      <td>0.009271</td>\n",
       "      <td>0.080189</td>\n",
       "      <td>0.077198</td>\n",
       "      <td>0.115773</td>\n",
       "      <td>0.414884</td>\n",
       "    </tr>\n",
       "    <tr>\n",
       "      <th>Temperature (C)</th>\n",
       "      <td>0.145821</td>\n",
       "      <td>-0.563503</td>\n",
       "      <td>1.000000</td>\n",
       "      <td>0.992637</td>\n",
       "      <td>-0.632148</td>\n",
       "      <td>0.008304</td>\n",
       "      <td>0.029937</td>\n",
       "      <td>0.393719</td>\n",
       "      <td>-0.005253</td>\n",
       "      <td>-0.213442</td>\n",
       "      <td>-0.224880</td>\n",
       "      <td>-0.210074</td>\n",
       "      <td>-0.807055</td>\n",
       "    </tr>\n",
       "    <tr>\n",
       "      <th>Apparent Temperature (C)</th>\n",
       "      <td>0.141956</td>\n",
       "      <td>-0.566058</td>\n",
       "      <td>0.992637</td>\n",
       "      <td>1.000000</td>\n",
       "      <td>-0.602390</td>\n",
       "      <td>-0.057387</td>\n",
       "      <td>0.028951</td>\n",
       "      <td>0.382589</td>\n",
       "      <td>-0.000037</td>\n",
       "      <td>-0.201702</td>\n",
       "      <td>-0.206186</td>\n",
       "      <td>-0.215740</td>\n",
       "      <td>-0.815850</td>\n",
       "    </tr>\n",
       "    <tr>\n",
       "      <th>Humidity</th>\n",
       "      <td>-0.112823</td>\n",
       "      <td>0.232622</td>\n",
       "      <td>-0.632148</td>\n",
       "      <td>-0.602390</td>\n",
       "      <td>1.000000</td>\n",
       "      <td>-0.224569</td>\n",
       "      <td>0.000814</td>\n",
       "      <td>-0.370511</td>\n",
       "      <td>0.005375</td>\n",
       "      <td>0.366610</td>\n",
       "      <td>0.395050</td>\n",
       "      <td>-0.046786</td>\n",
       "      <td>0.392201</td>\n",
       "    </tr>\n",
       "    <tr>\n",
       "      <th>Wind Speed (km/h)</th>\n",
       "      <td>0.003068</td>\n",
       "      <td>-0.067771</td>\n",
       "      <td>0.008304</td>\n",
       "      <td>-0.057387</td>\n",
       "      <td>-0.224569</td>\n",
       "      <td>1.000000</td>\n",
       "      <td>0.104366</td>\n",
       "      <td>0.100801</td>\n",
       "      <td>-0.049453</td>\n",
       "      <td>-0.076933</td>\n",
       "      <td>-0.232838</td>\n",
       "      <td>0.134139</td>\n",
       "      <td>0.104584</td>\n",
       "    </tr>\n",
       "    <tr>\n",
       "      <th>Wind Bearing (degrees)</th>\n",
       "      <td>0.023057</td>\n",
       "      <td>-0.042142</td>\n",
       "      <td>0.029937</td>\n",
       "      <td>0.028951</td>\n",
       "      <td>0.000814</td>\n",
       "      <td>0.104366</td>\n",
       "      <td>1.000000</td>\n",
       "      <td>0.048900</td>\n",
       "      <td>-0.011629</td>\n",
       "      <td>-0.010008</td>\n",
       "      <td>0.006792</td>\n",
       "      <td>0.010820</td>\n",
       "      <td>-0.069343</td>\n",
       "    </tr>\n",
       "    <tr>\n",
       "      <th>Visibility (km)</th>\n",
       "      <td>0.135659</td>\n",
       "      <td>-0.316483</td>\n",
       "      <td>0.393719</td>\n",
       "      <td>0.382589</td>\n",
       "      <td>-0.370511</td>\n",
       "      <td>0.100801</td>\n",
       "      <td>0.048900</td>\n",
       "      <td>1.000000</td>\n",
       "      <td>0.061011</td>\n",
       "      <td>-0.059377</td>\n",
       "      <td>0.153076</td>\n",
       "      <td>0.035113</td>\n",
       "      <td>-0.433034</td>\n",
       "    </tr>\n",
       "    <tr>\n",
       "      <th>Pressure (millibars)</th>\n",
       "      <td>0.144449</td>\n",
       "      <td>0.009271</td>\n",
       "      <td>-0.005253</td>\n",
       "      <td>-0.000037</td>\n",
       "      <td>0.005375</td>\n",
       "      <td>-0.049453</td>\n",
       "      <td>-0.011629</td>\n",
       "      <td>0.061011</td>\n",
       "      <td>1.000000</td>\n",
       "      <td>0.003404</td>\n",
       "      <td>0.013111</td>\n",
       "      <td>0.006703</td>\n",
       "      <td>-0.013925</td>\n",
       "    </tr>\n",
       "    <tr>\n",
       "      <th>hour_sin</th>\n",
       "      <td>-0.115476</td>\n",
       "      <td>0.080189</td>\n",
       "      <td>-0.213442</td>\n",
       "      <td>-0.201702</td>\n",
       "      <td>0.366610</td>\n",
       "      <td>-0.076933</td>\n",
       "      <td>-0.010008</td>\n",
       "      <td>-0.059377</td>\n",
       "      <td>0.003404</td>\n",
       "      <td>1.000000</td>\n",
       "      <td>-0.000010</td>\n",
       "      <td>-0.000182</td>\n",
       "      <td>0.000096</td>\n",
       "    </tr>\n",
       "    <tr>\n",
       "      <th>hour_cos</th>\n",
       "      <td>-0.126093</td>\n",
       "      <td>0.077198</td>\n",
       "      <td>-0.224880</td>\n",
       "      <td>-0.206186</td>\n",
       "      <td>0.395050</td>\n",
       "      <td>-0.232838</td>\n",
       "      <td>0.006792</td>\n",
       "      <td>0.153076</td>\n",
       "      <td>0.013111</td>\n",
       "      <td>-0.000010</td>\n",
       "      <td>1.000000</td>\n",
       "      <td>-0.000587</td>\n",
       "      <td>0.000251</td>\n",
       "    </tr>\n",
       "    <tr>\n",
       "      <th>day_sin</th>\n",
       "      <td>0.042354</td>\n",
       "      <td>0.115773</td>\n",
       "      <td>-0.210074</td>\n",
       "      <td>-0.215740</td>\n",
       "      <td>-0.046786</td>\n",
       "      <td>0.134139</td>\n",
       "      <td>0.010820</td>\n",
       "      <td>0.035113</td>\n",
       "      <td>0.006703</td>\n",
       "      <td>-0.000182</td>\n",
       "      <td>-0.000587</td>\n",
       "      <td>1.000000</td>\n",
       "      <td>0.003922</td>\n",
       "    </tr>\n",
       "    <tr>\n",
       "      <th>day_cos</th>\n",
       "      <td>-0.097738</td>\n",
       "      <td>0.414884</td>\n",
       "      <td>-0.807055</td>\n",
       "      <td>-0.815850</td>\n",
       "      <td>0.392201</td>\n",
       "      <td>0.104584</td>\n",
       "      <td>-0.069343</td>\n",
       "      <td>-0.433034</td>\n",
       "      <td>-0.013925</td>\n",
       "      <td>0.000096</td>\n",
       "      <td>0.000251</td>\n",
       "      <td>0.003922</td>\n",
       "      <td>1.000000</td>\n",
       "    </tr>\n",
       "  </tbody>\n",
       "</table>\n",
       "</div>"
      ],
      "text/plain": [
       "                           Summary  Precip Type  Temperature (C)  \\\n",
       "Summary                   1.000000    -0.116821         0.145821   \n",
       "Precip Type              -0.116821     1.000000        -0.563503   \n",
       "Temperature (C)           0.145821    -0.563503         1.000000   \n",
       "Apparent Temperature (C)  0.141956    -0.566058         0.992637   \n",
       "Humidity                 -0.112823     0.232622        -0.632148   \n",
       "Wind Speed (km/h)         0.003068    -0.067771         0.008304   \n",
       "Wind Bearing (degrees)    0.023057    -0.042142         0.029937   \n",
       "Visibility (km)           0.135659    -0.316483         0.393719   \n",
       "Pressure (millibars)      0.144449     0.009271        -0.005253   \n",
       "hour_sin                 -0.115476     0.080189        -0.213442   \n",
       "hour_cos                 -0.126093     0.077198        -0.224880   \n",
       "day_sin                   0.042354     0.115773        -0.210074   \n",
       "day_cos                  -0.097738     0.414884        -0.807055   \n",
       "\n",
       "                          Apparent Temperature (C)  Humidity  \\\n",
       "Summary                                   0.141956 -0.112823   \n",
       "Precip Type                              -0.566058  0.232622   \n",
       "Temperature (C)                           0.992637 -0.632148   \n",
       "Apparent Temperature (C)                  1.000000 -0.602390   \n",
       "Humidity                                 -0.602390  1.000000   \n",
       "Wind Speed (km/h)                        -0.057387 -0.224569   \n",
       "Wind Bearing (degrees)                    0.028951  0.000814   \n",
       "Visibility (km)                           0.382589 -0.370511   \n",
       "Pressure (millibars)                     -0.000037  0.005375   \n",
       "hour_sin                                 -0.201702  0.366610   \n",
       "hour_cos                                 -0.206186  0.395050   \n",
       "day_sin                                  -0.215740 -0.046786   \n",
       "day_cos                                  -0.815850  0.392201   \n",
       "\n",
       "                          Wind Speed (km/h)  Wind Bearing (degrees)  \\\n",
       "Summary                            0.003068                0.023057   \n",
       "Precip Type                       -0.067771               -0.042142   \n",
       "Temperature (C)                    0.008304                0.029937   \n",
       "Apparent Temperature (C)          -0.057387                0.028951   \n",
       "Humidity                          -0.224569                0.000814   \n",
       "Wind Speed (km/h)                  1.000000                0.104366   \n",
       "Wind Bearing (degrees)             0.104366                1.000000   \n",
       "Visibility (km)                    0.100801                0.048900   \n",
       "Pressure (millibars)              -0.049453               -0.011629   \n",
       "hour_sin                          -0.076933               -0.010008   \n",
       "hour_cos                          -0.232838                0.006792   \n",
       "day_sin                            0.134139                0.010820   \n",
       "day_cos                            0.104584               -0.069343   \n",
       "\n",
       "                          Visibility (km)  Pressure (millibars)  hour_sin  \\\n",
       "Summary                          0.135659              0.144449 -0.115476   \n",
       "Precip Type                     -0.316483              0.009271  0.080189   \n",
       "Temperature (C)                  0.393719             -0.005253 -0.213442   \n",
       "Apparent Temperature (C)         0.382589             -0.000037 -0.201702   \n",
       "Humidity                        -0.370511              0.005375  0.366610   \n",
       "Wind Speed (km/h)                0.100801             -0.049453 -0.076933   \n",
       "Wind Bearing (degrees)           0.048900             -0.011629 -0.010008   \n",
       "Visibility (km)                  1.000000              0.061011 -0.059377   \n",
       "Pressure (millibars)             0.061011              1.000000  0.003404   \n",
       "hour_sin                        -0.059377              0.003404  1.000000   \n",
       "hour_cos                         0.153076              0.013111 -0.000010   \n",
       "day_sin                          0.035113              0.006703 -0.000182   \n",
       "day_cos                         -0.433034             -0.013925  0.000096   \n",
       "\n",
       "                          hour_cos   day_sin   day_cos  \n",
       "Summary                  -0.126093  0.042354 -0.097738  \n",
       "Precip Type               0.077198  0.115773  0.414884  \n",
       "Temperature (C)          -0.224880 -0.210074 -0.807055  \n",
       "Apparent Temperature (C) -0.206186 -0.215740 -0.815850  \n",
       "Humidity                  0.395050 -0.046786  0.392201  \n",
       "Wind Speed (km/h)        -0.232838  0.134139  0.104584  \n",
       "Wind Bearing (degrees)    0.006792  0.010820 -0.069343  \n",
       "Visibility (km)           0.153076  0.035113 -0.433034  \n",
       "Pressure (millibars)      0.013111  0.006703 -0.013925  \n",
       "hour_sin                 -0.000010 -0.000182  0.000096  \n",
       "hour_cos                  1.000000 -0.000587  0.000251  \n",
       "day_sin                  -0.000587  1.000000  0.003922  \n",
       "day_cos                   0.000251  0.003922  1.000000  "
      ]
     },
     "execution_count": 15,
     "metadata": {},
     "output_type": "execute_result"
    }
   ],
   "source": [
    "df.corr()    # checking correlation to drop unnecessary variable"
   ]
  },
  {
   "cell_type": "markdown",
   "id": "d967d51a",
   "metadata": {
    "papermill": {
     "duration": 0.030983,
     "end_time": "2023-01-11T19:07:48.855419",
     "exception": false,
     "start_time": "2023-01-11T19:07:48.824436",
     "status": "completed"
    },
    "tags": []
   },
   "source": [
    "Apparent Temperature and Temperature are highly correlated (correlation almost equal to 1). So, we can drop one of them."
   ]
  },
  {
   "cell_type": "code",
   "execution_count": 16,
   "id": "05c85bd2",
   "metadata": {
    "execution": {
     "iopub.execute_input": "2023-01-11T19:07:48.929557Z",
     "iopub.status.busy": "2023-01-11T19:07:48.928507Z",
     "iopub.status.idle": "2023-01-11T19:07:48.931299Z",
     "shell.execute_reply": "2023-01-11T19:07:48.930725Z",
     "shell.execute_reply.started": "2023-01-11T19:04:48.934097Z"
    },
    "papermill": {
     "duration": 0.044579,
     "end_time": "2023-01-11T19:07:48.931448",
     "exception": false,
     "start_time": "2023-01-11T19:07:48.886869",
     "status": "completed"
    },
    "tags": []
   },
   "outputs": [],
   "source": [
    "df.drop(['Apparent Temperature (C)'],axis=1,inplace=True)"
   ]
  },
  {
   "cell_type": "markdown",
   "id": "cb950df0",
   "metadata": {
    "papermill": {
     "duration": 0.096429,
     "end_time": "2023-01-11T19:07:49.059288",
     "exception": false,
     "start_time": "2023-01-11T19:07:48.962859",
     "status": "completed"
    },
    "tags": []
   },
   "source": [
    "# Train Test Splitting"
   ]
  },
  {
   "cell_type": "code",
   "execution_count": 17,
   "id": "91987c1c",
   "metadata": {
    "execution": {
     "iopub.execute_input": "2023-01-11T19:07:49.126565Z",
     "iopub.status.busy": "2023-01-11T19:07:49.125853Z",
     "iopub.status.idle": "2023-01-11T19:07:49.131781Z",
     "shell.execute_reply": "2023-01-11T19:07:49.132361Z",
     "shell.execute_reply.started": "2023-01-11T19:04:48.945383Z"
    },
    "papermill": {
     "duration": 0.041255,
     "end_time": "2023-01-11T19:07:49.132539",
     "exception": false,
     "start_time": "2023-01-11T19:07:49.091284",
     "status": "completed"
    },
    "tags": []
   },
   "outputs": [],
   "source": [
    "y=df.iloc[:,0] \n",
    "X = df.iloc[:,1:]  "
   ]
  },
  {
   "cell_type": "code",
   "execution_count": 18,
   "id": "367f3b9d",
   "metadata": {
    "execution": {
     "iopub.execute_input": "2023-01-11T19:07:49.198678Z",
     "iopub.status.busy": "2023-01-11T19:07:49.198048Z",
     "iopub.status.idle": "2023-01-11T19:07:49.217743Z",
     "shell.execute_reply": "2023-01-11T19:07:49.217087Z",
     "shell.execute_reply.started": "2023-01-11T19:04:48.959963Z"
    },
    "papermill": {
     "duration": 0.053716,
     "end_time": "2023-01-11T19:07:49.217895",
     "exception": false,
     "start_time": "2023-01-11T19:07:49.164179",
     "status": "completed"
    },
    "tags": []
   },
   "outputs": [
    {
     "data": {
      "text/html": [
       "<div>\n",
       "<style scoped>\n",
       "    .dataframe tbody tr th:only-of-type {\n",
       "        vertical-align: middle;\n",
       "    }\n",
       "\n",
       "    .dataframe tbody tr th {\n",
       "        vertical-align: top;\n",
       "    }\n",
       "\n",
       "    .dataframe thead th {\n",
       "        text-align: right;\n",
       "    }\n",
       "</style>\n",
       "<table border=\"1\" class=\"dataframe\">\n",
       "  <thead>\n",
       "    <tr style=\"text-align: right;\">\n",
       "      <th></th>\n",
       "      <th>Precip Type</th>\n",
       "      <th>Temperature (C)</th>\n",
       "      <th>Humidity</th>\n",
       "      <th>Wind Speed (km/h)</th>\n",
       "      <th>Wind Bearing (degrees)</th>\n",
       "      <th>Visibility (km)</th>\n",
       "      <th>Pressure (millibars)</th>\n",
       "      <th>hour_sin</th>\n",
       "      <th>hour_cos</th>\n",
       "      <th>day_sin</th>\n",
       "      <th>day_cos</th>\n",
       "    </tr>\n",
       "  </thead>\n",
       "  <tbody>\n",
       "    <tr>\n",
       "      <th>0</th>\n",
       "      <td>-0.354531</td>\n",
       "      <td>-0.257951</td>\n",
       "      <td>0.792748</td>\n",
       "      <td>0.478964</td>\n",
       "      <td>0.591157</td>\n",
       "      <td>1.309107</td>\n",
       "      <td>0.102152</td>\n",
       "      <td>0.000000</td>\n",
       "      <td>1.000000</td>\n",
       "      <td>0.999991</td>\n",
       "      <td>0.004304</td>\n",
       "    </tr>\n",
       "    <tr>\n",
       "      <th>1</th>\n",
       "      <td>-0.354531</td>\n",
       "      <td>-0.270141</td>\n",
       "      <td>0.639470</td>\n",
       "      <td>0.499902</td>\n",
       "      <td>0.665655</td>\n",
       "      <td>1.309107</td>\n",
       "      <td>0.106415</td>\n",
       "      <td>0.258819</td>\n",
       "      <td>0.965926</td>\n",
       "      <td>0.999991</td>\n",
       "      <td>0.004304</td>\n",
       "    </tr>\n",
       "    <tr>\n",
       "      <th>2</th>\n",
       "      <td>-0.354531</td>\n",
       "      <td>-0.267819</td>\n",
       "      <td>0.792748</td>\n",
       "      <td>-0.993620</td>\n",
       "      <td>0.153478</td>\n",
       "      <td>1.100806</td>\n",
       "      <td>0.109058</td>\n",
       "      <td>0.500000</td>\n",
       "      <td>0.866025</td>\n",
       "      <td>0.999991</td>\n",
       "      <td>0.004304</td>\n",
       "    </tr>\n",
       "    <tr>\n",
       "      <th>3</th>\n",
       "      <td>-0.354531</td>\n",
       "      <td>-0.381594</td>\n",
       "      <td>0.486192</td>\n",
       "      <td>0.476638</td>\n",
       "      <td>0.758778</td>\n",
       "      <td>1.309107</td>\n",
       "      <td>0.113066</td>\n",
       "      <td>0.707107</td>\n",
       "      <td>0.707107</td>\n",
       "      <td>0.999991</td>\n",
       "      <td>0.004304</td>\n",
       "    </tr>\n",
       "    <tr>\n",
       "      <th>4</th>\n",
       "      <td>-0.354531</td>\n",
       "      <td>-0.332833</td>\n",
       "      <td>0.486192</td>\n",
       "      <td>0.034630</td>\n",
       "      <td>0.665655</td>\n",
       "      <td>1.309107</td>\n",
       "      <td>0.113919</td>\n",
       "      <td>0.866025</td>\n",
       "      <td>0.500000</td>\n",
       "      <td>0.999991</td>\n",
       "      <td>0.004304</td>\n",
       "    </tr>\n",
       "    <tr>\n",
       "      <th>...</th>\n",
       "      <td>...</td>\n",
       "      <td>...</td>\n",
       "      <td>...</td>\n",
       "      <td>...</td>\n",
       "      <td>...</td>\n",
       "      <td>...</td>\n",
       "      <td>...</td>\n",
       "      <td>...</td>\n",
       "      <td>...</td>\n",
       "      <td>...</td>\n",
       "      <td>...</td>\n",
       "    </tr>\n",
       "    <tr>\n",
       "      <th>96448</th>\n",
       "      <td>-0.354531</td>\n",
       "      <td>1.470719</td>\n",
       "      <td>-1.557511</td>\n",
       "      <td>0.027651</td>\n",
       "      <td>-1.457551</td>\n",
       "      <td>1.374684</td>\n",
       "      <td>0.095586</td>\n",
       "      <td>-0.965926</td>\n",
       "      <td>0.258819</td>\n",
       "      <td>-0.936881</td>\n",
       "      <td>-0.349647</td>\n",
       "    </tr>\n",
       "    <tr>\n",
       "      <th>96449</th>\n",
       "      <td>-0.354531</td>\n",
       "      <td>1.320955</td>\n",
       "      <td>-1.302048</td>\n",
       "      <td>-0.102625</td>\n",
       "      <td>-1.559986</td>\n",
       "      <td>1.243531</td>\n",
       "      <td>0.102407</td>\n",
       "      <td>-0.866025</td>\n",
       "      <td>0.500000</td>\n",
       "      <td>-0.936881</td>\n",
       "      <td>-0.349647</td>\n",
       "    </tr>\n",
       "    <tr>\n",
       "      <th>96450</th>\n",
       "      <td>-0.354531</td>\n",
       "      <td>1.055095</td>\n",
       "      <td>-0.893308</td>\n",
       "      <td>-0.263144</td>\n",
       "      <td>-1.466863</td>\n",
       "      <td>1.374684</td>\n",
       "      <td>0.106671</td>\n",
       "      <td>-0.707107</td>\n",
       "      <td>0.707107</td>\n",
       "      <td>-0.936881</td>\n",
       "      <td>-0.349647</td>\n",
       "    </tr>\n",
       "    <tr>\n",
       "      <th>96451</th>\n",
       "      <td>-0.354531</td>\n",
       "      <td>1.001110</td>\n",
       "      <td>-0.688937</td>\n",
       "      <td>-0.039813</td>\n",
       "      <td>-1.559986</td>\n",
       "      <td>1.374684</td>\n",
       "      <td>0.109144</td>\n",
       "      <td>-0.500000</td>\n",
       "      <td>0.866025</td>\n",
       "      <td>-0.936881</td>\n",
       "      <td>-0.349647</td>\n",
       "    </tr>\n",
       "    <tr>\n",
       "      <th>96452</th>\n",
       "      <td>-0.354531</td>\n",
       "      <td>0.887917</td>\n",
       "      <td>-0.637845</td>\n",
       "      <td>-0.712131</td>\n",
       "      <td>-1.383052</td>\n",
       "      <td>1.235816</td>\n",
       "      <td>0.110934</td>\n",
       "      <td>-0.258819</td>\n",
       "      <td>0.965926</td>\n",
       "      <td>-0.936881</td>\n",
       "      <td>-0.349647</td>\n",
       "    </tr>\n",
       "  </tbody>\n",
       "</table>\n",
       "<p>95936 rows × 11 columns</p>\n",
       "</div>"
      ],
      "text/plain": [
       "       Precip Type  Temperature (C)  Humidity  Wind Speed (km/h)  \\\n",
       "0        -0.354531        -0.257951  0.792748           0.478964   \n",
       "1        -0.354531        -0.270141  0.639470           0.499902   \n",
       "2        -0.354531        -0.267819  0.792748          -0.993620   \n",
       "3        -0.354531        -0.381594  0.486192           0.476638   \n",
       "4        -0.354531        -0.332833  0.486192           0.034630   \n",
       "...            ...              ...       ...                ...   \n",
       "96448    -0.354531         1.470719 -1.557511           0.027651   \n",
       "96449    -0.354531         1.320955 -1.302048          -0.102625   \n",
       "96450    -0.354531         1.055095 -0.893308          -0.263144   \n",
       "96451    -0.354531         1.001110 -0.688937          -0.039813   \n",
       "96452    -0.354531         0.887917 -0.637845          -0.712131   \n",
       "\n",
       "       Wind Bearing (degrees)  Visibility (km)  Pressure (millibars)  \\\n",
       "0                    0.591157         1.309107              0.102152   \n",
       "1                    0.665655         1.309107              0.106415   \n",
       "2                    0.153478         1.100806              0.109058   \n",
       "3                    0.758778         1.309107              0.113066   \n",
       "4                    0.665655         1.309107              0.113919   \n",
       "...                       ...              ...                   ...   \n",
       "96448               -1.457551         1.374684              0.095586   \n",
       "96449               -1.559986         1.243531              0.102407   \n",
       "96450               -1.466863         1.374684              0.106671   \n",
       "96451               -1.559986         1.374684              0.109144   \n",
       "96452               -1.383052         1.235816              0.110934   \n",
       "\n",
       "       hour_sin  hour_cos   day_sin   day_cos  \n",
       "0      0.000000  1.000000  0.999991  0.004304  \n",
       "1      0.258819  0.965926  0.999991  0.004304  \n",
       "2      0.500000  0.866025  0.999991  0.004304  \n",
       "3      0.707107  0.707107  0.999991  0.004304  \n",
       "4      0.866025  0.500000  0.999991  0.004304  \n",
       "...         ...       ...       ...       ...  \n",
       "96448 -0.965926  0.258819 -0.936881 -0.349647  \n",
       "96449 -0.866025  0.500000 -0.936881 -0.349647  \n",
       "96450 -0.707107  0.707107 -0.936881 -0.349647  \n",
       "96451 -0.500000  0.866025 -0.936881 -0.349647  \n",
       "96452 -0.258819  0.965926 -0.936881 -0.349647  \n",
       "\n",
       "[95936 rows x 11 columns]"
      ]
     },
     "execution_count": 18,
     "metadata": {},
     "output_type": "execute_result"
    }
   ],
   "source": [
    "X"
   ]
  },
  {
   "cell_type": "code",
   "execution_count": 19,
   "id": "2d696e51",
   "metadata": {
    "execution": {
     "iopub.execute_input": "2023-01-11T19:07:49.287698Z",
     "iopub.status.busy": "2023-01-11T19:07:49.286971Z",
     "iopub.status.idle": "2023-01-11T19:07:49.356915Z",
     "shell.execute_reply": "2023-01-11T19:07:49.356304Z",
     "shell.execute_reply.started": "2023-01-11T19:04:48.985182Z"
    },
    "papermill": {
     "duration": 0.106736,
     "end_time": "2023-01-11T19:07:49.357064",
     "exception": false,
     "start_time": "2023-01-11T19:07:49.250328",
     "status": "completed"
    },
    "tags": []
   },
   "outputs": [],
   "source": [
    "from sklearn.model_selection import train_test_split\n",
    "\n",
    "X_train,X_test,y_train,y_test = train_test_split(X,y,test_size=0.3,random_state=1)"
   ]
  },
  {
   "cell_type": "code",
   "execution_count": 20,
   "id": "6e066369",
   "metadata": {
    "execution": {
     "iopub.execute_input": "2023-01-11T19:07:49.427745Z",
     "iopub.status.busy": "2023-01-11T19:07:49.426957Z",
     "iopub.status.idle": "2023-01-11T19:07:49.430822Z",
     "shell.execute_reply": "2023-01-11T19:07:49.430230Z",
     "shell.execute_reply.started": "2023-01-11T19:04:49.063881Z"
    },
    "papermill": {
     "duration": 0.04104,
     "end_time": "2023-01-11T19:07:49.430967",
     "exception": false,
     "start_time": "2023-01-11T19:07:49.389927",
     "status": "completed"
    },
    "tags": []
   },
   "outputs": [
    {
     "data": {
      "text/plain": [
       "(67155, 11)"
      ]
     },
     "execution_count": 20,
     "metadata": {},
     "output_type": "execute_result"
    }
   ],
   "source": [
    "X_train.shape"
   ]
  },
  {
   "cell_type": "code",
   "execution_count": 21,
   "id": "924b879d",
   "metadata": {
    "execution": {
     "iopub.execute_input": "2023-01-11T19:07:49.501573Z",
     "iopub.status.busy": "2023-01-11T19:07:49.500836Z",
     "iopub.status.idle": "2023-01-11T19:07:49.505500Z",
     "shell.execute_reply": "2023-01-11T19:07:49.504932Z",
     "shell.execute_reply.started": "2023-01-11T19:04:49.072712Z"
    },
    "papermill": {
     "duration": 0.04174,
     "end_time": "2023-01-11T19:07:49.505648",
     "exception": false,
     "start_time": "2023-01-11T19:07:49.463908",
     "status": "completed"
    },
    "tags": []
   },
   "outputs": [
    {
     "data": {
      "text/plain": [
       "(28781, 11)"
      ]
     },
     "execution_count": 21,
     "metadata": {},
     "output_type": "execute_result"
    }
   ],
   "source": [
    "X_test.shape"
   ]
  },
  {
   "cell_type": "markdown",
   "id": "a20a375c",
   "metadata": {
    "papermill": {
     "duration": 0.032863,
     "end_time": "2023-01-11T19:07:49.571572",
     "exception": false,
     "start_time": "2023-01-11T19:07:49.538709",
     "status": "completed"
    },
    "tags": []
   },
   "source": [
    "# Training the Model"
   ]
  },
  {
   "cell_type": "code",
   "execution_count": 22,
   "id": "d423940f",
   "metadata": {
    "execution": {
     "iopub.execute_input": "2023-01-11T19:07:49.643137Z",
     "iopub.status.busy": "2023-01-11T19:07:49.642394Z",
     "iopub.status.idle": "2023-01-11T19:08:23.231690Z",
     "shell.execute_reply": "2023-01-11T19:08:23.231071Z",
     "shell.execute_reply.started": "2023-01-11T19:04:49.084966Z"
    },
    "papermill": {
     "duration": 33.627439,
     "end_time": "2023-01-11T19:08:23.231866",
     "exception": false,
     "start_time": "2023-01-11T19:07:49.604427",
     "status": "completed"
    },
    "tags": []
   },
   "outputs": [],
   "source": [
    "from sklearn.ensemble import RandomForestClassifier\n",
    "\n",
    "model = RandomForestClassifier(max_depth=32,n_estimators=120,random_state=1)\n",
    "model.fit(X_train,y_train)\n",
    "y_pred = model.predict(X_test)"
   ]
  },
  {
   "cell_type": "markdown",
   "id": "1aebd3e4",
   "metadata": {
    "papermill": {
     "duration": 0.032725,
     "end_time": "2023-01-11T19:08:23.299061",
     "exception": false,
     "start_time": "2023-01-11T19:08:23.266336",
     "status": "completed"
    },
    "tags": []
   },
   "source": [
    "# Measuring Accuracy"
   ]
  },
  {
   "cell_type": "code",
   "execution_count": 23,
   "id": "32b0fcfa",
   "metadata": {
    "execution": {
     "iopub.execute_input": "2023-01-11T19:08:23.372748Z",
     "iopub.status.busy": "2023-01-11T19:08:23.371978Z",
     "iopub.status.idle": "2023-01-11T19:08:23.377931Z",
     "shell.execute_reply": "2023-01-11T19:08:23.377361Z",
     "shell.execute_reply.started": "2023-01-11T19:05:22.335284Z"
    },
    "papermill": {
     "duration": 0.044802,
     "end_time": "2023-01-11T19:08:23.378078",
     "exception": false,
     "start_time": "2023-01-11T19:08:23.333276",
     "status": "completed"
    },
    "tags": []
   },
   "outputs": [
    {
     "data": {
      "text/plain": [
       "0.6695389319342622"
      ]
     },
     "execution_count": 23,
     "metadata": {},
     "output_type": "execute_result"
    }
   ],
   "source": [
    "from sklearn.metrics import accuracy_score\n",
    "accuracy_score(y_test, y_pred)"
   ]
  },
  {
   "cell_type": "markdown",
   "id": "21c4a0d6",
   "metadata": {
    "papermill": {
     "duration": 0.033145,
     "end_time": "2023-01-11T19:08:23.444470",
     "exception": false,
     "start_time": "2023-01-11T19:08:23.411325",
     "status": "completed"
    },
    "tags": []
   },
   "source": [
    "Train the same model without the datetime feature"
   ]
  },
  {
   "cell_type": "code",
   "execution_count": 24,
   "id": "2484abc5",
   "metadata": {
    "execution": {
     "iopub.execute_input": "2023-01-11T19:08:23.528114Z",
     "iopub.status.busy": "2023-01-11T19:08:23.524881Z",
     "iopub.status.idle": "2023-01-11T19:08:50.924111Z",
     "shell.execute_reply": "2023-01-11T19:08:50.923329Z",
     "shell.execute_reply.started": "2023-01-11T19:05:22.347932Z"
    },
    "papermill": {
     "duration": 27.446185,
     "end_time": "2023-01-11T19:08:50.924318",
     "exception": false,
     "start_time": "2023-01-11T19:08:23.478133",
     "status": "completed"
    },
    "tags": []
   },
   "outputs": [],
   "source": [
    "model = RandomForestClassifier(max_depth=32,n_estimators=120,random_state=1)\n",
    "model.fit(X_train[X_train.columns[:-4]],y_train)\n",
    "y_pred = model.predict(X_test[X_test.columns[:-4]])"
   ]
  },
  {
   "cell_type": "code",
   "execution_count": 25,
   "id": "3e395858",
   "metadata": {
    "execution": {
     "iopub.execute_input": "2023-01-11T19:08:50.999083Z",
     "iopub.status.busy": "2023-01-11T19:08:50.997046Z",
     "iopub.status.idle": "2023-01-11T19:08:51.006056Z",
     "shell.execute_reply": "2023-01-11T19:08:51.006603Z",
     "shell.execute_reply.started": "2023-01-11T19:05:49.406764Z"
    },
    "papermill": {
     "duration": 0.047828,
     "end_time": "2023-01-11T19:08:51.006841",
     "exception": false,
     "start_time": "2023-01-11T19:08:50.959013",
     "status": "completed"
    },
    "tags": []
   },
   "outputs": [
    {
     "data": {
      "text/plain": [
       "0.5827108161634411"
      ]
     },
     "execution_count": 25,
     "metadata": {},
     "output_type": "execute_result"
    }
   ],
   "source": [
    "accuracy_score(y_test, y_pred)"
   ]
  },
  {
   "cell_type": "code",
   "execution_count": null,
   "id": "dac50ae7",
   "metadata": {
    "papermill": {
     "duration": 0.036248,
     "end_time": "2023-01-11T19:08:51.078651",
     "exception": false,
     "start_time": "2023-01-11T19:08:51.042403",
     "status": "completed"
    },
    "tags": []
   },
   "outputs": [],
   "source": []
  },
  {
   "cell_type": "code",
   "execution_count": null,
   "id": "a0e6da8c",
   "metadata": {
    "papermill": {
     "duration": 0.036219,
     "end_time": "2023-01-11T19:08:51.151250",
     "exception": false,
     "start_time": "2023-01-11T19:08:51.115031",
     "status": "completed"
    },
    "tags": []
   },
   "outputs": [],
   "source": []
  }
 ],
 "metadata": {
  "kernelspec": {
   "display_name": "Python 3",
   "language": "python",
   "name": "python3"
  },
  "language_info": {
   "codemirror_mode": {
    "name": "ipython",
    "version": 3
   },
   "file_extension": ".py",
   "mimetype": "text/x-python",
   "name": "python",
   "nbconvert_exporter": "python",
   "pygments_lexer": "ipython3",
   "version": "3.7.10"
  },
  "papermill": {
   "default_parameters": {},
   "duration": 81.691519,
   "end_time": "2023-01-11T19:08:51.998322",
   "environment_variables": {},
   "exception": null,
   "input_path": "__notebook__.ipynb",
   "output_path": "__notebook__.ipynb",
   "parameters": {},
   "start_time": "2023-01-11T19:07:30.306803",
   "version": "2.3.3"
  }
 },
 "nbformat": 4,
 "nbformat_minor": 5
}
