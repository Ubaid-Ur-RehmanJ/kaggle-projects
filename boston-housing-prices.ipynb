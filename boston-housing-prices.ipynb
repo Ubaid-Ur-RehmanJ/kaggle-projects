{
 "cells": [
  {
   "cell_type": "code",
   "execution_count": 1,
   "id": "6403caba",
   "metadata": {
    "_cell_guid": "b1076dfc-b9ad-4769-8c92-a6c4dae69d19",
    "_uuid": "8f2839f25d086af736a60e9eeb907d3b93b6e0e5",
    "execution": {
     "iopub.execute_input": "2023-01-08T20:12:01.346836Z",
     "iopub.status.busy": "2023-01-08T20:12:01.346309Z",
     "iopub.status.idle": "2023-01-08T20:12:01.367424Z",
     "shell.execute_reply": "2023-01-08T20:12:01.366384Z"
    },
    "papermill": {
     "duration": 0.040059,
     "end_time": "2023-01-08T20:12:01.370134",
     "exception": false,
     "start_time": "2023-01-08T20:12:01.330075",
     "status": "completed"
    },
    "tags": []
   },
   "outputs": [
    {
     "name": "stdout",
     "output_type": "stream",
     "text": [
      "/kaggle/input/the-boston-houseprice-data/boston.csv\n"
     ]
    }
   ],
   "source": [
    "# This Python 3 environment comes with many helpful analytics libraries installed\n",
    "# It is defined by the kaggle/python Docker image: https://github.com/kaggle/docker-python\n",
    "# For example, here's several helpful packages to load\n",
    "\n",
    "import numpy as np # linear algebra\n",
    "import pandas as pd # data processing, CSV file I/O (e.g. pd.read_csv)\n",
    "\n",
    "# Input data files are available in the read-only \"../input/\" directory\n",
    "# For example, running this (by clicking run or pressing Shift+Enter) will list all files under the input directory\n",
    "\n",
    "import os\n",
    "for dirname, _, filenames in os.walk('/kaggle/input'):\n",
    "    for filename in filenames:\n",
    "        print(os.path.join(dirname, filename))\n",
    "\n",
    "# You can write up to 20GB to the current directory (/kaggle/working/) that gets preserved as output when you create a version using \"Save & Run All\" \n",
    "# You can also write temporary files to /kaggle/temp/, but they won't be saved outside of the current session"
   ]
  },
  {
   "cell_type": "code",
   "execution_count": 2,
   "id": "9a54a3ed",
   "metadata": {
    "execution": {
     "iopub.execute_input": "2023-01-08T20:12:01.393303Z",
     "iopub.status.busy": "2023-01-08T20:12:01.392826Z",
     "iopub.status.idle": "2023-01-08T20:12:02.933024Z",
     "shell.execute_reply": "2023-01-08T20:12:02.931747Z"
    },
    "papermill": {
     "duration": 1.555084,
     "end_time": "2023-01-08T20:12:02.935989",
     "exception": false,
     "start_time": "2023-01-08T20:12:01.380905",
     "status": "completed"
    },
    "tags": []
   },
   "outputs": [],
   "source": [
    "import pandas as pd\n",
    "import numpy as np\n",
    "import matplotlib.pyplot as plt\n",
    "import seaborn as sns\n",
    "from sklearn.linear_model import LinearRegression, Ridge\n",
    "from sklearn.metrics import mean_absolute_error"
   ]
  },
  {
   "cell_type": "code",
   "execution_count": 3,
   "id": "7d2a93f9",
   "metadata": {
    "execution": {
     "iopub.execute_input": "2023-01-08T20:12:02.961095Z",
     "iopub.status.busy": "2023-01-08T20:12:02.960712Z",
     "iopub.status.idle": "2023-01-08T20:12:03.008220Z",
     "shell.execute_reply": "2023-01-08T20:12:03.007047Z"
    },
    "papermill": {
     "duration": 0.064572,
     "end_time": "2023-01-08T20:12:03.011403",
     "exception": false,
     "start_time": "2023-01-08T20:12:02.946831",
     "status": "completed"
    },
    "tags": []
   },
   "outputs": [
    {
     "data": {
      "text/html": [
       "<div>\n",
       "<style scoped>\n",
       "    .dataframe tbody tr th:only-of-type {\n",
       "        vertical-align: middle;\n",
       "    }\n",
       "\n",
       "    .dataframe tbody tr th {\n",
       "        vertical-align: top;\n",
       "    }\n",
       "\n",
       "    .dataframe thead th {\n",
       "        text-align: right;\n",
       "    }\n",
       "</style>\n",
       "<table border=\"1\" class=\"dataframe\">\n",
       "  <thead>\n",
       "    <tr style=\"text-align: right;\">\n",
       "      <th></th>\n",
       "      <th>CRIM</th>\n",
       "      <th>ZN</th>\n",
       "      <th>INDUS</th>\n",
       "      <th>CHAS</th>\n",
       "      <th>NOX</th>\n",
       "      <th>RM</th>\n",
       "      <th>AGE</th>\n",
       "      <th>DIS</th>\n",
       "      <th>RAD</th>\n",
       "      <th>TAX</th>\n",
       "      <th>PTRATIO</th>\n",
       "      <th>B</th>\n",
       "      <th>LSTAT</th>\n",
       "      <th>MEDV</th>\n",
       "    </tr>\n",
       "  </thead>\n",
       "  <tbody>\n",
       "    <tr>\n",
       "      <th>0</th>\n",
       "      <td>0.00632</td>\n",
       "      <td>18.0</td>\n",
       "      <td>2.31</td>\n",
       "      <td>0</td>\n",
       "      <td>0.538</td>\n",
       "      <td>6.575</td>\n",
       "      <td>65.2</td>\n",
       "      <td>4.0900</td>\n",
       "      <td>1</td>\n",
       "      <td>296.0</td>\n",
       "      <td>15.3</td>\n",
       "      <td>396.90</td>\n",
       "      <td>4.98</td>\n",
       "      <td>24.0</td>\n",
       "    </tr>\n",
       "    <tr>\n",
       "      <th>1</th>\n",
       "      <td>0.02731</td>\n",
       "      <td>0.0</td>\n",
       "      <td>7.07</td>\n",
       "      <td>0</td>\n",
       "      <td>0.469</td>\n",
       "      <td>6.421</td>\n",
       "      <td>78.9</td>\n",
       "      <td>4.9671</td>\n",
       "      <td>2</td>\n",
       "      <td>242.0</td>\n",
       "      <td>17.8</td>\n",
       "      <td>396.90</td>\n",
       "      <td>9.14</td>\n",
       "      <td>21.6</td>\n",
       "    </tr>\n",
       "    <tr>\n",
       "      <th>2</th>\n",
       "      <td>0.02729</td>\n",
       "      <td>0.0</td>\n",
       "      <td>7.07</td>\n",
       "      <td>0</td>\n",
       "      <td>0.469</td>\n",
       "      <td>7.185</td>\n",
       "      <td>61.1</td>\n",
       "      <td>4.9671</td>\n",
       "      <td>2</td>\n",
       "      <td>242.0</td>\n",
       "      <td>17.8</td>\n",
       "      <td>392.83</td>\n",
       "      <td>4.03</td>\n",
       "      <td>34.7</td>\n",
       "    </tr>\n",
       "    <tr>\n",
       "      <th>3</th>\n",
       "      <td>0.03237</td>\n",
       "      <td>0.0</td>\n",
       "      <td>2.18</td>\n",
       "      <td>0</td>\n",
       "      <td>0.458</td>\n",
       "      <td>6.998</td>\n",
       "      <td>45.8</td>\n",
       "      <td>6.0622</td>\n",
       "      <td>3</td>\n",
       "      <td>222.0</td>\n",
       "      <td>18.7</td>\n",
       "      <td>394.63</td>\n",
       "      <td>2.94</td>\n",
       "      <td>33.4</td>\n",
       "    </tr>\n",
       "    <tr>\n",
       "      <th>4</th>\n",
       "      <td>0.06905</td>\n",
       "      <td>0.0</td>\n",
       "      <td>2.18</td>\n",
       "      <td>0</td>\n",
       "      <td>0.458</td>\n",
       "      <td>7.147</td>\n",
       "      <td>54.2</td>\n",
       "      <td>6.0622</td>\n",
       "      <td>3</td>\n",
       "      <td>222.0</td>\n",
       "      <td>18.7</td>\n",
       "      <td>396.90</td>\n",
       "      <td>5.33</td>\n",
       "      <td>36.2</td>\n",
       "    </tr>\n",
       "  </tbody>\n",
       "</table>\n",
       "</div>"
      ],
      "text/plain": [
       "      CRIM    ZN  INDUS  CHAS    NOX     RM   AGE     DIS  RAD    TAX  \\\n",
       "0  0.00632  18.0   2.31     0  0.538  6.575  65.2  4.0900    1  296.0   \n",
       "1  0.02731   0.0   7.07     0  0.469  6.421  78.9  4.9671    2  242.0   \n",
       "2  0.02729   0.0   7.07     0  0.469  7.185  61.1  4.9671    2  242.0   \n",
       "3  0.03237   0.0   2.18     0  0.458  6.998  45.8  6.0622    3  222.0   \n",
       "4  0.06905   0.0   2.18     0  0.458  7.147  54.2  6.0622    3  222.0   \n",
       "\n",
       "   PTRATIO       B  LSTAT  MEDV  \n",
       "0     15.3  396.90   4.98  24.0  \n",
       "1     17.8  396.90   9.14  21.6  \n",
       "2     17.8  392.83   4.03  34.7  \n",
       "3     18.7  394.63   2.94  33.4  \n",
       "4     18.7  396.90   5.33  36.2  "
      ]
     },
     "execution_count": 3,
     "metadata": {},
     "output_type": "execute_result"
    }
   ],
   "source": [
    "df = pd.read_csv(\"/kaggle/input/the-boston-houseprice-data/boston.csv\")\n",
    "df.head()"
   ]
  },
  {
   "cell_type": "code",
   "execution_count": 4,
   "id": "19b55b36",
   "metadata": {
    "execution": {
     "iopub.execute_input": "2023-01-08T20:12:03.035016Z",
     "iopub.status.busy": "2023-01-08T20:12:03.034575Z",
     "iopub.status.idle": "2023-01-08T20:12:03.042464Z",
     "shell.execute_reply": "2023-01-08T20:12:03.041323Z"
    },
    "papermill": {
     "duration": 0.022605,
     "end_time": "2023-01-08T20:12:03.045060",
     "exception": false,
     "start_time": "2023-01-08T20:12:03.022455",
     "status": "completed"
    },
    "tags": []
   },
   "outputs": [
    {
     "data": {
      "text/plain": [
       "(506, 14)"
      ]
     },
     "execution_count": 4,
     "metadata": {},
     "output_type": "execute_result"
    }
   ],
   "source": [
    "df.shape"
   ]
  },
  {
   "cell_type": "markdown",
   "id": "cc98aa3b",
   "metadata": {
    "papermill": {
     "duration": 0.010822,
     "end_time": "2023-01-08T20:12:03.066762",
     "exception": false,
     "start_time": "2023-01-08T20:12:03.055940",
     "status": "completed"
    },
    "tags": []
   },
   "source": [
    "Input features in order:\n",
    "1) CRIM: per capita crime rate by town\n",
    "2) ZN: proportion of residential land zoned for lots over 25,000 sq.ft.\n",
    "3) INDUS: proportion of non-retail business acres per town\n",
    "4) CHAS: Charles River dummy variable (1 if tract bounds river; 0 otherwise)\n",
    "5) NOX: nitric oxides concentration (parts per 10 million) [parts/10M]\n",
    "6) RM: average number of rooms per dwelling\n",
    "7) AGE: proportion of owner-occupied units built prior to 1940\n",
    "8) DIS: weighted distances to five Boston employment centres\n",
    "9) RAD: index of accessibility to radial highways\n",
    "10) TAX: full-value property-tax rate per $10,000 [$/10k]\n",
    "11) PTRATIO: pupil-teacher ratio by town\n",
    "12) B: The result of the equation B=1000(Bk - 0.63)^2 where Bk is the proportion of blacks by town\n",
    "13) LSTAT: % lower status of the population\n",
    "\n",
    "Output variable:\n",
    "1) MEDV: Median value of owner-occupied homes in $1000's [k$]\n",
    "\n"
   ]
  },
  {
   "cell_type": "code",
   "execution_count": 5,
   "id": "c3f0658e",
   "metadata": {
    "execution": {
     "iopub.execute_input": "2023-01-08T20:12:03.090404Z",
     "iopub.status.busy": "2023-01-08T20:12:03.090019Z",
     "iopub.status.idle": "2023-01-08T20:12:03.101974Z",
     "shell.execute_reply": "2023-01-08T20:12:03.100794Z"
    },
    "papermill": {
     "duration": 0.026281,
     "end_time": "2023-01-08T20:12:03.104444",
     "exception": false,
     "start_time": "2023-01-08T20:12:03.078163",
     "status": "completed"
    },
    "tags": []
   },
   "outputs": [
    {
     "data": {
      "text/plain": [
       "CRIM       0.0\n",
       "ZN         0.0\n",
       "INDUS      0.0\n",
       "CHAS       0.0\n",
       "NOX        0.0\n",
       "RM         0.0\n",
       "AGE        0.0\n",
       "DIS        0.0\n",
       "RAD        0.0\n",
       "TAX        0.0\n",
       "PTRATIO    0.0\n",
       "B          0.0\n",
       "LSTAT      0.0\n",
       "MEDV       0.0\n",
       "dtype: float64"
      ]
     },
     "execution_count": 5,
     "metadata": {},
     "output_type": "execute_result"
    }
   ],
   "source": [
    "#drop the columns with more than 50%null values\n",
    "df.isnull().sum() / len(df)"
   ]
  },
  {
   "cell_type": "code",
   "execution_count": 6,
   "id": "e9c553e5",
   "metadata": {
    "execution": {
     "iopub.execute_input": "2023-01-08T20:12:03.128330Z",
     "iopub.status.busy": "2023-01-08T20:12:03.127945Z",
     "iopub.status.idle": "2023-01-08T20:12:03.145209Z",
     "shell.execute_reply": "2023-01-08T20:12:03.143987Z"
    },
    "papermill": {
     "duration": 0.032517,
     "end_time": "2023-01-08T20:12:03.147760",
     "exception": false,
     "start_time": "2023-01-08T20:12:03.115243",
     "status": "completed"
    },
    "tags": []
   },
   "outputs": [
    {
     "data": {
      "text/plain": [
       "CRIM       504\n",
       "ZN          26\n",
       "INDUS       76\n",
       "CHAS         2\n",
       "NOX         81\n",
       "RM         446\n",
       "AGE        356\n",
       "DIS        412\n",
       "RAD          9\n",
       "TAX         66\n",
       "PTRATIO     46\n",
       "B          357\n",
       "LSTAT      455\n",
       "MEDV       229\n",
       "dtype: int64"
      ]
     },
     "execution_count": 6,
     "metadata": {},
     "output_type": "execute_result"
    }
   ],
   "source": [
    "#drop the high  and low cardanility features\n",
    "df.nunique()"
   ]
  },
  {
   "cell_type": "code",
   "execution_count": 7,
   "id": "40b33b7d",
   "metadata": {
    "execution": {
     "iopub.execute_input": "2023-01-08T20:12:03.171277Z",
     "iopub.status.busy": "2023-01-08T20:12:03.170884Z",
     "iopub.status.idle": "2023-01-08T20:12:03.466995Z",
     "shell.execute_reply": "2023-01-08T20:12:03.465798Z"
    },
    "papermill": {
     "duration": 0.310966,
     "end_time": "2023-01-08T20:12:03.469599",
     "exception": false,
     "start_time": "2023-01-08T20:12:03.158633",
     "status": "completed"
    },
    "tags": []
   },
   "outputs": [
    {
     "data": {
      "text/plain": [
       "Text(0.5, 1.0, 'Distribution of housing prices in Boston')"
      ]
     },
     "execution_count": 7,
     "metadata": {},
     "output_type": "execute_result"
    },
    {
     "data": {
      "image/png": "[encoded data removed]",
      "text/plain": [
       "<Figure size 432x288 with 1 Axes>"
      ]
     },
     "metadata": {
      "needs_background": "light"
     },
     "output_type": "display_data"
    }
   ],
   "source": [
    "#fig, ax = plt.subplots(figsize = (15,6))\n",
    "plt.hist(df[\"MEDV\"], rwidth=0.9)\n",
    "plt.xlabel(\"Prices in 1000's [k] $\")\n",
    "plt.ylabel(\"Count\")\n",
    "plt.title(\"Distribution of housing prices in Boston\")"
   ]
  },
  {
   "cell_type": "code",
   "execution_count": 8,
   "id": "99033919",
   "metadata": {
    "execution": {
     "iopub.execute_input": "2023-01-08T20:12:03.493879Z",
     "iopub.status.busy": "2023-01-08T20:12:03.493414Z",
     "iopub.status.idle": "2023-01-08T20:12:03.522202Z",
     "shell.execute_reply": "2023-01-08T20:12:03.521031Z"
    },
    "papermill": {
     "duration": 0.043688,
     "end_time": "2023-01-08T20:12:03.524681",
     "exception": false,
     "start_time": "2023-01-08T20:12:03.480993",
     "status": "completed"
    },
    "tags": []
   },
   "outputs": [
    {
     "data": {
      "text/html": [
       "<div>\n",
       "<style scoped>\n",
       "    .dataframe tbody tr th:only-of-type {\n",
       "        vertical-align: middle;\n",
       "    }\n",
       "\n",
       "    .dataframe tbody tr th {\n",
       "        vertical-align: top;\n",
       "    }\n",
       "\n",
       "    .dataframe thead th {\n",
       "        text-align: right;\n",
       "    }\n",
       "</style>\n",
       "<table border=\"1\" class=\"dataframe\">\n",
       "  <thead>\n",
       "    <tr style=\"text-align: right;\">\n",
       "      <th></th>\n",
       "      <th>CRIM</th>\n",
       "      <th>ZN</th>\n",
       "      <th>INDUS</th>\n",
       "      <th>CHAS</th>\n",
       "      <th>NOX</th>\n",
       "      <th>RM</th>\n",
       "      <th>AGE</th>\n",
       "      <th>DIS</th>\n",
       "      <th>RAD</th>\n",
       "      <th>TAX</th>\n",
       "      <th>PTRATIO</th>\n",
       "      <th>B</th>\n",
       "      <th>LSTAT</th>\n",
       "      <th>MEDV</th>\n",
       "    </tr>\n",
       "  </thead>\n",
       "  <tbody>\n",
       "    <tr>\n",
       "      <th>CRIM</th>\n",
       "      <td>1.000000</td>\n",
       "      <td>-0.200469</td>\n",
       "      <td>0.406583</td>\n",
       "      <td>-0.055892</td>\n",
       "      <td>0.420972</td>\n",
       "      <td>-0.219247</td>\n",
       "      <td>0.352734</td>\n",
       "      <td>-0.379670</td>\n",
       "      <td>0.625505</td>\n",
       "      <td>0.582764</td>\n",
       "      <td>0.289946</td>\n",
       "      <td>-0.385064</td>\n",
       "      <td>0.455621</td>\n",
       "      <td>-0.388305</td>\n",
       "    </tr>\n",
       "    <tr>\n",
       "      <th>ZN</th>\n",
       "      <td>-0.200469</td>\n",
       "      <td>1.000000</td>\n",
       "      <td>-0.533828</td>\n",
       "      <td>-0.042697</td>\n",
       "      <td>-0.516604</td>\n",
       "      <td>0.311991</td>\n",
       "      <td>-0.569537</td>\n",
       "      <td>0.664408</td>\n",
       "      <td>-0.311948</td>\n",
       "      <td>-0.314563</td>\n",
       "      <td>-0.391679</td>\n",
       "      <td>0.175520</td>\n",
       "      <td>-0.412995</td>\n",
       "      <td>0.360445</td>\n",
       "    </tr>\n",
       "    <tr>\n",
       "      <th>INDUS</th>\n",
       "      <td>0.406583</td>\n",
       "      <td>-0.533828</td>\n",
       "      <td>1.000000</td>\n",
       "      <td>0.062938</td>\n",
       "      <td>0.763651</td>\n",
       "      <td>-0.391676</td>\n",
       "      <td>0.644779</td>\n",
       "      <td>-0.708027</td>\n",
       "      <td>0.595129</td>\n",
       "      <td>0.720760</td>\n",
       "      <td>0.383248</td>\n",
       "      <td>-0.356977</td>\n",
       "      <td>0.603800</td>\n",
       "      <td>-0.483725</td>\n",
       "    </tr>\n",
       "    <tr>\n",
       "      <th>CHAS</th>\n",
       "      <td>-0.055892</td>\n",
       "      <td>-0.042697</td>\n",
       "      <td>0.062938</td>\n",
       "      <td>1.000000</td>\n",
       "      <td>0.091203</td>\n",
       "      <td>0.091251</td>\n",
       "      <td>0.086518</td>\n",
       "      <td>-0.099176</td>\n",
       "      <td>-0.007368</td>\n",
       "      <td>-0.035587</td>\n",
       "      <td>-0.121515</td>\n",
       "      <td>0.048788</td>\n",
       "      <td>-0.053929</td>\n",
       "      <td>0.175260</td>\n",
       "    </tr>\n",
       "    <tr>\n",
       "      <th>NOX</th>\n",
       "      <td>0.420972</td>\n",
       "      <td>-0.516604</td>\n",
       "      <td>0.763651</td>\n",
       "      <td>0.091203</td>\n",
       "      <td>1.000000</td>\n",
       "      <td>-0.302188</td>\n",
       "      <td>0.731470</td>\n",
       "      <td>-0.769230</td>\n",
       "      <td>0.611441</td>\n",
       "      <td>0.668023</td>\n",
       "      <td>0.188933</td>\n",
       "      <td>-0.380051</td>\n",
       "      <td>0.590879</td>\n",
       "      <td>-0.427321</td>\n",
       "    </tr>\n",
       "    <tr>\n",
       "      <th>RM</th>\n",
       "      <td>-0.219247</td>\n",
       "      <td>0.311991</td>\n",
       "      <td>-0.391676</td>\n",
       "      <td>0.091251</td>\n",
       "      <td>-0.302188</td>\n",
       "      <td>1.000000</td>\n",
       "      <td>-0.240265</td>\n",
       "      <td>0.205246</td>\n",
       "      <td>-0.209847</td>\n",
       "      <td>-0.292048</td>\n",
       "      <td>-0.355501</td>\n",
       "      <td>0.128069</td>\n",
       "      <td>-0.613808</td>\n",
       "      <td>0.695360</td>\n",
       "    </tr>\n",
       "    <tr>\n",
       "      <th>AGE</th>\n",
       "      <td>0.352734</td>\n",
       "      <td>-0.569537</td>\n",
       "      <td>0.644779</td>\n",
       "      <td>0.086518</td>\n",
       "      <td>0.731470</td>\n",
       "      <td>-0.240265</td>\n",
       "      <td>1.000000</td>\n",
       "      <td>-0.747881</td>\n",
       "      <td>0.456022</td>\n",
       "      <td>0.506456</td>\n",
       "      <td>0.261515</td>\n",
       "      <td>-0.273534</td>\n",
       "      <td>0.602339</td>\n",
       "      <td>-0.376955</td>\n",
       "    </tr>\n",
       "    <tr>\n",
       "      <th>DIS</th>\n",
       "      <td>-0.379670</td>\n",
       "      <td>0.664408</td>\n",
       "      <td>-0.708027</td>\n",
       "      <td>-0.099176</td>\n",
       "      <td>-0.769230</td>\n",
       "      <td>0.205246</td>\n",
       "      <td>-0.747881</td>\n",
       "      <td>1.000000</td>\n",
       "      <td>-0.494588</td>\n",
       "      <td>-0.534432</td>\n",
       "      <td>-0.232471</td>\n",
       "      <td>0.291512</td>\n",
       "      <td>-0.496996</td>\n",
       "      <td>0.249929</td>\n",
       "    </tr>\n",
       "    <tr>\n",
       "      <th>RAD</th>\n",
       "      <td>0.625505</td>\n",
       "      <td>-0.311948</td>\n",
       "      <td>0.595129</td>\n",
       "      <td>-0.007368</td>\n",
       "      <td>0.611441</td>\n",
       "      <td>-0.209847</td>\n",
       "      <td>0.456022</td>\n",
       "      <td>-0.494588</td>\n",
       "      <td>1.000000</td>\n",
       "      <td>0.910228</td>\n",
       "      <td>0.464741</td>\n",
       "      <td>-0.444413</td>\n",
       "      <td>0.488676</td>\n",
       "      <td>-0.381626</td>\n",
       "    </tr>\n",
       "    <tr>\n",
       "      <th>TAX</th>\n",
       "      <td>0.582764</td>\n",
       "      <td>-0.314563</td>\n",
       "      <td>0.720760</td>\n",
       "      <td>-0.035587</td>\n",
       "      <td>0.668023</td>\n",
       "      <td>-0.292048</td>\n",
       "      <td>0.506456</td>\n",
       "      <td>-0.534432</td>\n",
       "      <td>0.910228</td>\n",
       "      <td>1.000000</td>\n",
       "      <td>0.460853</td>\n",
       "      <td>-0.441808</td>\n",
       "      <td>0.543993</td>\n",
       "      <td>-0.468536</td>\n",
       "    </tr>\n",
       "    <tr>\n",
       "      <th>PTRATIO</th>\n",
       "      <td>0.289946</td>\n",
       "      <td>-0.391679</td>\n",
       "      <td>0.383248</td>\n",
       "      <td>-0.121515</td>\n",
       "      <td>0.188933</td>\n",
       "      <td>-0.355501</td>\n",
       "      <td>0.261515</td>\n",
       "      <td>-0.232471</td>\n",
       "      <td>0.464741</td>\n",
       "      <td>0.460853</td>\n",
       "      <td>1.000000</td>\n",
       "      <td>-0.177383</td>\n",
       "      <td>0.374044</td>\n",
       "      <td>-0.507787</td>\n",
       "    </tr>\n",
       "    <tr>\n",
       "      <th>B</th>\n",
       "      <td>-0.385064</td>\n",
       "      <td>0.175520</td>\n",
       "      <td>-0.356977</td>\n",
       "      <td>0.048788</td>\n",
       "      <td>-0.380051</td>\n",
       "      <td>0.128069</td>\n",
       "      <td>-0.273534</td>\n",
       "      <td>0.291512</td>\n",
       "      <td>-0.444413</td>\n",
       "      <td>-0.441808</td>\n",
       "      <td>-0.177383</td>\n",
       "      <td>1.000000</td>\n",
       "      <td>-0.366087</td>\n",
       "      <td>0.333461</td>\n",
       "    </tr>\n",
       "    <tr>\n",
       "      <th>LSTAT</th>\n",
       "      <td>0.455621</td>\n",
       "      <td>-0.412995</td>\n",
       "      <td>0.603800</td>\n",
       "      <td>-0.053929</td>\n",
       "      <td>0.590879</td>\n",
       "      <td>-0.613808</td>\n",
       "      <td>0.602339</td>\n",
       "      <td>-0.496996</td>\n",
       "      <td>0.488676</td>\n",
       "      <td>0.543993</td>\n",
       "      <td>0.374044</td>\n",
       "      <td>-0.366087</td>\n",
       "      <td>1.000000</td>\n",
       "      <td>-0.737663</td>\n",
       "    </tr>\n",
       "    <tr>\n",
       "      <th>MEDV</th>\n",
       "      <td>-0.388305</td>\n",
       "      <td>0.360445</td>\n",
       "      <td>-0.483725</td>\n",
       "      <td>0.175260</td>\n",
       "      <td>-0.427321</td>\n",
       "      <td>0.695360</td>\n",
       "      <td>-0.376955</td>\n",
       "      <td>0.249929</td>\n",
       "      <td>-0.381626</td>\n",
       "      <td>-0.468536</td>\n",
       "      <td>-0.507787</td>\n",
       "      <td>0.333461</td>\n",
       "      <td>-0.737663</td>\n",
       "      <td>1.000000</td>\n",
       "    </tr>\n",
       "  </tbody>\n",
       "</table>\n",
       "</div>"
      ],
      "text/plain": [
       "             CRIM        ZN     INDUS      CHAS       NOX        RM       AGE  \\\n",
       "CRIM     1.000000 -0.200469  0.406583 -0.055892  0.420972 -0.219247  0.352734   \n",
       "ZN      -0.200469  1.000000 -0.533828 -0.042697 -0.516604  0.311991 -0.569537   \n",
       "INDUS    0.406583 -0.533828  1.000000  0.062938  0.763651 -0.391676  0.644779   \n",
       "CHAS    -0.055892 -0.042697  0.062938  1.000000  0.091203  0.091251  0.086518   \n",
       "NOX      0.420972 -0.516604  0.763651  0.091203  1.000000 -0.302188  0.731470   \n",
       "RM      -0.219247  0.311991 -0.391676  0.091251 -0.302188  1.000000 -0.240265   \n",
       "AGE      0.352734 -0.569537  0.644779  0.086518  0.731470 -0.240265  1.000000   \n",
       "DIS     -0.379670  0.664408 -0.708027 -0.099176 -0.769230  0.205246 -0.747881   \n",
       "RAD      0.625505 -0.311948  0.595129 -0.007368  0.611441 -0.209847  0.456022   \n",
       "TAX      0.582764 -0.314563  0.720760 -0.035587  0.668023 -0.292048  0.506456   \n",
       "PTRATIO  0.289946 -0.391679  0.383248 -0.121515  0.188933 -0.355501  0.261515   \n",
       "B       -0.385064  0.175520 -0.356977  0.048788 -0.380051  0.128069 -0.273534   \n",
       "LSTAT    0.455621 -0.412995  0.603800 -0.053929  0.590879 -0.613808  0.602339   \n",
       "MEDV    -0.388305  0.360445 -0.483725  0.175260 -0.427321  0.695360 -0.376955   \n",
       "\n",
       "              DIS       RAD       TAX   PTRATIO         B     LSTAT      MEDV  \n",
       "CRIM    -0.379670  0.625505  0.582764  0.289946 -0.385064  0.455621 -0.388305  \n",
       "ZN       0.664408 -0.311948 -0.314563 -0.391679  0.175520 -0.412995  0.360445  \n",
       "INDUS   -0.708027  0.595129  0.720760  0.383248 -0.356977  0.603800 -0.483725  \n",
       "CHAS    -0.099176 -0.007368 -0.035587 -0.121515  0.048788 -0.053929  0.175260  \n",
       "NOX     -0.769230  0.611441  0.668023  0.188933 -0.380051  0.590879 -0.427321  \n",
       "RM       0.205246 -0.209847 -0.292048 -0.355501  0.128069 -0.613808  0.695360  \n",
       "AGE     -0.747881  0.456022  0.506456  0.261515 -0.273534  0.602339 -0.376955  \n",
       "DIS      1.000000 -0.494588 -0.534432 -0.232471  0.291512 -0.496996  0.249929  \n",
       "RAD     -0.494588  1.000000  0.910228  0.464741 -0.444413  0.488676 -0.381626  \n",
       "TAX     -0.534432  0.910228  1.000000  0.460853 -0.441808  0.543993 -0.468536  \n",
       "PTRATIO -0.232471  0.464741  0.460853  1.000000 -0.177383  0.374044 -0.507787  \n",
       "B        0.291512 -0.444413 -0.441808 -0.177383  1.000000 -0.366087  0.333461  \n",
       "LSTAT   -0.496996  0.488676  0.543993  0.374044 -0.366087  1.000000 -0.737663  \n",
       "MEDV     0.249929 -0.381626 -0.468536 -0.507787  0.333461 -0.737663  1.000000  "
      ]
     },
     "execution_count": 8,
     "metadata": {},
     "output_type": "execute_result"
    }
   ],
   "source": [
    "#lets check the corelation between the variable\n",
    "corr = df.corr()\n",
    "corr"
   ]
  },
  {
   "cell_type": "code",
   "execution_count": 9,
   "id": "3056ccfa",
   "metadata": {
    "execution": {
     "iopub.execute_input": "2023-01-08T20:12:03.550018Z",
     "iopub.status.busy": "2023-01-08T20:12:03.549604Z",
     "iopub.status.idle": "2023-01-08T20:12:04.002088Z",
     "shell.execute_reply": "2023-01-08T20:12:04.001216Z"
    },
    "papermill": {
     "duration": 0.467827,
     "end_time": "2023-01-08T20:12:04.004232",
     "exception": false,
     "start_time": "2023-01-08T20:12:03.536405",
     "status": "completed"
    },
    "tags": []
   },
   "outputs": [
    {
     "data": {
      "text/plain": [
       "<AxesSubplot:>"
      ]
     },
     "execution_count": 9,
     "metadata": {},
     "output_type": "execute_result"
    },
    {
     "data": {
      "image/png": "[encoded data removed]",
      "text/plain": [
       "<Figure size 432x288 with 2 Axes>"
      ]
     },
     "metadata": {
      "needs_background": "light"
     },
     "output_type": "display_data"
    }
   ],
   "source": [
    "sns.heatmap(corr)"
   ]
  },
  {
   "cell_type": "code",
   "execution_count": 10,
   "id": "187fecbc",
   "metadata": {
    "execution": {
     "iopub.execute_input": "2023-01-08T20:12:04.031210Z",
     "iopub.status.busy": "2023-01-08T20:12:04.030293Z",
     "iopub.status.idle": "2023-01-08T20:12:04.043984Z",
     "shell.execute_reply": "2023-01-08T20:12:04.042426Z"
    },
    "papermill": {
     "duration": 0.029895,
     "end_time": "2023-01-08T20:12:04.046535",
     "exception": false,
     "start_time": "2023-01-08T20:12:04.016640",
     "status": "completed"
    },
    "tags": []
   },
   "outputs": [
    {
     "data": {
      "text/html": [
       "<div>\n",
       "<style scoped>\n",
       "    .dataframe tbody tr th:only-of-type {\n",
       "        vertical-align: middle;\n",
       "    }\n",
       "\n",
       "    .dataframe tbody tr th {\n",
       "        vertical-align: top;\n",
       "    }\n",
       "\n",
       "    .dataframe thead th {\n",
       "        text-align: right;\n",
       "    }\n",
       "</style>\n",
       "<table border=\"1\" class=\"dataframe\">\n",
       "  <thead>\n",
       "    <tr style=\"text-align: right;\">\n",
       "      <th></th>\n",
       "      <th>CRIM</th>\n",
       "      <th>MEDV</th>\n",
       "    </tr>\n",
       "  </thead>\n",
       "  <tbody>\n",
       "    <tr>\n",
       "      <th>CRIM</th>\n",
       "      <td>1.000000</td>\n",
       "      <td>-0.388305</td>\n",
       "    </tr>\n",
       "    <tr>\n",
       "      <th>MEDV</th>\n",
       "      <td>-0.388305</td>\n",
       "      <td>1.000000</td>\n",
       "    </tr>\n",
       "  </tbody>\n",
       "</table>\n",
       "</div>"
      ],
      "text/plain": [
       "          CRIM      MEDV\n",
       "CRIM  1.000000 -0.388305\n",
       "MEDV -0.388305  1.000000"
      ]
     },
     "execution_count": 10,
     "metadata": {},
     "output_type": "execute_result"
    }
   ],
   "source": [
    "df[[\"CRIM\", \"MEDV\"]].corr()"
   ]
  },
  {
   "cell_type": "code",
   "execution_count": 11,
   "id": "99fad9c7",
   "metadata": {
    "execution": {
     "iopub.execute_input": "2023-01-08T20:12:04.073785Z",
     "iopub.status.busy": "2023-01-08T20:12:04.072602Z",
     "iopub.status.idle": "2023-01-08T20:12:05.739107Z",
     "shell.execute_reply": "2023-01-08T20:12:05.737935Z"
    },
    "papermill": {
     "duration": 1.683315,
     "end_time": "2023-01-08T20:12:05.742204",
     "exception": false,
     "start_time": "2023-01-08T20:12:04.058889",
     "status": "completed"
    },
    "tags": []
   },
   "outputs": [
    {
     "data": {
      "image/png": "[encoded data removed]",
      "text/plain": [
       "<Figure size 1440x720 with 14 Axes>"
      ]
     },
     "metadata": {
      "needs_background": "light"
     },
     "output_type": "display_data"
    }
   ],
   "source": [
    "# find outliers using boxplot\n",
    "boston_df_rows = 2\n",
    "boston_df_cols = 7\n",
    "\n",
    "fig, ax = plt.subplots(nrows = boston_df_rows, ncols=boston_df_cols, figsize = (20,10) )\n",
    "index=0\n",
    "ax= ax.flatten()\n",
    "for col,value in df.items():\n",
    "    sns.boxplot(data = df, y= col, ax = ax[index])\n",
    "    index += 1\n",
    "plt.tight_layout(pad = 0.5,w_pad =0.7 , h_pad =5)\n"
   ]
  },
  {
   "cell_type": "code",
   "execution_count": 12,
   "id": "862a832a",
   "metadata": {
    "execution": {
     "iopub.execute_input": "2023-01-08T20:12:05.771891Z",
     "iopub.status.busy": "2023-01-08T20:12:05.771199Z",
     "iopub.status.idle": "2023-01-08T20:12:06.108113Z",
     "shell.execute_reply": "2023-01-08T20:12:06.106945Z"
    },
    "papermill": {
     "duration": 0.354479,
     "end_time": "2023-01-08T20:12:06.110513",
     "exception": false,
     "start_time": "2023-01-08T20:12:05.756034",
     "status": "completed"
    },
    "tags": []
   },
   "outputs": [
    {
     "data": {
      "text/plain": [
       "<AxesSubplot:>"
      ]
     },
     "execution_count": 12,
     "metadata": {},
     "output_type": "execute_result"
    },
    {
     "data": {
      "image/png": "[encoded data removed]",
      "text/plain": [
       "<Figure size 432x288 with 1 Axes>"
      ]
     },
     "metadata": {
      "needs_background": "light"
     },
     "output_type": "display_data"
    }
   ],
   "source": [
    "#Check the outliers\n",
    "#sns.boxplot(df[\"CRIM\"], vert=False)\n",
    "df[\"CRIM\"].plot(kind=\"box\", vert=False)"
   ]
  },
  {
   "cell_type": "code",
   "execution_count": 13,
   "id": "574e8a93",
   "metadata": {
    "execution": {
     "iopub.execute_input": "2023-01-08T20:12:06.139983Z",
     "iopub.status.busy": "2023-01-08T20:12:06.139568Z",
     "iopub.status.idle": "2023-01-08T20:12:06.146572Z",
     "shell.execute_reply": "2023-01-08T20:12:06.145257Z"
    },
    "papermill": {
     "duration": 0.024479,
     "end_time": "2023-01-08T20:12:06.148833",
     "exception": false,
     "start_time": "2023-01-08T20:12:06.124354",
     "status": "completed"
    },
    "tags": []
   },
   "outputs": [
    {
     "data": {
      "text/plain": [
       "Index(['CRIM', 'ZN', 'INDUS', 'CHAS', 'NOX', 'RM', 'AGE', 'DIS', 'RAD', 'TAX',\n",
       "       'PTRATIO', 'B', 'LSTAT', 'MEDV'],\n",
       "      dtype='object')"
      ]
     },
     "execution_count": 13,
     "metadata": {},
     "output_type": "execute_result"
    }
   ],
   "source": [
    "df.columns"
   ]
  },
  {
   "cell_type": "code",
   "execution_count": 14,
   "id": "e994171a",
   "metadata": {
    "execution": {
     "iopub.execute_input": "2023-01-08T20:12:06.178747Z",
     "iopub.status.busy": "2023-01-08T20:12:06.178072Z",
     "iopub.status.idle": "2023-01-08T20:12:06.557551Z",
     "shell.execute_reply": "2023-01-08T20:12:06.556341Z"
    },
    "papermill": {
     "duration": 0.3977,
     "end_time": "2023-01-08T20:12:06.560074",
     "exception": false,
     "start_time": "2023-01-08T20:12:06.162374",
     "status": "completed"
    },
    "tags": []
   },
   "outputs": [
    {
     "data": {
      "image/png": "[encoded data removed]",
      "text/plain": [
       "<Figure size 432x288 with 1 Axes>"
      ]
     },
     "metadata": {
      "needs_background": "light"
     },
     "output_type": "display_data"
    }
   ],
   "source": [
    "for col in df.columns:\n",
    "    plt.boxplot(df[col])"
   ]
  },
  {
   "cell_type": "code",
   "execution_count": 15,
   "id": "38716d57",
   "metadata": {
    "execution": {
     "iopub.execute_input": "2023-01-08T20:12:06.592407Z",
     "iopub.status.busy": "2023-01-08T20:12:06.591329Z",
     "iopub.status.idle": "2023-01-08T20:12:06.596241Z",
     "shell.execute_reply": "2023-01-08T20:12:06.595183Z"
    },
    "papermill": {
     "duration": 0.023698,
     "end_time": "2023-01-08T20:12:06.598270",
     "exception": false,
     "start_time": "2023-01-08T20:12:06.574572",
     "status": "completed"
    },
    "tags": []
   },
   "outputs": [],
   "source": [
    "# # Create a figure and a set of subplots\n",
    "# fig, ax = plt.subplots(1, len(df.columns), figsize=(10, 5))\n",
    "\n",
    "# # Loop through the columns and plot the boxplot for each column\n",
    "# for i, col in df.columns:\n",
    "#     df[col].plot(kind='box', ax=ax[i])\n",
    "\n",
    "# # Show the plot\n",
    "# #plt.show()"
   ]
  },
  {
   "cell_type": "code",
   "execution_count": 16,
   "id": "3f03c83f",
   "metadata": {
    "execution": {
     "iopub.execute_input": "2023-01-08T20:12:06.628233Z",
     "iopub.status.busy": "2023-01-08T20:12:06.627823Z",
     "iopub.status.idle": "2023-01-08T20:12:06.994355Z",
     "shell.execute_reply": "2023-01-08T20:12:06.993252Z"
    },
    "papermill": {
     "duration": 0.384666,
     "end_time": "2023-01-08T20:12:06.996995",
     "exception": false,
     "start_time": "2023-01-08T20:12:06.612329",
     "status": "completed"
    },
    "tags": []
   },
   "outputs": [
    {
     "data": {
      "image/png": "[encoded data removed]",
      "text/plain": [
       "<Figure size 1080x432 with 1 Axes>"
      ]
     },
     "metadata": {
      "needs_background": "light"
     },
     "output_type": "display_data"
    }
   ],
   "source": [
    "fig, ax = plt.subplots(figsize = (15,6))\n",
    "df.boxplot(ax=ax)\n",
    "plt.show()"
   ]
  },
  {
   "cell_type": "code",
   "execution_count": 17,
   "id": "d555c944",
   "metadata": {
    "execution": {
     "iopub.execute_input": "2023-01-08T20:12:07.028127Z",
     "iopub.status.busy": "2023-01-08T20:12:07.027731Z",
     "iopub.status.idle": "2023-01-08T20:12:09.423184Z",
     "shell.execute_reply": "2023-01-08T20:12:09.422288Z"
    },
    "papermill": {
     "duration": 2.413583,
     "end_time": "2023-01-08T20:12:09.425493",
     "exception": false,
     "start_time": "2023-01-08T20:12:07.011910",
     "status": "completed"
    },
    "tags": []
   },
   "outputs": [
    {
     "data": {
      "image/png": "[encoded data removed]",
      "text/plain": [
       "<Figure size 432x288 with 1 Axes>"
      ]
     },
     "metadata": {
      "needs_background": "light"
     },
     "output_type": "display_data"
    },
    {
     "data": {
      "image/png": "[encoded data removed]",
      "text/plain": [
       "<Figure size 432x288 with 1 Axes>"
      ]
     },
     "metadata": {
      "needs_background": "light"
     },
     "output_type": "display_data"
    },
    {
     "data": {
      "image/png": "[encoded data removed]",
      "text/plain": [
       "<Figure size 432x288 with 1 Axes>"
      ]
     },
     "metadata": {
      "needs_background": "light"
     },
     "output_type": "display_data"
    },
    {
     "data": {
      "image/png": "[encoded data removed]",
      "text/plain": [
       "<Figure size 432x288 with 1 Axes>"
      ]
     },
     "metadata": {
      "needs_background": "light"
     },
     "output_type": "display_data"
    },
    {
     "data": {
      "image/png": "[encoded data removed]",
      "text/plain": [
       "<Figure size 432x288 with 1 Axes>"
      ]
     },
     "metadata": {
      "needs_background": "light"
     },
     "output_type": "display_data"
    },
    {
     "data": {
      "image/png": "[encoded data removed]",
      "text/plain": [
       "<Figure size 432x288 with 1 Axes>"
      ]
     },
     "metadata": {
      "needs_background": "light"
     },
     "output_type": "display_data"
    },
    {
     "data": {
      "image/png": "[encoded data removed]",
      "text/plain": [
       "<Figure size 432x288 with 1 Axes>"
      ]
     },
     "metadata": {
      "needs_background": "light"
     },
     "output_type": "display_data"
    },
    {
     "data": {
      "image/png": "[encoded data removed]",
      "text/plain": [
       "<Figure size 432x288 with 1 Axes>"
      ]
     },
     "metadata": {
      "needs_background": "light"
     },
     "output_type": "display_data"
    },
    {
     "data": {
      "image/png": "[encoded data removed]",
      "text/plain": [
       "<Figure size 432x288 with 1 Axes>"
      ]
     },
     "metadata": {
      "needs_background": "light"
     },
     "output_type": "display_data"
    },
    {
     "data": {
      "image/png": "[encoded data removed]",
      "text/plain": [
       "<Figure size 432x288 with 1 Axes>"
      ]
     },
     "metadata": {
      "needs_background": "light"
     },
     "output_type": "display_data"
    },
    {
     "data": {
      "image/png": "[encoded data removed]",
      "text/plain": [
       "<Figure size 432x288 with 1 Axes>"
      ]
     },
     "metadata": {
      "needs_background": "light"
     },
     "output_type": "display_data"
    },
    {
     "data": {
      "image/png": "[encoded data removed]",
      "text/plain": [
       "<Figure size 432x288 with 1 Axes>"
      ]
     },
     "metadata": {
      "needs_background": "light"
     },
     "output_type": "display_data"
    },
    {
     "data": {
      "image/png": "[encoded data removed]",
      "text/plain": [
       "<Figure size 432x288 with 1 Axes>"
      ]
     },
     "metadata": {
      "needs_background": "light"
     },
     "output_type": "display_data"
    },
    {
     "data": {
      "image/png": "[encoded data removed]",
      "text/plain": [
       "<Figure size 432x288 with 1 Axes>"
      ]
     },
     "metadata": {
      "needs_background": "light"
     },
     "output_type": "display_data"
    }
   ],
   "source": [
    "for col in df.columns:\n",
    "    df[col].plot(kind=\"box\")\n",
    "    plt.show()"
   ]
  },
  {
   "cell_type": "code",
   "execution_count": 18,
   "id": "8765fecb",
   "metadata": {
    "execution": {
     "iopub.execute_input": "2023-01-08T20:12:09.462241Z",
     "iopub.status.busy": "2023-01-08T20:12:09.460959Z",
     "iopub.status.idle": "2023-01-08T20:12:09.468611Z",
     "shell.execute_reply": "2023-01-08T20:12:09.467390Z"
    },
    "papermill": {
     "duration": 0.029209,
     "end_time": "2023-01-08T20:12:09.471496",
     "exception": false,
     "start_time": "2023-01-08T20:12:09.442287",
     "status": "completed"
    },
    "tags": []
   },
   "outputs": [],
   "source": [
    "#remove the outliers\n",
    "def wrangle(filepath):\n",
    "    df = pd.read_csv(filepath)\n",
    "#     df = df[\"CRIM\"] < 50\n",
    "#     df = df[\"ZN\"] < 85\n",
    "#     df = df[\"DIS\"] < 10\n",
    "#     df = df[\"PTRATIO\"] > 14\n",
    "#     df = df[\"LSTAT\"] < 35\n",
    "    mask_crim = df[\"CRIM\"] < 50\n",
    "    mask_zn = df[\"ZN\"] < 85\n",
    "    mask_dis = df[\"DIS\"] < 10\n",
    "    mask_ptration = df[\"PTRATIO\"] > 14\n",
    "    mas_lstat = df[\"LSTAT\"] < 35\n",
    "    df = df[mask_crim & mask_zn & mask_dis & mask_ptration & mas_lstat]\n",
    "    return df"
   ]
  },
  {
   "cell_type": "code",
   "execution_count": 19,
   "id": "bdb07bb3",
   "metadata": {
    "execution": {
     "iopub.execute_input": "2023-01-08T20:12:09.507026Z",
     "iopub.status.busy": "2023-01-08T20:12:09.506584Z",
     "iopub.status.idle": "2023-01-08T20:12:09.535821Z",
     "shell.execute_reply": "2023-01-08T20:12:09.534990Z"
    },
    "papermill": {
     "duration": 0.04934,
     "end_time": "2023-01-08T20:12:09.537925",
     "exception": false,
     "start_time": "2023-01-08T20:12:09.488585",
     "status": "completed"
    },
    "tags": []
   },
   "outputs": [
    {
     "data": {
      "text/html": [
       "<div>\n",
       "<style scoped>\n",
       "    .dataframe tbody tr th:only-of-type {\n",
       "        vertical-align: middle;\n",
       "    }\n",
       "\n",
       "    .dataframe tbody tr th {\n",
       "        vertical-align: top;\n",
       "    }\n",
       "\n",
       "    .dataframe thead th {\n",
       "        text-align: right;\n",
       "    }\n",
       "</style>\n",
       "<table border=\"1\" class=\"dataframe\">\n",
       "  <thead>\n",
       "    <tr style=\"text-align: right;\">\n",
       "      <th></th>\n",
       "      <th>CRIM</th>\n",
       "      <th>ZN</th>\n",
       "      <th>INDUS</th>\n",
       "      <th>CHAS</th>\n",
       "      <th>NOX</th>\n",
       "      <th>RM</th>\n",
       "      <th>AGE</th>\n",
       "      <th>DIS</th>\n",
       "      <th>RAD</th>\n",
       "      <th>TAX</th>\n",
       "      <th>PTRATIO</th>\n",
       "      <th>B</th>\n",
       "      <th>LSTAT</th>\n",
       "      <th>MEDV</th>\n",
       "    </tr>\n",
       "  </thead>\n",
       "  <tbody>\n",
       "    <tr>\n",
       "      <th>0</th>\n",
       "      <td>0.00632</td>\n",
       "      <td>18.0</td>\n",
       "      <td>2.31</td>\n",
       "      <td>0</td>\n",
       "      <td>0.538</td>\n",
       "      <td>6.575</td>\n",
       "      <td>65.2</td>\n",
       "      <td>4.0900</td>\n",
       "      <td>1</td>\n",
       "      <td>296.0</td>\n",
       "      <td>15.3</td>\n",
       "      <td>396.90</td>\n",
       "      <td>4.98</td>\n",
       "      <td>24.0</td>\n",
       "    </tr>\n",
       "    <tr>\n",
       "      <th>1</th>\n",
       "      <td>0.02731</td>\n",
       "      <td>0.0</td>\n",
       "      <td>7.07</td>\n",
       "      <td>0</td>\n",
       "      <td>0.469</td>\n",
       "      <td>6.421</td>\n",
       "      <td>78.9</td>\n",
       "      <td>4.9671</td>\n",
       "      <td>2</td>\n",
       "      <td>242.0</td>\n",
       "      <td>17.8</td>\n",
       "      <td>396.90</td>\n",
       "      <td>9.14</td>\n",
       "      <td>21.6</td>\n",
       "    </tr>\n",
       "    <tr>\n",
       "      <th>2</th>\n",
       "      <td>0.02729</td>\n",
       "      <td>0.0</td>\n",
       "      <td>7.07</td>\n",
       "      <td>0</td>\n",
       "      <td>0.469</td>\n",
       "      <td>7.185</td>\n",
       "      <td>61.1</td>\n",
       "      <td>4.9671</td>\n",
       "      <td>2</td>\n",
       "      <td>242.0</td>\n",
       "      <td>17.8</td>\n",
       "      <td>392.83</td>\n",
       "      <td>4.03</td>\n",
       "      <td>34.7</td>\n",
       "    </tr>\n",
       "    <tr>\n",
       "      <th>3</th>\n",
       "      <td>0.03237</td>\n",
       "      <td>0.0</td>\n",
       "      <td>2.18</td>\n",
       "      <td>0</td>\n",
       "      <td>0.458</td>\n",
       "      <td>6.998</td>\n",
       "      <td>45.8</td>\n",
       "      <td>6.0622</td>\n",
       "      <td>3</td>\n",
       "      <td>222.0</td>\n",
       "      <td>18.7</td>\n",
       "      <td>394.63</td>\n",
       "      <td>2.94</td>\n",
       "      <td>33.4</td>\n",
       "    </tr>\n",
       "    <tr>\n",
       "      <th>4</th>\n",
       "      <td>0.06905</td>\n",
       "      <td>0.0</td>\n",
       "      <td>2.18</td>\n",
       "      <td>0</td>\n",
       "      <td>0.458</td>\n",
       "      <td>7.147</td>\n",
       "      <td>54.2</td>\n",
       "      <td>6.0622</td>\n",
       "      <td>3</td>\n",
       "      <td>222.0</td>\n",
       "      <td>18.7</td>\n",
       "      <td>396.90</td>\n",
       "      <td>5.33</td>\n",
       "      <td>36.2</td>\n",
       "    </tr>\n",
       "  </tbody>\n",
       "</table>\n",
       "</div>"
      ],
      "text/plain": [
       "      CRIM    ZN  INDUS  CHAS    NOX     RM   AGE     DIS  RAD    TAX  \\\n",
       "0  0.00632  18.0   2.31     0  0.538  6.575  65.2  4.0900    1  296.0   \n",
       "1  0.02731   0.0   7.07     0  0.469  6.421  78.9  4.9671    2  242.0   \n",
       "2  0.02729   0.0   7.07     0  0.469  7.185  61.1  4.9671    2  242.0   \n",
       "3  0.03237   0.0   2.18     0  0.458  6.998  45.8  6.0622    3  222.0   \n",
       "4  0.06905   0.0   2.18     0  0.458  7.147  54.2  6.0622    3  222.0   \n",
       "\n",
       "   PTRATIO       B  LSTAT  MEDV  \n",
       "0     15.3  396.90   4.98  24.0  \n",
       "1     17.8  396.90   9.14  21.6  \n",
       "2     17.8  392.83   4.03  34.7  \n",
       "3     18.7  394.63   2.94  33.4  \n",
       "4     18.7  396.90   5.33  36.2  "
      ]
     },
     "execution_count": 19,
     "metadata": {},
     "output_type": "execute_result"
    }
   ],
   "source": [
    "df = wrangle(\"/kaggle/input/the-boston-houseprice-data/boston.csv\")\n",
    "df.head()"
   ]
  },
  {
   "cell_type": "code",
   "execution_count": 20,
   "id": "805af6b3",
   "metadata": {
    "execution": {
     "iopub.execute_input": "2023-01-08T20:12:09.573784Z",
     "iopub.status.busy": "2023-01-08T20:12:09.573023Z",
     "iopub.status.idle": "2023-01-08T20:12:09.593451Z",
     "shell.execute_reply": "2023-01-08T20:12:09.592621Z"
    },
    "papermill": {
     "duration": 0.040667,
     "end_time": "2023-01-08T20:12:09.595587",
     "exception": false,
     "start_time": "2023-01-08T20:12:09.554920",
     "status": "completed"
    },
    "tags": []
   },
   "outputs": [
    {
     "data": {
      "text/html": [
       "<div>\n",
       "<style scoped>\n",
       "    .dataframe tbody tr th:only-of-type {\n",
       "        vertical-align: middle;\n",
       "    }\n",
       "\n",
       "    .dataframe tbody tr th {\n",
       "        vertical-align: top;\n",
       "    }\n",
       "\n",
       "    .dataframe thead th {\n",
       "        text-align: right;\n",
       "    }\n",
       "</style>\n",
       "<table border=\"1\" class=\"dataframe\">\n",
       "  <thead>\n",
       "    <tr style=\"text-align: right;\">\n",
       "      <th></th>\n",
       "      <th>CRIM</th>\n",
       "      <th>ZN</th>\n",
       "      <th>INDUS</th>\n",
       "      <th>CHAS</th>\n",
       "      <th>NOX</th>\n",
       "      <th>RM</th>\n",
       "      <th>AGE</th>\n",
       "      <th>DIS</th>\n",
       "      <th>RAD</th>\n",
       "      <th>TAX</th>\n",
       "      <th>PTRATIO</th>\n",
       "      <th>B</th>\n",
       "      <th>LSTAT</th>\n",
       "      <th>MEDV</th>\n",
       "    </tr>\n",
       "  </thead>\n",
       "  <tbody>\n",
       "    <tr>\n",
       "      <th>501</th>\n",
       "      <td>0.06263</td>\n",
       "      <td>0.0</td>\n",
       "      <td>11.93</td>\n",
       "      <td>0</td>\n",
       "      <td>0.573</td>\n",
       "      <td>6.593</td>\n",
       "      <td>69.1</td>\n",
       "      <td>2.4786</td>\n",
       "      <td>1</td>\n",
       "      <td>273.0</td>\n",
       "      <td>21.0</td>\n",
       "      <td>391.99</td>\n",
       "      <td>9.67</td>\n",
       "      <td>22.4</td>\n",
       "    </tr>\n",
       "    <tr>\n",
       "      <th>502</th>\n",
       "      <td>0.04527</td>\n",
       "      <td>0.0</td>\n",
       "      <td>11.93</td>\n",
       "      <td>0</td>\n",
       "      <td>0.573</td>\n",
       "      <td>6.120</td>\n",
       "      <td>76.7</td>\n",
       "      <td>2.2875</td>\n",
       "      <td>1</td>\n",
       "      <td>273.0</td>\n",
       "      <td>21.0</td>\n",
       "      <td>396.90</td>\n",
       "      <td>9.08</td>\n",
       "      <td>20.6</td>\n",
       "    </tr>\n",
       "    <tr>\n",
       "      <th>503</th>\n",
       "      <td>0.06076</td>\n",
       "      <td>0.0</td>\n",
       "      <td>11.93</td>\n",
       "      <td>0</td>\n",
       "      <td>0.573</td>\n",
       "      <td>6.976</td>\n",
       "      <td>91.0</td>\n",
       "      <td>2.1675</td>\n",
       "      <td>1</td>\n",
       "      <td>273.0</td>\n",
       "      <td>21.0</td>\n",
       "      <td>396.90</td>\n",
       "      <td>5.64</td>\n",
       "      <td>23.9</td>\n",
       "    </tr>\n",
       "    <tr>\n",
       "      <th>504</th>\n",
       "      <td>0.10959</td>\n",
       "      <td>0.0</td>\n",
       "      <td>11.93</td>\n",
       "      <td>0</td>\n",
       "      <td>0.573</td>\n",
       "      <td>6.794</td>\n",
       "      <td>89.3</td>\n",
       "      <td>2.3889</td>\n",
       "      <td>1</td>\n",
       "      <td>273.0</td>\n",
       "      <td>21.0</td>\n",
       "      <td>393.45</td>\n",
       "      <td>6.48</td>\n",
       "      <td>22.0</td>\n",
       "    </tr>\n",
       "    <tr>\n",
       "      <th>505</th>\n",
       "      <td>0.04741</td>\n",
       "      <td>0.0</td>\n",
       "      <td>11.93</td>\n",
       "      <td>0</td>\n",
       "      <td>0.573</td>\n",
       "      <td>6.030</td>\n",
       "      <td>80.8</td>\n",
       "      <td>2.5050</td>\n",
       "      <td>1</td>\n",
       "      <td>273.0</td>\n",
       "      <td>21.0</td>\n",
       "      <td>396.90</td>\n",
       "      <td>7.88</td>\n",
       "      <td>11.9</td>\n",
       "    </tr>\n",
       "  </tbody>\n",
       "</table>\n",
       "</div>"
      ],
      "text/plain": [
       "        CRIM   ZN  INDUS  CHAS    NOX     RM   AGE     DIS  RAD    TAX  \\\n",
       "501  0.06263  0.0  11.93     0  0.573  6.593  69.1  2.4786    1  273.0   \n",
       "502  0.04527  0.0  11.93     0  0.573  6.120  76.7  2.2875    1  273.0   \n",
       "503  0.06076  0.0  11.93     0  0.573  6.976  91.0  2.1675    1  273.0   \n",
       "504  0.10959  0.0  11.93     0  0.573  6.794  89.3  2.3889    1  273.0   \n",
       "505  0.04741  0.0  11.93     0  0.573  6.030  80.8  2.5050    1  273.0   \n",
       "\n",
       "     PTRATIO       B  LSTAT  MEDV  \n",
       "501     21.0  391.99   9.67  22.4  \n",
       "502     21.0  396.90   9.08  20.6  \n",
       "503     21.0  396.90   5.64  23.9  \n",
       "504     21.0  393.45   6.48  22.0  \n",
       "505     21.0  396.90   7.88  11.9  "
      ]
     },
     "execution_count": 20,
     "metadata": {},
     "output_type": "execute_result"
    }
   ],
   "source": [
    "df.tail()"
   ]
  },
  {
   "cell_type": "code",
   "execution_count": 21,
   "id": "a22a1fba",
   "metadata": {
    "execution": {
     "iopub.execute_input": "2023-01-08T20:12:09.632801Z",
     "iopub.status.busy": "2023-01-08T20:12:09.632051Z",
     "iopub.status.idle": "2023-01-08T20:12:09.638766Z",
     "shell.execute_reply": "2023-01-08T20:12:09.637679Z"
    },
    "papermill": {
     "duration": 0.028164,
     "end_time": "2023-01-08T20:12:09.641093",
     "exception": false,
     "start_time": "2023-01-08T20:12:09.612929",
     "status": "completed"
    },
    "tags": []
   },
   "outputs": [
    {
     "data": {
      "text/plain": [
       "(469, 14)"
      ]
     },
     "execution_count": 21,
     "metadata": {},
     "output_type": "execute_result"
    }
   ],
   "source": [
    "df.shape"
   ]
  },
  {
   "cell_type": "code",
   "execution_count": 22,
   "id": "1210a2fe",
   "metadata": {
    "execution": {
     "iopub.execute_input": "2023-01-08T20:12:09.677591Z",
     "iopub.status.busy": "2023-01-08T20:12:09.677187Z",
     "iopub.status.idle": "2023-01-08T20:12:09.683715Z",
     "shell.execute_reply": "2023-01-08T20:12:09.682499Z"
    },
    "papermill": {
     "duration": 0.027632,
     "end_time": "2023-01-08T20:12:09.685908",
     "exception": false,
     "start_time": "2023-01-08T20:12:09.658276",
     "status": "completed"
    },
    "tags": []
   },
   "outputs": [],
   "source": [
    "target = \"MEDV\"\n",
    "y = df[target]\n",
    "X = df.drop(columns = target)"
   ]
  },
  {
   "cell_type": "code",
   "execution_count": 23,
   "id": "0680a3d4",
   "metadata": {
    "execution": {
     "iopub.execute_input": "2023-01-08T20:12:09.722093Z",
     "iopub.status.busy": "2023-01-08T20:12:09.721675Z",
     "iopub.status.idle": "2023-01-08T20:12:09.727848Z",
     "shell.execute_reply": "2023-01-08T20:12:09.726737Z"
    },
    "papermill": {
     "duration": 0.027533,
     "end_time": "2023-01-08T20:12:09.730520",
     "exception": false,
     "start_time": "2023-01-08T20:12:09.702987",
     "status": "completed"
    },
    "tags": []
   },
   "outputs": [],
   "source": [
    "cutt_off = int(len(X) * 0.8)\n",
    "\n",
    "X_train, y_train = X.iloc[:cutt_off], y.iloc[:cutt_off]\n",
    "X_test, y_test = X.iloc[cutt_off:], y.iloc[cutt_off:]"
   ]
  },
  {
   "cell_type": "code",
   "execution_count": 24,
   "id": "70863047",
   "metadata": {
    "execution": {
     "iopub.execute_input": "2023-01-08T20:12:09.768927Z",
     "iopub.status.busy": "2023-01-08T20:12:09.768501Z",
     "iopub.status.idle": "2023-01-08T20:12:10.059147Z",
     "shell.execute_reply": "2023-01-08T20:12:10.057956Z"
    },
    "papermill": {
     "duration": 0.313432,
     "end_time": "2023-01-08T20:12:10.062054",
     "exception": false,
     "start_time": "2023-01-08T20:12:09.748622",
     "status": "completed"
    },
    "tags": []
   },
   "outputs": [],
   "source": [
    "#from imputer import SimpleImputer\n",
    "from category_encoders import OneHotEncoder\n",
    "from sklearn.pipeline import make_pipeline\n",
    "from sklearn.impute import SimpleImputer"
   ]
  },
  {
   "cell_type": "code",
   "execution_count": 25,
   "id": "7128e428",
   "metadata": {
    "execution": {
     "iopub.execute_input": "2023-01-08T20:12:10.098817Z",
     "iopub.status.busy": "2023-01-08T20:12:10.098385Z",
     "iopub.status.idle": "2023-01-08T20:12:10.103863Z",
     "shell.execute_reply": "2023-01-08T20:12:10.102671Z"
    },
    "papermill": {
     "duration": 0.026706,
     "end_time": "2023-01-08T20:12:10.106272",
     "exception": false,
     "start_time": "2023-01-08T20:12:10.079566",
     "status": "completed"
    },
    "tags": []
   },
   "outputs": [],
   "source": [
    "model = make_pipeline(\n",
    "    SimpleImputer(),\n",
    "    LinearRegression()\n",
    ")"
   ]
  },
  {
   "cell_type": "code",
   "execution_count": 26,
   "id": "9cf7d0b7",
   "metadata": {
    "execution": {
     "iopub.execute_input": "2023-01-08T20:12:10.143609Z",
     "iopub.status.busy": "2023-01-08T20:12:10.142786Z",
     "iopub.status.idle": "2023-01-08T20:12:10.177601Z",
     "shell.execute_reply": "2023-01-08T20:12:10.176378Z"
    },
    "papermill": {
     "duration": 0.056043,
     "end_time": "2023-01-08T20:12:10.180160",
     "exception": false,
     "start_time": "2023-01-08T20:12:10.124117",
     "status": "completed"
    },
    "tags": []
   },
   "outputs": [
    {
     "data": {
      "text/plain": [
       "Pipeline(steps=[('simpleimputer', SimpleImputer()),\n",
       "                ('linearregression', LinearRegression())])"
      ]
     },
     "execution_count": 26,
     "metadata": {},
     "output_type": "execute_result"
    }
   ],
   "source": [
    "model.fit(X_train, y_train)"
   ]
  },
  {
   "cell_type": "markdown",
   "id": "f8f930a5",
   "metadata": {
    "papermill": {
     "duration": 0.017716,
     "end_time": "2023-01-08T20:12:10.215126",
     "exception": false,
     "start_time": "2023-01-08T20:12:10.197410",
     "status": "completed"
    },
    "tags": []
   },
   "source": [
    "Baseline model"
   ]
  },
  {
   "cell_type": "code",
   "execution_count": 27,
   "id": "63e707fe",
   "metadata": {
    "execution": {
     "iopub.execute_input": "2023-01-08T20:12:10.251394Z",
     "iopub.status.busy": "2023-01-08T20:12:10.251009Z",
     "iopub.status.idle": "2023-01-08T20:12:10.259624Z",
     "shell.execute_reply": "2023-01-08T20:12:10.258063Z"
    },
    "papermill": {
     "duration": 0.029982,
     "end_time": "2023-01-08T20:12:10.262546",
     "exception": false,
     "start_time": "2023-01-08T20:12:10.232564",
     "status": "completed"
    },
    "tags": []
   },
   "outputs": [
    {
     "name": "stdout",
     "output_type": "stream",
     "text": [
      "6.159035733333333 23.293066666666665\n"
     ]
    }
   ],
   "source": [
    "y_pred_baseline = [y_train.mean()] * len(y_train)\n",
    "mae_baseline = mean_absolute_error(y_train, y_pred_baseline)\n",
    "print(mae_baseline, y_train.mean())"
   ]
  },
  {
   "cell_type": "code",
   "execution_count": 28,
   "id": "9cf237bc",
   "metadata": {
    "execution": {
     "iopub.execute_input": "2023-01-08T20:12:10.299855Z",
     "iopub.status.busy": "2023-01-08T20:12:10.299410Z",
     "iopub.status.idle": "2023-01-08T20:12:10.310453Z",
     "shell.execute_reply": "2023-01-08T20:12:10.308791Z"
    },
    "papermill": {
     "duration": 0.032377,
     "end_time": "2023-01-08T20:12:10.313017",
     "exception": false,
     "start_time": "2023-01-08T20:12:10.280640",
     "status": "completed"
    },
    "tags": []
   },
   "outputs": [
    {
     "name": "stdout",
     "output_type": "stream",
     "text": [
      "3.295671108037871\n"
     ]
    }
   ],
   "source": [
    "y_pred_training = model.predict(X_train)\n",
    "mae_training = mean_absolute_error(y_train, y_pred_training)\n",
    "print(mae_training)"
   ]
  },
  {
   "cell_type": "markdown",
   "id": "85bdfccf",
   "metadata": {
    "papermill": {
     "duration": 0.018101,
     "end_time": "2023-01-08T20:12:10.349283",
     "exception": false,
     "start_time": "2023-01-08T20:12:10.331182",
     "status": "completed"
    },
    "tags": []
   },
   "source": [
    "Test with the test data"
   ]
  },
  {
   "cell_type": "code",
   "execution_count": 29,
   "id": "e7094317",
   "metadata": {
    "execution": {
     "iopub.execute_input": "2023-01-08T20:12:10.387228Z",
     "iopub.status.busy": "2023-01-08T20:12:10.386062Z",
     "iopub.status.idle": "2023-01-08T20:12:10.396220Z",
     "shell.execute_reply": "2023-01-08T20:12:10.394566Z"
    },
    "papermill": {
     "duration": 0.032822,
     "end_time": "2023-01-08T20:12:10.399457",
     "exception": false,
     "start_time": "2023-01-08T20:12:10.366635",
     "status": "completed"
    },
    "tags": []
   },
   "outputs": [
    {
     "name": "stdout",
     "output_type": "stream",
     "text": [
      "4.771347665137425\n"
     ]
    }
   ],
   "source": [
    "y_pred_test = model.predict(X_test)\n",
    "mae_test = mean_absolute_error(y_test, y_pred_test)\n",
    "print(mae_test)"
   ]
  },
  {
   "cell_type": "code",
   "execution_count": 30,
   "id": "e48c1ab0",
   "metadata": {
    "execution": {
     "iopub.execute_input": "2023-01-08T20:12:10.437370Z",
     "iopub.status.busy": "2023-01-08T20:12:10.436201Z",
     "iopub.status.idle": "2023-01-08T20:12:10.446916Z",
     "shell.execute_reply": "2023-01-08T20:12:10.445738Z"
    },
    "papermill": {
     "duration": 0.031797,
     "end_time": "2023-01-08T20:12:10.449364",
     "exception": false,
     "start_time": "2023-01-08T20:12:10.417567",
     "status": "completed"
    },
    "tags": []
   },
   "outputs": [
    {
     "data": {
      "text/plain": [
       "0    23.443203\n",
       "1    22.224947\n",
       "2     5.097066\n",
       "3    12.816480\n",
       "4    14.061694\n",
       "dtype: float64"
      ]
     },
     "execution_count": 30,
     "metadata": {},
     "output_type": "execute_result"
    }
   ],
   "source": [
    "y_pred_test = pd.Series(model.predict(X_test))\n",
    "y_pred_test.head()"
   ]
  },
  {
   "cell_type": "markdown",
   "id": "0b0d74cc",
   "metadata": {
    "papermill": {
     "duration": 0.018029,
     "end_time": "2023-01-08T20:12:10.485351",
     "exception": false,
     "start_time": "2023-01-08T20:12:10.467322",
     "status": "completed"
    },
    "tags": []
   },
   "source": [
    "**Let's try with the ridge model**"
   ]
  },
  {
   "cell_type": "code",
   "execution_count": 31,
   "id": "d00b844a",
   "metadata": {
    "execution": {
     "iopub.execute_input": "2023-01-08T20:12:10.523614Z",
     "iopub.status.busy": "2023-01-08T20:12:10.523181Z",
     "iopub.status.idle": "2023-01-08T20:12:10.544541Z",
     "shell.execute_reply": "2023-01-08T20:12:10.543319Z"
    },
    "papermill": {
     "duration": 0.043342,
     "end_time": "2023-01-08T20:12:10.547174",
     "exception": false,
     "start_time": "2023-01-08T20:12:10.503832",
     "status": "completed"
    },
    "tags": []
   },
   "outputs": [
    {
     "data": {
      "text/plain": [
       "Pipeline(steps=[('simpleimputer', SimpleImputer()), ('ridge', Ridge())])"
      ]
     },
     "execution_count": 31,
     "metadata": {},
     "output_type": "execute_result"
    }
   ],
   "source": [
    "model1 = make_pipeline(\n",
    "    SimpleImputer(),\n",
    "    Ridge()#LinearRegression()\n",
    ")\n",
    "model1.fit(X_train, y_train)"
   ]
  },
  {
   "cell_type": "code",
   "execution_count": 32,
   "id": "4ac4345d",
   "metadata": {
    "execution": {
     "iopub.execute_input": "2023-01-08T20:12:10.584477Z",
     "iopub.status.busy": "2023-01-08T20:12:10.584058Z",
     "iopub.status.idle": "2023-01-08T20:12:10.593006Z",
     "shell.execute_reply": "2023-01-08T20:12:10.591777Z"
    },
    "papermill": {
     "duration": 0.030608,
     "end_time": "2023-01-08T20:12:10.595618",
     "exception": false,
     "start_time": "2023-01-08T20:12:10.565010",
     "status": "completed"
    },
    "tags": []
   },
   "outputs": [
    {
     "name": "stdout",
     "output_type": "stream",
     "text": [
      "3.2750956351604\n"
     ]
    }
   ],
   "source": [
    "y_pred_training = model1.predict(X_train)\n",
    "mae_training = mean_absolute_error(y_train, y_pred_training)\n",
    "print(mae_training)"
   ]
  },
  {
   "cell_type": "code",
   "execution_count": 33,
   "id": "8b8714af",
   "metadata": {
    "execution": {
     "iopub.execute_input": "2023-01-08T20:12:10.634615Z",
     "iopub.status.busy": "2023-01-08T20:12:10.634208Z",
     "iopub.status.idle": "2023-01-08T20:12:10.644180Z",
     "shell.execute_reply": "2023-01-08T20:12:10.642804Z"
    },
    "papermill": {
     "duration": 0.032787,
     "end_time": "2023-01-08T20:12:10.646617",
     "exception": false,
     "start_time": "2023-01-08T20:12:10.613830",
     "status": "completed"
    },
    "tags": []
   },
   "outputs": [
    {
     "name": "stdout",
     "output_type": "stream",
     "text": [
      "4.581357709866138\n"
     ]
    }
   ],
   "source": [
    "y_pred_test = model1.predict(X_test)\n",
    "mae_test = mean_absolute_error(y_test, y_pred_test)\n",
    "print(mae_test)"
   ]
  },
  {
   "cell_type": "code",
   "execution_count": 34,
   "id": "72bf442e",
   "metadata": {
    "execution": {
     "iopub.execute_input": "2023-01-08T20:12:10.684445Z",
     "iopub.status.busy": "2023-01-08T20:12:10.684048Z",
     "iopub.status.idle": "2023-01-08T20:12:10.695493Z",
     "shell.execute_reply": "2023-01-08T20:12:10.694289Z"
    },
    "papermill": {
     "duration": 0.033342,
     "end_time": "2023-01-08T20:12:10.697941",
     "exception": false,
     "start_time": "2023-01-08T20:12:10.664599",
     "status": "completed"
    },
    "tags": []
   },
   "outputs": [
    {
     "data": {
      "text/plain": [
       "0    22.083905\n",
       "1    20.447231\n",
       "2     3.078356\n",
       "3    11.622218\n",
       "4    12.933892\n",
       "dtype: float64"
      ]
     },
     "execution_count": 34,
     "metadata": {},
     "output_type": "execute_result"
    }
   ],
   "source": [
    "y_pred_test = pd.Series(model1.predict(X_test))\n",
    "y_pred_test.head()"
   ]
  },
  {
   "cell_type": "code",
   "execution_count": 35,
   "id": "39588808",
   "metadata": {
    "execution": {
     "iopub.execute_input": "2023-01-08T20:12:10.736157Z",
     "iopub.status.busy": "2023-01-08T20:12:10.735766Z",
     "iopub.status.idle": "2023-01-08T20:12:10.743998Z",
     "shell.execute_reply": "2023-01-08T20:12:10.742965Z"
    },
    "papermill": {
     "duration": 0.030173,
     "end_time": "2023-01-08T20:12:10.746267",
     "exception": false,
     "start_time": "2023-01-08T20:12:10.716094",
     "status": "completed"
    },
    "tags": []
   },
   "outputs": [],
   "source": [
    "def make_prediction(CRIM, ZN, INDUS, CHAS, NOX, RM, AGE, DIS, RAD, TAX, PTRATIO, B, LSTAT):\n",
    "    Data = {\n",
    "        \"CRIM\": CRIM,\n",
    "        \"ZN\": ZN,\n",
    "        \"INDUS\": INDUS,\n",
    "        \"CHAS\" : CHAS,\n",
    "        \"NOX\" : NOX,\n",
    "        \"RM\": RM,\n",
    "        \"AGE\": AGE,\n",
    "        \"DIS\" : DIS,\n",
    "        \"RAD\": RAD,\n",
    "        \"TAX\": TAX,\n",
    "        \"PTRATIO\" : PTRATIO,\n",
    "        \"B\": B,\n",
    "        \"LSTAT\": LSTAT}\n",
    "    df = pd.DataFrame(Data, index=[0])\n",
    "    prediction_lr = model.predict(df).round(2)[0]\n",
    "    prediction_ridge = model1.predict(df).round(2)[0]\n",
    "    return f\"Predicted house price for lr_model is ${prediction_lr} 1000's [k] & for ridge is ${prediction_ridge} 1000's [k]\""
   ]
  },
  {
   "cell_type": "code",
   "execution_count": 36,
   "id": "5a8e1cfc",
   "metadata": {
    "execution": {
     "iopub.execute_input": "2023-01-08T20:12:10.785350Z",
     "iopub.status.busy": "2023-01-08T20:12:10.784626Z",
     "iopub.status.idle": "2023-01-08T20:12:10.792947Z",
     "shell.execute_reply": "2023-01-08T20:12:10.791688Z"
    },
    "papermill": {
     "duration": 0.030481,
     "end_time": "2023-01-08T20:12:10.795496",
     "exception": false,
     "start_time": "2023-01-08T20:12:10.765015",
     "status": "completed"
    },
    "tags": []
   },
   "outputs": [
    {
     "data": {
      "text/plain": [
       "Index(['CRIM', 'ZN', 'INDUS', 'CHAS', 'NOX', 'RM', 'AGE', 'DIS', 'RAD', 'TAX',\n",
       "       'PTRATIO', 'B', 'LSTAT'],\n",
       "      dtype='object')"
      ]
     },
     "execution_count": 36,
     "metadata": {},
     "output_type": "execute_result"
    }
   ],
   "source": [
    "cols = df.columns[:len(df.columns) - 1]\n",
    "cols"
   ]
  },
  {
   "cell_type": "code",
   "execution_count": 37,
   "id": "8735001c",
   "metadata": {
    "execution": {
     "iopub.execute_input": "2023-01-08T20:12:10.833911Z",
     "iopub.status.busy": "2023-01-08T20:12:10.833058Z",
     "iopub.status.idle": "2023-01-08T20:12:10.838351Z",
     "shell.execute_reply": "2023-01-08T20:12:10.836869Z"
    },
    "papermill": {
     "duration": 0.027432,
     "end_time": "2023-01-08T20:12:10.841019",
     "exception": false,
     "start_time": "2023-01-08T20:12:10.813587",
     "status": "completed"
    },
    "tags": []
   },
   "outputs": [],
   "source": [
    "# def make_predictions(CRIM, ZN, NDUS, CHAS, NOX, RM, AGE, DIS, RAD, TAX, PTRATIO, B, LSTAT):\n",
    "#     for col in (df.columns[:len(df.columns) - 1]):\n",
    "#         print(col)"
   ]
  },
  {
   "cell_type": "code",
   "execution_count": 38,
   "id": "f5c05cdd",
   "metadata": {
    "execution": {
     "iopub.execute_input": "2023-01-08T20:12:10.879651Z",
     "iopub.status.busy": "2023-01-08T20:12:10.879269Z",
     "iopub.status.idle": "2023-01-08T20:12:10.883867Z",
     "shell.execute_reply": "2023-01-08T20:12:10.882465Z"
    },
    "papermill": {
     "duration": 0.026903,
     "end_time": "2023-01-08T20:12:10.886662",
     "exception": false,
     "start_time": "2023-01-08T20:12:10.859759",
     "status": "completed"
    },
    "tags": []
   },
   "outputs": [],
   "source": [
    "#make_predictions(col for col in (df.columns[:len(df.columns) - 1]))"
   ]
  },
  {
   "cell_type": "code",
   "execution_count": 39,
   "id": "d48aa944",
   "metadata": {
    "execution": {
     "iopub.execute_input": "2023-01-08T20:12:10.924971Z",
     "iopub.status.busy": "2023-01-08T20:12:10.924524Z",
     "iopub.status.idle": "2023-01-08T20:12:10.929222Z",
     "shell.execute_reply": "2023-01-08T20:12:10.928087Z"
    },
    "papermill": {
     "duration": 0.027072,
     "end_time": "2023-01-08T20:12:10.931969",
     "exception": false,
     "start_time": "2023-01-08T20:12:10.904897",
     "status": "completed"
    },
    "tags": []
   },
   "outputs": [],
   "source": [
    "# def make_predictions(CRIM, ZN, NDUS, CHAS, NOX, RM, AGE, DIS, RAD, TAX, PTRATIO, B, LSTAT):\n",
    "#     Data = dict()\n",
    "#     for key, value in (df.columns[:len(df.columns) - 1]):\n",
    "#         Data[key] = col.values()\n",
    "#     return Data"
   ]
  },
  {
   "cell_type": "code",
   "execution_count": 40,
   "id": "dac09b1b",
   "metadata": {
    "execution": {
     "iopub.execute_input": "2023-01-08T20:12:10.970346Z",
     "iopub.status.busy": "2023-01-08T20:12:10.969940Z",
     "iopub.status.idle": "2023-01-08T20:12:10.984528Z",
     "shell.execute_reply": "2023-01-08T20:12:10.983125Z"
    },
    "papermill": {
     "duration": 0.036845,
     "end_time": "2023-01-08T20:12:10.986967",
     "exception": false,
     "start_time": "2023-01-08T20:12:10.950122",
     "status": "completed"
    },
    "tags": []
   },
   "outputs": [
    {
     "data": {
      "text/plain": [
       "\"Predicted house price for lr_model is $28.78 1000's [k] & for ridge is $29.26 1000's [k]\""
      ]
     },
     "execution_count": 40,
     "metadata": {},
     "output_type": "execute_result"
    }
   ],
   "source": [
    "make_prediction(0.00632, 18.0, 2.31, 0, 0.538, 6.575, 65.2, 4.0900, 1, 296.0, 15.3, 396.90, 4.98)"
   ]
  },
  {
   "cell_type": "code",
   "execution_count": 41,
   "id": "54b1cbcf",
   "metadata": {
    "execution": {
     "iopub.execute_input": "2023-01-08T20:12:11.025737Z",
     "iopub.status.busy": "2023-01-08T20:12:11.025333Z",
     "iopub.status.idle": "2023-01-08T20:12:11.039145Z",
     "shell.execute_reply": "2023-01-08T20:12:11.038044Z"
    },
    "papermill": {
     "duration": 0.036251,
     "end_time": "2023-01-08T20:12:11.041567",
     "exception": false,
     "start_time": "2023-01-08T20:12:11.005316",
     "status": "completed"
    },
    "tags": []
   },
   "outputs": [
    {
     "data": {
      "text/plain": [
       "\"Predicted house price for lr_model is $22.15 1000's [k] & for ridge is $22.65 1000's [k]\""
      ]
     },
     "execution_count": 41,
     "metadata": {},
     "output_type": "execute_result"
    }
   ],
   "source": [
    "make_prediction(0.04527, 0.0, 11.93, 0, 0.573, 6.120, 76.7, 2.2875, 1, 273.0, 21.0, 396.90, 9.08)"
   ]
  }
 ],
 "metadata": {
  "kernelspec": {
   "display_name": "Python 3",
   "language": "python",
   "name": "python3"
  },
  "language_info": {
   "codemirror_mode": {
    "name": "ipython",
    "version": 3
   },
   "file_extension": ".py",
   "mimetype": "text/x-python",
   "name": "python",
   "nbconvert_exporter": "python",
   "pygments_lexer": "ipython3",
   "version": "3.7.12"
  },
  "papermill": {
   "default_parameters": {},
   "duration": 19.907703,
   "end_time": "2023-01-08T20:12:11.983512",
   "environment_variables": {},
   "exception": null,
   "input_path": "__notebook__.ipynb",
   "output_path": "__notebook__.ipynb",
   "parameters": {},
   "start_time": "2023-01-08T20:11:52.075809",
   "version": "2.3.4"
  }
 },
 "nbformat": 4,
 "nbformat_minor": 5
}
