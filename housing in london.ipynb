{
 "cells": [
  {
   "cell_type": "code",
   "execution_count": 1,
   "id": "dfba9041",
   "metadata": {
    "_cell_guid": "b1076dfc-b9ad-4769-8c92-a6c4dae69d19",
    "_uuid": "8f2839f25d086af736a60e9eeb907d3b93b6e0e5",
    "execution": {
     "iopub.execute_input": "2022-12-02T19:47:08.258424Z",
     "iopub.status.busy": "2022-12-02T19:47:08.257787Z",
     "iopub.status.idle": "2022-12-02T19:47:08.279475Z",
     "shell.execute_reply": "2022-12-02T19:47:08.278226Z"
    },
    "papermill": {
     "duration": 0.03487,
     "end_time": "2022-12-02T19:47:08.282642",
     "exception": false,
     "start_time": "2022-12-02T19:47:08.247772",
     "status": "completed"
    },
    "tags": []
   },
   "outputs": [
    {
     "name": "stdout",
     "output_type": "stream",
     "text": [
      "/kaggle/input/housing-in-london/housing_in_london_monthly_variables.csv\n",
      "/kaggle/input/housing-in-london/housing_in_london_yearly_variables.csv\n"
     ]
    }
   ],
   "source": [
    "# This Python 3 environment comes with many helpful analytics libraries installed\n",
    "# It is defined by the kaggle/python Docker image: https://github.com/kaggle/docker-python\n",
    "# For example, here's several helpful packages to load\n",
    "\n",
    "import numpy as np # linear algebra\n",
    "import pandas as pd # data processing, CSV file I/O (e.g. pd.read_csv)\n",
    "\n",
    "# Input data files are available in the read-only \"../input/\" directory\n",
    "# For example, running this (by clicking run or pressing Shift+Enter) will list all files under the input directory\n",
    "\n",
    "import os\n",
    "for dirname, _, filenames in os.walk('/kaggle/input'):\n",
    "    for filename in filenames:\n",
    "        print(os.path.join(dirname, filename))\n",
    "\n",
    "# You can write up to 20GB to the current directory (/kaggle/working/) that gets preserved as output when you create a version using \"Save & Run All\" \n",
    "# You can also write temporary files to /kaggle/temp/, but they won't be saved outside of the current session"
   ]
  },
  {
   "cell_type": "code",
   "execution_count": 2,
   "id": "6087c260",
   "metadata": {
    "execution": {
     "iopub.execute_input": "2022-12-02T19:47:08.297586Z",
     "iopub.status.busy": "2022-12-02T19:47:08.297157Z",
     "iopub.status.idle": "2022-12-02T19:47:08.302463Z",
     "shell.execute_reply": "2022-12-02T19:47:08.301362Z"
    },
    "papermill": {
     "duration": 0.015282,
     "end_time": "2022-12-02T19:47:08.304618",
     "exception": false,
     "start_time": "2022-12-02T19:47:08.289336",
     "status": "completed"
    },
    "tags": []
   },
   "outputs": [],
   "source": [
    "import pandas as pd"
   ]
  },
  {
   "cell_type": "code",
   "execution_count": 3,
   "id": "25078152",
   "metadata": {
    "execution": {
     "iopub.execute_input": "2022-12-02T19:47:08.318323Z",
     "iopub.status.busy": "2022-12-02T19:47:08.317825Z",
     "iopub.status.idle": "2022-12-02T19:47:08.376908Z",
     "shell.execute_reply": "2022-12-02T19:47:08.375766Z"
    },
    "papermill": {
     "duration": 0.068726,
     "end_time": "2022-12-02T19:47:08.379362",
     "exception": false,
     "start_time": "2022-12-02T19:47:08.310636",
     "status": "completed"
    },
    "tags": []
   },
   "outputs": [
    {
     "data": {
      "text/html": [
       "<div>\n",
       "<style scoped>\n",
       "    .dataframe tbody tr th:only-of-type {\n",
       "        vertical-align: middle;\n",
       "    }\n",
       "\n",
       "    .dataframe tbody tr th {\n",
       "        vertical-align: top;\n",
       "    }\n",
       "\n",
       "    .dataframe thead th {\n",
       "        text-align: right;\n",
       "    }\n",
       "</style>\n",
       "<table border=\"1\" class=\"dataframe\">\n",
       "  <thead>\n",
       "    <tr style=\"text-align: right;\">\n",
       "      <th></th>\n",
       "      <th>date</th>\n",
       "      <th>area</th>\n",
       "      <th>average_price</th>\n",
       "      <th>code</th>\n",
       "      <th>houses_sold</th>\n",
       "      <th>no_of_crimes</th>\n",
       "      <th>borough_flag</th>\n",
       "    </tr>\n",
       "  </thead>\n",
       "  <tbody>\n",
       "    <tr>\n",
       "      <th>0</th>\n",
       "      <td>1995-01-01</td>\n",
       "      <td>city of london</td>\n",
       "      <td>91449</td>\n",
       "      <td>E09000001</td>\n",
       "      <td>17.0</td>\n",
       "      <td>NaN</td>\n",
       "      <td>1</td>\n",
       "    </tr>\n",
       "    <tr>\n",
       "      <th>1</th>\n",
       "      <td>1995-02-01</td>\n",
       "      <td>city of london</td>\n",
       "      <td>82203</td>\n",
       "      <td>E09000001</td>\n",
       "      <td>7.0</td>\n",
       "      <td>NaN</td>\n",
       "      <td>1</td>\n",
       "    </tr>\n",
       "    <tr>\n",
       "      <th>2</th>\n",
       "      <td>1995-03-01</td>\n",
       "      <td>city of london</td>\n",
       "      <td>79121</td>\n",
       "      <td>E09000001</td>\n",
       "      <td>14.0</td>\n",
       "      <td>NaN</td>\n",
       "      <td>1</td>\n",
       "    </tr>\n",
       "    <tr>\n",
       "      <th>3</th>\n",
       "      <td>1995-04-01</td>\n",
       "      <td>city of london</td>\n",
       "      <td>77101</td>\n",
       "      <td>E09000001</td>\n",
       "      <td>7.0</td>\n",
       "      <td>NaN</td>\n",
       "      <td>1</td>\n",
       "    </tr>\n",
       "    <tr>\n",
       "      <th>4</th>\n",
       "      <td>1995-05-01</td>\n",
       "      <td>city of london</td>\n",
       "      <td>84409</td>\n",
       "      <td>E09000001</td>\n",
       "      <td>10.0</td>\n",
       "      <td>NaN</td>\n",
       "      <td>1</td>\n",
       "    </tr>\n",
       "  </tbody>\n",
       "</table>\n",
       "</div>"
      ],
      "text/plain": [
       "         date            area  average_price       code  houses_sold  \\\n",
       "0  1995-01-01  city of london          91449  E09000001         17.0   \n",
       "1  1995-02-01  city of london          82203  E09000001          7.0   \n",
       "2  1995-03-01  city of london          79121  E09000001         14.0   \n",
       "3  1995-04-01  city of london          77101  E09000001          7.0   \n",
       "4  1995-05-01  city of london          84409  E09000001         10.0   \n",
       "\n",
       "   no_of_crimes  borough_flag  \n",
       "0           NaN             1  \n",
       "1           NaN             1  \n",
       "2           NaN             1  \n",
       "3           NaN             1  \n",
       "4           NaN             1  "
      ]
     },
     "execution_count": 3,
     "metadata": {},
     "output_type": "execute_result"
    }
   ],
   "source": [
    "df1 = pd.read_csv(\"/kaggle/input/housing-in-london/housing_in_london_monthly_variables.csv\")\n",
    "df1.head()\n",
    "#df.isnull().sum()"
   ]
  },
  {
   "cell_type": "code",
   "execution_count": 4,
   "id": "8cb57770",
   "metadata": {
    "execution": {
     "iopub.execute_input": "2022-12-02T19:47:08.393349Z",
     "iopub.status.busy": "2022-12-02T19:47:08.392953Z",
     "iopub.status.idle": "2022-12-02T19:47:08.402613Z",
     "shell.execute_reply": "2022-12-02T19:47:08.401667Z"
    },
    "papermill": {
     "duration": 0.019131,
     "end_time": "2022-12-02T19:47:08.404731",
     "exception": false,
     "start_time": "2022-12-02T19:47:08.385600",
     "status": "completed"
    },
    "tags": []
   },
   "outputs": [
    {
     "data": {
      "text/plain": [
       "dtype('O')"
      ]
     },
     "execution_count": 4,
     "metadata": {},
     "output_type": "execute_result"
    }
   ],
   "source": [
    "df1[\"date\"].dtypes"
   ]
  },
  {
   "cell_type": "code",
   "execution_count": 5,
   "id": "9b9c3e1f",
   "metadata": {
    "execution": {
     "iopub.execute_input": "2022-12-02T19:47:08.419424Z",
     "iopub.status.busy": "2022-12-02T19:47:08.419042Z",
     "iopub.status.idle": "2022-12-02T19:47:08.427054Z",
     "shell.execute_reply": "2022-12-02T19:47:08.425597Z"
    },
    "papermill": {
     "duration": 0.018434,
     "end_time": "2022-12-02T19:47:08.429518",
     "exception": false,
     "start_time": "2022-12-02T19:47:08.411084",
     "status": "completed"
    },
    "tags": []
   },
   "outputs": [
    {
     "data": {
      "text/plain": [
       "date              object\n",
       "area              object\n",
       "average_price      int64\n",
       "code              object\n",
       "houses_sold      float64\n",
       "no_of_crimes     float64\n",
       "borough_flag       int64\n",
       "dtype: object"
      ]
     },
     "execution_count": 5,
     "metadata": {},
     "output_type": "execute_result"
    }
   ],
   "source": [
    "result = df1.dtypes\n",
    "result"
   ]
  },
  {
   "cell_type": "code",
   "execution_count": 6,
   "id": "6d3519c7",
   "metadata": {
    "execution": {
     "iopub.execute_input": "2022-12-02T19:47:08.444592Z",
     "iopub.status.busy": "2022-12-02T19:47:08.444224Z",
     "iopub.status.idle": "2022-12-02T19:47:08.448418Z",
     "shell.execute_reply": "2022-12-02T19:47:08.447250Z"
    },
    "papermill": {
     "duration": 0.014378,
     "end_time": "2022-12-02T19:47:08.450654",
     "exception": false,
     "start_time": "2022-12-02T19:47:08.436276",
     "status": "completed"
    },
    "tags": []
   },
   "outputs": [],
   "source": [
    "#df1[\"date\"] = pd.to_datetime(df[\"date\"])\n"
   ]
  },
  {
   "cell_type": "code",
   "execution_count": 7,
   "id": "3513288b",
   "metadata": {
    "execution": {
     "iopub.execute_input": "2022-12-02T19:47:08.464916Z",
     "iopub.status.busy": "2022-12-02T19:47:08.464548Z",
     "iopub.status.idle": "2022-12-02T19:47:08.470853Z",
     "shell.execute_reply": "2022-12-02T19:47:08.469744Z"
    },
    "papermill": {
     "duration": 0.016022,
     "end_time": "2022-12-02T19:47:08.473036",
     "exception": false,
     "start_time": "2022-12-02T19:47:08.457014",
     "status": "completed"
    },
    "tags": []
   },
   "outputs": [
    {
     "data": {
      "text/plain": [
       "dtype('O')"
      ]
     },
     "execution_count": 7,
     "metadata": {},
     "output_type": "execute_result"
    }
   ],
   "source": [
    "df1[\"date\"].dtypes"
   ]
  },
  {
   "cell_type": "code",
   "execution_count": 8,
   "id": "3f5f250f",
   "metadata": {
    "execution": {
     "iopub.execute_input": "2022-12-02T19:47:08.490535Z",
     "iopub.status.busy": "2022-12-02T19:47:08.489612Z",
     "iopub.status.idle": "2022-12-02T19:47:08.497966Z",
     "shell.execute_reply": "2022-12-02T19:47:08.496998Z"
    },
    "papermill": {
     "duration": 0.021119,
     "end_time": "2022-12-02T19:47:08.500515",
     "exception": false,
     "start_time": "2022-12-02T19:47:08.479396",
     "status": "completed"
    },
    "tags": []
   },
   "outputs": [
    {
     "data": {
      "text/plain": [
       "date              object\n",
       "area              object\n",
       "average_price      int64\n",
       "code              object\n",
       "houses_sold      float64\n",
       "no_of_crimes     float64\n",
       "borough_flag       int64\n",
       "dtype: object"
      ]
     },
     "execution_count": 8,
     "metadata": {},
     "output_type": "execute_result"
    }
   ],
   "source": [
    "df1.dtypes"
   ]
  },
  {
   "cell_type": "code",
   "execution_count": 9,
   "id": "59b7940b",
   "metadata": {
    "execution": {
     "iopub.execute_input": "2022-12-02T19:47:08.518818Z",
     "iopub.status.busy": "2022-12-02T19:47:08.518114Z",
     "iopub.status.idle": "2022-12-02T19:47:08.533289Z",
     "shell.execute_reply": "2022-12-02T19:47:08.531536Z"
    },
    "papermill": {
     "duration": 0.026973,
     "end_time": "2022-12-02T19:47:08.536292",
     "exception": false,
     "start_time": "2022-12-02T19:47:08.509319",
     "status": "completed"
    },
    "tags": []
   },
   "outputs": [],
   "source": [
    "df1.dropna(inplace=True)"
   ]
  },
  {
   "cell_type": "code",
   "execution_count": 10,
   "id": "09942dc3",
   "metadata": {
    "execution": {
     "iopub.execute_input": "2022-12-02T19:47:08.553647Z",
     "iopub.status.busy": "2022-12-02T19:47:08.553120Z",
     "iopub.status.idle": "2022-12-02T19:47:08.571806Z",
     "shell.execute_reply": "2022-12-02T19:47:08.570570Z"
    },
    "papermill": {
     "duration": 0.029753,
     "end_time": "2022-12-02T19:47:08.574181",
     "exception": false,
     "start_time": "2022-12-02T19:47:08.544428",
     "status": "completed"
    },
    "tags": []
   },
   "outputs": [
    {
     "data": {
      "text/html": [
       "<div>\n",
       "<style scoped>\n",
       "    .dataframe tbody tr th:only-of-type {\n",
       "        vertical-align: middle;\n",
       "    }\n",
       "\n",
       "    .dataframe tbody tr th {\n",
       "        vertical-align: top;\n",
       "    }\n",
       "\n",
       "    .dataframe thead th {\n",
       "        text-align: right;\n",
       "    }\n",
       "</style>\n",
       "<table border=\"1\" class=\"dataframe\">\n",
       "  <thead>\n",
       "    <tr style=\"text-align: right;\">\n",
       "      <th></th>\n",
       "      <th>date</th>\n",
       "      <th>area</th>\n",
       "      <th>average_price</th>\n",
       "      <th>code</th>\n",
       "      <th>houses_sold</th>\n",
       "      <th>no_of_crimes</th>\n",
       "      <th>borough_flag</th>\n",
       "    </tr>\n",
       "  </thead>\n",
       "  <tbody>\n",
       "    <tr>\n",
       "      <th>72</th>\n",
       "      <td>2001-01-01</td>\n",
       "      <td>city of london</td>\n",
       "      <td>284262</td>\n",
       "      <td>E09000001</td>\n",
       "      <td>24.0</td>\n",
       "      <td>0.0</td>\n",
       "      <td>1</td>\n",
       "    </tr>\n",
       "    <tr>\n",
       "      <th>73</th>\n",
       "      <td>2001-02-01</td>\n",
       "      <td>city of london</td>\n",
       "      <td>198137</td>\n",
       "      <td>E09000001</td>\n",
       "      <td>37.0</td>\n",
       "      <td>0.0</td>\n",
       "      <td>1</td>\n",
       "    </tr>\n",
       "    <tr>\n",
       "      <th>74</th>\n",
       "      <td>2001-03-01</td>\n",
       "      <td>city of london</td>\n",
       "      <td>189033</td>\n",
       "      <td>E09000001</td>\n",
       "      <td>44.0</td>\n",
       "      <td>0.0</td>\n",
       "      <td>1</td>\n",
       "    </tr>\n",
       "    <tr>\n",
       "      <th>75</th>\n",
       "      <td>2001-04-01</td>\n",
       "      <td>city of london</td>\n",
       "      <td>205494</td>\n",
       "      <td>E09000001</td>\n",
       "      <td>38.0</td>\n",
       "      <td>0.0</td>\n",
       "      <td>1</td>\n",
       "    </tr>\n",
       "    <tr>\n",
       "      <th>76</th>\n",
       "      <td>2001-05-01</td>\n",
       "      <td>city of london</td>\n",
       "      <td>223459</td>\n",
       "      <td>E09000001</td>\n",
       "      <td>30.0</td>\n",
       "      <td>0.0</td>\n",
       "      <td>1</td>\n",
       "    </tr>\n",
       "  </tbody>\n",
       "</table>\n",
       "</div>"
      ],
      "text/plain": [
       "          date            area  average_price       code  houses_sold  \\\n",
       "72  2001-01-01  city of london         284262  E09000001         24.0   \n",
       "73  2001-02-01  city of london         198137  E09000001         37.0   \n",
       "74  2001-03-01  city of london         189033  E09000001         44.0   \n",
       "75  2001-04-01  city of london         205494  E09000001         38.0   \n",
       "76  2001-05-01  city of london         223459  E09000001         30.0   \n",
       "\n",
       "    no_of_crimes  borough_flag  \n",
       "72           0.0             1  \n",
       "73           0.0             1  \n",
       "74           0.0             1  \n",
       "75           0.0             1  \n",
       "76           0.0             1  "
      ]
     },
     "execution_count": 10,
     "metadata": {},
     "output_type": "execute_result"
    }
   ],
   "source": [
    "df1.head()"
   ]
  },
  {
   "cell_type": "code",
   "execution_count": 11,
   "id": "4924a1f2",
   "metadata": {
    "execution": {
     "iopub.execute_input": "2022-12-02T19:47:08.590466Z",
     "iopub.status.busy": "2022-12-02T19:47:08.590064Z",
     "iopub.status.idle": "2022-12-02T19:47:08.596615Z",
     "shell.execute_reply": "2022-12-02T19:47:08.595489Z"
    },
    "papermill": {
     "duration": 0.017977,
     "end_time": "2022-12-02T19:47:08.599221",
     "exception": false,
     "start_time": "2022-12-02T19:47:08.581244",
     "status": "completed"
    },
    "tags": []
   },
   "outputs": [
    {
     "data": {
      "text/plain": [
       "(7375, 7)"
      ]
     },
     "execution_count": 11,
     "metadata": {},
     "output_type": "execute_result"
    }
   ],
   "source": [
    "df1.shape"
   ]
  },
  {
   "cell_type": "code",
   "execution_count": 12,
   "id": "89c25b52",
   "metadata": {
    "execution": {
     "iopub.execute_input": "2022-12-02T19:47:08.615988Z",
     "iopub.status.busy": "2022-12-02T19:47:08.615323Z",
     "iopub.status.idle": "2022-12-02T19:47:08.630632Z",
     "shell.execute_reply": "2022-12-02T19:47:08.629532Z"
    },
    "papermill": {
     "duration": 0.025694,
     "end_time": "2022-12-02T19:47:08.632830",
     "exception": false,
     "start_time": "2022-12-02T19:47:08.607136",
     "status": "completed"
    },
    "tags": []
   },
   "outputs": [
    {
     "data": {
      "text/plain": [
       "date              227\n",
       "area               33\n",
       "average_price    7312\n",
       "code               33\n",
       "houses_sold       729\n",
       "no_of_crimes     2658\n",
       "borough_flag        1\n",
       "dtype: int64"
      ]
     },
     "execution_count": 12,
     "metadata": {},
     "output_type": "execute_result"
    }
   ],
   "source": [
    "#drop the columsn with multiple values\n",
    "df1.nunique()"
   ]
  },
  {
   "cell_type": "code",
   "execution_count": 13,
   "id": "5ab5c626",
   "metadata": {
    "execution": {
     "iopub.execute_input": "2022-12-02T19:47:08.648679Z",
     "iopub.status.busy": "2022-12-02T19:47:08.648301Z",
     "iopub.status.idle": "2022-12-02T19:47:08.655619Z",
     "shell.execute_reply": "2022-12-02T19:47:08.654567Z"
    },
    "papermill": {
     "duration": 0.017956,
     "end_time": "2022-12-02T19:47:08.657932",
     "exception": false,
     "start_time": "2022-12-02T19:47:08.639976",
     "status": "completed"
    },
    "tags": []
   },
   "outputs": [
    {
     "data": {
      "text/plain": [
       "dtype('int64')"
      ]
     },
     "execution_count": 13,
     "metadata": {},
     "output_type": "execute_result"
    }
   ],
   "source": [
    "df1[\"average_price\"].dtypes"
   ]
  },
  {
   "cell_type": "code",
   "execution_count": 14,
   "id": "4a0e37c8",
   "metadata": {
    "execution": {
     "iopub.execute_input": "2022-12-02T19:47:08.674007Z",
     "iopub.status.busy": "2022-12-02T19:47:08.673565Z",
     "iopub.status.idle": "2022-12-02T19:47:08.681195Z",
     "shell.execute_reply": "2022-12-02T19:47:08.680064Z"
    },
    "papermill": {
     "duration": 0.018278,
     "end_time": "2022-12-02T19:47:08.683463",
     "exception": false,
     "start_time": "2022-12-02T19:47:08.665185",
     "status": "completed"
    },
    "tags": []
   },
   "outputs": [
    {
     "data": {
      "text/plain": [
       "dtype('float64')"
      ]
     },
     "execution_count": 14,
     "metadata": {},
     "output_type": "execute_result"
    }
   ],
   "source": [
    "df1[\"houses_sold\"].dtypes"
   ]
  },
  {
   "cell_type": "markdown",
   "id": "ab305e94",
   "metadata": {
    "papermill": {
     "duration": 0.006917,
     "end_time": "2022-12-02T19:47:08.697788",
     "exception": false,
     "start_time": "2022-12-02T19:47:08.690871",
     "status": "completed"
    },
    "tags": []
   },
   "source": [
    "**Read the 2nd csv file into notebook**"
   ]
  },
  {
   "cell_type": "code",
   "execution_count": 15,
   "id": "be7be0e3",
   "metadata": {
    "execution": {
     "iopub.execute_input": "2022-12-02T19:47:08.713999Z",
     "iopub.status.busy": "2022-12-02T19:47:08.713582Z",
     "iopub.status.idle": "2022-12-02T19:47:08.725847Z",
     "shell.execute_reply": "2022-12-02T19:47:08.724828Z"
    },
    "papermill": {
     "duration": 0.023308,
     "end_time": "2022-12-02T19:47:08.728336",
     "exception": false,
     "start_time": "2022-12-02T19:47:08.705028",
     "status": "completed"
    },
    "tags": []
   },
   "outputs": [],
   "source": [
    "df2 = pd.read_csv(\"/kaggle/input/housing-in-london/housing_in_london_yearly_variables.csv\")"
   ]
  },
  {
   "cell_type": "code",
   "execution_count": 16,
   "id": "3d9fd9b9",
   "metadata": {
    "execution": {
     "iopub.execute_input": "2022-12-02T19:47:08.746011Z",
     "iopub.status.busy": "2022-12-02T19:47:08.744672Z",
     "iopub.status.idle": "2022-12-02T19:47:08.764189Z",
     "shell.execute_reply": "2022-12-02T19:47:08.762830Z"
    },
    "papermill": {
     "duration": 0.030359,
     "end_time": "2022-12-02T19:47:08.766452",
     "exception": false,
     "start_time": "2022-12-02T19:47:08.736093",
     "status": "completed"
    },
    "tags": []
   },
   "outputs": [
    {
     "data": {
      "text/html": [
       "<div>\n",
       "<style scoped>\n",
       "    .dataframe tbody tr th:only-of-type {\n",
       "        vertical-align: middle;\n",
       "    }\n",
       "\n",
       "    .dataframe tbody tr th {\n",
       "        vertical-align: top;\n",
       "    }\n",
       "\n",
       "    .dataframe thead th {\n",
       "        text-align: right;\n",
       "    }\n",
       "</style>\n",
       "<table border=\"1\" class=\"dataframe\">\n",
       "  <thead>\n",
       "    <tr style=\"text-align: right;\">\n",
       "      <th></th>\n",
       "      <th>code</th>\n",
       "      <th>area</th>\n",
       "      <th>date</th>\n",
       "      <th>median_salary</th>\n",
       "      <th>life_satisfaction</th>\n",
       "      <th>mean_salary</th>\n",
       "      <th>recycling_pct</th>\n",
       "      <th>population_size</th>\n",
       "      <th>number_of_jobs</th>\n",
       "      <th>area_size</th>\n",
       "      <th>no_of_houses</th>\n",
       "      <th>borough_flag</th>\n",
       "    </tr>\n",
       "  </thead>\n",
       "  <tbody>\n",
       "    <tr>\n",
       "      <th>0</th>\n",
       "      <td>E09000001</td>\n",
       "      <td>city of london</td>\n",
       "      <td>1999-12-01</td>\n",
       "      <td>33020.0</td>\n",
       "      <td>NaN</td>\n",
       "      <td>48922</td>\n",
       "      <td>0</td>\n",
       "      <td>6581.0</td>\n",
       "      <td>NaN</td>\n",
       "      <td>NaN</td>\n",
       "      <td>NaN</td>\n",
       "      <td>1</td>\n",
       "    </tr>\n",
       "    <tr>\n",
       "      <th>1</th>\n",
       "      <td>E09000002</td>\n",
       "      <td>barking and dagenham</td>\n",
       "      <td>1999-12-01</td>\n",
       "      <td>21480.0</td>\n",
       "      <td>NaN</td>\n",
       "      <td>23620</td>\n",
       "      <td>3</td>\n",
       "      <td>162444.0</td>\n",
       "      <td>NaN</td>\n",
       "      <td>NaN</td>\n",
       "      <td>NaN</td>\n",
       "      <td>1</td>\n",
       "    </tr>\n",
       "    <tr>\n",
       "      <th>2</th>\n",
       "      <td>E09000003</td>\n",
       "      <td>barnet</td>\n",
       "      <td>1999-12-01</td>\n",
       "      <td>19568.0</td>\n",
       "      <td>NaN</td>\n",
       "      <td>23128</td>\n",
       "      <td>8</td>\n",
       "      <td>313469.0</td>\n",
       "      <td>NaN</td>\n",
       "      <td>NaN</td>\n",
       "      <td>NaN</td>\n",
       "      <td>1</td>\n",
       "    </tr>\n",
       "    <tr>\n",
       "      <th>3</th>\n",
       "      <td>E09000004</td>\n",
       "      <td>bexley</td>\n",
       "      <td>1999-12-01</td>\n",
       "      <td>18621.0</td>\n",
       "      <td>NaN</td>\n",
       "      <td>21386</td>\n",
       "      <td>18</td>\n",
       "      <td>217458.0</td>\n",
       "      <td>NaN</td>\n",
       "      <td>NaN</td>\n",
       "      <td>NaN</td>\n",
       "      <td>1</td>\n",
       "    </tr>\n",
       "    <tr>\n",
       "      <th>4</th>\n",
       "      <td>E09000005</td>\n",
       "      <td>brent</td>\n",
       "      <td>1999-12-01</td>\n",
       "      <td>18532.0</td>\n",
       "      <td>NaN</td>\n",
       "      <td>20911</td>\n",
       "      <td>6</td>\n",
       "      <td>260317.0</td>\n",
       "      <td>NaN</td>\n",
       "      <td>NaN</td>\n",
       "      <td>NaN</td>\n",
       "      <td>1</td>\n",
       "    </tr>\n",
       "  </tbody>\n",
       "</table>\n",
       "</div>"
      ],
      "text/plain": [
       "        code                  area        date  median_salary  \\\n",
       "0  E09000001        city of london  1999-12-01        33020.0   \n",
       "1  E09000002  barking and dagenham  1999-12-01        21480.0   \n",
       "2  E09000003                barnet  1999-12-01        19568.0   \n",
       "3  E09000004                bexley  1999-12-01        18621.0   \n",
       "4  E09000005                 brent  1999-12-01        18532.0   \n",
       "\n",
       "   life_satisfaction mean_salary recycling_pct  population_size  \\\n",
       "0                NaN       48922             0           6581.0   \n",
       "1                NaN       23620             3         162444.0   \n",
       "2                NaN       23128             8         313469.0   \n",
       "3                NaN       21386            18         217458.0   \n",
       "4                NaN       20911             6         260317.0   \n",
       "\n",
       "   number_of_jobs  area_size  no_of_houses  borough_flag  \n",
       "0             NaN        NaN           NaN             1  \n",
       "1             NaN        NaN           NaN             1  \n",
       "2             NaN        NaN           NaN             1  \n",
       "3             NaN        NaN           NaN             1  \n",
       "4             NaN        NaN           NaN             1  "
      ]
     },
     "execution_count": 16,
     "metadata": {},
     "output_type": "execute_result"
    }
   ],
   "source": [
    "df2.head()"
   ]
  },
  {
   "cell_type": "code",
   "execution_count": 17,
   "id": "5d981281",
   "metadata": {
    "execution": {
     "iopub.execute_input": "2022-12-02T19:47:08.783562Z",
     "iopub.status.busy": "2022-12-02T19:47:08.782919Z",
     "iopub.status.idle": "2022-12-02T19:47:08.790359Z",
     "shell.execute_reply": "2022-12-02T19:47:08.789280Z"
    },
    "papermill": {
     "duration": 0.018563,
     "end_time": "2022-12-02T19:47:08.792715",
     "exception": false,
     "start_time": "2022-12-02T19:47:08.774152",
     "status": "completed"
    },
    "tags": []
   },
   "outputs": [
    {
     "data": {
      "text/plain": [
       "(1071, 12)"
      ]
     },
     "execution_count": 17,
     "metadata": {},
     "output_type": "execute_result"
    }
   ],
   "source": [
    "df2.shape"
   ]
  },
  {
   "cell_type": "code",
   "execution_count": 18,
   "id": "5d9250c4",
   "metadata": {
    "execution": {
     "iopub.execute_input": "2022-12-02T19:47:08.810432Z",
     "iopub.status.busy": "2022-12-02T19:47:08.810075Z",
     "iopub.status.idle": "2022-12-02T19:47:08.820107Z",
     "shell.execute_reply": "2022-12-02T19:47:08.819184Z"
    },
    "papermill": {
     "duration": 0.021152,
     "end_time": "2022-12-02T19:47:08.822242",
     "exception": false,
     "start_time": "2022-12-02T19:47:08.801090",
     "status": "completed"
    },
    "tags": []
   },
   "outputs": [
    {
     "data": {
      "text/plain": [
       "code                   51\n",
       "area                   51\n",
       "date                   21\n",
       "median_salary        1017\n",
       "life_satisfaction      82\n",
       "mean_salary          1041\n",
       "recycling_pct          57\n",
       "population_size      1017\n",
       "number_of_jobs        504\n",
       "area_size              37\n",
       "no_of_houses          663\n",
       "borough_flag            2\n",
       "dtype: int64"
      ]
     },
     "execution_count": 18,
     "metadata": {},
     "output_type": "execute_result"
    }
   ],
   "source": [
    "df2.nunique()"
   ]
  },
  {
   "cell_type": "code",
   "execution_count": 19,
   "id": "c0913931",
   "metadata": {
    "execution": {
     "iopub.execute_input": "2022-12-02T19:47:08.839468Z",
     "iopub.status.busy": "2022-12-02T19:47:08.839112Z",
     "iopub.status.idle": "2022-12-02T19:47:08.864086Z",
     "shell.execute_reply": "2022-12-02T19:47:08.863012Z"
    },
    "papermill": {
     "duration": 0.036317,
     "end_time": "2022-12-02T19:47:08.866451",
     "exception": false,
     "start_time": "2022-12-02T19:47:08.830134",
     "status": "completed"
    },
    "tags": []
   },
   "outputs": [
    {
     "data": {
      "text/html": [
       "<div>\n",
       "<style scoped>\n",
       "    .dataframe tbody tr th:only-of-type {\n",
       "        vertical-align: middle;\n",
       "    }\n",
       "\n",
       "    .dataframe tbody tr th {\n",
       "        vertical-align: top;\n",
       "    }\n",
       "\n",
       "    .dataframe thead th {\n",
       "        text-align: right;\n",
       "    }\n",
       "</style>\n",
       "<table border=\"1\" class=\"dataframe\">\n",
       "  <thead>\n",
       "    <tr style=\"text-align: right;\">\n",
       "      <th></th>\n",
       "      <th>date</th>\n",
       "      <th>area</th>\n",
       "      <th>average_price</th>\n",
       "      <th>code</th>\n",
       "      <th>houses_sold</th>\n",
       "      <th>no_of_crimes</th>\n",
       "      <th>borough_flag</th>\n",
       "      <th>median_salary</th>\n",
       "      <th>life_satisfaction</th>\n",
       "      <th>mean_salary</th>\n",
       "      <th>recycling_pct</th>\n",
       "      <th>population_size</th>\n",
       "      <th>number_of_jobs</th>\n",
       "      <th>area_size</th>\n",
       "      <th>no_of_houses</th>\n",
       "    </tr>\n",
       "  </thead>\n",
       "  <tbody>\n",
       "    <tr>\n",
       "      <th>72</th>\n",
       "      <td>2001-01-01</td>\n",
       "      <td>city of london</td>\n",
       "      <td>284262.0</td>\n",
       "      <td>E09000001</td>\n",
       "      <td>24.0</td>\n",
       "      <td>0.0</td>\n",
       "      <td>1</td>\n",
       "      <td>NaN</td>\n",
       "      <td>NaN</td>\n",
       "      <td>NaN</td>\n",
       "      <td>NaN</td>\n",
       "      <td>NaN</td>\n",
       "      <td>NaN</td>\n",
       "      <td>NaN</td>\n",
       "      <td>NaN</td>\n",
       "    </tr>\n",
       "    <tr>\n",
       "      <th>73</th>\n",
       "      <td>2001-02-01</td>\n",
       "      <td>city of london</td>\n",
       "      <td>198137.0</td>\n",
       "      <td>E09000001</td>\n",
       "      <td>37.0</td>\n",
       "      <td>0.0</td>\n",
       "      <td>1</td>\n",
       "      <td>NaN</td>\n",
       "      <td>NaN</td>\n",
       "      <td>NaN</td>\n",
       "      <td>NaN</td>\n",
       "      <td>NaN</td>\n",
       "      <td>NaN</td>\n",
       "      <td>NaN</td>\n",
       "      <td>NaN</td>\n",
       "    </tr>\n",
       "    <tr>\n",
       "      <th>74</th>\n",
       "      <td>2001-03-01</td>\n",
       "      <td>city of london</td>\n",
       "      <td>189033.0</td>\n",
       "      <td>E09000001</td>\n",
       "      <td>44.0</td>\n",
       "      <td>0.0</td>\n",
       "      <td>1</td>\n",
       "      <td>NaN</td>\n",
       "      <td>NaN</td>\n",
       "      <td>NaN</td>\n",
       "      <td>NaN</td>\n",
       "      <td>NaN</td>\n",
       "      <td>NaN</td>\n",
       "      <td>NaN</td>\n",
       "      <td>NaN</td>\n",
       "    </tr>\n",
       "    <tr>\n",
       "      <th>75</th>\n",
       "      <td>2001-04-01</td>\n",
       "      <td>city of london</td>\n",
       "      <td>205494.0</td>\n",
       "      <td>E09000001</td>\n",
       "      <td>38.0</td>\n",
       "      <td>0.0</td>\n",
       "      <td>1</td>\n",
       "      <td>NaN</td>\n",
       "      <td>NaN</td>\n",
       "      <td>NaN</td>\n",
       "      <td>NaN</td>\n",
       "      <td>NaN</td>\n",
       "      <td>NaN</td>\n",
       "      <td>NaN</td>\n",
       "      <td>NaN</td>\n",
       "    </tr>\n",
       "    <tr>\n",
       "      <th>76</th>\n",
       "      <td>2001-05-01</td>\n",
       "      <td>city of london</td>\n",
       "      <td>223459.0</td>\n",
       "      <td>E09000001</td>\n",
       "      <td>30.0</td>\n",
       "      <td>0.0</td>\n",
       "      <td>1</td>\n",
       "      <td>NaN</td>\n",
       "      <td>NaN</td>\n",
       "      <td>NaN</td>\n",
       "      <td>NaN</td>\n",
       "      <td>NaN</td>\n",
       "      <td>NaN</td>\n",
       "      <td>NaN</td>\n",
       "      <td>NaN</td>\n",
       "    </tr>\n",
       "  </tbody>\n",
       "</table>\n",
       "</div>"
      ],
      "text/plain": [
       "          date            area  average_price       code  houses_sold  \\\n",
       "72  2001-01-01  city of london       284262.0  E09000001         24.0   \n",
       "73  2001-02-01  city of london       198137.0  E09000001         37.0   \n",
       "74  2001-03-01  city of london       189033.0  E09000001         44.0   \n",
       "75  2001-04-01  city of london       205494.0  E09000001         38.0   \n",
       "76  2001-05-01  city of london       223459.0  E09000001         30.0   \n",
       "\n",
       "    no_of_crimes  borough_flag  median_salary  life_satisfaction mean_salary  \\\n",
       "72           0.0             1            NaN                NaN         NaN   \n",
       "73           0.0             1            NaN                NaN         NaN   \n",
       "74           0.0             1            NaN                NaN         NaN   \n",
       "75           0.0             1            NaN                NaN         NaN   \n",
       "76           0.0             1            NaN                NaN         NaN   \n",
       "\n",
       "   recycling_pct  population_size  number_of_jobs  area_size  no_of_houses  \n",
       "72           NaN              NaN             NaN        NaN           NaN  \n",
       "73           NaN              NaN             NaN        NaN           NaN  \n",
       "74           NaN              NaN             NaN        NaN           NaN  \n",
       "75           NaN              NaN             NaN        NaN           NaN  \n",
       "76           NaN              NaN             NaN        NaN           NaN  "
      ]
     },
     "execution_count": 19,
     "metadata": {},
     "output_type": "execute_result"
    }
   ],
   "source": [
    "#concatinating the data frame\n",
    "df = pd.concat([df1, df2])\n",
    "df.head()"
   ]
  },
  {
   "cell_type": "code",
   "execution_count": 20,
   "id": "2b23ca77",
   "metadata": {
    "execution": {
     "iopub.execute_input": "2022-12-02T19:47:08.884318Z",
     "iopub.status.busy": "2022-12-02T19:47:08.883929Z",
     "iopub.status.idle": "2022-12-02T19:47:08.890269Z",
     "shell.execute_reply": "2022-12-02T19:47:08.889214Z"
    },
    "papermill": {
     "duration": 0.017957,
     "end_time": "2022-12-02T19:47:08.892300",
     "exception": false,
     "start_time": "2022-12-02T19:47:08.874343",
     "status": "completed"
    },
    "tags": []
   },
   "outputs": [
    {
     "data": {
      "text/plain": [
       "(8446, 15)"
      ]
     },
     "execution_count": 20,
     "metadata": {},
     "output_type": "execute_result"
    }
   ],
   "source": [
    "df.shape"
   ]
  },
  {
   "cell_type": "code",
   "execution_count": 21,
   "id": "bfc987ab",
   "metadata": {
    "execution": {
     "iopub.execute_input": "2022-12-02T19:47:08.910229Z",
     "iopub.status.busy": "2022-12-02T19:47:08.909854Z",
     "iopub.status.idle": "2022-12-02T19:47:08.923921Z",
     "shell.execute_reply": "2022-12-02T19:47:08.922653Z"
    },
    "papermill": {
     "duration": 0.026044,
     "end_time": "2022-12-02T19:47:08.926516",
     "exception": false,
     "start_time": "2022-12-02T19:47:08.900472",
     "status": "completed"
    },
    "tags": []
   },
   "outputs": [
    {
     "data": {
      "text/plain": [
       "date                    0\n",
       "area                    0\n",
       "average_price        1071\n",
       "code                    0\n",
       "houses_sold          1071\n",
       "no_of_crimes         1071\n",
       "borough_flag            0\n",
       "median_salary        7397\n",
       "life_satisfaction    8094\n",
       "mean_salary          7375\n",
       "recycling_pct        7586\n",
       "population_size      7428\n",
       "number_of_jobs       7515\n",
       "area_size            7780\n",
       "no_of_houses         7780\n",
       "dtype: int64"
      ]
     },
     "execution_count": 21,
     "metadata": {},
     "output_type": "execute_result"
    }
   ],
   "source": [
    "df.isnull().sum()"
   ]
  },
  {
   "cell_type": "code",
   "execution_count": 22,
   "id": "e3beeeba",
   "metadata": {
    "execution": {
     "iopub.execute_input": "2022-12-02T19:47:08.945129Z",
     "iopub.status.busy": "2022-12-02T19:47:08.944683Z",
     "iopub.status.idle": "2022-12-02T19:47:08.974055Z",
     "shell.execute_reply": "2022-12-02T19:47:08.972951Z"
    },
    "papermill": {
     "duration": 0.041407,
     "end_time": "2022-12-02T19:47:08.976436",
     "exception": false,
     "start_time": "2022-12-02T19:47:08.935029",
     "status": "completed"
    },
    "tags": []
   },
   "outputs": [
    {
     "data": {
      "text/html": [
       "<div>\n",
       "<style scoped>\n",
       "    .dataframe tbody tr th:only-of-type {\n",
       "        vertical-align: middle;\n",
       "    }\n",
       "\n",
       "    .dataframe tbody tr th {\n",
       "        vertical-align: top;\n",
       "    }\n",
       "\n",
       "    .dataframe thead th {\n",
       "        text-align: right;\n",
       "    }\n",
       "</style>\n",
       "<table border=\"1\" class=\"dataframe\">\n",
       "  <thead>\n",
       "    <tr style=\"text-align: right;\">\n",
       "      <th></th>\n",
       "      <th>date</th>\n",
       "      <th>area</th>\n",
       "      <th>average_price</th>\n",
       "      <th>code</th>\n",
       "      <th>houses_sold</th>\n",
       "      <th>borough_flag</th>\n",
       "      <th>median_salary</th>\n",
       "      <th>life_satisfaction</th>\n",
       "      <th>mean_salary</th>\n",
       "      <th>recycling_pct</th>\n",
       "      <th>population_size</th>\n",
       "      <th>number_of_jobs</th>\n",
       "      <th>area_size</th>\n",
       "      <th>no_of_houses</th>\n",
       "    </tr>\n",
       "  </thead>\n",
       "  <tbody>\n",
       "    <tr>\n",
       "      <th>72</th>\n",
       "      <td>2001-01-01</td>\n",
       "      <td>city of london</td>\n",
       "      <td>284262.0</td>\n",
       "      <td>E09000001</td>\n",
       "      <td>24.0</td>\n",
       "      <td>1</td>\n",
       "      <td>NaN</td>\n",
       "      <td>NaN</td>\n",
       "      <td>NaN</td>\n",
       "      <td>NaN</td>\n",
       "      <td>NaN</td>\n",
       "      <td>NaN</td>\n",
       "      <td>NaN</td>\n",
       "      <td>NaN</td>\n",
       "    </tr>\n",
       "    <tr>\n",
       "      <th>73</th>\n",
       "      <td>2001-02-01</td>\n",
       "      <td>city of london</td>\n",
       "      <td>198137.0</td>\n",
       "      <td>E09000001</td>\n",
       "      <td>37.0</td>\n",
       "      <td>1</td>\n",
       "      <td>NaN</td>\n",
       "      <td>NaN</td>\n",
       "      <td>NaN</td>\n",
       "      <td>NaN</td>\n",
       "      <td>NaN</td>\n",
       "      <td>NaN</td>\n",
       "      <td>NaN</td>\n",
       "      <td>NaN</td>\n",
       "    </tr>\n",
       "    <tr>\n",
       "      <th>74</th>\n",
       "      <td>2001-03-01</td>\n",
       "      <td>city of london</td>\n",
       "      <td>189033.0</td>\n",
       "      <td>E09000001</td>\n",
       "      <td>44.0</td>\n",
       "      <td>1</td>\n",
       "      <td>NaN</td>\n",
       "      <td>NaN</td>\n",
       "      <td>NaN</td>\n",
       "      <td>NaN</td>\n",
       "      <td>NaN</td>\n",
       "      <td>NaN</td>\n",
       "      <td>NaN</td>\n",
       "      <td>NaN</td>\n",
       "    </tr>\n",
       "    <tr>\n",
       "      <th>75</th>\n",
       "      <td>2001-04-01</td>\n",
       "      <td>city of london</td>\n",
       "      <td>205494.0</td>\n",
       "      <td>E09000001</td>\n",
       "      <td>38.0</td>\n",
       "      <td>1</td>\n",
       "      <td>NaN</td>\n",
       "      <td>NaN</td>\n",
       "      <td>NaN</td>\n",
       "      <td>NaN</td>\n",
       "      <td>NaN</td>\n",
       "      <td>NaN</td>\n",
       "      <td>NaN</td>\n",
       "      <td>NaN</td>\n",
       "    </tr>\n",
       "    <tr>\n",
       "      <th>76</th>\n",
       "      <td>2001-05-01</td>\n",
       "      <td>city of london</td>\n",
       "      <td>223459.0</td>\n",
       "      <td>E09000001</td>\n",
       "      <td>30.0</td>\n",
       "      <td>1</td>\n",
       "      <td>NaN</td>\n",
       "      <td>NaN</td>\n",
       "      <td>NaN</td>\n",
       "      <td>NaN</td>\n",
       "      <td>NaN</td>\n",
       "      <td>NaN</td>\n",
       "      <td>NaN</td>\n",
       "      <td>NaN</td>\n",
       "    </tr>\n",
       "    <tr>\n",
       "      <th>...</th>\n",
       "      <td>...</td>\n",
       "      <td>...</td>\n",
       "      <td>...</td>\n",
       "      <td>...</td>\n",
       "      <td>...</td>\n",
       "      <td>...</td>\n",
       "      <td>...</td>\n",
       "      <td>...</td>\n",
       "      <td>...</td>\n",
       "      <td>...</td>\n",
       "      <td>...</td>\n",
       "      <td>...</td>\n",
       "      <td>...</td>\n",
       "      <td>...</td>\n",
       "    </tr>\n",
       "    <tr>\n",
       "      <th>1066</th>\n",
       "      <td>2019-12-01</td>\n",
       "      <td>great britain</td>\n",
       "      <td>NaN</td>\n",
       "      <td>K03000001</td>\n",
       "      <td>NaN</td>\n",
       "      <td>0</td>\n",
       "      <td>30446.0</td>\n",
       "      <td>NaN</td>\n",
       "      <td>37603</td>\n",
       "      <td>NaN</td>\n",
       "      <td>NaN</td>\n",
       "      <td>NaN</td>\n",
       "      <td>NaN</td>\n",
       "      <td>NaN</td>\n",
       "    </tr>\n",
       "    <tr>\n",
       "      <th>1067</th>\n",
       "      <td>2019-12-01</td>\n",
       "      <td>england and wales</td>\n",
       "      <td>NaN</td>\n",
       "      <td>K04000001</td>\n",
       "      <td>NaN</td>\n",
       "      <td>0</td>\n",
       "      <td>30500.0</td>\n",
       "      <td>NaN</td>\n",
       "      <td>37865</td>\n",
       "      <td>NaN</td>\n",
       "      <td>NaN</td>\n",
       "      <td>NaN</td>\n",
       "      <td>NaN</td>\n",
       "      <td>NaN</td>\n",
       "    </tr>\n",
       "    <tr>\n",
       "      <th>1068</th>\n",
       "      <td>2019-12-01</td>\n",
       "      <td>northern ireland</td>\n",
       "      <td>NaN</td>\n",
       "      <td>N92000002</td>\n",
       "      <td>NaN</td>\n",
       "      <td>0</td>\n",
       "      <td>27434.0</td>\n",
       "      <td>NaN</td>\n",
       "      <td>32083</td>\n",
       "      <td>NaN</td>\n",
       "      <td>NaN</td>\n",
       "      <td>NaN</td>\n",
       "      <td>NaN</td>\n",
       "      <td>NaN</td>\n",
       "    </tr>\n",
       "    <tr>\n",
       "      <th>1069</th>\n",
       "      <td>2019-12-01</td>\n",
       "      <td>scotland</td>\n",
       "      <td>NaN</td>\n",
       "      <td>S92000003</td>\n",
       "      <td>NaN</td>\n",
       "      <td>0</td>\n",
       "      <td>30000.0</td>\n",
       "      <td>NaN</td>\n",
       "      <td>34916</td>\n",
       "      <td>NaN</td>\n",
       "      <td>NaN</td>\n",
       "      <td>NaN</td>\n",
       "      <td>NaN</td>\n",
       "      <td>NaN</td>\n",
       "    </tr>\n",
       "    <tr>\n",
       "      <th>1070</th>\n",
       "      <td>2019-12-01</td>\n",
       "      <td>wales</td>\n",
       "      <td>NaN</td>\n",
       "      <td>W92000004</td>\n",
       "      <td>NaN</td>\n",
       "      <td>0</td>\n",
       "      <td>27500.0</td>\n",
       "      <td>NaN</td>\n",
       "      <td>31251</td>\n",
       "      <td>NaN</td>\n",
       "      <td>NaN</td>\n",
       "      <td>NaN</td>\n",
       "      <td>NaN</td>\n",
       "      <td>NaN</td>\n",
       "    </tr>\n",
       "  </tbody>\n",
       "</table>\n",
       "<p>8446 rows × 14 columns</p>\n",
       "</div>"
      ],
      "text/plain": [
       "            date               area  average_price       code  houses_sold  \\\n",
       "72    2001-01-01     city of london       284262.0  E09000001         24.0   \n",
       "73    2001-02-01     city of london       198137.0  E09000001         37.0   \n",
       "74    2001-03-01     city of london       189033.0  E09000001         44.0   \n",
       "75    2001-04-01     city of london       205494.0  E09000001         38.0   \n",
       "76    2001-05-01     city of london       223459.0  E09000001         30.0   \n",
       "...          ...                ...            ...        ...          ...   \n",
       "1066  2019-12-01      great britain            NaN  K03000001          NaN   \n",
       "1067  2019-12-01  england and wales            NaN  K04000001          NaN   \n",
       "1068  2019-12-01   northern ireland            NaN  N92000002          NaN   \n",
       "1069  2019-12-01           scotland            NaN  S92000003          NaN   \n",
       "1070  2019-12-01              wales            NaN  W92000004          NaN   \n",
       "\n",
       "      borough_flag  median_salary  life_satisfaction mean_salary  \\\n",
       "72               1            NaN                NaN         NaN   \n",
       "73               1            NaN                NaN         NaN   \n",
       "74               1            NaN                NaN         NaN   \n",
       "75               1            NaN                NaN         NaN   \n",
       "76               1            NaN                NaN         NaN   \n",
       "...            ...            ...                ...         ...   \n",
       "1066             0        30446.0                NaN       37603   \n",
       "1067             0        30500.0                NaN       37865   \n",
       "1068             0        27434.0                NaN       32083   \n",
       "1069             0        30000.0                NaN       34916   \n",
       "1070             0        27500.0                NaN       31251   \n",
       "\n",
       "     recycling_pct  population_size  number_of_jobs  area_size  no_of_houses  \n",
       "72             NaN              NaN             NaN        NaN           NaN  \n",
       "73             NaN              NaN             NaN        NaN           NaN  \n",
       "74             NaN              NaN             NaN        NaN           NaN  \n",
       "75             NaN              NaN             NaN        NaN           NaN  \n",
       "76             NaN              NaN             NaN        NaN           NaN  \n",
       "...            ...              ...             ...        ...           ...  \n",
       "1066           NaN              NaN             NaN        NaN           NaN  \n",
       "1067           NaN              NaN             NaN        NaN           NaN  \n",
       "1068           NaN              NaN             NaN        NaN           NaN  \n",
       "1069           NaN              NaN             NaN        NaN           NaN  \n",
       "1070           NaN              NaN             NaN        NaN           NaN  \n",
       "\n",
       "[8446 rows x 14 columns]"
      ]
     },
     "execution_count": 22,
     "metadata": {},
     "output_type": "execute_result"
    }
   ],
   "source": [
    "# dropping the columns\n",
    "df.drop(columns = [\"no_of_crimes\", ])"
   ]
  },
  {
   "cell_type": "markdown",
   "id": "0d80c49e",
   "metadata": {
    "papermill": {
     "duration": 0.008348,
     "end_time": "2022-12-02T19:47:08.993635",
     "exception": false,
     "start_time": "2022-12-02T19:47:08.985287",
     "status": "completed"
    },
    "tags": []
   },
   "source": [
    "**This dataset can not be used for the project**"
   ]
  }
 ],
 "metadata": {
  "kernelspec": {
   "display_name": "Python 3",
   "language": "python",
   "name": "python3"
  },
  "language_info": {
   "codemirror_mode": {
    "name": "ipython",
    "version": 3
   },
   "file_extension": ".py",
   "mimetype": "text/x-python",
   "name": "python",
   "nbconvert_exporter": "python",
   "pygments_lexer": "ipython3",
   "version": "3.7.12"
  },
  "papermill": {
   "default_parameters": {},
   "duration": 10.741359,
   "end_time": "2022-12-02T19:47:09.624010",
   "environment_variables": {},
   "exception": null,
   "input_path": "__notebook__.ipynb",
   "output_path": "__notebook__.ipynb",
   "parameters": {},
   "start_time": "2022-12-02T19:46:58.882651",
   "version": "2.3.4"
  }
 },
 "nbformat": 4,
 "nbformat_minor": 5
}
