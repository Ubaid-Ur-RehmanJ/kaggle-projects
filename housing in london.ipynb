{
 "cells": [
  {
   "cell_type": "code",
   "execution_count": 1,
   "id": "109c5159",
   "metadata": {
    "_cell_guid": "b1076dfc-b9ad-4769-8c92-a6c4dae69d19",
    "_uuid": "8f2839f25d086af736a60e9eeb907d3b93b6e0e5",
    "execution": {
     "iopub.execute_input": "2022-12-03T08:22:37.443084Z",
     "iopub.status.busy": "2022-12-03T08:22:37.442488Z",
     "iopub.status.idle": "2022-12-03T08:22:37.462392Z",
     "shell.execute_reply": "2022-12-03T08:22:37.460910Z"
    },
    "papermill": {
     "duration": 0.03608,
     "end_time": "2022-12-03T08:22:37.464956",
     "exception": false,
     "start_time": "2022-12-03T08:22:37.428876",
     "status": "completed"
    },
    "tags": []
   },
   "outputs": [
    {
     "name": "stdout",
     "output_type": "stream",
     "text": [
      "/kaggle/input/housing-in-london/housing_in_london_monthly_variables.csv\n",
      "/kaggle/input/housing-in-london/housing_in_london_yearly_variables.csv\n"
     ]
    }
   ],
   "source": [
    "# This Python 3 environment comes with many helpful analytics libraries installed\n",
    "# It is defined by the kaggle/python Docker image: https://github.com/kaggle/docker-python\n",
    "# For example, here's several helpful packages to load\n",
    "\n",
    "import numpy as np # linear algebra\n",
    "import pandas as pd # data processing, CSV file I/O (e.g. pd.read_csv)\n",
    "\n",
    "# Input data files are available in the read-only \"../input/\" directory\n",
    "# For example, running this (by clicking run or pressing Shift+Enter) will list all files under the input directory\n",
    "\n",
    "import os\n",
    "for dirname, _, filenames in os.walk('/kaggle/input'):\n",
    "    for filename in filenames:\n",
    "        print(os.path.join(dirname, filename))\n",
    "\n",
    "# You can write up to 20GB to the current directory (/kaggle/working/) that gets preserved as output when you create a version using \"Save & Run All\" \n",
    "# You can also write temporary files to /kaggle/temp/, but they won't be saved outside of the current session"
   ]
  },
  {
   "cell_type": "code",
   "execution_count": 2,
   "id": "01de549a",
   "metadata": {
    "execution": {
     "iopub.execute_input": "2022-12-03T08:22:37.486406Z",
     "iopub.status.busy": "2022-12-03T08:22:37.485487Z",
     "iopub.status.idle": "2022-12-03T08:22:37.491463Z",
     "shell.execute_reply": "2022-12-03T08:22:37.490204Z"
    },
    "papermill": {
     "duration": 0.019907,
     "end_time": "2022-12-03T08:22:37.494413",
     "exception": false,
     "start_time": "2022-12-03T08:22:37.474506",
     "status": "completed"
    },
    "tags": []
   },
   "outputs": [],
   "source": [
    "import pandas as pd"
   ]
  },
  {
   "cell_type": "code",
   "execution_count": 3,
   "id": "8e2d1648",
   "metadata": {
    "execution": {
     "iopub.execute_input": "2022-12-03T08:22:37.518971Z",
     "iopub.status.busy": "2022-12-03T08:22:37.518058Z",
     "iopub.status.idle": "2022-12-03T08:22:37.589183Z",
     "shell.execute_reply": "2022-12-03T08:22:37.587782Z"
    },
    "papermill": {
     "duration": 0.087991,
     "end_time": "2022-12-03T08:22:37.592189",
     "exception": false,
     "start_time": "2022-12-03T08:22:37.504198",
     "status": "completed"
    },
    "tags": []
   },
   "outputs": [
    {
     "data": {
      "text/html": [
       "<div>\n",
       "<style scoped>\n",
       "    .dataframe tbody tr th:only-of-type {\n",
       "        vertical-align: middle;\n",
       "    }\n",
       "\n",
       "    .dataframe tbody tr th {\n",
       "        vertical-align: top;\n",
       "    }\n",
       "\n",
       "    .dataframe thead th {\n",
       "        text-align: right;\n",
       "    }\n",
       "</style>\n",
       "<table border=\"1\" class=\"dataframe\">\n",
       "  <thead>\n",
       "    <tr style=\"text-align: right;\">\n",
       "      <th></th>\n",
       "      <th>date</th>\n",
       "      <th>area</th>\n",
       "      <th>average_price</th>\n",
       "      <th>code</th>\n",
       "      <th>houses_sold</th>\n",
       "      <th>no_of_crimes</th>\n",
       "      <th>borough_flag</th>\n",
       "    </tr>\n",
       "  </thead>\n",
       "  <tbody>\n",
       "    <tr>\n",
       "      <th>0</th>\n",
       "      <td>1995-01-01</td>\n",
       "      <td>city of london</td>\n",
       "      <td>91449</td>\n",
       "      <td>E09000001</td>\n",
       "      <td>17.0</td>\n",
       "      <td>NaN</td>\n",
       "      <td>1</td>\n",
       "    </tr>\n",
       "    <tr>\n",
       "      <th>1</th>\n",
       "      <td>1995-02-01</td>\n",
       "      <td>city of london</td>\n",
       "      <td>82203</td>\n",
       "      <td>E09000001</td>\n",
       "      <td>7.0</td>\n",
       "      <td>NaN</td>\n",
       "      <td>1</td>\n",
       "    </tr>\n",
       "    <tr>\n",
       "      <th>2</th>\n",
       "      <td>1995-03-01</td>\n",
       "      <td>city of london</td>\n",
       "      <td>79121</td>\n",
       "      <td>E09000001</td>\n",
       "      <td>14.0</td>\n",
       "      <td>NaN</td>\n",
       "      <td>1</td>\n",
       "    </tr>\n",
       "    <tr>\n",
       "      <th>3</th>\n",
       "      <td>1995-04-01</td>\n",
       "      <td>city of london</td>\n",
       "      <td>77101</td>\n",
       "      <td>E09000001</td>\n",
       "      <td>7.0</td>\n",
       "      <td>NaN</td>\n",
       "      <td>1</td>\n",
       "    </tr>\n",
       "    <tr>\n",
       "      <th>4</th>\n",
       "      <td>1995-05-01</td>\n",
       "      <td>city of london</td>\n",
       "      <td>84409</td>\n",
       "      <td>E09000001</td>\n",
       "      <td>10.0</td>\n",
       "      <td>NaN</td>\n",
       "      <td>1</td>\n",
       "    </tr>\n",
       "  </tbody>\n",
       "</table>\n",
       "</div>"
      ],
      "text/plain": [
       "         date            area  average_price       code  houses_sold  \\\n",
       "0  1995-01-01  city of london          91449  E09000001         17.0   \n",
       "1  1995-02-01  city of london          82203  E09000001          7.0   \n",
       "2  1995-03-01  city of london          79121  E09000001         14.0   \n",
       "3  1995-04-01  city of london          77101  E09000001          7.0   \n",
       "4  1995-05-01  city of london          84409  E09000001         10.0   \n",
       "\n",
       "   no_of_crimes  borough_flag  \n",
       "0           NaN             1  \n",
       "1           NaN             1  \n",
       "2           NaN             1  \n",
       "3           NaN             1  \n",
       "4           NaN             1  "
      ]
     },
     "execution_count": 3,
     "metadata": {},
     "output_type": "execute_result"
    }
   ],
   "source": [
    "df1 = pd.read_csv(\"/kaggle/input/housing-in-london/housing_in_london_monthly_variables.csv\")\n",
    "df1.head()\n",
    "#df.isnull().sum()"
   ]
  },
  {
   "cell_type": "code",
   "execution_count": 4,
   "id": "8719e332",
   "metadata": {
    "execution": {
     "iopub.execute_input": "2022-12-03T08:22:37.614867Z",
     "iopub.status.busy": "2022-12-03T08:22:37.614374Z",
     "iopub.status.idle": "2022-12-03T08:22:37.626486Z",
     "shell.execute_reply": "2022-12-03T08:22:37.625306Z"
    },
    "papermill": {
     "duration": 0.026396,
     "end_time": "2022-12-03T08:22:37.628857",
     "exception": false,
     "start_time": "2022-12-03T08:22:37.602461",
     "status": "completed"
    },
    "tags": []
   },
   "outputs": [
    {
     "data": {
      "text/plain": [
       "dtype('O')"
      ]
     },
     "execution_count": 4,
     "metadata": {},
     "output_type": "execute_result"
    }
   ],
   "source": [
    "df1[\"date\"].dtypes"
   ]
  },
  {
   "cell_type": "code",
   "execution_count": 5,
   "id": "d36af8ca",
   "metadata": {
    "execution": {
     "iopub.execute_input": "2022-12-03T08:22:37.652289Z",
     "iopub.status.busy": "2022-12-03T08:22:37.651507Z",
     "iopub.status.idle": "2022-12-03T08:22:37.660775Z",
     "shell.execute_reply": "2022-12-03T08:22:37.659543Z"
    },
    "papermill": {
     "duration": 0.023861,
     "end_time": "2022-12-03T08:22:37.663172",
     "exception": false,
     "start_time": "2022-12-03T08:22:37.639311",
     "status": "completed"
    },
    "tags": []
   },
   "outputs": [
    {
     "data": {
      "text/plain": [
       "date              object\n",
       "area              object\n",
       "average_price      int64\n",
       "code              object\n",
       "houses_sold      float64\n",
       "no_of_crimes     float64\n",
       "borough_flag       int64\n",
       "dtype: object"
      ]
     },
     "execution_count": 5,
     "metadata": {},
     "output_type": "execute_result"
    }
   ],
   "source": [
    "result = df1.dtypes\n",
    "result"
   ]
  },
  {
   "cell_type": "code",
   "execution_count": 6,
   "id": "02a80a85",
   "metadata": {
    "execution": {
     "iopub.execute_input": "2022-12-03T08:22:37.686776Z",
     "iopub.status.busy": "2022-12-03T08:22:37.686003Z",
     "iopub.status.idle": "2022-12-03T08:22:37.691053Z",
     "shell.execute_reply": "2022-12-03T08:22:37.690109Z"
    },
    "papermill": {
     "duration": 0.019903,
     "end_time": "2022-12-03T08:22:37.693664",
     "exception": false,
     "start_time": "2022-12-03T08:22:37.673761",
     "status": "completed"
    },
    "tags": []
   },
   "outputs": [],
   "source": [
    "#df1[\"date\"] = pd.to_datetime(df[\"date\"])\n"
   ]
  },
  {
   "cell_type": "code",
   "execution_count": 7,
   "id": "d3ed5538",
   "metadata": {
    "execution": {
     "iopub.execute_input": "2022-12-03T08:22:37.716704Z",
     "iopub.status.busy": "2022-12-03T08:22:37.715964Z",
     "iopub.status.idle": "2022-12-03T08:22:37.723637Z",
     "shell.execute_reply": "2022-12-03T08:22:37.722449Z"
    },
    "papermill": {
     "duration": 0.022137,
     "end_time": "2022-12-03T08:22:37.725969",
     "exception": false,
     "start_time": "2022-12-03T08:22:37.703832",
     "status": "completed"
    },
    "tags": []
   },
   "outputs": [
    {
     "data": {
      "text/plain": [
       "dtype('O')"
      ]
     },
     "execution_count": 7,
     "metadata": {},
     "output_type": "execute_result"
    }
   ],
   "source": [
    "df1[\"date\"].dtypes"
   ]
  },
  {
   "cell_type": "code",
   "execution_count": 8,
   "id": "e787d6d3",
   "metadata": {
    "execution": {
     "iopub.execute_input": "2022-12-03T08:22:37.749833Z",
     "iopub.status.busy": "2022-12-03T08:22:37.749354Z",
     "iopub.status.idle": "2022-12-03T08:22:37.759100Z",
     "shell.execute_reply": "2022-12-03T08:22:37.757724Z"
    },
    "papermill": {
     "duration": 0.02465,
     "end_time": "2022-12-03T08:22:37.761657",
     "exception": false,
     "start_time": "2022-12-03T08:22:37.737007",
     "status": "completed"
    },
    "tags": []
   },
   "outputs": [
    {
     "data": {
      "text/plain": [
       "date              object\n",
       "area              object\n",
       "average_price      int64\n",
       "code              object\n",
       "houses_sold      float64\n",
       "no_of_crimes     float64\n",
       "borough_flag       int64\n",
       "dtype: object"
      ]
     },
     "execution_count": 8,
     "metadata": {},
     "output_type": "execute_result"
    }
   ],
   "source": [
    "df1.dtypes"
   ]
  },
  {
   "cell_type": "code",
   "execution_count": 9,
   "id": "2d6985d8",
   "metadata": {
    "execution": {
     "iopub.execute_input": "2022-12-03T08:22:37.784470Z",
     "iopub.status.busy": "2022-12-03T08:22:37.784049Z",
     "iopub.status.idle": "2022-12-03T08:22:37.799494Z",
     "shell.execute_reply": "2022-12-03T08:22:37.798271Z"
    },
    "papermill": {
     "duration": 0.030796,
     "end_time": "2022-12-03T08:22:37.802816",
     "exception": false,
     "start_time": "2022-12-03T08:22:37.772020",
     "status": "completed"
    },
    "tags": []
   },
   "outputs": [],
   "source": [
    "df1.dropna(inplace=True)"
   ]
  },
  {
   "cell_type": "code",
   "execution_count": 10,
   "id": "90886432",
   "metadata": {
    "execution": {
     "iopub.execute_input": "2022-12-03T08:22:37.826492Z",
     "iopub.status.busy": "2022-12-03T08:22:37.826093Z",
     "iopub.status.idle": "2022-12-03T08:22:37.842706Z",
     "shell.execute_reply": "2022-12-03T08:22:37.841233Z"
    },
    "papermill": {
     "duration": 0.031785,
     "end_time": "2022-12-03T08:22:37.845586",
     "exception": false,
     "start_time": "2022-12-03T08:22:37.813801",
     "status": "completed"
    },
    "tags": []
   },
   "outputs": [
    {
     "data": {
      "text/html": [
       "<div>\n",
       "<style scoped>\n",
       "    .dataframe tbody tr th:only-of-type {\n",
       "        vertical-align: middle;\n",
       "    }\n",
       "\n",
       "    .dataframe tbody tr th {\n",
       "        vertical-align: top;\n",
       "    }\n",
       "\n",
       "    .dataframe thead th {\n",
       "        text-align: right;\n",
       "    }\n",
       "</style>\n",
       "<table border=\"1\" class=\"dataframe\">\n",
       "  <thead>\n",
       "    <tr style=\"text-align: right;\">\n",
       "      <th></th>\n",
       "      <th>date</th>\n",
       "      <th>area</th>\n",
       "      <th>average_price</th>\n",
       "      <th>code</th>\n",
       "      <th>houses_sold</th>\n",
       "      <th>no_of_crimes</th>\n",
       "      <th>borough_flag</th>\n",
       "    </tr>\n",
       "  </thead>\n",
       "  <tbody>\n",
       "    <tr>\n",
       "      <th>72</th>\n",
       "      <td>2001-01-01</td>\n",
       "      <td>city of london</td>\n",
       "      <td>284262</td>\n",
       "      <td>E09000001</td>\n",
       "      <td>24.0</td>\n",
       "      <td>0.0</td>\n",
       "      <td>1</td>\n",
       "    </tr>\n",
       "    <tr>\n",
       "      <th>73</th>\n",
       "      <td>2001-02-01</td>\n",
       "      <td>city of london</td>\n",
       "      <td>198137</td>\n",
       "      <td>E09000001</td>\n",
       "      <td>37.0</td>\n",
       "      <td>0.0</td>\n",
       "      <td>1</td>\n",
       "    </tr>\n",
       "    <tr>\n",
       "      <th>74</th>\n",
       "      <td>2001-03-01</td>\n",
       "      <td>city of london</td>\n",
       "      <td>189033</td>\n",
       "      <td>E09000001</td>\n",
       "      <td>44.0</td>\n",
       "      <td>0.0</td>\n",
       "      <td>1</td>\n",
       "    </tr>\n",
       "    <tr>\n",
       "      <th>75</th>\n",
       "      <td>2001-04-01</td>\n",
       "      <td>city of london</td>\n",
       "      <td>205494</td>\n",
       "      <td>E09000001</td>\n",
       "      <td>38.0</td>\n",
       "      <td>0.0</td>\n",
       "      <td>1</td>\n",
       "    </tr>\n",
       "    <tr>\n",
       "      <th>76</th>\n",
       "      <td>2001-05-01</td>\n",
       "      <td>city of london</td>\n",
       "      <td>223459</td>\n",
       "      <td>E09000001</td>\n",
       "      <td>30.0</td>\n",
       "      <td>0.0</td>\n",
       "      <td>1</td>\n",
       "    </tr>\n",
       "  </tbody>\n",
       "</table>\n",
       "</div>"
      ],
      "text/plain": [
       "          date            area  average_price       code  houses_sold  \\\n",
       "72  2001-01-01  city of london         284262  E09000001         24.0   \n",
       "73  2001-02-01  city of london         198137  E09000001         37.0   \n",
       "74  2001-03-01  city of london         189033  E09000001         44.0   \n",
       "75  2001-04-01  city of london         205494  E09000001         38.0   \n",
       "76  2001-05-01  city of london         223459  E09000001         30.0   \n",
       "\n",
       "    no_of_crimes  borough_flag  \n",
       "72           0.0             1  \n",
       "73           0.0             1  \n",
       "74           0.0             1  \n",
       "75           0.0             1  \n",
       "76           0.0             1  "
      ]
     },
     "execution_count": 10,
     "metadata": {},
     "output_type": "execute_result"
    }
   ],
   "source": [
    "df1.head()"
   ]
  },
  {
   "cell_type": "code",
   "execution_count": 11,
   "id": "662d35c3",
   "metadata": {
    "execution": {
     "iopub.execute_input": "2022-12-03T08:22:37.870536Z",
     "iopub.status.busy": "2022-12-03T08:22:37.869940Z",
     "iopub.status.idle": "2022-12-03T08:22:37.878218Z",
     "shell.execute_reply": "2022-12-03T08:22:37.876679Z"
    },
    "papermill": {
     "duration": 0.024376,
     "end_time": "2022-12-03T08:22:37.881069",
     "exception": false,
     "start_time": "2022-12-03T08:22:37.856693",
     "status": "completed"
    },
    "tags": []
   },
   "outputs": [
    {
     "data": {
      "text/plain": [
       "(7375, 7)"
      ]
     },
     "execution_count": 11,
     "metadata": {},
     "output_type": "execute_result"
    }
   ],
   "source": [
    "df1.shape"
   ]
  },
  {
   "cell_type": "code",
   "execution_count": 12,
   "id": "2b9c1656",
   "metadata": {
    "execution": {
     "iopub.execute_input": "2022-12-03T08:22:37.905620Z",
     "iopub.status.busy": "2022-12-03T08:22:37.905143Z",
     "iopub.status.idle": "2022-12-03T08:22:37.923567Z",
     "shell.execute_reply": "2022-12-03T08:22:37.922211Z"
    },
    "papermill": {
     "duration": 0.033925,
     "end_time": "2022-12-03T08:22:37.926143",
     "exception": false,
     "start_time": "2022-12-03T08:22:37.892218",
     "status": "completed"
    },
    "tags": []
   },
   "outputs": [
    {
     "data": {
      "text/plain": [
       "date              227\n",
       "area               33\n",
       "average_price    7312\n",
       "code               33\n",
       "houses_sold       729\n",
       "no_of_crimes     2658\n",
       "borough_flag        1\n",
       "dtype: int64"
      ]
     },
     "execution_count": 12,
     "metadata": {},
     "output_type": "execute_result"
    }
   ],
   "source": [
    "#drop the columsn with multiple values\n",
    "df1.nunique()"
   ]
  },
  {
   "cell_type": "code",
   "execution_count": 13,
   "id": "050ab659",
   "metadata": {
    "execution": {
     "iopub.execute_input": "2022-12-03T08:22:37.951030Z",
     "iopub.status.busy": "2022-12-03T08:22:37.949759Z",
     "iopub.status.idle": "2022-12-03T08:22:37.959060Z",
     "shell.execute_reply": "2022-12-03T08:22:37.957652Z"
    },
    "papermill": {
     "duration": 0.024578,
     "end_time": "2022-12-03T08:22:37.961852",
     "exception": false,
     "start_time": "2022-12-03T08:22:37.937274",
     "status": "completed"
    },
    "tags": []
   },
   "outputs": [
    {
     "data": {
      "text/plain": [
       "dtype('int64')"
      ]
     },
     "execution_count": 13,
     "metadata": {},
     "output_type": "execute_result"
    }
   ],
   "source": [
    "df1[\"average_price\"].dtypes"
   ]
  },
  {
   "cell_type": "code",
   "execution_count": 14,
   "id": "6f1eb271",
   "metadata": {
    "execution": {
     "iopub.execute_input": "2022-12-03T08:22:37.988892Z",
     "iopub.status.busy": "2022-12-03T08:22:37.988447Z",
     "iopub.status.idle": "2022-12-03T08:22:37.994391Z",
     "shell.execute_reply": "2022-12-03T08:22:37.993652Z"
    },
    "papermill": {
     "duration": 0.021609,
     "end_time": "2022-12-03T08:22:37.996740",
     "exception": false,
     "start_time": "2022-12-03T08:22:37.975131",
     "status": "completed"
    },
    "tags": []
   },
   "outputs": [
    {
     "data": {
      "text/plain": [
       "dtype('float64')"
      ]
     },
     "execution_count": 14,
     "metadata": {},
     "output_type": "execute_result"
    }
   ],
   "source": [
    "df1[\"houses_sold\"].dtypes"
   ]
  },
  {
   "cell_type": "markdown",
   "id": "b31766b5",
   "metadata": {
    "papermill": {
     "duration": 0.011204,
     "end_time": "2022-12-03T08:22:38.019570",
     "exception": false,
     "start_time": "2022-12-03T08:22:38.008366",
     "status": "completed"
    },
    "tags": []
   },
   "source": [
    "**Read the 2nd csv file into notebook**"
   ]
  },
  {
   "cell_type": "code",
   "execution_count": 15,
   "id": "3ca0399f",
   "metadata": {
    "execution": {
     "iopub.execute_input": "2022-12-03T08:22:38.046258Z",
     "iopub.status.busy": "2022-12-03T08:22:38.045636Z",
     "iopub.status.idle": "2022-12-03T08:22:38.062969Z",
     "shell.execute_reply": "2022-12-03T08:22:38.061522Z"
    },
    "papermill": {
     "duration": 0.034257,
     "end_time": "2022-12-03T08:22:38.066074",
     "exception": false,
     "start_time": "2022-12-03T08:22:38.031817",
     "status": "completed"
    },
    "tags": []
   },
   "outputs": [],
   "source": [
    "df2 = pd.read_csv(\"/kaggle/input/housing-in-london/housing_in_london_yearly_variables.csv\")"
   ]
  },
  {
   "cell_type": "code",
   "execution_count": 16,
   "id": "a0a94ac2",
   "metadata": {
    "execution": {
     "iopub.execute_input": "2022-12-03T08:22:38.091376Z",
     "iopub.status.busy": "2022-12-03T08:22:38.090905Z",
     "iopub.status.idle": "2022-12-03T08:22:38.111384Z",
     "shell.execute_reply": "2022-12-03T08:22:38.110194Z"
    },
    "papermill": {
     "duration": 0.036176,
     "end_time": "2022-12-03T08:22:38.113733",
     "exception": false,
     "start_time": "2022-12-03T08:22:38.077557",
     "status": "completed"
    },
    "tags": []
   },
   "outputs": [
    {
     "data": {
      "text/html": [
       "<div>\n",
       "<style scoped>\n",
       "    .dataframe tbody tr th:only-of-type {\n",
       "        vertical-align: middle;\n",
       "    }\n",
       "\n",
       "    .dataframe tbody tr th {\n",
       "        vertical-align: top;\n",
       "    }\n",
       "\n",
       "    .dataframe thead th {\n",
       "        text-align: right;\n",
       "    }\n",
       "</style>\n",
       "<table border=\"1\" class=\"dataframe\">\n",
       "  <thead>\n",
       "    <tr style=\"text-align: right;\">\n",
       "      <th></th>\n",
       "      <th>code</th>\n",
       "      <th>area</th>\n",
       "      <th>date</th>\n",
       "      <th>median_salary</th>\n",
       "      <th>life_satisfaction</th>\n",
       "      <th>mean_salary</th>\n",
       "      <th>recycling_pct</th>\n",
       "      <th>population_size</th>\n",
       "      <th>number_of_jobs</th>\n",
       "      <th>area_size</th>\n",
       "      <th>no_of_houses</th>\n",
       "      <th>borough_flag</th>\n",
       "    </tr>\n",
       "  </thead>\n",
       "  <tbody>\n",
       "    <tr>\n",
       "      <th>0</th>\n",
       "      <td>E09000001</td>\n",
       "      <td>city of london</td>\n",
       "      <td>1999-12-01</td>\n",
       "      <td>33020.0</td>\n",
       "      <td>NaN</td>\n",
       "      <td>48922</td>\n",
       "      <td>0</td>\n",
       "      <td>6581.0</td>\n",
       "      <td>NaN</td>\n",
       "      <td>NaN</td>\n",
       "      <td>NaN</td>\n",
       "      <td>1</td>\n",
       "    </tr>\n",
       "    <tr>\n",
       "      <th>1</th>\n",
       "      <td>E09000002</td>\n",
       "      <td>barking and dagenham</td>\n",
       "      <td>1999-12-01</td>\n",
       "      <td>21480.0</td>\n",
       "      <td>NaN</td>\n",
       "      <td>23620</td>\n",
       "      <td>3</td>\n",
       "      <td>162444.0</td>\n",
       "      <td>NaN</td>\n",
       "      <td>NaN</td>\n",
       "      <td>NaN</td>\n",
       "      <td>1</td>\n",
       "    </tr>\n",
       "    <tr>\n",
       "      <th>2</th>\n",
       "      <td>E09000003</td>\n",
       "      <td>barnet</td>\n",
       "      <td>1999-12-01</td>\n",
       "      <td>19568.0</td>\n",
       "      <td>NaN</td>\n",
       "      <td>23128</td>\n",
       "      <td>8</td>\n",
       "      <td>313469.0</td>\n",
       "      <td>NaN</td>\n",
       "      <td>NaN</td>\n",
       "      <td>NaN</td>\n",
       "      <td>1</td>\n",
       "    </tr>\n",
       "    <tr>\n",
       "      <th>3</th>\n",
       "      <td>E09000004</td>\n",
       "      <td>bexley</td>\n",
       "      <td>1999-12-01</td>\n",
       "      <td>18621.0</td>\n",
       "      <td>NaN</td>\n",
       "      <td>21386</td>\n",
       "      <td>18</td>\n",
       "      <td>217458.0</td>\n",
       "      <td>NaN</td>\n",
       "      <td>NaN</td>\n",
       "      <td>NaN</td>\n",
       "      <td>1</td>\n",
       "    </tr>\n",
       "    <tr>\n",
       "      <th>4</th>\n",
       "      <td>E09000005</td>\n",
       "      <td>brent</td>\n",
       "      <td>1999-12-01</td>\n",
       "      <td>18532.0</td>\n",
       "      <td>NaN</td>\n",
       "      <td>20911</td>\n",
       "      <td>6</td>\n",
       "      <td>260317.0</td>\n",
       "      <td>NaN</td>\n",
       "      <td>NaN</td>\n",
       "      <td>NaN</td>\n",
       "      <td>1</td>\n",
       "    </tr>\n",
       "  </tbody>\n",
       "</table>\n",
       "</div>"
      ],
      "text/plain": [
       "        code                  area        date  median_salary  \\\n",
       "0  E09000001        city of london  1999-12-01        33020.0   \n",
       "1  E09000002  barking and dagenham  1999-12-01        21480.0   \n",
       "2  E09000003                barnet  1999-12-01        19568.0   \n",
       "3  E09000004                bexley  1999-12-01        18621.0   \n",
       "4  E09000005                 brent  1999-12-01        18532.0   \n",
       "\n",
       "   life_satisfaction mean_salary recycling_pct  population_size  \\\n",
       "0                NaN       48922             0           6581.0   \n",
       "1                NaN       23620             3         162444.0   \n",
       "2                NaN       23128             8         313469.0   \n",
       "3                NaN       21386            18         217458.0   \n",
       "4                NaN       20911             6         260317.0   \n",
       "\n",
       "   number_of_jobs  area_size  no_of_houses  borough_flag  \n",
       "0             NaN        NaN           NaN             1  \n",
       "1             NaN        NaN           NaN             1  \n",
       "2             NaN        NaN           NaN             1  \n",
       "3             NaN        NaN           NaN             1  \n",
       "4             NaN        NaN           NaN             1  "
      ]
     },
     "execution_count": 16,
     "metadata": {},
     "output_type": "execute_result"
    }
   ],
   "source": [
    "df2.head()"
   ]
  },
  {
   "cell_type": "code",
   "execution_count": 17,
   "id": "60265497",
   "metadata": {
    "execution": {
     "iopub.execute_input": "2022-12-03T08:22:38.138836Z",
     "iopub.status.busy": "2022-12-03T08:22:38.138388Z",
     "iopub.status.idle": "2022-12-03T08:22:38.146626Z",
     "shell.execute_reply": "2022-12-03T08:22:38.145196Z"
    },
    "papermill": {
     "duration": 0.02463,
     "end_time": "2022-12-03T08:22:38.149888",
     "exception": false,
     "start_time": "2022-12-03T08:22:38.125258",
     "status": "completed"
    },
    "tags": []
   },
   "outputs": [
    {
     "data": {
      "text/plain": [
       "(1071, 12)"
      ]
     },
     "execution_count": 17,
     "metadata": {},
     "output_type": "execute_result"
    }
   ],
   "source": [
    "df2.shape"
   ]
  },
  {
   "cell_type": "code",
   "execution_count": 18,
   "id": "c25fb8f1",
   "metadata": {
    "execution": {
     "iopub.execute_input": "2022-12-03T08:22:38.175613Z",
     "iopub.status.busy": "2022-12-03T08:22:38.175122Z",
     "iopub.status.idle": "2022-12-03T08:22:38.189993Z",
     "shell.execute_reply": "2022-12-03T08:22:38.188532Z"
    },
    "papermill": {
     "duration": 0.030927,
     "end_time": "2022-12-03T08:22:38.193073",
     "exception": false,
     "start_time": "2022-12-03T08:22:38.162146",
     "status": "completed"
    },
    "tags": []
   },
   "outputs": [
    {
     "data": {
      "text/plain": [
       "code                   51\n",
       "area                   51\n",
       "date                   21\n",
       "median_salary        1017\n",
       "life_satisfaction      82\n",
       "mean_salary          1041\n",
       "recycling_pct          57\n",
       "population_size      1017\n",
       "number_of_jobs        504\n",
       "area_size              37\n",
       "no_of_houses          663\n",
       "borough_flag            2\n",
       "dtype: int64"
      ]
     },
     "execution_count": 18,
     "metadata": {},
     "output_type": "execute_result"
    }
   ],
   "source": [
    "df2.nunique()"
   ]
  },
  {
   "cell_type": "code",
   "execution_count": 19,
   "id": "b2be6d08",
   "metadata": {
    "execution": {
     "iopub.execute_input": "2022-12-03T08:22:38.218486Z",
     "iopub.status.busy": "2022-12-03T08:22:38.218022Z",
     "iopub.status.idle": "2022-12-03T08:22:38.248834Z",
     "shell.execute_reply": "2022-12-03T08:22:38.247343Z"
    },
    "papermill": {
     "duration": 0.046612,
     "end_time": "2022-12-03T08:22:38.251569",
     "exception": false,
     "start_time": "2022-12-03T08:22:38.204957",
     "status": "completed"
    },
    "tags": []
   },
   "outputs": [
    {
     "data": {
      "text/html": [
       "<div>\n",
       "<style scoped>\n",
       "    .dataframe tbody tr th:only-of-type {\n",
       "        vertical-align: middle;\n",
       "    }\n",
       "\n",
       "    .dataframe tbody tr th {\n",
       "        vertical-align: top;\n",
       "    }\n",
       "\n",
       "    .dataframe thead th {\n",
       "        text-align: right;\n",
       "    }\n",
       "</style>\n",
       "<table border=\"1\" class=\"dataframe\">\n",
       "  <thead>\n",
       "    <tr style=\"text-align: right;\">\n",
       "      <th></th>\n",
       "      <th>date</th>\n",
       "      <th>area</th>\n",
       "      <th>average_price</th>\n",
       "      <th>code</th>\n",
       "      <th>houses_sold</th>\n",
       "      <th>no_of_crimes</th>\n",
       "      <th>borough_flag</th>\n",
       "      <th>median_salary</th>\n",
       "      <th>life_satisfaction</th>\n",
       "      <th>mean_salary</th>\n",
       "      <th>recycling_pct</th>\n",
       "      <th>population_size</th>\n",
       "      <th>number_of_jobs</th>\n",
       "      <th>area_size</th>\n",
       "      <th>no_of_houses</th>\n",
       "    </tr>\n",
       "  </thead>\n",
       "  <tbody>\n",
       "    <tr>\n",
       "      <th>72</th>\n",
       "      <td>2001-01-01</td>\n",
       "      <td>city of london</td>\n",
       "      <td>284262.0</td>\n",
       "      <td>E09000001</td>\n",
       "      <td>24.0</td>\n",
       "      <td>0.0</td>\n",
       "      <td>1</td>\n",
       "      <td>NaN</td>\n",
       "      <td>NaN</td>\n",
       "      <td>NaN</td>\n",
       "      <td>NaN</td>\n",
       "      <td>NaN</td>\n",
       "      <td>NaN</td>\n",
       "      <td>NaN</td>\n",
       "      <td>NaN</td>\n",
       "    </tr>\n",
       "    <tr>\n",
       "      <th>73</th>\n",
       "      <td>2001-02-01</td>\n",
       "      <td>city of london</td>\n",
       "      <td>198137.0</td>\n",
       "      <td>E09000001</td>\n",
       "      <td>37.0</td>\n",
       "      <td>0.0</td>\n",
       "      <td>1</td>\n",
       "      <td>NaN</td>\n",
       "      <td>NaN</td>\n",
       "      <td>NaN</td>\n",
       "      <td>NaN</td>\n",
       "      <td>NaN</td>\n",
       "      <td>NaN</td>\n",
       "      <td>NaN</td>\n",
       "      <td>NaN</td>\n",
       "    </tr>\n",
       "    <tr>\n",
       "      <th>74</th>\n",
       "      <td>2001-03-01</td>\n",
       "      <td>city of london</td>\n",
       "      <td>189033.0</td>\n",
       "      <td>E09000001</td>\n",
       "      <td>44.0</td>\n",
       "      <td>0.0</td>\n",
       "      <td>1</td>\n",
       "      <td>NaN</td>\n",
       "      <td>NaN</td>\n",
       "      <td>NaN</td>\n",
       "      <td>NaN</td>\n",
       "      <td>NaN</td>\n",
       "      <td>NaN</td>\n",
       "      <td>NaN</td>\n",
       "      <td>NaN</td>\n",
       "    </tr>\n",
       "    <tr>\n",
       "      <th>75</th>\n",
       "      <td>2001-04-01</td>\n",
       "      <td>city of london</td>\n",
       "      <td>205494.0</td>\n",
       "      <td>E09000001</td>\n",
       "      <td>38.0</td>\n",
       "      <td>0.0</td>\n",
       "      <td>1</td>\n",
       "      <td>NaN</td>\n",
       "      <td>NaN</td>\n",
       "      <td>NaN</td>\n",
       "      <td>NaN</td>\n",
       "      <td>NaN</td>\n",
       "      <td>NaN</td>\n",
       "      <td>NaN</td>\n",
       "      <td>NaN</td>\n",
       "    </tr>\n",
       "    <tr>\n",
       "      <th>76</th>\n",
       "      <td>2001-05-01</td>\n",
       "      <td>city of london</td>\n",
       "      <td>223459.0</td>\n",
       "      <td>E09000001</td>\n",
       "      <td>30.0</td>\n",
       "      <td>0.0</td>\n",
       "      <td>1</td>\n",
       "      <td>NaN</td>\n",
       "      <td>NaN</td>\n",
       "      <td>NaN</td>\n",
       "      <td>NaN</td>\n",
       "      <td>NaN</td>\n",
       "      <td>NaN</td>\n",
       "      <td>NaN</td>\n",
       "      <td>NaN</td>\n",
       "    </tr>\n",
       "  </tbody>\n",
       "</table>\n",
       "</div>"
      ],
      "text/plain": [
       "          date            area  average_price       code  houses_sold  \\\n",
       "72  2001-01-01  city of london       284262.0  E09000001         24.0   \n",
       "73  2001-02-01  city of london       198137.0  E09000001         37.0   \n",
       "74  2001-03-01  city of london       189033.0  E09000001         44.0   \n",
       "75  2001-04-01  city of london       205494.0  E09000001         38.0   \n",
       "76  2001-05-01  city of london       223459.0  E09000001         30.0   \n",
       "\n",
       "    no_of_crimes  borough_flag  median_salary  life_satisfaction mean_salary  \\\n",
       "72           0.0             1            NaN                NaN         NaN   \n",
       "73           0.0             1            NaN                NaN         NaN   \n",
       "74           0.0             1            NaN                NaN         NaN   \n",
       "75           0.0             1            NaN                NaN         NaN   \n",
       "76           0.0             1            NaN                NaN         NaN   \n",
       "\n",
       "   recycling_pct  population_size  number_of_jobs  area_size  no_of_houses  \n",
       "72           NaN              NaN             NaN        NaN           NaN  \n",
       "73           NaN              NaN             NaN        NaN           NaN  \n",
       "74           NaN              NaN             NaN        NaN           NaN  \n",
       "75           NaN              NaN             NaN        NaN           NaN  \n",
       "76           NaN              NaN             NaN        NaN           NaN  "
      ]
     },
     "execution_count": 19,
     "metadata": {},
     "output_type": "execute_result"
    }
   ],
   "source": [
    "#concatinating the data frame\n",
    "df = pd.concat([df1, df2])\n",
    "df.head()"
   ]
  },
  {
   "cell_type": "code",
   "execution_count": 20,
   "id": "6b6a8696",
   "metadata": {
    "execution": {
     "iopub.execute_input": "2022-12-03T08:22:38.276748Z",
     "iopub.status.busy": "2022-12-03T08:22:38.276249Z",
     "iopub.status.idle": "2022-12-03T08:22:38.305512Z",
     "shell.execute_reply": "2022-12-03T08:22:38.304108Z"
    },
    "papermill": {
     "duration": 0.044947,
     "end_time": "2022-12-03T08:22:38.308196",
     "exception": false,
     "start_time": "2022-12-03T08:22:38.263249",
     "status": "completed"
    },
    "tags": []
   },
   "outputs": [
    {
     "data": {
      "text/html": [
       "<div>\n",
       "<style scoped>\n",
       "    .dataframe tbody tr th:only-of-type {\n",
       "        vertical-align: middle;\n",
       "    }\n",
       "\n",
       "    .dataframe tbody tr th {\n",
       "        vertical-align: top;\n",
       "    }\n",
       "\n",
       "    .dataframe thead th {\n",
       "        text-align: right;\n",
       "    }\n",
       "</style>\n",
       "<table border=\"1\" class=\"dataframe\">\n",
       "  <thead>\n",
       "    <tr style=\"text-align: right;\">\n",
       "      <th></th>\n",
       "      <th>date</th>\n",
       "      <th>area</th>\n",
       "      <th>average_price</th>\n",
       "      <th>code</th>\n",
       "      <th>houses_sold</th>\n",
       "      <th>no_of_crimes</th>\n",
       "      <th>borough_flag</th>\n",
       "      <th>median_salary</th>\n",
       "      <th>life_satisfaction</th>\n",
       "      <th>mean_salary</th>\n",
       "      <th>recycling_pct</th>\n",
       "      <th>population_size</th>\n",
       "      <th>number_of_jobs</th>\n",
       "      <th>area_size</th>\n",
       "      <th>no_of_houses</th>\n",
       "    </tr>\n",
       "  </thead>\n",
       "  <tbody>\n",
       "    <tr>\n",
       "      <th>72</th>\n",
       "      <td>False</td>\n",
       "      <td>False</td>\n",
       "      <td>False</td>\n",
       "      <td>False</td>\n",
       "      <td>False</td>\n",
       "      <td>False</td>\n",
       "      <td>False</td>\n",
       "      <td>True</td>\n",
       "      <td>True</td>\n",
       "      <td>True</td>\n",
       "      <td>True</td>\n",
       "      <td>True</td>\n",
       "      <td>True</td>\n",
       "      <td>True</td>\n",
       "      <td>True</td>\n",
       "    </tr>\n",
       "    <tr>\n",
       "      <th>73</th>\n",
       "      <td>False</td>\n",
       "      <td>False</td>\n",
       "      <td>False</td>\n",
       "      <td>False</td>\n",
       "      <td>False</td>\n",
       "      <td>False</td>\n",
       "      <td>False</td>\n",
       "      <td>True</td>\n",
       "      <td>True</td>\n",
       "      <td>True</td>\n",
       "      <td>True</td>\n",
       "      <td>True</td>\n",
       "      <td>True</td>\n",
       "      <td>True</td>\n",
       "      <td>True</td>\n",
       "    </tr>\n",
       "    <tr>\n",
       "      <th>74</th>\n",
       "      <td>False</td>\n",
       "      <td>False</td>\n",
       "      <td>False</td>\n",
       "      <td>False</td>\n",
       "      <td>False</td>\n",
       "      <td>False</td>\n",
       "      <td>False</td>\n",
       "      <td>True</td>\n",
       "      <td>True</td>\n",
       "      <td>True</td>\n",
       "      <td>True</td>\n",
       "      <td>True</td>\n",
       "      <td>True</td>\n",
       "      <td>True</td>\n",
       "      <td>True</td>\n",
       "    </tr>\n",
       "    <tr>\n",
       "      <th>75</th>\n",
       "      <td>False</td>\n",
       "      <td>False</td>\n",
       "      <td>False</td>\n",
       "      <td>False</td>\n",
       "      <td>False</td>\n",
       "      <td>False</td>\n",
       "      <td>False</td>\n",
       "      <td>True</td>\n",
       "      <td>True</td>\n",
       "      <td>True</td>\n",
       "      <td>True</td>\n",
       "      <td>True</td>\n",
       "      <td>True</td>\n",
       "      <td>True</td>\n",
       "      <td>True</td>\n",
       "    </tr>\n",
       "    <tr>\n",
       "      <th>76</th>\n",
       "      <td>False</td>\n",
       "      <td>False</td>\n",
       "      <td>False</td>\n",
       "      <td>False</td>\n",
       "      <td>False</td>\n",
       "      <td>False</td>\n",
       "      <td>False</td>\n",
       "      <td>True</td>\n",
       "      <td>True</td>\n",
       "      <td>True</td>\n",
       "      <td>True</td>\n",
       "      <td>True</td>\n",
       "      <td>True</td>\n",
       "      <td>True</td>\n",
       "      <td>True</td>\n",
       "    </tr>\n",
       "    <tr>\n",
       "      <th>...</th>\n",
       "      <td>...</td>\n",
       "      <td>...</td>\n",
       "      <td>...</td>\n",
       "      <td>...</td>\n",
       "      <td>...</td>\n",
       "      <td>...</td>\n",
       "      <td>...</td>\n",
       "      <td>...</td>\n",
       "      <td>...</td>\n",
       "      <td>...</td>\n",
       "      <td>...</td>\n",
       "      <td>...</td>\n",
       "      <td>...</td>\n",
       "      <td>...</td>\n",
       "      <td>...</td>\n",
       "    </tr>\n",
       "    <tr>\n",
       "      <th>1066</th>\n",
       "      <td>False</td>\n",
       "      <td>False</td>\n",
       "      <td>True</td>\n",
       "      <td>False</td>\n",
       "      <td>True</td>\n",
       "      <td>True</td>\n",
       "      <td>False</td>\n",
       "      <td>False</td>\n",
       "      <td>True</td>\n",
       "      <td>False</td>\n",
       "      <td>True</td>\n",
       "      <td>True</td>\n",
       "      <td>True</td>\n",
       "      <td>True</td>\n",
       "      <td>True</td>\n",
       "    </tr>\n",
       "    <tr>\n",
       "      <th>1067</th>\n",
       "      <td>False</td>\n",
       "      <td>False</td>\n",
       "      <td>True</td>\n",
       "      <td>False</td>\n",
       "      <td>True</td>\n",
       "      <td>True</td>\n",
       "      <td>False</td>\n",
       "      <td>False</td>\n",
       "      <td>True</td>\n",
       "      <td>False</td>\n",
       "      <td>True</td>\n",
       "      <td>True</td>\n",
       "      <td>True</td>\n",
       "      <td>True</td>\n",
       "      <td>True</td>\n",
       "    </tr>\n",
       "    <tr>\n",
       "      <th>1068</th>\n",
       "      <td>False</td>\n",
       "      <td>False</td>\n",
       "      <td>True</td>\n",
       "      <td>False</td>\n",
       "      <td>True</td>\n",
       "      <td>True</td>\n",
       "      <td>False</td>\n",
       "      <td>False</td>\n",
       "      <td>True</td>\n",
       "      <td>False</td>\n",
       "      <td>True</td>\n",
       "      <td>True</td>\n",
       "      <td>True</td>\n",
       "      <td>True</td>\n",
       "      <td>True</td>\n",
       "    </tr>\n",
       "    <tr>\n",
       "      <th>1069</th>\n",
       "      <td>False</td>\n",
       "      <td>False</td>\n",
       "      <td>True</td>\n",
       "      <td>False</td>\n",
       "      <td>True</td>\n",
       "      <td>True</td>\n",
       "      <td>False</td>\n",
       "      <td>False</td>\n",
       "      <td>True</td>\n",
       "      <td>False</td>\n",
       "      <td>True</td>\n",
       "      <td>True</td>\n",
       "      <td>True</td>\n",
       "      <td>True</td>\n",
       "      <td>True</td>\n",
       "    </tr>\n",
       "    <tr>\n",
       "      <th>1070</th>\n",
       "      <td>False</td>\n",
       "      <td>False</td>\n",
       "      <td>True</td>\n",
       "      <td>False</td>\n",
       "      <td>True</td>\n",
       "      <td>True</td>\n",
       "      <td>False</td>\n",
       "      <td>False</td>\n",
       "      <td>True</td>\n",
       "      <td>False</td>\n",
       "      <td>True</td>\n",
       "      <td>True</td>\n",
       "      <td>True</td>\n",
       "      <td>True</td>\n",
       "      <td>True</td>\n",
       "    </tr>\n",
       "  </tbody>\n",
       "</table>\n",
       "<p>8446 rows × 15 columns</p>\n",
       "</div>"
      ],
      "text/plain": [
       "       date   area  average_price   code  houses_sold  no_of_crimes  \\\n",
       "72    False  False          False  False        False         False   \n",
       "73    False  False          False  False        False         False   \n",
       "74    False  False          False  False        False         False   \n",
       "75    False  False          False  False        False         False   \n",
       "76    False  False          False  False        False         False   \n",
       "...     ...    ...            ...    ...          ...           ...   \n",
       "1066  False  False           True  False         True          True   \n",
       "1067  False  False           True  False         True          True   \n",
       "1068  False  False           True  False         True          True   \n",
       "1069  False  False           True  False         True          True   \n",
       "1070  False  False           True  False         True          True   \n",
       "\n",
       "      borough_flag  median_salary  life_satisfaction  mean_salary  \\\n",
       "72           False           True               True         True   \n",
       "73           False           True               True         True   \n",
       "74           False           True               True         True   \n",
       "75           False           True               True         True   \n",
       "76           False           True               True         True   \n",
       "...            ...            ...                ...          ...   \n",
       "1066         False          False               True        False   \n",
       "1067         False          False               True        False   \n",
       "1068         False          False               True        False   \n",
       "1069         False          False               True        False   \n",
       "1070         False          False               True        False   \n",
       "\n",
       "      recycling_pct  population_size  number_of_jobs  area_size  no_of_houses  \n",
       "72             True             True            True       True          True  \n",
       "73             True             True            True       True          True  \n",
       "74             True             True            True       True          True  \n",
       "75             True             True            True       True          True  \n",
       "76             True             True            True       True          True  \n",
       "...             ...              ...             ...        ...           ...  \n",
       "1066           True             True            True       True          True  \n",
       "1067           True             True            True       True          True  \n",
       "1068           True             True            True       True          True  \n",
       "1069           True             True            True       True          True  \n",
       "1070           True             True            True       True          True  \n",
       "\n",
       "[8446 rows x 15 columns]"
      ]
     },
     "execution_count": 20,
     "metadata": {},
     "output_type": "execute_result"
    }
   ],
   "source": [
    "df.isnull()"
   ]
  },
  {
   "cell_type": "code",
   "execution_count": 21,
   "id": "9a92108e",
   "metadata": {
    "execution": {
     "iopub.execute_input": "2022-12-03T08:22:38.334016Z",
     "iopub.status.busy": "2022-12-03T08:22:38.333526Z",
     "iopub.status.idle": "2022-12-03T08:22:38.341824Z",
     "shell.execute_reply": "2022-12-03T08:22:38.340605Z"
    },
    "papermill": {
     "duration": 0.024012,
     "end_time": "2022-12-03T08:22:38.344168",
     "exception": false,
     "start_time": "2022-12-03T08:22:38.320156",
     "status": "completed"
    },
    "tags": []
   },
   "outputs": [
    {
     "data": {
      "text/plain": [
       "(8446, 15)"
      ]
     },
     "execution_count": 21,
     "metadata": {},
     "output_type": "execute_result"
    }
   ],
   "source": [
    "df.shape"
   ]
  },
  {
   "cell_type": "code",
   "execution_count": 22,
   "id": "a8a715b4",
   "metadata": {
    "execution": {
     "iopub.execute_input": "2022-12-03T08:22:38.371025Z",
     "iopub.status.busy": "2022-12-03T08:22:38.370505Z",
     "iopub.status.idle": "2022-12-03T08:22:38.385210Z",
     "shell.execute_reply": "2022-12-03T08:22:38.384282Z"
    },
    "papermill": {
     "duration": 0.031359,
     "end_time": "2022-12-03T08:22:38.387544",
     "exception": false,
     "start_time": "2022-12-03T08:22:38.356185",
     "status": "completed"
    },
    "tags": []
   },
   "outputs": [
    {
     "data": {
      "text/plain": [
       "date                    0\n",
       "area                    0\n",
       "average_price        1071\n",
       "code                    0\n",
       "houses_sold          1071\n",
       "no_of_crimes         1071\n",
       "borough_flag            0\n",
       "median_salary        7397\n",
       "life_satisfaction    8094\n",
       "mean_salary          7375\n",
       "recycling_pct        7586\n",
       "population_size      7428\n",
       "number_of_jobs       7515\n",
       "area_size            7780\n",
       "no_of_houses         7780\n",
       "dtype: int64"
      ]
     },
     "execution_count": 22,
     "metadata": {},
     "output_type": "execute_result"
    }
   ],
   "source": [
    "df.isnull().sum()"
   ]
  },
  {
   "cell_type": "code",
   "execution_count": 23,
   "id": "ed8436c1",
   "metadata": {
    "execution": {
     "iopub.execute_input": "2022-12-03T08:22:38.414952Z",
     "iopub.status.busy": "2022-12-03T08:22:38.413664Z",
     "iopub.status.idle": "2022-12-03T08:22:38.418865Z",
     "shell.execute_reply": "2022-12-03T08:22:38.417805Z"
    },
    "papermill": {
     "duration": 0.021724,
     "end_time": "2022-12-03T08:22:38.421538",
     "exception": false,
     "start_time": "2022-12-03T08:22:38.399814",
     "status": "completed"
    },
    "tags": []
   },
   "outputs": [],
   "source": [
    "# dropping the columns\n",
    "#df.drop(columns = [\"no_of_crimes\", ])"
   ]
  },
  {
   "cell_type": "markdown",
   "id": "e7f270b9",
   "metadata": {
    "papermill": {
     "duration": 0.012106,
     "end_time": "2022-12-03T08:22:38.446785",
     "exception": false,
     "start_time": "2022-12-03T08:22:38.434679",
     "status": "completed"
    },
    "tags": []
   },
   "source": [
    "**This dataset does not seem to be useful to be used for the project**"
   ]
  },
  {
   "cell_type": "code",
   "execution_count": 24,
   "id": "72f1517b",
   "metadata": {
    "execution": {
     "iopub.execute_input": "2022-12-03T08:22:38.474034Z",
     "iopub.status.busy": "2022-12-03T08:22:38.473539Z",
     "iopub.status.idle": "2022-12-03T08:22:38.482338Z",
     "shell.execute_reply": "2022-12-03T08:22:38.481205Z"
    },
    "papermill": {
     "duration": 0.025464,
     "end_time": "2022-12-03T08:22:38.484849",
     "exception": false,
     "start_time": "2022-12-03T08:22:38.459385",
     "status": "completed"
    },
    "tags": []
   },
   "outputs": [
    {
     "data": {
      "text/plain": [
       "(8446, 15)"
      ]
     },
     "execution_count": 24,
     "metadata": {},
     "output_type": "execute_result"
    }
   ],
   "source": [
    "df.shape"
   ]
  },
  {
   "cell_type": "code",
   "execution_count": 25,
   "id": "73ba0c37",
   "metadata": {
    "execution": {
     "iopub.execute_input": "2022-12-03T08:22:38.512714Z",
     "iopub.status.busy": "2022-12-03T08:22:38.512261Z",
     "iopub.status.idle": "2022-12-03T08:22:38.528648Z",
     "shell.execute_reply": "2022-12-03T08:22:38.527523Z"
    },
    "papermill": {
     "duration": 0.033019,
     "end_time": "2022-12-03T08:22:38.531191",
     "exception": false,
     "start_time": "2022-12-03T08:22:38.498172",
     "status": "completed"
    },
    "tags": []
   },
   "outputs": [
    {
     "data": {
      "text/plain": [
       "date                  230\n",
       "area                   51\n",
       "average_price        7312\n",
       "code                   51\n",
       "houses_sold           729\n",
       "no_of_crimes         2658\n",
       "borough_flag            2\n",
       "median_salary        1017\n",
       "life_satisfaction      82\n",
       "mean_salary          1041\n",
       "recycling_pct          57\n",
       "population_size      1017\n",
       "number_of_jobs        504\n",
       "area_size              37\n",
       "no_of_houses          663\n",
       "dtype: int64"
      ]
     },
     "execution_count": 25,
     "metadata": {},
     "output_type": "execute_result"
    }
   ],
   "source": [
    "df.nunique()"
   ]
  },
  {
   "cell_type": "markdown",
   "id": "eb2fc9d7",
   "metadata": {
    "papermill": {
     "duration": 0.012991,
     "end_time": "2022-12-03T08:22:38.557153",
     "exception": false,
     "start_time": "2022-12-03T08:22:38.544162",
     "status": "completed"
    },
    "tags": []
   },
   "source": [
    ">> Get different corelations"
   ]
  },
  {
   "cell_type": "code",
   "execution_count": 26,
   "id": "4a774867",
   "metadata": {
    "execution": {
     "iopub.execute_input": "2022-12-03T08:22:38.584713Z",
     "iopub.status.busy": "2022-12-03T08:22:38.584265Z",
     "iopub.status.idle": "2022-12-03T08:22:40.231979Z",
     "shell.execute_reply": "2022-12-03T08:22:40.230514Z"
    },
    "papermill": {
     "duration": 1.664798,
     "end_time": "2022-12-03T08:22:40.234976",
     "exception": false,
     "start_time": "2022-12-03T08:22:38.570178",
     "status": "completed"
    },
    "tags": []
   },
   "outputs": [],
   "source": [
    "import matplotlib.pyplot as plt\n",
    "import pandas as pd\n",
    "import plotly.express as px"
   ]
  },
  {
   "cell_type": "code",
   "execution_count": 27,
   "id": "f405d3af",
   "metadata": {
    "execution": {
     "iopub.execute_input": "2022-12-03T08:22:40.262392Z",
     "iopub.status.busy": "2022-12-03T08:22:40.261847Z",
     "iopub.status.idle": "2022-12-03T08:22:40.267199Z",
     "shell.execute_reply": "2022-12-03T08:22:40.265867Z"
    },
    "papermill": {
     "duration": 0.022122,
     "end_time": "2022-12-03T08:22:40.269567",
     "exception": false,
     "start_time": "2022-12-03T08:22:40.247445",
     "status": "completed"
    },
    "tags": []
   },
   "outputs": [],
   "source": [
    "# fig = px.scatter_mapbox(\n",
    "#     df,\n",
    "#     lat=\"lat\",\n",
    "#     lon=\"lon\",\n",
    "#     center={\"lat\": 51.5072, \"lon\": -0.1276},  # Map will be centered on Brazil\n",
    "#     width=600,\n",
    "#     height=600,\n",
    "#     hover_data=[\"average_price\"],  # Display price when hovering mouse over house\n",
    "# )\n",
    "\n",
    "# fig.update_layout(mapbox_style=\"open-street-map\")\n",
    "\n",
    "# fig.show()"
   ]
  },
  {
   "cell_type": "code",
   "execution_count": 28,
   "id": "e8c60b74",
   "metadata": {
    "execution": {
     "iopub.execute_input": "2022-12-03T08:22:40.296460Z",
     "iopub.status.busy": "2022-12-03T08:22:40.295955Z",
     "iopub.status.idle": "2022-12-03T08:22:40.300785Z",
     "shell.execute_reply": "2022-12-03T08:22:40.299626Z"
    },
    "papermill": {
     "duration": 0.021553,
     "end_time": "2022-12-03T08:22:40.303330",
     "exception": false,
     "start_time": "2022-12-03T08:22:40.281777",
     "status": "completed"
    },
    "tags": []
   },
   "outputs": [],
   "source": [
    "#print(df[\"average_price\"].corr(df[\"area\"]))\n",
    "\n",
    "# since avg_price id of type int and area is str, so the corelation can not be calculated"
   ]
  },
  {
   "cell_type": "code",
   "execution_count": 29,
   "id": "d061e206",
   "metadata": {
    "execution": {
     "iopub.execute_input": "2022-12-03T08:22:40.330789Z",
     "iopub.status.busy": "2022-12-03T08:22:40.330239Z",
     "iopub.status.idle": "2022-12-03T08:22:40.339147Z",
     "shell.execute_reply": "2022-12-03T08:22:40.337933Z"
    },
    "papermill": {
     "duration": 0.025444,
     "end_time": "2022-12-03T08:22:40.341404",
     "exception": false,
     "start_time": "2022-12-03T08:22:40.315960",
     "status": "completed"
    },
    "tags": []
   },
   "outputs": [
    {
     "data": {
      "text/plain": [
       "27977.79218303146"
      ]
     },
     "execution_count": 29,
     "metadata": {},
     "output_type": "execute_result"
    }
   ],
   "source": [
    "mean_median_salary = df[\"median_salary\"].mean()\n",
    "mean_median_salary"
   ]
  },
  {
   "cell_type": "code",
   "execution_count": 30,
   "id": "026c4e2b",
   "metadata": {
    "execution": {
     "iopub.execute_input": "2022-12-03T08:22:40.368322Z",
     "iopub.status.busy": "2022-12-03T08:22:40.367847Z",
     "iopub.status.idle": "2022-12-03T08:22:40.372935Z",
     "shell.execute_reply": "2022-12-03T08:22:40.371659Z"
    },
    "papermill": {
     "duration": 0.021454,
     "end_time": "2022-12-03T08:22:40.375193",
     "exception": false,
     "start_time": "2022-12-03T08:22:40.353739",
     "status": "completed"
    },
    "tags": []
   },
   "outputs": [],
   "source": [
    "# mean_mean_salary = df[\"mean_salary\"].mean()\n",
    "# mean_mean_salary"
   ]
  },
  {
   "cell_type": "markdown",
   "id": "e4a1daaa",
   "metadata": {
    "papermill": {
     "duration": 0.012031,
     "end_time": "2022-12-03T08:22:40.399576",
     "exception": false,
     "start_time": "2022-12-03T08:22:40.387545",
     "status": "completed"
    },
    "tags": []
   },
   "source": [
    "lets try to replace nan vslues with 0 using fillna() method"
   ]
  },
  {
   "cell_type": "code",
   "execution_count": 31,
   "id": "0c30a4c5",
   "metadata": {
    "execution": {
     "iopub.execute_input": "2022-12-03T08:22:40.426894Z",
     "iopub.status.busy": "2022-12-03T08:22:40.426382Z",
     "iopub.status.idle": "2022-12-03T08:22:40.434673Z",
     "shell.execute_reply": "2022-12-03T08:22:40.433249Z"
    },
    "papermill": {
     "duration": 0.025103,
     "end_time": "2022-12-03T08:22:40.437222",
     "exception": false,
     "start_time": "2022-12-03T08:22:40.412119",
     "status": "completed"
    },
    "tags": []
   },
   "outputs": [
    {
     "data": {
      "text/plain": [
       "dtype('O')"
      ]
     },
     "execution_count": 31,
     "metadata": {},
     "output_type": "execute_result"
    }
   ],
   "source": [
    "df[\"mean_salary\"].dtypes"
   ]
  },
  {
   "cell_type": "code",
   "execution_count": 32,
   "id": "a6e9f5ec",
   "metadata": {
    "execution": {
     "iopub.execute_input": "2022-12-03T08:22:40.464509Z",
     "iopub.status.busy": "2022-12-03T08:22:40.463956Z",
     "iopub.status.idle": "2022-12-03T08:22:40.473628Z",
     "shell.execute_reply": "2022-12-03T08:22:40.472199Z"
    },
    "papermill": {
     "duration": 0.026604,
     "end_time": "2022-12-03T08:22:40.476275",
     "exception": false,
     "start_time": "2022-12-03T08:22:40.449671",
     "status": "completed"
    },
    "tags": []
   },
   "outputs": [],
   "source": [
    "df[\"mean_salary\"] = df[\"mean_salary\"].fillna(0)"
   ]
  },
  {
   "cell_type": "code",
   "execution_count": 33,
   "id": "386b2388",
   "metadata": {
    "execution": {
     "iopub.execute_input": "2022-12-03T08:22:40.503525Z",
     "iopub.status.busy": "2022-12-03T08:22:40.503034Z",
     "iopub.status.idle": "2022-12-03T08:22:40.512297Z",
     "shell.execute_reply": "2022-12-03T08:22:40.511101Z"
    },
    "papermill": {
     "duration": 0.025931,
     "end_time": "2022-12-03T08:22:40.514691",
     "exception": false,
     "start_time": "2022-12-03T08:22:40.488760",
     "status": "completed"
    },
    "tags": []
   },
   "outputs": [
    {
     "data": {
      "text/plain": [
       "0"
      ]
     },
     "execution_count": 33,
     "metadata": {},
     "output_type": "execute_result"
    }
   ],
   "source": [
    "df[\"mean_salary\"].isnull().sum()"
   ]
  },
  {
   "cell_type": "code",
   "execution_count": 34,
   "id": "4c926a7c",
   "metadata": {
    "execution": {
     "iopub.execute_input": "2022-12-03T08:22:40.542333Z",
     "iopub.status.busy": "2022-12-03T08:22:40.541393Z",
     "iopub.status.idle": "2022-12-03T08:22:40.547117Z",
     "shell.execute_reply": "2022-12-03T08:22:40.545655Z"
    },
    "papermill": {
     "duration": 0.022376,
     "end_time": "2022-12-03T08:22:40.549548",
     "exception": false,
     "start_time": "2022-12-03T08:22:40.527172",
     "status": "completed"
    },
    "tags": []
   },
   "outputs": [],
   "source": [
    "#df[\"mean_salary\"] = df[\"mean_salary\"].astype(float)"
   ]
  },
  {
   "cell_type": "code",
   "execution_count": 35,
   "id": "f1747d81",
   "metadata": {
    "execution": {
     "iopub.execute_input": "2022-12-03T08:22:40.578825Z",
     "iopub.status.busy": "2022-12-03T08:22:40.578328Z",
     "iopub.status.idle": "2022-12-03T08:22:40.586156Z",
     "shell.execute_reply": "2022-12-03T08:22:40.584947Z"
    },
    "papermill": {
     "duration": 0.025662,
     "end_time": "2022-12-03T08:22:40.588489",
     "exception": false,
     "start_time": "2022-12-03T08:22:40.562827",
     "status": "completed"
    },
    "tags": []
   },
   "outputs": [],
   "source": [
    "df[\"median_salary\"] = df[\"median_salary\"].replace(np.nan, mean_median_salary)"
   ]
  },
  {
   "cell_type": "code",
   "execution_count": 36,
   "id": "a46fb785",
   "metadata": {
    "execution": {
     "iopub.execute_input": "2022-12-03T08:22:40.617193Z",
     "iopub.status.busy": "2022-12-03T08:22:40.616802Z",
     "iopub.status.idle": "2022-12-03T08:22:40.629894Z",
     "shell.execute_reply": "2022-12-03T08:22:40.628417Z"
    },
    "papermill": {
     "duration": 0.030404,
     "end_time": "2022-12-03T08:22:40.632355",
     "exception": false,
     "start_time": "2022-12-03T08:22:40.601951",
     "status": "completed"
    },
    "tags": []
   },
   "outputs": [
    {
     "data": {
      "text/plain": [
       "date                    0\n",
       "area                    0\n",
       "average_price        1071\n",
       "code                    0\n",
       "houses_sold          1071\n",
       "no_of_crimes         1071\n",
       "borough_flag            0\n",
       "median_salary           0\n",
       "life_satisfaction    8094\n",
       "mean_salary             0\n",
       "recycling_pct        7586\n",
       "population_size      7428\n",
       "number_of_jobs       7515\n",
       "area_size            7780\n",
       "no_of_houses         7780\n",
       "dtype: int64"
      ]
     },
     "execution_count": 36,
     "metadata": {},
     "output_type": "execute_result"
    }
   ],
   "source": [
    "df.isnull().sum()"
   ]
  },
  {
   "cell_type": "code",
   "execution_count": 37,
   "id": "f2b85e84",
   "metadata": {
    "execution": {
     "iopub.execute_input": "2022-12-03T08:22:40.662689Z",
     "iopub.status.busy": "2022-12-03T08:22:40.662259Z",
     "iopub.status.idle": "2022-12-03T08:22:40.667285Z",
     "shell.execute_reply": "2022-12-03T08:22:40.666014Z"
    },
    "papermill": {
     "duration": 0.023868,
     "end_time": "2022-12-03T08:22:40.669890",
     "exception": false,
     "start_time": "2022-12-03T08:22:40.646022",
     "status": "completed"
    },
    "tags": []
   },
   "outputs": [],
   "source": [
    "#df['mean_salary'] = df[\"mean_salary\"].astype(float)"
   ]
  }
 ],
 "metadata": {
  "kernelspec": {
   "display_name": "Python 3",
   "language": "python",
   "name": "python3"
  },
  "language_info": {
   "codemirror_mode": {
    "name": "ipython",
    "version": 3
   },
   "file_extension": ".py",
   "mimetype": "text/x-python",
   "name": "python",
   "nbconvert_exporter": "python",
   "pygments_lexer": "ipython3",
   "version": "3.7.12"
  },
  "papermill": {
   "default_parameters": {},
   "duration": 15.364913,
   "end_time": "2022-12-03T08:22:41.811859",
   "environment_variables": {},
   "exception": null,
   "input_path": "__notebook__.ipynb",
   "output_path": "__notebook__.ipynb",
   "parameters": {},
   "start_time": "2022-12-03T08:22:26.446946",
   "version": "2.3.4"
  }
 },
 "nbformat": 4,
 "nbformat_minor": 5
}
