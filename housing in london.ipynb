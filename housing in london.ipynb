{
 "cells": [
  {
   "cell_type": "code",
   "execution_count": 1,
   "id": "9824919f",
   "metadata": {
    "_cell_guid": "b1076dfc-b9ad-4769-8c92-a6c4dae69d19",
    "_uuid": "8f2839f25d086af736a60e9eeb907d3b93b6e0e5",
    "execution": {
     "iopub.execute_input": "2022-12-02T17:51:42.760975Z",
     "iopub.status.busy": "2022-12-02T17:51:42.760444Z",
     "iopub.status.idle": "2022-12-02T17:51:42.782550Z",
     "shell.execute_reply": "2022-12-02T17:51:42.781355Z"
    },
    "papermill": {
     "duration": 0.029029,
     "end_time": "2022-12-02T17:51:42.784645",
     "exception": false,
     "start_time": "2022-12-02T17:51:42.755616",
     "status": "completed"
    },
    "tags": []
   },
   "outputs": [
    {
     "name": "stdout",
     "output_type": "stream",
     "text": [
      "/kaggle/input/housing-in-london/housing_in_london_monthly_variables.csv\n",
      "/kaggle/input/housing-in-london/housing_in_london_yearly_variables.csv\n"
     ]
    }
   ],
   "source": [
    "# This Python 3 environment comes with many helpful analytics libraries installed\n",
    "# It is defined by the kaggle/python Docker image: https://github.com/kaggle/docker-python\n",
    "# For example, here's several helpful packages to load\n",
    "\n",
    "import numpy as np # linear algebra\n",
    "import pandas as pd # data processing, CSV file I/O (e.g. pd.read_csv)\n",
    "\n",
    "# Input data files are available in the read-only \"../input/\" directory\n",
    "# For example, running this (by clicking run or pressing Shift+Enter) will list all files under the input directory\n",
    "\n",
    "import os\n",
    "for dirname, _, filenames in os.walk('/kaggle/input'):\n",
    "    for filename in filenames:\n",
    "        print(os.path.join(dirname, filename))\n",
    "\n",
    "# You can write up to 20GB to the current directory (/kaggle/working/) that gets preserved as output when you create a version using \"Save & Run All\" \n",
    "# You can also write temporary files to /kaggle/temp/, but they won't be saved outside of the current session"
   ]
  },
  {
   "cell_type": "code",
   "execution_count": 2,
   "id": "724a9e70",
   "metadata": {
    "execution": {
     "iopub.execute_input": "2022-12-02T17:51:42.791089Z",
     "iopub.status.busy": "2022-12-02T17:51:42.790777Z",
     "iopub.status.idle": "2022-12-02T17:51:42.795323Z",
     "shell.execute_reply": "2022-12-02T17:51:42.794658Z"
    },
    "papermill": {
     "duration": 0.010251,
     "end_time": "2022-12-02T17:51:42.797479",
     "exception": false,
     "start_time": "2022-12-02T17:51:42.787228",
     "status": "completed"
    },
    "tags": []
   },
   "outputs": [],
   "source": [
    "import pandas as pd"
   ]
  },
  {
   "cell_type": "code",
   "execution_count": 3,
   "id": "cedf23f5",
   "metadata": {
    "execution": {
     "iopub.execute_input": "2022-12-02T17:51:42.803769Z",
     "iopub.status.busy": "2022-12-02T17:51:42.803416Z",
     "iopub.status.idle": "2022-12-02T17:51:42.850647Z",
     "shell.execute_reply": "2022-12-02T17:51:42.849674Z"
    },
    "papermill": {
     "duration": 0.054339,
     "end_time": "2022-12-02T17:51:42.854441",
     "exception": false,
     "start_time": "2022-12-02T17:51:42.800102",
     "status": "completed"
    },
    "tags": []
   },
   "outputs": [
    {
     "data": {
      "text/plain": [
       "date                0\n",
       "area                0\n",
       "average_price       0\n",
       "code                0\n",
       "houses_sold        94\n",
       "no_of_crimes     6110\n",
       "borough_flag        0\n",
       "dtype: int64"
      ]
     },
     "execution_count": 3,
     "metadata": {},
     "output_type": "execute_result"
    }
   ],
   "source": [
    "df = pd.read_csv(\"/kaggle/input/housing-in-london/housing_in_london_monthly_variables.csv\")\n",
    "df.head()\n",
    "df.isnull().sum()"
   ]
  },
  {
   "cell_type": "code",
   "execution_count": 4,
   "id": "5a0d7ba5",
   "metadata": {
    "execution": {
     "iopub.execute_input": "2022-12-02T17:51:42.861639Z",
     "iopub.status.busy": "2022-12-02T17:51:42.860672Z",
     "iopub.status.idle": "2022-12-02T17:51:42.871118Z",
     "shell.execute_reply": "2022-12-02T17:51:42.870058Z"
    },
    "papermill": {
     "duration": 0.016111,
     "end_time": "2022-12-02T17:51:42.873185",
     "exception": false,
     "start_time": "2022-12-02T17:51:42.857074",
     "status": "completed"
    },
    "tags": []
   },
   "outputs": [
    {
     "data": {
      "text/plain": [
       "dtype('O')"
      ]
     },
     "execution_count": 4,
     "metadata": {},
     "output_type": "execute_result"
    }
   ],
   "source": [
    "df[\"date\"].dtypes"
   ]
  },
  {
   "cell_type": "code",
   "execution_count": 5,
   "id": "99b2dd1c",
   "metadata": {
    "execution": {
     "iopub.execute_input": "2022-12-02T17:51:42.880189Z",
     "iopub.status.busy": "2022-12-02T17:51:42.879869Z",
     "iopub.status.idle": "2022-12-02T17:51:42.886236Z",
     "shell.execute_reply": "2022-12-02T17:51:42.885641Z"
    },
    "papermill": {
     "duration": 0.011729,
     "end_time": "2022-12-02T17:51:42.887721",
     "exception": false,
     "start_time": "2022-12-02T17:51:42.875992",
     "status": "completed"
    },
    "tags": []
   },
   "outputs": [
    {
     "data": {
      "text/plain": [
       "date              object\n",
       "area              object\n",
       "average_price      int64\n",
       "code              object\n",
       "houses_sold      float64\n",
       "no_of_crimes     float64\n",
       "borough_flag       int64\n",
       "dtype: object"
      ]
     },
     "execution_count": 5,
     "metadata": {},
     "output_type": "execute_result"
    }
   ],
   "source": [
    "result = df.dtypes\n",
    "result"
   ]
  },
  {
   "cell_type": "code",
   "execution_count": 6,
   "id": "9b9c166b",
   "metadata": {
    "execution": {
     "iopub.execute_input": "2022-12-02T17:51:42.894789Z",
     "iopub.status.busy": "2022-12-02T17:51:42.894268Z",
     "iopub.status.idle": "2022-12-02T17:51:42.908101Z",
     "shell.execute_reply": "2022-12-02T17:51:42.907085Z"
    },
    "papermill": {
     "duration": 0.019895,
     "end_time": "2022-12-02T17:51:42.910471",
     "exception": false,
     "start_time": "2022-12-02T17:51:42.890576",
     "status": "completed"
    },
    "tags": []
   },
   "outputs": [],
   "source": [
    "df[\"date\"] = pd.to_datetime(df[\"date\"])\n"
   ]
  },
  {
   "cell_type": "code",
   "execution_count": 7,
   "id": "ecd0363b",
   "metadata": {
    "execution": {
     "iopub.execute_input": "2022-12-02T17:51:42.918142Z",
     "iopub.status.busy": "2022-12-02T17:51:42.917095Z",
     "iopub.status.idle": "2022-12-02T17:51:42.923275Z",
     "shell.execute_reply": "2022-12-02T17:51:42.922577Z"
    },
    "papermill": {
     "duration": 0.011629,
     "end_time": "2022-12-02T17:51:42.924890",
     "exception": false,
     "start_time": "2022-12-02T17:51:42.913261",
     "status": "completed"
    },
    "tags": []
   },
   "outputs": [
    {
     "data": {
      "text/plain": [
       "dtype('<M8[ns]')"
      ]
     },
     "execution_count": 7,
     "metadata": {},
     "output_type": "execute_result"
    }
   ],
   "source": [
    "df[\"date\"].dtypes"
   ]
  },
  {
   "cell_type": "code",
   "execution_count": 8,
   "id": "e5052e21",
   "metadata": {
    "execution": {
     "iopub.execute_input": "2022-12-02T17:51:42.931686Z",
     "iopub.status.busy": "2022-12-02T17:51:42.931083Z",
     "iopub.status.idle": "2022-12-02T17:51:42.937613Z",
     "shell.execute_reply": "2022-12-02T17:51:42.936697Z"
    },
    "papermill": {
     "duration": 0.011695,
     "end_time": "2022-12-02T17:51:42.939332",
     "exception": false,
     "start_time": "2022-12-02T17:51:42.927637",
     "status": "completed"
    },
    "tags": []
   },
   "outputs": [
    {
     "data": {
      "text/plain": [
       "date             datetime64[ns]\n",
       "area                     object\n",
       "average_price             int64\n",
       "code                     object\n",
       "houses_sold             float64\n",
       "no_of_crimes            float64\n",
       "borough_flag              int64\n",
       "dtype: object"
      ]
     },
     "execution_count": 8,
     "metadata": {},
     "output_type": "execute_result"
    }
   ],
   "source": [
    "df.dtypes"
   ]
  }
 ],
 "metadata": {
  "kernelspec": {
   "display_name": "Python 3",
   "language": "python",
   "name": "python3"
  },
  "language_info": {
   "codemirror_mode": {
    "name": "ipython",
    "version": 3
   },
   "file_extension": ".py",
   "mimetype": "text/x-python",
   "name": "python",
   "nbconvert_exporter": "python",
   "pygments_lexer": "ipython3",
   "version": "3.7.12"
  },
  "papermill": {
   "default_parameters": {},
   "duration": 9.713379,
   "end_time": "2022-12-02T17:51:43.562639",
   "environment_variables": {},
   "exception": null,
   "input_path": "__notebook__.ipynb",
   "output_path": "__notebook__.ipynb",
   "parameters": {},
   "start_time": "2022-12-02T17:51:33.849260",
   "version": "2.3.4"
  }
 },
 "nbformat": 4,
 "nbformat_minor": 5
}
