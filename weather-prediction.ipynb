{
 "cells": [
  {
   "cell_type": "code",
   "execution_count": 1,
   "id": "d4538673",
   "metadata": {
    "_cell_guid": "b1076dfc-b9ad-4769-8c92-a6c4dae69d19",
    "_uuid": "8f2839f25d086af736a60e9eeb907d3b93b6e0e5",
    "execution": {
     "iopub.execute_input": "2023-01-10T20:12:56.208044Z",
     "iopub.status.busy": "2023-01-10T20:12:56.207445Z",
     "iopub.status.idle": "2023-01-10T20:12:56.230372Z",
     "shell.execute_reply": "2023-01-10T20:12:56.229297Z"
    },
    "papermill": {
     "duration": 0.035862,
     "end_time": "2023-01-10T20:12:56.232993",
     "exception": false,
     "start_time": "2023-01-10T20:12:56.197131",
     "status": "completed"
    },
    "tags": []
   },
   "outputs": [
    {
     "name": "stdout",
     "output_type": "stream",
     "text": [
      "/kaggle/input/weather-dataset/weatherHistory.csv\n"
     ]
    }
   ],
   "source": [
    "# This Python 3 environment comes with many helpful analytics libraries installed\n",
    "# It is defined by the kaggle/python Docker image: https://github.com/kaggle/docker-python\n",
    "# For example, here's several helpful packages to load\n",
    "\n",
    "import numpy as np # linear algebra\n",
    "import pandas as pd # data processing, CSV file I/O (e.g. pd.read_csv)\n",
    "\n",
    "# Input data files are available in the read-only \"../input/\" directory\n",
    "# For example, running this (by clicking run or pressing Shift+Enter) will list all files under the input directory\n",
    "\n",
    "import os\n",
    "for dirname, _, filenames in os.walk('/kaggle/input'):\n",
    "    for filename in filenames:\n",
    "        print(os.path.join(dirname, filename))\n",
    "\n",
    "# You can write up to 20GB to the current directory (/kaggle/working/) that gets preserved as output when you create a version using \"Save & Run All\" \n",
    "# You can also write temporary files to /kaggle/temp/, but they won't be saved outside of the current session"
   ]
  },
  {
   "cell_type": "code",
   "execution_count": 2,
   "id": "5a1b3eba",
   "metadata": {
    "execution": {
     "iopub.execute_input": "2023-01-10T20:12:56.248783Z",
     "iopub.status.busy": "2023-01-10T20:12:56.248358Z",
     "iopub.status.idle": "2023-01-10T20:12:57.875000Z",
     "shell.execute_reply": "2023-01-10T20:12:57.873821Z"
    },
    "papermill": {
     "duration": 1.637569,
     "end_time": "2023-01-10T20:12:57.877710",
     "exception": false,
     "start_time": "2023-01-10T20:12:56.240141",
     "status": "completed"
    },
    "tags": []
   },
   "outputs": [],
   "source": [
    "import pandas as pd\n",
    "import numpy as np\n",
    "import matplotlib.pyplot as plt\n",
    "import seaborn as sns\n",
    "from sklearn.linear_model import LinearRegression, Ridge\n",
    "from sklearn.metrics import mean_absolute_error\n",
    "from statsmodels.tsa.ar_model import AutoReg"
   ]
  },
  {
   "cell_type": "code",
   "execution_count": 3,
   "id": "14f5ea85",
   "metadata": {
    "execution": {
     "iopub.execute_input": "2023-01-10T20:12:57.894526Z",
     "iopub.status.busy": "2023-01-10T20:12:57.893785Z",
     "iopub.status.idle": "2023-01-10T20:12:57.898966Z",
     "shell.execute_reply": "2023-01-10T20:12:57.898017Z"
    },
    "papermill": {
     "duration": 0.016315,
     "end_time": "2023-01-10T20:12:57.901236",
     "exception": false,
     "start_time": "2023-01-10T20:12:57.884921",
     "status": "completed"
    },
    "tags": []
   },
   "outputs": [],
   "source": [
    "# df = pd.read_csv(\"/kaggle/input/weather-dataset/weatherHistory.csv\")\n",
    "# df.head()"
   ]
  },
  {
   "cell_type": "markdown",
   "id": "1586bab9",
   "metadata": {
    "papermill": {
     "duration": 0.006858,
     "end_time": "2023-01-10T20:12:57.915222",
     "exception": false,
     "start_time": "2023-01-10T20:12:57.908364",
     "status": "completed"
    },
    "tags": []
   },
   "source": [
    "**Consider the rain as the target 1st**"
   ]
  },
  {
   "cell_type": "code",
   "execution_count": 4,
   "id": "15b4ca23",
   "metadata": {
    "execution": {
     "iopub.execute_input": "2023-01-10T20:12:57.931749Z",
     "iopub.status.busy": "2023-01-10T20:12:57.931339Z",
     "iopub.status.idle": "2023-01-10T20:12:57.938223Z",
     "shell.execute_reply": "2023-01-10T20:12:57.937142Z"
    },
    "papermill": {
     "duration": 0.018196,
     "end_time": "2023-01-10T20:12:57.940631",
     "exception": false,
     "start_time": "2023-01-10T20:12:57.922435",
     "status": "completed"
    },
    "tags": []
   },
   "outputs": [],
   "source": [
    "def wrangle(filepath):\n",
    "    df = pd.read_csv(filepath)\n",
    "    df.drop(columns = [\"Formatted Date\",\"Loud Cover\", \"Apparent Temperature (C)\", \"Summary\", \"Daily Summary\"], inplace=True)\n",
    "    mask_humidity = df[\"Humidity\"] > 0.1\n",
    "    mask_windspeed = df[\"Wind Speed (km/h)\"] < 59\n",
    "    mask_pressure = df[\"Pressure (millibars)\"] > 800\n",
    "    \n",
    "    df = df[mask_humidity & mask_windspeed & mask_pressure]\n",
    "    \n",
    "    df[\"Precip Type\"] = (df[\"Precip Type\"] == \"rain\").astype(int)\n",
    "    \n",
    "    return df"
   ]
  },
  {
   "cell_type": "code",
   "execution_count": 5,
   "id": "29c96b5a",
   "metadata": {
    "execution": {
     "iopub.execute_input": "2023-01-10T20:12:57.958083Z",
     "iopub.status.busy": "2023-01-10T20:12:57.957700Z",
     "iopub.status.idle": "2023-01-10T20:12:58.544671Z",
     "shell.execute_reply": "2023-01-10T20:12:58.542983Z"
    },
    "papermill": {
     "duration": 0.598351,
     "end_time": "2023-01-10T20:12:58.547635",
     "exception": false,
     "start_time": "2023-01-10T20:12:57.949284",
     "status": "completed"
    },
    "tags": []
   },
   "outputs": [
    {
     "data": {
      "text/html": [
       "<div>\n",
       "<style scoped>\n",
       "    .dataframe tbody tr th:only-of-type {\n",
       "        vertical-align: middle;\n",
       "    }\n",
       "\n",
       "    .dataframe tbody tr th {\n",
       "        vertical-align: top;\n",
       "    }\n",
       "\n",
       "    .dataframe thead th {\n",
       "        text-align: right;\n",
       "    }\n",
       "</style>\n",
       "<table border=\"1\" class=\"dataframe\">\n",
       "  <thead>\n",
       "    <tr style=\"text-align: right;\">\n",
       "      <th></th>\n",
       "      <th>Precip Type</th>\n",
       "      <th>Temperature (C)</th>\n",
       "      <th>Humidity</th>\n",
       "      <th>Wind Speed (km/h)</th>\n",
       "      <th>Wind Bearing (degrees)</th>\n",
       "      <th>Visibility (km)</th>\n",
       "      <th>Pressure (millibars)</th>\n",
       "    </tr>\n",
       "  </thead>\n",
       "  <tbody>\n",
       "    <tr>\n",
       "      <th>0</th>\n",
       "      <td>1</td>\n",
       "      <td>9.472222</td>\n",
       "      <td>0.89</td>\n",
       "      <td>14.1197</td>\n",
       "      <td>251.0</td>\n",
       "      <td>15.8263</td>\n",
       "      <td>1015.13</td>\n",
       "    </tr>\n",
       "    <tr>\n",
       "      <th>1</th>\n",
       "      <td>1</td>\n",
       "      <td>9.355556</td>\n",
       "      <td>0.86</td>\n",
       "      <td>14.2646</td>\n",
       "      <td>259.0</td>\n",
       "      <td>15.8263</td>\n",
       "      <td>1015.63</td>\n",
       "    </tr>\n",
       "    <tr>\n",
       "      <th>2</th>\n",
       "      <td>1</td>\n",
       "      <td>9.377778</td>\n",
       "      <td>0.89</td>\n",
       "      <td>3.9284</td>\n",
       "      <td>204.0</td>\n",
       "      <td>14.9569</td>\n",
       "      <td>1015.94</td>\n",
       "    </tr>\n",
       "    <tr>\n",
       "      <th>3</th>\n",
       "      <td>1</td>\n",
       "      <td>8.288889</td>\n",
       "      <td>0.83</td>\n",
       "      <td>14.1036</td>\n",
       "      <td>269.0</td>\n",
       "      <td>15.8263</td>\n",
       "      <td>1016.41</td>\n",
       "    </tr>\n",
       "    <tr>\n",
       "      <th>4</th>\n",
       "      <td>1</td>\n",
       "      <td>8.755556</td>\n",
       "      <td>0.83</td>\n",
       "      <td>11.0446</td>\n",
       "      <td>259.0</td>\n",
       "      <td>15.8263</td>\n",
       "      <td>1016.51</td>\n",
       "    </tr>\n",
       "  </tbody>\n",
       "</table>\n",
       "</div>"
      ],
      "text/plain": [
       "   Precip Type  Temperature (C)  Humidity  Wind Speed (km/h)  \\\n",
       "0            1         9.472222      0.89            14.1197   \n",
       "1            1         9.355556      0.86            14.2646   \n",
       "2            1         9.377778      0.89             3.9284   \n",
       "3            1         8.288889      0.83            14.1036   \n",
       "4            1         8.755556      0.83            11.0446   \n",
       "\n",
       "   Wind Bearing (degrees)  Visibility (km)  Pressure (millibars)  \n",
       "0                   251.0          15.8263               1015.13  \n",
       "1                   259.0          15.8263               1015.63  \n",
       "2                   204.0          14.9569               1015.94  \n",
       "3                   269.0          15.8263               1016.41  \n",
       "4                   259.0          15.8263               1016.51  "
      ]
     },
     "execution_count": 5,
     "metadata": {},
     "output_type": "execute_result"
    }
   ],
   "source": [
    "df = wrangle(\"/kaggle/input/weather-dataset/weatherHistory.csv\")\n",
    "df.head()"
   ]
  },
  {
   "cell_type": "code",
   "execution_count": 6,
   "id": "62a4e23f",
   "metadata": {
    "execution": {
     "iopub.execute_input": "2023-01-10T20:12:58.571216Z",
     "iopub.status.busy": "2023-01-10T20:12:58.570682Z",
     "iopub.status.idle": "2023-01-10T20:12:58.585059Z",
     "shell.execute_reply": "2023-01-10T20:12:58.583399Z"
    },
    "papermill": {
     "duration": 0.029918,
     "end_time": "2023-01-10T20:12:58.588549",
     "exception": false,
     "start_time": "2023-01-10T20:12:58.558631",
     "status": "completed"
    },
    "tags": []
   },
   "outputs": [
    {
     "data": {
      "text/plain": [
       "1    84114\n",
       "0    11028\n",
       "Name: Precip Type, dtype: int64"
      ]
     },
     "execution_count": 6,
     "metadata": {},
     "output_type": "execute_result"
    }
   ],
   "source": [
    "df[\"Precip Type\"].value_counts()"
   ]
  },
  {
   "cell_type": "code",
   "execution_count": 7,
   "id": "967b7312",
   "metadata": {
    "execution": {
     "iopub.execute_input": "2023-01-10T20:12:58.609710Z",
     "iopub.status.busy": "2023-01-10T20:12:58.608498Z",
     "iopub.status.idle": "2023-01-10T20:12:58.616886Z",
     "shell.execute_reply": "2023-01-10T20:12:58.615783Z"
    },
    "papermill": {
     "duration": 0.020954,
     "end_time": "2023-01-10T20:12:58.619376",
     "exception": false,
     "start_time": "2023-01-10T20:12:58.598422",
     "status": "completed"
    },
    "tags": []
   },
   "outputs": [
    {
     "data": {
      "text/plain": [
       "(95142, 7)"
      ]
     },
     "execution_count": 7,
     "metadata": {},
     "output_type": "execute_result"
    }
   ],
   "source": [
    "df.shape"
   ]
  },
  {
   "cell_type": "markdown",
   "id": "711d789e",
   "metadata": {
    "papermill": {
     "duration": 0.007228,
     "end_time": "2023-01-10T20:12:58.636932",
     "exception": false,
     "start_time": "2023-01-10T20:12:58.629704",
     "status": "completed"
    },
    "tags": []
   },
   "source": [
    "look for the columns that have more than 50%null values"
   ]
  },
  {
   "cell_type": "code",
   "execution_count": 8,
   "id": "3a562e24",
   "metadata": {
    "execution": {
     "iopub.execute_input": "2023-01-10T20:12:58.654029Z",
     "iopub.status.busy": "2023-01-10T20:12:58.653290Z",
     "iopub.status.idle": "2023-01-10T20:12:58.665165Z",
     "shell.execute_reply": "2023-01-10T20:12:58.663901Z"
    },
    "papermill": {
     "duration": 0.023188,
     "end_time": "2023-01-10T20:12:58.667744",
     "exception": false,
     "start_time": "2023-01-10T20:12:58.644556",
     "status": "completed"
    },
    "tags": []
   },
   "outputs": [
    {
     "data": {
      "text/plain": [
       "Precip Type               0.0\n",
       "Temperature (C)           0.0\n",
       "Humidity                  0.0\n",
       "Wind Speed (km/h)         0.0\n",
       "Wind Bearing (degrees)    0.0\n",
       "Visibility (km)           0.0\n",
       "Pressure (millibars)      0.0\n",
       "dtype: float64"
      ]
     },
     "execution_count": 8,
     "metadata": {},
     "output_type": "execute_result"
    }
   ],
   "source": [
    "df.isnull().sum() / len(df)"
   ]
  },
  {
   "cell_type": "markdown",
   "id": "8010ba68",
   "metadata": {
    "papermill": {
     "duration": 0.007247,
     "end_time": "2023-01-10T20:12:58.682764",
     "exception": false,
     "start_time": "2023-01-10T20:12:58.675517",
     "status": "completed"
    },
    "tags": []
   },
   "source": [
    "look for low or high cardanlity features"
   ]
  },
  {
   "cell_type": "code",
   "execution_count": 9,
   "id": "2d623563",
   "metadata": {
    "execution": {
     "iopub.execute_input": "2023-01-10T20:12:58.700445Z",
     "iopub.status.busy": "2023-01-10T20:12:58.699964Z",
     "iopub.status.idle": "2023-01-10T20:12:58.719735Z",
     "shell.execute_reply": "2023-01-10T20:12:58.718958Z"
    },
    "papermill": {
     "duration": 0.031164,
     "end_time": "2023-01-10T20:12:58.721934",
     "exception": false,
     "start_time": "2023-01-10T20:12:58.690770",
     "status": "completed"
    },
    "tags": []
   },
   "outputs": [
    {
     "data": {
      "text/plain": [
       "Precip Type                  2\n",
       "Temperature (C)           7568\n",
       "Humidity                    89\n",
       "Wind Speed (km/h)         2471\n",
       "Wind Bearing (degrees)     360\n",
       "Visibility (km)            949\n",
       "Pressure (millibars)      4977\n",
       "dtype: int64"
      ]
     },
     "execution_count": 9,
     "metadata": {},
     "output_type": "execute_result"
    }
   ],
   "source": [
    "df.nunique()"
   ]
  },
  {
   "cell_type": "markdown",
   "id": "1d483379",
   "metadata": {
    "papermill": {
     "duration": 0.007502,
     "end_time": "2023-01-10T20:12:58.737268",
     "exception": false,
     "start_time": "2023-01-10T20:12:58.729766",
     "status": "completed"
    },
    "tags": []
   },
   "source": [
    "look for the outliers"
   ]
  },
  {
   "cell_type": "code",
   "execution_count": 10,
   "id": "fe3bbf84",
   "metadata": {
    "execution": {
     "iopub.execute_input": "2023-01-10T20:12:58.755023Z",
     "iopub.status.busy": "2023-01-10T20:12:58.753995Z",
     "iopub.status.idle": "2023-01-10T20:12:59.374154Z",
     "shell.execute_reply": "2023-01-10T20:12:59.373010Z"
    },
    "papermill": {
     "duration": 0.63226,
     "end_time": "2023-01-10T20:12:59.377114",
     "exception": false,
     "start_time": "2023-01-10T20:12:58.744854",
     "status": "completed"
    },
    "tags": []
   },
   "outputs": [
    {
     "data": {
      "image/png": "[encoded data removed]",
      "text/plain": [
       "<Figure size 432x288 with 1 Axes>"
      ]
     },
     "metadata": {
      "needs_background": "light"
     },
     "output_type": "display_data"
    },
    {
     "data": {
      "image/png": "[encoded data removed]",
      "text/plain": [
       "<Figure size 432x288 with 1 Axes>"
      ]
     },
     "metadata": {
      "needs_background": "light"
     },
     "output_type": "display_data"
    },
    {
     "data": {
      "image/png": "[encoded data removed]",
      "text/plain": [
       "<Figure size 432x288 with 1 Axes>"
      ]
     },
     "metadata": {
      "needs_background": "light"
     },
     "output_type": "display_data"
    },
    {
     "data": {
      "image/png": "[encoded data removed]",
      "text/plain": [
       "<Figure size 432x288 with 1 Axes>"
      ]
     },
     "metadata": {
      "needs_background": "light"
     },
     "output_type": "display_data"
    },
    {
     "data": {
      "image/png": "[encoded data removed]",
      "text/plain": [
       "<Figure size 432x288 with 1 Axes>"
      ]
     },
     "metadata": {
      "needs_background": "light"
     },
     "output_type": "display_data"
    }
   ],
   "source": [
    "for col in df.columns[2:]:\n",
    "    df[col].plot(kind=\"box\")\n",
    "    plt.show()"
   ]
  },
  {
   "cell_type": "code",
   "execution_count": 11,
   "id": "b2cbd418",
   "metadata": {
    "execution": {
     "iopub.execute_input": "2023-01-10T20:12:59.396331Z",
     "iopub.status.busy": "2023-01-10T20:12:59.395949Z",
     "iopub.status.idle": "2023-01-10T20:12:59.723708Z",
     "shell.execute_reply": "2023-01-10T20:12:59.722668Z"
    },
    "papermill": {
     "duration": 0.340165,
     "end_time": "2023-01-10T20:12:59.726137",
     "exception": false,
     "start_time": "2023-01-10T20:12:59.385972",
     "status": "completed"
    },
    "tags": []
   },
   "outputs": [
    {
     "data": {
      "text/plain": [
       "<AxesSubplot:>"
      ]
     },
     "execution_count": 11,
     "metadata": {},
     "output_type": "execute_result"
    },
    {
     "data": {
      "image/png": "[encoded data removed]",
      "text/plain": [
       "<Figure size 432x288 with 2 Axes>"
      ]
     },
     "metadata": {
      "needs_background": "light"
     },
     "output_type": "display_data"
    }
   ],
   "source": [
    "sns.heatmap(df.corr())"
   ]
  },
  {
   "cell_type": "code",
   "execution_count": 12,
   "id": "3056b03f",
   "metadata": {
    "execution": {
     "iopub.execute_input": "2023-01-10T20:12:59.746749Z",
     "iopub.status.busy": "2023-01-10T20:12:59.745929Z",
     "iopub.status.idle": "2023-01-10T20:12:59.779289Z",
     "shell.execute_reply": "2023-01-10T20:12:59.778212Z"
    },
    "papermill": {
     "duration": 0.046665,
     "end_time": "2023-01-10T20:12:59.782071",
     "exception": false,
     "start_time": "2023-01-10T20:12:59.735406",
     "status": "completed"
    },
    "tags": []
   },
   "outputs": [
    {
     "data": {
      "text/html": [
       "<div>\n",
       "<style scoped>\n",
       "    .dataframe tbody tr th:only-of-type {\n",
       "        vertical-align: middle;\n",
       "    }\n",
       "\n",
       "    .dataframe tbody tr th {\n",
       "        vertical-align: top;\n",
       "    }\n",
       "\n",
       "    .dataframe thead th {\n",
       "        text-align: right;\n",
       "    }\n",
       "</style>\n",
       "<table border=\"1\" class=\"dataframe\">\n",
       "  <thead>\n",
       "    <tr style=\"text-align: right;\">\n",
       "      <th></th>\n",
       "      <th>Precip Type</th>\n",
       "      <th>Temperature (C)</th>\n",
       "      <th>Humidity</th>\n",
       "      <th>Wind Speed (km/h)</th>\n",
       "      <th>Wind Bearing (degrees)</th>\n",
       "      <th>Visibility (km)</th>\n",
       "      <th>Pressure (millibars)</th>\n",
       "    </tr>\n",
       "  </thead>\n",
       "  <tbody>\n",
       "    <tr>\n",
       "      <th>Precip Type</th>\n",
       "      <td>1.000000</td>\n",
       "      <td>0.552650</td>\n",
       "      <td>-0.232598</td>\n",
       "      <td>0.065800</td>\n",
       "      <td>0.040739</td>\n",
       "      <td>0.318842</td>\n",
       "      <td>-0.297639</td>\n",
       "    </tr>\n",
       "    <tr>\n",
       "      <th>Temperature (C)</th>\n",
       "      <td>0.552650</td>\n",
       "      <td>1.000000</td>\n",
       "      <td>-0.636691</td>\n",
       "      <td>0.010070</td>\n",
       "      <td>0.030368</td>\n",
       "      <td>0.392261</td>\n",
       "      <td>-0.309894</td>\n",
       "    </tr>\n",
       "    <tr>\n",
       "      <th>Humidity</th>\n",
       "      <td>-0.232598</td>\n",
       "      <td>-0.636691</td>\n",
       "      <td>1.000000</td>\n",
       "      <td>-0.224803</td>\n",
       "      <td>0.000992</td>\n",
       "      <td>-0.372174</td>\n",
       "      <td>0.040614</td>\n",
       "    </tr>\n",
       "    <tr>\n",
       "      <th>Wind Speed (km/h)</th>\n",
       "      <td>0.065800</td>\n",
       "      <td>0.010070</td>\n",
       "      <td>-0.224803</td>\n",
       "      <td>1.000000</td>\n",
       "      <td>0.101580</td>\n",
       "      <td>0.102858</td>\n",
       "      <td>-0.253649</td>\n",
       "    </tr>\n",
       "    <tr>\n",
       "      <th>Wind Bearing (degrees)</th>\n",
       "      <td>0.040739</td>\n",
       "      <td>0.030368</td>\n",
       "      <td>0.000992</td>\n",
       "      <td>0.101580</td>\n",
       "      <td>1.000000</td>\n",
       "      <td>0.047491</td>\n",
       "      <td>-0.078340</td>\n",
       "    </tr>\n",
       "    <tr>\n",
       "      <th>Visibility (km)</th>\n",
       "      <td>0.318842</td>\n",
       "      <td>0.392261</td>\n",
       "      <td>-0.372174</td>\n",
       "      <td>0.102858</td>\n",
       "      <td>0.047491</td>\n",
       "      <td>1.000000</td>\n",
       "      <td>-0.166116</td>\n",
       "    </tr>\n",
       "    <tr>\n",
       "      <th>Pressure (millibars)</th>\n",
       "      <td>-0.297639</td>\n",
       "      <td>-0.309894</td>\n",
       "      <td>0.040614</td>\n",
       "      <td>-0.253649</td>\n",
       "      <td>-0.078340</td>\n",
       "      <td>-0.166116</td>\n",
       "      <td>1.000000</td>\n",
       "    </tr>\n",
       "  </tbody>\n",
       "</table>\n",
       "</div>"
      ],
      "text/plain": [
       "                        Precip Type  Temperature (C)  Humidity  \\\n",
       "Precip Type                1.000000         0.552650 -0.232598   \n",
       "Temperature (C)            0.552650         1.000000 -0.636691   \n",
       "Humidity                  -0.232598        -0.636691  1.000000   \n",
       "Wind Speed (km/h)          0.065800         0.010070 -0.224803   \n",
       "Wind Bearing (degrees)     0.040739         0.030368  0.000992   \n",
       "Visibility (km)            0.318842         0.392261 -0.372174   \n",
       "Pressure (millibars)      -0.297639        -0.309894  0.040614   \n",
       "\n",
       "                        Wind Speed (km/h)  Wind Bearing (degrees)  \\\n",
       "Precip Type                      0.065800                0.040739   \n",
       "Temperature (C)                  0.010070                0.030368   \n",
       "Humidity                        -0.224803                0.000992   \n",
       "Wind Speed (km/h)                1.000000                0.101580   \n",
       "Wind Bearing (degrees)           0.101580                1.000000   \n",
       "Visibility (km)                  0.102858                0.047491   \n",
       "Pressure (millibars)            -0.253649               -0.078340   \n",
       "\n",
       "                        Visibility (km)  Pressure (millibars)  \n",
       "Precip Type                    0.318842             -0.297639  \n",
       "Temperature (C)                0.392261             -0.309894  \n",
       "Humidity                      -0.372174              0.040614  \n",
       "Wind Speed (km/h)              0.102858             -0.253649  \n",
       "Wind Bearing (degrees)         0.047491             -0.078340  \n",
       "Visibility (km)                1.000000             -0.166116  \n",
       "Pressure (millibars)          -0.166116              1.000000  "
      ]
     },
     "execution_count": 12,
     "metadata": {},
     "output_type": "execute_result"
    }
   ],
   "source": [
    "df.corr()"
   ]
  },
  {
   "cell_type": "code",
   "execution_count": 13,
   "id": "be7ae60b",
   "metadata": {
    "execution": {
     "iopub.execute_input": "2023-01-10T20:12:59.802403Z",
     "iopub.status.busy": "2023-01-10T20:12:59.802011Z",
     "iopub.status.idle": "2023-01-10T20:12:59.816346Z",
     "shell.execute_reply": "2023-01-10T20:12:59.815217Z"
    },
    "papermill": {
     "duration": 0.027299,
     "end_time": "2023-01-10T20:12:59.818690",
     "exception": false,
     "start_time": "2023-01-10T20:12:59.791391",
     "status": "completed"
    },
    "tags": []
   },
   "outputs": [
    {
     "data": {
      "text/html": [
       "<div>\n",
       "<style scoped>\n",
       "    .dataframe tbody tr th:only-of-type {\n",
       "        vertical-align: middle;\n",
       "    }\n",
       "\n",
       "    .dataframe tbody tr th {\n",
       "        vertical-align: top;\n",
       "    }\n",
       "\n",
       "    .dataframe thead th {\n",
       "        text-align: right;\n",
       "    }\n",
       "</style>\n",
       "<table border=\"1\" class=\"dataframe\">\n",
       "  <thead>\n",
       "    <tr style=\"text-align: right;\">\n",
       "      <th></th>\n",
       "      <th>Precip Type</th>\n",
       "      <th>Temperature (C)</th>\n",
       "      <th>Humidity</th>\n",
       "      <th>Wind Speed (km/h)</th>\n",
       "      <th>Wind Bearing (degrees)</th>\n",
       "      <th>Visibility (km)</th>\n",
       "      <th>Pressure (millibars)</th>\n",
       "    </tr>\n",
       "  </thead>\n",
       "  <tbody>\n",
       "    <tr>\n",
       "      <th>0</th>\n",
       "      <td>1</td>\n",
       "      <td>9.472222</td>\n",
       "      <td>0.89</td>\n",
       "      <td>14.1197</td>\n",
       "      <td>251.0</td>\n",
       "      <td>15.8263</td>\n",
       "      <td>1015.13</td>\n",
       "    </tr>\n",
       "  </tbody>\n",
       "</table>\n",
       "</div>"
      ],
      "text/plain": [
       "   Precip Type  Temperature (C)  Humidity  Wind Speed (km/h)  \\\n",
       "0            1         9.472222      0.89            14.1197   \n",
       "\n",
       "   Wind Bearing (degrees)  Visibility (km)  Pressure (millibars)  \n",
       "0                   251.0          15.8263               1015.13  "
      ]
     },
     "execution_count": 13,
     "metadata": {},
     "output_type": "execute_result"
    }
   ],
   "source": [
    "df.head(1)"
   ]
  },
  {
   "cell_type": "code",
   "execution_count": 14,
   "id": "27a1a843",
   "metadata": {
    "execution": {
     "iopub.execute_input": "2023-01-10T20:12:59.840217Z",
     "iopub.status.busy": "2023-01-10T20:12:59.839828Z",
     "iopub.status.idle": "2023-01-10T20:12:59.850042Z",
     "shell.execute_reply": "2023-01-10T20:12:59.848631Z"
    },
    "papermill": {
     "duration": 0.023725,
     "end_time": "2023-01-10T20:12:59.852418",
     "exception": false,
     "start_time": "2023-01-10T20:12:59.828693",
     "status": "completed"
    },
    "tags": []
   },
   "outputs": [
    {
     "data": {
      "text/plain": [
       "1    84114\n",
       "0    11028\n",
       "Name: Precip Type, dtype: int64"
      ]
     },
     "execution_count": 14,
     "metadata": {},
     "output_type": "execute_result"
    }
   ],
   "source": [
    "df[\"Precip Type\"].value_counts()"
   ]
  },
  {
   "cell_type": "code",
   "execution_count": 15,
   "id": "e010f3ac",
   "metadata": {
    "execution": {
     "iopub.execute_input": "2023-01-10T20:12:59.874311Z",
     "iopub.status.busy": "2023-01-10T20:12:59.873878Z",
     "iopub.status.idle": "2023-01-10T20:12:59.884771Z",
     "shell.execute_reply": "2023-01-10T20:12:59.883670Z"
    },
    "papermill": {
     "duration": 0.024712,
     "end_time": "2023-01-10T20:12:59.887262",
     "exception": false,
     "start_time": "2023-01-10T20:12:59.862550",
     "status": "completed"
    },
    "tags": []
   },
   "outputs": [
    {
     "data": {
      "text/plain": [
       "0        False\n",
       "1        False\n",
       "2        False\n",
       "3        False\n",
       "4        False\n",
       "         ...  \n",
       "96448    False\n",
       "96449    False\n",
       "96450    False\n",
       "96451    False\n",
       "96452    False\n",
       "Name: Precip Type, Length: 95142, dtype: bool"
      ]
     },
     "execution_count": 15,
     "metadata": {},
     "output_type": "execute_result"
    }
   ],
   "source": [
    "df[\"Precip Type\"] == \"rain\""
   ]
  },
  {
   "cell_type": "code",
   "execution_count": 16,
   "id": "8e0c6a75",
   "metadata": {
    "execution": {
     "iopub.execute_input": "2023-01-10T20:12:59.908843Z",
     "iopub.status.busy": "2023-01-10T20:12:59.908107Z",
     "iopub.status.idle": "2023-01-10T20:12:59.916294Z",
     "shell.execute_reply": "2023-01-10T20:12:59.915506Z"
    },
    "papermill": {
     "duration": 0.021401,
     "end_time": "2023-01-10T20:12:59.918535",
     "exception": false,
     "start_time": "2023-01-10T20:12:59.897134",
     "status": "completed"
    },
    "tags": []
   },
   "outputs": [
    {
     "data": {
      "text/plain": [
       "0        0\n",
       "1        0\n",
       "2        0\n",
       "3        0\n",
       "4        0\n",
       "        ..\n",
       "96448    0\n",
       "96449    0\n",
       "96450    0\n",
       "96451    0\n",
       "96452    0\n",
       "Name: Precip Type, Length: 95142, dtype: int64"
      ]
     },
     "execution_count": 16,
     "metadata": {},
     "output_type": "execute_result"
    }
   ],
   "source": [
    "(df[\"Precip Type\"] == \"rain\").astype(int)"
   ]
  },
  {
   "cell_type": "code",
   "execution_count": 17,
   "id": "53b7584b",
   "metadata": {
    "execution": {
     "iopub.execute_input": "2023-01-10T20:12:59.940248Z",
     "iopub.status.busy": "2023-01-10T20:12:59.939859Z",
     "iopub.status.idle": "2023-01-10T20:12:59.946210Z",
     "shell.execute_reply": "2023-01-10T20:12:59.945167Z"
    },
    "papermill": {
     "duration": 0.019722,
     "end_time": "2023-01-10T20:12:59.948379",
     "exception": false,
     "start_time": "2023-01-10T20:12:59.928657",
     "status": "completed"
    },
    "tags": []
   },
   "outputs": [],
   "source": [
    "df[\"rain/snow prediction\"] = (df[\"Precip Type\"] == \"rain\").astype(int)"
   ]
  },
  {
   "cell_type": "code",
   "execution_count": 18,
   "id": "13291f91",
   "metadata": {
    "execution": {
     "iopub.execute_input": "2023-01-10T20:12:59.969880Z",
     "iopub.status.busy": "2023-01-10T20:12:59.969430Z",
     "iopub.status.idle": "2023-01-10T20:12:59.977386Z",
     "shell.execute_reply": "2023-01-10T20:12:59.976472Z"
    },
    "papermill": {
     "duration": 0.0212,
     "end_time": "2023-01-10T20:12:59.979400",
     "exception": false,
     "start_time": "2023-01-10T20:12:59.958200",
     "status": "completed"
    },
    "tags": []
   },
   "outputs": [
    {
     "data": {
      "text/plain": [
       "0        1\n",
       "1        1\n",
       "2        1\n",
       "3        1\n",
       "4        1\n",
       "        ..\n",
       "96448    1\n",
       "96449    1\n",
       "96450    1\n",
       "96451    1\n",
       "96452    1\n",
       "Name: Precip Type, Length: 95142, dtype: int64"
      ]
     },
     "execution_count": 18,
     "metadata": {},
     "output_type": "execute_result"
    }
   ],
   "source": [
    "df[\"Precip Type\"]"
   ]
  },
  {
   "cell_type": "code",
   "execution_count": 19,
   "id": "a77c1ee2",
   "metadata": {
    "execution": {
     "iopub.execute_input": "2023-01-10T20:13:00.000993Z",
     "iopub.status.busy": "2023-01-10T20:13:00.000591Z",
     "iopub.status.idle": "2023-01-10T20:13:00.010057Z",
     "shell.execute_reply": "2023-01-10T20:13:00.008932Z"
    },
    "papermill": {
     "duration": 0.023075,
     "end_time": "2023-01-10T20:13:00.012401",
     "exception": false,
     "start_time": "2023-01-10T20:12:59.989326",
     "status": "completed"
    },
    "tags": []
   },
   "outputs": [],
   "source": [
    "target = \"Precip Type\"\n",
    "y = df[target]\n",
    "X = df.drop(columns = target)"
   ]
  },
  {
   "cell_type": "code",
   "execution_count": 20,
   "id": "d83d0964",
   "metadata": {
    "execution": {
     "iopub.execute_input": "2023-01-10T20:13:00.034793Z",
     "iopub.status.busy": "2023-01-10T20:13:00.034375Z",
     "iopub.status.idle": "2023-01-10T20:13:00.057762Z",
     "shell.execute_reply": "2023-01-10T20:13:00.056606Z"
    },
    "papermill": {
     "duration": 0.03735,
     "end_time": "2023-01-10T20:13:00.060374",
     "exception": false,
     "start_time": "2023-01-10T20:13:00.023024",
     "status": "completed"
    },
    "tags": []
   },
   "outputs": [],
   "source": [
    "from sklearn.model_selection import train_test_split\n",
    "X_train, X_val, y_train, y_val = train_test_split(\n",
    "    X, y, test_size = 0.2, random_state = 42\n",
    ")"
   ]
  },
  {
   "cell_type": "code",
   "execution_count": 21,
   "id": "001e8912",
   "metadata": {
    "execution": {
     "iopub.execute_input": "2023-01-10T20:13:00.082812Z",
     "iopub.status.busy": "2023-01-10T20:13:00.082391Z",
     "iopub.status.idle": "2023-01-10T20:13:00.269011Z",
     "shell.execute_reply": "2023-01-10T20:13:00.267801Z"
    },
    "papermill": {
     "duration": 0.201045,
     "end_time": "2023-01-10T20:13:00.271827",
     "exception": false,
     "start_time": "2023-01-10T20:13:00.070782",
     "status": "completed"
    },
    "tags": []
   },
   "outputs": [],
   "source": [
    "from sklearn.linear_model import LogisticRegression\n",
    "from sklearn.tree import DecisionTreeClassifier, plot_tree\n",
    "from category_encoders import OneHotEncoder, OrdinalEncoder"
   ]
  },
  {
   "cell_type": "code",
   "execution_count": 22,
   "id": "6e9ea697",
   "metadata": {
    "execution": {
     "iopub.execute_input": "2023-01-10T20:13:00.294143Z",
     "iopub.status.busy": "2023-01-10T20:13:00.293149Z",
     "iopub.status.idle": "2023-01-10T20:13:00.301283Z",
     "shell.execute_reply": "2023-01-10T20:13:00.300188Z"
    },
    "papermill": {
     "duration": 0.022266,
     "end_time": "2023-01-10T20:13:00.304023",
     "exception": false,
     "start_time": "2023-01-10T20:13:00.281757",
     "status": "completed"
    },
    "tags": []
   },
   "outputs": [],
   "source": [
    "from sklearn.pipeline import make_pipeline"
   ]
  },
  {
   "cell_type": "code",
   "execution_count": 23,
   "id": "e9784a66",
   "metadata": {
    "execution": {
     "iopub.execute_input": "2023-01-10T20:13:00.325840Z",
     "iopub.status.busy": "2023-01-10T20:13:00.325405Z",
     "iopub.status.idle": "2023-01-10T20:13:01.009313Z",
     "shell.execute_reply": "2023-01-10T20:13:01.007809Z"
    },
    "papermill": {
     "duration": 0.699571,
     "end_time": "2023-01-10T20:13:01.013682",
     "exception": false,
     "start_time": "2023-01-10T20:13:00.314111",
     "status": "completed"
    },
    "tags": []
   },
   "outputs": [
    {
     "data": {
      "text/plain": [
       "Pipeline(steps=[('logisticregression', LogisticRegression())])"
      ]
     },
     "execution_count": 23,
     "metadata": {},
     "output_type": "execute_result"
    }
   ],
   "source": [
    "model_lr = make_pipeline(\n",
    "    LogisticRegression()\n",
    ")\n",
    "model_lr.fit(X_train, y_train)"
   ]
  },
  {
   "cell_type": "code",
   "execution_count": 24,
   "id": "ea4fe2f8",
   "metadata": {
    "execution": {
     "iopub.execute_input": "2023-01-10T20:13:01.068159Z",
     "iopub.status.busy": "2023-01-10T20:13:01.067470Z",
     "iopub.status.idle": "2023-01-10T20:13:01.103668Z",
     "shell.execute_reply": "2023-01-10T20:13:01.102056Z"
    },
    "papermill": {
     "duration": 0.068989,
     "end_time": "2023-01-10T20:13:01.108746",
     "exception": false,
     "start_time": "2023-01-10T20:13:01.039757",
     "status": "completed"
    },
    "tags": []
   },
   "outputs": [
    {
     "name": "stdout",
     "output_type": "stream",
     "text": [
      "0.9856003573633939\n"
     ]
    }
   ],
   "source": [
    "lr_train_accuracy = model_lr.score(X_train, y_train)\n",
    "print(lr_train_accuracy)"
   ]
  },
  {
   "cell_type": "code",
   "execution_count": 25,
   "id": "f3e75372",
   "metadata": {
    "execution": {
     "iopub.execute_input": "2023-01-10T20:13:01.163547Z",
     "iopub.status.busy": "2023-01-10T20:13:01.162848Z",
     "iopub.status.idle": "2023-01-10T20:13:01.187370Z",
     "shell.execute_reply": "2023-01-10T20:13:01.185748Z"
    },
    "papermill": {
     "duration": 0.057414,
     "end_time": "2023-01-10T20:13:01.192314",
     "exception": false,
     "start_time": "2023-01-10T20:13:01.134900",
     "status": "completed"
    },
    "tags": []
   },
   "outputs": [
    {
     "name": "stdout",
     "output_type": "stream",
     "text": [
      "0.9859687844868359\n"
     ]
    }
   ],
   "source": [
    "lr_val_accuracy = model_lr.score(X_val, y_val)\n",
    "print(lr_val_accuracy)"
   ]
  }
 ],
 "metadata": {
  "kernelspec": {
   "display_name": "Python 3",
   "language": "python",
   "name": "python3"
  },
  "language_info": {
   "codemirror_mode": {
    "name": "ipython",
    "version": 3
   },
   "file_extension": ".py",
   "mimetype": "text/x-python",
   "name": "python",
   "nbconvert_exporter": "python",
   "pygments_lexer": "ipython3",
   "version": "3.7.12"
  },
  "papermill": {
   "default_parameters": {},
   "duration": 14.637332,
   "end_time": "2023-01-10T20:13:02.050274",
   "environment_variables": {},
   "exception": null,
   "input_path": "__notebook__.ipynb",
   "output_path": "__notebook__.ipynb",
   "parameters": {},
   "start_time": "2023-01-10T20:12:47.412942",
   "version": "2.3.4"
  }
 },
 "nbformat": 4,
 "nbformat_minor": 5
}
