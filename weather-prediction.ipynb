{
 "cells": [
  {
   "cell_type": "code",
   "execution_count": 1,
   "id": "4aa0d657",
   "metadata": {
    "_cell_guid": "b1076dfc-b9ad-4769-8c92-a6c4dae69d19",
    "_uuid": "8f2839f25d086af736a60e9eeb907d3b93b6e0e5",
    "execution": {
     "iopub.execute_input": "2023-01-10T12:08:20.638497Z",
     "iopub.status.busy": "2023-01-10T12:08:20.638018Z",
     "iopub.status.idle": "2023-01-10T12:08:20.661704Z",
     "shell.execute_reply": "2023-01-10T12:08:20.659967Z"
    },
    "papermill": {
     "duration": 0.035074,
     "end_time": "2023-01-10T12:08:20.665179",
     "exception": false,
     "start_time": "2023-01-10T12:08:20.630105",
     "status": "completed"
    },
    "tags": []
   },
   "outputs": [
    {
     "name": "stdout",
     "output_type": "stream",
     "text": [
      "/kaggle/input/weather-dataset/weatherHistory.csv\n"
     ]
    }
   ],
   "source": [
    "# This Python 3 environment comes with many helpful analytics libraries installed\n",
    "# It is defined by the kaggle/python Docker image: https://github.com/kaggle/docker-python\n",
    "# For example, here's several helpful packages to load\n",
    "\n",
    "import numpy as np # linear algebra\n",
    "import pandas as pd # data processing, CSV file I/O (e.g. pd.read_csv)\n",
    "\n",
    "# Input data files are available in the read-only \"../input/\" directory\n",
    "# For example, running this (by clicking run or pressing Shift+Enter) will list all files under the input directory\n",
    "\n",
    "import os\n",
    "for dirname, _, filenames in os.walk('/kaggle/input'):\n",
    "    for filename in filenames:\n",
    "        print(os.path.join(dirname, filename))\n",
    "\n",
    "# You can write up to 20GB to the current directory (/kaggle/working/) that gets preserved as output when you create a version using \"Save & Run All\" \n",
    "# You can also write temporary files to /kaggle/temp/, but they won't be saved outside of the current session"
   ]
  },
  {
   "cell_type": "code",
   "execution_count": 2,
   "id": "a25784a9",
   "metadata": {
    "execution": {
     "iopub.execute_input": "2023-01-10T12:08:20.677043Z",
     "iopub.status.busy": "2023-01-10T12:08:20.676470Z",
     "iopub.status.idle": "2023-01-10T12:08:22.493385Z",
     "shell.execute_reply": "2023-01-10T12:08:22.491734Z"
    },
    "papermill": {
     "duration": 1.826432,
     "end_time": "2023-01-10T12:08:22.496707",
     "exception": false,
     "start_time": "2023-01-10T12:08:20.670275",
     "status": "completed"
    },
    "tags": []
   },
   "outputs": [],
   "source": [
    "import pandas as pd\n",
    "import numpy as np\n",
    "import matplotlib.pyplot as plt\n",
    "import seaborn as sns\n",
    "from sklearn.linear_model import LinearRegression, Ridge\n",
    "from sklearn.metrics import mean_absolute_error\n",
    "from statsmodels.tsa.ar_model import AutoReg"
   ]
  },
  {
   "cell_type": "code",
   "execution_count": 3,
   "id": "d3b0d177",
   "metadata": {
    "execution": {
     "iopub.execute_input": "2023-01-10T12:08:22.509220Z",
     "iopub.status.busy": "2023-01-10T12:08:22.508815Z",
     "iopub.status.idle": "2023-01-10T12:08:22.514145Z",
     "shell.execute_reply": "2023-01-10T12:08:22.512622Z"
    },
    "papermill": {
     "duration": 0.014962,
     "end_time": "2023-01-10T12:08:22.517147",
     "exception": false,
     "start_time": "2023-01-10T12:08:22.502185",
     "status": "completed"
    },
    "tags": []
   },
   "outputs": [],
   "source": [
    "# df = pd.read_csv(\"/kaggle/input/weather-dataset/weatherHistory.csv\")\n",
    "# df.head()"
   ]
  },
  {
   "cell_type": "markdown",
   "id": "5fd3adca",
   "metadata": {
    "papermill": {
     "duration": 0.003994,
     "end_time": "2023-01-10T12:08:22.525745",
     "exception": false,
     "start_time": "2023-01-10T12:08:22.521751",
     "status": "completed"
    },
    "tags": []
   },
   "source": [
    "**Consider the rain as the target 1st**"
   ]
  },
  {
   "cell_type": "code",
   "execution_count": 4,
   "id": "8f44ae40",
   "metadata": {
    "execution": {
     "iopub.execute_input": "2023-01-10T12:08:22.536925Z",
     "iopub.status.busy": "2023-01-10T12:08:22.536361Z",
     "iopub.status.idle": "2023-01-10T12:08:22.545247Z",
     "shell.execute_reply": "2023-01-10T12:08:22.543648Z"
    },
    "papermill": {
     "duration": 0.018507,
     "end_time": "2023-01-10T12:08:22.548473",
     "exception": false,
     "start_time": "2023-01-10T12:08:22.529966",
     "status": "completed"
    },
    "tags": []
   },
   "outputs": [],
   "source": [
    "def wrangle(filepath):\n",
    "    df = pd.read_csv(filepath)\n",
    "    df.drop(columns = [\"Formatted Date\",\"Loud Cover\", \"Apparent Temperature (C)\"], inplace=True)\n",
    "    mask_humidity = df[\"Humidity\"] > 0.1\n",
    "    mask_windspeed = df[\"Wind Speed (km/h)\"] < 59\n",
    "    mask_pressure = df[\"Pressure (millibars)\"] > 800\n",
    "    \n",
    "    df = df[mask_humidity & mask_windspeed & mask_pressure]\n",
    "    \n",
    "    return df"
   ]
  },
  {
   "cell_type": "code",
   "execution_count": 5,
   "id": "1c16eed5",
   "metadata": {
    "execution": {
     "iopub.execute_input": "2023-01-10T12:08:22.560690Z",
     "iopub.status.busy": "2023-01-10T12:08:22.559407Z",
     "iopub.status.idle": "2023-01-10T12:08:23.136847Z",
     "shell.execute_reply": "2023-01-10T12:08:23.135508Z"
    },
    "papermill": {
     "duration": 0.586402,
     "end_time": "2023-01-10T12:08:23.139587",
     "exception": false,
     "start_time": "2023-01-10T12:08:22.553185",
     "status": "completed"
    },
    "tags": []
   },
   "outputs": [
    {
     "data": {
      "text/html": [
       "<div>\n",
       "<style scoped>\n",
       "    .dataframe tbody tr th:only-of-type {\n",
       "        vertical-align: middle;\n",
       "    }\n",
       "\n",
       "    .dataframe tbody tr th {\n",
       "        vertical-align: top;\n",
       "    }\n",
       "\n",
       "    .dataframe thead th {\n",
       "        text-align: right;\n",
       "    }\n",
       "</style>\n",
       "<table border=\"1\" class=\"dataframe\">\n",
       "  <thead>\n",
       "    <tr style=\"text-align: right;\">\n",
       "      <th></th>\n",
       "      <th>Summary</th>\n",
       "      <th>Precip Type</th>\n",
       "      <th>Temperature (C)</th>\n",
       "      <th>Humidity</th>\n",
       "      <th>Wind Speed (km/h)</th>\n",
       "      <th>Wind Bearing (degrees)</th>\n",
       "      <th>Visibility (km)</th>\n",
       "      <th>Pressure (millibars)</th>\n",
       "      <th>Daily Summary</th>\n",
       "    </tr>\n",
       "  </thead>\n",
       "  <tbody>\n",
       "    <tr>\n",
       "      <th>0</th>\n",
       "      <td>Partly Cloudy</td>\n",
       "      <td>rain</td>\n",
       "      <td>9.472222</td>\n",
       "      <td>0.89</td>\n",
       "      <td>14.1197</td>\n",
       "      <td>251.0</td>\n",
       "      <td>15.8263</td>\n",
       "      <td>1015.13</td>\n",
       "      <td>Partly cloudy throughout the day.</td>\n",
       "    </tr>\n",
       "    <tr>\n",
       "      <th>1</th>\n",
       "      <td>Partly Cloudy</td>\n",
       "      <td>rain</td>\n",
       "      <td>9.355556</td>\n",
       "      <td>0.86</td>\n",
       "      <td>14.2646</td>\n",
       "      <td>259.0</td>\n",
       "      <td>15.8263</td>\n",
       "      <td>1015.63</td>\n",
       "      <td>Partly cloudy throughout the day.</td>\n",
       "    </tr>\n",
       "    <tr>\n",
       "      <th>2</th>\n",
       "      <td>Mostly Cloudy</td>\n",
       "      <td>rain</td>\n",
       "      <td>9.377778</td>\n",
       "      <td>0.89</td>\n",
       "      <td>3.9284</td>\n",
       "      <td>204.0</td>\n",
       "      <td>14.9569</td>\n",
       "      <td>1015.94</td>\n",
       "      <td>Partly cloudy throughout the day.</td>\n",
       "    </tr>\n",
       "    <tr>\n",
       "      <th>3</th>\n",
       "      <td>Partly Cloudy</td>\n",
       "      <td>rain</td>\n",
       "      <td>8.288889</td>\n",
       "      <td>0.83</td>\n",
       "      <td>14.1036</td>\n",
       "      <td>269.0</td>\n",
       "      <td>15.8263</td>\n",
       "      <td>1016.41</td>\n",
       "      <td>Partly cloudy throughout the day.</td>\n",
       "    </tr>\n",
       "    <tr>\n",
       "      <th>4</th>\n",
       "      <td>Mostly Cloudy</td>\n",
       "      <td>rain</td>\n",
       "      <td>8.755556</td>\n",
       "      <td>0.83</td>\n",
       "      <td>11.0446</td>\n",
       "      <td>259.0</td>\n",
       "      <td>15.8263</td>\n",
       "      <td>1016.51</td>\n",
       "      <td>Partly cloudy throughout the day.</td>\n",
       "    </tr>\n",
       "  </tbody>\n",
       "</table>\n",
       "</div>"
      ],
      "text/plain": [
       "         Summary Precip Type  Temperature (C)  Humidity  Wind Speed (km/h)  \\\n",
       "0  Partly Cloudy        rain         9.472222      0.89            14.1197   \n",
       "1  Partly Cloudy        rain         9.355556      0.86            14.2646   \n",
       "2  Mostly Cloudy        rain         9.377778      0.89             3.9284   \n",
       "3  Partly Cloudy        rain         8.288889      0.83            14.1036   \n",
       "4  Mostly Cloudy        rain         8.755556      0.83            11.0446   \n",
       "\n",
       "   Wind Bearing (degrees)  Visibility (km)  Pressure (millibars)  \\\n",
       "0                   251.0          15.8263               1015.13   \n",
       "1                   259.0          15.8263               1015.63   \n",
       "2                   204.0          14.9569               1015.94   \n",
       "3                   269.0          15.8263               1016.41   \n",
       "4                   259.0          15.8263               1016.51   \n",
       "\n",
       "                       Daily Summary  \n",
       "0  Partly cloudy throughout the day.  \n",
       "1  Partly cloudy throughout the day.  \n",
       "2  Partly cloudy throughout the day.  \n",
       "3  Partly cloudy throughout the day.  \n",
       "4  Partly cloudy throughout the day.  "
      ]
     },
     "execution_count": 5,
     "metadata": {},
     "output_type": "execute_result"
    }
   ],
   "source": [
    "df = wrangle(\"/kaggle/input/weather-dataset/weatherHistory.csv\")\n",
    "df.head()"
   ]
  },
  {
   "cell_type": "code",
   "execution_count": 6,
   "id": "285193ed",
   "metadata": {
    "execution": {
     "iopub.execute_input": "2023-01-10T12:08:23.150344Z",
     "iopub.status.busy": "2023-01-10T12:08:23.149954Z",
     "iopub.status.idle": "2023-01-10T12:08:23.157828Z",
     "shell.execute_reply": "2023-01-10T12:08:23.156494Z"
    },
    "papermill": {
     "duration": 0.016195,
     "end_time": "2023-01-10T12:08:23.160451",
     "exception": false,
     "start_time": "2023-01-10T12:08:23.144256",
     "status": "completed"
    },
    "tags": []
   },
   "outputs": [
    {
     "data": {
      "text/plain": [
       "(95142, 9)"
      ]
     },
     "execution_count": 6,
     "metadata": {},
     "output_type": "execute_result"
    }
   ],
   "source": [
    "df.shape"
   ]
  },
  {
   "cell_type": "markdown",
   "id": "826c12a4",
   "metadata": {
    "papermill": {
     "duration": 0.004337,
     "end_time": "2023-01-10T12:08:23.169510",
     "exception": false,
     "start_time": "2023-01-10T12:08:23.165173",
     "status": "completed"
    },
    "tags": []
   },
   "source": [
    "look for the columns that have more than 50%null values"
   ]
  },
  {
   "cell_type": "code",
   "execution_count": 7,
   "id": "8efc47f3",
   "metadata": {
    "execution": {
     "iopub.execute_input": "2023-01-10T12:08:23.180374Z",
     "iopub.status.busy": "2023-01-10T12:08:23.179986Z",
     "iopub.status.idle": "2023-01-10T12:08:23.206093Z",
     "shell.execute_reply": "2023-01-10T12:08:23.204526Z"
    },
    "papermill": {
     "duration": 0.035077,
     "end_time": "2023-01-10T12:08:23.209169",
     "exception": false,
     "start_time": "2023-01-10T12:08:23.174092",
     "status": "completed"
    },
    "tags": []
   },
   "outputs": [
    {
     "data": {
      "text/plain": [
       "Summary                   0.000000\n",
       "Precip Type               0.005434\n",
       "Temperature (C)           0.000000\n",
       "Humidity                  0.000000\n",
       "Wind Speed (km/h)         0.000000\n",
       "Wind Bearing (degrees)    0.000000\n",
       "Visibility (km)           0.000000\n",
       "Pressure (millibars)      0.000000\n",
       "Daily Summary             0.000000\n",
       "dtype: float64"
      ]
     },
     "execution_count": 7,
     "metadata": {},
     "output_type": "execute_result"
    }
   ],
   "source": [
    "df.isnull().sum() / len(df)"
   ]
  },
  {
   "cell_type": "markdown",
   "id": "b40ffcc9",
   "metadata": {
    "papermill": {
     "duration": 0.004443,
     "end_time": "2023-01-10T12:08:23.218450",
     "exception": false,
     "start_time": "2023-01-10T12:08:23.214007",
     "status": "completed"
    },
    "tags": []
   },
   "source": [
    "look for low or high cardanlity features"
   ]
  },
  {
   "cell_type": "code",
   "execution_count": 8,
   "id": "ca2c3cc5",
   "metadata": {
    "execution": {
     "iopub.execute_input": "2023-01-10T12:08:23.230348Z",
     "iopub.status.busy": "2023-01-10T12:08:23.229328Z",
     "iopub.status.idle": "2023-01-10T12:08:23.275863Z",
     "shell.execute_reply": "2023-01-10T12:08:23.274472Z"
    },
    "papermill": {
     "duration": 0.055512,
     "end_time": "2023-01-10T12:08:23.278658",
     "exception": false,
     "start_time": "2023-01-10T12:08:23.223146",
     "status": "completed"
    },
    "tags": []
   },
   "outputs": [
    {
     "data": {
      "text/plain": [
       "Summary                     26\n",
       "Precip Type                  2\n",
       "Temperature (C)           7568\n",
       "Humidity                    89\n",
       "Wind Speed (km/h)         2471\n",
       "Wind Bearing (degrees)     360\n",
       "Visibility (km)            949\n",
       "Pressure (millibars)      4977\n",
       "Daily Summary              214\n",
       "dtype: int64"
      ]
     },
     "execution_count": 8,
     "metadata": {},
     "output_type": "execute_result"
    }
   ],
   "source": [
    "df.nunique()"
   ]
  },
  {
   "cell_type": "markdown",
   "id": "aed67aba",
   "metadata": {
    "papermill": {
     "duration": 0.004918,
     "end_time": "2023-01-10T12:08:23.288734",
     "exception": false,
     "start_time": "2023-01-10T12:08:23.283816",
     "status": "completed"
    },
    "tags": []
   },
   "source": [
    "look for the outliers"
   ]
  },
  {
   "cell_type": "code",
   "execution_count": 9,
   "id": "3acd6eb1",
   "metadata": {
    "execution": {
     "iopub.execute_input": "2023-01-10T12:08:23.301418Z",
     "iopub.status.busy": "2023-01-10T12:08:23.300896Z",
     "iopub.status.idle": "2023-01-10T12:08:24.494006Z",
     "shell.execute_reply": "2023-01-10T12:08:24.492367Z"
    },
    "papermill": {
     "duration": 1.202681,
     "end_time": "2023-01-10T12:08:24.496882",
     "exception": false,
     "start_time": "2023-01-10T12:08:23.294201",
     "status": "completed"
    },
    "tags": []
   },
   "outputs": [
    {
     "data": {
      "image/png": "[encoded data removed]",
      "text/plain": [
       "<Figure size 432x288 with 1 Axes>"
      ]
     },
     "metadata": {
      "needs_background": "light"
     },
     "output_type": "display_data"
    },
    {
     "data": {
      "image/png": "[encoded data removed]",
      "text/plain": [
       "<Figure size 432x288 with 1 Axes>"
      ]
     },
     "metadata": {
      "needs_background": "light"
     },
     "output_type": "display_data"
    },
    {
     "data": {
      "image/png": "[encoded data removed]",
      "text/plain": [
       "<Figure size 432x288 with 1 Axes>"
      ]
     },
     "metadata": {
      "needs_background": "light"
     },
     "output_type": "display_data"
    },
    {
     "data": {
      "image/png": "[encoded data removed]",
      "text/plain": [
       "<Figure size 432x288 with 1 Axes>"
      ]
     },
     "metadata": {
      "needs_background": "light"
     },
     "output_type": "display_data"
    },
    {
     "data": {
      "image/png": "[encoded data removed]",
      "text/plain": [
       "<Figure size 432x288 with 1 Axes>"
      ]
     },
     "metadata": {
      "needs_background": "light"
     },
     "output_type": "display_data"
    },
    {
     "data": {
      "image/png": "[encoded data removed]",
      "text/plain": [
       "<Figure size 432x288 with 1 Axes>"
      ]
     },
     "metadata": {
      "needs_background": "light"
     },
     "output_type": "display_data"
    }
   ],
   "source": [
    "for col in df.columns[2:8]:\n",
    "    df[col].plot(kind=\"box\")\n",
    "    plt.show()"
   ]
  },
  {
   "cell_type": "code",
   "execution_count": 10,
   "id": "750c8919",
   "metadata": {
    "execution": {
     "iopub.execute_input": "2023-01-10T12:08:24.512861Z",
     "iopub.status.busy": "2023-01-10T12:08:24.511350Z",
     "iopub.status.idle": "2023-01-10T12:08:24.908616Z",
     "shell.execute_reply": "2023-01-10T12:08:24.907259Z"
    },
    "papermill": {
     "duration": 0.40784,
     "end_time": "2023-01-10T12:08:24.911227",
     "exception": false,
     "start_time": "2023-01-10T12:08:24.503387",
     "status": "completed"
    },
    "tags": []
   },
   "outputs": [
    {
     "data": {
      "text/plain": [
       "<AxesSubplot:>"
      ]
     },
     "execution_count": 10,
     "metadata": {},
     "output_type": "execute_result"
    },
    {
     "data": {
      "image/png": "[encoded data removed]",
      "text/plain": [
       "<Figure size 432x288 with 2 Axes>"
      ]
     },
     "metadata": {
      "needs_background": "light"
     },
     "output_type": "display_data"
    }
   ],
   "source": [
    "sns.heatmap(df.corr())"
   ]
  },
  {
   "cell_type": "code",
   "execution_count": 11,
   "id": "4eb93da7",
   "metadata": {
    "execution": {
     "iopub.execute_input": "2023-01-10T12:08:24.928386Z",
     "iopub.status.busy": "2023-01-10T12:08:24.927042Z",
     "iopub.status.idle": "2023-01-10T12:08:24.962821Z",
     "shell.execute_reply": "2023-01-10T12:08:24.961270Z"
    },
    "papermill": {
     "duration": 0.047601,
     "end_time": "2023-01-10T12:08:24.965952",
     "exception": false,
     "start_time": "2023-01-10T12:08:24.918351",
     "status": "completed"
    },
    "tags": []
   },
   "outputs": [
    {
     "data": {
      "text/html": [
       "<div>\n",
       "<style scoped>\n",
       "    .dataframe tbody tr th:only-of-type {\n",
       "        vertical-align: middle;\n",
       "    }\n",
       "\n",
       "    .dataframe tbody tr th {\n",
       "        vertical-align: top;\n",
       "    }\n",
       "\n",
       "    .dataframe thead th {\n",
       "        text-align: right;\n",
       "    }\n",
       "</style>\n",
       "<table border=\"1\" class=\"dataframe\">\n",
       "  <thead>\n",
       "    <tr style=\"text-align: right;\">\n",
       "      <th></th>\n",
       "      <th>Temperature (C)</th>\n",
       "      <th>Humidity</th>\n",
       "      <th>Wind Speed (km/h)</th>\n",
       "      <th>Wind Bearing (degrees)</th>\n",
       "      <th>Visibility (km)</th>\n",
       "      <th>Pressure (millibars)</th>\n",
       "    </tr>\n",
       "  </thead>\n",
       "  <tbody>\n",
       "    <tr>\n",
       "      <th>Temperature (C)</th>\n",
       "      <td>1.000000</td>\n",
       "      <td>-0.636691</td>\n",
       "      <td>0.010070</td>\n",
       "      <td>0.030368</td>\n",
       "      <td>0.392261</td>\n",
       "      <td>-0.309894</td>\n",
       "    </tr>\n",
       "    <tr>\n",
       "      <th>Humidity</th>\n",
       "      <td>-0.636691</td>\n",
       "      <td>1.000000</td>\n",
       "      <td>-0.224803</td>\n",
       "      <td>0.000992</td>\n",
       "      <td>-0.372174</td>\n",
       "      <td>0.040614</td>\n",
       "    </tr>\n",
       "    <tr>\n",
       "      <th>Wind Speed (km/h)</th>\n",
       "      <td>0.010070</td>\n",
       "      <td>-0.224803</td>\n",
       "      <td>1.000000</td>\n",
       "      <td>0.101580</td>\n",
       "      <td>0.102858</td>\n",
       "      <td>-0.253649</td>\n",
       "    </tr>\n",
       "    <tr>\n",
       "      <th>Wind Bearing (degrees)</th>\n",
       "      <td>0.030368</td>\n",
       "      <td>0.000992</td>\n",
       "      <td>0.101580</td>\n",
       "      <td>1.000000</td>\n",
       "      <td>0.047491</td>\n",
       "      <td>-0.078340</td>\n",
       "    </tr>\n",
       "    <tr>\n",
       "      <th>Visibility (km)</th>\n",
       "      <td>0.392261</td>\n",
       "      <td>-0.372174</td>\n",
       "      <td>0.102858</td>\n",
       "      <td>0.047491</td>\n",
       "      <td>1.000000</td>\n",
       "      <td>-0.166116</td>\n",
       "    </tr>\n",
       "    <tr>\n",
       "      <th>Pressure (millibars)</th>\n",
       "      <td>-0.309894</td>\n",
       "      <td>0.040614</td>\n",
       "      <td>-0.253649</td>\n",
       "      <td>-0.078340</td>\n",
       "      <td>-0.166116</td>\n",
       "      <td>1.000000</td>\n",
       "    </tr>\n",
       "  </tbody>\n",
       "</table>\n",
       "</div>"
      ],
      "text/plain": [
       "                        Temperature (C)  Humidity  Wind Speed (km/h)  \\\n",
       "Temperature (C)                1.000000 -0.636691           0.010070   \n",
       "Humidity                      -0.636691  1.000000          -0.224803   \n",
       "Wind Speed (km/h)              0.010070 -0.224803           1.000000   \n",
       "Wind Bearing (degrees)         0.030368  0.000992           0.101580   \n",
       "Visibility (km)                0.392261 -0.372174           0.102858   \n",
       "Pressure (millibars)          -0.309894  0.040614          -0.253649   \n",
       "\n",
       "                        Wind Bearing (degrees)  Visibility (km)  \\\n",
       "Temperature (C)                       0.030368         0.392261   \n",
       "Humidity                              0.000992        -0.372174   \n",
       "Wind Speed (km/h)                     0.101580         0.102858   \n",
       "Wind Bearing (degrees)                1.000000         0.047491   \n",
       "Visibility (km)                       0.047491         1.000000   \n",
       "Pressure (millibars)                 -0.078340        -0.166116   \n",
       "\n",
       "                        Pressure (millibars)  \n",
       "Temperature (C)                    -0.309894  \n",
       "Humidity                            0.040614  \n",
       "Wind Speed (km/h)                  -0.253649  \n",
       "Wind Bearing (degrees)             -0.078340  \n",
       "Visibility (km)                    -0.166116  \n",
       "Pressure (millibars)                1.000000  "
      ]
     },
     "execution_count": 11,
     "metadata": {},
     "output_type": "execute_result"
    }
   ],
   "source": [
    "df.corr()"
   ]
  }
 ],
 "metadata": {
  "kernelspec": {
   "display_name": "Python 3",
   "language": "python",
   "name": "python3"
  },
  "language_info": {
   "codemirror_mode": {
    "name": "ipython",
    "version": 3
   },
   "file_extension": ".py",
   "mimetype": "text/x-python",
   "name": "python",
   "nbconvert_exporter": "python",
   "pygments_lexer": "ipython3",
   "version": "3.7.12"
  },
  "papermill": {
   "default_parameters": {},
   "duration": 15.308021,
   "end_time": "2023-01-10T12:08:26.105015",
   "environment_variables": {},
   "exception": null,
   "input_path": "__notebook__.ipynb",
   "output_path": "__notebook__.ipynb",
   "parameters": {},
   "start_time": "2023-01-10T12:08:10.796994",
   "version": "2.3.4"
  }
 },
 "nbformat": 4,
 "nbformat_minor": 5
}
