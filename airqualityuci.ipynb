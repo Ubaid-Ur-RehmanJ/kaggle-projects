{
 "cells": [
  {
   "cell_type": "code",
   "execution_count": 1,
   "id": "1e93c9a0",
   "metadata": {
    "_cell_guid": "b1076dfc-b9ad-4769-8c92-a6c4dae69d19",
    "_uuid": "8f2839f25d086af736a60e9eeb907d3b93b6e0e5",
    "execution": {
     "iopub.execute_input": "2023-01-06T09:19:21.328207Z",
     "iopub.status.busy": "2023-01-06T09:19:21.327765Z",
     "iopub.status.idle": "2023-01-06T09:19:21.347447Z",
     "shell.execute_reply": "2023-01-06T09:19:21.346517Z"
    },
    "papermill": {
     "duration": 0.032474,
     "end_time": "2023-01-06T09:19:21.350314",
     "exception": false,
     "start_time": "2023-01-06T09:19:21.317840",
     "status": "completed"
    },
    "tags": []
   },
   "outputs": [
    {
     "name": "stdout",
     "output_type": "stream",
     "text": [
      "/kaggle/input/airquality/AirQualityUCI.csv\n"
     ]
    }
   ],
   "source": [
    "# This Python 3 environment comes with many helpful analytics libraries installed\n",
    "# It is defined by the kaggle/python Docker image: https://github.com/kaggle/docker-python\n",
    "# For example, here's several helpful packages to load\n",
    "\n",
    "import numpy as np # linear algebra\n",
    "import pandas as pd # data processing, CSV file I/O (e.g. pd.read_csv)\n",
    "\n",
    "# Input data files are available in the read-only \"../input/\" directory\n",
    "# For example, running this (by clicking run or pressing Shift+Enter) will list all files under the input directory\n",
    "\n",
    "import os\n",
    "for dirname, _, filenames in os.walk('/kaggle/input'):\n",
    "    for filename in filenames:\n",
    "        print(os.path.join(dirname, filename))\n",
    "\n",
    "# You can write up to 20GB to the current directory (/kaggle/working/) that gets preserved as output when you create a version using \"Save & Run All\" \n",
    "# You can also write temporary files to /kaggle/temp/, but they won't be saved outside of the current session"
   ]
  },
  {
   "cell_type": "code",
   "execution_count": 2,
   "id": "ea011a30",
   "metadata": {
    "execution": {
     "iopub.execute_input": "2023-01-06T09:19:21.363244Z",
     "iopub.status.busy": "2023-01-06T09:19:21.362830Z",
     "iopub.status.idle": "2023-01-06T09:19:23.801450Z",
     "shell.execute_reply": "2023-01-06T09:19:23.800283Z"
    },
    "papermill": {
     "duration": 2.448852,
     "end_time": "2023-01-06T09:19:23.804829",
     "exception": false,
     "start_time": "2023-01-06T09:19:21.355977",
     "status": "completed"
    },
    "tags": []
   },
   "outputs": [],
   "source": [
    "import pandas as pd\n",
    "import numpy as np\n",
    "import matplotlib.pyplot as plt\n",
    "import plotly.express as px\n",
    "import seaborn as sns"
   ]
  },
  {
   "cell_type": "code",
   "execution_count": 3,
   "id": "f8402803",
   "metadata": {
    "execution": {
     "iopub.execute_input": "2023-01-06T09:19:23.817151Z",
     "iopub.status.busy": "2023-01-06T09:19:23.816732Z",
     "iopub.status.idle": "2023-01-06T09:19:23.896360Z",
     "shell.execute_reply": "2023-01-06T09:19:23.895019Z"
    },
    "papermill": {
     "duration": 0.088881,
     "end_time": "2023-01-06T09:19:23.899071",
     "exception": false,
     "start_time": "2023-01-06T09:19:23.810190",
     "status": "completed"
    },
    "tags": []
   },
   "outputs": [
    {
     "data": {
      "text/html": [
       "<div>\n",
       "<style scoped>\n",
       "    .dataframe tbody tr th:only-of-type {\n",
       "        vertical-align: middle;\n",
       "    }\n",
       "\n",
       "    .dataframe tbody tr th {\n",
       "        vertical-align: top;\n",
       "    }\n",
       "\n",
       "    .dataframe thead th {\n",
       "        text-align: right;\n",
       "    }\n",
       "</style>\n",
       "<table border=\"1\" class=\"dataframe\">\n",
       "  <thead>\n",
       "    <tr style=\"text-align: right;\">\n",
       "      <th></th>\n",
       "      <th>Date</th>\n",
       "      <th>Time</th>\n",
       "      <th>CO(GT)</th>\n",
       "      <th>PT08.S1(CO)</th>\n",
       "      <th>NMHC(GT)</th>\n",
       "      <th>C6H6(GT)</th>\n",
       "      <th>PT08.S2(NMHC)</th>\n",
       "      <th>NOx(GT)</th>\n",
       "      <th>PT08.S3(NOx)</th>\n",
       "      <th>NO2(GT)</th>\n",
       "      <th>PT08.S4(NO2)</th>\n",
       "      <th>PT08.S5(O3)</th>\n",
       "      <th>T</th>\n",
       "      <th>RH</th>\n",
       "      <th>AH</th>\n",
       "    </tr>\n",
       "  </thead>\n",
       "  <tbody>\n",
       "    <tr>\n",
       "      <th>0</th>\n",
       "      <td>10/3/2004</td>\n",
       "      <td>18.00.00</td>\n",
       "      <td>2.6</td>\n",
       "      <td>1360</td>\n",
       "      <td>150.0</td>\n",
       "      <td>11.9</td>\n",
       "      <td>1046</td>\n",
       "      <td>166</td>\n",
       "      <td>1056</td>\n",
       "      <td>113</td>\n",
       "      <td>1692</td>\n",
       "      <td>1268.0</td>\n",
       "      <td>13.6</td>\n",
       "      <td>48.9</td>\n",
       "      <td>0.7578</td>\n",
       "    </tr>\n",
       "    <tr>\n",
       "      <th>1</th>\n",
       "      <td>10/3/2004</td>\n",
       "      <td>19.00.00</td>\n",
       "      <td>2.0</td>\n",
       "      <td>1292</td>\n",
       "      <td>112.0</td>\n",
       "      <td>9.4</td>\n",
       "      <td>955</td>\n",
       "      <td>103</td>\n",
       "      <td>1174</td>\n",
       "      <td>92</td>\n",
       "      <td>1559</td>\n",
       "      <td>972.0</td>\n",
       "      <td>13.3</td>\n",
       "      <td>47.7</td>\n",
       "      <td>0.7255</td>\n",
       "    </tr>\n",
       "    <tr>\n",
       "      <th>2</th>\n",
       "      <td>10/3/2004</td>\n",
       "      <td>20.00.00</td>\n",
       "      <td>2.2</td>\n",
       "      <td>1402</td>\n",
       "      <td>88.0</td>\n",
       "      <td>9.0</td>\n",
       "      <td>939</td>\n",
       "      <td>131</td>\n",
       "      <td>1140</td>\n",
       "      <td>114</td>\n",
       "      <td>1555</td>\n",
       "      <td>1074.0</td>\n",
       "      <td>11.9</td>\n",
       "      <td>54.0</td>\n",
       "      <td>0.7502</td>\n",
       "    </tr>\n",
       "    <tr>\n",
       "      <th>3</th>\n",
       "      <td>10/3/2004</td>\n",
       "      <td>21.00.00</td>\n",
       "      <td>2.2</td>\n",
       "      <td>1376</td>\n",
       "      <td>80.0</td>\n",
       "      <td>9.2</td>\n",
       "      <td>948</td>\n",
       "      <td>172</td>\n",
       "      <td>1092</td>\n",
       "      <td>122</td>\n",
       "      <td>1584</td>\n",
       "      <td>1203.0</td>\n",
       "      <td>11.0</td>\n",
       "      <td>60.0</td>\n",
       "      <td>0.7867</td>\n",
       "    </tr>\n",
       "    <tr>\n",
       "      <th>4</th>\n",
       "      <td>10/3/2004</td>\n",
       "      <td>22.00.00</td>\n",
       "      <td>1.6</td>\n",
       "      <td>1272</td>\n",
       "      <td>51.0</td>\n",
       "      <td>6.5</td>\n",
       "      <td>836</td>\n",
       "      <td>131</td>\n",
       "      <td>1205</td>\n",
       "      <td>116</td>\n",
       "      <td>1490</td>\n",
       "      <td>1110.0</td>\n",
       "      <td>11.2</td>\n",
       "      <td>59.6</td>\n",
       "      <td>0.7888</td>\n",
       "    </tr>\n",
       "  </tbody>\n",
       "</table>\n",
       "</div>"
      ],
      "text/plain": [
       "        Date      Time  CO(GT)  PT08.S1(CO)  NMHC(GT)  C6H6(GT)  \\\n",
       "0  10/3/2004  18.00.00     2.6         1360     150.0      11.9   \n",
       "1  10/3/2004  19.00.00     2.0         1292     112.0       9.4   \n",
       "2  10/3/2004  20.00.00     2.2         1402      88.0       9.0   \n",
       "3  10/3/2004  21.00.00     2.2         1376      80.0       9.2   \n",
       "4  10/3/2004  22.00.00     1.6         1272      51.0       6.5   \n",
       "\n",
       "   PT08.S2(NMHC)  NOx(GT)  PT08.S3(NOx)  NO2(GT)  PT08.S4(NO2)  PT08.S5(O3)  \\\n",
       "0           1046      166          1056      113          1692       1268.0   \n",
       "1            955      103          1174       92          1559        972.0   \n",
       "2            939      131          1140      114          1555       1074.0   \n",
       "3            948      172          1092      122          1584       1203.0   \n",
       "4            836      131          1205      116          1490       1110.0   \n",
       "\n",
       "      T    RH      AH  \n",
       "0  13.6  48.9  0.7578  \n",
       "1  13.3  47.7  0.7255  \n",
       "2  11.9  54.0  0.7502  \n",
       "3  11.0  60.0  0.7867  \n",
       "4  11.2  59.6  0.7888  "
      ]
     },
     "execution_count": 3,
     "metadata": {},
     "output_type": "execute_result"
    }
   ],
   "source": [
    "df = pd.read_csv(\"/kaggle/input/airquality/AirQualityUCI.csv\")\n",
    "df.head()"
   ]
  },
  {
   "cell_type": "code",
   "execution_count": 4,
   "id": "6aa39023",
   "metadata": {
    "execution": {
     "iopub.execute_input": "2023-01-06T09:19:23.911544Z",
     "iopub.status.busy": "2023-01-06T09:19:23.911151Z",
     "iopub.status.idle": "2023-01-06T09:19:23.918264Z",
     "shell.execute_reply": "2023-01-06T09:19:23.917064Z"
    },
    "papermill": {
     "duration": 0.016132,
     "end_time": "2023-01-06T09:19:23.920649",
     "exception": false,
     "start_time": "2023-01-06T09:19:23.904517",
     "status": "completed"
    },
    "tags": []
   },
   "outputs": [
    {
     "data": {
      "text/plain": [
       "(9357, 15)"
      ]
     },
     "execution_count": 4,
     "metadata": {},
     "output_type": "execute_result"
    }
   ],
   "source": [
    "df.shape"
   ]
  },
  {
   "cell_type": "code",
   "execution_count": 5,
   "id": "236fbbf0",
   "metadata": {
    "execution": {
     "iopub.execute_input": "2023-01-06T09:19:23.933771Z",
     "iopub.status.busy": "2023-01-06T09:19:23.933343Z",
     "iopub.status.idle": "2023-01-06T09:19:23.983147Z",
     "shell.execute_reply": "2023-01-06T09:19:23.982267Z"
    },
    "papermill": {
     "duration": 0.059748,
     "end_time": "2023-01-06T09:19:23.986013",
     "exception": false,
     "start_time": "2023-01-06T09:19:23.926265",
     "status": "completed"
    },
    "tags": []
   },
   "outputs": [
    {
     "data": {
      "text/html": [
       "<div>\n",
       "<style scoped>\n",
       "    .dataframe tbody tr th:only-of-type {\n",
       "        vertical-align: middle;\n",
       "    }\n",
       "\n",
       "    .dataframe tbody tr th {\n",
       "        vertical-align: top;\n",
       "    }\n",
       "\n",
       "    .dataframe thead th {\n",
       "        text-align: right;\n",
       "    }\n",
       "</style>\n",
       "<table border=\"1\" class=\"dataframe\">\n",
       "  <thead>\n",
       "    <tr style=\"text-align: right;\">\n",
       "      <th></th>\n",
       "      <th>Date</th>\n",
       "      <th>Time</th>\n",
       "      <th>CO(GT)</th>\n",
       "      <th>PT08.S1(CO)</th>\n",
       "      <th>NMHC(GT)</th>\n",
       "      <th>C6H6(GT)</th>\n",
       "      <th>PT08.S2(NMHC)</th>\n",
       "      <th>NOx(GT)</th>\n",
       "      <th>PT08.S3(NOx)</th>\n",
       "      <th>NO2(GT)</th>\n",
       "      <th>PT08.S4(NO2)</th>\n",
       "      <th>PT08.S5(O3)</th>\n",
       "      <th>T</th>\n",
       "      <th>RH</th>\n",
       "      <th>AH</th>\n",
       "    </tr>\n",
       "  </thead>\n",
       "  <tbody>\n",
       "    <tr>\n",
       "      <th>0</th>\n",
       "      <td>2004-03-10</td>\n",
       "      <td>18.00.00</td>\n",
       "      <td>2.6</td>\n",
       "      <td>1360</td>\n",
       "      <td>150.0</td>\n",
       "      <td>11.9</td>\n",
       "      <td>1046</td>\n",
       "      <td>166</td>\n",
       "      <td>1056</td>\n",
       "      <td>113</td>\n",
       "      <td>1692</td>\n",
       "      <td>1268.0</td>\n",
       "      <td>13.6</td>\n",
       "      <td>48.9</td>\n",
       "      <td>0.7578</td>\n",
       "    </tr>\n",
       "    <tr>\n",
       "      <th>1</th>\n",
       "      <td>2004-03-10</td>\n",
       "      <td>19.00.00</td>\n",
       "      <td>2.0</td>\n",
       "      <td>1292</td>\n",
       "      <td>112.0</td>\n",
       "      <td>9.4</td>\n",
       "      <td>955</td>\n",
       "      <td>103</td>\n",
       "      <td>1174</td>\n",
       "      <td>92</td>\n",
       "      <td>1559</td>\n",
       "      <td>972.0</td>\n",
       "      <td>13.3</td>\n",
       "      <td>47.7</td>\n",
       "      <td>0.7255</td>\n",
       "    </tr>\n",
       "    <tr>\n",
       "      <th>2</th>\n",
       "      <td>2004-03-10</td>\n",
       "      <td>20.00.00</td>\n",
       "      <td>2.2</td>\n",
       "      <td>1402</td>\n",
       "      <td>88.0</td>\n",
       "      <td>9.0</td>\n",
       "      <td>939</td>\n",
       "      <td>131</td>\n",
       "      <td>1140</td>\n",
       "      <td>114</td>\n",
       "      <td>1555</td>\n",
       "      <td>1074.0</td>\n",
       "      <td>11.9</td>\n",
       "      <td>54.0</td>\n",
       "      <td>0.7502</td>\n",
       "    </tr>\n",
       "    <tr>\n",
       "      <th>3</th>\n",
       "      <td>2004-03-10</td>\n",
       "      <td>21.00.00</td>\n",
       "      <td>2.2</td>\n",
       "      <td>1376</td>\n",
       "      <td>80.0</td>\n",
       "      <td>9.2</td>\n",
       "      <td>948</td>\n",
       "      <td>172</td>\n",
       "      <td>1092</td>\n",
       "      <td>122</td>\n",
       "      <td>1584</td>\n",
       "      <td>1203.0</td>\n",
       "      <td>11.0</td>\n",
       "      <td>60.0</td>\n",
       "      <td>0.7867</td>\n",
       "    </tr>\n",
       "    <tr>\n",
       "      <th>4</th>\n",
       "      <td>2004-03-10</td>\n",
       "      <td>22.00.00</td>\n",
       "      <td>1.6</td>\n",
       "      <td>1272</td>\n",
       "      <td>51.0</td>\n",
       "      <td>6.5</td>\n",
       "      <td>836</td>\n",
       "      <td>131</td>\n",
       "      <td>1205</td>\n",
       "      <td>116</td>\n",
       "      <td>1490</td>\n",
       "      <td>1110.0</td>\n",
       "      <td>11.2</td>\n",
       "      <td>59.6</td>\n",
       "      <td>0.7888</td>\n",
       "    </tr>\n",
       "  </tbody>\n",
       "</table>\n",
       "</div>"
      ],
      "text/plain": [
       "        Date      Time  CO(GT)  PT08.S1(CO)  NMHC(GT)  C6H6(GT)  \\\n",
       "0 2004-03-10  18.00.00     2.6         1360     150.0      11.9   \n",
       "1 2004-03-10  19.00.00     2.0         1292     112.0       9.4   \n",
       "2 2004-03-10  20.00.00     2.2         1402      88.0       9.0   \n",
       "3 2004-03-10  21.00.00     2.2         1376      80.0       9.2   \n",
       "4 2004-03-10  22.00.00     1.6         1272      51.0       6.5   \n",
       "\n",
       "   PT08.S2(NMHC)  NOx(GT)  PT08.S3(NOx)  NO2(GT)  PT08.S4(NO2)  PT08.S5(O3)  \\\n",
       "0           1046      166          1056      113          1692       1268.0   \n",
       "1            955      103          1174       92          1559        972.0   \n",
       "2            939      131          1140      114          1555       1074.0   \n",
       "3            948      172          1092      122          1584       1203.0   \n",
       "4            836      131          1205      116          1490       1110.0   \n",
       "\n",
       "      T    RH      AH  \n",
       "0  13.6  48.9  0.7578  \n",
       "1  13.3  47.7  0.7255  \n",
       "2  11.9  54.0  0.7502  \n",
       "3  11.0  60.0  0.7867  \n",
       "4  11.2  59.6  0.7888  "
      ]
     },
     "execution_count": 5,
     "metadata": {},
     "output_type": "execute_result"
    }
   ],
   "source": [
    "#Formatting Date and Time to datetime type\n",
    "\n",
    "df['Date'] = pd.to_datetime(df['Date'],dayfirst=True) \n",
    "\n",
    "#df['Time'] = pd.to_datetime(df['Time'],format= '%H.%M.%S' ).dt.time\n",
    "\n",
    "df.head()"
   ]
  },
  {
   "cell_type": "code",
   "execution_count": 6,
   "id": "0cee24ad",
   "metadata": {
    "execution": {
     "iopub.execute_input": "2023-01-06T09:19:24.000119Z",
     "iopub.status.busy": "2023-01-06T09:19:23.999213Z",
     "iopub.status.idle": "2023-01-06T09:19:24.007700Z",
     "shell.execute_reply": "2023-01-06T09:19:24.005905Z"
    },
    "papermill": {
     "duration": 0.018372,
     "end_time": "2023-01-06T09:19:24.010290",
     "exception": false,
     "start_time": "2023-01-06T09:19:23.991918",
     "status": "completed"
    },
    "tags": []
   },
   "outputs": [
    {
     "name": "stdout",
     "output_type": "stream",
     "text": [
      "2023-01-06 09:19:24.003113\n",
      "year: 2023\n",
      "month: 01\n",
      "day: 06\n",
      "time: 09:19:24\n",
      "date and time: 01/06/2023, 09:19:24\n"
     ]
    }
   ],
   "source": [
    "from datetime import datetime\n",
    "\n",
    "now = datetime.now() # current date and time\n",
    "print(now)\n",
    "year = now.strftime(\"%Y\")\n",
    "print(\"year:\", year)\n",
    "\n",
    "month = now.strftime(\"%m\")\n",
    "print(\"month:\", month)\n",
    "\n",
    "day = now.strftime(\"%d\")\n",
    "print(\"day:\", day)\n",
    "\n",
    "time = now.strftime(\"%H:%M:%S\")\n",
    "print(\"time:\", time)\n",
    "\n",
    "date_time = now.strftime(\"%m/%d/%Y, %H:%M:%S\")\n",
    "print(\"date and time:\",date_time)\t"
   ]
  },
  {
   "cell_type": "code",
   "execution_count": 7,
   "id": "d364aadb",
   "metadata": {
    "execution": {
     "iopub.execute_input": "2023-01-06T09:19:24.024120Z",
     "iopub.status.busy": "2023-01-06T09:19:24.023686Z",
     "iopub.status.idle": "2023-01-06T09:19:24.028613Z",
     "shell.execute_reply": "2023-01-06T09:19:24.027455Z"
    },
    "papermill": {
     "duration": 0.014902,
     "end_time": "2023-01-06T09:19:24.031227",
     "exception": false,
     "start_time": "2023-01-06T09:19:24.016325",
     "status": "completed"
    },
    "tags": []
   },
   "outputs": [],
   "source": [
    "#df['Time'] = pd.to_datetime(df['Time'], format= '%H.%M.%S' ).dt.time"
   ]
  },
  {
   "cell_type": "code",
   "execution_count": 8,
   "id": "644399ed",
   "metadata": {
    "execution": {
     "iopub.execute_input": "2023-01-06T09:19:24.044964Z",
     "iopub.status.busy": "2023-01-06T09:19:24.044550Z",
     "iopub.status.idle": "2023-01-06T09:19:24.055634Z",
     "shell.execute_reply": "2023-01-06T09:19:24.054247Z"
    },
    "papermill": {
     "duration": 0.021333,
     "end_time": "2023-01-06T09:19:24.058410",
     "exception": false,
     "start_time": "2023-01-06T09:19:24.037077",
     "status": "completed"
    },
    "tags": []
   },
   "outputs": [
    {
     "data": {
      "text/plain": [
       "Date             0.000000\n",
       "Time             0.000000\n",
       "CO(GT)           0.000000\n",
       "PT08.S1(CO)      0.000000\n",
       "NMHC(GT)         0.000000\n",
       "C6H6(GT)         0.000000\n",
       "PT08.S2(NMHC)    0.000000\n",
       "NOx(GT)          0.000000\n",
       "PT08.S3(NOx)     0.000000\n",
       "NO2(GT)          0.000000\n",
       "PT08.S4(NO2)     0.000000\n",
       "PT08.S5(O3)      0.000000\n",
       "T                0.000000\n",
       "RH               0.000000\n",
       "AH               0.000107\n",
       "dtype: float64"
      ]
     },
     "execution_count": 8,
     "metadata": {},
     "output_type": "execute_result"
    }
   ],
   "source": [
    "df.isnull().sum() / len(df)"
   ]
  },
  {
   "cell_type": "code",
   "execution_count": 9,
   "id": "db12ab4e",
   "metadata": {
    "execution": {
     "iopub.execute_input": "2023-01-06T09:19:24.072486Z",
     "iopub.status.busy": "2023-01-06T09:19:24.072080Z",
     "iopub.status.idle": "2023-01-06T09:19:24.078816Z",
     "shell.execute_reply": "2023-01-06T09:19:24.077613Z"
    },
    "papermill": {
     "duration": 0.016913,
     "end_time": "2023-01-06T09:19:24.081535",
     "exception": false,
     "start_time": "2023-01-06T09:19:24.064622",
     "status": "completed"
    },
    "tags": []
   },
   "outputs": [
    {
     "name": "stdout",
     "output_type": "stream",
     "text": [
      "The NMHC(GT) sensor has 0.00% of missing data.\n"
     ]
    }
   ],
   "source": [
    "NMHC_ratio = df['NMHC(GT)'].isna().sum()/len(df['NMHC(GT)'])\n",
    "\n",
    "print('The NMHC(GT) sensor has {:.2f}% of missing data.'.format(NMHC_ratio*100))"
   ]
  },
  {
   "cell_type": "code",
   "execution_count": 10,
   "id": "ed2234f3",
   "metadata": {
    "execution": {
     "iopub.execute_input": "2023-01-06T09:19:24.096514Z",
     "iopub.status.busy": "2023-01-06T09:19:24.096115Z",
     "iopub.status.idle": "2023-01-06T09:19:24.104536Z",
     "shell.execute_reply": "2023-01-06T09:19:24.103219Z"
    },
    "papermill": {
     "duration": 0.018779,
     "end_time": "2023-01-06T09:19:24.107174",
     "exception": false,
     "start_time": "2023-01-06T09:19:24.088395",
     "status": "completed"
    },
    "tags": []
   },
   "outputs": [
    {
     "data": {
      "text/plain": [
       "0"
      ]
     },
     "execution_count": 10,
     "metadata": {},
     "output_type": "execute_result"
    }
   ],
   "source": [
    "df['NMHC(GT)'].isnull().sum()"
   ]
  },
  {
   "cell_type": "code",
   "execution_count": 11,
   "id": "789988ce",
   "metadata": {
    "execution": {
     "iopub.execute_input": "2023-01-06T09:19:24.122784Z",
     "iopub.status.busy": "2023-01-06T09:19:24.122388Z",
     "iopub.status.idle": "2023-01-06T09:19:24.133585Z",
     "shell.execute_reply": "2023-01-06T09:19:24.132689Z"
    },
    "papermill": {
     "duration": 0.02098,
     "end_time": "2023-01-06T09:19:24.135990",
     "exception": false,
     "start_time": "2023-01-06T09:19:24.115010",
     "status": "completed"
    },
    "tags": []
   },
   "outputs": [
    {
     "data": {
      "text/plain": [
       "Date             0\n",
       "Time             0\n",
       "CO(GT)           0\n",
       "PT08.S1(CO)      0\n",
       "NMHC(GT)         0\n",
       "C6H6(GT)         0\n",
       "PT08.S2(NMHC)    0\n",
       "NOx(GT)          0\n",
       "PT08.S3(NOx)     0\n",
       "NO2(GT)          0\n",
       "PT08.S4(NO2)     0\n",
       "PT08.S5(O3)      0\n",
       "T                0\n",
       "RH               0\n",
       "AH               1\n",
       "dtype: int64"
      ]
     },
     "execution_count": 11,
     "metadata": {},
     "output_type": "execute_result"
    }
   ],
   "source": [
    "df.isnull().sum()"
   ]
  },
  {
   "cell_type": "code",
   "execution_count": 12,
   "id": "88c22813",
   "metadata": {
    "execution": {
     "iopub.execute_input": "2023-01-06T09:19:24.151407Z",
     "iopub.status.busy": "2023-01-06T09:19:24.150931Z",
     "iopub.status.idle": "2023-01-06T09:19:24.168562Z",
     "shell.execute_reply": "2023-01-06T09:19:24.167219Z"
    },
    "papermill": {
     "duration": 0.028731,
     "end_time": "2023-01-06T09:19:24.170963",
     "exception": false,
     "start_time": "2023-01-06T09:19:24.142232",
     "status": "completed"
    },
    "tags": []
   },
   "outputs": [
    {
     "data": {
      "text/plain": [
       "Date              391\n",
       "Time               26\n",
       "CO(GT)             98\n",
       "PT08.S1(CO)      1042\n",
       "NMHC(GT)          431\n",
       "C6H6(GT)          409\n",
       "PT08.S2(NMHC)    1246\n",
       "NOx(GT)           926\n",
       "PT08.S3(NOx)     1222\n",
       "NO2(GT)           285\n",
       "PT08.S4(NO2)     1604\n",
       "PT08.S5(O3)      1745\n",
       "T                 438\n",
       "RH                755\n",
       "AH               6683\n",
       "dtype: int64"
      ]
     },
     "execution_count": 12,
     "metadata": {},
     "output_type": "execute_result"
    }
   ],
   "source": [
    "df.nunique()"
   ]
  },
  {
   "cell_type": "code",
   "execution_count": 13,
   "id": "9812c995",
   "metadata": {
    "execution": {
     "iopub.execute_input": "2023-01-06T09:19:24.185488Z",
     "iopub.status.busy": "2023-01-06T09:19:24.185077Z",
     "iopub.status.idle": "2023-01-06T09:19:24.249455Z",
     "shell.execute_reply": "2023-01-06T09:19:24.248139Z"
    },
    "papermill": {
     "duration": 0.07489,
     "end_time": "2023-01-06T09:19:24.252328",
     "exception": false,
     "start_time": "2023-01-06T09:19:24.177438",
     "status": "completed"
    },
    "tags": []
   },
   "outputs": [
    {
     "data": {
      "text/html": [
       "<div>\n",
       "<style scoped>\n",
       "    .dataframe tbody tr th:only-of-type {\n",
       "        vertical-align: middle;\n",
       "    }\n",
       "\n",
       "    .dataframe tbody tr th {\n",
       "        vertical-align: top;\n",
       "    }\n",
       "\n",
       "    .dataframe thead th {\n",
       "        text-align: right;\n",
       "    }\n",
       "</style>\n",
       "<table border=\"1\" class=\"dataframe\">\n",
       "  <thead>\n",
       "    <tr style=\"text-align: right;\">\n",
       "      <th></th>\n",
       "      <th>CO(GT)</th>\n",
       "      <th>PT08.S1(CO)</th>\n",
       "      <th>NMHC(GT)</th>\n",
       "      <th>C6H6(GT)</th>\n",
       "      <th>PT08.S2(NMHC)</th>\n",
       "      <th>NOx(GT)</th>\n",
       "      <th>PT08.S3(NOx)</th>\n",
       "      <th>NO2(GT)</th>\n",
       "      <th>PT08.S4(NO2)</th>\n",
       "      <th>PT08.S5(O3)</th>\n",
       "      <th>T</th>\n",
       "      <th>RH</th>\n",
       "      <th>AH</th>\n",
       "    </tr>\n",
       "  </thead>\n",
       "  <tbody>\n",
       "    <tr>\n",
       "      <th>count</th>\n",
       "      <td>9357.000000</td>\n",
       "      <td>9357.000000</td>\n",
       "      <td>9357.000000</td>\n",
       "      <td>9357.000000</td>\n",
       "      <td>9357.000000</td>\n",
       "      <td>9357.000000</td>\n",
       "      <td>9357.000000</td>\n",
       "      <td>9357.000000</td>\n",
       "      <td>9357.000000</td>\n",
       "      <td>9357.000000</td>\n",
       "      <td>9357.000000</td>\n",
       "      <td>9357.000000</td>\n",
       "      <td>9356.000000</td>\n",
       "    </tr>\n",
       "    <tr>\n",
       "      <th>mean</th>\n",
       "      <td>-34.033536</td>\n",
       "      <td>1048.816074</td>\n",
       "      <td>-159.066485</td>\n",
       "      <td>2.004628</td>\n",
       "      <td>894.432724</td>\n",
       "      <td>168.696484</td>\n",
       "      <td>794.910655</td>\n",
       "      <td>58.360372</td>\n",
       "      <td>1391.462755</td>\n",
       "      <td>974.900780</td>\n",
       "      <td>9.782430</td>\n",
       "      <td>39.479397</td>\n",
       "      <td>-6.838464</td>\n",
       "    </tr>\n",
       "    <tr>\n",
       "      <th>std</th>\n",
       "      <td>79.096080</td>\n",
       "      <td>330.062067</td>\n",
       "      <td>139.800836</td>\n",
       "      <td>43.568942</td>\n",
       "      <td>342.491834</td>\n",
       "      <td>257.434899</td>\n",
       "      <td>322.147362</td>\n",
       "      <td>128.153143</td>\n",
       "      <td>467.198972</td>\n",
       "      <td>456.996348</td>\n",
       "      <td>43.206308</td>\n",
       "      <td>51.217345</td>\n",
       "      <td>38.978664</td>\n",
       "    </tr>\n",
       "    <tr>\n",
       "      <th>min</th>\n",
       "      <td>-200.000000</td>\n",
       "      <td>-200.000000</td>\n",
       "      <td>-200.000000</td>\n",
       "      <td>-200.000000</td>\n",
       "      <td>-200.000000</td>\n",
       "      <td>-200.000000</td>\n",
       "      <td>-200.000000</td>\n",
       "      <td>-200.000000</td>\n",
       "      <td>-200.000000</td>\n",
       "      <td>-200.000000</td>\n",
       "      <td>-200.000000</td>\n",
       "      <td>-200.000000</td>\n",
       "      <td>-200.000000</td>\n",
       "    </tr>\n",
       "    <tr>\n",
       "      <th>25%</th>\n",
       "      <td>0.600000</td>\n",
       "      <td>921.000000</td>\n",
       "      <td>-200.000000</td>\n",
       "      <td>4.000000</td>\n",
       "      <td>711.000000</td>\n",
       "      <td>50.000000</td>\n",
       "      <td>637.000000</td>\n",
       "      <td>53.000000</td>\n",
       "      <td>1185.000000</td>\n",
       "      <td>700.000000</td>\n",
       "      <td>10.900000</td>\n",
       "      <td>34.100000</td>\n",
       "      <td>0.692250</td>\n",
       "    </tr>\n",
       "    <tr>\n",
       "      <th>50%</th>\n",
       "      <td>1.500000</td>\n",
       "      <td>1053.000000</td>\n",
       "      <td>-200.000000</td>\n",
       "      <td>7.900000</td>\n",
       "      <td>895.000000</td>\n",
       "      <td>141.000000</td>\n",
       "      <td>794.000000</td>\n",
       "      <td>96.000000</td>\n",
       "      <td>1446.000000</td>\n",
       "      <td>942.000000</td>\n",
       "      <td>17.200000</td>\n",
       "      <td>48.500000</td>\n",
       "      <td>0.976800</td>\n",
       "    </tr>\n",
       "    <tr>\n",
       "      <th>75%</th>\n",
       "      <td>2.600000</td>\n",
       "      <td>1221.000000</td>\n",
       "      <td>-200.000000</td>\n",
       "      <td>13.600000</td>\n",
       "      <td>1105.000000</td>\n",
       "      <td>284.000000</td>\n",
       "      <td>960.000000</td>\n",
       "      <td>133.000000</td>\n",
       "      <td>1662.000000</td>\n",
       "      <td>1255.000000</td>\n",
       "      <td>24.100000</td>\n",
       "      <td>61.900000</td>\n",
       "      <td>1.296300</td>\n",
       "    </tr>\n",
       "    <tr>\n",
       "      <th>max</th>\n",
       "      <td>1428.000000</td>\n",
       "      <td>2040.000000</td>\n",
       "      <td>1189.000000</td>\n",
       "      <td>1321.000000</td>\n",
       "      <td>2214.000000</td>\n",
       "      <td>1479.000000</td>\n",
       "      <td>2683.000000</td>\n",
       "      <td>1779.000000</td>\n",
       "      <td>2775.000000</td>\n",
       "      <td>2523.000000</td>\n",
       "      <td>57.200000</td>\n",
       "      <td>88.700000</td>\n",
       "      <td>2.231000</td>\n",
       "    </tr>\n",
       "  </tbody>\n",
       "</table>\n",
       "</div>"
      ],
      "text/plain": [
       "            CO(GT)  PT08.S1(CO)     NMHC(GT)     C6H6(GT)  PT08.S2(NMHC)  \\\n",
       "count  9357.000000  9357.000000  9357.000000  9357.000000    9357.000000   \n",
       "mean    -34.033536  1048.816074  -159.066485     2.004628     894.432724   \n",
       "std      79.096080   330.062067   139.800836    43.568942     342.491834   \n",
       "min    -200.000000  -200.000000  -200.000000  -200.000000    -200.000000   \n",
       "25%       0.600000   921.000000  -200.000000     4.000000     711.000000   \n",
       "50%       1.500000  1053.000000  -200.000000     7.900000     895.000000   \n",
       "75%       2.600000  1221.000000  -200.000000    13.600000    1105.000000   \n",
       "max    1428.000000  2040.000000  1189.000000  1321.000000    2214.000000   \n",
       "\n",
       "           NOx(GT)  PT08.S3(NOx)      NO2(GT)  PT08.S4(NO2)  PT08.S5(O3)  \\\n",
       "count  9357.000000   9357.000000  9357.000000   9357.000000  9357.000000   \n",
       "mean    168.696484    794.910655    58.360372   1391.462755   974.900780   \n",
       "std     257.434899    322.147362   128.153143    467.198972   456.996348   \n",
       "min    -200.000000   -200.000000  -200.000000   -200.000000  -200.000000   \n",
       "25%      50.000000    637.000000    53.000000   1185.000000   700.000000   \n",
       "50%     141.000000    794.000000    96.000000   1446.000000   942.000000   \n",
       "75%     284.000000    960.000000   133.000000   1662.000000  1255.000000   \n",
       "max    1479.000000   2683.000000  1779.000000   2775.000000  2523.000000   \n",
       "\n",
       "                 T           RH           AH  \n",
       "count  9357.000000  9357.000000  9356.000000  \n",
       "mean      9.782430    39.479397    -6.838464  \n",
       "std      43.206308    51.217345    38.978664  \n",
       "min    -200.000000  -200.000000  -200.000000  \n",
       "25%      10.900000    34.100000     0.692250  \n",
       "50%      17.200000    48.500000     0.976800  \n",
       "75%      24.100000    61.900000     1.296300  \n",
       "max      57.200000    88.700000     2.231000  "
      ]
     },
     "execution_count": 13,
     "metadata": {},
     "output_type": "execute_result"
    }
   ],
   "source": [
    "df.describe()"
   ]
  },
  {
   "cell_type": "code",
   "execution_count": 14,
   "id": "06bb04dc",
   "metadata": {
    "execution": {
     "iopub.execute_input": "2023-01-06T09:19:24.267344Z",
     "iopub.status.busy": "2023-01-06T09:19:24.266936Z",
     "iopub.status.idle": "2023-01-06T09:19:24.278862Z",
     "shell.execute_reply": "2023-01-06T09:19:24.277601Z"
    },
    "papermill": {
     "duration": 0.022259,
     "end_time": "2023-01-06T09:19:24.281327",
     "exception": false,
     "start_time": "2023-01-06T09:19:24.259068",
     "status": "completed"
    },
    "tags": []
   },
   "outputs": [
    {
     "data": {
      "text/plain": [
       "Date             9357\n",
       "Time             9357\n",
       "CO(GT)           9357\n",
       "PT08.S1(CO)      9357\n",
       "NMHC(GT)         9357\n",
       "C6H6(GT)         9357\n",
       "PT08.S2(NMHC)    9357\n",
       "NOx(GT)          9357\n",
       "PT08.S3(NOx)     9357\n",
       "NO2(GT)          9357\n",
       "PT08.S4(NO2)     9357\n",
       "PT08.S5(O3)      9357\n",
       "T                9357\n",
       "RH               9357\n",
       "AH               9357\n",
       "dtype: int64"
      ]
     },
     "execution_count": 14,
     "metadata": {},
     "output_type": "execute_result"
    }
   ],
   "source": [
    "# to know if there null values or not\n",
    "df.apply(lambda x: len(x.isnull()))"
   ]
  },
  {
   "cell_type": "code",
   "execution_count": 15,
   "id": "c3934dc5",
   "metadata": {
    "execution": {
     "iopub.execute_input": "2023-01-06T09:19:24.297019Z",
     "iopub.status.busy": "2023-01-06T09:19:24.296646Z",
     "iopub.status.idle": "2023-01-06T09:19:24.821132Z",
     "shell.execute_reply": "2023-01-06T09:19:24.819983Z"
    },
    "papermill": {
     "duration": 0.535417,
     "end_time": "2023-01-06T09:19:24.823738",
     "exception": false,
     "start_time": "2023-01-06T09:19:24.288321",
     "status": "completed"
    },
    "tags": []
   },
   "outputs": [
    {
     "data": {
      "image/png": "[encoded data removed]",
      "text/plain": [
       "<Figure size 1224x648 with 2 Axes>"
      ]
     },
     "metadata": {
      "needs_background": "light"
     },
     "output_type": "display_data"
    }
   ],
   "source": [
    "plt.figure(figsize=(17,9))\n",
    "plt.subplot(2,2,1)\n",
    "sns.histplot(df[\"T\"],stat=\"count\",color=\"red\",bins=15,kde={'alpha':0.5})\n",
    "plt.subplot(2,2,2)\n",
    "sns.histplot(df.RH,stat=\"count\",color = \"green\",bins=15,kde={'alpha':0.5})\n",
    "plt.show()"
   ]
  },
  {
   "cell_type": "code",
   "execution_count": 16,
   "id": "3d6cde13",
   "metadata": {
    "execution": {
     "iopub.execute_input": "2023-01-06T09:19:24.841083Z",
     "iopub.status.busy": "2023-01-06T09:19:24.839780Z",
     "iopub.status.idle": "2023-01-06T09:19:25.111796Z",
     "shell.execute_reply": "2023-01-06T09:19:25.110525Z"
    },
    "papermill": {
     "duration": 0.283222,
     "end_time": "2023-01-06T09:19:25.114377",
     "exception": false,
     "start_time": "2023-01-06T09:19:24.831155",
     "status": "completed"
    },
    "tags": []
   },
   "outputs": [
    {
     "data": {
      "text/plain": [
       "<AxesSubplot:xlabel='AH', ylabel='Count'>"
      ]
     },
     "execution_count": 16,
     "metadata": {},
     "output_type": "execute_result"
    },
    {
     "data": {
      "image/png": "[encoded data removed]",
      "text/plain": [
       "<Figure size 1224x648 with 1 Axes>"
      ]
     },
     "metadata": {
      "needs_background": "light"
     },
     "output_type": "display_data"
    }
   ],
   "source": [
    "plt.figure(figsize=(17,9))\n",
    "plt.subplot(2,2,1)\n",
    "sns.histplot(df.AH,stat=\"count\",color=\"green\",bins=15)"
   ]
  },
  {
   "cell_type": "code",
   "execution_count": 17,
   "id": "da1402b2",
   "metadata": {
    "execution": {
     "iopub.execute_input": "2023-01-06T09:19:25.131939Z",
     "iopub.status.busy": "2023-01-06T09:19:25.131472Z",
     "iopub.status.idle": "2023-01-06T09:19:28.813149Z",
     "shell.execute_reply": "2023-01-06T09:19:28.812229Z"
    },
    "papermill": {
     "duration": 3.693313,
     "end_time": "2023-01-06T09:19:28.815491",
     "exception": false,
     "start_time": "2023-01-06T09:19:25.122178",
     "status": "completed"
    },
    "tags": []
   },
   "outputs": [
    {
     "data": {
      "image/png": "[encoded data removed]",
      "text/plain": [
       "<Figure size 1224x648 with 1 Axes>"
      ]
     },
     "metadata": {
      "needs_background": "light"
     },
     "output_type": "display_data"
    },
    {
     "data": {
      "image/png": "[encoded data removed]",
      "text/plain": [
       "<Figure size 1224x648 with 1 Axes>"
      ]
     },
     "metadata": {
      "needs_background": "light"
     },
     "output_type": "display_data"
    },
    {
     "data": {
      "image/png": "[encoded data removed]",
      "text/plain": [
       "<Figure size 1224x648 with 1 Axes>"
      ]
     },
     "metadata": {
      "needs_background": "light"
     },
     "output_type": "display_data"
    },
    {
     "data": {
      "image/png": "[encoded data removed]",
      "text/plain": [
       "<Figure size 1224x648 with 1 Axes>"
      ]
     },
     "metadata": {
      "needs_background": "light"
     },
     "output_type": "display_data"
    },
    {
     "data": {
      "image/png": "[encoded data removed]",
      "text/plain": [
       "<Figure size 1224x648 with 1 Axes>"
      ]
     },
     "metadata": {
      "needs_background": "light"
     },
     "output_type": "display_data"
    },
    {
     "data": {
      "image/png": "[encoded data removed]",
      "text/plain": [
       "<Figure size 1224x648 with 1 Axes>"
      ]
     },
     "metadata": {
      "needs_background": "light"
     },
     "output_type": "display_data"
    },
    {
     "data": {
      "image/png": "[encoded data removed]",
      "text/plain": [
       "<Figure size 1224x648 with 1 Axes>"
      ]
     },
     "metadata": {
      "needs_background": "light"
     },
     "output_type": "display_data"
    },
    {
     "data": {
      "image/png": "[encoded data removed]",
      "text/plain": [
       "<Figure size 1224x648 with 1 Axes>"
      ]
     },
     "metadata": {
      "needs_background": "light"
     },
     "output_type": "display_data"
    },
    {
     "data": {
      "image/png": "[encoded data removed]",
      "text/plain": [
       "<Figure size 1224x648 with 1 Axes>"
      ]
     },
     "metadata": {
      "needs_background": "light"
     },
     "output_type": "display_data"
    },
    {
     "data": {
      "image/png": "[encoded data removed]",
      "text/plain": [
       "<Figure size 1224x648 with 1 Axes>"
      ]
     },
     "metadata": {
      "needs_background": "light"
     },
     "output_type": "display_data"
    },
    {
     "data": {
      "image/png": "[encoded data removed]",
      "text/plain": [
       "<Figure size 1224x648 with 1 Axes>"
      ]
     },
     "metadata": {
      "needs_background": "light"
     },
     "output_type": "display_data"
    },
    {
     "data": {
      "image/png": "[encoded data removed]",
      "text/plain": [
       "<Figure size 1224x648 with 1 Axes>"
      ]
     },
     "metadata": {
      "needs_background": "light"
     },
     "output_type": "display_data"
    },
    {
     "data": {
      "image/png": "[encoded data removed]",
      "text/plain": [
       "<Figure size 1224x648 with 1 Axes>"
      ]
     },
     "metadata": {
      "needs_background": "light"
     },
     "output_type": "display_data"
    }
   ],
   "source": [
    "for i in df.columns[2:]:\n",
    "    plt.figure(figsize=(17,9))\n",
    "    plt.subplot(2,2,1)\n",
    "    sns.histplot(x=df[i],stat=\"count\",color=\"red\",bins=15)\n",
    "    #plt.hist(x=df[i],stat=\"count\",color=\"red\",bins=15, rwidth=0.9)\n",
    "    "
   ]
  },
  {
   "cell_type": "code",
   "execution_count": null,
   "id": "1d8de4a4",
   "metadata": {
    "papermill": {
     "duration": 0.010096,
     "end_time": "2023-01-06T09:19:28.836116",
     "exception": false,
     "start_time": "2023-01-06T09:19:28.826020",
     "status": "completed"
    },
    "tags": []
   },
   "outputs": [],
   "source": []
  }
 ],
 "metadata": {
  "kernelspec": {
   "display_name": "Python 3",
   "language": "python",
   "name": "python3"
  },
  "language_info": {
   "codemirror_mode": {
    "name": "ipython",
    "version": 3
   },
   "file_extension": ".py",
   "mimetype": "text/x-python",
   "name": "python",
   "nbconvert_exporter": "python",
   "pygments_lexer": "ipython3",
   "version": "3.7.12"
  },
  "papermill": {
   "default_parameters": {},
   "duration": 17.746965,
   "end_time": "2023-01-06T09:19:29.771335",
   "environment_variables": {},
   "exception": null,
   "input_path": "__notebook__.ipynb",
   "output_path": "__notebook__.ipynb",
   "parameters": {},
   "start_time": "2023-01-06T09:19:12.024370",
   "version": "2.3.4"
  }
 },
 "nbformat": 4,
 "nbformat_minor": 5
}
