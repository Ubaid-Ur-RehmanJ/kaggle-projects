{
 "cells": [
  {
   "cell_type": "code",
   "execution_count": 1,
   "id": "d6d5cc23",
   "metadata": {
    "_cell_guid": "b1076dfc-b9ad-4769-8c92-a6c4dae69d19",
    "_uuid": "8f2839f25d086af736a60e9eeb907d3b93b6e0e5",
    "execution": {
     "iopub.execute_input": "2023-01-14T15:52:02.556810Z",
     "iopub.status.busy": "2023-01-14T15:52:02.556163Z",
     "iopub.status.idle": "2023-01-14T15:52:02.582457Z",
     "shell.execute_reply": "2023-01-14T15:52:02.581718Z"
    },
    "papermill": {
     "duration": 0.033523,
     "end_time": "2023-01-14T15:52:02.584336",
     "exception": false,
     "start_time": "2023-01-14T15:52:02.550813",
     "status": "completed"
    },
    "tags": []
   },
   "outputs": [
    {
     "name": "stdout",
     "output_type": "stream",
     "text": [
      "/kaggle/input/red-wine-quality-cortez-et-al-2009/winequality-red.csv\n"
     ]
    }
   ],
   "source": [
    "# This Python 3 environment comes with many helpful analytics libraries installed\n",
    "# It is defined by the kaggle/python Docker image: https://github.com/kaggle/docker-python\n",
    "# For example, here's several helpful packages to load\n",
    "\n",
    "import numpy as np # linear algebra\n",
    "import pandas as pd # data processing, CSV file I/O (e.g. pd.read_csv)\n",
    "\n",
    "# Input data files are available in the read-only \"../input/\" directory\n",
    "# For example, running this (by clicking run or pressing Shift+Enter) will list all files under the input directory\n",
    "\n",
    "import os\n",
    "for dirname, _, filenames in os.walk('/kaggle/input'):\n",
    "    for filename in filenames:\n",
    "        print(os.path.join(dirname, filename))\n",
    "\n",
    "# You can write up to 20GB to the current directory (/kaggle/working/) that gets preserved as output when you create a version using \"Save & Run All\" \n",
    "# You can also write temporary files to /kaggle/temp/, but they won't be saved outside of the current session"
   ]
  },
  {
   "cell_type": "code",
   "execution_count": 2,
   "id": "170df9c2",
   "metadata": {
    "execution": {
     "iopub.execute_input": "2023-01-14T15:52:02.592430Z",
     "iopub.status.busy": "2023-01-14T15:52:02.591828Z",
     "iopub.status.idle": "2023-01-14T15:52:04.652164Z",
     "shell.execute_reply": "2023-01-14T15:52:04.651072Z"
    },
    "papermill": {
     "duration": 2.067139,
     "end_time": "2023-01-14T15:52:04.654698",
     "exception": false,
     "start_time": "2023-01-14T15:52:02.587559",
     "status": "completed"
    },
    "tags": []
   },
   "outputs": [],
   "source": [
    "import pandas as pd\n",
    "import numpy as np\n",
    "import matplotlib.pyplot as plt\n",
    "import plotly.express as px\n",
    "import seaborn as sns\n",
    "from sklearn.linear_model import LinearRegression, Ridge\n",
    "from sklearn.metrics import mean_absolute_error"
   ]
  },
  {
   "cell_type": "code",
   "execution_count": 3,
   "id": "241a8564",
   "metadata": {
    "execution": {
     "iopub.execute_input": "2023-01-14T15:52:04.663035Z",
     "iopub.status.busy": "2023-01-14T15:52:04.662653Z",
     "iopub.status.idle": "2023-01-14T15:52:04.671161Z",
     "shell.execute_reply": "2023-01-14T15:52:04.669920Z"
    },
    "papermill": {
     "duration": 0.014721,
     "end_time": "2023-01-14T15:52:04.672965",
     "exception": false,
     "start_time": "2023-01-14T15:52:04.658244",
     "status": "completed"
    },
    "tags": []
   },
   "outputs": [],
   "source": [
    "def wrangle(filepath):\n",
    "    df = pd.read_csv(filepath)\n",
    "    \n",
    "    mask_fixedacid = df[\"fixed acidity\"] < 15\n",
    "    mask_volatileacid = df[\"volatile acidity\"] < 14\n",
    "    mask_citricacid = df[\"citric acid\"] < 0.9 \n",
    "    mask_residualsugar = df[\"residual sugar\"] < 14\n",
    "    mask_chlorides = df[\"chlorides\"] < 0.5 \n",
    "    mask_freesulfurdioxide = df[\"free sulfur dioxide\"] < 60\n",
    "    mask_totalsulfurdioxide = df[\"total sulfur dioxide\"] < 250\n",
    "    mask_ph = (df[\"pH\"] > 2.8) & (df[\"pH\"] < 3.9)\n",
    "    mask_sulphates = df[\"sulphates\"] < 1.75\n",
    "    mask_alchol = df[\"alcohol\"] < 14.5\n",
    "    mask_quality = (df[\"quality\"] > 3.5) & (df[\"quality\"] < 7.5)\n",
    "    \n",
    "    df = df[mask_fixedacid & mask_volatileacid & mask_citricacid & mask_residualsugar &\n",
    "           mask_chlorides & mask_freesulfurdioxide & mask_totalsulfurdioxide & mask_ph &\n",
    "           mask_sulphates & mask_alchol & mask_quality]\n",
    "\n",
    "    return df\n"
   ]
  },
  {
   "cell_type": "code",
   "execution_count": 4,
   "id": "549ee931",
   "metadata": {
    "execution": {
     "iopub.execute_input": "2023-01-14T15:52:04.681410Z",
     "iopub.status.busy": "2023-01-14T15:52:04.680403Z",
     "iopub.status.idle": "2023-01-14T15:52:04.731568Z",
     "shell.execute_reply": "2023-01-14T15:52:04.730576Z"
    },
    "papermill": {
     "duration": 0.057021,
     "end_time": "2023-01-14T15:52:04.733406",
     "exception": false,
     "start_time": "2023-01-14T15:52:04.676385",
     "status": "completed"
    },
    "tags": []
   },
   "outputs": [
    {
     "data": {
      "text/html": [
       "<div>\n",
       "<style scoped>\n",
       "    .dataframe tbody tr th:only-of-type {\n",
       "        vertical-align: middle;\n",
       "    }\n",
       "\n",
       "    .dataframe tbody tr th {\n",
       "        vertical-align: top;\n",
       "    }\n",
       "\n",
       "    .dataframe thead th {\n",
       "        text-align: right;\n",
       "    }\n",
       "</style>\n",
       "<table border=\"1\" class=\"dataframe\">\n",
       "  <thead>\n",
       "    <tr style=\"text-align: right;\">\n",
       "      <th></th>\n",
       "      <th>fixed acidity</th>\n",
       "      <th>volatile acidity</th>\n",
       "      <th>citric acid</th>\n",
       "      <th>residual sugar</th>\n",
       "      <th>chlorides</th>\n",
       "      <th>free sulfur dioxide</th>\n",
       "      <th>total sulfur dioxide</th>\n",
       "      <th>density</th>\n",
       "      <th>pH</th>\n",
       "      <th>sulphates</th>\n",
       "      <th>alcohol</th>\n",
       "      <th>quality</th>\n",
       "    </tr>\n",
       "  </thead>\n",
       "  <tbody>\n",
       "    <tr>\n",
       "      <th>0</th>\n",
       "      <td>7.4</td>\n",
       "      <td>0.70</td>\n",
       "      <td>0.00</td>\n",
       "      <td>1.9</td>\n",
       "      <td>0.076</td>\n",
       "      <td>11.0</td>\n",
       "      <td>34.0</td>\n",
       "      <td>0.9978</td>\n",
       "      <td>3.51</td>\n",
       "      <td>0.56</td>\n",
       "      <td>9.4</td>\n",
       "      <td>5</td>\n",
       "    </tr>\n",
       "    <tr>\n",
       "      <th>1</th>\n",
       "      <td>7.8</td>\n",
       "      <td>0.88</td>\n",
       "      <td>0.00</td>\n",
       "      <td>2.6</td>\n",
       "      <td>0.098</td>\n",
       "      <td>25.0</td>\n",
       "      <td>67.0</td>\n",
       "      <td>0.9968</td>\n",
       "      <td>3.20</td>\n",
       "      <td>0.68</td>\n",
       "      <td>9.8</td>\n",
       "      <td>5</td>\n",
       "    </tr>\n",
       "    <tr>\n",
       "      <th>2</th>\n",
       "      <td>7.8</td>\n",
       "      <td>0.76</td>\n",
       "      <td>0.04</td>\n",
       "      <td>2.3</td>\n",
       "      <td>0.092</td>\n",
       "      <td>15.0</td>\n",
       "      <td>54.0</td>\n",
       "      <td>0.9970</td>\n",
       "      <td>3.26</td>\n",
       "      <td>0.65</td>\n",
       "      <td>9.8</td>\n",
       "      <td>5</td>\n",
       "    </tr>\n",
       "    <tr>\n",
       "      <th>3</th>\n",
       "      <td>11.2</td>\n",
       "      <td>0.28</td>\n",
       "      <td>0.56</td>\n",
       "      <td>1.9</td>\n",
       "      <td>0.075</td>\n",
       "      <td>17.0</td>\n",
       "      <td>60.0</td>\n",
       "      <td>0.9980</td>\n",
       "      <td>3.16</td>\n",
       "      <td>0.58</td>\n",
       "      <td>9.8</td>\n",
       "      <td>6</td>\n",
       "    </tr>\n",
       "    <tr>\n",
       "      <th>4</th>\n",
       "      <td>7.4</td>\n",
       "      <td>0.70</td>\n",
       "      <td>0.00</td>\n",
       "      <td>1.9</td>\n",
       "      <td>0.076</td>\n",
       "      <td>11.0</td>\n",
       "      <td>34.0</td>\n",
       "      <td>0.9978</td>\n",
       "      <td>3.51</td>\n",
       "      <td>0.56</td>\n",
       "      <td>9.4</td>\n",
       "      <td>5</td>\n",
       "    </tr>\n",
       "  </tbody>\n",
       "</table>\n",
       "</div>"
      ],
      "text/plain": [
       "   fixed acidity  volatile acidity  citric acid  residual sugar  chlorides  \\\n",
       "0            7.4              0.70         0.00             1.9      0.076   \n",
       "1            7.8              0.88         0.00             2.6      0.098   \n",
       "2            7.8              0.76         0.04             2.3      0.092   \n",
       "3           11.2              0.28         0.56             1.9      0.075   \n",
       "4            7.4              0.70         0.00             1.9      0.076   \n",
       "\n",
       "   free sulfur dioxide  total sulfur dioxide  density    pH  sulphates  \\\n",
       "0                 11.0                  34.0   0.9978  3.51       0.56   \n",
       "1                 25.0                  67.0   0.9968  3.20       0.68   \n",
       "2                 15.0                  54.0   0.9970  3.26       0.65   \n",
       "3                 17.0                  60.0   0.9980  3.16       0.58   \n",
       "4                 11.0                  34.0   0.9978  3.51       0.56   \n",
       "\n",
       "   alcohol  quality  \n",
       "0      9.4        5  \n",
       "1      9.8        5  \n",
       "2      9.8        5  \n",
       "3      9.8        6  \n",
       "4      9.4        5  "
      ]
     },
     "execution_count": 4,
     "metadata": {},
     "output_type": "execute_result"
    }
   ],
   "source": [
    "df = wrangle(\"/kaggle/input/red-wine-quality-cortez-et-al-2009/winequality-red.csv\")\n",
    "df.head()"
   ]
  },
  {
   "cell_type": "code",
   "execution_count": 5,
   "id": "6792701c",
   "metadata": {
    "execution": {
     "iopub.execute_input": "2023-01-14T15:52:04.741700Z",
     "iopub.status.busy": "2023-01-14T15:52:04.741267Z",
     "iopub.status.idle": "2023-01-14T15:52:04.754793Z",
     "shell.execute_reply": "2023-01-14T15:52:04.753913Z"
    },
    "papermill": {
     "duration": 0.019696,
     "end_time": "2023-01-14T15:52:04.756541",
     "exception": false,
     "start_time": "2023-01-14T15:52:04.736845",
     "status": "completed"
    },
    "tags": []
   },
   "outputs": [
    {
     "data": {
      "text/plain": [
       "3.30    57\n",
       "3.36    56\n",
       "3.26    53\n",
       "3.39    48\n",
       "3.38    47\n",
       "        ..\n",
       "2.87     1\n",
       "2.92     1\n",
       "3.70     1\n",
       "2.90     1\n",
       "2.88     1\n",
       "Name: pH, Length: 84, dtype: int64"
      ]
     },
     "execution_count": 5,
     "metadata": {},
     "output_type": "execute_result"
    }
   ],
   "source": [
    "df[\"pH\"].value_counts()"
   ]
  },
  {
   "cell_type": "code",
   "execution_count": 6,
   "id": "9f944e1e",
   "metadata": {
    "execution": {
     "iopub.execute_input": "2023-01-14T15:52:04.765045Z",
     "iopub.status.busy": "2023-01-14T15:52:04.764672Z",
     "iopub.status.idle": "2023-01-14T15:52:04.771625Z",
     "shell.execute_reply": "2023-01-14T15:52:04.770824Z"
    },
    "papermill": {
     "duration": 0.01338,
     "end_time": "2023-01-14T15:52:04.773514",
     "exception": false,
     "start_time": "2023-01-14T15:52:04.760134",
     "status": "completed"
    },
    "tags": []
   },
   "outputs": [
    {
     "data": {
      "text/plain": [
       "84"
      ]
     },
     "execution_count": 6,
     "metadata": {},
     "output_type": "execute_result"
    }
   ],
   "source": [
    "df[\"pH\"].nunique()"
   ]
  },
  {
   "cell_type": "code",
   "execution_count": 7,
   "id": "373e5290",
   "metadata": {
    "execution": {
     "iopub.execute_input": "2023-01-14T15:52:04.781810Z",
     "iopub.status.busy": "2023-01-14T15:52:04.781513Z",
     "iopub.status.idle": "2023-01-14T15:52:04.790033Z",
     "shell.execute_reply": "2023-01-14T15:52:04.789222Z"
    },
    "papermill": {
     "duration": 0.014592,
     "end_time": "2023-01-14T15:52:04.791774",
     "exception": false,
     "start_time": "2023-01-14T15:52:04.777182",
     "status": "completed"
    },
    "tags": []
   },
   "outputs": [
    {
     "data": {
      "text/plain": [
       "fixed acidity           0.0\n",
       "volatile acidity        0.0\n",
       "citric acid             0.0\n",
       "residual sugar          0.0\n",
       "chlorides               0.0\n",
       "free sulfur dioxide     0.0\n",
       "total sulfur dioxide    0.0\n",
       "density                 0.0\n",
       "pH                      0.0\n",
       "sulphates               0.0\n",
       "alcohol                 0.0\n",
       "quality                 0.0\n",
       "dtype: float64"
      ]
     },
     "execution_count": 7,
     "metadata": {},
     "output_type": "execute_result"
    }
   ],
   "source": [
    "df.isnull().sum() / len(df)"
   ]
  },
  {
   "cell_type": "code",
   "execution_count": 8,
   "id": "46201a2e",
   "metadata": {
    "execution": {
     "iopub.execute_input": "2023-01-14T15:52:04.800252Z",
     "iopub.status.busy": "2023-01-14T15:52:04.799961Z",
     "iopub.status.idle": "2023-01-14T15:52:04.805099Z",
     "shell.execute_reply": "2023-01-14T15:52:04.804286Z"
    },
    "papermill": {
     "duration": 0.011389,
     "end_time": "2023-01-14T15:52:04.806896",
     "exception": false,
     "start_time": "2023-01-14T15:52:04.795507",
     "status": "completed"
    },
    "tags": []
   },
   "outputs": [
    {
     "data": {
      "text/plain": [
       "(1546, 12)"
      ]
     },
     "execution_count": 8,
     "metadata": {},
     "output_type": "execute_result"
    }
   ],
   "source": [
    "df.shape"
   ]
  },
  {
   "cell_type": "code",
   "execution_count": 9,
   "id": "2c2e456e",
   "metadata": {
    "execution": {
     "iopub.execute_input": "2023-01-14T15:52:04.815817Z",
     "iopub.status.busy": "2023-01-14T15:52:04.815492Z",
     "iopub.status.idle": "2023-01-14T15:52:04.824980Z",
     "shell.execute_reply": "2023-01-14T15:52:04.824172Z"
    },
    "papermill": {
     "duration": 0.016591,
     "end_time": "2023-01-14T15:52:04.827351",
     "exception": false,
     "start_time": "2023-01-14T15:52:04.810760",
     "status": "completed"
    },
    "tags": []
   },
   "outputs": [
    {
     "data": {
      "text/plain": [
       "fixed acidity            90\n",
       "volatile acidity        141\n",
       "citric acid              78\n",
       "residual sugar           85\n",
       "chlorides               145\n",
       "free sulfur dioxide      55\n",
       "total sulfur dioxide    140\n",
       "density                 421\n",
       "pH                       84\n",
       "sulphates                92\n",
       "alcohol                  62\n",
       "quality                   4\n",
       "dtype: int64"
      ]
     },
     "execution_count": 9,
     "metadata": {},
     "output_type": "execute_result"
    }
   ],
   "source": [
    "df.nunique()"
   ]
  },
  {
   "cell_type": "code",
   "execution_count": 10,
   "id": "a19bc793",
   "metadata": {
    "execution": {
     "iopub.execute_input": "2023-01-14T15:52:04.836337Z",
     "iopub.status.busy": "2023-01-14T15:52:04.836010Z",
     "iopub.status.idle": "2023-01-14T15:52:06.258691Z",
     "shell.execute_reply": "2023-01-14T15:52:06.257871Z"
    },
    "papermill": {
     "duration": 1.430968,
     "end_time": "2023-01-14T15:52:06.262333",
     "exception": false,
     "start_time": "2023-01-14T15:52:04.831365",
     "status": "completed"
    },
    "tags": []
   },
   "outputs": [
    {
     "data": {
      "image/png": "[encoded data removed]",
      "text/plain": [
       "<Figure size 432x288 with 1 Axes>"
      ]
     },
     "metadata": {
      "needs_background": "light"
     },
     "output_type": "display_data"
    },
    {
     "data": {
      "image/png": "[encoded data removed]",
      "text/plain": [
       "<Figure size 432x288 with 1 Axes>"
      ]
     },
     "metadata": {
      "needs_background": "light"
     },
     "output_type": "display_data"
    },
    {
     "data": {
      "image/png": "[encoded data removed]",
      "text/plain": [
       "<Figure size 432x288 with 1 Axes>"
      ]
     },
     "metadata": {
      "needs_background": "light"
     },
     "output_type": "display_data"
    },
    {
     "data": {
      "image/png": "[encoded data removed]",
      "text/plain": [
       "<Figure size 432x288 with 1 Axes>"
      ]
     },
     "metadata": {
      "needs_background": "light"
     },
     "output_type": "display_data"
    },
    {
     "data": {
      "image/png": "[encoded data removed]",
      "text/plain": [
       "<Figure size 432x288 with 1 Axes>"
      ]
     },
     "metadata": {
      "needs_background": "light"
     },
     "output_type": "display_data"
    },
    {
     "data": {
      "image/png": "[encoded data removed]",
      "text/plain": [
       "<Figure size 432x288 with 1 Axes>"
      ]
     },
     "metadata": {
      "needs_background": "light"
     },
     "output_type": "display_data"
    },
    {
     "data": {
      "image/png": "[encoded data removed]",
      "text/plain": [
       "<Figure size 432x288 with 1 Axes>"
      ]
     },
     "metadata": {
      "needs_background": "light"
     },
     "output_type": "display_data"
    },
    {
     "data": {
      "image/png": "[encoded data removed]",
      "text/plain": [
       "<Figure size 432x288 with 1 Axes>"
      ]
     },
     "metadata": {
      "needs_background": "light"
     },
     "output_type": "display_data"
    },
    {
     "data": {
      "image/png": "[encoded data removed]",
      "text/plain": [
       "<Figure size 432x288 with 1 Axes>"
      ]
     },
     "metadata": {
      "needs_background": "light"
     },
     "output_type": "display_data"
    },
    {
     "data": {
      "image/png": "[encoded data removed]",
      "text/plain": [
       "<Figure size 432x288 with 1 Axes>"
      ]
     },
     "metadata": {
      "needs_background": "light"
     },
     "output_type": "display_data"
    },
    {
     "data": {
      "image/png": "[encoded data removed]",
      "text/plain": [
       "<Figure size 432x288 with 1 Axes>"
      ]
     },
     "metadata": {
      "needs_background": "light"
     },
     "output_type": "display_data"
    },
    {
     "data": {
      "image/png": "[encoded data removed]",
      "text/plain": [
       "<Figure size 432x288 with 1 Axes>"
      ]
     },
     "metadata": {
      "needs_background": "light"
     },
     "output_type": "display_data"
    }
   ],
   "source": [
    "for col in df.columns:\n",
    "    df[col].plot(kind=\"box\")\n",
    "    plt.show()\n"
   ]
  },
  {
   "cell_type": "code",
   "execution_count": 11,
   "id": "f9543f57",
   "metadata": {
    "execution": {
     "iopub.execute_input": "2023-01-14T15:52:06.279820Z",
     "iopub.status.busy": "2023-01-14T15:52:06.279436Z",
     "iopub.status.idle": "2023-01-14T15:52:06.303785Z",
     "shell.execute_reply": "2023-01-14T15:52:06.303096Z"
    },
    "papermill": {
     "duration": 0.035566,
     "end_time": "2023-01-14T15:52:06.305786",
     "exception": false,
     "start_time": "2023-01-14T15:52:06.270220",
     "status": "completed"
    },
    "tags": []
   },
   "outputs": [
    {
     "data": {
      "text/html": [
       "<div>\n",
       "<style scoped>\n",
       "    .dataframe tbody tr th:only-of-type {\n",
       "        vertical-align: middle;\n",
       "    }\n",
       "\n",
       "    .dataframe tbody tr th {\n",
       "        vertical-align: top;\n",
       "    }\n",
       "\n",
       "    .dataframe thead th {\n",
       "        text-align: right;\n",
       "    }\n",
       "</style>\n",
       "<table border=\"1\" class=\"dataframe\">\n",
       "  <thead>\n",
       "    <tr style=\"text-align: right;\">\n",
       "      <th></th>\n",
       "      <th>fixed acidity</th>\n",
       "      <th>volatile acidity</th>\n",
       "      <th>citric acid</th>\n",
       "      <th>residual sugar</th>\n",
       "      <th>chlorides</th>\n",
       "      <th>free sulfur dioxide</th>\n",
       "      <th>total sulfur dioxide</th>\n",
       "      <th>density</th>\n",
       "      <th>pH</th>\n",
       "      <th>sulphates</th>\n",
       "      <th>alcohol</th>\n",
       "      <th>quality</th>\n",
       "    </tr>\n",
       "  </thead>\n",
       "  <tbody>\n",
       "    <tr>\n",
       "      <th>fixed acidity</th>\n",
       "      <td>1.000000</td>\n",
       "      <td>-0.261659</td>\n",
       "      <td>0.676938</td>\n",
       "      <td>0.100240</td>\n",
       "      <td>0.098199</td>\n",
       "      <td>-0.150955</td>\n",
       "      <td>-0.106353</td>\n",
       "      <td>0.661133</td>\n",
       "      <td>-0.681026</td>\n",
       "      <td>0.188168</td>\n",
       "      <td>-0.060329</td>\n",
       "      <td>0.133934</td>\n",
       "    </tr>\n",
       "    <tr>\n",
       "      <th>volatile acidity</th>\n",
       "      <td>-0.261659</td>\n",
       "      <td>1.000000</td>\n",
       "      <td>-0.555379</td>\n",
       "      <td>0.015710</td>\n",
       "      <td>0.061663</td>\n",
       "      <td>-0.004752</td>\n",
       "      <td>0.101675</td>\n",
       "      <td>0.023184</td>\n",
       "      <td>0.222171</td>\n",
       "      <td>-0.271141</td>\n",
       "      <td>-0.215234</td>\n",
       "      <td>-0.372031</td>\n",
       "    </tr>\n",
       "    <tr>\n",
       "      <th>citric acid</th>\n",
       "      <td>0.676938</td>\n",
       "      <td>-0.555379</td>\n",
       "      <td>1.000000</td>\n",
       "      <td>0.140227</td>\n",
       "      <td>0.183659</td>\n",
       "      <td>-0.063129</td>\n",
       "      <td>0.025003</td>\n",
       "      <td>0.363797</td>\n",
       "      <td>-0.524979</td>\n",
       "      <td>0.313790</td>\n",
       "      <td>0.115171</td>\n",
       "      <td>0.221804</td>\n",
       "    </tr>\n",
       "    <tr>\n",
       "      <th>residual sugar</th>\n",
       "      <td>0.100240</td>\n",
       "      <td>0.015710</td>\n",
       "      <td>0.140227</td>\n",
       "      <td>1.000000</td>\n",
       "      <td>0.029326</td>\n",
       "      <td>0.106616</td>\n",
       "      <td>0.158120</td>\n",
       "      <td>0.338183</td>\n",
       "      <td>-0.055852</td>\n",
       "      <td>0.014422</td>\n",
       "      <td>0.056710</td>\n",
       "      <td>0.014995</td>\n",
       "    </tr>\n",
       "    <tr>\n",
       "      <th>chlorides</th>\n",
       "      <td>0.098199</td>\n",
       "      <td>0.061663</td>\n",
       "      <td>0.183659</td>\n",
       "      <td>0.029326</td>\n",
       "      <td>1.000000</td>\n",
       "      <td>-0.028054</td>\n",
       "      <td>0.046932</td>\n",
       "      <td>0.191552</td>\n",
       "      <td>-0.252607</td>\n",
       "      <td>0.352717</td>\n",
       "      <td>-0.213848</td>\n",
       "      <td>-0.096121</td>\n",
       "    </tr>\n",
       "    <tr>\n",
       "      <th>free sulfur dioxide</th>\n",
       "      <td>-0.150955</td>\n",
       "      <td>-0.004752</td>\n",
       "      <td>-0.063129</td>\n",
       "      <td>0.106616</td>\n",
       "      <td>-0.028054</td>\n",
       "      <td>1.000000</td>\n",
       "      <td>0.668602</td>\n",
       "      <td>-0.037539</td>\n",
       "      <td>0.083725</td>\n",
       "      <td>0.056662</td>\n",
       "      <td>-0.069573</td>\n",
       "      <td>-0.060033</td>\n",
       "    </tr>\n",
       "    <tr>\n",
       "      <th>total sulfur dioxide</th>\n",
       "      <td>-0.106353</td>\n",
       "      <td>0.101675</td>\n",
       "      <td>0.025003</td>\n",
       "      <td>0.158120</td>\n",
       "      <td>0.046932</td>\n",
       "      <td>0.668602</td>\n",
       "      <td>1.000000</td>\n",
       "      <td>0.096079</td>\n",
       "      <td>-0.049210</td>\n",
       "      <td>0.014992</td>\n",
       "      <td>-0.238134</td>\n",
       "      <td>-0.231892</td>\n",
       "    </tr>\n",
       "    <tr>\n",
       "      <th>density</th>\n",
       "      <td>0.661133</td>\n",
       "      <td>0.023184</td>\n",
       "      <td>0.363797</td>\n",
       "      <td>0.338183</td>\n",
       "      <td>0.191552</td>\n",
       "      <td>-0.037539</td>\n",
       "      <td>0.096079</td>\n",
       "      <td>1.000000</td>\n",
       "      <td>-0.315141</td>\n",
       "      <td>0.152763</td>\n",
       "      <td>-0.495054</td>\n",
       "      <td>-0.159049</td>\n",
       "    </tr>\n",
       "    <tr>\n",
       "      <th>pH</th>\n",
       "      <td>-0.681026</td>\n",
       "      <td>0.222171</td>\n",
       "      <td>-0.524979</td>\n",
       "      <td>-0.055852</td>\n",
       "      <td>-0.252607</td>\n",
       "      <td>0.083725</td>\n",
       "      <td>-0.049210</td>\n",
       "      <td>-0.315141</td>\n",
       "      <td>1.000000</td>\n",
       "      <td>-0.147617</td>\n",
       "      <td>0.200004</td>\n",
       "      <td>-0.041505</td>\n",
       "    </tr>\n",
       "    <tr>\n",
       "      <th>sulphates</th>\n",
       "      <td>0.188168</td>\n",
       "      <td>-0.271141</td>\n",
       "      <td>0.313790</td>\n",
       "      <td>0.014422</td>\n",
       "      <td>0.352717</td>\n",
       "      <td>0.056662</td>\n",
       "      <td>0.014992</td>\n",
       "      <td>0.152763</td>\n",
       "      <td>-0.147617</td>\n",
       "      <td>1.000000</td>\n",
       "      <td>0.115377</td>\n",
       "      <td>0.280014</td>\n",
       "    </tr>\n",
       "    <tr>\n",
       "      <th>alcohol</th>\n",
       "      <td>-0.060329</td>\n",
       "      <td>-0.215234</td>\n",
       "      <td>0.115171</td>\n",
       "      <td>0.056710</td>\n",
       "      <td>-0.213848</td>\n",
       "      <td>-0.069573</td>\n",
       "      <td>-0.238134</td>\n",
       "      <td>-0.495054</td>\n",
       "      <td>0.200004</td>\n",
       "      <td>0.115377</td>\n",
       "      <td>1.000000</td>\n",
       "      <td>0.479175</td>\n",
       "    </tr>\n",
       "    <tr>\n",
       "      <th>quality</th>\n",
       "      <td>0.133934</td>\n",
       "      <td>-0.372031</td>\n",
       "      <td>0.221804</td>\n",
       "      <td>0.014995</td>\n",
       "      <td>-0.096121</td>\n",
       "      <td>-0.060033</td>\n",
       "      <td>-0.231892</td>\n",
       "      <td>-0.159049</td>\n",
       "      <td>-0.041505</td>\n",
       "      <td>0.280014</td>\n",
       "      <td>0.479175</td>\n",
       "      <td>1.000000</td>\n",
       "    </tr>\n",
       "  </tbody>\n",
       "</table>\n",
       "</div>"
      ],
      "text/plain": [
       "                      fixed acidity  volatile acidity  citric acid  \\\n",
       "fixed acidity              1.000000         -0.261659     0.676938   \n",
       "volatile acidity          -0.261659          1.000000    -0.555379   \n",
       "citric acid                0.676938         -0.555379     1.000000   \n",
       "residual sugar             0.100240          0.015710     0.140227   \n",
       "chlorides                  0.098199          0.061663     0.183659   \n",
       "free sulfur dioxide       -0.150955         -0.004752    -0.063129   \n",
       "total sulfur dioxide      -0.106353          0.101675     0.025003   \n",
       "density                    0.661133          0.023184     0.363797   \n",
       "pH                        -0.681026          0.222171    -0.524979   \n",
       "sulphates                  0.188168         -0.271141     0.313790   \n",
       "alcohol                   -0.060329         -0.215234     0.115171   \n",
       "quality                    0.133934         -0.372031     0.221804   \n",
       "\n",
       "                      residual sugar  chlorides  free sulfur dioxide  \\\n",
       "fixed acidity               0.100240   0.098199            -0.150955   \n",
       "volatile acidity            0.015710   0.061663            -0.004752   \n",
       "citric acid                 0.140227   0.183659            -0.063129   \n",
       "residual sugar              1.000000   0.029326             0.106616   \n",
       "chlorides                   0.029326   1.000000            -0.028054   \n",
       "free sulfur dioxide         0.106616  -0.028054             1.000000   \n",
       "total sulfur dioxide        0.158120   0.046932             0.668602   \n",
       "density                     0.338183   0.191552            -0.037539   \n",
       "pH                         -0.055852  -0.252607             0.083725   \n",
       "sulphates                   0.014422   0.352717             0.056662   \n",
       "alcohol                     0.056710  -0.213848            -0.069573   \n",
       "quality                     0.014995  -0.096121            -0.060033   \n",
       "\n",
       "                      total sulfur dioxide   density        pH  sulphates  \\\n",
       "fixed acidity                    -0.106353  0.661133 -0.681026   0.188168   \n",
       "volatile acidity                  0.101675  0.023184  0.222171  -0.271141   \n",
       "citric acid                       0.025003  0.363797 -0.524979   0.313790   \n",
       "residual sugar                    0.158120  0.338183 -0.055852   0.014422   \n",
       "chlorides                         0.046932  0.191552 -0.252607   0.352717   \n",
       "free sulfur dioxide               0.668602 -0.037539  0.083725   0.056662   \n",
       "total sulfur dioxide              1.000000  0.096079 -0.049210   0.014992   \n",
       "density                           0.096079  1.000000 -0.315141   0.152763   \n",
       "pH                               -0.049210 -0.315141  1.000000  -0.147617   \n",
       "sulphates                         0.014992  0.152763 -0.147617   1.000000   \n",
       "alcohol                          -0.238134 -0.495054  0.200004   0.115377   \n",
       "quality                          -0.231892 -0.159049 -0.041505   0.280014   \n",
       "\n",
       "                       alcohol   quality  \n",
       "fixed acidity        -0.060329  0.133934  \n",
       "volatile acidity     -0.215234 -0.372031  \n",
       "citric acid           0.115171  0.221804  \n",
       "residual sugar        0.056710  0.014995  \n",
       "chlorides            -0.213848 -0.096121  \n",
       "free sulfur dioxide  -0.069573 -0.060033  \n",
       "total sulfur dioxide -0.238134 -0.231892  \n",
       "density              -0.495054 -0.159049  \n",
       "pH                    0.200004 -0.041505  \n",
       "sulphates             0.115377  0.280014  \n",
       "alcohol               1.000000  0.479175  \n",
       "quality               0.479175  1.000000  "
      ]
     },
     "execution_count": 11,
     "metadata": {},
     "output_type": "execute_result"
    }
   ],
   "source": [
    "corr = df.corr()\n",
    "corr"
   ]
  }
 ],
 "metadata": {
  "kernelspec": {
   "display_name": "Python 3",
   "language": "python",
   "name": "python3"
  },
  "language_info": {
   "codemirror_mode": {
    "name": "ipython",
    "version": 3
   },
   "file_extension": ".py",
   "mimetype": "text/x-python",
   "name": "python",
   "nbconvert_exporter": "python",
   "pygments_lexer": "ipython3",
   "version": "3.7.12"
  },
  "papermill": {
   "default_parameters": {},
   "duration": 11.440076,
   "end_time": "2023-01-14T15:52:07.136022",
   "environment_variables": {},
   "exception": null,
   "input_path": "__notebook__.ipynb",
   "output_path": "__notebook__.ipynb",
   "parameters": {},
   "start_time": "2023-01-14T15:51:55.695946",
   "version": "2.3.4"
  }
 },
 "nbformat": 4,
 "nbformat_minor": 5
}
