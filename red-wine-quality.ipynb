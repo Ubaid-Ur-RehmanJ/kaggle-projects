{
 "cells": [
  {
   "cell_type": "code",
   "execution_count": 1,
   "id": "24aa4679",
   "metadata": {
    "_cell_guid": "b1076dfc-b9ad-4769-8c92-a6c4dae69d19",
    "_uuid": "8f2839f25d086af736a60e9eeb907d3b93b6e0e5",
    "execution": {
     "iopub.execute_input": "2023-01-14T19:19:36.054031Z",
     "iopub.status.busy": "2023-01-14T19:19:36.053242Z",
     "iopub.status.idle": "2023-01-14T19:19:36.075715Z",
     "shell.execute_reply": "2023-01-14T19:19:36.074327Z"
    },
    "papermill": {
     "duration": 0.045724,
     "end_time": "2023-01-14T19:19:36.079569",
     "exception": false,
     "start_time": "2023-01-14T19:19:36.033845",
     "status": "completed"
    },
    "tags": []
   },
   "outputs": [
    {
     "name": "stdout",
     "output_type": "stream",
     "text": [
      "/kaggle/input/red-wine-quality-cortez-et-al-2009/winequality-red.csv\n"
     ]
    }
   ],
   "source": [
    "# This Python 3 environment comes with many helpful analytics libraries installed\n",
    "# It is defined by the kaggle/python Docker image: https://github.com/kaggle/docker-python\n",
    "# For example, here's several helpful packages to load\n",
    "\n",
    "import numpy as np # linear algebra\n",
    "import pandas as pd # data processing, CSV file I/O (e.g. pd.read_csv)\n",
    "\n",
    "# Input data files are available in the read-only \"../input/\" directory\n",
    "# For example, running this (by clicking run or pressing Shift+Enter) will list all files under the input directory\n",
    "\n",
    "import os\n",
    "for dirname, _, filenames in os.walk('/kaggle/input'):\n",
    "    for filename in filenames:\n",
    "        print(os.path.join(dirname, filename))\n",
    "\n",
    "# You can write up to 20GB to the current directory (/kaggle/working/) that gets preserved as output when you create a version using \"Save & Run All\" \n",
    "# You can also write temporary files to /kaggle/temp/, but they won't be saved outside of the current session"
   ]
  },
  {
   "cell_type": "code",
   "execution_count": 2,
   "id": "4dbda291",
   "metadata": {
    "execution": {
     "iopub.execute_input": "2023-01-14T19:19:36.104005Z",
     "iopub.status.busy": "2023-01-14T19:19:36.103541Z",
     "iopub.status.idle": "2023-01-14T19:19:38.974396Z",
     "shell.execute_reply": "2023-01-14T19:19:38.973089Z"
    },
    "papermill": {
     "duration": 2.887663,
     "end_time": "2023-01-14T19:19:38.977551",
     "exception": false,
     "start_time": "2023-01-14T19:19:36.089888",
     "status": "completed"
    },
    "tags": []
   },
   "outputs": [],
   "source": [
    "import pandas as pd\n",
    "import numpy as np\n",
    "import matplotlib.pyplot as plt\n",
    "import plotly.express as px\n",
    "import seaborn as sns\n",
    "from sklearn.linear_model import LinearRegression, Ridge\n",
    "from sklearn.metrics import mean_absolute_error"
   ]
  },
  {
   "cell_type": "code",
   "execution_count": 3,
   "id": "a156bf7c",
   "metadata": {
    "execution": {
     "iopub.execute_input": "2023-01-14T19:19:39.002473Z",
     "iopub.status.busy": "2023-01-14T19:19:39.001966Z",
     "iopub.status.idle": "2023-01-14T19:19:39.011957Z",
     "shell.execute_reply": "2023-01-14T19:19:39.010474Z"
    },
    "papermill": {
     "duration": 0.026605,
     "end_time": "2023-01-14T19:19:39.014328",
     "exception": false,
     "start_time": "2023-01-14T19:19:38.987723",
     "status": "completed"
    },
    "tags": []
   },
   "outputs": [],
   "source": [
    "def wrangle(filepath):\n",
    "    df = pd.read_csv(filepath)\n",
    "    \n",
    "    mask_fixedacid = df[\"fixed acidity\"] < 15\n",
    "    mask_volatileacid = df[\"volatile acidity\"] < 14\n",
    "    mask_citricacid = df[\"citric acid\"] < 0.9 \n",
    "    mask_residualsugar = df[\"residual sugar\"] < 14\n",
    "    mask_chlorides = df[\"chlorides\"] < 0.5 \n",
    "    mask_freesulfurdioxide = df[\"free sulfur dioxide\"] < 60\n",
    "    mask_totalsulfurdioxide = df[\"total sulfur dioxide\"] < 250\n",
    "    mask_ph = (df[\"pH\"] > 2.8) & (df[\"pH\"] < 3.9)\n",
    "    mask_sulphates = df[\"sulphates\"] < 1.75\n",
    "    #mask_alchol = df[\"alcohol\"] < 14.5\n",
    "    #mask_quality = (df[\"quality\"] > 3.5) & (df[\"quality\"] < 7.5)\n",
    "    \n",
    "    df = df[mask_fixedacid & mask_volatileacid & mask_citricacid & mask_residualsugar &\n",
    "           mask_chlorides & mask_freesulfurdioxide & mask_totalsulfurdioxide & mask_ph &\n",
    "           mask_sulphates]\n",
    "\n",
    "    return df\n"
   ]
  },
  {
   "cell_type": "code",
   "execution_count": 4,
   "id": "dd5a1903",
   "metadata": {
    "execution": {
     "iopub.execute_input": "2023-01-14T19:19:39.037596Z",
     "iopub.status.busy": "2023-01-14T19:19:39.037065Z",
     "iopub.status.idle": "2023-01-14T19:19:39.100253Z",
     "shell.execute_reply": "2023-01-14T19:19:39.098804Z"
    },
    "papermill": {
     "duration": 0.079081,
     "end_time": "2023-01-14T19:19:39.103355",
     "exception": false,
     "start_time": "2023-01-14T19:19:39.024274",
     "status": "completed"
    },
    "tags": []
   },
   "outputs": [
    {
     "data": {
      "text/html": [
       "<div>\n",
       "<style scoped>\n",
       "    .dataframe tbody tr th:only-of-type {\n",
       "        vertical-align: middle;\n",
       "    }\n",
       "\n",
       "    .dataframe tbody tr th {\n",
       "        vertical-align: top;\n",
       "    }\n",
       "\n",
       "    .dataframe thead th {\n",
       "        text-align: right;\n",
       "    }\n",
       "</style>\n",
       "<table border=\"1\" class=\"dataframe\">\n",
       "  <thead>\n",
       "    <tr style=\"text-align: right;\">\n",
       "      <th></th>\n",
       "      <th>fixed acidity</th>\n",
       "      <th>volatile acidity</th>\n",
       "      <th>citric acid</th>\n",
       "      <th>residual sugar</th>\n",
       "      <th>chlorides</th>\n",
       "      <th>free sulfur dioxide</th>\n",
       "      <th>total sulfur dioxide</th>\n",
       "      <th>density</th>\n",
       "      <th>pH</th>\n",
       "      <th>sulphates</th>\n",
       "      <th>alcohol</th>\n",
       "      <th>quality</th>\n",
       "    </tr>\n",
       "  </thead>\n",
       "  <tbody>\n",
       "    <tr>\n",
       "      <th>0</th>\n",
       "      <td>7.4</td>\n",
       "      <td>0.70</td>\n",
       "      <td>0.00</td>\n",
       "      <td>1.9</td>\n",
       "      <td>0.076</td>\n",
       "      <td>11.0</td>\n",
       "      <td>34.0</td>\n",
       "      <td>0.9978</td>\n",
       "      <td>3.51</td>\n",
       "      <td>0.56</td>\n",
       "      <td>9.4</td>\n",
       "      <td>5</td>\n",
       "    </tr>\n",
       "    <tr>\n",
       "      <th>1</th>\n",
       "      <td>7.8</td>\n",
       "      <td>0.88</td>\n",
       "      <td>0.00</td>\n",
       "      <td>2.6</td>\n",
       "      <td>0.098</td>\n",
       "      <td>25.0</td>\n",
       "      <td>67.0</td>\n",
       "      <td>0.9968</td>\n",
       "      <td>3.20</td>\n",
       "      <td>0.68</td>\n",
       "      <td>9.8</td>\n",
       "      <td>5</td>\n",
       "    </tr>\n",
       "    <tr>\n",
       "      <th>2</th>\n",
       "      <td>7.8</td>\n",
       "      <td>0.76</td>\n",
       "      <td>0.04</td>\n",
       "      <td>2.3</td>\n",
       "      <td>0.092</td>\n",
       "      <td>15.0</td>\n",
       "      <td>54.0</td>\n",
       "      <td>0.9970</td>\n",
       "      <td>3.26</td>\n",
       "      <td>0.65</td>\n",
       "      <td>9.8</td>\n",
       "      <td>5</td>\n",
       "    </tr>\n",
       "    <tr>\n",
       "      <th>3</th>\n",
       "      <td>11.2</td>\n",
       "      <td>0.28</td>\n",
       "      <td>0.56</td>\n",
       "      <td>1.9</td>\n",
       "      <td>0.075</td>\n",
       "      <td>17.0</td>\n",
       "      <td>60.0</td>\n",
       "      <td>0.9980</td>\n",
       "      <td>3.16</td>\n",
       "      <td>0.58</td>\n",
       "      <td>9.8</td>\n",
       "      <td>6</td>\n",
       "    </tr>\n",
       "    <tr>\n",
       "      <th>4</th>\n",
       "      <td>7.4</td>\n",
       "      <td>0.70</td>\n",
       "      <td>0.00</td>\n",
       "      <td>1.9</td>\n",
       "      <td>0.076</td>\n",
       "      <td>11.0</td>\n",
       "      <td>34.0</td>\n",
       "      <td>0.9978</td>\n",
       "      <td>3.51</td>\n",
       "      <td>0.56</td>\n",
       "      <td>9.4</td>\n",
       "      <td>5</td>\n",
       "    </tr>\n",
       "  </tbody>\n",
       "</table>\n",
       "</div>"
      ],
      "text/plain": [
       "   fixed acidity  volatile acidity  citric acid  residual sugar  chlorides  \\\n",
       "0            7.4              0.70         0.00             1.9      0.076   \n",
       "1            7.8              0.88         0.00             2.6      0.098   \n",
       "2            7.8              0.76         0.04             2.3      0.092   \n",
       "3           11.2              0.28         0.56             1.9      0.075   \n",
       "4            7.4              0.70         0.00             1.9      0.076   \n",
       "\n",
       "   free sulfur dioxide  total sulfur dioxide  density    pH  sulphates  \\\n",
       "0                 11.0                  34.0   0.9978  3.51       0.56   \n",
       "1                 25.0                  67.0   0.9968  3.20       0.68   \n",
       "2                 15.0                  54.0   0.9970  3.26       0.65   \n",
       "3                 17.0                  60.0   0.9980  3.16       0.58   \n",
       "4                 11.0                  34.0   0.9978  3.51       0.56   \n",
       "\n",
       "   alcohol  quality  \n",
       "0      9.4        5  \n",
       "1      9.8        5  \n",
       "2      9.8        5  \n",
       "3      9.8        6  \n",
       "4      9.4        5  "
      ]
     },
     "execution_count": 4,
     "metadata": {},
     "output_type": "execute_result"
    }
   ],
   "source": [
    "df = wrangle(\"/kaggle/input/red-wine-quality-cortez-et-al-2009/winequality-red.csv\")\n",
    "df.head()"
   ]
  },
  {
   "cell_type": "code",
   "execution_count": 5,
   "id": "764bca2f",
   "metadata": {
    "execution": {
     "iopub.execute_input": "2023-01-14T19:19:39.125920Z",
     "iopub.status.busy": "2023-01-14T19:19:39.125422Z",
     "iopub.status.idle": "2023-01-14T19:19:39.143156Z",
     "shell.execute_reply": "2023-01-14T19:19:39.141776Z"
    },
    "papermill": {
     "duration": 0.03229,
     "end_time": "2023-01-14T19:19:39.146051",
     "exception": false,
     "start_time": "2023-01-14T19:19:39.113761",
     "status": "completed"
    },
    "tags": []
   },
   "outputs": [
    {
     "data": {
      "text/plain": [
       "3.30    57\n",
       "3.36    56\n",
       "3.26    53\n",
       "3.39    48\n",
       "3.38    48\n",
       "        ..\n",
       "3.74     1\n",
       "2.87     1\n",
       "2.92     1\n",
       "3.70     1\n",
       "2.90     1\n",
       "Name: pH, Length: 84, dtype: int64"
      ]
     },
     "execution_count": 5,
     "metadata": {},
     "output_type": "execute_result"
    }
   ],
   "source": [
    "df[\"pH\"].value_counts()"
   ]
  },
  {
   "cell_type": "code",
   "execution_count": 6,
   "id": "7e55b9e1",
   "metadata": {
    "execution": {
     "iopub.execute_input": "2023-01-14T19:19:39.169683Z",
     "iopub.status.busy": "2023-01-14T19:19:39.169119Z",
     "iopub.status.idle": "2023-01-14T19:19:39.179581Z",
     "shell.execute_reply": "2023-01-14T19:19:39.178199Z"
    },
    "papermill": {
     "duration": 0.025873,
     "end_time": "2023-01-14T19:19:39.182282",
     "exception": false,
     "start_time": "2023-01-14T19:19:39.156409",
     "status": "completed"
    },
    "tags": []
   },
   "outputs": [
    {
     "data": {
      "text/plain": [
       "84"
      ]
     },
     "execution_count": 6,
     "metadata": {},
     "output_type": "execute_result"
    }
   ],
   "source": [
    "df[\"pH\"].nunique()"
   ]
  },
  {
   "cell_type": "code",
   "execution_count": 7,
   "id": "7a118668",
   "metadata": {
    "execution": {
     "iopub.execute_input": "2023-01-14T19:19:39.205176Z",
     "iopub.status.busy": "2023-01-14T19:19:39.204695Z",
     "iopub.status.idle": "2023-01-14T19:19:39.217126Z",
     "shell.execute_reply": "2023-01-14T19:19:39.215468Z"
    },
    "papermill": {
     "duration": 0.027592,
     "end_time": "2023-01-14T19:19:39.220184",
     "exception": false,
     "start_time": "2023-01-14T19:19:39.192592",
     "status": "completed"
    },
    "tags": []
   },
   "outputs": [
    {
     "data": {
      "text/plain": [
       "fixed acidity           0.0\n",
       "volatile acidity        0.0\n",
       "citric acid             0.0\n",
       "residual sugar          0.0\n",
       "chlorides               0.0\n",
       "free sulfur dioxide     0.0\n",
       "total sulfur dioxide    0.0\n",
       "density                 0.0\n",
       "pH                      0.0\n",
       "sulphates               0.0\n",
       "alcohol                 0.0\n",
       "quality                 0.0\n",
       "dtype: float64"
      ]
     },
     "execution_count": 7,
     "metadata": {},
     "output_type": "execute_result"
    }
   ],
   "source": [
    "df.isnull().sum() / len(df)"
   ]
  },
  {
   "cell_type": "code",
   "execution_count": 8,
   "id": "7c362d65",
   "metadata": {
    "execution": {
     "iopub.execute_input": "2023-01-14T19:19:39.243496Z",
     "iopub.status.busy": "2023-01-14T19:19:39.242963Z",
     "iopub.status.idle": "2023-01-14T19:19:39.250719Z",
     "shell.execute_reply": "2023-01-14T19:19:39.249579Z"
    },
    "papermill": {
     "duration": 0.022151,
     "end_time": "2023-01-14T19:19:39.253237",
     "exception": false,
     "start_time": "2023-01-14T19:19:39.231086",
     "status": "completed"
    },
    "tags": []
   },
   "outputs": [
    {
     "data": {
      "text/plain": [
       "(1574, 12)"
      ]
     },
     "execution_count": 8,
     "metadata": {},
     "output_type": "execute_result"
    }
   ],
   "source": [
    "df.shape"
   ]
  },
  {
   "cell_type": "code",
   "execution_count": 9,
   "id": "e7a7ba8e",
   "metadata": {
    "execution": {
     "iopub.execute_input": "2023-01-14T19:19:39.277031Z",
     "iopub.status.busy": "2023-01-14T19:19:39.276537Z",
     "iopub.status.idle": "2023-01-14T19:19:39.290749Z",
     "shell.execute_reply": "2023-01-14T19:19:39.289750Z"
    },
    "papermill": {
     "duration": 0.029269,
     "end_time": "2023-01-14T19:19:39.293437",
     "exception": false,
     "start_time": "2023-01-14T19:19:39.264168",
     "status": "completed"
    },
    "tags": []
   },
   "outputs": [
    {
     "data": {
      "text/plain": [
       "fixed acidity            91\n",
       "volatile acidity        143\n",
       "citric acid              79\n",
       "residual sugar           87\n",
       "chlorides               149\n",
       "free sulfur dioxide      55\n",
       "total sulfur dioxide    140\n",
       "density                 429\n",
       "pH                       84\n",
       "sulphates                92\n",
       "alcohol                  64\n",
       "quality                   6\n",
       "dtype: int64"
      ]
     },
     "execution_count": 9,
     "metadata": {},
     "output_type": "execute_result"
    }
   ],
   "source": [
    "df.nunique()"
   ]
  },
  {
   "cell_type": "code",
   "execution_count": 10,
   "id": "b44a68c9",
   "metadata": {
    "execution": {
     "iopub.execute_input": "2023-01-14T19:19:39.318257Z",
     "iopub.status.busy": "2023-01-14T19:19:39.317790Z",
     "iopub.status.idle": "2023-01-14T19:19:41.761026Z",
     "shell.execute_reply": "2023-01-14T19:19:41.759667Z"
    },
    "papermill": {
     "duration": 2.459749,
     "end_time": "2023-01-14T19:19:41.764146",
     "exception": false,
     "start_time": "2023-01-14T19:19:39.304397",
     "status": "completed"
    },
    "tags": []
   },
   "outputs": [
    {
     "data": {
      "image/png": "[encoded data removed]",
      "text/plain": [
       "<Figure size 432x288 with 1 Axes>"
      ]
     },
     "metadata": {
      "needs_background": "light"
     },
     "output_type": "display_data"
    },
    {
     "data": {
      "image/png": "[encoded data removed]",
      "text/plain": [
       "<Figure size 432x288 with 1 Axes>"
      ]
     },
     "metadata": {
      "needs_background": "light"
     },
     "output_type": "display_data"
    },
    {
     "data": {
      "image/png": "[encoded data removed]",
      "text/plain": [
       "<Figure size 432x288 with 1 Axes>"
      ]
     },
     "metadata": {
      "needs_background": "light"
     },
     "output_type": "display_data"
    },
    {
     "data": {
      "image/png": "[encoded data removed]",
      "text/plain": [
       "<Figure size 432x288 with 1 Axes>"
      ]
     },
     "metadata": {
      "needs_background": "light"
     },
     "output_type": "display_data"
    },
    {
     "data": {
      "image/png": "[encoded data removed]",
      "text/plain": [
       "<Figure size 432x288 with 1 Axes>"
      ]
     },
     "metadata": {
      "needs_background": "light"
     },
     "output_type": "display_data"
    },
    {
     "data": {
      "image/png": "[encoded data removed]",
      "text/plain": [
       "<Figure size 432x288 with 1 Axes>"
      ]
     },
     "metadata": {
      "needs_background": "light"
     },
     "output_type": "display_data"
    },
    {
     "data": {
      "image/png": "[encoded data removed]",
      "text/plain": [
       "<Figure size 432x288 with 1 Axes>"
      ]
     },
     "metadata": {
      "needs_background": "light"
     },
     "output_type": "display_data"
    },
    {
     "data": {
      "image/png": "[encoded data removed]",
      "text/plain": [
       "<Figure size 432x288 with 1 Axes>"
      ]
     },
     "metadata": {
      "needs_background": "light"
     },
     "output_type": "display_data"
    },
    {
     "data": {
      "image/png": "[encoded data removed]",
      "text/plain": [
       "<Figure size 432x288 with 1 Axes>"
      ]
     },
     "metadata": {
      "needs_background": "light"
     },
     "output_type": "display_data"
    },
    {
     "data": {
      "image/png": "[encoded data removed]",
      "text/plain": [
       "<Figure size 432x288 with 1 Axes>"
      ]
     },
     "metadata": {
      "needs_background": "light"
     },
     "output_type": "display_data"
    },
    {
     "data": {
      "image/png": "[encoded data removed]",
      "text/plain": [
       "<Figure size 432x288 with 1 Axes>"
      ]
     },
     "metadata": {
      "needs_background": "light"
     },
     "output_type": "display_data"
    },
    {
     "data": {
      "image/png": "[encoded data removed]",
      "text/plain": [
       "<Figure size 432x288 with 1 Axes>"
      ]
     },
     "metadata": {
      "needs_background": "light"
     },
     "output_type": "display_data"
    }
   ],
   "source": [
    "for col in df.columns:\n",
    "    df[col].plot(kind=\"box\")\n",
    "    plt.show()\n"
   ]
  },
  {
   "cell_type": "code",
   "execution_count": 11,
   "id": "547e58c4",
   "metadata": {
    "execution": {
     "iopub.execute_input": "2023-01-14T19:19:41.797087Z",
     "iopub.status.busy": "2023-01-14T19:19:41.796591Z",
     "iopub.status.idle": "2023-01-14T19:19:41.823225Z",
     "shell.execute_reply": "2023-01-14T19:19:41.821899Z"
    },
    "papermill": {
     "duration": 0.046227,
     "end_time": "2023-01-14T19:19:41.826471",
     "exception": false,
     "start_time": "2023-01-14T19:19:41.780244",
     "status": "completed"
    },
    "tags": []
   },
   "outputs": [
    {
     "data": {
      "text/html": [
       "<div>\n",
       "<style scoped>\n",
       "    .dataframe tbody tr th:only-of-type {\n",
       "        vertical-align: middle;\n",
       "    }\n",
       "\n",
       "    .dataframe tbody tr th {\n",
       "        vertical-align: top;\n",
       "    }\n",
       "\n",
       "    .dataframe thead th {\n",
       "        text-align: right;\n",
       "    }\n",
       "</style>\n",
       "<table border=\"1\" class=\"dataframe\">\n",
       "  <thead>\n",
       "    <tr style=\"text-align: right;\">\n",
       "      <th></th>\n",
       "      <th>fixed acidity</th>\n",
       "      <th>volatile acidity</th>\n",
       "      <th>citric acid</th>\n",
       "      <th>residual sugar</th>\n",
       "      <th>chlorides</th>\n",
       "      <th>free sulfur dioxide</th>\n",
       "      <th>total sulfur dioxide</th>\n",
       "      <th>density</th>\n",
       "      <th>pH</th>\n",
       "      <th>sulphates</th>\n",
       "      <th>alcohol</th>\n",
       "      <th>quality</th>\n",
       "    </tr>\n",
       "  </thead>\n",
       "  <tbody>\n",
       "    <tr>\n",
       "      <th>fixed acidity</th>\n",
       "      <td>1.000000</td>\n",
       "      <td>-0.262697</td>\n",
       "      <td>0.680669</td>\n",
       "      <td>0.103127</td>\n",
       "      <td>0.098264</td>\n",
       "      <td>-0.151621</td>\n",
       "      <td>-0.109443</td>\n",
       "      <td>0.660914</td>\n",
       "      <td>-0.682457</td>\n",
       "      <td>0.185106</td>\n",
       "      <td>-0.065920</td>\n",
       "      <td>0.125446</td>\n",
       "    </tr>\n",
       "    <tr>\n",
       "      <th>volatile acidity</th>\n",
       "      <td>-0.262697</td>\n",
       "      <td>1.000000</td>\n",
       "      <td>-0.557275</td>\n",
       "      <td>0.018656</td>\n",
       "      <td>0.069200</td>\n",
       "      <td>-0.013309</td>\n",
       "      <td>0.092338</td>\n",
       "      <td>0.021319</td>\n",
       "      <td>0.234757</td>\n",
       "      <td>-0.279865</td>\n",
       "      <td>-0.208844</td>\n",
       "      <td>-0.390938</td>\n",
       "    </tr>\n",
       "    <tr>\n",
       "      <th>citric acid</th>\n",
       "      <td>0.680669</td>\n",
       "      <td>-0.557275</td>\n",
       "      <td>1.000000</td>\n",
       "      <td>0.139461</td>\n",
       "      <td>0.176562</td>\n",
       "      <td>-0.065256</td>\n",
       "      <td>0.020572</td>\n",
       "      <td>0.363617</td>\n",
       "      <td>-0.531286</td>\n",
       "      <td>0.315494</td>\n",
       "      <td>0.113452</td>\n",
       "      <td>0.231534</td>\n",
       "    </tr>\n",
       "    <tr>\n",
       "      <th>residual sugar</th>\n",
       "      <td>0.103127</td>\n",
       "      <td>0.018656</td>\n",
       "      <td>0.139461</td>\n",
       "      <td>1.000000</td>\n",
       "      <td>0.025874</td>\n",
       "      <td>0.096907</td>\n",
       "      <td>0.149817</td>\n",
       "      <td>0.338714</td>\n",
       "      <td>-0.054393</td>\n",
       "      <td>0.012762</td>\n",
       "      <td>0.060695</td>\n",
       "      <td>0.013543</td>\n",
       "    </tr>\n",
       "    <tr>\n",
       "      <th>chlorides</th>\n",
       "      <td>0.098264</td>\n",
       "      <td>0.069200</td>\n",
       "      <td>0.176562</td>\n",
       "      <td>0.025874</td>\n",
       "      <td>1.000000</td>\n",
       "      <td>-0.027635</td>\n",
       "      <td>0.042964</td>\n",
       "      <td>0.191597</td>\n",
       "      <td>-0.247496</td>\n",
       "      <td>0.339488</td>\n",
       "      <td>-0.218932</td>\n",
       "      <td>-0.118295</td>\n",
       "    </tr>\n",
       "    <tr>\n",
       "      <th>free sulfur dioxide</th>\n",
       "      <td>-0.151621</td>\n",
       "      <td>-0.013309</td>\n",
       "      <td>-0.065256</td>\n",
       "      <td>0.096907</td>\n",
       "      <td>-0.027635</td>\n",
       "      <td>1.000000</td>\n",
       "      <td>0.669615</td>\n",
       "      <td>-0.043104</td>\n",
       "      <td>0.082897</td>\n",
       "      <td>0.055947</td>\n",
       "      <td>-0.066196</td>\n",
       "      <td>-0.052653</td>\n",
       "    </tr>\n",
       "    <tr>\n",
       "      <th>total sulfur dioxide</th>\n",
       "      <td>-0.109443</td>\n",
       "      <td>0.092338</td>\n",
       "      <td>0.020572</td>\n",
       "      <td>0.149817</td>\n",
       "      <td>0.042964</td>\n",
       "      <td>0.669615</td>\n",
       "      <td>1.000000</td>\n",
       "      <td>0.089954</td>\n",
       "      <td>-0.045649</td>\n",
       "      <td>0.014790</td>\n",
       "      <td>-0.232659</td>\n",
       "      <td>-0.209759</td>\n",
       "    </tr>\n",
       "    <tr>\n",
       "      <th>density</th>\n",
       "      <td>0.660914</td>\n",
       "      <td>0.021319</td>\n",
       "      <td>0.363617</td>\n",
       "      <td>0.338714</td>\n",
       "      <td>0.191597</td>\n",
       "      <td>-0.043104</td>\n",
       "      <td>0.089954</td>\n",
       "      <td>1.000000</td>\n",
       "      <td>-0.316262</td>\n",
       "      <td>0.142975</td>\n",
       "      <td>-0.502144</td>\n",
       "      <td>-0.178945</td>\n",
       "    </tr>\n",
       "    <tr>\n",
       "      <th>pH</th>\n",
       "      <td>-0.682457</td>\n",
       "      <td>0.234757</td>\n",
       "      <td>-0.531286</td>\n",
       "      <td>-0.054393</td>\n",
       "      <td>-0.247496</td>\n",
       "      <td>0.082897</td>\n",
       "      <td>-0.045649</td>\n",
       "      <td>-0.316262</td>\n",
       "      <td>1.000000</td>\n",
       "      <td>-0.148656</td>\n",
       "      <td>0.200657</td>\n",
       "      <td>-0.059638</td>\n",
       "    </tr>\n",
       "    <tr>\n",
       "      <th>sulphates</th>\n",
       "      <td>0.185106</td>\n",
       "      <td>-0.279865</td>\n",
       "      <td>0.315494</td>\n",
       "      <td>0.012762</td>\n",
       "      <td>0.339488</td>\n",
       "      <td>0.055947</td>\n",
       "      <td>0.014790</td>\n",
       "      <td>0.142975</td>\n",
       "      <td>-0.148656</td>\n",
       "      <td>1.000000</td>\n",
       "      <td>0.122939</td>\n",
       "      <td>0.289066</td>\n",
       "    </tr>\n",
       "    <tr>\n",
       "      <th>alcohol</th>\n",
       "      <td>-0.065920</td>\n",
       "      <td>-0.208844</td>\n",
       "      <td>0.113452</td>\n",
       "      <td>0.060695</td>\n",
       "      <td>-0.218932</td>\n",
       "      <td>-0.066196</td>\n",
       "      <td>-0.232659</td>\n",
       "      <td>-0.502144</td>\n",
       "      <td>0.200657</td>\n",
       "      <td>0.122939</td>\n",
       "      <td>1.000000</td>\n",
       "      <td>0.489395</td>\n",
       "    </tr>\n",
       "    <tr>\n",
       "      <th>quality</th>\n",
       "      <td>0.125446</td>\n",
       "      <td>-0.390938</td>\n",
       "      <td>0.231534</td>\n",
       "      <td>0.013543</td>\n",
       "      <td>-0.118295</td>\n",
       "      <td>-0.052653</td>\n",
       "      <td>-0.209759</td>\n",
       "      <td>-0.178945</td>\n",
       "      <td>-0.059638</td>\n",
       "      <td>0.289066</td>\n",
       "      <td>0.489395</td>\n",
       "      <td>1.000000</td>\n",
       "    </tr>\n",
       "  </tbody>\n",
       "</table>\n",
       "</div>"
      ],
      "text/plain": [
       "                      fixed acidity  volatile acidity  citric acid  \\\n",
       "fixed acidity              1.000000         -0.262697     0.680669   \n",
       "volatile acidity          -0.262697          1.000000    -0.557275   \n",
       "citric acid                0.680669         -0.557275     1.000000   \n",
       "residual sugar             0.103127          0.018656     0.139461   \n",
       "chlorides                  0.098264          0.069200     0.176562   \n",
       "free sulfur dioxide       -0.151621         -0.013309    -0.065256   \n",
       "total sulfur dioxide      -0.109443          0.092338     0.020572   \n",
       "density                    0.660914          0.021319     0.363617   \n",
       "pH                        -0.682457          0.234757    -0.531286   \n",
       "sulphates                  0.185106         -0.279865     0.315494   \n",
       "alcohol                   -0.065920         -0.208844     0.113452   \n",
       "quality                    0.125446         -0.390938     0.231534   \n",
       "\n",
       "                      residual sugar  chlorides  free sulfur dioxide  \\\n",
       "fixed acidity               0.103127   0.098264            -0.151621   \n",
       "volatile acidity            0.018656   0.069200            -0.013309   \n",
       "citric acid                 0.139461   0.176562            -0.065256   \n",
       "residual sugar              1.000000   0.025874             0.096907   \n",
       "chlorides                   0.025874   1.000000            -0.027635   \n",
       "free sulfur dioxide         0.096907  -0.027635             1.000000   \n",
       "total sulfur dioxide        0.149817   0.042964             0.669615   \n",
       "density                     0.338714   0.191597            -0.043104   \n",
       "pH                         -0.054393  -0.247496             0.082897   \n",
       "sulphates                   0.012762   0.339488             0.055947   \n",
       "alcohol                     0.060695  -0.218932            -0.066196   \n",
       "quality                     0.013543  -0.118295            -0.052653   \n",
       "\n",
       "                      total sulfur dioxide   density        pH  sulphates  \\\n",
       "fixed acidity                    -0.109443  0.660914 -0.682457   0.185106   \n",
       "volatile acidity                  0.092338  0.021319  0.234757  -0.279865   \n",
       "citric acid                       0.020572  0.363617 -0.531286   0.315494   \n",
       "residual sugar                    0.149817  0.338714 -0.054393   0.012762   \n",
       "chlorides                         0.042964  0.191597 -0.247496   0.339488   \n",
       "free sulfur dioxide               0.669615 -0.043104  0.082897   0.055947   \n",
       "total sulfur dioxide              1.000000  0.089954 -0.045649   0.014790   \n",
       "density                           0.089954  1.000000 -0.316262   0.142975   \n",
       "pH                               -0.045649 -0.316262  1.000000  -0.148656   \n",
       "sulphates                         0.014790  0.142975 -0.148656   1.000000   \n",
       "alcohol                          -0.232659 -0.502144  0.200657   0.122939   \n",
       "quality                          -0.209759 -0.178945 -0.059638   0.289066   \n",
       "\n",
       "                       alcohol   quality  \n",
       "fixed acidity        -0.065920  0.125446  \n",
       "volatile acidity     -0.208844 -0.390938  \n",
       "citric acid           0.113452  0.231534  \n",
       "residual sugar        0.060695  0.013543  \n",
       "chlorides            -0.218932 -0.118295  \n",
       "free sulfur dioxide  -0.066196 -0.052653  \n",
       "total sulfur dioxide -0.232659 -0.209759  \n",
       "density              -0.502144 -0.178945  \n",
       "pH                    0.200657 -0.059638  \n",
       "sulphates             0.122939  0.289066  \n",
       "alcohol               1.000000  0.489395  \n",
       "quality               0.489395  1.000000  "
      ]
     },
     "execution_count": 11,
     "metadata": {},
     "output_type": "execute_result"
    }
   ],
   "source": [
    "corr = df.corr()\n",
    "corr"
   ]
  },
  {
   "cell_type": "code",
   "execution_count": 12,
   "id": "9b556f00",
   "metadata": {
    "execution": {
     "iopub.execute_input": "2023-01-14T19:19:41.857061Z",
     "iopub.status.busy": "2023-01-14T19:19:41.856507Z",
     "iopub.status.idle": "2023-01-14T19:19:42.085697Z",
     "shell.execute_reply": "2023-01-14T19:19:42.084271Z"
    },
    "papermill": {
     "duration": 0.248089,
     "end_time": "2023-01-14T19:19:42.088650",
     "exception": false,
     "start_time": "2023-01-14T19:19:41.840561",
     "status": "completed"
    },
    "tags": []
   },
   "outputs": [
    {
     "data": {
      "text/plain": [
       "Text(0, 0.5, 'quality score')"
      ]
     },
     "execution_count": 12,
     "metadata": {},
     "output_type": "execute_result"
    },
    {
     "data": {
      "image/png": "[encoded data removed]",
      "text/plain": [
       "<Figure size 864x216 with 1 Axes>"
      ]
     },
     "metadata": {
      "needs_background": "light"
     },
     "output_type": "display_data"
    }
   ],
   "source": [
    "ax = df.quality.value_counts().sort_index(ascending=False).plot.barh(title='Red Wine Quality Scores', figsize=(12, 3))\n",
    "\n",
    "for bar in ax.patches:\n",
    "    ax.text(bar.get_width(),\n",
    "            bar.get_y() + bar.get_height()/4,f'{bar.get_width()/df.shape[0]:.1%}')\n",
    "plt.xlabel('count of wines')\n",
    "plt.ylabel('quality score')"
   ]
  },
  {
   "cell_type": "code",
   "execution_count": 13,
   "id": "5eddb74b",
   "metadata": {
    "execution": {
     "iopub.execute_input": "2023-01-14T19:19:42.119066Z",
     "iopub.status.busy": "2023-01-14T19:19:42.118575Z",
     "iopub.status.idle": "2023-01-14T19:19:42.303751Z",
     "shell.execute_reply": "2023-01-14T19:19:42.302401Z"
    },
    "papermill": {
     "duration": 0.203979,
     "end_time": "2023-01-14T19:19:42.306869",
     "exception": false,
     "start_time": "2023-01-14T19:19:42.102890",
     "status": "completed"
    },
    "tags": []
   },
   "outputs": [
    {
     "data": {
      "text/plain": [
       "Text(0.5, 0, 'quality score')"
      ]
     },
     "execution_count": 13,
     "metadata": {},
     "output_type": "execute_result"
    },
    {
     "data": {
      "image/png": "[encoded data removed]",
      "text/plain": [
       "<Figure size 432x288 with 1 Axes>"
      ]
     },
     "metadata": {
      "needs_background": "light"
     },
     "output_type": "display_data"
    }
   ],
   "source": [
    "df[\"quality\"].value_counts().sort_values(ascending=False).plot(\n",
    "    kind = \"bar\"\n",
    ")\n",
    "plt.ylabel('count of wines')\n",
    "plt.xlabel('quality score')"
   ]
  },
  {
   "cell_type": "code",
   "execution_count": 14,
   "id": "ccfc00b9",
   "metadata": {
    "execution": {
     "iopub.execute_input": "2023-01-14T19:19:42.337850Z",
     "iopub.status.busy": "2023-01-14T19:19:42.337306Z",
     "iopub.status.idle": "2023-01-14T19:19:42.521418Z",
     "shell.execute_reply": "2023-01-14T19:19:42.519832Z"
    },
    "papermill": {
     "duration": 0.20322,
     "end_time": "2023-01-14T19:19:42.524358",
     "exception": false,
     "start_time": "2023-01-14T19:19:42.321138",
     "status": "completed"
    },
    "tags": []
   },
   "outputs": [
    {
     "data": {
      "text/plain": [
       "Text(0.5, 0, 'quality score')"
      ]
     },
     "execution_count": 14,
     "metadata": {},
     "output_type": "execute_result"
    },
    {
     "data": {
      "image/png": "[encoded data removed]",
      "text/plain": [
       "<Figure size 432x288 with 1 Axes>"
      ]
     },
     "metadata": {
      "needs_background": "light"
     },
     "output_type": "display_data"
    }
   ],
   "source": [
    "df[\"quality\"].value_counts().sort_index(ascending=False).plot(\n",
    "    kind = \"bar\"\n",
    ")\n",
    "plt.ylabel('count of wines')\n",
    "plt.xlabel('quality score')"
   ]
  },
  {
   "cell_type": "code",
   "execution_count": 15,
   "id": "f2a855b8",
   "metadata": {
    "execution": {
     "iopub.execute_input": "2023-01-14T19:19:42.556659Z",
     "iopub.status.busy": "2023-01-14T19:19:42.556119Z",
     "iopub.status.idle": "2023-01-14T19:19:42.782179Z",
     "shell.execute_reply": "2023-01-14T19:19:42.780465Z"
    },
    "papermill": {
     "duration": 0.246379,
     "end_time": "2023-01-14T19:19:42.785612",
     "exception": false,
     "start_time": "2023-01-14T19:19:42.539233",
     "status": "completed"
    },
    "tags": []
   },
   "outputs": [
    {
     "data": {
      "text/plain": [
       "<AxesSubplot:xlabel='quality', ylabel='quality'>"
      ]
     },
     "execution_count": 15,
     "metadata": {},
     "output_type": "execute_result"
    },
    {
     "data": {
      "image/png": "[encoded data removed]",
      "text/plain": [
       "<Figure size 432x288 with 1 Axes>"
      ]
     },
     "metadata": {
      "needs_background": "light"
     },
     "output_type": "display_data"
    }
   ],
   "source": [
    "sns.barplot(x = df[\"quality\"].sort_index(), y=df[\"quality\"].value_counts())"
   ]
  },
  {
   "cell_type": "code",
   "execution_count": 16,
   "id": "e35ce78b",
   "metadata": {
    "execution": {
     "iopub.execute_input": "2023-01-14T19:19:42.818093Z",
     "iopub.status.busy": "2023-01-14T19:19:42.817622Z",
     "iopub.status.idle": "2023-01-14T19:19:42.973558Z",
     "shell.execute_reply": "2023-01-14T19:19:42.971812Z"
    },
    "papermill": {
     "duration": 0.175524,
     "end_time": "2023-01-14T19:19:42.976623",
     "exception": false,
     "start_time": "2023-01-14T19:19:42.801099",
     "status": "completed"
    },
    "tags": []
   },
   "outputs": [
    {
     "data": {
      "image/png": "[encoded data removed]",
      "text/plain": [
       "<Figure size 432x288 with 1 Axes>"
      ]
     },
     "metadata": {
      "needs_background": "light"
     },
     "output_type": "display_data"
    }
   ],
   "source": [
    "sns.barplot(x = 'quality', y = 'alcohol', data = df, palette=\"crest\", ci = None)\n",
    "plt.xlabel(\"Quality Rating\", fontsize = 16)\n",
    "plt.ylabel(\"Alcohol Percentage\", fontsize = 16)\n",
    "plt.title(\"Alcohol by Wine Quality\", fontsize = 20)\n",
    "plt.show()"
   ]
  },
  {
   "cell_type": "code",
   "execution_count": 17,
   "id": "225a4318",
   "metadata": {
    "execution": {
     "iopub.execute_input": "2023-01-14T19:19:43.009953Z",
     "iopub.status.busy": "2023-01-14T19:19:43.009117Z",
     "iopub.status.idle": "2023-01-14T19:19:43.015515Z",
     "shell.execute_reply": "2023-01-14T19:19:43.014460Z"
    },
    "papermill": {
     "duration": 0.026024,
     "end_time": "2023-01-14T19:19:43.018131",
     "exception": false,
     "start_time": "2023-01-14T19:19:42.992107",
     "status": "completed"
    },
    "tags": []
   },
   "outputs": [],
   "source": [
    "target = \"quality\"\n",
    "X = df.drop(columns = target)\n",
    "y = df[target]"
   ]
  },
  {
   "cell_type": "code",
   "execution_count": 18,
   "id": "07df564d",
   "metadata": {
    "execution": {
     "iopub.execute_input": "2023-01-14T19:19:43.050720Z",
     "iopub.status.busy": "2023-01-14T19:19:43.050179Z",
     "iopub.status.idle": "2023-01-14T19:19:43.059433Z",
     "shell.execute_reply": "2023-01-14T19:19:43.058220Z"
    },
    "papermill": {
     "duration": 0.028924,
     "end_time": "2023-01-14T19:19:43.062434",
     "exception": false,
     "start_time": "2023-01-14T19:19:43.033510",
     "status": "completed"
    },
    "tags": []
   },
   "outputs": [],
   "source": [
    "from sklearn.model_selection import train_test_split\n",
    "X_train, X_val, y_train, y_val = train_test_split(\n",
    "    X, y, test_size = 0.2, random_state = 42\n",
    ")"
   ]
  },
  {
   "cell_type": "code",
   "execution_count": 19,
   "id": "6db68272",
   "metadata": {
    "execution": {
     "iopub.execute_input": "2023-01-14T19:19:43.097839Z",
     "iopub.status.busy": "2023-01-14T19:19:43.096177Z",
     "iopub.status.idle": "2023-01-14T19:19:43.136568Z",
     "shell.execute_reply": "2023-01-14T19:19:43.135176Z"
    },
    "papermill": {
     "duration": 0.062686,
     "end_time": "2023-01-14T19:19:43.141194",
     "exception": false,
     "start_time": "2023-01-14T19:19:43.078508",
     "status": "completed"
    },
    "tags": []
   },
   "outputs": [
    {
     "data": {
      "text/plain": [
       "LinearRegression()"
      ]
     },
     "execution_count": 19,
     "metadata": {},
     "output_type": "execute_result"
    }
   ],
   "source": [
    "model = LinearRegression()\n",
    "model.fit(X_train, y_train)"
   ]
  },
  {
   "cell_type": "code",
   "execution_count": 20,
   "id": "d3f11cff",
   "metadata": {
    "execution": {
     "iopub.execute_input": "2023-01-14T19:19:43.222803Z",
     "iopub.status.busy": "2023-01-14T19:19:43.221675Z",
     "iopub.status.idle": "2023-01-14T19:19:43.242017Z",
     "shell.execute_reply": "2023-01-14T19:19:43.239638Z"
    },
    "papermill": {
     "duration": 0.067539,
     "end_time": "2023-01-14T19:19:43.247548",
     "exception": false,
     "start_time": "2023-01-14T19:19:43.180009",
     "status": "completed"
    },
    "tags": []
   },
   "outputs": [
    {
     "name": "stdout",
     "output_type": "stream",
     "text": [
      "0.37107203954691714\n"
     ]
    }
   ],
   "source": [
    "lr_train_accuracy = model.score(X_train, y_train)\n",
    "print(lr_train_accuracy)"
   ]
  },
  {
   "cell_type": "code",
   "execution_count": 21,
   "id": "4f7bc535",
   "metadata": {
    "execution": {
     "iopub.execute_input": "2023-01-14T19:19:43.330711Z",
     "iopub.status.busy": "2023-01-14T19:19:43.329591Z",
     "iopub.status.idle": "2023-01-14T19:19:43.353506Z",
     "shell.execute_reply": "2023-01-14T19:19:43.351584Z"
    },
    "papermill": {
     "duration": 0.068339,
     "end_time": "2023-01-14T19:19:43.356503",
     "exception": false,
     "start_time": "2023-01-14T19:19:43.288164",
     "status": "completed"
    },
    "tags": []
   },
   "outputs": [
    {
     "name": "stdout",
     "output_type": "stream",
     "text": [
      "0.3812583003072444\n"
     ]
    }
   ],
   "source": [
    "lr_val_accuracy = model.score(X_val, y_val)\n",
    "print(lr_val_accuracy)"
   ]
  },
  {
   "cell_type": "code",
   "execution_count": 22,
   "id": "42776abb",
   "metadata": {
    "execution": {
     "iopub.execute_input": "2023-01-14T19:19:43.389180Z",
     "iopub.status.busy": "2023-01-14T19:19:43.388654Z",
     "iopub.status.idle": "2023-01-14T19:19:43.408257Z",
     "shell.execute_reply": "2023-01-14T19:19:43.406451Z"
    },
    "papermill": {
     "duration": 0.041201,
     "end_time": "2023-01-14T19:19:43.413205",
     "exception": false,
     "start_time": "2023-01-14T19:19:43.372004",
     "status": "completed"
    },
    "tags": []
   },
   "outputs": [
    {
     "data": {
      "text/plain": [
       "Ridge()"
      ]
     },
     "execution_count": 22,
     "metadata": {},
     "output_type": "execute_result"
    }
   ],
   "source": [
    "model_r = Ridge()\n",
    "model_r.fit(X_train, y_train)"
   ]
  },
  {
   "cell_type": "code",
   "execution_count": 23,
   "id": "b5ab2af8",
   "metadata": {
    "execution": {
     "iopub.execute_input": "2023-01-14T19:19:43.496471Z",
     "iopub.status.busy": "2023-01-14T19:19:43.494093Z",
     "iopub.status.idle": "2023-01-14T19:19:43.517154Z",
     "shell.execute_reply": "2023-01-14T19:19:43.515388Z"
    },
    "papermill": {
     "duration": 0.075054,
     "end_time": "2023-01-14T19:19:43.527844",
     "exception": false,
     "start_time": "2023-01-14T19:19:43.452790",
     "status": "completed"
    },
    "tags": []
   },
   "outputs": [
    {
     "name": "stdout",
     "output_type": "stream",
     "text": [
      "0.36994192351959365\n"
     ]
    }
   ],
   "source": [
    "r_train_accuracy = model_r.score(X_train, y_train)\n",
    "print(r_train_accuracy)"
   ]
  },
  {
   "cell_type": "code",
   "execution_count": 24,
   "id": "c1581f58",
   "metadata": {
    "execution": {
     "iopub.execute_input": "2023-01-14T19:19:43.611862Z",
     "iopub.status.busy": "2023-01-14T19:19:43.609658Z",
     "iopub.status.idle": "2023-01-14T19:19:43.626411Z",
     "shell.execute_reply": "2023-01-14T19:19:43.624805Z"
    },
    "papermill": {
     "duration": 0.061152,
     "end_time": "2023-01-14T19:19:43.629179",
     "exception": false,
     "start_time": "2023-01-14T19:19:43.568027",
     "status": "completed"
    },
    "tags": []
   },
   "outputs": [
    {
     "name": "stdout",
     "output_type": "stream",
     "text": [
      "0.37831518128526664\n"
     ]
    }
   ],
   "source": [
    "r_val_accuracy = model_r.score(X_val, y_val)\n",
    "print(r_val_accuracy)"
   ]
  },
  {
   "cell_type": "code",
   "execution_count": 25,
   "id": "497d360f",
   "metadata": {
    "execution": {
     "iopub.execute_input": "2023-01-14T19:19:43.663089Z",
     "iopub.status.busy": "2023-01-14T19:19:43.661874Z",
     "iopub.status.idle": "2023-01-14T19:19:43.670308Z",
     "shell.execute_reply": "2023-01-14T19:19:43.668862Z"
    },
    "papermill": {
     "duration": 0.02958,
     "end_time": "2023-01-14T19:19:43.674500",
     "exception": false,
     "start_time": "2023-01-14T19:19:43.644920",
     "status": "completed"
    },
    "tags": []
   },
   "outputs": [
    {
     "name": "stdout",
     "output_type": "stream",
     "text": [
      "0.6821089900137596 5.613979348689436\n"
     ]
    }
   ],
   "source": [
    "y_pred_baseline = [y_train.mean()] * len(y_train)\n",
    "mae_baseline = mean_absolute_error(y_train, y_pred_baseline)\n",
    "print(mae_baseline, y_train.mean())"
   ]
  },
  {
   "cell_type": "code",
   "execution_count": 26,
   "id": "55bc6c34",
   "metadata": {
    "execution": {
     "iopub.execute_input": "2023-01-14T19:19:43.709836Z",
     "iopub.status.busy": "2023-01-14T19:19:43.708897Z",
     "iopub.status.idle": "2023-01-14T19:19:43.720399Z",
     "shell.execute_reply": "2023-01-14T19:19:43.718705Z"
    },
    "papermill": {
     "duration": 0.034772,
     "end_time": "2023-01-14T19:19:43.725703",
     "exception": false,
     "start_time": "2023-01-14T19:19:43.690931",
     "status": "completed"
    },
    "tags": []
   },
   "outputs": [
    {
     "name": "stdout",
     "output_type": "stream",
     "text": [
      "0.49291408652030055\n"
     ]
    }
   ],
   "source": [
    "y_pred_training = model.predict(X_train)\n",
    "mae_training = mean_absolute_error(y_train, y_pred_training)\n",
    "print(mae_training)"
   ]
  },
  {
   "cell_type": "code",
   "execution_count": 27,
   "id": "33b7739b",
   "metadata": {
    "execution": {
     "iopub.execute_input": "2023-01-14T19:19:43.808329Z",
     "iopub.status.busy": "2023-01-14T19:19:43.807460Z",
     "iopub.status.idle": "2023-01-14T19:19:43.824725Z",
     "shell.execute_reply": "2023-01-14T19:19:43.822973Z"
    },
    "papermill": {
     "duration": 0.063848,
     "end_time": "2023-01-14T19:19:43.829417",
     "exception": false,
     "start_time": "2023-01-14T19:19:43.765569",
     "status": "completed"
    },
    "tags": []
   },
   "outputs": [
    {
     "name": "stdout",
     "output_type": "stream",
     "text": [
      "0.4975443641002922\n"
     ]
    }
   ],
   "source": [
    "y_pred_test = model.predict(X_val)\n",
    "mae_test = mean_absolute_error(y_val, y_pred_test)\n",
    "print(mae_test)"
   ]
  },
  {
   "cell_type": "code",
   "execution_count": 28,
   "id": "37c7fd1d",
   "metadata": {
    "execution": {
     "iopub.execute_input": "2023-01-14T19:19:43.866962Z",
     "iopub.status.busy": "2023-01-14T19:19:43.866495Z",
     "iopub.status.idle": "2023-01-14T19:19:43.877267Z",
     "shell.execute_reply": "2023-01-14T19:19:43.876270Z"
    },
    "papermill": {
     "duration": 0.030708,
     "end_time": "2023-01-14T19:19:43.879892",
     "exception": false,
     "start_time": "2023-01-14T19:19:43.849184",
     "status": "completed"
    },
    "tags": []
   },
   "outputs": [
    {
     "data": {
      "text/plain": [
       "0    5.397846\n",
       "1    6.438142\n",
       "2    5.052640\n",
       "3    5.423515\n",
       "4    5.922652\n",
       "dtype: float64"
      ]
     },
     "execution_count": 28,
     "metadata": {},
     "output_type": "execute_result"
    }
   ],
   "source": [
    "y_pred_test = pd.Series(model.predict(X_val))\n",
    "y_pred_test.head()"
   ]
  },
  {
   "cell_type": "code",
   "execution_count": 29,
   "id": "7cbc6272",
   "metadata": {
    "execution": {
     "iopub.execute_input": "2023-01-14T19:19:43.914798Z",
     "iopub.status.busy": "2023-01-14T19:19:43.913849Z",
     "iopub.status.idle": "2023-01-14T19:19:43.921130Z",
     "shell.execute_reply": "2023-01-14T19:19:43.920238Z"
    },
    "papermill": {
     "duration": 0.027405,
     "end_time": "2023-01-14T19:19:43.923434",
     "exception": false,
     "start_time": "2023-01-14T19:19:43.896029",
     "status": "completed"
    },
    "tags": []
   },
   "outputs": [
    {
     "data": {
      "text/plain": [
       "Index(['fixed acidity', 'volatile acidity', 'citric acid', 'residual sugar',\n",
       "       'chlorides', 'free sulfur dioxide', 'total sulfur dioxide', 'density',\n",
       "       'pH', 'sulphates', 'alcohol', 'quality'],\n",
       "      dtype='object')"
      ]
     },
     "execution_count": 29,
     "metadata": {},
     "output_type": "execute_result"
    }
   ],
   "source": [
    "df.columns"
   ]
  },
  {
   "cell_type": "code",
   "execution_count": 30,
   "id": "60f30e58",
   "metadata": {
    "execution": {
     "iopub.execute_input": "2023-01-14T19:19:43.958360Z",
     "iopub.status.busy": "2023-01-14T19:19:43.957530Z",
     "iopub.status.idle": "2023-01-14T19:19:43.965432Z",
     "shell.execute_reply": "2023-01-14T19:19:43.964473Z"
    },
    "papermill": {
     "duration": 0.028893,
     "end_time": "2023-01-14T19:19:43.968475",
     "exception": false,
     "start_time": "2023-01-14T19:19:43.939582",
     "status": "completed"
    },
    "tags": []
   },
   "outputs": [],
   "source": [
    "def make_prediction(fixedacidity, volatileacidity, citricacid, residualsugar, chlorides, freesulfurdioxide, totalsulfurdioxide, density, pH, sulphates, alcohol):\n",
    "    Data = {\n",
    "        \"fixed acidity\": fixedacidity,\n",
    "        \"volatile acidity\": volatileacidity,\n",
    "        \"citric acid\": citricacid,\n",
    "        \"residual sugar\" : residualsugar,\n",
    "        \"chlorides\" : chlorides,\n",
    "        \"free sulfur dioxide\": freesulfurdioxide,\n",
    "        \"total sulfur dioxide\": totalsulfurdioxide,\n",
    "        \"density\" : density,\n",
    "        \"pH\": pH,\n",
    "        \"sulphates\": sulphates,\n",
    "        \"alcohol\" : alcohol}\n",
    "    df = pd.DataFrame(Data, index=[0])\n",
    "    prediction_lr = model.predict(df).round(2)[0]\n",
    "    prediction_ridge = model_r.predict(df).round(2)[0]\n",
    "    return f\"The red wine quality for lr_model is {prediction_lr} & for ridge is {prediction_ridge} as per your provided values\""
   ]
  },
  {
   "cell_type": "code",
   "execution_count": 31,
   "id": "0c632cce",
   "metadata": {
    "execution": {
     "iopub.execute_input": "2023-01-14T19:19:44.005083Z",
     "iopub.status.busy": "2023-01-14T19:19:44.004061Z",
     "iopub.status.idle": "2023-01-14T19:19:44.017781Z",
     "shell.execute_reply": "2023-01-14T19:19:44.016347Z"
    },
    "papermill": {
     "duration": 0.035669,
     "end_time": "2023-01-14T19:19:44.020731",
     "exception": false,
     "start_time": "2023-01-14T19:19:43.985062",
     "status": "completed"
    },
    "tags": []
   },
   "outputs": [
    {
     "data": {
      "text/plain": [
       "'The red wine quality for lr_model is 5.02 & for ridge is 5.03 as per your provided values'"
      ]
     },
     "execution_count": 31,
     "metadata": {},
     "output_type": "execute_result"
    }
   ],
   "source": [
    "make_prediction(7.4, 0.70, 0.00, 1.9, 0.076, 11.0, 34.0, 0.9978, 3.51, 0.56, 9.4)"
   ]
  },
  {
   "cell_type": "code",
   "execution_count": 32,
   "id": "40b54429",
   "metadata": {
    "execution": {
     "iopub.execute_input": "2023-01-14T19:19:44.056590Z",
     "iopub.status.busy": "2023-01-14T19:19:44.055178Z",
     "iopub.status.idle": "2023-01-14T19:19:44.068865Z",
     "shell.execute_reply": "2023-01-14T19:19:44.067459Z"
    },
    "papermill": {
     "duration": 0.03438,
     "end_time": "2023-01-14T19:19:44.071582",
     "exception": false,
     "start_time": "2023-01-14T19:19:44.037202",
     "status": "completed"
    },
    "tags": []
   },
   "outputs": [
    {
     "data": {
      "text/plain": [
       "'The red wine quality for lr_model is 5.94 & for ridge is 5.94 as per your provided values'"
      ]
     },
     "execution_count": 32,
     "metadata": {},
     "output_type": "execute_result"
    }
   ],
   "source": [
    "#1596 === 6\n",
    "make_prediction(6.3,0.510, 0.13, 2.3, 0.076, 29.0, 40.0, 0.99574, 3.42, 0.75, 11.0)"
   ]
  },
  {
   "cell_type": "code",
   "execution_count": 33,
   "id": "8111c543",
   "metadata": {
    "execution": {
     "iopub.execute_input": "2023-01-14T19:19:44.107118Z",
     "iopub.status.busy": "2023-01-14T19:19:44.106617Z",
     "iopub.status.idle": "2023-01-14T19:19:44.119713Z",
     "shell.execute_reply": "2023-01-14T19:19:44.118342Z"
    },
    "papermill": {
     "duration": 0.034361,
     "end_time": "2023-01-14T19:19:44.122981",
     "exception": false,
     "start_time": "2023-01-14T19:19:44.088620",
     "status": "completed"
    },
    "tags": []
   },
   "outputs": [
    {
     "data": {
      "text/plain": [
       "'The red wine quality for lr_model is 5.87 & for ridge is 5.87 as per your provided values'"
      ]
     },
     "execution_count": 33,
     "metadata": {},
     "output_type": "execute_result"
    }
   ],
   "source": [
    "#16 === 7\n",
    "make_prediction(8.5, 0.28, 0.56, 1.8, 0.092, 35.0, 103.0, 0.9969, 3.30, 0.75, 10.5)"
   ]
  },
  {
   "cell_type": "code",
   "execution_count": 34,
   "id": "e987d52b",
   "metadata": {
    "execution": {
     "iopub.execute_input": "2023-01-14T19:19:44.158430Z",
     "iopub.status.busy": "2023-01-14T19:19:44.157824Z",
     "iopub.status.idle": "2023-01-14T19:19:44.170172Z",
     "shell.execute_reply": "2023-01-14T19:19:44.169134Z"
    },
    "papermill": {
     "duration": 0.033228,
     "end_time": "2023-01-14T19:19:44.172823",
     "exception": false,
     "start_time": "2023-01-14T19:19:44.139595",
     "status": "completed"
    },
    "tags": []
   },
   "outputs": [
    {
     "data": {
      "text/plain": [
       "'The red wine quality for lr_model is 5.09 & for ridge is 5.1 as per your provided values'"
      ]
     },
     "execution_count": 34,
     "metadata": {},
     "output_type": "execute_result"
    }
   ],
   "source": [
    "#41 == 4\n",
    "make_prediction(8.8, 0.610, 0.30, 2.8, 0.088, 17.0, 46.0, 0.9976, 3.26, 0.51, 9.3)"
   ]
  },
  {
   "cell_type": "code",
   "execution_count": 35,
   "id": "12a61601",
   "metadata": {
    "execution": {
     "iopub.execute_input": "2023-01-14T19:19:44.208746Z",
     "iopub.status.busy": "2023-01-14T19:19:44.207680Z",
     "iopub.status.idle": "2023-01-14T19:19:44.218818Z",
     "shell.execute_reply": "2023-01-14T19:19:44.217459Z"
    },
    "papermill": {
     "duration": 0.031974,
     "end_time": "2023-01-14T19:19:44.221313",
     "exception": false,
     "start_time": "2023-01-14T19:19:44.189339",
     "status": "completed"
    },
    "tags": []
   },
   "outputs": [
    {
     "data": {
      "text/plain": [
       "5    671\n",
       "6    630\n",
       "7    194\n",
       "4     51\n",
       "8     18\n",
       "3     10\n",
       "Name: quality, dtype: int64"
      ]
     },
     "execution_count": 35,
     "metadata": {},
     "output_type": "execute_result"
    }
   ],
   "source": [
    "df[\"quality\"].value_counts()"
   ]
  },
  {
   "cell_type": "code",
   "execution_count": 36,
   "id": "7f1e8851",
   "metadata": {
    "execution": {
     "iopub.execute_input": "2023-01-14T19:19:44.257821Z",
     "iopub.status.busy": "2023-01-14T19:19:44.256329Z",
     "iopub.status.idle": "2023-01-14T19:19:44.264106Z",
     "shell.execute_reply": "2023-01-14T19:19:44.262744Z"
    },
    "papermill": {
     "duration": 0.028717,
     "end_time": "2023-01-14T19:19:44.266826",
     "exception": false,
     "start_time": "2023-01-14T19:19:44.238109",
     "status": "completed"
    },
    "tags": []
   },
   "outputs": [
    {
     "data": {
      "text/plain": [
       "(1574, 12)"
      ]
     },
     "execution_count": 36,
     "metadata": {},
     "output_type": "execute_result"
    }
   ],
   "source": [
    "df.shape"
   ]
  },
  {
   "cell_type": "code",
   "execution_count": 37,
   "id": "1367667f",
   "metadata": {
    "execution": {
     "iopub.execute_input": "2023-01-14T19:19:44.303472Z",
     "iopub.status.busy": "2023-01-14T19:19:44.302945Z",
     "iopub.status.idle": "2023-01-14T19:19:44.312532Z",
     "shell.execute_reply": "2023-01-14T19:19:44.311455Z"
    },
    "papermill": {
     "duration": 0.030088,
     "end_time": "2023-01-14T19:19:44.314845",
     "exception": false,
     "start_time": "2023-01-14T19:19:44.284757",
     "status": "completed"
    },
    "tags": []
   },
   "outputs": [
    {
     "data": {
      "text/plain": [
       "0    False\n",
       "1    False\n",
       "2    False\n",
       "3    False\n",
       "4    False\n",
       "Name: quality, dtype: bool"
      ]
     },
     "execution_count": 37,
     "metadata": {},
     "output_type": "execute_result"
    }
   ],
   "source": [
    "mask_qa = df[\"quality\"] == 7\n",
    "mask_qa.head()"
   ]
  },
  {
   "cell_type": "code",
   "execution_count": 38,
   "id": "a615f207",
   "metadata": {
    "execution": {
     "iopub.execute_input": "2023-01-14T19:19:44.350843Z",
     "iopub.status.busy": "2023-01-14T19:19:44.349845Z",
     "iopub.status.idle": "2023-01-14T19:19:44.355849Z",
     "shell.execute_reply": "2023-01-14T19:19:44.354843Z"
    },
    "papermill": {
     "duration": 0.026777,
     "end_time": "2023-01-14T19:19:44.358340",
     "exception": false,
     "start_time": "2023-01-14T19:19:44.331563",
     "status": "completed"
    },
    "tags": []
   },
   "outputs": [],
   "source": [
    "def wrangle2(filepath):\n",
    "    df = pd.read_csv(filepath)\n",
    "    mask = df[\"quality\"] == 4 #7\n",
    "    df = df[mask]\n",
    "    return df"
   ]
  },
  {
   "cell_type": "code",
   "execution_count": 39,
   "id": "be6e3070",
   "metadata": {
    "execution": {
     "iopub.execute_input": "2023-01-14T19:19:44.395561Z",
     "iopub.status.busy": "2023-01-14T19:19:44.394149Z",
     "iopub.status.idle": "2023-01-14T19:19:44.424001Z",
     "shell.execute_reply": "2023-01-14T19:19:44.422524Z"
    },
    "papermill": {
     "duration": 0.051896,
     "end_time": "2023-01-14T19:19:44.427043",
     "exception": false,
     "start_time": "2023-01-14T19:19:44.375147",
     "status": "completed"
    },
    "tags": []
   },
   "outputs": [
    {
     "data": {
      "text/html": [
       "<div>\n",
       "<style scoped>\n",
       "    .dataframe tbody tr th:only-of-type {\n",
       "        vertical-align: middle;\n",
       "    }\n",
       "\n",
       "    .dataframe tbody tr th {\n",
       "        vertical-align: top;\n",
       "    }\n",
       "\n",
       "    .dataframe thead th {\n",
       "        text-align: right;\n",
       "    }\n",
       "</style>\n",
       "<table border=\"1\" class=\"dataframe\">\n",
       "  <thead>\n",
       "    <tr style=\"text-align: right;\">\n",
       "      <th></th>\n",
       "      <th>fixed acidity</th>\n",
       "      <th>volatile acidity</th>\n",
       "      <th>citric acid</th>\n",
       "      <th>residual sugar</th>\n",
       "      <th>chlorides</th>\n",
       "      <th>free sulfur dioxide</th>\n",
       "      <th>total sulfur dioxide</th>\n",
       "      <th>density</th>\n",
       "      <th>pH</th>\n",
       "      <th>sulphates</th>\n",
       "      <th>alcohol</th>\n",
       "      <th>quality</th>\n",
       "    </tr>\n",
       "  </thead>\n",
       "  <tbody>\n",
       "    <tr>\n",
       "      <th>18</th>\n",
       "      <td>7.4</td>\n",
       "      <td>0.590</td>\n",
       "      <td>0.08</td>\n",
       "      <td>4.4</td>\n",
       "      <td>0.086</td>\n",
       "      <td>6.0</td>\n",
       "      <td>29.0</td>\n",
       "      <td>0.9974</td>\n",
       "      <td>3.38</td>\n",
       "      <td>0.50</td>\n",
       "      <td>9.0</td>\n",
       "      <td>4</td>\n",
       "    </tr>\n",
       "    <tr>\n",
       "      <th>38</th>\n",
       "      <td>5.7</td>\n",
       "      <td>1.130</td>\n",
       "      <td>0.09</td>\n",
       "      <td>1.5</td>\n",
       "      <td>0.172</td>\n",
       "      <td>7.0</td>\n",
       "      <td>19.0</td>\n",
       "      <td>0.9940</td>\n",
       "      <td>3.50</td>\n",
       "      <td>0.48</td>\n",
       "      <td>9.8</td>\n",
       "      <td>4</td>\n",
       "    </tr>\n",
       "    <tr>\n",
       "      <th>41</th>\n",
       "      <td>8.8</td>\n",
       "      <td>0.610</td>\n",
       "      <td>0.30</td>\n",
       "      <td>2.8</td>\n",
       "      <td>0.088</td>\n",
       "      <td>17.0</td>\n",
       "      <td>46.0</td>\n",
       "      <td>0.9976</td>\n",
       "      <td>3.26</td>\n",
       "      <td>0.51</td>\n",
       "      <td>9.3</td>\n",
       "      <td>4</td>\n",
       "    </tr>\n",
       "    <tr>\n",
       "      <th>45</th>\n",
       "      <td>4.6</td>\n",
       "      <td>0.520</td>\n",
       "      <td>0.15</td>\n",
       "      <td>2.1</td>\n",
       "      <td>0.054</td>\n",
       "      <td>8.0</td>\n",
       "      <td>65.0</td>\n",
       "      <td>0.9934</td>\n",
       "      <td>3.90</td>\n",
       "      <td>0.56</td>\n",
       "      <td>13.1</td>\n",
       "      <td>4</td>\n",
       "    </tr>\n",
       "    <tr>\n",
       "      <th>73</th>\n",
       "      <td>8.3</td>\n",
       "      <td>0.675</td>\n",
       "      <td>0.26</td>\n",
       "      <td>2.1</td>\n",
       "      <td>0.084</td>\n",
       "      <td>11.0</td>\n",
       "      <td>43.0</td>\n",
       "      <td>0.9976</td>\n",
       "      <td>3.31</td>\n",
       "      <td>0.53</td>\n",
       "      <td>9.2</td>\n",
       "      <td>4</td>\n",
       "    </tr>\n",
       "  </tbody>\n",
       "</table>\n",
       "</div>"
      ],
      "text/plain": [
       "    fixed acidity  volatile acidity  citric acid  residual sugar  chlorides  \\\n",
       "18            7.4             0.590         0.08             4.4      0.086   \n",
       "38            5.7             1.130         0.09             1.5      0.172   \n",
       "41            8.8             0.610         0.30             2.8      0.088   \n",
       "45            4.6             0.520         0.15             2.1      0.054   \n",
       "73            8.3             0.675         0.26             2.1      0.084   \n",
       "\n",
       "    free sulfur dioxide  total sulfur dioxide  density    pH  sulphates  \\\n",
       "18                  6.0                  29.0   0.9974  3.38       0.50   \n",
       "38                  7.0                  19.0   0.9940  3.50       0.48   \n",
       "41                 17.0                  46.0   0.9976  3.26       0.51   \n",
       "45                  8.0                  65.0   0.9934  3.90       0.56   \n",
       "73                 11.0                  43.0   0.9976  3.31       0.53   \n",
       "\n",
       "    alcohol  quality  \n",
       "18      9.0        4  \n",
       "38      9.8        4  \n",
       "41      9.3        4  \n",
       "45     13.1        4  \n",
       "73      9.2        4  "
      ]
     },
     "execution_count": 39,
     "metadata": {},
     "output_type": "execute_result"
    }
   ],
   "source": [
    "df_test = wrangle2(\"/kaggle/input/red-wine-quality-cortez-et-al-2009/winequality-red.csv\")\n",
    "df_test.head()"
   ]
  },
  {
   "cell_type": "code",
   "execution_count": 40,
   "id": "003765e9",
   "metadata": {
    "execution": {
     "iopub.execute_input": "2023-01-14T19:19:44.465291Z",
     "iopub.status.busy": "2023-01-14T19:19:44.464003Z",
     "iopub.status.idle": "2023-01-14T19:19:44.488878Z",
     "shell.execute_reply": "2023-01-14T19:19:44.487332Z"
    },
    "papermill": {
     "duration": 0.046712,
     "end_time": "2023-01-14T19:19:44.491958",
     "exception": false,
     "start_time": "2023-01-14T19:19:44.445246",
     "status": "completed"
    },
    "tags": []
   },
   "outputs": [
    {
     "data": {
      "text/html": [
       "<div>\n",
       "<style scoped>\n",
       "    .dataframe tbody tr th:only-of-type {\n",
       "        vertical-align: middle;\n",
       "    }\n",
       "\n",
       "    .dataframe tbody tr th {\n",
       "        vertical-align: top;\n",
       "    }\n",
       "\n",
       "    .dataframe thead th {\n",
       "        text-align: right;\n",
       "    }\n",
       "</style>\n",
       "<table border=\"1\" class=\"dataframe\">\n",
       "  <thead>\n",
       "    <tr style=\"text-align: right;\">\n",
       "      <th></th>\n",
       "      <th>fixed acidity</th>\n",
       "      <th>volatile acidity</th>\n",
       "      <th>citric acid</th>\n",
       "      <th>residual sugar</th>\n",
       "      <th>chlorides</th>\n",
       "      <th>free sulfur dioxide</th>\n",
       "      <th>total sulfur dioxide</th>\n",
       "      <th>density</th>\n",
       "      <th>pH</th>\n",
       "      <th>sulphates</th>\n",
       "      <th>alcohol</th>\n",
       "      <th>quality</th>\n",
       "    </tr>\n",
       "  </thead>\n",
       "  <tbody>\n",
       "    <tr>\n",
       "      <th>1594</th>\n",
       "      <td>6.2</td>\n",
       "      <td>0.600</td>\n",
       "      <td>0.08</td>\n",
       "      <td>2.0</td>\n",
       "      <td>0.090</td>\n",
       "      <td>32.0</td>\n",
       "      <td>44.0</td>\n",
       "      <td>0.99490</td>\n",
       "      <td>3.45</td>\n",
       "      <td>0.58</td>\n",
       "      <td>10.5</td>\n",
       "      <td>5</td>\n",
       "    </tr>\n",
       "    <tr>\n",
       "      <th>1595</th>\n",
       "      <td>5.9</td>\n",
       "      <td>0.550</td>\n",
       "      <td>0.10</td>\n",
       "      <td>2.2</td>\n",
       "      <td>0.062</td>\n",
       "      <td>39.0</td>\n",
       "      <td>51.0</td>\n",
       "      <td>0.99512</td>\n",
       "      <td>3.52</td>\n",
       "      <td>0.76</td>\n",
       "      <td>11.2</td>\n",
       "      <td>6</td>\n",
       "    </tr>\n",
       "    <tr>\n",
       "      <th>1596</th>\n",
       "      <td>6.3</td>\n",
       "      <td>0.510</td>\n",
       "      <td>0.13</td>\n",
       "      <td>2.3</td>\n",
       "      <td>0.076</td>\n",
       "      <td>29.0</td>\n",
       "      <td>40.0</td>\n",
       "      <td>0.99574</td>\n",
       "      <td>3.42</td>\n",
       "      <td>0.75</td>\n",
       "      <td>11.0</td>\n",
       "      <td>6</td>\n",
       "    </tr>\n",
       "    <tr>\n",
       "      <th>1597</th>\n",
       "      <td>5.9</td>\n",
       "      <td>0.645</td>\n",
       "      <td>0.12</td>\n",
       "      <td>2.0</td>\n",
       "      <td>0.075</td>\n",
       "      <td>32.0</td>\n",
       "      <td>44.0</td>\n",
       "      <td>0.99547</td>\n",
       "      <td>3.57</td>\n",
       "      <td>0.71</td>\n",
       "      <td>10.2</td>\n",
       "      <td>5</td>\n",
       "    </tr>\n",
       "    <tr>\n",
       "      <th>1598</th>\n",
       "      <td>6.0</td>\n",
       "      <td>0.310</td>\n",
       "      <td>0.47</td>\n",
       "      <td>3.6</td>\n",
       "      <td>0.067</td>\n",
       "      <td>18.0</td>\n",
       "      <td>42.0</td>\n",
       "      <td>0.99549</td>\n",
       "      <td>3.39</td>\n",
       "      <td>0.66</td>\n",
       "      <td>11.0</td>\n",
       "      <td>6</td>\n",
       "    </tr>\n",
       "  </tbody>\n",
       "</table>\n",
       "</div>"
      ],
      "text/plain": [
       "      fixed acidity  volatile acidity  citric acid  residual sugar  chlorides  \\\n",
       "1594            6.2             0.600         0.08             2.0      0.090   \n",
       "1595            5.9             0.550         0.10             2.2      0.062   \n",
       "1596            6.3             0.510         0.13             2.3      0.076   \n",
       "1597            5.9             0.645         0.12             2.0      0.075   \n",
       "1598            6.0             0.310         0.47             3.6      0.067   \n",
       "\n",
       "      free sulfur dioxide  total sulfur dioxide  density    pH  sulphates  \\\n",
       "1594                 32.0                  44.0  0.99490  3.45       0.58   \n",
       "1595                 39.0                  51.0  0.99512  3.52       0.76   \n",
       "1596                 29.0                  40.0  0.99574  3.42       0.75   \n",
       "1597                 32.0                  44.0  0.99547  3.57       0.71   \n",
       "1598                 18.0                  42.0  0.99549  3.39       0.66   \n",
       "\n",
       "      alcohol  quality  \n",
       "1594     10.5        5  \n",
       "1595     11.2        6  \n",
       "1596     11.0        6  \n",
       "1597     10.2        5  \n",
       "1598     11.0        6  "
      ]
     },
     "execution_count": 40,
     "metadata": {},
     "output_type": "execute_result"
    }
   ],
   "source": [
    "df.tail()"
   ]
  }
 ],
 "metadata": {
  "kernelspec": {
   "display_name": "Python 3",
   "language": "python",
   "name": "python3"
  },
  "language_info": {
   "codemirror_mode": {
    "name": "ipython",
    "version": 3
   },
   "file_extension": ".py",
   "mimetype": "text/x-python",
   "name": "python",
   "nbconvert_exporter": "python",
   "pygments_lexer": "ipython3",
   "version": "3.7.12"
  },
  "papermill": {
   "default_parameters": {},
   "duration": 19.501431,
   "end_time": "2023-01-14T19:19:45.737094",
   "environment_variables": {},
   "exception": null,
   "input_path": "__notebook__.ipynb",
   "output_path": "__notebook__.ipynb",
   "parameters": {},
   "start_time": "2023-01-14T19:19:26.235663",
   "version": "2.3.4"
  }
 },
 "nbformat": 4,
 "nbformat_minor": 5
}
