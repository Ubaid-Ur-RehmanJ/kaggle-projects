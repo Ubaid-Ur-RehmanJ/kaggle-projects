{
 "cells": [
  {
   "cell_type": "code",
   "execution_count": 1,
   "id": "d585005a",
   "metadata": {
    "_cell_guid": "b1076dfc-b9ad-4769-8c92-a6c4dae69d19",
    "_uuid": "8f2839f25d086af736a60e9eeb907d3b93b6e0e5",
    "execution": {
     "iopub.execute_input": "2022-12-05T23:55:58.790330Z",
     "iopub.status.busy": "2022-12-05T23:55:58.789956Z",
     "iopub.status.idle": "2022-12-05T23:55:58.807115Z",
     "shell.execute_reply": "2022-12-05T23:55:58.806204Z"
    },
    "papermill": {
     "duration": 0.023994,
     "end_time": "2022-12-05T23:55:58.809574",
     "exception": false,
     "start_time": "2022-12-05T23:55:58.785580",
     "status": "completed"
    },
    "tags": []
   },
   "outputs": [
    {
     "name": "stdout",
     "output_type": "stream",
     "text": [
      "/kaggle/input/noway-meteorological-data/NorwayMeteoDataCompleted.csv\n"
     ]
    }
   ],
   "source": [
    "# This Python 3 environment comes with many helpful analytics libraries installed\n",
    "# It is defined by the kaggle/python Docker image: https://github.com/kaggle/docker-python\n",
    "# For example, here's several helpful packages to load\n",
    "\n",
    "import numpy as np # linear algebra\n",
    "import pandas as pd # data processing, CSV file I/O (e.g. pd.read_csv)\n",
    "\n",
    "# Input data files are available in the read-only \"../input/\" directory\n",
    "# For example, running this (by clicking run or pressing Shift+Enter) will list all files under the input directory\n",
    "\n",
    "import os\n",
    "for dirname, _, filenames in os.walk('/kaggle/input'):\n",
    "    for filename in filenames:\n",
    "        print(os.path.join(dirname, filename))\n",
    "\n",
    "# You can write up to 20GB to the current directory (/kaggle/working/) that gets preserved as output when you create a version using \"Save & Run All\" \n",
    "# You can also write temporary files to /kaggle/temp/, but they won't be saved outside of the current session"
   ]
  },
  {
   "cell_type": "code",
   "execution_count": 2,
   "id": "638ab4ef",
   "metadata": {
    "execution": {
     "iopub.execute_input": "2022-12-05T23:55:58.816538Z",
     "iopub.status.busy": "2022-12-05T23:55:58.815960Z",
     "iopub.status.idle": "2022-12-05T23:55:58.820259Z",
     "shell.execute_reply": "2022-12-05T23:55:58.819590Z"
    },
    "papermill": {
     "duration": 0.009391,
     "end_time": "2022-12-05T23:55:58.821971",
     "exception": false,
     "start_time": "2022-12-05T23:55:58.812580",
     "status": "completed"
    },
    "tags": []
   },
   "outputs": [],
   "source": [
    "import pandas as pd"
   ]
  },
  {
   "cell_type": "code",
   "execution_count": 3,
   "id": "6980030f",
   "metadata": {
    "execution": {
     "iopub.execute_input": "2022-12-05T23:55:58.828041Z",
     "iopub.status.busy": "2022-12-05T23:55:58.827501Z",
     "iopub.status.idle": "2022-12-05T23:55:58.831336Z",
     "shell.execute_reply": "2022-12-05T23:55:58.830494Z"
    },
    "papermill": {
     "duration": 0.00892,
     "end_time": "2022-12-05T23:55:58.833049",
     "exception": false,
     "start_time": "2022-12-05T23:55:58.824129",
     "status": "completed"
    },
    "tags": []
   },
   "outputs": [],
   "source": [
    "import numpy as np"
   ]
  },
  {
   "cell_type": "code",
   "execution_count": 4,
   "id": "b12175f6",
   "metadata": {
    "execution": {
     "iopub.execute_input": "2022-12-05T23:55:58.838702Z",
     "iopub.status.busy": "2022-12-05T23:55:58.838174Z",
     "iopub.status.idle": "2022-12-05T23:55:59.193132Z",
     "shell.execute_reply": "2022-12-05T23:55:59.192342Z"
    },
    "papermill": {
     "duration": 0.359621,
     "end_time": "2022-12-05T23:55:59.194812",
     "exception": false,
     "start_time": "2022-12-05T23:55:58.835191",
     "status": "completed"
    },
    "tags": []
   },
   "outputs": [
    {
     "data": {
      "text/html": [
       "<div>\n",
       "<style scoped>\n",
       "    .dataframe tbody tr th:only-of-type {\n",
       "        vertical-align: middle;\n",
       "    }\n",
       "\n",
       "    .dataframe tbody tr th {\n",
       "        vertical-align: top;\n",
       "    }\n",
       "\n",
       "    .dataframe thead th {\n",
       "        text-align: right;\n",
       "    }\n",
       "</style>\n",
       "<table border=\"1\" class=\"dataframe\">\n",
       "  <thead>\n",
       "    <tr style=\"text-align: right;\">\n",
       "      <th></th>\n",
       "      <th>Unnamed: 0</th>\n",
       "      <th>sourceId</th>\n",
       "      <th>latitude</th>\n",
       "      <th>longtitude</th>\n",
       "      <th>max(air_temperature P1D)</th>\n",
       "      <th>max(relative_humidity P1D)</th>\n",
       "      <th>max(wind_speed P1D)</th>\n",
       "      <th>mean(air_temperature P1D)</th>\n",
       "      <th>mean(relative_humidity P1D)</th>\n",
       "      <th>mean(wind_speed P1D)</th>\n",
       "      <th>sum(precipitation_amount P1D)</th>\n",
       "      <th>day</th>\n",
       "      <th>month</th>\n",
       "      <th>year</th>\n",
       "    </tr>\n",
       "  </thead>\n",
       "  <tbody>\n",
       "    <tr>\n",
       "      <th>0</th>\n",
       "      <td>0</td>\n",
       "      <td>SN100</td>\n",
       "      <td>61.134900</td>\n",
       "      <td>12.503900</td>\n",
       "      <td>NaN</td>\n",
       "      <td>NaN</td>\n",
       "      <td>NaN</td>\n",
       "      <td>NaN</td>\n",
       "      <td>NaN</td>\n",
       "      <td>NaN</td>\n",
       "      <td>0.4</td>\n",
       "      <td>1</td>\n",
       "      <td>1</td>\n",
       "      <td>2010</td>\n",
       "    </tr>\n",
       "    <tr>\n",
       "      <th>1</th>\n",
       "      <td>1</td>\n",
       "      <td>SN1135</td>\n",
       "      <td>58.990000</td>\n",
       "      <td>11.540800</td>\n",
       "      <td>NaN</td>\n",
       "      <td>NaN</td>\n",
       "      <td>NaN</td>\n",
       "      <td>NaN</td>\n",
       "      <td>NaN</td>\n",
       "      <td>NaN</td>\n",
       "      <td>NaN</td>\n",
       "      <td>1</td>\n",
       "      <td>1</td>\n",
       "      <td>2010</td>\n",
       "    </tr>\n",
       "    <tr>\n",
       "      <th>2</th>\n",
       "      <td>2</td>\n",
       "      <td>SN1151800</td>\n",
       "      <td>50.100278</td>\n",
       "      <td>14.255556</td>\n",
       "      <td>NaN</td>\n",
       "      <td>NaN</td>\n",
       "      <td>NaN</td>\n",
       "      <td>NaN</td>\n",
       "      <td>NaN</td>\n",
       "      <td>NaN</td>\n",
       "      <td>NaN</td>\n",
       "      <td>1</td>\n",
       "      <td>1</td>\n",
       "      <td>2010</td>\n",
       "    </tr>\n",
       "    <tr>\n",
       "      <th>3</th>\n",
       "      <td>3</td>\n",
       "      <td>SN15262</td>\n",
       "      <td>61.674000</td>\n",
       "      <td>8.368500</td>\n",
       "      <td>NaN</td>\n",
       "      <td>NaN</td>\n",
       "      <td>NaN</td>\n",
       "      <td>NaN</td>\n",
       "      <td>NaN</td>\n",
       "      <td>NaN</td>\n",
       "      <td>NaN</td>\n",
       "      <td>1</td>\n",
       "      <td>1</td>\n",
       "      <td>2010</td>\n",
       "    </tr>\n",
       "    <tr>\n",
       "      <th>4</th>\n",
       "      <td>4</td>\n",
       "      <td>SN1531000</td>\n",
       "      <td>45.473056</td>\n",
       "      <td>28.032222</td>\n",
       "      <td>NaN</td>\n",
       "      <td>NaN</td>\n",
       "      <td>NaN</td>\n",
       "      <td>NaN</td>\n",
       "      <td>NaN</td>\n",
       "      <td>NaN</td>\n",
       "      <td>NaN</td>\n",
       "      <td>1</td>\n",
       "      <td>1</td>\n",
       "      <td>2010</td>\n",
       "    </tr>\n",
       "  </tbody>\n",
       "</table>\n",
       "</div>"
      ],
      "text/plain": [
       "   Unnamed: 0   sourceId   latitude  longtitude  max(air_temperature P1D)  \\\n",
       "0           0      SN100  61.134900   12.503900                       NaN   \n",
       "1           1     SN1135  58.990000   11.540800                       NaN   \n",
       "2           2  SN1151800  50.100278   14.255556                       NaN   \n",
       "3           3    SN15262  61.674000    8.368500                       NaN   \n",
       "4           4  SN1531000  45.473056   28.032222                       NaN   \n",
       "\n",
       "   max(relative_humidity P1D)  max(wind_speed P1D)  mean(air_temperature P1D)  \\\n",
       "0                         NaN                  NaN                        NaN   \n",
       "1                         NaN                  NaN                        NaN   \n",
       "2                         NaN                  NaN                        NaN   \n",
       "3                         NaN                  NaN                        NaN   \n",
       "4                         NaN                  NaN                        NaN   \n",
       "\n",
       "   mean(relative_humidity P1D)  mean(wind_speed P1D)  \\\n",
       "0                          NaN                   NaN   \n",
       "1                          NaN                   NaN   \n",
       "2                          NaN                   NaN   \n",
       "3                          NaN                   NaN   \n",
       "4                          NaN                   NaN   \n",
       "\n",
       "   sum(precipitation_amount P1D)  day  month  year  \n",
       "0                            0.4    1      1  2010  \n",
       "1                            NaN    1      1  2010  \n",
       "2                            NaN    1      1  2010  \n",
       "3                            NaN    1      1  2010  \n",
       "4                            NaN    1      1  2010  "
      ]
     },
     "execution_count": 4,
     "metadata": {},
     "output_type": "execute_result"
    }
   ],
   "source": [
    "df = pd.read_csv(\"/kaggle/input/noway-meteorological-data/NorwayMeteoDataCompleted.csv\")\n",
    "df.head()"
   ]
  },
  {
   "cell_type": "code",
   "execution_count": 5,
   "id": "edbf2df6",
   "metadata": {
    "execution": {
     "iopub.execute_input": "2022-12-05T23:55:59.201171Z",
     "iopub.status.busy": "2022-12-05T23:55:59.200595Z",
     "iopub.status.idle": "2022-12-05T23:55:59.207382Z",
     "shell.execute_reply": "2022-12-05T23:55:59.206444Z"
    },
    "papermill": {
     "duration": 0.012382,
     "end_time": "2022-12-05T23:55:59.209769",
     "exception": false,
     "start_time": "2022-12-05T23:55:59.197387",
     "status": "completed"
    },
    "tags": []
   },
   "outputs": [
    {
     "data": {
      "text/plain": [
       "(237629, 14)"
      ]
     },
     "execution_count": 5,
     "metadata": {},
     "output_type": "execute_result"
    }
   ],
   "source": [
    "df.shape"
   ]
  },
  {
   "cell_type": "code",
   "execution_count": 6,
   "id": "828b2447",
   "metadata": {
    "execution": {
     "iopub.execute_input": "2022-12-05T23:55:59.216317Z",
     "iopub.status.busy": "2022-12-05T23:55:59.215968Z",
     "iopub.status.idle": "2022-12-05T23:55:59.236917Z",
     "shell.execute_reply": "2022-12-05T23:55:59.235623Z"
    },
    "papermill": {
     "duration": 0.027016,
     "end_time": "2022-12-05T23:55:59.239510",
     "exception": false,
     "start_time": "2022-12-05T23:55:59.212494",
     "status": "completed"
    },
    "tags": []
   },
   "outputs": [
    {
     "data": {
      "text/plain": [
       "Unnamed: 0                       0.000000\n",
       "sourceId                         0.000000\n",
       "latitude                         0.000000\n",
       "longtitude                       0.000000\n",
       "max(air_temperature P1D)         0.811614\n",
       "max(relative_humidity P1D)       0.844442\n",
       "max(wind_speed P1D)              0.851617\n",
       "mean(air_temperature P1D)        0.732562\n",
       "mean(relative_humidity P1D)      0.842566\n",
       "mean(wind_speed P1D)             0.851617\n",
       "sum(precipitation_amount P1D)    0.545775\n",
       "day                              0.000000\n",
       "month                            0.000000\n",
       "year                             0.000000\n",
       "dtype: float64"
      ]
     },
     "execution_count": 6,
     "metadata": {},
     "output_type": "execute_result"
    }
   ],
   "source": [
    "df.shape\n",
    "(df.isnull().sum()) / len(df)"
   ]
  }
 ],
 "metadata": {
  "kernelspec": {
   "display_name": "Python 3",
   "language": "python",
   "name": "python3"
  },
  "language_info": {
   "codemirror_mode": {
    "name": "ipython",
    "version": 3
   },
   "file_extension": ".py",
   "mimetype": "text/x-python",
   "name": "python",
   "nbconvert_exporter": "python",
   "pygments_lexer": "ipython3",
   "version": "3.7.12"
  },
  "papermill": {
   "default_parameters": {},
   "duration": 10.984294,
   "end_time": "2022-12-05T23:56:02.388052",
   "environment_variables": {},
   "exception": null,
   "input_path": "__notebook__.ipynb",
   "output_path": "__notebook__.ipynb",
   "parameters": {},
   "start_time": "2022-12-05T23:55:51.403758",
   "version": "2.3.4"
  }
 },
 "nbformat": 4,
 "nbformat_minor": 5
}
