{
 "cells": [
  {
   "cell_type": "code",
   "execution_count": 1,
   "id": "889697bd",
   "metadata": {
    "_cell_guid": "b1076dfc-b9ad-4769-8c92-a6c4dae69d19",
    "_uuid": "8f2839f25d086af736a60e9eeb907d3b93b6e0e5",
    "execution": {
     "iopub.execute_input": "2023-01-16T20:33:29.029503Z",
     "iopub.status.busy": "2023-01-16T20:33:29.028863Z",
     "iopub.status.idle": "2023-01-16T20:33:29.053536Z",
     "shell.execute_reply": "2023-01-16T20:33:29.051470Z"
    },
    "papermill": {
     "duration": 0.040358,
     "end_time": "2023-01-16T20:33:29.058194",
     "exception": false,
     "start_time": "2023-01-16T20:33:29.017836",
     "status": "completed"
    },
    "tags": []
   },
   "outputs": [
    {
     "name": "stdout",
     "output_type": "stream",
     "text": [
      "/kaggle/input/analyzing-screen-time/Screentime - App Details.csv\n",
      "/kaggle/input/analyzing-screen-time/Screentime - App Ranking.csv\n",
      "/kaggle/input/analyzing-screen-time/Screentime - Overall Usage.csv\n"
     ]
    }
   ],
   "source": [
    "# This Python 3 environment comes with many helpful analytics libraries installed\n",
    "# It is defined by the kaggle/python Docker image: https://github.com/kaggle/docker-python\n",
    "# For example, here's several helpful packages to load\n",
    "\n",
    "import numpy as np # linear algebra\n",
    "import pandas as pd # data processing, CSV file I/O (e.g. pd.read_csv)\n",
    "\n",
    "# Input data files are available in the read-only \"../input/\" directory\n",
    "# For example, running this (by clicking run or pressing Shift+Enter) will list all files under the input directory\n",
    "\n",
    "import os\n",
    "for dirname, _, filenames in os.walk('/kaggle/input'):\n",
    "    for filename in filenames:\n",
    "        print(os.path.join(dirname, filename))\n",
    "\n",
    "# You can write up to 20GB to the current directory (/kaggle/working/) that gets preserved as output when you create a version using \"Save & Run All\" \n",
    "# You can also write temporary files to /kaggle/temp/, but they won't be saved outside of the current session"
   ]
  },
  {
   "cell_type": "code",
   "execution_count": 2,
   "id": "12a01dd4",
   "metadata": {
    "execution": {
     "iopub.execute_input": "2023-01-16T20:33:29.076071Z",
     "iopub.status.busy": "2023-01-16T20:33:29.075634Z",
     "iopub.status.idle": "2023-01-16T20:33:30.446918Z",
     "shell.execute_reply": "2023-01-16T20:33:30.445677Z"
    },
    "papermill": {
     "duration": 1.383462,
     "end_time": "2023-01-16T20:33:30.449934",
     "exception": false,
     "start_time": "2023-01-16T20:33:29.066472",
     "status": "completed"
    },
    "tags": []
   },
   "outputs": [],
   "source": [
    "from glob import glob\n",
    "import pandas as pd\n",
    "import numpy as np\n",
    "import seaborn as sns\n",
    "import matplotlib.pyplot as plt"
   ]
  },
  {
   "cell_type": "code",
   "execution_count": 3,
   "id": "4184cf34",
   "metadata": {
    "execution": {
     "iopub.execute_input": "2023-01-16T20:33:30.465791Z",
     "iopub.status.busy": "2023-01-16T20:33:30.465347Z",
     "iopub.status.idle": "2023-01-16T20:33:30.497193Z",
     "shell.execute_reply": "2023-01-16T20:33:30.496099Z"
    },
    "papermill": {
     "duration": 0.043842,
     "end_time": "2023-01-16T20:33:30.500498",
     "exception": false,
     "start_time": "2023-01-16T20:33:30.456656",
     "status": "completed"
    },
    "tags": []
   },
   "outputs": [
    {
     "data": {
      "text/html": [
       "<div>\n",
       "<style scoped>\n",
       "    .dataframe tbody tr th:only-of-type {\n",
       "        vertical-align: middle;\n",
       "    }\n",
       "\n",
       "    .dataframe tbody tr th {\n",
       "        vertical-align: top;\n",
       "    }\n",
       "\n",
       "    .dataframe thead th {\n",
       "        text-align: right;\n",
       "    }\n",
       "</style>\n",
       "<table border=\"1\" class=\"dataframe\">\n",
       "  <thead>\n",
       "    <tr style=\"text-align: right;\">\n",
       "      <th></th>\n",
       "      <th>Date</th>\n",
       "      <th>Usage</th>\n",
       "      <th>Notifications</th>\n",
       "      <th>Times opened</th>\n",
       "      <th>App</th>\n",
       "    </tr>\n",
       "  </thead>\n",
       "  <tbody>\n",
       "    <tr>\n",
       "      <th>0</th>\n",
       "      <td>08/26/2022</td>\n",
       "      <td>38</td>\n",
       "      <td>70</td>\n",
       "      <td>49</td>\n",
       "      <td>Instagram</td>\n",
       "    </tr>\n",
       "    <tr>\n",
       "      <th>1</th>\n",
       "      <td>08/27/2022</td>\n",
       "      <td>39</td>\n",
       "      <td>43</td>\n",
       "      <td>48</td>\n",
       "      <td>Instagram</td>\n",
       "    </tr>\n",
       "    <tr>\n",
       "      <th>2</th>\n",
       "      <td>08/28/2022</td>\n",
       "      <td>64</td>\n",
       "      <td>231</td>\n",
       "      <td>55</td>\n",
       "      <td>Instagram</td>\n",
       "    </tr>\n",
       "    <tr>\n",
       "      <th>3</th>\n",
       "      <td>08/29/2022</td>\n",
       "      <td>14</td>\n",
       "      <td>35</td>\n",
       "      <td>23</td>\n",
       "      <td>Instagram</td>\n",
       "    </tr>\n",
       "    <tr>\n",
       "      <th>4</th>\n",
       "      <td>08/30/2022</td>\n",
       "      <td>3</td>\n",
       "      <td>19</td>\n",
       "      <td>5</td>\n",
       "      <td>Instagram</td>\n",
       "    </tr>\n",
       "  </tbody>\n",
       "</table>\n",
       "</div>"
      ],
      "text/plain": [
       "         Date  Usage  Notifications  Times opened        App\n",
       "0  08/26/2022     38             70            49  Instagram\n",
       "1  08/27/2022     39             43            48  Instagram\n",
       "2  08/28/2022     64            231            55  Instagram\n",
       "3  08/29/2022     14             35            23  Instagram\n",
       "4  08/30/2022      3             19             5  Instagram"
      ]
     },
     "execution_count": 3,
     "metadata": {},
     "output_type": "execute_result"
    }
   ],
   "source": [
    "df_details = pd.read_csv(\"/kaggle/input/analyzing-screen-time/Screentime - App Details.csv\")\n",
    "df_details.head()"
   ]
  },
  {
   "cell_type": "code",
   "execution_count": 4,
   "id": "d8896371",
   "metadata": {
    "execution": {
     "iopub.execute_input": "2023-01-16T20:33:30.516935Z",
     "iopub.status.busy": "2023-01-16T20:33:30.516507Z",
     "iopub.status.idle": "2023-01-16T20:33:30.533015Z",
     "shell.execute_reply": "2023-01-16T20:33:30.531740Z"
    },
    "papermill": {
     "duration": 0.027674,
     "end_time": "2023-01-16T20:33:30.535556",
     "exception": false,
     "start_time": "2023-01-16T20:33:30.507882",
     "status": "completed"
    },
    "tags": []
   },
   "outputs": [
    {
     "data": {
      "text/html": [
       "<div>\n",
       "<style scoped>\n",
       "    .dataframe tbody tr th:only-of-type {\n",
       "        vertical-align: middle;\n",
       "    }\n",
       "\n",
       "    .dataframe tbody tr th {\n",
       "        vertical-align: top;\n",
       "    }\n",
       "\n",
       "    .dataframe thead th {\n",
       "        text-align: right;\n",
       "    }\n",
       "</style>\n",
       "<table border=\"1\" class=\"dataframe\">\n",
       "  <thead>\n",
       "    <tr style=\"text-align: right;\">\n",
       "      <th></th>\n",
       "      <th>Date</th>\n",
       "      <th>Rank 1</th>\n",
       "      <th>Rank 2</th>\n",
       "      <th>Rank 3</th>\n",
       "    </tr>\n",
       "  </thead>\n",
       "  <tbody>\n",
       "    <tr>\n",
       "      <th>0</th>\n",
       "      <td>08/26/2022</td>\n",
       "      <td>Whatsapp</td>\n",
       "      <td>Instagram</td>\n",
       "      <td>Netflix</td>\n",
       "    </tr>\n",
       "    <tr>\n",
       "      <th>1</th>\n",
       "      <td>08/27/2022</td>\n",
       "      <td>Whatsapp</td>\n",
       "      <td>Instagram</td>\n",
       "      <td>Chrome</td>\n",
       "    </tr>\n",
       "    <tr>\n",
       "      <th>2</th>\n",
       "      <td>08/28/2022</td>\n",
       "      <td>Whatsapp</td>\n",
       "      <td>Instagram</td>\n",
       "      <td>WeChat</td>\n",
       "    </tr>\n",
       "    <tr>\n",
       "      <th>3</th>\n",
       "      <td>08/29/2022</td>\n",
       "      <td>Whatsapp</td>\n",
       "      <td>Chrome</td>\n",
       "      <td>WeChat</td>\n",
       "    </tr>\n",
       "    <tr>\n",
       "      <th>4</th>\n",
       "      <td>08/30/2022</td>\n",
       "      <td>Whatsapp</td>\n",
       "      <td>LinkedIn</td>\n",
       "      <td>Chrome</td>\n",
       "    </tr>\n",
       "  </tbody>\n",
       "</table>\n",
       "</div>"
      ],
      "text/plain": [
       "        Date     Rank 1     Rank 2   Rank 3\n",
       "0  08/26/2022  Whatsapp  Instagram  Netflix\n",
       "1  08/27/2022  Whatsapp  Instagram   Chrome\n",
       "2  08/28/2022  Whatsapp  Instagram   WeChat\n",
       "3  08/29/2022  Whatsapp     Chrome   WeChat\n",
       "4  08/30/2022  Whatsapp   LinkedIn   Chrome"
      ]
     },
     "execution_count": 4,
     "metadata": {},
     "output_type": "execute_result"
    }
   ],
   "source": [
    "df_rankings = pd.read_csv(\"/kaggle/input/analyzing-screen-time/Screentime - App Ranking.csv\")\n",
    "df_rankings.head()"
   ]
  },
  {
   "cell_type": "code",
   "execution_count": 5,
   "id": "65a3820e",
   "metadata": {
    "execution": {
     "iopub.execute_input": "2023-01-16T20:33:30.552910Z",
     "iopub.status.busy": "2023-01-16T20:33:30.552508Z",
     "iopub.status.idle": "2023-01-16T20:33:30.568839Z",
     "shell.execute_reply": "2023-01-16T20:33:30.567638Z"
    },
    "papermill": {
     "duration": 0.028915,
     "end_time": "2023-01-16T20:33:30.571670",
     "exception": false,
     "start_time": "2023-01-16T20:33:30.542755",
     "status": "completed"
    },
    "tags": []
   },
   "outputs": [
    {
     "data": {
      "text/html": [
       "<div>\n",
       "<style scoped>\n",
       "    .dataframe tbody tr th:only-of-type {\n",
       "        vertical-align: middle;\n",
       "    }\n",
       "\n",
       "    .dataframe tbody tr th {\n",
       "        vertical-align: top;\n",
       "    }\n",
       "\n",
       "    .dataframe thead th {\n",
       "        text-align: right;\n",
       "    }\n",
       "</style>\n",
       "<table border=\"1\" class=\"dataframe\">\n",
       "  <thead>\n",
       "    <tr style=\"text-align: right;\">\n",
       "      <th></th>\n",
       "      <th>Date</th>\n",
       "      <th>Total Usage</th>\n",
       "      <th>Notifications</th>\n",
       "      <th>Unlocks</th>\n",
       "    </tr>\n",
       "  </thead>\n",
       "  <tbody>\n",
       "    <tr>\n",
       "      <th>0</th>\n",
       "      <td>08/26/2022</td>\n",
       "      <td>236</td>\n",
       "      <td>600</td>\n",
       "      <td>102</td>\n",
       "    </tr>\n",
       "    <tr>\n",
       "      <th>1</th>\n",
       "      <td>08/27/2022</td>\n",
       "      <td>194</td>\n",
       "      <td>411</td>\n",
       "      <td>96</td>\n",
       "    </tr>\n",
       "    <tr>\n",
       "      <th>2</th>\n",
       "      <td>08/28/2022</td>\n",
       "      <td>301</td>\n",
       "      <td>709</td>\n",
       "      <td>114</td>\n",
       "    </tr>\n",
       "    <tr>\n",
       "      <th>3</th>\n",
       "      <td>08/29/2022</td>\n",
       "      <td>190</td>\n",
       "      <td>542</td>\n",
       "      <td>119</td>\n",
       "    </tr>\n",
       "    <tr>\n",
       "      <th>4</th>\n",
       "      <td>08/30/2022</td>\n",
       "      <td>204</td>\n",
       "      <td>583</td>\n",
       "      <td>85</td>\n",
       "    </tr>\n",
       "  </tbody>\n",
       "</table>\n",
       "</div>"
      ],
      "text/plain": [
       "        Date   Total Usage  Notifications  Unlocks\n",
       "0  08/26/2022          236            600      102\n",
       "1  08/27/2022          194            411       96\n",
       "2  08/28/2022          301            709      114\n",
       "3  08/29/2022          190            542      119\n",
       "4  08/30/2022          204            583       85"
      ]
     },
     "execution_count": 5,
     "metadata": {},
     "output_type": "execute_result"
    }
   ],
   "source": [
    "df_overall = pd.read_csv(\"/kaggle/input/analyzing-screen-time/Screentime - Overall Usage.csv\")\n",
    "df_overall.head()"
   ]
  },
  {
   "cell_type": "code",
   "execution_count": 6,
   "id": "ea623f50",
   "metadata": {
    "execution": {
     "iopub.execute_input": "2023-01-16T20:33:30.589685Z",
     "iopub.status.busy": "2023-01-16T20:33:30.588675Z",
     "iopub.status.idle": "2023-01-16T20:33:30.593742Z",
     "shell.execute_reply": "2023-01-16T20:33:30.592612Z"
    },
    "papermill": {
     "duration": 0.016724,
     "end_time": "2023-01-16T20:33:30.596400",
     "exception": false,
     "start_time": "2023-01-16T20:33:30.579676",
     "status": "completed"
    },
    "tags": []
   },
   "outputs": [],
   "source": [
    "def wrangle(filepath):\n",
    "    df = pd.read_csv(filepath)\n",
    "    return df"
   ]
  },
  {
   "cell_type": "code",
   "execution_count": 7,
   "id": "33c4285c",
   "metadata": {
    "execution": {
     "iopub.execute_input": "2023-01-16T20:33:30.613583Z",
     "iopub.status.busy": "2023-01-16T20:33:30.612858Z",
     "iopub.status.idle": "2023-01-16T20:33:30.618676Z",
     "shell.execute_reply": "2023-01-16T20:33:30.617783Z"
    },
    "papermill": {
     "duration": 0.017222,
     "end_time": "2023-01-16T20:33:30.621179",
     "exception": false,
     "start_time": "2023-01-16T20:33:30.603957",
     "status": "completed"
    },
    "tags": []
   },
   "outputs": [],
   "source": [
    "files = glob(\"/kaggle/input/analyzing-screen-time/Screentime - *.csv\")"
   ]
  },
  {
   "cell_type": "code",
   "execution_count": 8,
   "id": "332ba90a",
   "metadata": {
    "execution": {
     "iopub.execute_input": "2023-01-16T20:33:30.639858Z",
     "iopub.status.busy": "2023-01-16T20:33:30.638927Z",
     "iopub.status.idle": "2023-01-16T20:33:30.652660Z",
     "shell.execute_reply": "2023-01-16T20:33:30.651445Z"
    },
    "papermill": {
     "duration": 0.026689,
     "end_time": "2023-01-16T20:33:30.655327",
     "exception": false,
     "start_time": "2023-01-16T20:33:30.628638",
     "status": "completed"
    },
    "tags": []
   },
   "outputs": [],
   "source": [
    "frames = []\n",
    "for file in files:\n",
    "    df = wrangle(file)\n",
    "    frames.append(df)\n",
    "    "
   ]
  },
  {
   "cell_type": "code",
   "execution_count": 9,
   "id": "c6bb19f1",
   "metadata": {
    "execution": {
     "iopub.execute_input": "2023-01-16T20:33:30.673158Z",
     "iopub.status.busy": "2023-01-16T20:33:30.672430Z",
     "iopub.status.idle": "2023-01-16T20:33:30.698665Z",
     "shell.execute_reply": "2023-01-16T20:33:30.697710Z"
    },
    "papermill": {
     "duration": 0.038014,
     "end_time": "2023-01-16T20:33:30.701018",
     "exception": false,
     "start_time": "2023-01-16T20:33:30.663004",
     "status": "completed"
    },
    "tags": []
   },
   "outputs": [
    {
     "data": {
      "text/html": [
       "<div>\n",
       "<style scoped>\n",
       "    .dataframe tbody tr th:only-of-type {\n",
       "        vertical-align: middle;\n",
       "    }\n",
       "\n",
       "    .dataframe tbody tr th {\n",
       "        vertical-align: top;\n",
       "    }\n",
       "\n",
       "    .dataframe thead th {\n",
       "        text-align: right;\n",
       "    }\n",
       "</style>\n",
       "<table border=\"1\" class=\"dataframe\">\n",
       "  <thead>\n",
       "    <tr style=\"text-align: right;\">\n",
       "      <th></th>\n",
       "      <th>Date</th>\n",
       "      <th>Usage</th>\n",
       "      <th>Notifications</th>\n",
       "      <th>Times opened</th>\n",
       "      <th>App</th>\n",
       "      <th>Date</th>\n",
       "      <th>Rank 1</th>\n",
       "      <th>Rank 2</th>\n",
       "      <th>Rank 3</th>\n",
       "      <th>Total Usage</th>\n",
       "      <th>Unlocks</th>\n",
       "    </tr>\n",
       "  </thead>\n",
       "  <tbody>\n",
       "    <tr>\n",
       "      <th>0</th>\n",
       "      <td>08/26/2022</td>\n",
       "      <td>38.0</td>\n",
       "      <td>70.0</td>\n",
       "      <td>49.0</td>\n",
       "      <td>Instagram</td>\n",
       "      <td>NaN</td>\n",
       "      <td>NaN</td>\n",
       "      <td>NaN</td>\n",
       "      <td>NaN</td>\n",
       "      <td>NaN</td>\n",
       "      <td>NaN</td>\n",
       "    </tr>\n",
       "    <tr>\n",
       "      <th>1</th>\n",
       "      <td>08/27/2022</td>\n",
       "      <td>39.0</td>\n",
       "      <td>43.0</td>\n",
       "      <td>48.0</td>\n",
       "      <td>Instagram</td>\n",
       "      <td>NaN</td>\n",
       "      <td>NaN</td>\n",
       "      <td>NaN</td>\n",
       "      <td>NaN</td>\n",
       "      <td>NaN</td>\n",
       "      <td>NaN</td>\n",
       "    </tr>\n",
       "    <tr>\n",
       "      <th>2</th>\n",
       "      <td>08/28/2022</td>\n",
       "      <td>64.0</td>\n",
       "      <td>231.0</td>\n",
       "      <td>55.0</td>\n",
       "      <td>Instagram</td>\n",
       "      <td>NaN</td>\n",
       "      <td>NaN</td>\n",
       "      <td>NaN</td>\n",
       "      <td>NaN</td>\n",
       "      <td>NaN</td>\n",
       "      <td>NaN</td>\n",
       "    </tr>\n",
       "    <tr>\n",
       "      <th>3</th>\n",
       "      <td>08/29/2022</td>\n",
       "      <td>14.0</td>\n",
       "      <td>35.0</td>\n",
       "      <td>23.0</td>\n",
       "      <td>Instagram</td>\n",
       "      <td>NaN</td>\n",
       "      <td>NaN</td>\n",
       "      <td>NaN</td>\n",
       "      <td>NaN</td>\n",
       "      <td>NaN</td>\n",
       "      <td>NaN</td>\n",
       "    </tr>\n",
       "    <tr>\n",
       "      <th>4</th>\n",
       "      <td>08/30/2022</td>\n",
       "      <td>3.0</td>\n",
       "      <td>19.0</td>\n",
       "      <td>5.0</td>\n",
       "      <td>Instagram</td>\n",
       "      <td>NaN</td>\n",
       "      <td>NaN</td>\n",
       "      <td>NaN</td>\n",
       "      <td>NaN</td>\n",
       "      <td>NaN</td>\n",
       "      <td>NaN</td>\n",
       "    </tr>\n",
       "  </tbody>\n",
       "</table>\n",
       "</div>"
      ],
      "text/plain": [
       "         Date  Usage  Notifications  Times opened        App Date  Rank 1  \\\n",
       "0  08/26/2022   38.0           70.0          49.0  Instagram   NaN    NaN   \n",
       "1  08/27/2022   39.0           43.0          48.0  Instagram   NaN    NaN   \n",
       "2  08/28/2022   64.0          231.0          55.0  Instagram   NaN    NaN   \n",
       "3  08/29/2022   14.0           35.0          23.0  Instagram   NaN    NaN   \n",
       "4  08/30/2022    3.0           19.0           5.0  Instagram   NaN    NaN   \n",
       "\n",
       "  Rank 2 Rank 3  Total Usage  Unlocks  \n",
       "0    NaN    NaN          NaN      NaN  \n",
       "1    NaN    NaN          NaN      NaN  \n",
       "2    NaN    NaN          NaN      NaN  \n",
       "3    NaN    NaN          NaN      NaN  \n",
       "4    NaN    NaN          NaN      NaN  "
      ]
     },
     "execution_count": 9,
     "metadata": {},
     "output_type": "execute_result"
    }
   ],
   "source": [
    "df = pd.concat(frames, ignore_index = True)\n",
    "df.head()"
   ]
  },
  {
   "cell_type": "code",
   "execution_count": 10,
   "id": "005e88a6",
   "metadata": {
    "execution": {
     "iopub.execute_input": "2023-01-16T20:33:30.718906Z",
     "iopub.status.busy": "2023-01-16T20:33:30.718277Z",
     "iopub.status.idle": "2023-01-16T20:33:30.728648Z",
     "shell.execute_reply": "2023-01-16T20:33:30.727839Z"
    },
    "papermill": {
     "duration": 0.021837,
     "end_time": "2023-01-16T20:33:30.730814",
     "exception": false,
     "start_time": "2023-01-16T20:33:30.708977",
     "status": "completed"
    },
    "tags": []
   },
   "outputs": [
    {
     "data": {
      "text/plain": [
       "Date             0.50\n",
       "Usage            0.50\n",
       "Notifications    0.25\n",
       "Times opened     0.50\n",
       "App              0.50\n",
       "Date             0.50\n",
       "Rank 1           0.75\n",
       "Rank 2           0.75\n",
       "Rank 3           0.75\n",
       "Total Usage      0.75\n",
       "Unlocks          0.75\n",
       "dtype: float64"
      ]
     },
     "execution_count": 10,
     "metadata": {},
     "output_type": "execute_result"
    }
   ],
   "source": [
    "df.isnull().sum() / len(df)"
   ]
  },
  {
   "cell_type": "markdown",
   "id": "55658f2f",
   "metadata": {
    "papermill": {
     "duration": 0.00733,
     "end_time": "2023-01-16T20:33:30.745803",
     "exception": false,
     "start_time": "2023-01-16T20:33:30.738473",
     "status": "completed"
    },
    "tags": []
   },
   "source": [
    "**Over all Usage**\n",
    "*Check if there is any corelation b/w number of notifications and the number of times the user opens an app*\n",
    "*Does usage have a correlation with the number of notifications?*"
   ]
  },
  {
   "cell_type": "code",
   "execution_count": 11,
   "id": "cd04a5bd",
   "metadata": {
    "execution": {
     "iopub.execute_input": "2023-01-16T20:33:30.764441Z",
     "iopub.status.busy": "2023-01-16T20:33:30.763704Z",
     "iopub.status.idle": "2023-01-16T20:33:30.774782Z",
     "shell.execute_reply": "2023-01-16T20:33:30.773805Z"
    },
    "papermill": {
     "duration": 0.023212,
     "end_time": "2023-01-16T20:33:30.777235",
     "exception": false,
     "start_time": "2023-01-16T20:33:30.754023",
     "status": "completed"
    },
    "tags": []
   },
   "outputs": [
    {
     "data": {
      "text/html": [
       "<div>\n",
       "<style scoped>\n",
       "    .dataframe tbody tr th:only-of-type {\n",
       "        vertical-align: middle;\n",
       "    }\n",
       "\n",
       "    .dataframe tbody tr th {\n",
       "        vertical-align: top;\n",
       "    }\n",
       "\n",
       "    .dataframe thead th {\n",
       "        text-align: right;\n",
       "    }\n",
       "</style>\n",
       "<table border=\"1\" class=\"dataframe\">\n",
       "  <thead>\n",
       "    <tr style=\"text-align: right;\">\n",
       "      <th></th>\n",
       "      <th>Date</th>\n",
       "      <th>Total Usage</th>\n",
       "      <th>Notifications</th>\n",
       "      <th>Unlocks</th>\n",
       "    </tr>\n",
       "  </thead>\n",
       "  <tbody>\n",
       "    <tr>\n",
       "      <th>0</th>\n",
       "      <td>08/26/2022</td>\n",
       "      <td>236</td>\n",
       "      <td>600</td>\n",
       "      <td>102</td>\n",
       "    </tr>\n",
       "    <tr>\n",
       "      <th>1</th>\n",
       "      <td>08/27/2022</td>\n",
       "      <td>194</td>\n",
       "      <td>411</td>\n",
       "      <td>96</td>\n",
       "    </tr>\n",
       "    <tr>\n",
       "      <th>2</th>\n",
       "      <td>08/28/2022</td>\n",
       "      <td>301</td>\n",
       "      <td>709</td>\n",
       "      <td>114</td>\n",
       "    </tr>\n",
       "    <tr>\n",
       "      <th>3</th>\n",
       "      <td>08/29/2022</td>\n",
       "      <td>190</td>\n",
       "      <td>542</td>\n",
       "      <td>119</td>\n",
       "    </tr>\n",
       "    <tr>\n",
       "      <th>4</th>\n",
       "      <td>08/30/2022</td>\n",
       "      <td>204</td>\n",
       "      <td>583</td>\n",
       "      <td>85</td>\n",
       "    </tr>\n",
       "  </tbody>\n",
       "</table>\n",
       "</div>"
      ],
      "text/plain": [
       "        Date   Total Usage  Notifications  Unlocks\n",
       "0  08/26/2022          236            600      102\n",
       "1  08/27/2022          194            411       96\n",
       "2  08/28/2022          301            709      114\n",
       "3  08/29/2022          190            542      119\n",
       "4  08/30/2022          204            583       85"
      ]
     },
     "execution_count": 11,
     "metadata": {},
     "output_type": "execute_result"
    }
   ],
   "source": [
    "df_overall.head()"
   ]
  },
  {
   "cell_type": "code",
   "execution_count": 12,
   "id": "677f1a86",
   "metadata": {
    "execution": {
     "iopub.execute_input": "2023-01-16T20:33:30.794506Z",
     "iopub.status.busy": "2023-01-16T20:33:30.794062Z",
     "iopub.status.idle": "2023-01-16T20:33:30.803015Z",
     "shell.execute_reply": "2023-01-16T20:33:30.802166Z"
    },
    "papermill": {
     "duration": 0.020061,
     "end_time": "2023-01-16T20:33:30.804981",
     "exception": false,
     "start_time": "2023-01-16T20:33:30.784920",
     "status": "completed"
    },
    "tags": []
   },
   "outputs": [
    {
     "data": {
      "text/plain": [
       "Date             0.0\n",
       "Total Usage      0.0\n",
       "Notifications    0.0\n",
       "Unlocks          0.0\n",
       "dtype: float64"
      ]
     },
     "execution_count": 12,
     "metadata": {},
     "output_type": "execute_result"
    }
   ],
   "source": [
    "df_overall.isnull().sum() /len(df_overall)"
   ]
  },
  {
   "cell_type": "code",
   "execution_count": 13,
   "id": "211caf9c",
   "metadata": {
    "execution": {
     "iopub.execute_input": "2023-01-16T20:33:30.823563Z",
     "iopub.status.busy": "2023-01-16T20:33:30.822178Z",
     "iopub.status.idle": "2023-01-16T20:33:30.836611Z",
     "shell.execute_reply": "2023-01-16T20:33:30.835384Z"
    },
    "papermill": {
     "duration": 0.02666,
     "end_time": "2023-01-16T20:33:30.839437",
     "exception": false,
     "start_time": "2023-01-16T20:33:30.812777",
     "status": "completed"
    },
    "tags": []
   },
   "outputs": [
    {
     "data": {
      "text/plain": [
       "Date             27\n",
       "Total Usage      27\n",
       "Notifications    27\n",
       "Unlocks          26\n",
       "dtype: int64"
      ]
     },
     "execution_count": 13,
     "metadata": {},
     "output_type": "execute_result"
    }
   ],
   "source": [
    "df_overall.nunique()"
   ]
  },
  {
   "cell_type": "code",
   "execution_count": 14,
   "id": "a3fc5f0d",
   "metadata": {
    "execution": {
     "iopub.execute_input": "2023-01-16T20:33:30.859601Z",
     "iopub.status.busy": "2023-01-16T20:33:30.859149Z",
     "iopub.status.idle": "2023-01-16T20:33:30.872636Z",
     "shell.execute_reply": "2023-01-16T20:33:30.871710Z"
    },
    "papermill": {
     "duration": 0.02604,
     "end_time": "2023-01-16T20:33:30.874977",
     "exception": false,
     "start_time": "2023-01-16T20:33:30.848937",
     "status": "completed"
    },
    "tags": []
   },
   "outputs": [
    {
     "data": {
      "text/plain": [
       "0.7573417266521896"
      ]
     },
     "execution_count": 14,
     "metadata": {},
     "output_type": "execute_result"
    }
   ],
   "source": [
    "corr_not_with_usage = df_overall[\"Notifications\"].corr(df_overall[\"Total Usage\"])\n",
    "corr_not_with_usage"
   ]
  },
  {
   "cell_type": "code",
   "execution_count": 15,
   "id": "bce6d47a",
   "metadata": {
    "execution": {
     "iopub.execute_input": "2023-01-16T20:33:30.893982Z",
     "iopub.status.busy": "2023-01-16T20:33:30.893143Z",
     "iopub.status.idle": "2023-01-16T20:33:30.899299Z",
     "shell.execute_reply": "2023-01-16T20:33:30.898299Z"
    },
    "papermill": {
     "duration": 0.018711,
     "end_time": "2023-01-16T20:33:30.901990",
     "exception": false,
     "start_time": "2023-01-16T20:33:30.883279",
     "status": "completed"
    },
    "tags": []
   },
   "outputs": [],
   "source": [
    "corr_not_with_unlocks = df_overall[\"Notifications\"].corr(df_overall[\"Unlocks\"])"
   ]
  },
  {
   "cell_type": "code",
   "execution_count": 16,
   "id": "84306745",
   "metadata": {
    "execution": {
     "iopub.execute_input": "2023-01-16T20:33:30.920628Z",
     "iopub.status.busy": "2023-01-16T20:33:30.919627Z",
     "iopub.status.idle": "2023-01-16T20:33:30.925869Z",
     "shell.execute_reply": "2023-01-16T20:33:30.924472Z"
    },
    "papermill": {
     "duration": 0.018202,
     "end_time": "2023-01-16T20:33:30.928471",
     "exception": false,
     "start_time": "2023-01-16T20:33:30.910269",
     "status": "completed"
    },
    "tags": []
   },
   "outputs": [
    {
     "name": "stdout",
     "output_type": "stream",
     "text": [
      "The corelation b/w notification & usage is  0.7573417266521896\n",
      "The corelation b/w notification & unlocking of app is  0.5739835762444749\n"
     ]
    }
   ],
   "source": [
    "print(\"The corelation b/w notification & usage is \", corr_not_with_usage)\n",
    "print(\"The corelation b/w notification & unlocking of app is \", corr_not_with_unlocks)"
   ]
  },
  {
   "cell_type": "code",
   "execution_count": 17,
   "id": "84da4be6",
   "metadata": {
    "execution": {
     "iopub.execute_input": "2023-01-16T20:33:30.948423Z",
     "iopub.status.busy": "2023-01-16T20:33:30.946977Z",
     "iopub.status.idle": "2023-01-16T20:33:33.431766Z",
     "shell.execute_reply": "2023-01-16T20:33:33.430562Z"
    },
    "papermill": {
     "duration": 2.497437,
     "end_time": "2023-01-16T20:33:33.434303",
     "exception": false,
     "start_time": "2023-01-16T20:33:30.936866",
     "status": "completed"
    },
    "tags": []
   },
   "outputs": [
    {
     "data": {
      "text/html": [
       "        <script type=\"text/javascript\">\n",
       "        window.PlotlyConfig = {MathJaxConfig: 'local'};\n",
       "        if (window.MathJax && window.MathJax.Hub && window.MathJax.Hub.Config) {window.MathJax.Hub.Config({SVG: {font: \"STIX-Web\"}});}\n",
       "        if (typeof require !== 'undefined') {\n",
       "        require.undef(\"plotly\");\n",
       "        requirejs.config({\n",
       "            paths: {\n",
       "                'plotly': ['https://cdn.plot.ly/plotly-2.16.1.min']\n",
       "            }\n",
       "        });\n",
       "        require(['plotly'], function(Plotly) {\n",
       "            window._Plotly = Plotly;\n",
       "        });\n",
       "        }\n",
       "        </script>\n",
       "        "
      ]
     },
     "metadata": {},
     "output_type": "display_data"
    },
    {
     "data": {
      "text/html": [
       "<div>                            <div id=\"f8abfa28-5e0b-4059-811c-70721e5587f7\" class=\"plotly-graph-div\" style=\"height:525px; width:100%;\"></div>            <script type=\"text/javascript\">                require([\"plotly\"], function(Plotly) {                    window.PLOTLYENV=window.PLOTLYENV || {};                                    if (document.getElementById(\"f8abfa28-5e0b-4059-811c-70721e5587f7\")) {                    Plotly.newPlot(                        \"f8abfa28-5e0b-4059-811c-70721e5587f7\",                        [{\"alignmentgroup\":\"True\",\"hovertemplate\":\"x=%{x}<br>y=%{y}<extra></extra>\",\"legendgroup\":\"\",\"marker\":{\"color\":\"#636efa\",\"pattern\":{\"shape\":\"\"}},\"name\":\"\",\"offsetgroup\":\"\",\"orientation\":\"v\",\"showlegend\":false,\"textposition\":\"auto\",\"x\":[600,411,709,542,583,578,520,548,207,267,539,513,574,560,850,447,608,844,503,427,424,482,647,733,569,489,468],\"xaxis\":\"x\",\"y\":[236,194,301,190,204,229,203,200,137,187,314,214,257,243,372,198,365,376,161,113,164,270,264,322,124,183,162],\"yaxis\":\"y\",\"type\":\"bar\"}],                        {\"template\":{\"data\":{\"histogram2dcontour\":[{\"type\":\"histogram2dcontour\",\"colorbar\":{\"outlinewidth\":0,\"ticks\":\"\"},\"colorscale\":[[0.0,\"#0d0887\"],[0.1111111111111111,\"#46039f\"],[0.2222222222222222,\"#7201a8\"],[0.3333333333333333,\"#9c179e\"],[0.4444444444444444,\"#bd3786\"],[0.5555555555555556,\"#d8576b\"],[0.6666666666666666,\"#ed7953\"],[0.7777777777777778,\"#fb9f3a\"],[0.8888888888888888,\"#fdca26\"],[1.0,\"#f0f921\"]]}],\"choropleth\":[{\"type\":\"choropleth\",\"colorbar\":{\"outlinewidth\":0,\"ticks\":\"\"}}],\"histogram2d\":[{\"type\":\"histogram2d\",\"colorbar\":{\"outlinewidth\":0,\"ticks\":\"\"},\"colorscale\":[[0.0,\"#0d0887\"],[0.1111111111111111,\"#46039f\"],[0.2222222222222222,\"#7201a8\"],[0.3333333333333333,\"#9c179e\"],[0.4444444444444444,\"#bd3786\"],[0.5555555555555556,\"#d8576b\"],[0.6666666666666666,\"#ed7953\"],[0.7777777777777778,\"#fb9f3a\"],[0.8888888888888888,\"#fdca26\"],[1.0,\"#f0f921\"]]}],\"heatmap\":[{\"type\":\"heatmap\",\"colorbar\":{\"outlinewidth\":0,\"ticks\":\"\"},\"colorscale\":[[0.0,\"#0d0887\"],[0.1111111111111111,\"#46039f\"],[0.2222222222222222,\"#7201a8\"],[0.3333333333333333,\"#9c179e\"],[0.4444444444444444,\"#bd3786\"],[0.5555555555555556,\"#d8576b\"],[0.6666666666666666,\"#ed7953\"],[0.7777777777777778,\"#fb9f3a\"],[0.8888888888888888,\"#fdca26\"],[1.0,\"#f0f921\"]]}],\"heatmapgl\":[{\"type\":\"heatmapgl\",\"colorbar\":{\"outlinewidth\":0,\"ticks\":\"\"},\"colorscale\":[[0.0,\"#0d0887\"],[0.1111111111111111,\"#46039f\"],[0.2222222222222222,\"#7201a8\"],[0.3333333333333333,\"#9c179e\"],[0.4444444444444444,\"#bd3786\"],[0.5555555555555556,\"#d8576b\"],[0.6666666666666666,\"#ed7953\"],[0.7777777777777778,\"#fb9f3a\"],[0.8888888888888888,\"#fdca26\"],[1.0,\"#f0f921\"]]}],\"contourcarpet\":[{\"type\":\"contourcarpet\",\"colorbar\":{\"outlinewidth\":0,\"ticks\":\"\"}}],\"contour\":[{\"type\":\"contour\",\"colorbar\":{\"outlinewidth\":0,\"ticks\":\"\"},\"colorscale\":[[0.0,\"#0d0887\"],[0.1111111111111111,\"#46039f\"],[0.2222222222222222,\"#7201a8\"],[0.3333333333333333,\"#9c179e\"],[0.4444444444444444,\"#bd3786\"],[0.5555555555555556,\"#d8576b\"],[0.6666666666666666,\"#ed7953\"],[0.7777777777777778,\"#fb9f3a\"],[0.8888888888888888,\"#fdca26\"],[1.0,\"#f0f921\"]]}],\"surface\":[{\"type\":\"surface\",\"colorbar\":{\"outlinewidth\":0,\"ticks\":\"\"},\"colorscale\":[[0.0,\"#0d0887\"],[0.1111111111111111,\"#46039f\"],[0.2222222222222222,\"#7201a8\"],[0.3333333333333333,\"#9c179e\"],[0.4444444444444444,\"#bd3786\"],[0.5555555555555556,\"#d8576b\"],[0.6666666666666666,\"#ed7953\"],[0.7777777777777778,\"#fb9f3a\"],[0.8888888888888888,\"#fdca26\"],[1.0,\"#f0f921\"]]}],\"mesh3d\":[{\"type\":\"mesh3d\",\"colorbar\":{\"outlinewidth\":0,\"ticks\":\"\"}}],\"scatter\":[{\"fillpattern\":{\"fillmode\":\"overlay\",\"size\":10,\"solidity\":0.2},\"type\":\"scatter\"}],\"parcoords\":[{\"type\":\"parcoords\",\"line\":{\"colorbar\":{\"outlinewidth\":0,\"ticks\":\"\"}}}],\"scatterpolargl\":[{\"type\":\"scatterpolargl\",\"marker\":{\"colorbar\":{\"outlinewidth\":0,\"ticks\":\"\"}}}],\"bar\":[{\"error_x\":{\"color\":\"#2a3f5f\"},\"error_y\":{\"color\":\"#2a3f5f\"},\"marker\":{\"line\":{\"color\":\"#E5ECF6\",\"width\":0.5},\"pattern\":{\"fillmode\":\"overlay\",\"size\":10,\"solidity\":0.2}},\"type\":\"bar\"}],\"scattergeo\":[{\"type\":\"scattergeo\",\"marker\":{\"colorbar\":{\"outlinewidth\":0,\"ticks\":\"\"}}}],\"scatterpolar\":[{\"type\":\"scatterpolar\",\"marker\":{\"colorbar\":{\"outlinewidth\":0,\"ticks\":\"\"}}}],\"histogram\":[{\"marker\":{\"pattern\":{\"fillmode\":\"overlay\",\"size\":10,\"solidity\":0.2}},\"type\":\"histogram\"}],\"scattergl\":[{\"type\":\"scattergl\",\"marker\":{\"colorbar\":{\"outlinewidth\":0,\"ticks\":\"\"}}}],\"scatter3d\":[{\"type\":\"scatter3d\",\"line\":{\"colorbar\":{\"outlinewidth\":0,\"ticks\":\"\"}},\"marker\":{\"colorbar\":{\"outlinewidth\":0,\"ticks\":\"\"}}}],\"scattermapbox\":[{\"type\":\"scattermapbox\",\"marker\":{\"colorbar\":{\"outlinewidth\":0,\"ticks\":\"\"}}}],\"scatterternary\":[{\"type\":\"scatterternary\",\"marker\":{\"colorbar\":{\"outlinewidth\":0,\"ticks\":\"\"}}}],\"scattercarpet\":[{\"type\":\"scattercarpet\",\"marker\":{\"colorbar\":{\"outlinewidth\":0,\"ticks\":\"\"}}}],\"carpet\":[{\"aaxis\":{\"endlinecolor\":\"#2a3f5f\",\"gridcolor\":\"white\",\"linecolor\":\"white\",\"minorgridcolor\":\"white\",\"startlinecolor\":\"#2a3f5f\"},\"baxis\":{\"endlinecolor\":\"#2a3f5f\",\"gridcolor\":\"white\",\"linecolor\":\"white\",\"minorgridcolor\":\"white\",\"startlinecolor\":\"#2a3f5f\"},\"type\":\"carpet\"}],\"table\":[{\"cells\":{\"fill\":{\"color\":\"#EBF0F8\"},\"line\":{\"color\":\"white\"}},\"header\":{\"fill\":{\"color\":\"#C8D4E3\"},\"line\":{\"color\":\"white\"}},\"type\":\"table\"}],\"barpolar\":[{\"marker\":{\"line\":{\"color\":\"#E5ECF6\",\"width\":0.5},\"pattern\":{\"fillmode\":\"overlay\",\"size\":10,\"solidity\":0.2}},\"type\":\"barpolar\"}],\"pie\":[{\"automargin\":true,\"type\":\"pie\"}]},\"layout\":{\"autotypenumbers\":\"strict\",\"colorway\":[\"#636efa\",\"#EF553B\",\"#00cc96\",\"#ab63fa\",\"#FFA15A\",\"#19d3f3\",\"#FF6692\",\"#B6E880\",\"#FF97FF\",\"#FECB52\"],\"font\":{\"color\":\"#2a3f5f\"},\"hovermode\":\"closest\",\"hoverlabel\":{\"align\":\"left\"},\"paper_bgcolor\":\"white\",\"plot_bgcolor\":\"#E5ECF6\",\"polar\":{\"bgcolor\":\"#E5ECF6\",\"angularaxis\":{\"gridcolor\":\"white\",\"linecolor\":\"white\",\"ticks\":\"\"},\"radialaxis\":{\"gridcolor\":\"white\",\"linecolor\":\"white\",\"ticks\":\"\"}},\"ternary\":{\"bgcolor\":\"#E5ECF6\",\"aaxis\":{\"gridcolor\":\"white\",\"linecolor\":\"white\",\"ticks\":\"\"},\"baxis\":{\"gridcolor\":\"white\",\"linecolor\":\"white\",\"ticks\":\"\"},\"caxis\":{\"gridcolor\":\"white\",\"linecolor\":\"white\",\"ticks\":\"\"}},\"coloraxis\":{\"colorbar\":{\"outlinewidth\":0,\"ticks\":\"\"}},\"colorscale\":{\"sequential\":[[0.0,\"#0d0887\"],[0.1111111111111111,\"#46039f\"],[0.2222222222222222,\"#7201a8\"],[0.3333333333333333,\"#9c179e\"],[0.4444444444444444,\"#bd3786\"],[0.5555555555555556,\"#d8576b\"],[0.6666666666666666,\"#ed7953\"],[0.7777777777777778,\"#fb9f3a\"],[0.8888888888888888,\"#fdca26\"],[1.0,\"#f0f921\"]],\"sequentialminus\":[[0.0,\"#0d0887\"],[0.1111111111111111,\"#46039f\"],[0.2222222222222222,\"#7201a8\"],[0.3333333333333333,\"#9c179e\"],[0.4444444444444444,\"#bd3786\"],[0.5555555555555556,\"#d8576b\"],[0.6666666666666666,\"#ed7953\"],[0.7777777777777778,\"#fb9f3a\"],[0.8888888888888888,\"#fdca26\"],[1.0,\"#f0f921\"]],\"diverging\":[[0,\"#8e0152\"],[0.1,\"#c51b7d\"],[0.2,\"#de77ae\"],[0.3,\"#f1b6da\"],[0.4,\"#fde0ef\"],[0.5,\"#f7f7f7\"],[0.6,\"#e6f5d0\"],[0.7,\"#b8e186\"],[0.8,\"#7fbc41\"],[0.9,\"#4d9221\"],[1,\"#276419\"]]},\"xaxis\":{\"gridcolor\":\"white\",\"linecolor\":\"white\",\"ticks\":\"\",\"title\":{\"standoff\":15},\"zerolinecolor\":\"white\",\"automargin\":true,\"zerolinewidth\":2},\"yaxis\":{\"gridcolor\":\"white\",\"linecolor\":\"white\",\"ticks\":\"\",\"title\":{\"standoff\":15},\"zerolinecolor\":\"white\",\"automargin\":true,\"zerolinewidth\":2},\"scene\":{\"xaxis\":{\"backgroundcolor\":\"#E5ECF6\",\"gridcolor\":\"white\",\"linecolor\":\"white\",\"showbackground\":true,\"ticks\":\"\",\"zerolinecolor\":\"white\",\"gridwidth\":2},\"yaxis\":{\"backgroundcolor\":\"#E5ECF6\",\"gridcolor\":\"white\",\"linecolor\":\"white\",\"showbackground\":true,\"ticks\":\"\",\"zerolinecolor\":\"white\",\"gridwidth\":2},\"zaxis\":{\"backgroundcolor\":\"#E5ECF6\",\"gridcolor\":\"white\",\"linecolor\":\"white\",\"showbackground\":true,\"ticks\":\"\",\"zerolinecolor\":\"white\",\"gridwidth\":2}},\"shapedefaults\":{\"line\":{\"color\":\"#2a3f5f\"}},\"annotationdefaults\":{\"arrowcolor\":\"#2a3f5f\",\"arrowhead\":0,\"arrowwidth\":1},\"geo\":{\"bgcolor\":\"white\",\"landcolor\":\"#E5ECF6\",\"subunitcolor\":\"white\",\"showland\":true,\"showlakes\":true,\"lakecolor\":\"white\"},\"title\":{\"x\":0.05},\"mapbox\":{\"style\":\"light\"}}},\"xaxis\":{\"anchor\":\"y\",\"domain\":[0.0,1.0],\"title\":{\"text\":\"x\"}},\"yaxis\":{\"anchor\":\"x\",\"domain\":[0.0,1.0],\"title\":{\"text\":\"y\"}},\"legend\":{\"tracegroupgap\":0},\"margin\":{\"t\":60},\"barmode\":\"relative\"},                        {\"responsive\": true}                    ).then(function(){\n",
       "                            \n",
       "var gd = document.getElementById('f8abfa28-5e0b-4059-811c-70721e5587f7');\n",
       "var x = new MutationObserver(function (mutations, observer) {{\n",
       "        var display = window.getComputedStyle(gd).display;\n",
       "        if (!display || display === 'none') {{\n",
       "            console.log([gd, 'removed!']);\n",
       "            Plotly.purge(gd);\n",
       "            observer.disconnect();\n",
       "        }}\n",
       "}});\n",
       "\n",
       "// Listen for the removal of the full notebook cells\n",
       "var notebookContainer = gd.closest('#notebook-container');\n",
       "if (notebookContainer) {{\n",
       "    x.observe(notebookContainer, {childList: true});\n",
       "}}\n",
       "\n",
       "// Listen for the clearing of the current output cell\n",
       "var outputEl = gd.closest('.output');\n",
       "if (outputEl) {{\n",
       "    x.observe(outputEl, {childList: true});\n",
       "}}\n",
       "\n",
       "                        })                };                });            </script>        </div>"
      ]
     },
     "metadata": {},
     "output_type": "display_data"
    }
   ],
   "source": [
    "import plotly.express as px\n",
    "figure = px.bar(x=df_overall[\"Notifications\"], y = df_overall[\"Total Usage\"])\n",
    "figure.show()"
   ]
  },
  {
   "cell_type": "code",
   "execution_count": 18,
   "id": "6d330347",
   "metadata": {
    "execution": {
     "iopub.execute_input": "2023-01-16T20:33:33.454548Z",
     "iopub.status.busy": "2023-01-16T20:33:33.453557Z",
     "iopub.status.idle": "2023-01-16T20:33:33.458647Z",
     "shell.execute_reply": "2023-01-16T20:33:33.457587Z"
    },
    "papermill": {
     "duration": 0.017865,
     "end_time": "2023-01-16T20:33:33.460985",
     "exception": false,
     "start_time": "2023-01-16T20:33:33.443120",
     "status": "completed"
    },
    "tags": []
   },
   "outputs": [],
   "source": [
    "#plt.bar(x=df_overall[\"Notifications\"], y = df_overall[\"Total Usage\"])"
   ]
  },
  {
   "cell_type": "code",
   "execution_count": 19,
   "id": "2a5ddebd",
   "metadata": {
    "execution": {
     "iopub.execute_input": "2023-01-16T20:33:33.482005Z",
     "iopub.status.busy": "2023-01-16T20:33:33.481350Z",
     "iopub.status.idle": "2023-01-16T20:33:33.489714Z",
     "shell.execute_reply": "2023-01-16T20:33:33.488272Z"
    },
    "papermill": {
     "duration": 0.023099,
     "end_time": "2023-01-16T20:33:33.492704",
     "exception": false,
     "start_time": "2023-01-16T20:33:33.469605",
     "status": "completed"
    },
    "tags": []
   },
   "outputs": [
    {
     "name": "stdout",
     "output_type": "stream",
     "text": [
      "163\n",
      "No. of times user got notification =  844  Max number of unlocks to their phone = 163\n"
     ]
    }
   ],
   "source": [
    "most_unlocks = df_overall['Unlocks'].max()\n",
    "print(most_unlocks)\n",
    "\n",
    "corelated_notifications = df_overall.loc[df_overall['Unlocks'] == most_unlocks, 'Notifications'].iloc[0]\n",
    "print('No. of times user got notification = ', corelated_notifications, ' Max number of unlocks to their phone =', most_unlocks)"
   ]
  },
  {
   "cell_type": "code",
   "execution_count": 20,
   "id": "2019d5df",
   "metadata": {
    "execution": {
     "iopub.execute_input": "2023-01-16T20:33:33.512371Z",
     "iopub.status.busy": "2023-01-16T20:33:33.511627Z",
     "iopub.status.idle": "2023-01-16T20:33:33.522541Z",
     "shell.execute_reply": "2023-01-16T20:33:33.521084Z"
    },
    "papermill": {
     "duration": 0.024101,
     "end_time": "2023-01-16T20:33:33.525417",
     "exception": false,
     "start_time": "2023-01-16T20:33:33.501316",
     "status": "completed"
    },
    "tags": []
   },
   "outputs": [],
   "source": [
    "df['Date ']= df['Date '].astype(\"datetime64\")"
   ]
  },
  {
   "cell_type": "code",
   "execution_count": 21,
   "id": "9201b3e1",
   "metadata": {
    "execution": {
     "iopub.execute_input": "2023-01-16T20:33:33.545173Z",
     "iopub.status.busy": "2023-01-16T20:33:33.544776Z",
     "iopub.status.idle": "2023-01-16T20:33:34.354482Z",
     "shell.execute_reply": "2023-01-16T20:33:34.353485Z"
    },
    "papermill": {
     "duration": 0.822171,
     "end_time": "2023-01-16T20:33:34.357016",
     "exception": false,
     "start_time": "2023-01-16T20:33:33.534845",
     "status": "completed"
    },
    "tags": []
   },
   "outputs": [
    {
     "data": {
      "text/plain": [
       "Text(0.5, 0, 'Values')"
      ]
     },
     "execution_count": 21,
     "metadata": {},
     "output_type": "execute_result"
    },
    {
     "data": {
      "image/png": "[encoded data removed]",
      "text/plain": [
       "<Figure size 864x1080 with 3 Axes>"
      ]
     },
     "metadata": {
      "needs_background": "light"
     },
     "output_type": "display_data"
    }
   ],
   "source": [
    "df_overall.plot(subplots=True, figsize=(12, 15))\n",
    "plt.xlabel('Values')"
   ]
  },
  {
   "cell_type": "code",
   "execution_count": 22,
   "id": "9be574e2",
   "metadata": {
    "execution": {
     "iopub.execute_input": "2023-01-16T20:33:34.383098Z",
     "iopub.status.busy": "2023-01-16T20:33:34.382349Z",
     "iopub.status.idle": "2023-01-16T20:33:34.396064Z",
     "shell.execute_reply": "2023-01-16T20:33:34.394599Z"
    },
    "papermill": {
     "duration": 0.030157,
     "end_time": "2023-01-16T20:33:34.398726",
     "exception": false,
     "start_time": "2023-01-16T20:33:34.368569",
     "status": "completed"
    },
    "tags": []
   },
   "outputs": [
    {
     "data": {
      "text/html": [
       "<div>\n",
       "<style scoped>\n",
       "    .dataframe tbody tr th:only-of-type {\n",
       "        vertical-align: middle;\n",
       "    }\n",
       "\n",
       "    .dataframe tbody tr th {\n",
       "        vertical-align: top;\n",
       "    }\n",
       "\n",
       "    .dataframe thead th {\n",
       "        text-align: right;\n",
       "    }\n",
       "</style>\n",
       "<table border=\"1\" class=\"dataframe\">\n",
       "  <thead>\n",
       "    <tr style=\"text-align: right;\">\n",
       "      <th></th>\n",
       "      <th>Date</th>\n",
       "      <th>Total Usage</th>\n",
       "      <th>Notifications</th>\n",
       "      <th>Unlocks</th>\n",
       "    </tr>\n",
       "  </thead>\n",
       "  <tbody>\n",
       "    <tr>\n",
       "      <th>17</th>\n",
       "      <td>09/12/2022</td>\n",
       "      <td>376</td>\n",
       "      <td>844</td>\n",
       "      <td>163</td>\n",
       "    </tr>\n",
       "    <tr>\n",
       "      <th>14</th>\n",
       "      <td>09/09/2022</td>\n",
       "      <td>372</td>\n",
       "      <td>850</td>\n",
       "      <td>140</td>\n",
       "    </tr>\n",
       "    <tr>\n",
       "      <th>16</th>\n",
       "      <td>09/11/2022</td>\n",
       "      <td>365</td>\n",
       "      <td>608</td>\n",
       "      <td>100</td>\n",
       "    </tr>\n",
       "    <tr>\n",
       "      <th>23</th>\n",
       "      <td>09/18/2022</td>\n",
       "      <td>322</td>\n",
       "      <td>733</td>\n",
       "      <td>110</td>\n",
       "    </tr>\n",
       "    <tr>\n",
       "      <th>10</th>\n",
       "      <td>09/05/2022</td>\n",
       "      <td>314</td>\n",
       "      <td>539</td>\n",
       "      <td>123</td>\n",
       "    </tr>\n",
       "  </tbody>\n",
       "</table>\n",
       "</div>"
      ],
      "text/plain": [
       "         Date   Total Usage  Notifications  Unlocks\n",
       "17  09/12/2022          376            844      163\n",
       "14  09/09/2022          372            850      140\n",
       "16  09/11/2022          365            608      100\n",
       "23  09/18/2022          322            733      110\n",
       "10  09/05/2022          314            539      123"
      ]
     },
     "execution_count": 22,
     "metadata": {},
     "output_type": "execute_result"
    }
   ],
   "source": [
    "sorted_df_overall = df_overall.sort_values(by=['Total Usage'], ascending = False)\n",
    "sorted_df_overall.head()"
   ]
  },
  {
   "cell_type": "code",
   "execution_count": 23,
   "id": "dcffd041",
   "metadata": {
    "execution": {
     "iopub.execute_input": "2023-01-16T20:33:34.422252Z",
     "iopub.status.busy": "2023-01-16T20:33:34.421793Z",
     "iopub.status.idle": "2023-01-16T20:33:34.843703Z",
     "shell.execute_reply": "2023-01-16T20:33:34.841891Z"
    },
    "papermill": {
     "duration": 0.437761,
     "end_time": "2023-01-16T20:33:34.846815",
     "exception": false,
     "start_time": "2023-01-16T20:33:34.409054",
     "status": "completed"
    },
    "tags": []
   },
   "outputs": [
    {
     "data": {
      "text/plain": [
       "Text(0.5, 1.0, 'Total Usage per Day')"
      ]
     },
     "execution_count": 23,
     "metadata": {},
     "output_type": "execute_result"
    },
    {
     "data": {
      "image/png": "[encoded data removed]",
      "text/plain": [
       "<Figure size 432x288 with 1 Axes>"
      ]
     },
     "metadata": {
      "needs_background": "light"
     },
     "output_type": "display_data"
    }
   ],
   "source": [
    "sns.barplot(x='Date ',y='Total Usage', data = sorted_df_overall.head(20))\n",
    "#sns.set(rc={'figure.figsize':(11.7,8.27)})\n",
    "plt.yticks(fontsize= 6)\n",
    "plt.ylabel('Total Usage')\n",
    "plt.xlabel('Date')\n",
    "plt.xticks(rotation = 60)\n",
    "plt.title('Total Usage per Day')"
   ]
  },
  {
   "cell_type": "markdown",
   "id": "ed3b1705",
   "metadata": {
    "papermill": {
     "duration": 0.010407,
     "end_time": "2023-01-16T20:33:34.868296",
     "exception": false,
     "start_time": "2023-01-16T20:33:34.857889",
     "status": "completed"
    },
    "tags": []
   },
   "source": [
    "**App Details**"
   ]
  },
  {
   "cell_type": "code",
   "execution_count": null,
   "id": "cf9c9ec8",
   "metadata": {
    "papermill": {
     "duration": 0.010276,
     "end_time": "2023-01-16T20:33:34.889271",
     "exception": false,
     "start_time": "2023-01-16T20:33:34.878995",
     "status": "completed"
    },
    "tags": []
   },
   "outputs": [],
   "source": []
  }
 ],
 "metadata": {
  "kernelspec": {
   "display_name": "Python 3",
   "language": "python",
   "name": "python3"
  },
  "language_info": {
   "codemirror_mode": {
    "name": "ipython",
    "version": 3
   },
   "file_extension": ".py",
   "mimetype": "text/x-python",
   "name": "python",
   "nbconvert_exporter": "python",
   "pygments_lexer": "ipython3",
   "version": "3.7.12"
  },
  "papermill": {
   "default_parameters": {},
   "duration": 16.732598,
   "end_time": "2023-01-16T20:33:35.924237",
   "environment_variables": {},
   "exception": null,
   "input_path": "__notebook__.ipynb",
   "output_path": "__notebook__.ipynb",
   "parameters": {},
   "start_time": "2023-01-16T20:33:19.191639",
   "version": "2.3.4"
  }
 },
 "nbformat": 4,
 "nbformat_minor": 5
}
