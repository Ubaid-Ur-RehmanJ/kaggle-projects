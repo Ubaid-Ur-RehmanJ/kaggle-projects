{
 "cells": [
  {
   "cell_type": "code",
   "execution_count": 1,
   "id": "63705c22",
   "metadata": {
    "_cell_guid": "b1076dfc-b9ad-4769-8c92-a6c4dae69d19",
    "_uuid": "8f2839f25d086af736a60e9eeb907d3b93b6e0e5",
    "execution": {
     "iopub.execute_input": "2023-01-15T21:07:36.487787Z",
     "iopub.status.busy": "2023-01-15T21:07:36.487312Z",
     "iopub.status.idle": "2023-01-15T21:07:36.504517Z",
     "shell.execute_reply": "2023-01-15T21:07:36.503474Z"
    },
    "papermill": {
     "duration": 0.02883,
     "end_time": "2023-01-15T21:07:36.507027",
     "exception": false,
     "start_time": "2023-01-15T21:07:36.478197",
     "status": "completed"
    },
    "tags": []
   },
   "outputs": [
    {
     "name": "stdout",
     "output_type": "stream",
     "text": [
      "/kaggle/input/analyzing-screen-time/Screentime - App Details.csv\n",
      "/kaggle/input/analyzing-screen-time/Screentime - App Ranking.csv\n",
      "/kaggle/input/analyzing-screen-time/Screentime - Overall Usage.csv\n"
     ]
    }
   ],
   "source": [
    "# This Python 3 environment comes with many helpful analytics libraries installed\n",
    "# It is defined by the kaggle/python Docker image: https://github.com/kaggle/docker-python\n",
    "# For example, here's several helpful packages to load\n",
    "\n",
    "import numpy as np # linear algebra\n",
    "import pandas as pd # data processing, CSV file I/O (e.g. pd.read_csv)\n",
    "\n",
    "# Input data files are available in the read-only \"../input/\" directory\n",
    "# For example, running this (by clicking run or pressing Shift+Enter) will list all files under the input directory\n",
    "\n",
    "import os\n",
    "for dirname, _, filenames in os.walk('/kaggle/input'):\n",
    "    for filename in filenames:\n",
    "        print(os.path.join(dirname, filename))\n",
    "\n",
    "# You can write up to 20GB to the current directory (/kaggle/working/) that gets preserved as output when you create a version using \"Save & Run All\" \n",
    "# You can also write temporary files to /kaggle/temp/, but they won't be saved outside of the current session"
   ]
  },
  {
   "cell_type": "code",
   "execution_count": 2,
   "id": "2e6d9462",
   "metadata": {
    "execution": {
     "iopub.execute_input": "2023-01-15T21:07:36.517315Z",
     "iopub.status.busy": "2023-01-15T21:07:36.516713Z",
     "iopub.status.idle": "2023-01-15T21:07:37.381625Z",
     "shell.execute_reply": "2023-01-15T21:07:37.380427Z"
    },
    "papermill": {
     "duration": 0.872993,
     "end_time": "2023-01-15T21:07:37.384403",
     "exception": false,
     "start_time": "2023-01-15T21:07:36.511410",
     "status": "completed"
    },
    "tags": []
   },
   "outputs": [],
   "source": [
    "from glob import glob\n",
    "import pandas as pd\n",
    "import numpy as np\n",
    "import seaborn as sns\n",
    "import matplotlib.pyplot as plt"
   ]
  },
  {
   "cell_type": "code",
   "execution_count": 3,
   "id": "678a6e99",
   "metadata": {
    "execution": {
     "iopub.execute_input": "2023-01-15T21:07:37.397965Z",
     "iopub.status.busy": "2023-01-15T21:07:37.397343Z",
     "iopub.status.idle": "2023-01-15T21:07:37.423881Z",
     "shell.execute_reply": "2023-01-15T21:07:37.422658Z"
    },
    "papermill": {
     "duration": 0.037456,
     "end_time": "2023-01-15T21:07:37.426350",
     "exception": false,
     "start_time": "2023-01-15T21:07:37.388894",
     "status": "completed"
    },
    "tags": []
   },
   "outputs": [
    {
     "data": {
      "text/html": [
       "<div>\n",
       "<style scoped>\n",
       "    .dataframe tbody tr th:only-of-type {\n",
       "        vertical-align: middle;\n",
       "    }\n",
       "\n",
       "    .dataframe tbody tr th {\n",
       "        vertical-align: top;\n",
       "    }\n",
       "\n",
       "    .dataframe thead th {\n",
       "        text-align: right;\n",
       "    }\n",
       "</style>\n",
       "<table border=\"1\" class=\"dataframe\">\n",
       "  <thead>\n",
       "    <tr style=\"text-align: right;\">\n",
       "      <th></th>\n",
       "      <th>Date</th>\n",
       "      <th>Usage</th>\n",
       "      <th>Notifications</th>\n",
       "      <th>Times opened</th>\n",
       "      <th>App</th>\n",
       "    </tr>\n",
       "  </thead>\n",
       "  <tbody>\n",
       "    <tr>\n",
       "      <th>0</th>\n",
       "      <td>08/26/2022</td>\n",
       "      <td>38</td>\n",
       "      <td>70</td>\n",
       "      <td>49</td>\n",
       "      <td>Instagram</td>\n",
       "    </tr>\n",
       "    <tr>\n",
       "      <th>1</th>\n",
       "      <td>08/27/2022</td>\n",
       "      <td>39</td>\n",
       "      <td>43</td>\n",
       "      <td>48</td>\n",
       "      <td>Instagram</td>\n",
       "    </tr>\n",
       "    <tr>\n",
       "      <th>2</th>\n",
       "      <td>08/28/2022</td>\n",
       "      <td>64</td>\n",
       "      <td>231</td>\n",
       "      <td>55</td>\n",
       "      <td>Instagram</td>\n",
       "    </tr>\n",
       "    <tr>\n",
       "      <th>3</th>\n",
       "      <td>08/29/2022</td>\n",
       "      <td>14</td>\n",
       "      <td>35</td>\n",
       "      <td>23</td>\n",
       "      <td>Instagram</td>\n",
       "    </tr>\n",
       "    <tr>\n",
       "      <th>4</th>\n",
       "      <td>08/30/2022</td>\n",
       "      <td>3</td>\n",
       "      <td>19</td>\n",
       "      <td>5</td>\n",
       "      <td>Instagram</td>\n",
       "    </tr>\n",
       "  </tbody>\n",
       "</table>\n",
       "</div>"
      ],
      "text/plain": [
       "         Date  Usage  Notifications  Times opened        App\n",
       "0  08/26/2022     38             70            49  Instagram\n",
       "1  08/27/2022     39             43            48  Instagram\n",
       "2  08/28/2022     64            231            55  Instagram\n",
       "3  08/29/2022     14             35            23  Instagram\n",
       "4  08/30/2022      3             19             5  Instagram"
      ]
     },
     "execution_count": 3,
     "metadata": {},
     "output_type": "execute_result"
    }
   ],
   "source": [
    "df_details = pd.read_csv(\"/kaggle/input/analyzing-screen-time/Screentime - App Details.csv\")\n",
    "df_details.head()"
   ]
  },
  {
   "cell_type": "code",
   "execution_count": 4,
   "id": "7188b57b",
   "metadata": {
    "execution": {
     "iopub.execute_input": "2023-01-15T21:07:37.437436Z",
     "iopub.status.busy": "2023-01-15T21:07:37.436698Z",
     "iopub.status.idle": "2023-01-15T21:07:37.453814Z",
     "shell.execute_reply": "2023-01-15T21:07:37.452681Z"
    },
    "papermill": {
     "duration": 0.025304,
     "end_time": "2023-01-15T21:07:37.456330",
     "exception": false,
     "start_time": "2023-01-15T21:07:37.431026",
     "status": "completed"
    },
    "tags": []
   },
   "outputs": [
    {
     "data": {
      "text/html": [
       "<div>\n",
       "<style scoped>\n",
       "    .dataframe tbody tr th:only-of-type {\n",
       "        vertical-align: middle;\n",
       "    }\n",
       "\n",
       "    .dataframe tbody tr th {\n",
       "        vertical-align: top;\n",
       "    }\n",
       "\n",
       "    .dataframe thead th {\n",
       "        text-align: right;\n",
       "    }\n",
       "</style>\n",
       "<table border=\"1\" class=\"dataframe\">\n",
       "  <thead>\n",
       "    <tr style=\"text-align: right;\">\n",
       "      <th></th>\n",
       "      <th>Date</th>\n",
       "      <th>Rank 1</th>\n",
       "      <th>Rank 2</th>\n",
       "      <th>Rank 3</th>\n",
       "    </tr>\n",
       "  </thead>\n",
       "  <tbody>\n",
       "    <tr>\n",
       "      <th>0</th>\n",
       "      <td>08/26/2022</td>\n",
       "      <td>Whatsapp</td>\n",
       "      <td>Instagram</td>\n",
       "      <td>Netflix</td>\n",
       "    </tr>\n",
       "    <tr>\n",
       "      <th>1</th>\n",
       "      <td>08/27/2022</td>\n",
       "      <td>Whatsapp</td>\n",
       "      <td>Instagram</td>\n",
       "      <td>Chrome</td>\n",
       "    </tr>\n",
       "    <tr>\n",
       "      <th>2</th>\n",
       "      <td>08/28/2022</td>\n",
       "      <td>Whatsapp</td>\n",
       "      <td>Instagram</td>\n",
       "      <td>WeChat</td>\n",
       "    </tr>\n",
       "    <tr>\n",
       "      <th>3</th>\n",
       "      <td>08/29/2022</td>\n",
       "      <td>Whatsapp</td>\n",
       "      <td>Chrome</td>\n",
       "      <td>WeChat</td>\n",
       "    </tr>\n",
       "    <tr>\n",
       "      <th>4</th>\n",
       "      <td>08/30/2022</td>\n",
       "      <td>Whatsapp</td>\n",
       "      <td>LinkedIn</td>\n",
       "      <td>Chrome</td>\n",
       "    </tr>\n",
       "  </tbody>\n",
       "</table>\n",
       "</div>"
      ],
      "text/plain": [
       "        Date     Rank 1     Rank 2   Rank 3\n",
       "0  08/26/2022  Whatsapp  Instagram  Netflix\n",
       "1  08/27/2022  Whatsapp  Instagram   Chrome\n",
       "2  08/28/2022  Whatsapp  Instagram   WeChat\n",
       "3  08/29/2022  Whatsapp     Chrome   WeChat\n",
       "4  08/30/2022  Whatsapp   LinkedIn   Chrome"
      ]
     },
     "execution_count": 4,
     "metadata": {},
     "output_type": "execute_result"
    }
   ],
   "source": [
    "df_rankings = pd.read_csv(\"/kaggle/input/analyzing-screen-time/Screentime - App Ranking.csv\")\n",
    "df_rankings.head()"
   ]
  },
  {
   "cell_type": "code",
   "execution_count": 5,
   "id": "6e2b55da",
   "metadata": {
    "execution": {
     "iopub.execute_input": "2023-01-15T21:07:37.468212Z",
     "iopub.status.busy": "2023-01-15T21:07:37.467548Z",
     "iopub.status.idle": "2023-01-15T21:07:37.485509Z",
     "shell.execute_reply": "2023-01-15T21:07:37.484281Z"
    },
    "papermill": {
     "duration": 0.02667,
     "end_time": "2023-01-15T21:07:37.487916",
     "exception": false,
     "start_time": "2023-01-15T21:07:37.461246",
     "status": "completed"
    },
    "tags": []
   },
   "outputs": [
    {
     "data": {
      "text/html": [
       "<div>\n",
       "<style scoped>\n",
       "    .dataframe tbody tr th:only-of-type {\n",
       "        vertical-align: middle;\n",
       "    }\n",
       "\n",
       "    .dataframe tbody tr th {\n",
       "        vertical-align: top;\n",
       "    }\n",
       "\n",
       "    .dataframe thead th {\n",
       "        text-align: right;\n",
       "    }\n",
       "</style>\n",
       "<table border=\"1\" class=\"dataframe\">\n",
       "  <thead>\n",
       "    <tr style=\"text-align: right;\">\n",
       "      <th></th>\n",
       "      <th>Date</th>\n",
       "      <th>Total Usage</th>\n",
       "      <th>Notifications</th>\n",
       "      <th>Unlocks</th>\n",
       "    </tr>\n",
       "  </thead>\n",
       "  <tbody>\n",
       "    <tr>\n",
       "      <th>0</th>\n",
       "      <td>08/26/2022</td>\n",
       "      <td>236</td>\n",
       "      <td>600</td>\n",
       "      <td>102</td>\n",
       "    </tr>\n",
       "    <tr>\n",
       "      <th>1</th>\n",
       "      <td>08/27/2022</td>\n",
       "      <td>194</td>\n",
       "      <td>411</td>\n",
       "      <td>96</td>\n",
       "    </tr>\n",
       "    <tr>\n",
       "      <th>2</th>\n",
       "      <td>08/28/2022</td>\n",
       "      <td>301</td>\n",
       "      <td>709</td>\n",
       "      <td>114</td>\n",
       "    </tr>\n",
       "    <tr>\n",
       "      <th>3</th>\n",
       "      <td>08/29/2022</td>\n",
       "      <td>190</td>\n",
       "      <td>542</td>\n",
       "      <td>119</td>\n",
       "    </tr>\n",
       "    <tr>\n",
       "      <th>4</th>\n",
       "      <td>08/30/2022</td>\n",
       "      <td>204</td>\n",
       "      <td>583</td>\n",
       "      <td>85</td>\n",
       "    </tr>\n",
       "  </tbody>\n",
       "</table>\n",
       "</div>"
      ],
      "text/plain": [
       "        Date   Total Usage  Notifications  Unlocks\n",
       "0  08/26/2022          236            600      102\n",
       "1  08/27/2022          194            411       96\n",
       "2  08/28/2022          301            709      114\n",
       "3  08/29/2022          190            542      119\n",
       "4  08/30/2022          204            583       85"
      ]
     },
     "execution_count": 5,
     "metadata": {},
     "output_type": "execute_result"
    }
   ],
   "source": [
    "df_overall = pd.read_csv(\"/kaggle/input/analyzing-screen-time/Screentime - Overall Usage.csv\")\n",
    "df_overall.head()"
   ]
  },
  {
   "cell_type": "code",
   "execution_count": 6,
   "id": "602b6ca3",
   "metadata": {
    "execution": {
     "iopub.execute_input": "2023-01-15T21:07:37.500314Z",
     "iopub.status.busy": "2023-01-15T21:07:37.499194Z",
     "iopub.status.idle": "2023-01-15T21:07:37.504945Z",
     "shell.execute_reply": "2023-01-15T21:07:37.503876Z"
    },
    "papermill": {
     "duration": 0.014453,
     "end_time": "2023-01-15T21:07:37.507267",
     "exception": false,
     "start_time": "2023-01-15T21:07:37.492814",
     "status": "completed"
    },
    "tags": []
   },
   "outputs": [],
   "source": [
    "def wrangle(filepath):\n",
    "    df = pd.read_csv(filepath)\n",
    "    return df"
   ]
  },
  {
   "cell_type": "code",
   "execution_count": 7,
   "id": "039cefb2",
   "metadata": {
    "execution": {
     "iopub.execute_input": "2023-01-15T21:07:37.518955Z",
     "iopub.status.busy": "2023-01-15T21:07:37.518558Z",
     "iopub.status.idle": "2023-01-15T21:07:37.523688Z",
     "shell.execute_reply": "2023-01-15T21:07:37.522740Z"
    },
    "papermill": {
     "duration": 0.013633,
     "end_time": "2023-01-15T21:07:37.525948",
     "exception": false,
     "start_time": "2023-01-15T21:07:37.512315",
     "status": "completed"
    },
    "tags": []
   },
   "outputs": [],
   "source": [
    "files = glob(\"/kaggle/input/analyzing-screen-time/Screentime - *.csv\")"
   ]
  },
  {
   "cell_type": "code",
   "execution_count": 8,
   "id": "43a9d0f4",
   "metadata": {
    "execution": {
     "iopub.execute_input": "2023-01-15T21:07:37.537485Z",
     "iopub.status.busy": "2023-01-15T21:07:37.536729Z",
     "iopub.status.idle": "2023-01-15T21:07:37.548210Z",
     "shell.execute_reply": "2023-01-15T21:07:37.547405Z"
    },
    "papermill": {
     "duration": 0.019736,
     "end_time": "2023-01-15T21:07:37.550501",
     "exception": false,
     "start_time": "2023-01-15T21:07:37.530765",
     "status": "completed"
    },
    "tags": []
   },
   "outputs": [],
   "source": [
    "frames = []\n",
    "for file in files:\n",
    "    df = wrangle(file)\n",
    "    frames.append(df)\n",
    "    "
   ]
  },
  {
   "cell_type": "code",
   "execution_count": 9,
   "id": "0f7974f5",
   "metadata": {
    "execution": {
     "iopub.execute_input": "2023-01-15T21:07:37.562727Z",
     "iopub.status.busy": "2023-01-15T21:07:37.561829Z",
     "iopub.status.idle": "2023-01-15T21:07:37.586435Z",
     "shell.execute_reply": "2023-01-15T21:07:37.585301Z"
    },
    "papermill": {
     "duration": 0.03315,
     "end_time": "2023-01-15T21:07:37.588766",
     "exception": false,
     "start_time": "2023-01-15T21:07:37.555616",
     "status": "completed"
    },
    "tags": []
   },
   "outputs": [
    {
     "data": {
      "text/html": [
       "<div>\n",
       "<style scoped>\n",
       "    .dataframe tbody tr th:only-of-type {\n",
       "        vertical-align: middle;\n",
       "    }\n",
       "\n",
       "    .dataframe tbody tr th {\n",
       "        vertical-align: top;\n",
       "    }\n",
       "\n",
       "    .dataframe thead th {\n",
       "        text-align: right;\n",
       "    }\n",
       "</style>\n",
       "<table border=\"1\" class=\"dataframe\">\n",
       "  <thead>\n",
       "    <tr style=\"text-align: right;\">\n",
       "      <th></th>\n",
       "      <th>Date</th>\n",
       "      <th>Usage</th>\n",
       "      <th>Notifications</th>\n",
       "      <th>Times opened</th>\n",
       "      <th>App</th>\n",
       "      <th>Date</th>\n",
       "      <th>Rank 1</th>\n",
       "      <th>Rank 2</th>\n",
       "      <th>Rank 3</th>\n",
       "      <th>Total Usage</th>\n",
       "      <th>Unlocks</th>\n",
       "    </tr>\n",
       "  </thead>\n",
       "  <tbody>\n",
       "    <tr>\n",
       "      <th>0</th>\n",
       "      <td>08/26/2022</td>\n",
       "      <td>38.0</td>\n",
       "      <td>70.0</td>\n",
       "      <td>49.0</td>\n",
       "      <td>Instagram</td>\n",
       "      <td>NaN</td>\n",
       "      <td>NaN</td>\n",
       "      <td>NaN</td>\n",
       "      <td>NaN</td>\n",
       "      <td>NaN</td>\n",
       "      <td>NaN</td>\n",
       "    </tr>\n",
       "    <tr>\n",
       "      <th>1</th>\n",
       "      <td>08/27/2022</td>\n",
       "      <td>39.0</td>\n",
       "      <td>43.0</td>\n",
       "      <td>48.0</td>\n",
       "      <td>Instagram</td>\n",
       "      <td>NaN</td>\n",
       "      <td>NaN</td>\n",
       "      <td>NaN</td>\n",
       "      <td>NaN</td>\n",
       "      <td>NaN</td>\n",
       "      <td>NaN</td>\n",
       "    </tr>\n",
       "    <tr>\n",
       "      <th>2</th>\n",
       "      <td>08/28/2022</td>\n",
       "      <td>64.0</td>\n",
       "      <td>231.0</td>\n",
       "      <td>55.0</td>\n",
       "      <td>Instagram</td>\n",
       "      <td>NaN</td>\n",
       "      <td>NaN</td>\n",
       "      <td>NaN</td>\n",
       "      <td>NaN</td>\n",
       "      <td>NaN</td>\n",
       "      <td>NaN</td>\n",
       "    </tr>\n",
       "    <tr>\n",
       "      <th>3</th>\n",
       "      <td>08/29/2022</td>\n",
       "      <td>14.0</td>\n",
       "      <td>35.0</td>\n",
       "      <td>23.0</td>\n",
       "      <td>Instagram</td>\n",
       "      <td>NaN</td>\n",
       "      <td>NaN</td>\n",
       "      <td>NaN</td>\n",
       "      <td>NaN</td>\n",
       "      <td>NaN</td>\n",
       "      <td>NaN</td>\n",
       "    </tr>\n",
       "    <tr>\n",
       "      <th>4</th>\n",
       "      <td>08/30/2022</td>\n",
       "      <td>3.0</td>\n",
       "      <td>19.0</td>\n",
       "      <td>5.0</td>\n",
       "      <td>Instagram</td>\n",
       "      <td>NaN</td>\n",
       "      <td>NaN</td>\n",
       "      <td>NaN</td>\n",
       "      <td>NaN</td>\n",
       "      <td>NaN</td>\n",
       "      <td>NaN</td>\n",
       "    </tr>\n",
       "  </tbody>\n",
       "</table>\n",
       "</div>"
      ],
      "text/plain": [
       "         Date  Usage  Notifications  Times opened        App Date  Rank 1  \\\n",
       "0  08/26/2022   38.0           70.0          49.0  Instagram   NaN    NaN   \n",
       "1  08/27/2022   39.0           43.0          48.0  Instagram   NaN    NaN   \n",
       "2  08/28/2022   64.0          231.0          55.0  Instagram   NaN    NaN   \n",
       "3  08/29/2022   14.0           35.0          23.0  Instagram   NaN    NaN   \n",
       "4  08/30/2022    3.0           19.0           5.0  Instagram   NaN    NaN   \n",
       "\n",
       "  Rank 2 Rank 3  Total Usage  Unlocks  \n",
       "0    NaN    NaN          NaN      NaN  \n",
       "1    NaN    NaN          NaN      NaN  \n",
       "2    NaN    NaN          NaN      NaN  \n",
       "3    NaN    NaN          NaN      NaN  \n",
       "4    NaN    NaN          NaN      NaN  "
      ]
     },
     "execution_count": 9,
     "metadata": {},
     "output_type": "execute_result"
    }
   ],
   "source": [
    "df = pd.concat(frames, ignore_index = True)\n",
    "df.head()"
   ]
  },
  {
   "cell_type": "code",
   "execution_count": 10,
   "id": "e84f0b44",
   "metadata": {
    "execution": {
     "iopub.execute_input": "2023-01-15T21:07:37.601287Z",
     "iopub.status.busy": "2023-01-15T21:07:37.600717Z",
     "iopub.status.idle": "2023-01-15T21:07:37.611747Z",
     "shell.execute_reply": "2023-01-15T21:07:37.610741Z"
    },
    "papermill": {
     "duration": 0.020088,
     "end_time": "2023-01-15T21:07:37.613993",
     "exception": false,
     "start_time": "2023-01-15T21:07:37.593905",
     "status": "completed"
    },
    "tags": []
   },
   "outputs": [
    {
     "data": {
      "text/plain": [
       "Date             0.50\n",
       "Usage            0.50\n",
       "Notifications    0.25\n",
       "Times opened     0.50\n",
       "App              0.50\n",
       "Date             0.50\n",
       "Rank 1           0.75\n",
       "Rank 2           0.75\n",
       "Rank 3           0.75\n",
       "Total Usage      0.75\n",
       "Unlocks          0.75\n",
       "dtype: float64"
      ]
     },
     "execution_count": 10,
     "metadata": {},
     "output_type": "execute_result"
    }
   ],
   "source": [
    "df.isnull().sum() / len(df)"
   ]
  },
  {
   "cell_type": "markdown",
   "id": "15933e07",
   "metadata": {
    "papermill": {
     "duration": 0.004893,
     "end_time": "2023-01-15T21:07:37.624139",
     "exception": false,
     "start_time": "2023-01-15T21:07:37.619246",
     "status": "completed"
    },
    "tags": []
   },
   "source": [
    "**Over all Usage**\n",
    "*Check if there is any corelation b/w number of notifications and the number of times the user opens an app*\n",
    "*Does usage have a correlation with the number of notifications?*"
   ]
  },
  {
   "cell_type": "code",
   "execution_count": 11,
   "id": "0257a951",
   "metadata": {
    "execution": {
     "iopub.execute_input": "2023-01-15T21:07:37.635930Z",
     "iopub.status.busy": "2023-01-15T21:07:37.635555Z",
     "iopub.status.idle": "2023-01-15T21:07:37.646213Z",
     "shell.execute_reply": "2023-01-15T21:07:37.645181Z"
    },
    "papermill": {
     "duration": 0.019371,
     "end_time": "2023-01-15T21:07:37.648462",
     "exception": false,
     "start_time": "2023-01-15T21:07:37.629091",
     "status": "completed"
    },
    "tags": []
   },
   "outputs": [
    {
     "data": {
      "text/html": [
       "<div>\n",
       "<style scoped>\n",
       "    .dataframe tbody tr th:only-of-type {\n",
       "        vertical-align: middle;\n",
       "    }\n",
       "\n",
       "    .dataframe tbody tr th {\n",
       "        vertical-align: top;\n",
       "    }\n",
       "\n",
       "    .dataframe thead th {\n",
       "        text-align: right;\n",
       "    }\n",
       "</style>\n",
       "<table border=\"1\" class=\"dataframe\">\n",
       "  <thead>\n",
       "    <tr style=\"text-align: right;\">\n",
       "      <th></th>\n",
       "      <th>Date</th>\n",
       "      <th>Total Usage</th>\n",
       "      <th>Notifications</th>\n",
       "      <th>Unlocks</th>\n",
       "    </tr>\n",
       "  </thead>\n",
       "  <tbody>\n",
       "    <tr>\n",
       "      <th>0</th>\n",
       "      <td>08/26/2022</td>\n",
       "      <td>236</td>\n",
       "      <td>600</td>\n",
       "      <td>102</td>\n",
       "    </tr>\n",
       "    <tr>\n",
       "      <th>1</th>\n",
       "      <td>08/27/2022</td>\n",
       "      <td>194</td>\n",
       "      <td>411</td>\n",
       "      <td>96</td>\n",
       "    </tr>\n",
       "    <tr>\n",
       "      <th>2</th>\n",
       "      <td>08/28/2022</td>\n",
       "      <td>301</td>\n",
       "      <td>709</td>\n",
       "      <td>114</td>\n",
       "    </tr>\n",
       "    <tr>\n",
       "      <th>3</th>\n",
       "      <td>08/29/2022</td>\n",
       "      <td>190</td>\n",
       "      <td>542</td>\n",
       "      <td>119</td>\n",
       "    </tr>\n",
       "    <tr>\n",
       "      <th>4</th>\n",
       "      <td>08/30/2022</td>\n",
       "      <td>204</td>\n",
       "      <td>583</td>\n",
       "      <td>85</td>\n",
       "    </tr>\n",
       "  </tbody>\n",
       "</table>\n",
       "</div>"
      ],
      "text/plain": [
       "        Date   Total Usage  Notifications  Unlocks\n",
       "0  08/26/2022          236            600      102\n",
       "1  08/27/2022          194            411       96\n",
       "2  08/28/2022          301            709      114\n",
       "3  08/29/2022          190            542      119\n",
       "4  08/30/2022          204            583       85"
      ]
     },
     "execution_count": 11,
     "metadata": {},
     "output_type": "execute_result"
    }
   ],
   "source": [
    "df_overall.head()"
   ]
  },
  {
   "cell_type": "code",
   "execution_count": 12,
   "id": "279371f4",
   "metadata": {
    "execution": {
     "iopub.execute_input": "2023-01-15T21:07:37.660866Z",
     "iopub.status.busy": "2023-01-15T21:07:37.660506Z",
     "iopub.status.idle": "2023-01-15T21:07:37.670520Z",
     "shell.execute_reply": "2023-01-15T21:07:37.669485Z"
    },
    "papermill": {
     "duration": 0.018788,
     "end_time": "2023-01-15T21:07:37.672696",
     "exception": false,
     "start_time": "2023-01-15T21:07:37.653908",
     "status": "completed"
    },
    "tags": []
   },
   "outputs": [
    {
     "data": {
      "text/plain": [
       "Date             0.0\n",
       "Total Usage      0.0\n",
       "Notifications    0.0\n",
       "Unlocks          0.0\n",
       "dtype: float64"
      ]
     },
     "execution_count": 12,
     "metadata": {},
     "output_type": "execute_result"
    }
   ],
   "source": [
    "df_overall.isnull().sum() /len(df_overall)"
   ]
  },
  {
   "cell_type": "code",
   "execution_count": 13,
   "id": "77bfd759",
   "metadata": {
    "execution": {
     "iopub.execute_input": "2023-01-15T21:07:37.685202Z",
     "iopub.status.busy": "2023-01-15T21:07:37.684799Z",
     "iopub.status.idle": "2023-01-15T21:07:37.695423Z",
     "shell.execute_reply": "2023-01-15T21:07:37.694365Z"
    },
    "papermill": {
     "duration": 0.01948,
     "end_time": "2023-01-15T21:07:37.697651",
     "exception": false,
     "start_time": "2023-01-15T21:07:37.678171",
     "status": "completed"
    },
    "tags": []
   },
   "outputs": [
    {
     "data": {
      "text/plain": [
       "Date             27\n",
       "Total Usage      27\n",
       "Notifications    27\n",
       "Unlocks          26\n",
       "dtype: int64"
      ]
     },
     "execution_count": 13,
     "metadata": {},
     "output_type": "execute_result"
    }
   ],
   "source": [
    "df_overall.nunique()"
   ]
  },
  {
   "cell_type": "code",
   "execution_count": null,
   "id": "1d8ef7d0",
   "metadata": {
    "papermill": {
     "duration": 0.006155,
     "end_time": "2023-01-15T21:07:37.709381",
     "exception": false,
     "start_time": "2023-01-15T21:07:37.703226",
     "status": "completed"
    },
    "tags": []
   },
   "outputs": [],
   "source": []
  }
 ],
 "metadata": {
  "kernelspec": {
   "display_name": "Python 3",
   "language": "python",
   "name": "python3"
  },
  "language_info": {
   "codemirror_mode": {
    "name": "ipython",
    "version": 3
   },
   "file_extension": ".py",
   "mimetype": "text/x-python",
   "name": "python",
   "nbconvert_exporter": "python",
   "pygments_lexer": "ipython3",
   "version": "3.7.12"
  },
  "papermill": {
   "default_parameters": {},
   "duration": 9.788758,
   "end_time": "2023-01-15T21:07:38.335436",
   "environment_variables": {},
   "exception": null,
   "input_path": "__notebook__.ipynb",
   "output_path": "__notebook__.ipynb",
   "parameters": {},
   "start_time": "2023-01-15T21:07:28.546678",
   "version": "2.3.4"
  }
 },
 "nbformat": 4,
 "nbformat_minor": 5
}
