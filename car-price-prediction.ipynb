{
 "cells": [
  {
   "cell_type": "code",
   "execution_count": 1,
   "id": "ea401e9e",
   "metadata": {
    "_cell_guid": "b1076dfc-b9ad-4769-8c92-a6c4dae69d19",
    "_uuid": "8f2839f25d086af736a60e9eeb907d3b93b6e0e5",
    "execution": {
     "iopub.execute_input": "2023-01-05T11:05:19.135605Z",
     "iopub.status.busy": "2023-01-05T11:05:19.135119Z",
     "iopub.status.idle": "2023-01-05T11:05:19.158127Z",
     "shell.execute_reply": "2023-01-05T11:05:19.156746Z"
    },
    "papermill": {
     "duration": 0.037268,
     "end_time": "2023-01-05T11:05:19.161235",
     "exception": false,
     "start_time": "2023-01-05T11:05:19.123967",
     "status": "completed"
    },
    "tags": []
   },
   "outputs": [
    {
     "name": "stdout",
     "output_type": "stream",
     "text": [
      "/kaggle/input/carvana-predict-car-prices/carvana.csv\n"
     ]
    }
   ],
   "source": [
    "# This Python 3 environment comes with many helpful analytics libraries installed\n",
    "# It is defined by the kaggle/python Docker image: https://github.com/kaggle/docker-python\n",
    "# For example, here's several helpful packages to load\n",
    "\n",
    "import numpy as np # linear algebra\n",
    "import pandas as pd # data processing, CSV file I/O (e.g. pd.read_csv)\n",
    "\n",
    "# Input data files are available in the read-only \"../input/\" directory\n",
    "# For example, running this (by clicking run or pressing Shift+Enter) will list all files under the input directory\n",
    "\n",
    "import os\n",
    "for dirname, _, filenames in os.walk('/kaggle/input'):\n",
    "    for filename in filenames:\n",
    "        print(os.path.join(dirname, filename))\n",
    "\n",
    "# You can write up to 20GB to the current directory (/kaggle/working/) that gets preserved as output when you create a version using \"Save & Run All\" \n",
    "# You can also write temporary files to /kaggle/temp/, but they won't be saved outside of the current session"
   ]
  },
  {
   "cell_type": "code",
   "execution_count": 2,
   "id": "af43dec8",
   "metadata": {
    "execution": {
     "iopub.execute_input": "2023-01-05T11:05:19.179371Z",
     "iopub.status.busy": "2023-01-05T11:05:19.178965Z",
     "iopub.status.idle": "2023-01-05T11:05:21.634534Z",
     "shell.execute_reply": "2023-01-05T11:05:21.633153Z"
    },
    "papermill": {
     "duration": 2.467631,
     "end_time": "2023-01-05T11:05:21.637331",
     "exception": false,
     "start_time": "2023-01-05T11:05:19.169700",
     "status": "completed"
    },
    "tags": []
   },
   "outputs": [],
   "source": [
    "#importing libraries\n",
    "import pandas as pd\n",
    "import numpy as np\n",
    "import matplotlib.pyplot as plt\n",
    "import plotly.express as px\n",
    "import seaborn as sns\n",
    "from sklearn.linear_model import LinearRegression, Ridge\n",
    "from sklearn.metrics import mean_absolute_error"
   ]
  },
  {
   "cell_type": "code",
   "execution_count": 3,
   "id": "3c605ed3",
   "metadata": {
    "execution": {
     "iopub.execute_input": "2023-01-05T11:05:21.655756Z",
     "iopub.status.busy": "2023-01-05T11:05:21.655348Z",
     "iopub.status.idle": "2023-01-05T11:05:21.716105Z",
     "shell.execute_reply": "2023-01-05T11:05:21.714990Z"
    },
    "papermill": {
     "duration": 0.072844,
     "end_time": "2023-01-05T11:05:21.718598",
     "exception": false,
     "start_time": "2023-01-05T11:05:21.645754",
     "status": "completed"
    },
    "tags": []
   },
   "outputs": [
    {
     "data": {
      "text/html": [
       "<div>\n",
       "<style scoped>\n",
       "    .dataframe tbody tr th:only-of-type {\n",
       "        vertical-align: middle;\n",
       "    }\n",
       "\n",
       "    .dataframe tbody tr th {\n",
       "        vertical-align: top;\n",
       "    }\n",
       "\n",
       "    .dataframe thead th {\n",
       "        text-align: right;\n",
       "    }\n",
       "</style>\n",
       "<table border=\"1\" class=\"dataframe\">\n",
       "  <thead>\n",
       "    <tr style=\"text-align: right;\">\n",
       "      <th></th>\n",
       "      <th>Name</th>\n",
       "      <th>Year</th>\n",
       "      <th>Miles</th>\n",
       "      <th>Price</th>\n",
       "    </tr>\n",
       "  </thead>\n",
       "  <tbody>\n",
       "    <tr>\n",
       "      <th>0</th>\n",
       "      <td>Chevrolet Trax</td>\n",
       "      <td>2018</td>\n",
       "      <td>41946</td>\n",
       "      <td>16990</td>\n",
       "    </tr>\n",
       "    <tr>\n",
       "      <th>1</th>\n",
       "      <td>GMC Terrain</td>\n",
       "      <td>2020</td>\n",
       "      <td>45328</td>\n",
       "      <td>23990</td>\n",
       "    </tr>\n",
       "    <tr>\n",
       "      <th>2</th>\n",
       "      <td>Jeep Wrangler</td>\n",
       "      <td>2012</td>\n",
       "      <td>81068</td>\n",
       "      <td>21590</td>\n",
       "    </tr>\n",
       "    <tr>\n",
       "      <th>3</th>\n",
       "      <td>Jeep Renegade</td>\n",
       "      <td>2019</td>\n",
       "      <td>35372</td>\n",
       "      <td>21590</td>\n",
       "    </tr>\n",
       "    <tr>\n",
       "      <th>4</th>\n",
       "      <td>BMW X</td>\n",
       "      <td>20173</td>\n",
       "      <td>68992</td>\n",
       "      <td>22990</td>\n",
       "    </tr>\n",
       "  </tbody>\n",
       "</table>\n",
       "</div>"
      ],
      "text/plain": [
       "              Name   Year  Miles  Price\n",
       "0   Chevrolet Trax   2018  41946  16990\n",
       "1      GMC Terrain   2020  45328  23990\n",
       "2    Jeep Wrangler   2012  81068  21590\n",
       "3    Jeep Renegade   2019  35372  21590\n",
       "4            BMW X  20173  68992  22990"
      ]
     },
     "execution_count": 3,
     "metadata": {},
     "output_type": "execute_result"
    }
   ],
   "source": [
    "df = pd.read_csv(\"/kaggle/input/carvana-predict-car-prices/carvana.csv\")\n",
    "df.head()"
   ]
  },
  {
   "cell_type": "code",
   "execution_count": 4,
   "id": "091bbcef",
   "metadata": {
    "execution": {
     "iopub.execute_input": "2023-01-05T11:05:21.737567Z",
     "iopub.status.busy": "2023-01-05T11:05:21.736577Z",
     "iopub.status.idle": "2023-01-05T11:05:21.743270Z",
     "shell.execute_reply": "2023-01-05T11:05:21.742199Z"
    },
    "papermill": {
     "duration": 0.018475,
     "end_time": "2023-01-05T11:05:21.745625",
     "exception": false,
     "start_time": "2023-01-05T11:05:21.727150",
     "status": "completed"
    },
    "tags": []
   },
   "outputs": [
    {
     "data": {
      "text/plain": [
       "(22000, 4)"
      ]
     },
     "execution_count": 4,
     "metadata": {},
     "output_type": "execute_result"
    }
   ],
   "source": [
    "df.shape"
   ]
  },
  {
   "cell_type": "code",
   "execution_count": 5,
   "id": "cd7b4bc2",
   "metadata": {
    "execution": {
     "iopub.execute_input": "2023-01-05T11:05:21.764670Z",
     "iopub.status.busy": "2023-01-05T11:05:21.764206Z",
     "iopub.status.idle": "2023-01-05T11:05:21.774306Z",
     "shell.execute_reply": "2023-01-05T11:05:21.773380Z"
    },
    "papermill": {
     "duration": 0.02294,
     "end_time": "2023-01-05T11:05:21.776933",
     "exception": false,
     "start_time": "2023-01-05T11:05:21.753993",
     "status": "completed"
    },
    "tags": []
   },
   "outputs": [
    {
     "data": {
      "text/plain": [
       "Name     0\n",
       "Year     0\n",
       "Miles    0\n",
       "Price    0\n",
       "dtype: int64"
      ]
     },
     "execution_count": 5,
     "metadata": {},
     "output_type": "execute_result"
    }
   ],
   "source": [
    "df.isnull().sum()"
   ]
  },
  {
   "cell_type": "code",
   "execution_count": 6,
   "id": "f952cc35",
   "metadata": {
    "execution": {
     "iopub.execute_input": "2023-01-05T11:05:21.798683Z",
     "iopub.status.busy": "2023-01-05T11:05:21.797906Z",
     "iopub.status.idle": "2023-01-05T11:05:21.814082Z",
     "shell.execute_reply": "2023-01-05T11:05:21.812797Z"
    },
    "papermill": {
     "duration": 0.028827,
     "end_time": "2023-01-05T11:05:21.816832",
     "exception": false,
     "start_time": "2023-01-05T11:05:21.788005",
     "status": "completed"
    },
    "tags": []
   },
   "outputs": [
    {
     "data": {
      "text/plain": [
       "Name      416\n",
       "Year      211\n",
       "Miles    8836\n",
       "Price     866\n",
       "dtype: int64"
      ]
     },
     "execution_count": 6,
     "metadata": {},
     "output_type": "execute_result"
    }
   ],
   "source": [
    "df.nunique()"
   ]
  },
  {
   "cell_type": "code",
   "execution_count": 7,
   "id": "77bd1c20",
   "metadata": {
    "execution": {
     "iopub.execute_input": "2023-01-05T11:05:21.835697Z",
     "iopub.status.busy": "2023-01-05T11:05:21.835292Z",
     "iopub.status.idle": "2023-01-05T11:05:21.852515Z",
     "shell.execute_reply": "2023-01-05T11:05:21.851161Z"
    },
    "papermill": {
     "duration": 0.029635,
     "end_time": "2023-01-05T11:05:21.855107",
     "exception": false,
     "start_time": "2023-01-05T11:05:21.825472",
     "status": "completed"
    },
    "tags": []
   },
   "outputs": [
    {
     "data": {
      "text/html": [
       "<div>\n",
       "<style scoped>\n",
       "    .dataframe tbody tr th:only-of-type {\n",
       "        vertical-align: middle;\n",
       "    }\n",
       "\n",
       "    .dataframe tbody tr th {\n",
       "        vertical-align: top;\n",
       "    }\n",
       "\n",
       "    .dataframe thead th {\n",
       "        text-align: right;\n",
       "    }\n",
       "</style>\n",
       "<table border=\"1\" class=\"dataframe\">\n",
       "  <thead>\n",
       "    <tr style=\"text-align: right;\">\n",
       "      <th></th>\n",
       "      <th>Year</th>\n",
       "      <th>Miles</th>\n",
       "      <th>Price</th>\n",
       "    </tr>\n",
       "  </thead>\n",
       "  <tbody>\n",
       "    <tr>\n",
       "      <th>Year</th>\n",
       "      <td>1.000000</td>\n",
       "      <td>-0.028941</td>\n",
       "      <td>0.141570</td>\n",
       "    </tr>\n",
       "    <tr>\n",
       "      <th>Miles</th>\n",
       "      <td>-0.028941</td>\n",
       "      <td>1.000000</td>\n",
       "      <td>-0.474124</td>\n",
       "    </tr>\n",
       "    <tr>\n",
       "      <th>Price</th>\n",
       "      <td>0.141570</td>\n",
       "      <td>-0.474124</td>\n",
       "      <td>1.000000</td>\n",
       "    </tr>\n",
       "  </tbody>\n",
       "</table>\n",
       "</div>"
      ],
      "text/plain": [
       "           Year     Miles     Price\n",
       "Year   1.000000 -0.028941  0.141570\n",
       "Miles -0.028941  1.000000 -0.474124\n",
       "Price  0.141570 -0.474124  1.000000"
      ]
     },
     "execution_count": 7,
     "metadata": {},
     "output_type": "execute_result"
    }
   ],
   "source": [
    "corr = df.corr()\n",
    "corr"
   ]
  },
  {
   "cell_type": "code",
   "execution_count": 8,
   "id": "92139dfd",
   "metadata": {
    "execution": {
     "iopub.execute_input": "2023-01-05T11:05:21.874932Z",
     "iopub.status.busy": "2023-01-05T11:05:21.873920Z",
     "iopub.status.idle": "2023-01-05T11:05:22.182502Z",
     "shell.execute_reply": "2023-01-05T11:05:22.181183Z"
    },
    "papermill": {
     "duration": 0.321294,
     "end_time": "2023-01-05T11:05:22.185225",
     "exception": false,
     "start_time": "2023-01-05T11:05:21.863931",
     "status": "completed"
    },
    "tags": []
   },
   "outputs": [
    {
     "data": {
      "text/plain": [
       "<AxesSubplot:>"
      ]
     },
     "execution_count": 8,
     "metadata": {},
     "output_type": "execute_result"
    },
    {
     "data": {
      "image/png": "[encoded data removed]",
      "text/plain": [
       "<Figure size 432x288 with 2 Axes>"
      ]
     },
     "metadata": {
      "needs_background": "light"
     },
     "output_type": "display_data"
    }
   ],
   "source": [
    "sns.heatmap(corr)"
   ]
  },
  {
   "cell_type": "markdown",
   "id": "3361e584",
   "metadata": {
    "papermill": {
     "duration": 0.009141,
     "end_time": "2023-01-05T11:05:22.203970",
     "exception": false,
     "start_time": "2023-01-05T11:05:22.194829",
     "status": "completed"
    },
    "tags": []
   },
   "source": [
    "**Building Machine Learning Model******"
   ]
  },
  {
   "cell_type": "code",
   "execution_count": 9,
   "id": "fd603da3",
   "metadata": {
    "execution": {
     "iopub.execute_input": "2023-01-05T11:05:22.224387Z",
     "iopub.status.busy": "2023-01-05T11:05:22.223948Z",
     "iopub.status.idle": "2023-01-05T11:05:22.233927Z",
     "shell.execute_reply": "2023-01-05T11:05:22.232748Z"
    },
    "papermill": {
     "duration": 0.023522,
     "end_time": "2023-01-05T11:05:22.236506",
     "exception": false,
     "start_time": "2023-01-05T11:05:22.212984",
     "status": "completed"
    },
    "tags": []
   },
   "outputs": [],
   "source": [
    "target = \"Price\"\n",
    "features = [\"Year\", \"Miles\", \"Name\"]\n",
    "X_train = df[features]\n",
    "y_train = df[target]"
   ]
  },
  {
   "cell_type": "markdown",
   "id": "a5a5dfa1",
   "metadata": {
    "papermill": {
     "duration": 0.009164,
     "end_time": "2023-01-05T11:05:22.254838",
     "exception": false,
     "start_time": "2023-01-05T11:05:22.245674",
     "status": "completed"
    },
    "tags": []
   },
   "source": [
    "Baseline Model"
   ]
  },
  {
   "cell_type": "code",
   "execution_count": 10,
   "id": "20592f48",
   "metadata": {
    "execution": {
     "iopub.execute_input": "2023-01-05T11:05:22.274961Z",
     "iopub.status.busy": "2023-01-05T11:05:22.274530Z",
     "iopub.status.idle": "2023-01-05T11:05:22.284500Z",
     "shell.execute_reply": "2023-01-05T11:05:22.283030Z"
    },
    "papermill": {
     "duration": 0.023411,
     "end_time": "2023-01-05T11:05:22.287499",
     "exception": false,
     "start_time": "2023-01-05T11:05:22.264088",
     "status": "completed"
    },
    "tags": []
   },
   "outputs": [
    {
     "name": "stdout",
     "output_type": "stream",
     "text": [
      "The value of y_mean is  20707.285136363636\n",
      "The value of baseline mean absolute error is  4287.342693004132\n"
     ]
    }
   ],
   "source": [
    "y_mean = y_train.mean()\n",
    "y_pred_baseline = [y_mean] * len(y_train)\n",
    "mae_baseline = mean_absolute_error(y_train, y_pred_baseline)\n",
    "print(\"The value of y_mean is \", y_mean)\n",
    "print(\"The value of baseline mean absolute error is \", mae_baseline)"
   ]
  },
  {
   "cell_type": "code",
   "execution_count": 11,
   "id": "297e8c9b",
   "metadata": {
    "execution": {
     "iopub.execute_input": "2023-01-05T11:05:22.308561Z",
     "iopub.status.busy": "2023-01-05T11:05:22.308157Z",
     "iopub.status.idle": "2023-01-05T11:05:22.315387Z",
     "shell.execute_reply": "2023-01-05T11:05:22.314111Z"
    },
    "papermill": {
     "duration": 0.021985,
     "end_time": "2023-01-05T11:05:22.319418",
     "exception": false,
     "start_time": "2023-01-05T11:05:22.297433",
     "status": "completed"
    },
    "tags": []
   },
   "outputs": [],
   "source": [
    "# plt.scatter(X_train, y_train)\n",
    "# # plt.xlabel()\n",
    "# # plt.y_label()"
   ]
  },
  {
   "cell_type": "markdown",
   "id": "d8bb5f22",
   "metadata": {
    "papermill": {
     "duration": 0.011347,
     "end_time": "2023-01-05T11:05:22.344680",
     "exception": false,
     "start_time": "2023-01-05T11:05:22.333333",
     "status": "completed"
    },
    "tags": []
   },
   "source": [
    "We will use the simple imputer i.e transformer it will remove the nan values with the mean"
   ]
  },
  {
   "cell_type": "markdown",
   "id": "179ae076",
   "metadata": {
    "papermill": {
     "duration": 0.015348,
     "end_time": "2023-01-05T11:05:22.371635",
     "exception": false,
     "start_time": "2023-01-05T11:05:22.356287",
     "status": "completed"
    },
    "tags": []
   },
   "source": [
    "Similarly we will use onehotencoder that will change the name columns to categorical variable"
   ]
  },
  {
   "cell_type": "code",
   "execution_count": 12,
   "id": "74c79f45",
   "metadata": {
    "execution": {
     "iopub.execute_input": "2023-01-05T11:05:22.396901Z",
     "iopub.status.busy": "2023-01-05T11:05:22.396404Z",
     "iopub.status.idle": "2023-01-05T11:05:22.661851Z",
     "shell.execute_reply": "2023-01-05T11:05:22.660488Z"
    },
    "papermill": {
     "duration": 0.281132,
     "end_time": "2023-01-05T11:05:22.665377",
     "exception": false,
     "start_time": "2023-01-05T11:05:22.384245",
     "status": "completed"
    },
    "tags": []
   },
   "outputs": [],
   "source": [
    "from sklearn.pipeline import make_pipeline\n",
    "from sklearn.impute import SimpleImputer\n",
    "from category_encoders import OneHotEncoder"
   ]
  },
  {
   "cell_type": "code",
   "execution_count": 13,
   "id": "d52fcf00",
   "metadata": {
    "execution": {
     "iopub.execute_input": "2023-01-05T11:05:22.685638Z",
     "iopub.status.busy": "2023-01-05T11:05:22.685202Z",
     "iopub.status.idle": "2023-01-05T11:05:23.911648Z",
     "shell.execute_reply": "2023-01-05T11:05:23.909847Z"
    },
    "papermill": {
     "duration": 1.241522,
     "end_time": "2023-01-05T11:05:23.916231",
     "exception": false,
     "start_time": "2023-01-05T11:05:22.674709",
     "status": "completed"
    },
    "tags": []
   },
   "outputs": [
    {
     "data": {
      "text/plain": [
       "Pipeline(steps=[('onehotencoder',\n",
       "                 OneHotEncoder(cols=['Name'], use_cat_names=True)),\n",
       "                ('simpleimputer', SimpleImputer()),\n",
       "                ('linearregression', LinearRegression())])"
      ]
     },
     "execution_count": 13,
     "metadata": {},
     "output_type": "execute_result"
    }
   ],
   "source": [
    "model = make_pipeline(\n",
    "    OneHotEncoder(use_cat_names=True), SimpleImputer(),\n",
    "    LinearRegression()\n",
    ")\n",
    "model.fit(X_train, y_train)"
   ]
  },
  {
   "cell_type": "code",
   "execution_count": 14,
   "id": "3fad8d6d",
   "metadata": {
    "execution": {
     "iopub.execute_input": "2023-01-05T11:05:23.966178Z",
     "iopub.status.busy": "2023-01-05T11:05:23.965448Z",
     "iopub.status.idle": "2023-01-05T11:05:24.300909Z",
     "shell.execute_reply": "2023-01-05T11:05:24.297753Z"
    },
    "papermill": {
     "duration": 0.366695,
     "end_time": "2023-01-05T11:05:24.306565",
     "exception": false,
     "start_time": "2023-01-05T11:05:23.939870",
     "status": "completed"
    },
    "tags": []
   },
   "outputs": [
    {
     "name": "stdout",
     "output_type": "stream",
     "text": [
      "The mean absolute error for the trained model is  1809.7872995174453\n"
     ]
    }
   ],
   "source": [
    "y_pred_training = model.predict(X_train)\n",
    "mae = mean_absolute_error(y_train, y_pred_training)\n",
    "print(\"The mean absolute error for the trained model is \", mae)"
   ]
  },
  {
   "cell_type": "code",
   "execution_count": 15,
   "id": "a04b28e7",
   "metadata": {
    "execution": {
     "iopub.execute_input": "2023-01-05T11:05:24.366777Z",
     "iopub.status.busy": "2023-01-05T11:05:24.364917Z",
     "iopub.status.idle": "2023-01-05T11:05:24.381987Z",
     "shell.execute_reply": "2023-01-05T11:05:24.380220Z"
    },
    "papermill": {
     "duration": 0.055208,
     "end_time": "2023-01-05T11:05:24.387877",
     "exception": false,
     "start_time": "2023-01-05T11:05:24.332669",
     "status": "completed"
    },
    "tags": []
   },
   "outputs": [],
   "source": [
    "target = \"Price\"\n",
    "features = [\"Year\", \"Miles\", \"Name\"]\n",
    "X = df[features]\n",
    "y = df[target]"
   ]
  },
  {
   "cell_type": "code",
   "execution_count": 16,
   "id": "1d03db96",
   "metadata": {
    "execution": {
     "iopub.execute_input": "2023-01-05T11:05:24.430666Z",
     "iopub.status.busy": "2023-01-05T11:05:24.430227Z",
     "iopub.status.idle": "2023-01-05T11:05:24.436887Z",
     "shell.execute_reply": "2023-01-05T11:05:24.435637Z"
    },
    "papermill": {
     "duration": 0.023329,
     "end_time": "2023-01-05T11:05:24.439693",
     "exception": false,
     "start_time": "2023-01-05T11:05:24.416364",
     "status": "completed"
    },
    "tags": []
   },
   "outputs": [],
   "source": [
    "cutt_off_X = int(len(X) * 0.9)\n",
    "cutt_off_y = int(len(y) * 0.9)\n",
    "X_train1, X_test1 = X.iloc[:cutt_off_X], X.iloc[cutt_off_X:]\n",
    "y_train1, y_test1 = y.iloc[:cutt_off_y], X.iloc[cutt_off_y:]\n",
    "\n",
    "#Alternative Approach\n",
    "# X_train, y_train = X.iloc[:cutt_off_X], y.iloc[:cutt_off_y]\n",
    "# X_test, y_test = X.iloc[:cutt_off_y], y.iloc[cutt_off_y:]\n"
   ]
  },
  {
   "cell_type": "code",
   "execution_count": 17,
   "id": "69d896d3",
   "metadata": {
    "execution": {
     "iopub.execute_input": "2023-01-05T11:05:24.465387Z",
     "iopub.status.busy": "2023-01-05T11:05:24.464594Z",
     "iopub.status.idle": "2023-01-05T11:05:24.474499Z",
     "shell.execute_reply": "2023-01-05T11:05:24.473144Z"
    },
    "papermill": {
     "duration": 0.023705,
     "end_time": "2023-01-05T11:05:24.476859",
     "exception": false,
     "start_time": "2023-01-05T11:05:24.453154",
     "status": "completed"
    },
    "tags": []
   },
   "outputs": [
    {
     "name": "stdout",
     "output_type": "stream",
     "text": [
      "The value of y_mean is  20906.902676767677\n",
      "The value of baseline mean absolute error is  4440.5745168911335\n"
     ]
    }
   ],
   "source": [
    "y_mean1 = y_train1.mean()\n",
    "y_pred_baseline1 = [y_mean1] * len(y_train1)\n",
    "mae_baseline1 = mean_absolute_error(y_train1, y_pred_baseline1)\n",
    "print(\"The value of y_mean is \", y_mean1)\n",
    "print(\"The value of baseline mean absolute error is \", mae_baseline1)"
   ]
  },
  {
   "cell_type": "code",
   "execution_count": 18,
   "id": "b285264a",
   "metadata": {
    "execution": {
     "iopub.execute_input": "2023-01-05T11:05:24.498189Z",
     "iopub.status.busy": "2023-01-05T11:05:24.497166Z",
     "iopub.status.idle": "2023-01-05T11:05:25.671586Z",
     "shell.execute_reply": "2023-01-05T11:05:25.669900Z"
    },
    "papermill": {
     "duration": 1.190352,
     "end_time": "2023-01-05T11:05:25.676649",
     "exception": false,
     "start_time": "2023-01-05T11:05:24.486297",
     "status": "completed"
    },
    "tags": []
   },
   "outputs": [
    {
     "data": {
      "text/plain": [
       "Pipeline(steps=[('onehotencoder',\n",
       "                 OneHotEncoder(cols=['Name'], use_cat_names=True)),\n",
       "                ('simpleimputer', SimpleImputer()),\n",
       "                ('linearregression', LinearRegression())])"
      ]
     },
     "execution_count": 18,
     "metadata": {},
     "output_type": "execute_result"
    }
   ],
   "source": [
    "model = make_pipeline(\n",
    "    OneHotEncoder(use_cat_names=True), SimpleImputer(),\n",
    "    LinearRegression()\n",
    ")\n",
    "model.fit(X_train1, y_train1)"
   ]
  },
  {
   "cell_type": "code",
   "execution_count": 19,
   "id": "c0f26950",
   "metadata": {
    "execution": {
     "iopub.execute_input": "2023-01-05T11:05:25.729674Z",
     "iopub.status.busy": "2023-01-05T11:05:25.728870Z",
     "iopub.status.idle": "2023-01-05T11:05:26.029320Z",
     "shell.execute_reply": "2023-01-05T11:05:26.024743Z"
    },
    "papermill": {
     "duration": 0.332478,
     "end_time": "2023-01-05T11:05:26.034818",
     "exception": false,
     "start_time": "2023-01-05T11:05:25.702340",
     "status": "completed"
    },
    "tags": []
   },
   "outputs": [
    {
     "name": "stdout",
     "output_type": "stream",
     "text": [
      "The mean absolute error for the trained model is  1879.4401731143869\n"
     ]
    }
   ],
   "source": [
    "y_pred_training1 = model.predict(X_train1)\n",
    "mae1 = mean_absolute_error(y_train1, y_pred_training1)\n",
    "print(\"The mean absolute error for the trained model is \", mae1)"
   ]
  },
  {
   "cell_type": "markdown",
   "id": "6be94b60",
   "metadata": {
    "papermill": {
     "duration": 0.025067,
     "end_time": "2023-01-05T11:05:26.086857",
     "exception": false,
     "start_time": "2023-01-05T11:05:26.061790",
     "status": "completed"
    },
    "tags": []
   },
   "source": [
    "Predicting prices on test set"
   ]
  },
  {
   "cell_type": "code",
   "execution_count": 20,
   "id": "34c4d280",
   "metadata": {
    "execution": {
     "iopub.execute_input": "2023-01-05T11:05:26.138399Z",
     "iopub.status.busy": "2023-01-05T11:05:26.137665Z",
     "iopub.status.idle": "2023-01-05T11:05:26.184947Z",
     "shell.execute_reply": "2023-01-05T11:05:26.183206Z"
    },
    "papermill": {
     "duration": 0.078179,
     "end_time": "2023-01-05T11:05:26.189365",
     "exception": false,
     "start_time": "2023-01-05T11:05:26.111186",
     "status": "completed"
    },
    "tags": []
   },
   "outputs": [
    {
     "data": {
      "text/plain": [
       "0    21789.582751\n",
       "1    23644.091240\n",
       "2    25457.414072\n",
       "3    25398.457678\n",
       "4    17355.184800\n",
       "dtype: float64"
      ]
     },
     "execution_count": 20,
     "metadata": {},
     "output_type": "execute_result"
    }
   ],
   "source": [
    "y_pred_test = pd.Series(model.predict(X_test1))\n",
    "y_pred_test.head()\n"
   ]
  },
  {
   "cell_type": "markdown",
   "id": "e3fed827",
   "metadata": {
    "papermill": {
     "duration": 0.025416,
     "end_time": "2023-01-05T11:05:26.239322",
     "exception": false,
     "start_time": "2023-01-05T11:05:26.213906",
     "status": "completed"
    },
    "tags": []
   },
   "source": [
    "Traing data with the Ridge model"
   ]
  },
  {
   "cell_type": "code",
   "execution_count": 21,
   "id": "18379287",
   "metadata": {
    "execution": {
     "iopub.execute_input": "2023-01-05T11:05:26.293441Z",
     "iopub.status.busy": "2023-01-05T11:05:26.292696Z",
     "iopub.status.idle": "2023-01-05T11:05:26.993673Z",
     "shell.execute_reply": "2023-01-05T11:05:26.990114Z"
    },
    "papermill": {
     "duration": 0.73306,
     "end_time": "2023-01-05T11:05:26.998462",
     "exception": false,
     "start_time": "2023-01-05T11:05:26.265402",
     "status": "completed"
    },
    "tags": []
   },
   "outputs": [
    {
     "name": "stderr",
     "output_type": "stream",
     "text": [
      "/opt/conda/lib/python3.7/site-packages/sklearn/linear_model/_ridge.py:157: LinAlgWarning: Ill-conditioned matrix (rcond=1.77926e-17): result may not be accurate.\n",
      "  return linalg.solve(A, Xy, sym_pos=True, overwrite_a=True).T\n"
     ]
    },
    {
     "data": {
      "text/plain": [
       "Pipeline(steps=[('onehotencoder',\n",
       "                 OneHotEncoder(cols=['Name'], use_cat_names=True)),\n",
       "                ('simpleimputer', SimpleImputer()), ('ridge', Ridge())])"
      ]
     },
     "execution_count": 21,
     "metadata": {},
     "output_type": "execute_result"
    }
   ],
   "source": [
    "model1 = make_pipeline(\n",
    "    OneHotEncoder(use_cat_names=True), SimpleImputer(),\n",
    "    Ridge()\n",
    ")\n",
    "model1.fit(X_train1, y_train1)"
   ]
  },
  {
   "cell_type": "code",
   "execution_count": 22,
   "id": "041529fe",
   "metadata": {
    "execution": {
     "iopub.execute_input": "2023-01-05T11:05:27.093437Z",
     "iopub.status.busy": "2023-01-05T11:05:27.093058Z",
     "iopub.status.idle": "2023-01-05T11:05:27.374317Z",
     "shell.execute_reply": "2023-01-05T11:05:27.373029Z"
    },
    "papermill": {
     "duration": 0.339033,
     "end_time": "2023-01-05T11:05:27.378317",
     "exception": false,
     "start_time": "2023-01-05T11:05:27.039284",
     "status": "completed"
    },
    "tags": []
   },
   "outputs": [
    {
     "name": "stdout",
     "output_type": "stream",
     "text": [
      "The mean absolute error for the trained model is  1939.7382448931414\n"
     ]
    }
   ],
   "source": [
    "y_pred_training2 = model1.predict(X_train1)\n",
    "mae2 = mean_absolute_error(y_train1, y_pred_training2)\n",
    "print(\"The mean absolute error for the trained model is \", mae2)"
   ]
  },
  {
   "cell_type": "code",
   "execution_count": 23,
   "id": "4ed815a9",
   "metadata": {
    "execution": {
     "iopub.execute_input": "2023-01-05T11:05:27.432467Z",
     "iopub.status.busy": "2023-01-05T11:05:27.431699Z",
     "iopub.status.idle": "2023-01-05T11:05:27.502112Z",
     "shell.execute_reply": "2023-01-05T11:05:27.500786Z"
    },
    "papermill": {
     "duration": 0.102019,
     "end_time": "2023-01-05T11:05:27.506360",
     "exception": false,
     "start_time": "2023-01-05T11:05:27.404341",
     "status": "completed"
    },
    "tags": []
   },
   "outputs": [
    {
     "data": {
      "text/plain": [
       "0    21919.860252\n",
       "1    23644.012626\n",
       "2    25475.844934\n",
       "3    25473.017355\n",
       "4    17636.002830\n",
       "dtype: float64"
      ]
     },
     "execution_count": 23,
     "metadata": {},
     "output_type": "execute_result"
    }
   ],
   "source": [
    "y_pred_test = pd.Series(model1.predict(X_test1))\n",
    "y_pred_test.head()\n"
   ]
  },
  {
   "cell_type": "markdown",
   "id": "5e435f5e",
   "metadata": {
    "papermill": {
     "duration": 0.026169,
     "end_time": "2023-01-05T11:05:27.558693",
     "exception": false,
     "start_time": "2023-01-05T11:05:27.532524",
     "status": "completed"
    },
    "tags": []
   },
   "source": [
    "Make a function for the prediction"
   ]
  },
  {
   "cell_type": "code",
   "execution_count": 24,
   "id": "1d0f1fee",
   "metadata": {
    "execution": {
     "iopub.execute_input": "2023-01-05T11:05:27.615995Z",
     "iopub.status.busy": "2023-01-05T11:05:27.614814Z",
     "iopub.status.idle": "2023-01-05T11:05:27.622683Z",
     "shell.execute_reply": "2023-01-05T11:05:27.621576Z"
    },
    "papermill": {
     "duration": 0.039241,
     "end_time": "2023-01-05T11:05:27.625179",
     "exception": false,
     "start_time": "2023-01-05T11:05:27.585938",
     "status": "completed"
    },
    "tags": []
   },
   "outputs": [],
   "source": [
    "def make_prediction(Year, Miles, Name):\n",
    "    Data = {\n",
    "        \"Year\": Year,\n",
    "        \"Miles\": Miles,\n",
    "        \"Name\": Name\n",
    "    }\n",
    "    df = pd.DataFrame(Data, index=[0])\n",
    "    prediction_lr = model.predict(df).round(2)[0]\n",
    "    prediction_ridge = model1.predict(df).round(2)[0]\n",
    "    return f\"Predicted car price for lr_model is ${prediction_lr} & for ridge is ${prediction_ridge}\""
   ]
  },
  {
   "cell_type": "code",
   "execution_count": 25,
   "id": "215d6b18",
   "metadata": {
    "execution": {
     "iopub.execute_input": "2023-01-05T11:05:27.647966Z",
     "iopub.status.busy": "2023-01-05T11:05:27.646414Z",
     "iopub.status.idle": "2023-01-05T11:05:27.656176Z",
     "shell.execute_reply": "2023-01-05T11:05:27.655052Z"
    },
    "papermill": {
     "duration": 0.023554,
     "end_time": "2023-01-05T11:05:27.658641",
     "exception": false,
     "start_time": "2023-01-05T11:05:27.635087",
     "status": "completed"
    },
    "tags": []
   },
   "outputs": [
    {
     "data": {
      "text/plain": [
       "0     Chevrolet Trax\n",
       "1        GMC Terrain\n",
       "2      Jeep Wrangler\n",
       "3      Jeep Renegade\n",
       "4              BMW X\n",
       "5       Buick Encore\n",
       "6       Jeep Compass\n",
       "7       Jeep Compass\n",
       "8       Jeep Patriot\n",
       "9       Jeep Compass\n",
       "Name: Name, dtype: object"
      ]
     },
     "execution_count": 25,
     "metadata": {},
     "output_type": "execute_result"
    }
   ],
   "source": [
    "df[\"Name\"].head(10)"
   ]
  },
  {
   "cell_type": "code",
   "execution_count": 26,
   "id": "883afef0",
   "metadata": {
    "execution": {
     "iopub.execute_input": "2023-01-05T11:05:27.681169Z",
     "iopub.status.busy": "2023-01-05T11:05:27.680281Z",
     "iopub.status.idle": "2023-01-05T11:05:27.707834Z",
     "shell.execute_reply": "2023-01-05T11:05:27.706339Z"
    },
    "papermill": {
     "duration": 0.041896,
     "end_time": "2023-01-05T11:05:27.710824",
     "exception": false,
     "start_time": "2023-01-05T11:05:27.668928",
     "status": "completed"
    },
    "tags": []
   },
   "outputs": [
    {
     "data": {
      "text/plain": [
       "'Predicted car price for lr_model is $28816.81 & for ridge is $26971.51'"
      ]
     },
     "execution_count": 26,
     "metadata": {},
     "output_type": "execute_result"
    }
   ],
   "source": [
    "make_prediction(2020, 45000, \"GMC Terrain\")"
   ]
  },
  {
   "cell_type": "code",
   "execution_count": 27,
   "id": "43241a65",
   "metadata": {
    "execution": {
     "iopub.execute_input": "2023-01-05T11:05:27.733298Z",
     "iopub.status.busy": "2023-01-05T11:05:27.732871Z",
     "iopub.status.idle": "2023-01-05T11:05:27.760246Z",
     "shell.execute_reply": "2023-01-05T11:05:27.758995Z"
    },
    "papermill": {
     "duration": 0.041847,
     "end_time": "2023-01-05T11:05:27.763013",
     "exception": false,
     "start_time": "2023-01-05T11:05:27.721166",
     "status": "completed"
    },
    "tags": []
   },
   "outputs": [
    {
     "data": {
      "text/plain": [
       "'Predicted car price for lr_model is $24697.97 & for ridge is $22718.96'"
      ]
     },
     "execution_count": 27,
     "metadata": {},
     "output_type": "execute_result"
    }
   ],
   "source": [
    "make_prediction(2012, 80000,\"Jeep Wrangler\")\n"
   ]
  },
  {
   "cell_type": "code",
   "execution_count": 28,
   "id": "30d8dcfc",
   "metadata": {
    "execution": {
     "iopub.execute_input": "2023-01-05T11:05:27.785622Z",
     "iopub.status.busy": "2023-01-05T11:05:27.785165Z",
     "iopub.status.idle": "2023-01-05T11:05:27.819650Z",
     "shell.execute_reply": "2023-01-05T11:05:27.818160Z"
    },
    "papermill": {
     "duration": 0.04943,
     "end_time": "2023-01-05T11:05:27.822850",
     "exception": false,
     "start_time": "2023-01-05T11:05:27.773420",
     "status": "completed"
    },
    "tags": []
   },
   "outputs": [
    {
     "data": {
      "text/plain": [
       "'Predicted car price for lr_model is $29169.85 & for ridge is $27336.01'"
      ]
     },
     "execution_count": 28,
     "metadata": {},
     "output_type": "execute_result"
    }
   ],
   "source": [
    "make_prediction(2018, 42000, \"Chevrolet Trax\")\n"
   ]
  }
 ],
 "metadata": {
  "kernelspec": {
   "display_name": "Python 3",
   "language": "python",
   "name": "python3"
  },
  "language_info": {
   "codemirror_mode": {
    "name": "ipython",
    "version": 3
   },
   "file_extension": ".py",
   "mimetype": "text/x-python",
   "name": "python",
   "nbconvert_exporter": "python",
   "pygments_lexer": "ipython3",
   "version": "3.7.12"
  },
  "papermill": {
   "default_parameters": {},
   "duration": 18.496881,
   "end_time": "2023-01-05T11:05:28.758978",
   "environment_variables": {},
   "exception": null,
   "input_path": "__notebook__.ipynb",
   "output_path": "__notebook__.ipynb",
   "parameters": {},
   "start_time": "2023-01-05T11:05:10.262097",
   "version": "2.3.4"
  }
 },
 "nbformat": 4,
 "nbformat_minor": 5
}
