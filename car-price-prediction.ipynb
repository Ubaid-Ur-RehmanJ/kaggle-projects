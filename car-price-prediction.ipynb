{
 "cells": [
  {
   "cell_type": "code",
   "execution_count": 1,
   "id": "7665d09e",
   "metadata": {
    "_cell_guid": "b1076dfc-b9ad-4769-8c92-a6c4dae69d19",
    "_uuid": "8f2839f25d086af736a60e9eeb907d3b93b6e0e5",
    "execution": {
     "iopub.execute_input": "2023-01-05T10:35:41.434416Z",
     "iopub.status.busy": "2023-01-05T10:35:41.433863Z",
     "iopub.status.idle": "2023-01-05T10:35:41.453686Z",
     "shell.execute_reply": "2023-01-05T10:35:41.452521Z"
    },
    "papermill": {
     "duration": 0.032681,
     "end_time": "2023-01-05T10:35:41.456457",
     "exception": false,
     "start_time": "2023-01-05T10:35:41.423776",
     "status": "completed"
    },
    "tags": []
   },
   "outputs": [
    {
     "name": "stdout",
     "output_type": "stream",
     "text": [
      "/kaggle/input/carvana-predict-car-prices/carvana.csv\n"
     ]
    }
   ],
   "source": [
    "# This Python 3 environment comes with many helpful analytics libraries installed\n",
    "# It is defined by the kaggle/python Docker image: https://github.com/kaggle/docker-python\n",
    "# For example, here's several helpful packages to load\n",
    "\n",
    "import numpy as np # linear algebra\n",
    "import pandas as pd # data processing, CSV file I/O (e.g. pd.read_csv)\n",
    "\n",
    "# Input data files are available in the read-only \"../input/\" directory\n",
    "# For example, running this (by clicking run or pressing Shift+Enter) will list all files under the input directory\n",
    "\n",
    "import os\n",
    "for dirname, _, filenames in os.walk('/kaggle/input'):\n",
    "    for filename in filenames:\n",
    "        print(os.path.join(dirname, filename))\n",
    "\n",
    "# You can write up to 20GB to the current directory (/kaggle/working/) that gets preserved as output when you create a version using \"Save & Run All\" \n",
    "# You can also write temporary files to /kaggle/temp/, but they won't be saved outside of the current session"
   ]
  },
  {
   "cell_type": "code",
   "execution_count": 2,
   "id": "05e09005",
   "metadata": {
    "execution": {
     "iopub.execute_input": "2023-01-05T10:35:41.469121Z",
     "iopub.status.busy": "2023-01-05T10:35:41.468687Z",
     "iopub.status.idle": "2023-01-05T10:35:44.309698Z",
     "shell.execute_reply": "2023-01-05T10:35:44.308682Z"
    },
    "papermill": {
     "duration": 2.849978,
     "end_time": "2023-01-05T10:35:44.312352",
     "exception": false,
     "start_time": "2023-01-05T10:35:41.462374",
     "status": "completed"
    },
    "tags": []
   },
   "outputs": [],
   "source": [
    "#importing libraries\n",
    "import pandas as pd\n",
    "import numpy as np\n",
    "import matplotlib.pyplot as plt\n",
    "import plotly.express as px\n",
    "import seaborn as sns\n",
    "from sklearn.linear_model import LinearRegression, Ridge\n",
    "from sklearn.metrics import mean_absolute_error"
   ]
  },
  {
   "cell_type": "code",
   "execution_count": 3,
   "id": "5e639638",
   "metadata": {
    "execution": {
     "iopub.execute_input": "2023-01-05T10:35:44.324393Z",
     "iopub.status.busy": "2023-01-05T10:35:44.323941Z",
     "iopub.status.idle": "2023-01-05T10:35:44.385644Z",
     "shell.execute_reply": "2023-01-05T10:35:44.384275Z"
    },
    "papermill": {
     "duration": 0.070463,
     "end_time": "2023-01-05T10:35:44.387989",
     "exception": false,
     "start_time": "2023-01-05T10:35:44.317526",
     "status": "completed"
    },
    "tags": []
   },
   "outputs": [
    {
     "data": {
      "text/html": [
       "<div>\n",
       "<style scoped>\n",
       "    .dataframe tbody tr th:only-of-type {\n",
       "        vertical-align: middle;\n",
       "    }\n",
       "\n",
       "    .dataframe tbody tr th {\n",
       "        vertical-align: top;\n",
       "    }\n",
       "\n",
       "    .dataframe thead th {\n",
       "        text-align: right;\n",
       "    }\n",
       "</style>\n",
       "<table border=\"1\" class=\"dataframe\">\n",
       "  <thead>\n",
       "    <tr style=\"text-align: right;\">\n",
       "      <th></th>\n",
       "      <th>Name</th>\n",
       "      <th>Year</th>\n",
       "      <th>Miles</th>\n",
       "      <th>Price</th>\n",
       "    </tr>\n",
       "  </thead>\n",
       "  <tbody>\n",
       "    <tr>\n",
       "      <th>0</th>\n",
       "      <td>Chevrolet Trax</td>\n",
       "      <td>2018</td>\n",
       "      <td>41946</td>\n",
       "      <td>16990</td>\n",
       "    </tr>\n",
       "    <tr>\n",
       "      <th>1</th>\n",
       "      <td>GMC Terrain</td>\n",
       "      <td>2020</td>\n",
       "      <td>45328</td>\n",
       "      <td>23990</td>\n",
       "    </tr>\n",
       "    <tr>\n",
       "      <th>2</th>\n",
       "      <td>Jeep Wrangler</td>\n",
       "      <td>2012</td>\n",
       "      <td>81068</td>\n",
       "      <td>21590</td>\n",
       "    </tr>\n",
       "    <tr>\n",
       "      <th>3</th>\n",
       "      <td>Jeep Renegade</td>\n",
       "      <td>2019</td>\n",
       "      <td>35372</td>\n",
       "      <td>21590</td>\n",
       "    </tr>\n",
       "    <tr>\n",
       "      <th>4</th>\n",
       "      <td>BMW X</td>\n",
       "      <td>20173</td>\n",
       "      <td>68992</td>\n",
       "      <td>22990</td>\n",
       "    </tr>\n",
       "  </tbody>\n",
       "</table>\n",
       "</div>"
      ],
      "text/plain": [
       "              Name   Year  Miles  Price\n",
       "0   Chevrolet Trax   2018  41946  16990\n",
       "1      GMC Terrain   2020  45328  23990\n",
       "2    Jeep Wrangler   2012  81068  21590\n",
       "3    Jeep Renegade   2019  35372  21590\n",
       "4            BMW X  20173  68992  22990"
      ]
     },
     "execution_count": 3,
     "metadata": {},
     "output_type": "execute_result"
    }
   ],
   "source": [
    "df = pd.read_csv(\"/kaggle/input/carvana-predict-car-prices/carvana.csv\")\n",
    "df.head()"
   ]
  },
  {
   "cell_type": "code",
   "execution_count": 4,
   "id": "ab45c28e",
   "metadata": {
    "execution": {
     "iopub.execute_input": "2023-01-05T10:35:44.400732Z",
     "iopub.status.busy": "2023-01-05T10:35:44.400021Z",
     "iopub.status.idle": "2023-01-05T10:35:44.406192Z",
     "shell.execute_reply": "2023-01-05T10:35:44.405118Z"
    },
    "papermill": {
     "duration": 0.015102,
     "end_time": "2023-01-05T10:35:44.408537",
     "exception": false,
     "start_time": "2023-01-05T10:35:44.393435",
     "status": "completed"
    },
    "tags": []
   },
   "outputs": [
    {
     "data": {
      "text/plain": [
       "(22000, 4)"
      ]
     },
     "execution_count": 4,
     "metadata": {},
     "output_type": "execute_result"
    }
   ],
   "source": [
    "df.shape"
   ]
  },
  {
   "cell_type": "code",
   "execution_count": 5,
   "id": "0e8cb691",
   "metadata": {
    "execution": {
     "iopub.execute_input": "2023-01-05T10:35:44.420819Z",
     "iopub.status.busy": "2023-01-05T10:35:44.420416Z",
     "iopub.status.idle": "2023-01-05T10:35:44.431600Z",
     "shell.execute_reply": "2023-01-05T10:35:44.430482Z"
    },
    "papermill": {
     "duration": 0.020106,
     "end_time": "2023-01-05T10:35:44.433954",
     "exception": false,
     "start_time": "2023-01-05T10:35:44.413848",
     "status": "completed"
    },
    "tags": []
   },
   "outputs": [
    {
     "data": {
      "text/plain": [
       "Name     0\n",
       "Year     0\n",
       "Miles    0\n",
       "Price    0\n",
       "dtype: int64"
      ]
     },
     "execution_count": 5,
     "metadata": {},
     "output_type": "execute_result"
    }
   ],
   "source": [
    "df.isnull().sum()"
   ]
  },
  {
   "cell_type": "code",
   "execution_count": 6,
   "id": "52756f52",
   "metadata": {
    "execution": {
     "iopub.execute_input": "2023-01-05T10:35:44.446420Z",
     "iopub.status.busy": "2023-01-05T10:35:44.445980Z",
     "iopub.status.idle": "2023-01-05T10:35:44.464869Z",
     "shell.execute_reply": "2023-01-05T10:35:44.463147Z"
    },
    "papermill": {
     "duration": 0.028011,
     "end_time": "2023-01-05T10:35:44.467396",
     "exception": false,
     "start_time": "2023-01-05T10:35:44.439385",
     "status": "completed"
    },
    "tags": []
   },
   "outputs": [
    {
     "data": {
      "text/plain": [
       "Name      416\n",
       "Year      211\n",
       "Miles    8836\n",
       "Price     866\n",
       "dtype: int64"
      ]
     },
     "execution_count": 6,
     "metadata": {},
     "output_type": "execute_result"
    }
   ],
   "source": [
    "df.nunique()"
   ]
  },
  {
   "cell_type": "code",
   "execution_count": 7,
   "id": "ec57b815",
   "metadata": {
    "execution": {
     "iopub.execute_input": "2023-01-05T10:35:44.480595Z",
     "iopub.status.busy": "2023-01-05T10:35:44.480197Z",
     "iopub.status.idle": "2023-01-05T10:35:44.499177Z",
     "shell.execute_reply": "2023-01-05T10:35:44.498000Z"
    },
    "papermill": {
     "duration": 0.028675,
     "end_time": "2023-01-05T10:35:44.502025",
     "exception": false,
     "start_time": "2023-01-05T10:35:44.473350",
     "status": "completed"
    },
    "tags": []
   },
   "outputs": [
    {
     "data": {
      "text/html": [
       "<div>\n",
       "<style scoped>\n",
       "    .dataframe tbody tr th:only-of-type {\n",
       "        vertical-align: middle;\n",
       "    }\n",
       "\n",
       "    .dataframe tbody tr th {\n",
       "        vertical-align: top;\n",
       "    }\n",
       "\n",
       "    .dataframe thead th {\n",
       "        text-align: right;\n",
       "    }\n",
       "</style>\n",
       "<table border=\"1\" class=\"dataframe\">\n",
       "  <thead>\n",
       "    <tr style=\"text-align: right;\">\n",
       "      <th></th>\n",
       "      <th>Year</th>\n",
       "      <th>Miles</th>\n",
       "      <th>Price</th>\n",
       "    </tr>\n",
       "  </thead>\n",
       "  <tbody>\n",
       "    <tr>\n",
       "      <th>Year</th>\n",
       "      <td>1.000000</td>\n",
       "      <td>-0.028941</td>\n",
       "      <td>0.141570</td>\n",
       "    </tr>\n",
       "    <tr>\n",
       "      <th>Miles</th>\n",
       "      <td>-0.028941</td>\n",
       "      <td>1.000000</td>\n",
       "      <td>-0.474124</td>\n",
       "    </tr>\n",
       "    <tr>\n",
       "      <th>Price</th>\n",
       "      <td>0.141570</td>\n",
       "      <td>-0.474124</td>\n",
       "      <td>1.000000</td>\n",
       "    </tr>\n",
       "  </tbody>\n",
       "</table>\n",
       "</div>"
      ],
      "text/plain": [
       "           Year     Miles     Price\n",
       "Year   1.000000 -0.028941  0.141570\n",
       "Miles -0.028941  1.000000 -0.474124\n",
       "Price  0.141570 -0.474124  1.000000"
      ]
     },
     "execution_count": 7,
     "metadata": {},
     "output_type": "execute_result"
    }
   ],
   "source": [
    "corr = df.corr()\n",
    "corr"
   ]
  },
  {
   "cell_type": "code",
   "execution_count": 8,
   "id": "161ab9bc",
   "metadata": {
    "execution": {
     "iopub.execute_input": "2023-01-05T10:35:44.516015Z",
     "iopub.status.busy": "2023-01-05T10:35:44.514891Z",
     "iopub.status.idle": "2023-01-05T10:35:44.828921Z",
     "shell.execute_reply": "2023-01-05T10:35:44.827727Z"
    },
    "papermill": {
     "duration": 0.323586,
     "end_time": "2023-01-05T10:35:44.831406",
     "exception": false,
     "start_time": "2023-01-05T10:35:44.507820",
     "status": "completed"
    },
    "tags": []
   },
   "outputs": [
    {
     "data": {
      "text/plain": [
       "<AxesSubplot:>"
      ]
     },
     "execution_count": 8,
     "metadata": {},
     "output_type": "execute_result"
    },
    {
     "data": {
      "image/png": "[encoded data removed]",
      "text/plain": [
       "<Figure size 432x288 with 2 Axes>"
      ]
     },
     "metadata": {
      "needs_background": "light"
     },
     "output_type": "display_data"
    }
   ],
   "source": [
    "sns.heatmap(corr)"
   ]
  },
  {
   "cell_type": "markdown",
   "id": "6d270b48",
   "metadata": {
    "papermill": {
     "duration": 0.00571,
     "end_time": "2023-01-05T10:35:44.843215",
     "exception": false,
     "start_time": "2023-01-05T10:35:44.837505",
     "status": "completed"
    },
    "tags": []
   },
   "source": [
    "**Building Machine Learning Model******"
   ]
  },
  {
   "cell_type": "code",
   "execution_count": 9,
   "id": "75ad0cb9",
   "metadata": {
    "execution": {
     "iopub.execute_input": "2023-01-05T10:35:44.859019Z",
     "iopub.status.busy": "2023-01-05T10:35:44.858235Z",
     "iopub.status.idle": "2023-01-05T10:35:44.869421Z",
     "shell.execute_reply": "2023-01-05T10:35:44.868080Z"
    },
    "papermill": {
     "duration": 0.021657,
     "end_time": "2023-01-05T10:35:44.872398",
     "exception": false,
     "start_time": "2023-01-05T10:35:44.850741",
     "status": "completed"
    },
    "tags": []
   },
   "outputs": [],
   "source": [
    "target = \"Price\"\n",
    "features = [\"Year\", \"Miles\", \"Name\"]\n",
    "X_train = df[features]\n",
    "y_train = df[target]"
   ]
  },
  {
   "cell_type": "markdown",
   "id": "d0479b03",
   "metadata": {
    "papermill": {
     "duration": 0.006168,
     "end_time": "2023-01-05T10:35:44.884770",
     "exception": false,
     "start_time": "2023-01-05T10:35:44.878602",
     "status": "completed"
    },
    "tags": []
   },
   "source": [
    "Baseline Model"
   ]
  },
  {
   "cell_type": "code",
   "execution_count": 10,
   "id": "07bf01bf",
   "metadata": {
    "execution": {
     "iopub.execute_input": "2023-01-05T10:35:44.898961Z",
     "iopub.status.busy": "2023-01-05T10:35:44.898215Z",
     "iopub.status.idle": "2023-01-05T10:35:44.907613Z",
     "shell.execute_reply": "2023-01-05T10:35:44.906154Z"
    },
    "papermill": {
     "duration": 0.019544,
     "end_time": "2023-01-05T10:35:44.910373",
     "exception": false,
     "start_time": "2023-01-05T10:35:44.890829",
     "status": "completed"
    },
    "tags": []
   },
   "outputs": [
    {
     "name": "stdout",
     "output_type": "stream",
     "text": [
      "The value of y_mean is  20707.285136363636\n",
      "The value of baseline mean absolute error is  4287.342693004132\n"
     ]
    }
   ],
   "source": [
    "y_mean = y_train.mean()\n",
    "y_pred_baseline = [y_mean] * len(y_train)\n",
    "mae_baseline = mean_absolute_error(y_train, y_pred_baseline)\n",
    "print(\"The value of y_mean is \", y_mean)\n",
    "print(\"The value of baseline mean absolute error is \", mae_baseline)"
   ]
  },
  {
   "cell_type": "code",
   "execution_count": 11,
   "id": "0708d5eb",
   "metadata": {
    "execution": {
     "iopub.execute_input": "2023-01-05T10:35:44.924424Z",
     "iopub.status.busy": "2023-01-05T10:35:44.923711Z",
     "iopub.status.idle": "2023-01-05T10:35:44.928440Z",
     "shell.execute_reply": "2023-01-05T10:35:44.927285Z"
    },
    "papermill": {
     "duration": 0.014313,
     "end_time": "2023-01-05T10:35:44.930811",
     "exception": false,
     "start_time": "2023-01-05T10:35:44.916498",
     "status": "completed"
    },
    "tags": []
   },
   "outputs": [],
   "source": [
    "# plt.scatter(X_train, y_train)\n",
    "# # plt.xlabel()\n",
    "# # plt.y_label()"
   ]
  },
  {
   "cell_type": "markdown",
   "id": "10f41cc4",
   "metadata": {
    "papermill": {
     "duration": 0.005672,
     "end_time": "2023-01-05T10:35:44.942686",
     "exception": false,
     "start_time": "2023-01-05T10:35:44.937014",
     "status": "completed"
    },
    "tags": []
   },
   "source": [
    "We will use the simple imputer i.e transformer it will remove the nan values with the mean"
   ]
  },
  {
   "cell_type": "markdown",
   "id": "320186aa",
   "metadata": {
    "papermill": {
     "duration": 0.005649,
     "end_time": "2023-01-05T10:35:44.954203",
     "exception": false,
     "start_time": "2023-01-05T10:35:44.948554",
     "status": "completed"
    },
    "tags": []
   },
   "source": [
    "Similarly we will use onehotencoder that will change the name columns to categorical variable"
   ]
  },
  {
   "cell_type": "code",
   "execution_count": 12,
   "id": "8a22241a",
   "metadata": {
    "execution": {
     "iopub.execute_input": "2023-01-05T10:35:44.967809Z",
     "iopub.status.busy": "2023-01-05T10:35:44.967370Z",
     "iopub.status.idle": "2023-01-05T10:35:45.284800Z",
     "shell.execute_reply": "2023-01-05T10:35:45.283499Z"
    },
    "papermill": {
     "duration": 0.327735,
     "end_time": "2023-01-05T10:35:45.287850",
     "exception": false,
     "start_time": "2023-01-05T10:35:44.960115",
     "status": "completed"
    },
    "tags": []
   },
   "outputs": [],
   "source": [
    "from sklearn.pipeline import make_pipeline\n",
    "from sklearn.impute import SimpleImputer\n",
    "from category_encoders import OneHotEncoder"
   ]
  },
  {
   "cell_type": "code",
   "execution_count": 13,
   "id": "2dd25550",
   "metadata": {
    "execution": {
     "iopub.execute_input": "2023-01-05T10:35:45.302275Z",
     "iopub.status.busy": "2023-01-05T10:35:45.301830Z",
     "iopub.status.idle": "2023-01-05T10:35:46.547403Z",
     "shell.execute_reply": "2023-01-05T10:35:46.545820Z"
    },
    "papermill": {
     "duration": 1.257135,
     "end_time": "2023-01-05T10:35:46.551578",
     "exception": false,
     "start_time": "2023-01-05T10:35:45.294443",
     "status": "completed"
    },
    "tags": []
   },
   "outputs": [
    {
     "data": {
      "text/plain": [
       "Pipeline(steps=[('onehotencoder',\n",
       "                 OneHotEncoder(cols=['Name'], use_cat_names=True)),\n",
       "                ('simpleimputer', SimpleImputer()),\n",
       "                ('linearregression', LinearRegression())])"
      ]
     },
     "execution_count": 13,
     "metadata": {},
     "output_type": "execute_result"
    }
   ],
   "source": [
    "model = make_pipeline(\n",
    "    OneHotEncoder(use_cat_names=True), SimpleImputer(),\n",
    "    LinearRegression()\n",
    ")\n",
    "model.fit(X_train, y_train)"
   ]
  },
  {
   "cell_type": "code",
   "execution_count": 14,
   "id": "b7f6155f",
   "metadata": {
    "execution": {
     "iopub.execute_input": "2023-01-05T10:35:46.586557Z",
     "iopub.status.busy": "2023-01-05T10:35:46.585843Z",
     "iopub.status.idle": "2023-01-05T10:35:46.917702Z",
     "shell.execute_reply": "2023-01-05T10:35:46.916292Z"
    },
    "papermill": {
     "duration": 0.355025,
     "end_time": "2023-01-05T10:35:46.922934",
     "exception": false,
     "start_time": "2023-01-05T10:35:46.567909",
     "status": "completed"
    },
    "tags": []
   },
   "outputs": [
    {
     "name": "stdout",
     "output_type": "stream",
     "text": [
      "The mean absolute error for the trained model is  1809.7872995174453\n"
     ]
    }
   ],
   "source": [
    "y_pred_training = model.predict(X_train)\n",
    "mae = mean_absolute_error(y_train, y_pred_training)\n",
    "print(\"The mean absolute error for the trained model is \", mae)"
   ]
  },
  {
   "cell_type": "code",
   "execution_count": null,
   "id": "c48485cb",
   "metadata": {
    "papermill": {
     "duration": 0.016344,
     "end_time": "2023-01-05T10:35:46.955661",
     "exception": false,
     "start_time": "2023-01-05T10:35:46.939317",
     "status": "completed"
    },
    "tags": []
   },
   "outputs": [],
   "source": []
  }
 ],
 "metadata": {
  "kernelspec": {
   "display_name": "Python 3",
   "language": "python",
   "name": "python3"
  },
  "language_info": {
   "codemirror_mode": {
    "name": "ipython",
    "version": 3
   },
   "file_extension": ".py",
   "mimetype": "text/x-python",
   "name": "python",
   "nbconvert_exporter": "python",
   "pygments_lexer": "ipython3",
   "version": "3.7.12"
  },
  "papermill": {
   "default_parameters": {},
   "duration": 15.735475,
   "end_time": "2023-01-05T10:35:47.903673",
   "environment_variables": {},
   "exception": null,
   "input_path": "__notebook__.ipynb",
   "output_path": "__notebook__.ipynb",
   "parameters": {},
   "start_time": "2023-01-05T10:35:32.168198",
   "version": "2.3.4"
  }
 },
 "nbformat": 4,
 "nbformat_minor": 5
}
